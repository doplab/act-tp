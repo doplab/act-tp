{
  "cells": [
    {
      "cell_type": "code",
      "source": [],
      "outputs": [],
      "execution_count": null,
      "metadata": {}
    },
    {
      "cell_type": "markdown",
      "source": [
        "# Exercice 1 - Conversions 10 -> 2  \n",
        "\n",
        "Dans cet exercice, vous devrez convertir des nombres en base 10 vers la base 2. Pour vérifier votre réponse, entrez votre réponse entre les `\" \"` de chaque question et cliquez sur `run` en haut de l'écran."
      ],
      "metadata": {
        "deletable": false,
        "editable": false,
        "nbgrader": {
          "cell_type": "markdown",
          "checksum": "bfb5e0f334787ee8a375cb931393ddf4",
          "grade": false,
          "grade_id": "ex-1",
          "locked": true,
          "schema_version": 3,
          "solution": false,
          "task": false
        }
      }
    },
    {
      "cell_type": "markdown",
      "source": [
        "### Exercice 1 - a  \n",
        "Convertissez le nombre 10 (base 10) en base 2"
      ],
      "metadata": {
        "deletable": false,
        "editable": false,
        "nbgrader": {
          "cell_type": "markdown",
          "checksum": "877815441e0fcae7296ed88a741f1d45",
          "grade": false,
          "grade_id": "1-a",
          "locked": true,
          "schema_version": 3,
          "solution": false,
          "task": false
        }
      }
    },
    {
      "cell_type": "code",
      "source": [
        "from Assertion import check_1_a\n",
        "\n",
        "# -----------------\n",
        "# VOTRE RÉPONSE ICI\n",
        "réponse = \"1010\"\n",
        "# -----------------\n",
        "\n",
        "check_1_a(réponse)"
      ],
      "outputs": [
        {
          "output_type": "stream",
          "name": "stdout",
          "text": [
            "\u001b[32m\"Bonne réponse!\"\u001b[0m\n"
          ]
        }
      ],
      "execution_count": 3,
      "metadata": {}
    },
    {
      "cell_type": "markdown",
      "source": [
        "### Exercice 1 - b  \n",
        "\n",
        "Convertissez le nombre 45 (base 10) en base 2"
      ],
      "metadata": {
        "deletable": false,
        "editable": false,
        "nbgrader": {
          "cell_type": "markdown",
          "checksum": "c771226b4106b0fb24f6a798ae6db491",
          "grade": false,
          "grade_id": "1-b",
          "locked": true,
          "schema_version": 3,
          "solution": false,
          "task": false
        }
      }
    },
    {
      "cell_type": "code",
      "source": [
        "from Assertion import check_1_b\n",
        "\n",
        "# -----------------\n",
        "# VOTRE RÉPONSE ICI\n",
        "réponse = \"101101\"\n",
        "# -----------------\n",
        "\n",
        "check_1_b(réponse)"
      ],
      "outputs": [
        {
          "output_type": "stream",
          "name": "stdout",
          "text": [
            "\u001b[32m\"Bonne réponse!\"\u001b[0m\n"
          ]
        }
      ],
      "execution_count": 2,
      "metadata": {}
    },
    {
      "cell_type": "markdown",
      "source": [
        "### Exercice 1 - c  \n",
        "\n",
        "Convertissez le nombre 173 (base 10) en base 2"
      ],
      "metadata": {
        "deletable": false,
        "editable": false,
        "nbgrader": {
          "cell_type": "markdown",
          "checksum": "3005f75068e728e9d189fff3183de7ea",
          "grade": false,
          "grade_id": "1-c",
          "locked": true,
          "schema_version": 3,
          "solution": false,
          "task": false
        }
      }
    },
    {
      "cell_type": "code",
      "source": [
        "from Assertion import check_1_c\n",
        "\n",
        "# -----------------\n",
        "# VOTRE RÉPONSE ICI\n",
        "réponse = \"10101101\"\n",
        "# -----------------\n",
        "\n",
        "check_1_c(réponse)"
      ],
      "outputs": [
        {
          "output_type": "stream",
          "name": "stdout",
          "text": [
            "\u001b[32m\"Bonne réponse!\"\u001b[0m\n"
          ]
        }
      ],
      "execution_count": 1,
      "metadata": {}
    },
    {
      "cell_type": "code",
      "source": [],
      "outputs": [],
      "execution_count": null,
      "metadata": {}
    }
  ],
  "metadata": {
    "kernelspec": {
      "name": "python3",
      "language": "python",
      "display_name": "Python 3"
    },
    "language_info": {
      "name": "python",
      "version": "3.7.3",
      "mimetype": "text/x-python",
      "codemirror_mode": {
        "name": "ipython",
        "version": 3
      },
      "pygments_lexer": "ipython3",
      "nbconvert_exporter": "python",
      "file_extension": ".py"
    },
    "toc": {
      "toc_position": {},
      "skip_h1_title": false,
      "number_sections": false,
      "title_cell": "Table of Contents",
      "toc_window_display": false,
      "base_numbering": 1,
      "toc_section_display": false,
      "title_sidebar": "Contents",
      "toc_cell": false,
      "nav_menu": {},
      "sideBar": false
    },
    "kernel_info": {
      "name": "python3"
    },
    "nteract": {
      "version": "0.15.0"
    }
  },
  "nbformat": 4,
  "nbformat_minor": 2
}