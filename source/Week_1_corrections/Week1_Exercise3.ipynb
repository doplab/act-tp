{
  "cells": [
    {
      "cell_type": "code",
      "source": [],
      "outputs": [],
      "execution_count": null,
      "metadata": {}
    },
    {
      "cell_type": "markdown",
      "source": [
        "# Exercice 3 - Conversions [3, 16] -> 10  \n",
        "\n",
        "Dans cet exercice, vous devrez convertir des nombres en base 3 à 16 vers la base 10"
      ],
      "metadata": {
        "deletable": false,
        "editable": false,
        "nbgrader": {
          "cell_type": "markdown",
          "checksum": "0e37a8cdecd537fedf921725ed9f3d1a",
          "grade": false,
          "grade_id": "ex-3",
          "locked": true,
          "schema_version": 3,
          "solution": false,
          "task": false
        }
      }
    },
    {
      "cell_type": "markdown",
      "source": [
        "### Exercice 3 - a  \n",
        "\n",
        "Convertissez le nombre 10110 (base 2) en base 10"
      ],
      "metadata": {
        "deletable": false,
        "editable": false,
        "nbgrader": {
          "cell_type": "markdown",
          "checksum": "d2bc69d0020e922568c96834ef97a056",
          "grade": false,
          "grade_id": "3-a",
          "locked": true,
          "schema_version": 3,
          "solution": false,
          "task": false
        }
      }
    },
    {
      "cell_type": "code",
      "source": [
        "from Assertion import check_3_a\n",
        "\n",
        "# -----------------\n",
        "# VOTRE RÉPONSE ICI\n",
        "réponse = \"22\"\n",
        "# -----------------\n",
        "\n",
        "check_3_a(réponse)"
      ],
      "outputs": [
        {
          "output_type": "stream",
          "name": "stdout",
          "text": [
            "\u001b[32m\"Bonne réponse!\"\u001b[0m\n"
          ]
        }
      ],
      "execution_count": 1,
      "metadata": {}
    },
    {
      "cell_type": "markdown",
      "source": [
        "### Exercice 3 - b  \n",
        "\n",
        "Convertissez le nombre 4321 (base 5) en base 10"
      ],
      "metadata": {
        "deletable": false,
        "editable": false,
        "nbgrader": {
          "cell_type": "markdown",
          "checksum": "5de0c3361d3c759c61a37bdaa6b60398",
          "grade": false,
          "grade_id": "3-b",
          "locked": true,
          "schema_version": 3,
          "solution": false,
          "task": false
        }
      }
    },
    {
      "cell_type": "code",
      "source": [
        "from Assertion import check_3_b\n",
        "\n",
        "# -----------------\n",
        "# VOTRE RÉPONSE ICI\n",
        "réponse = \"586\"\n",
        "# -----------------\n",
        "\n",
        "check_3_b(réponse)"
      ],
      "outputs": [
        {
          "output_type": "stream",
          "name": "stdout",
          "text": [
            "\u001b[32m\"Bonne réponse!\"\u001b[0m\n"
          ]
        }
      ],
      "execution_count": 2,
      "metadata": {}
    },
    {
      "cell_type": "markdown",
      "source": [
        "### Exercice 3 - c   \n",
        "\n",
        "Convertissez le nombre ABC (base 16) en base 10"
      ],
      "metadata": {
        "deletable": false,
        "editable": false,
        "nbgrader": {
          "cell_type": "markdown",
          "checksum": "6c2eb1fc9889b2082a27207bf8af6d2a",
          "grade": false,
          "grade_id": "3-c",
          "locked": true,
          "schema_version": 3,
          "solution": false,
          "task": false
        }
      }
    },
    {
      "cell_type": "code",
      "source": [
        "from Assertion import check_3_c\n",
        "\n",
        "# -----------------\n",
        "# VOTRE RÉPONSE ICI\n",
        "réponse = \"2748\"\n",
        "# -----------------\n",
        "\n",
        "check_3_c(réponse)"
      ],
      "outputs": [
        {
          "output_type": "stream",
          "name": "stdout",
          "text": [
            "\u001b[32m\"Bonne réponse!\"\u001b[0m\n"
          ]
        }
      ],
      "execution_count": 1,
      "metadata": {}
    },
    {
      "cell_type": "code",
      "source": [],
      "outputs": [],
      "execution_count": null,
      "metadata": {}
    }
  ],
  "metadata": {
    "kernelspec": {
      "name": "python3",
      "language": "python",
      "display_name": "Python 3"
    },
    "language_info": {
      "name": "python",
      "version": "3.7.3",
      "mimetype": "text/x-python",
      "codemirror_mode": {
        "name": "ipython",
        "version": 3
      },
      "pygments_lexer": "ipython3",
      "nbconvert_exporter": "python",
      "file_extension": ".py"
    },
    "toc": {
      "toc_position": {},
      "skip_h1_title": false,
      "number_sections": false,
      "title_cell": "Table of Contents",
      "toc_window_display": false,
      "base_numbering": 1,
      "toc_section_display": false,
      "title_sidebar": "Contents",
      "toc_cell": false,
      "nav_menu": {},
      "sideBar": false
    },
    "kernel_info": {
      "name": "python3"
    },
    "nteract": {
      "version": "0.15.0"
    }
  },
  "nbformat": 4,
  "nbformat_minor": 2
}