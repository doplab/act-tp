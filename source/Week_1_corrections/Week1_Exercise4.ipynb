{
  "cells": [
    {
      "cell_type": "code",
      "source": [],
      "outputs": [],
      "execution_count": null,
      "metadata": {}
    },
    {
      "cell_type": "markdown",
      "source": [
        "# Exercice 4 - Additions de nombre binaires\n",
        "\n",
        "Dans cet exercice, vous devrez additionner des nombres binaires entre eux"
      ],
      "metadata": {
        "deletable": false,
        "editable": false,
        "nbgrader": {
          "cell_type": "markdown",
          "checksum": "cfa2edb6493446637bd56f38af746817",
          "grade": false,
          "grade_id": "ex-4",
          "locked": true,
          "schema_version": 3,
          "solution": false,
          "task": false
        }
      }
    },
    {
      "cell_type": "markdown",
      "source": [
        "### Exercice 4 - a  \n",
        "Additionnez `01010101` et `10101010`"
      ],
      "metadata": {
        "deletable": false,
        "editable": false,
        "nbgrader": {
          "cell_type": "markdown",
          "checksum": "351afe2679daf1d99e0cd223d11ab8d9",
          "grade": false,
          "grade_id": "4-a",
          "locked": true,
          "schema_version": 3,
          "solution": false,
          "task": false
        }
      }
    },
    {
      "cell_type": "code",
      "source": [
        "from Assertion import check_4_a\n",
        "\n",
        "# -----------------\n",
        "# VOTRE RÉPONSE ICI\n",
        "réponse = \"11111111\"\n",
        "# -----------------\n",
        "\n",
        "check_4_a(réponse)"
      ],
      "outputs": [
        {
          "output_type": "stream",
          "name": "stdout",
          "text": [
            "\u001b[32m\"Bonne réponse!\"\u001b[0m\n"
          ]
        }
      ],
      "execution_count": 1,
      "metadata": {}
    },
    {
      "cell_type": "markdown",
      "source": [
        "### Exercice 4 - b  \n",
        "Additionnez `01011111` et `10000001`"
      ],
      "metadata": {
        "deletable": false,
        "editable": false,
        "nbgrader": {
          "cell_type": "markdown",
          "checksum": "a911827e1c3a28a2b24517025811b012",
          "grade": false,
          "grade_id": "4-b",
          "locked": true,
          "schema_version": 3,
          "solution": false,
          "task": false
        }
      }
    },
    {
      "cell_type": "code",
      "source": [
        "from Assertion import check_4_b\n",
        "\n",
        "# -----------------\n",
        "# VOTRE RÉPONSE ICI\n",
        "réponse = \"11100000\"\n",
        "# -----------------\n",
        "\n",
        "check_4_b(réponse)"
      ],
      "outputs": [
        {
          "output_type": "stream",
          "name": "stdout",
          "text": [
            "\u001b[32m\"Bonne réponse!\"\u001b[0m\n"
          ]
        }
      ],
      "execution_count": 2,
      "metadata": {}
    },
    {
      "cell_type": "markdown",
      "source": [
        "### Exercice 4 - c  \n",
        "Additionnez `01110100` et `00011010`"
      ],
      "metadata": {
        "deletable": false,
        "editable": false,
        "nbgrader": {
          "cell_type": "markdown",
          "checksum": "4f5a9df7780a9d4f494cfa88c3dbc61f",
          "grade": false,
          "grade_id": "4-c",
          "locked": true,
          "schema_version": 3,
          "solution": false,
          "task": false
        }
      }
    },
    {
      "cell_type": "code",
      "source": [
        "from Assertion import check_4_c\n",
        "\n",
        "# -----------------\n",
        "# VOTRE RÉPONSE ICI\n",
        "réponse = \"10001110\"\n",
        "# -----------------\n",
        "\n",
        "check_4_c(réponse)"
      ],
      "outputs": [
        {
          "output_type": "stream",
          "name": "stdout",
          "text": [
            "\u001b[32m\"Bonne réponse!\"\u001b[0m\n"
          ]
        }
      ],
      "execution_count": 1,
      "metadata": {}
    },
    {
      "cell_type": "code",
      "source": [],
      "outputs": [],
      "execution_count": null,
      "metadata": {}
    }
  ],
  "metadata": {
    "kernelspec": {
      "name": "python3",
      "language": "python",
      "display_name": "Python 3"
    },
    "language_info": {
      "name": "python",
      "version": "3.7.3",
      "mimetype": "text/x-python",
      "codemirror_mode": {
        "name": "ipython",
        "version": 3
      },
      "pygments_lexer": "ipython3",
      "nbconvert_exporter": "python",
      "file_extension": ".py"
    },
    "toc": {
      "toc_position": {},
      "skip_h1_title": false,
      "number_sections": false,
      "title_cell": "Table of Contents",
      "toc_window_display": false,
      "base_numbering": 1,
      "toc_section_display": false,
      "title_sidebar": "Contents",
      "toc_cell": false,
      "nav_menu": {},
      "sideBar": false
    },
    "kernel_info": {
      "name": "python3"
    },
    "nteract": {
      "version": "0.15.0"
    }
  },
  "nbformat": 4,
  "nbformat_minor": 2
}