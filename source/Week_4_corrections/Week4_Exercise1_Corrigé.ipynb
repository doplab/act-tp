{
  "cells": [
    {
      "cell_type": "markdown",
      "source": [
        "# Algorithmique et Pensée Computationnelle"
      ],
      "metadata": {}
    },
    {
      "cell_type": "markdown",
      "source": [
        "# ACT Week 4 (Python)\n",
        "## Exercice 1"
      ],
      "metadata": {
        "deletable": false,
        "editable": false,
        "nbgrader": {
          "cell_type": "markdown",
          "checksum": "6d773b8047875e157750bfcdf0d3630e",
          "grade": false,
          "grade_id": "cell-51ba6414384e9f42",
          "locked": true,
          "schema_version": 3,
          "solution": false,
          "task": false
        }
      }
    },
    {
      "cell_type": "markdown",
      "source": [
        "### Structures de données"
      ],
      "metadata": {
        "deletable": false,
        "editable": false,
        "nbgrader": {
          "cell_type": "markdown",
          "checksum": "665cc7377a73c169a4a67e75cb464c7d",
          "grade": false,
          "grade_id": "cell-ecdf23f84164ebe4",
          "locked": true,
          "schema_version": 3,
          "solution": false,
          "task": false
        }
      }
    },
    {
      "cell_type": "markdown",
      "source": [
        "## Tuples\n",
        "\n",
        "### Rôle\n",
        "\n",
        "Les `tuples` sont des `listes` `immutables` (dont les élèments ne peuvent pas être modifiés.)  \n",
        "Les `tuples` sont utiles pour grouper plusieurs valeurs ou objets entre eux et les réutiliser collectivement plus tard.\n",
        "\n",
        "### Création\n",
        "\n",
        "Pour créer (instantier) un `tuple`, on définit ses valeurs entre parenthèses, par exemple:\n",
        "\n",
        "    mon_tuple = (1, 2, 3, 4)\n",
        "    \n",
        "### Accéder à un élément\n",
        "\n",
        "Pour accéder à un élément dans un `tuple`, il suffit d'écrire le nom de celui-ci suivi de crochets contenant la position de l'élément que nous voulons. Nous commençons à compter à partir de `0`, le premier élément est donc l'élément 0.  \n",
        "Pour accéder au deuxième élément de mon tuple, je fais donc:  \n",
        "\n",
        "    deuxieme_element = mon_tuple[1]\n",
        "    print(deuxieme_element)\n",
        "    # 2\n",
        "    \n",
        "### Taille\n",
        "\n",
        "Pour afficher la taille d'un `tuple`, utilisez la fonction `len()`: \n",
        "\n",
        "    taille = len(mon_tuple)\n",
        "    print(taille)\n",
        "    # 4\n",
        "    \n",
        "### Vérifier si un élément fait partie de la liste\n",
        "\n",
        "Pour vérifier si un élément est dans un `tuple`, utilisez l'opérateur `in`: \n",
        "\n",
        "    membre = 10 in mon_tuple\n",
        "    print(membre)\n",
        "    # False"
      ],
      "metadata": {
        "deletable": false,
        "editable": false,
        "nbgrader": {
          "cell_type": "markdown",
          "checksum": "d2dadab39af42053a66f7143703b338f",
          "grade": false,
          "grade_id": "cell-a370859d6a9d2558",
          "locked": true,
          "schema_version": 3,
          "solution": false,
          "task": false
        }
      }
    },
    {
      "cell_type": "code",
      "source": [
        " En programmation informatique, n# EXEMPLE\n",
        "\n",
        "mon_tuple = (1, 2, 3, 4)\n",
        "print(mon_tuple)\n",
        "\n",
        "deuxieme_element = mon_tuple[1]\n",
        "print(deuxieme_element)\n",
        "\n",
        "taille = len(mon_tuple)\n",
        "print(taille)\n",
        "\n",
        "membre = 10 in mon_tuple\n",
        "print(membre)"
      ],
      "outputs": [
        {
          "output_type": "error",
          "ename": "SyntaxError",
          "evalue": "invalid syntax (<ipython-input-1-7529a10a3e6c>, line 1)",
          "traceback": [
            "\u001b[0;36m  File \u001b[0;32m\"<ipython-input-1-7529a10a3e6c>\"\u001b[0;36m, line \u001b[0;32m1\u001b[0m\n\u001b[0;31m    En programmation informatique, n# EXEMPLE\u001b[0m\n\u001b[0m                   ^\u001b[0m\n\u001b[0;31mSyntaxError\u001b[0m\u001b[0;31m:\u001b[0m invalid syntax\n"
          ]
        }
      ],
      "execution_count": 1,
      "metadata": {
        "deletable": false,
        "editable": false,
        "nbgrader": {
          "cell_type": "code",
          "checksum": "30719231f4c762475bcaf4ff1fd393f7",
          "grade": false,
          "grade_id": "cell-e1468f6dfa87b698",
          "locked": true,
          "schema_version": 3,
          "solution": false,
          "task": false
        }
      }
    },
    {
      "cell_type": "markdown",
      "source": [
        "###### Tuples\n",
        "* _Créez_ `un tuple` Qui contient votre nom et votre âge.\n",
        "\n",
        "* _Print_ les informations dans le `tuple`."
      ],
      "metadata": {
        "deletable": false,
        "editable": false,
        "nbgrader": {
          "cell_type": "markdown",
          "checksum": "bbc87f1a7105afdb0fa49d142eb270da",
          "grade": false,
          "grade_id": "cell-e934cafdde7af8b1",
          "locked": true,
          "schema_version": 3,
          "solution": false,
          "task": false
        }
      }
    },
    {
      "cell_type": "code",
      "source": [
        "mon_tuple = (\"Tanja\", 23)\n",
        "print(\"My name is {0} and I am {1} years old.\".format(mon_tuple[0], mon_tuple[1]))"
      ],
      "outputs": [
        {
          "output_type": "stream",
          "name": "stdout",
          "text": [
            "My name is Tanja and I am 23 years old.\n"
          ]
        }
      ],
      "execution_count": 4,
      "metadata": {}
    },
    {
      "cell_type": "markdown",
      "source": [
        "## Listes\n",
        "\n",
        "### Rôle\n",
        "\n",
        "Les `listes` fonctionnent comment des `tuples` à la différence qu'ils ne sont pas `immutables`, donc nous pouvons modifier leur contenu ou retirer et rajouter dynamiquement des élèments.\n",
        "\n",
        "### Création\n",
        "\n",
        "Pour créer (instantier) une `liste`, on définit ses valeurs entre crochets (parenthèses carrées), par exemple:\n",
        "\n",
        "    ma_liste = [1, 2, 3, 4]\n",
        "    \n",
        "### Modification\n",
        "\n",
        "Pour modifier un élément, nous pouvons modifier sa valeur en utilisant son index comme ceci:  \n",
        "\n",
        "    ma_liste[2] = 0\n",
        "    print(ma_liste)\n",
        "    # [1, 2, 0, 4]\n",
        "    \n",
        "### Ajouter un élément\n",
        "\n",
        "Pour ajouter un élément dans une `liste`, on utilise la `méthode` `append()`:  \n",
        "\n",
        "    ma_liste.append(10)\n",
        "    print(ma_liste)\n",
        "    # [1, 2, 0, 4, 10]"
      ],
      "metadata": {
        "deletable": false,
        "editable": false,
        "nbgrader": {
          "cell_type": "markdown",
          "checksum": "96ce435b2aa6b2b7b97f0fa9218fe93c",
          "grade": false,
          "grade_id": "cell-227e1f6618f5780a",
          "locked": true,
          "schema_version": 3,
          "solution": false,
          "task": false
        }
      }
    },
    {
      "cell_type": "code",
      "source": [
        "ma_liste = [1, 2, 3, 4]\n",
        "print(ma_liste)\n",
        "\n",
        "ma_liste[2] = 0\n",
        "print(ma_liste)\n",
        "\n",
        "ma_liste.append(10)\n",
        "print(ma_liste)"
      ],
      "outputs": [
        {
          "output_type": "stream",
          "name": "stdout",
          "text": [
            "[1, 2, 3, 4]\n",
            "[1, 2, 0, 4]\n",
            "[1, 2, 0, 4, 10]\n"
          ]
        }
      ],
      "execution_count": 5,
      "metadata": {
        "deletable": false,
        "editable": false,
        "nbgrader": {
          "cell_type": "code",
          "checksum": "02964454b74da7ba749aae3480754592",
          "grade": false,
          "grade_id": "cell-6a8d3d675802f97c",
          "locked": true,
          "schema_version": 3,
          "solution": false,
          "task": false
        }
      }
    },
    {
      "cell_type": "markdown",
      "source": [
        "###### Lists\n",
        "* `Créez` une `liste` qui contient des noms de villes.\n",
        "\n",
        "* `Print` la deuxième ville de votre liste.\n",
        "\n",
        "* `Ajoutez` la ville `Hong Kong` à la liste avec la `méthode` `append()`"
      ],
      "metadata": {
        "deletable": false,
        "editable": false,
        "nbgrader": {
          "cell_type": "markdown",
          "checksum": "f6ce8c287991fa3a096644c2e9f0f98f",
          "grade": false,
          "grade_id": "cell-065867852642e39f",
          "locked": true,
          "schema_version": 3,
          "solution": false,
          "task": false
        }
      }
    },
    {
      "cell_type": "code",
      "source": [
        "cities = [\"Montreux\",\"Vevey\",\"Aigle\", \"Ollon\", \"Rougemenont\"]\n",
        "print(cities[1])"
      ],
      "outputs": [
        {
          "output_type": "stream",
          "name": "stdout",
          "text": [
            "Vevey\n"
          ]
        }
      ],
      "execution_count": 6,
      "metadata": {}
    },
    {
      "cell_type": "markdown",
      "source": [
        "## Dans la cellule suivante, nous avons créé une liste de pays, exécutez (run) cette cellule pour pouvoir utiliser la liste `pays` dans les exercices suivants."
      ],
      "metadata": {
        "deletable": false,
        "editable": false,
        "nbgrader": {
          "cell_type": "markdown",
          "checksum": "e7540965ed481273311d48cf3ae30984",
          "grade": false,
          "grade_id": "cell-0ca1b7aca6399b56",
          "locked": true,
          "schema_version": 3,
          "solution": false,
          "task": false
        }
      }
    },
    {
      "cell_type": "code",
      "source": [
        "pays = [\"Switzerland\", \"Germany\", \"France\", \"Italy\", \"Spain\", \"Netherlands\", \"Norway\", \"Austria\", \"USA\", \"UK\"]"
      ],
      "outputs": [],
      "execution_count": 7,
      "metadata": {
        "deletable": false,
        "editable": false,
        "nbgrader": {
          "cell_type": "code",
          "checksum": "1b507fda6b0f1199f4b324294e9829de",
          "grade": false,
          "grade_id": "cell-b713aaa0545e1e95",
          "locked": true,
          "schema_version": 3,
          "solution": false,
          "task": false
        }
      }
    },
    {
      "cell_type": "markdown",
      "source": [
        "### Combien y a-t-il de pays?"
      ],
      "metadata": {
        "deletable": false,
        "editable": false,
        "nbgrader": {
          "cell_type": "markdown",
          "checksum": "a1579c54c9d11b5e74c58a834149170a",
          "grade": false,
          "grade_id": "cell-23bebd4b3a2b3700",
          "locked": true,
          "schema_version": 3,
          "solution": false,
          "task": false
        }
      }
    },
    {
      "cell_type": "code",
      "source": [
        "from assertion import nb_pays\n",
        "\n",
        "# VOTRE REPONSE ICI\n",
        "nombre_pays = len(pays)\n",
        "# FIN DE VOTRE REPONSE\n",
        "\n",
        "nb_pays(pays, nombre_pays)"
      ],
      "outputs": [
        {
          "output_type": "stream",
          "name": "stdout",
          "text": [
            "\u001b[32m\"Bonne réponse!\"\u001b[0m\n"
          ]
        }
      ],
      "execution_count": 8,
      "metadata": {}
    },
    {
      "cell_type": "markdown",
      "source": [
        "### Ajoutez la Grèce à la liste"
      ],
      "metadata": {
        "deletable": false,
        "editable": false,
        "nbgrader": {
          "cell_type": "markdown",
          "checksum": "8d4aaaac57c9f795bbb9cd1bbfb7af8f",
          "grade": false,
          "grade_id": "cell-78d01469d75ed6d7",
          "locked": true,
          "schema_version": 3,
          "solution": false,
          "task": false
        }
      }
    },
    {
      "cell_type": "code",
      "source": [
        "from assertion import add_greece\n",
        "\n",
        "# VOTRE REPONSE ICI \n",
        "pays.insert(0,\"Grèce\")\n",
        "#pays.append(\"Grèce\")\n",
        "\n",
        "# FIN DE VOTRE REPONSE\n",
        "\n",
        "add_greece(pays)"
      ],
      "outputs": [
        {
          "output_type": "stream",
          "name": "stdout",
          "text": [
            "['Grèce', 'Grèce', 'Switzerland', 'Germany', 'France', 'Italy', 'Spain', 'Netherlands', 'Norway', 'Austria', 'USA', 'UK', 'Grèce']\n",
            "\u001b[32m\"Bonne réponse!\"\u001b[0m\n"
          ]
        }
      ],
      "execution_count": 12,
      "metadata": {}
    },
    {
      "cell_type": "markdown",
      "source": [
        "### Vérifiez si la Grèce est dans la liste "
      ],
      "metadata": {
        "deletable": false,
        "editable": false,
        "nbgrader": {
          "cell_type": "markdown",
          "checksum": "6ca1a81a7ab87ddb11a252e9fa9dd1e6",
          "grade": false,
          "grade_id": "cell-e77ea25dbfa91d6b",
          "locked": true,
          "schema_version": 3,
          "solution": false,
          "task": false
        }
      }
    },
    {
      "cell_type": "code",
      "source": [
        "from assertion import est_membre\n",
        "\n",
        "# VOTRE REPONSE ICI\n",
        "membre = \"Grèce\" in pays\n",
        "print(membre)\n",
        "# FIN DE VOTRE REPONSE\n",
        "\n",
        "est_membre(pays, membre)"
      ],
      "outputs": [
        {
          "output_type": "stream",
          "name": "stdout",
          "text": [
            "True\n",
            "\u001b[32m\"Bonne réponse!\"\u001b[0m\n"
          ]
        }
      ],
      "execution_count": 14,
      "metadata": {}
    },
    {
      "cell_type": "markdown",
      "source": [
        "### Changez la valeur du 5ème pays vers \"Canada\""
      ],
      "metadata": {
        "deletable": false,
        "editable": false,
        "nbgrader": {
          "cell_type": "markdown",
          "checksum": "8624f6ec8392d82b2592e6c7142b99df",
          "grade": false,
          "grade_id": "cell-dec168a6921931a2",
          "locked": true,
          "schema_version": 3,
          "solution": false,
          "task": false
        }
      }
    },
    {
      "cell_type": "code",
      "source": [
        "from assertion import Canada\n",
        "\n",
        "# VOTRE REPONSE ICI\n",
        "pays[4]= \"Canada\"\n",
        "print(pays)\n",
        "# FIN DE VOTRE REPONSE\n",
        "\n",
        "Canada(pays)"
      ],
      "outputs": [
        {
          "output_type": "stream",
          "name": "stdout",
          "text": [
            "['Grèce', 'Grèce', 'Switzerland', 'Germany', 'Canada', 'Canada', 'Spain', 'Netherlands', 'Norway', 'Austria', 'USA', 'UK', 'Grèce']\n",
            "\u001b[32m\"Bonne réponse!\"\u001b[0m\n"
          ]
        }
      ],
      "execution_count": 18,
      "metadata": {}
    },
    {
      "cell_type": "markdown",
      "source": [
        "##  Dictionnaires\n",
        "\n",
        "\n",
        "### Rôle\n",
        "\n",
        "Les `dictionnaires` sont des listes associatives, c'est-à-dire des listes qui relient une valeur à une autre. Dans un dictionnaire en papier, les mots sont reliés à leur définition. Dans les `dictionnaires` Python, nous pouvons relier n'importe quelle valeur à n'importe quelle autre valeur (même à elle-même.)  \n",
        "\n",
        "Dans un `dictionnaire` Python, on parle d'une relation `clef`, `valeur`. La `clef` étant le moyen de *\"retrouver\"* notre `valeur` dans notre `dictionnaire`. Par exemple, dans un dictionnaire en papier, nous pouvons retrouver une définition en cherchant le mot qui lui correspond, alternativement, nous pouvons retrouver le contenu d'une page d'un livre en utilisant le numéro de celle-ci, dans ce cas le numéro est la `clef` et le texte de la page, la `valeur`.\n",
        "\n",
        "### Création\n",
        "\n",
        "Pour créer (instantier) un `dictionnaire`, on écrit entre des accolades (`{}`) les `clefs`, suivies d'un `:` et de leur `valeur`, par exemple:\n",
        "\n",
        "    elon_musk = {\n",
        "                     \"prénom\": \"Elon\",\n",
        "                     \"nom\": \"Musk\",\n",
        "                     \"age\": 48,\n",
        "                     \"talents\": [\"programmation\", \"entrepreunariat\", \"aéronautique\"]\n",
        "                 }\n",
        "    \n",
        "### Accéder à un élément\n",
        "\n",
        "Pour accéder à un élément dans un `dictionnaire`, il suffit d'écrire le nom de celui-ci suivi de crochets contenant la `clef` de l'élément que nous voulons. \n",
        "Pour accéder à l'âge d'Elon Musk dans mon `dictionnaire`, je fais donc:  \n",
        "\n",
        "    age_elon = elon_musk[\"age\"]\n",
        "    print(age_elon)\n",
        "    # 48\n",
        "    \n",
        "    \n",
        "### Ajouter un élément\n",
        "\n",
        "Pour ajouter un élément dans un `dictionnaire`, il suffit de faire comme si nous souhaitions accèder à cet élément (la `clef` entre crochets `[]`), et d'y assigner une valeur.\n",
        "\n",
        "    elon_musk[\"richesse\"] = 20000000000\n",
        "    print(elon_musk[\"richesse\"])\n",
        "    # 20000000000"
      ],
      "metadata": {
        "deletable": false,
        "editable": false,
        "nbgrader": {
          "cell_type": "markdown",
          "checksum": "085554b99e960c29a920e4b4f97eb55a",
          "grade": false,
          "grade_id": "cell-22e47e2a188bbf77",
          "locked": true,
          "schema_version": 3,
          "solution": false,
          "task": false
        }
      }
    },
    {
      "cell_type": "code",
      "source": [
        "elon_musk = {\n",
        "                 \"prénom\": \"Elon\",\n",
        "                 \"nom\": \"Musk\",\n",
        "                 \"age\": 48,\n",
        "                 \"talents\": [\"programmation\", \"entrepreunariat\", \"aéronautique\"]\n",
        "             }\n",
        "print(elon_musk)\n",
        "\n",
        "age_elon = elon_musk[\"age\"]\n",
        "print(age_elon)\n",
        "\n",
        "elon_musk[\"richesse\"] = 20000000000\n",
        "print(elon_musk[\"richesse\"])"
      ],
      "outputs": [
        {
          "output_type": "stream",
          "name": "stdout",
          "text": [
            "{'prénom': 'Elon', 'nom': 'Musk', 'age': 48, 'talents': ['programmation', 'entrepreunariat', 'aéronautique']}\n",
            "48\n",
            "20000000000\n"
          ]
        }
      ],
      "execution_count": 19,
      "metadata": {
        "deletable": false,
        "editable": false,
        "nbgrader": {
          "cell_type": "code",
          "checksum": "a2f12e004ed4b4e8e66415a70b773861",
          "grade": false,
          "grade_id": "cell-0ac7b62201e8fd82",
          "locked": true,
          "schema_version": 3,
          "solution": false,
          "task": false
        }
      }
    },
    {
      "cell_type": "markdown",
      "source": [
        "## Dans la cellule suivante, nous avons créé un `dictionnaire` qui contient des mots français et les traduit vers l'anglais, exécutez (run) cette cellule pour pouvoir utiliser le `dictionnaire` `pays` dans les exercices suivants."
      ],
      "metadata": {
        "deletable": false,
        "editable": false,
        "nbgrader": {
          "cell_type": "markdown",
          "checksum": "a75990fc7e66c0b536f9ab29393849fc",
          "grade": false,
          "grade_id": "cell-4256679366ef2309",
          "locked": true,
          "schema_version": 3,
          "solution": false,
          "task": false
        }
      }
    },
    {
      "cell_type": "code",
      "source": [
        "fr_eng = {\n",
        "    \"chat\": \"cat\", \n",
        "    \"chien\": \"dog\", \n",
        "    \"oiseau\": \"bir\", \n",
        "    \"poule\": \"chicken\", \n",
        "    \"papillon\": \"butterfly\", \n",
        "    \"souris\": \"mouse\", \n",
        "    \"ours\": \"bear\", \n",
        "    \"mouton\": \"sheep\", \n",
        "    \"couchon\": \"pig\", \n",
        "    \"cheval\": \"horse\"\n",
        "}"
      ],
      "outputs": [],
      "execution_count": 2,
      "metadata": {
        "deletable": false,
        "editable": false,
        "nbgrader": {
          "cell_type": "code",
          "checksum": "2a123db8bc6f0fdc5e85019b10be913a",
          "grade": false,
          "grade_id": "cell-f010f0e83ebe8b12",
          "locked": true,
          "schema_version": 3,
          "solution": false,
          "task": false
        }
      }
    },
    {
      "cell_type": "markdown",
      "source": [
        "### Combien y a-t-il de mots dans le `dictionnaire`?"
      ],
      "metadata": {
        "deletable": false,
        "editable": false,
        "nbgrader": {
          "cell_type": "markdown",
          "checksum": "21550feaea97f23b0422636a50f47f35",
          "grade": false,
          "grade_id": "cell-90f4b50a248eb3d1",
          "locked": true,
          "schema_version": 3,
          "solution": false,
          "task": false
        }
      }
    },
    {
      "cell_type": "code",
      "source": [
        "from assertion import nb_pays\n",
        "\n",
        "# VOTRE REPONSE ICI\n",
        "nombre_mots =len(fr_eng)\n",
        "# FIN DE VOTRE REPONSE\n",
        "\n",
        "nb_pays(fr_eng, nombre_mots)"
      ],
      "outputs": [
        {
          "output_type": "stream",
          "name": "stdout",
          "text": [
            "\u001b[32m\"Bonne réponse!\"\u001b[0m\n"
          ]
        }
      ],
      "execution_count": 21,
      "metadata": {}
    },
    {
      "cell_type": "markdown",
      "source": [
        "### Comment le mot \"papillon\" est-il traduit en anglais selon le dictionnaire?"
      ],
      "metadata": {
        "deletable": false,
        "editable": false,
        "nbgrader": {
          "cell_type": "markdown",
          "checksum": "649d0266b3e866022a8feac06f86ed77",
          "grade": false,
          "grade_id": "cell-a6506b44f1e78cb5",
          "locked": true,
          "schema_version": 3,
          "solution": false,
          "task": false
        }
      }
    },
    {
      "cell_type": "code",
      "source": [
        "from assertion import papillon\n",
        "\n",
        "# VOTRE REPONSE ICI\n",
        "papillon_traduction =fr_eng[\"papillon\"]\n",
        "# FIN DE VOTRE REPONSE\n",
        "\n",
        "papillon(fr_eng, papillon_traduction)"
      ],
      "outputs": [
        {
          "output_type": "stream",
          "name": "stdout",
          "text": [
            "\u001b[32m\"Bonne réponse!\"\u001b[0m\n"
          ]
        }
      ],
      "execution_count": 23,
      "metadata": {}
    },
    {
      "cell_type": "markdown",
      "source": [
        "### Ajoutez la traduction pour le mot \"vache\" -> \"cow\" dans le dictionnaire"
      ],
      "metadata": {
        "deletable": false,
        "editable": false,
        "nbgrader": {
          "cell_type": "markdown",
          "checksum": "2bc0e24739b6c100aba989de397c1579",
          "grade": false,
          "grade_id": "cell-b4240ca4f700bf79",
          "locked": true,
          "schema_version": 3,
          "solution": false,
          "task": false
        }
      }
    },
    {
      "cell_type": "code",
      "source": [
        "from assertion import add_cow\n",
        "\n",
        "# VOTRE REPONSE ICI\n",
        "fr_eng[\"vache\"]= \"cow\"\n",
        "# FIN DE VOTRE REPONSE\n",
        "\n",
        "add_cow(fr_eng)"
      ],
      "outputs": [
        {
          "output_type": "stream",
          "name": "stdout",
          "text": [
            "\u001b[32m\"Bonne réponse!\"\u001b[0m\n"
          ]
        }
      ],
      "execution_count": 24,
      "metadata": {}
    },
    {
      "cell_type": "markdown",
      "source": [
        "### \"oiseau\" se traduit par \"bird\", mais il a mal été écrit dans le dictionnaire, pouvez-vous corriger cette erreur?"
      ],
      "metadata": {
        "deletable": false,
        "editable": false,
        "nbgrader": {
          "cell_type": "markdown",
          "checksum": "732fd55edb4f0ec0d1ed74f7c469b41b",
          "grade": false,
          "grade_id": "cell-646f6a8667e6ab78",
          "locked": true,
          "schema_version": 3,
          "solution": false,
          "task": false
        }
      }
    },
    {
      "cell_type": "code",
      "source": [
        "from assertion import correct\n",
        "\n",
        "# VOTRE REPONSE ICI\n",
        "fr_eng[\"oiseau\"]=\"bird\"\n",
        "print(fr_eng)\n",
        "# FIN DE VOTRE REPONSE\n",
        "\n",
        "correct(fr_eng)"
      ],
      "outputs": [
        {
          "output_type": "stream",
          "name": "stdout",
          "text": [
            "{'chat': 'cat', 'chien': 'dog', 'oiseau': 'bird', 'poule': 'chicken', 'papillon': 'butterfly', 'souris': 'mouse', 'ours': 'bear', 'mouton': 'sheep', 'couchon': 'pig', 'cheval': 'horse', 'vache': 'cow'}\n",
            "\u001b[32m\"Bonne réponse!\"\u001b[0m\n"
          ]
        }
      ],
      "execution_count": 26,
      "metadata": {}
    },
    {
      "cell_type": "code",
      "source": [],
      "outputs": [],
      "execution_count": null,
      "metadata": {}
    }
  ],
  "metadata": {
    "kernelspec": {
      "name": "python3",
      "language": "python",
      "display_name": "Python 3"
    },
    "language_info": {
      "name": "python",
      "version": "3.7.3",
      "mimetype": "text/x-python",
      "codemirror_mode": {
        "name": "ipython",
        "version": 3
      },
      "pygments_lexer": "ipython3",
      "nbconvert_exporter": "python",
      "file_extension": ".py"
    },
    "toc": {
      "toc_position": {},
      "skip_h1_title": false,
      "number_sections": false,
      "title_cell": "Table of Contents",
      "toc_window_display": false,
      "base_numbering": 1,
      "toc_section_display": false,
      "title_sidebar": "Contents",
      "toc_cell": false,
      "nav_menu": {},
      "sideBar": false
    },
    "kernel_info": {
      "name": "python3"
    },
    "nteract": {
      "version": "0.15.0"
    }
  },
  "nbformat": 4,
  "nbformat_minor": 2
}