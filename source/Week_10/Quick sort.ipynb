{
 "cells": [
  {
   "cell_type": "markdown",
   "metadata": {},
   "source": [
    "##  Quick sort"
   ]
  },
  {
   "cell_type": "markdown",
   "metadata": {},
   "source": [
    "Quick Sot est une autre manière de trier une liste en utilisant un pivot selectionné de manière aléatoire. C'est aussi un algorithme utilisant le paradigme diviser-pour-régner comme le tri par fusion. L'avantage de quick sort est qu'il existe une version de l'algorithme probabilistique.\n",
    "Voici deux liens utiles pour comprendre son fonctionnement: https://fr.wikipedia.org/wiki/Tri_rapide, https://www.youtube.com/watch?v=xcyDSLSkb0k\n",
    "\n",
    "*\"La méthode consiste à placer un élément du tableau (appelé pivot) à sa place définitive, en permutant tous les éléments de telle sorte que tous ceux qui sont inférieurs au pivot soient à sa gauche et que tous ceux qui sont supérieurs au pivot soient à sa droite.\n",
    "Cette opération s'appelle le partitionnement. Pour chacun des sous-tableaux, on définit un nouveau pivot et on répète l'opération de partitionnement. Ce processus est répété récursivement, jusqu'à ce que l'ensemble des éléments soit trié. \"*\n",
    "\n",
    "\n",
    "1) Ecrire la fonction partition qui prend en entrée la list et les bornes de la fénêtre. Partition retourne l'index de partition. Le pseudocode est disponible sur la page wiki si besoin."
   ]
  },
  {
   "cell_type": "code",
   "execution_count": 1,
   "metadata": {},
   "outputs": [],
   "source": [
    "def partition(L, low, high):\n",
    "    \n",
    "    return\n",
    "    \n"
   ]
  },
  {
   "cell_type": "markdown",
   "metadata": {},
   "source": [
    "2) Ecrire la fonction quick sort à l'aide de la fonction partition."
   ]
  },
  {
   "cell_type": "code",
   "execution_count": 2,
   "metadata": {},
   "outputs": [],
   "source": [
    "def quick_sort(L, low, high):\n",
    "    return"
   ]
  },
  {
   "cell_type": "markdown",
   "metadata": {},
   "source": [
    "3) Nous allons maintenant comparer la complexié de quick sort par rapport au tri par fusion. Est ce que le randomized Quick sort est plus efficace ? Pour répondre à cette question etudier les cas moyens de quick sort et le pire cas pour Merge Sort. Voici le code de merge sort lancer le avec differents tableaux (tié, non-trié etc...). Que constatez-vous par rapport à quick sort ?\n",
    "(l'utilisation au début de la cellule de **%time** sera utile ici)"
   ]
  },
  {
   "cell_type": "code",
   "execution_count": 3,
   "metadata": {},
   "outputs": [],
   "source": [
    "def merge_sort(arr): \n",
    "    if len(arr) >1: \n",
    "        mid = len(arr)//2 #Finding the mid of the array \n",
    "        L = arr[:mid] # Dividing the array elements  \n",
    "        R = arr[mid:] # into 2 halves \n",
    "  \n",
    "        merge_sort(L) # Sorting the first half \n",
    "        merge_sort(R) # Sorting the second half \n",
    "  \n",
    "        i = j = k = 0\n",
    "          \n",
    "        # Copy data to temp arrays L[] and R[] \n",
    "        while i < len(L) and j < len(R): \n",
    "            if L[i] < R[j]: \n",
    "                arr[k] = L[i] \n",
    "                i+=1\n",
    "            else: \n",
    "                arr[k] = R[j] \n",
    "                j+=1\n",
    "            k+=1\n",
    "          \n",
    "        # Checking if any element was left \n",
    "        while i < len(L): \n",
    "            arr[k] = L[i] \n",
    "            i+=1\n",
    "            k+=1\n",
    "          \n",
    "        while j < len(R): \n",
    "            arr[k] = R[j] \n",
    "            j+=1\n",
    "            k+=1\n",
    "    return arr"
   ]
  },
  {
   "cell_type": "code",
   "execution_count": null,
   "metadata": {},
   "outputs": [],
   "source": []
  },
  {
   "cell_type": "code",
   "execution_count": null,
   "metadata": {
    "scrolled": true
   },
   "outputs": [],
   "source": []
  },
  {
   "cell_type": "markdown",
   "metadata": {},
   "source": [
    "4) Calculer la complexité de Quick sort, dans le meilleure des cas, le pire des cas et le cas moyen.\n",
    "\n",
    "*Indication: pour calculer le meilleure et le pire des cas, réfléchisser au cas particuliers quand cela arrive. Pour le cas moyen, il y a différents manières de le résoudre soit utiliser une équation de récurrence (idéal pour les appels récursifs) soit exprimer une variable aléatoire de probabilité et calculer son espérance de la forme: $ E[X] = \\sum_{i=0}^{n-1}\\sum_{j=i+1}^{n} c_{i,j}$ où $c_{i, j} $ est une variable aléatoire binaire (prenant la valeur 0 si l'élément à la position i est comparé avec $x_j$)*"
   ]
  },
  {
   "cell_type": "markdown",
   "metadata": {},
   "source": [
    "**Ecrire la réponse ici:**"
   ]
  }
 ],
 "metadata": {
  "kernelspec": {
   "display_name": "Python 3",
   "language": "python",
   "name": "python3"
  },
  "language_info": {
   "codemirror_mode": {
    "name": "ipython",
    "version": 3
   },
   "file_extension": ".py",
   "mimetype": "text/x-python",
   "name": "python",
   "nbconvert_exporter": "python",
   "pygments_lexer": "ipython3",
   "version": "3.7.3"
  }
 },
 "nbformat": 4,
 "nbformat_minor": 2
}
