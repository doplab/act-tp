{
 "cells": [
  {
   "cell_type": "markdown",
   "metadata": {
    "nbgrader": {
     "grade": false,
     "grade_id": "cell-29c18ca9e1990e6c",
     "locked": true,
     "schema_version": 3,
     "solution": false,
     "task": false
    }
   },
   "source": [
    "# Monte Carlo"
   ]
  },
  {
   "cell_type": "markdown",
   "metadata": {
    "nbgrader": {
     "grade": false,
     "grade_id": "cell-3dbbc950ab2cb37b",
     "locked": true,
     "schema_version": 3,
     "solution": false,
     "task": false
    }
   },
   "source": [
    "# PI\n",
    "\n",
    "Pour approximer `𝜋`, il suffit de résoudre l'équation de l'aire d'un cercle:\n",
    "\n",
    "$$ A = \\pi*r^2 $$\n",
    "$$ \\pi = \\frac{A}{r^2} $$\n",
    "\n",
    "Maintenant, prenons un cercle de rayon `1`:\n",
    "\n",
    "$$ \\pi = A $$\n",
    "\n",
    "Il ne nous manque que l'aire pour trouver `𝜋`. Or, nous savons calculer une aire en utilisant Monte Carlo. Il nous suffit donc de trouver l'aire de ce cercle imaginaire avec un rayon de `1`.\n",
    "\n",
    "Pour ce faire, nous savons que la distance entre deux points vaut:  \n",
    "\n",
    "$$ \\sqrt{(x_2 - x_1)^2 + (y_2 - y_1)^2} $$\n",
    "\n",
    "Nous cherchons la distance avec le point `(0, 0)`:\n",
    "\n",
    "$$ \\sqrt{(x - 0)^2 + (y - 0)^2} $$\n",
    "\n",
    "Pour qu'un point soit hors de notre cercle de rayon `1`, il faut que:\n",
    "\n",
    "$$ \\sqrt{x^2 + y^2} > 1 $$\n",
    "\n",
    "$$ x^2 + y^2 > 1 $$\n",
    "\n",
    "Pour nous simplifier la tâche, nous n'allons calculer que les points pour\n",
    "\n",
    "$$ x,y \\in \\left\\{0, 1\\right\\} $$\n",
    "\n",
    "Ce qui veut dire que nous allons calculer \n",
    "\n",
    "$$ \\frac{\\pi}{4} $$\n",
    "\n",
    "Pour ce faire, nous créons des paires aléatoires de nombres `(x, y)` compris entre `0` et `1`. \n",
    "\n",
    "Si: $$ x^2 + y^2 \\leq 1, $$ on incrémente une variable `inside`. Le nombre de paires dans notre cercle divisé par le nombre total de points évalués nous donne une approximation de `PI/4`.\n",
    "\n",
    "<img src=\"https://github.com/doplab/act-tp/blob/master/images/week10/Monte-Carlo01.jpg?raw=true\" />"
   ]
  },
  {
   "cell_type": "code",
   "execution_count": 46,
   "metadata": {},
   "outputs": [
    {
     "data": {
      "text/plain": [
       "3.1414028"
      ]
     },
     "execution_count": 46,
     "metadata": {},
     "output_type": "execute_result"
    }
   ],
   "source": [
    "from random import uniform\n",
    "\n",
    "def evaluate_pi(iterations):\n",
    "    inside = 0\n",
    "    # Générez <iterations> paires de nombres (x, y), si la somme de leurs carrés est inférieure ou égale à 1,\n",
    "    # Incrémentez la variable <inside>\n",
    "    # Retournez inside/iterations\n",
    "\n",
    "evaluate_pi(10000000)"
   ]
  },
  {
   "cell_type": "markdown",
   "metadata": {
    "nbgrader": {
     "grade": false,
     "grade_id": "cell-0da80e8331ccebbc",
     "locked": true,
     "schema_version": 3,
     "solution": false,
     "task": false
    }
   },
   "source": [
    "## Exercice\n",
    "\n",
    "### Soient les fonctions:\n",
    "\n",
    "$$ f(x) = x^2 $$\n",
    "$$ g(x) = e^{x} $$\n",
    "$$ h(x) = \\tanh(x)\\ln(x) $$\n",
    "$$ z(x) = \\frac{h(f(g(x)))}{e^{g(x)}} $$\n",
    "\n",
    "Utilisez Monte Carlo pour trouver les intégrales des fonctions `f`, `g`, `h` et `z` dans l'interval  \n",
    "\n",
    "$$ X = \\left[0, 1\\right] $$"
   ]
  },
  {
   "cell_type": "code",
   "execution_count": 41,
   "metadata": {},
   "outputs": [
    {
     "name": "stdout",
     "output_type": "stream",
     "text": [
      "F(x): 0.334203990277928\n",
      "G(x): 1.7208611873741892\n",
      "H(x): -0.939282741596821\n",
      "Z(x): -0.036181880908056074\n"
     ]
    }
   ],
   "source": [
    "from numpy import cos, exp, log\n",
    "from random import uniform\n",
    "from math import inf\n",
    "\n",
    "def f(x):\n",
    "    return x**2\n",
    "\n",
    "def g(x):\n",
    "    return exp(x)\n",
    "\n",
    "def h(x):\n",
    "    return cos(x)*log(x)\n",
    "\n",
    "def z(x):\n",
    "    return h(f(g(x)))/exp(g(x))\n",
    "\n",
    "def integrale(function, _min = 0, _max = 1, iterations = 100000):\n",
    "    total = 0\n",
    "    # Générez <iterations> valeurs pour x entre 0 et 1, évaluez la fonction <function> avec <x> comme argument\n",
    "    # Ajoutez le résultat à total\n",
    "    # Retournez total/iterations\n",
    "\n",
    "print(\"F(x):\", integrale(f))\n",
    "print(\"G(x):\", integrale(g))\n",
    "print(\"H(x):\", integrale(h))\n",
    "print(\"Z(x):\", integrale(z))"
   ]
  },
  {
   "cell_type": "code",
   "execution_count": null,
   "metadata": {},
   "outputs": [],
   "source": []
  }
 ],
 "metadata": {
  "celltoolbar": "Create Assignment",
  "kernelspec": {
   "display_name": "Python 3",
   "language": "python",
   "name": "python3"
  },
  "language_info": {
   "codemirror_mode": {
    "name": "ipython",
    "version": 3
   },
   "file_extension": ".py",
   "mimetype": "text/x-python",
   "name": "python",
   "nbconvert_exporter": "python",
   "pygments_lexer": "ipython3",
   "version": "3.7.5"
  }
 },
 "nbformat": 4,
 "nbformat_minor": 2
}
