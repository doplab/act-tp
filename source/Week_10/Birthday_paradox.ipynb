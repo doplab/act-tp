{
  "cells": [
    {
      "cell_type": "markdown",
      "source": [
        "## Birthday Paradox\n",
        "\n",
        "Avec 50 personnes dans la classe, il y a 1225 paires:\n",
        "\n",
        "--> (50* 49)/ 2 = 1225 \n",
        "\n",
        "Si l'on prend deux personnes au hasard dans la population, il y a 99% de chances qu'elles aient des dates d'anniversaire différentes: \n",
        "\n",
        "--> 1 - (1/365) = 364/365 ≈ 0.99\n",
        "\n",
        "Mais avec 1225 paires, il y ~34% de chance d'avoir que des dates d'anniversaire différentes:\n",
        "\n",
        "--> (364/365)^ 1225 ≈ 0.034\n",
        "\n",
        "Ainsi, il y a ~96% de chance d'avoir des personnes qui ont les mêmes dates d'anniversaire: \n",
        "\n",
        "--> 1 - 0.034 ≈ 0.96\n",
        "\n",
        "La formule de probabilité peut être généralisée pour n nombre de personnes: \n",
        "\n",
        "--> p(n) = 1 - (364/365)^ n(n-1)/2\n",
        "\n",
        "#### Exercise\n",
        "Ci-dessous, nous avons écrit un code pour vous illustrer ce paradoxe. Veuillez exécuter le code. Puis, rentrez votre date d'anniversaire en format \"mm-dd\" et votre prénom dans les cases prévues à ces effets. \n",
        "\n"
      ],
      "metadata": {}
    },
    {
      "cell_type": "code",
      "source": [
        "import requests\n",
        "import json\n",
        "from datetime import datetime\n",
        "from dateutil.parser import parse"
      ],
      "outputs": [],
      "execution_count": null,
      "metadata": {}
    },
    {
      "cell_type": "code",
      "source": [
        "matches = []"
      ],
      "outputs": [],
      "execution_count": 2,
      "metadata": {}
    },
    {
      "cell_type": "code",
      "source": [
        "# Getting data from the server\n",
        "def receive_from_server():\n",
        "    url = \"http://desi.techevox.com/get_all_students.php?API_KEY=8661da38-7767-4488-af7c-0aa47f58ac6c\"\n",
        "    r = requests.get(url)\n",
        "    if r.status_code == 201 or r.status_code == 200:\n",
        "        resp = json.loads(r.text)\n",
        "        return resp\n",
        "    else:\n",
        "        return 0\n",
        "\n",
        "# Sending data to the server\n",
        "def send_to_server(daten, name):\n",
        "    url = \"http://desi.techevox.com/act_birthday2.php?name=\"+str(name)+\"&daten=\"+str(daten)\n",
        "    r = requests.get(url)\n",
        "    if r.status_code == 201 or r.status_code == 200:\n",
        "        return \"Request successfully sent to the server\"\n",
        "    else:\n",
        "        return 0\n",
        "\n",
        "# Used to check duplicates\n",
        "def match_exist(m, student1, student2):\n",
        "    for i in range (len(m)):\n",
        "        if student1 in m[i] and student2 in m[i]:\n",
        "            return True\n",
        "    return False\n",
        "            \n",
        "    \n",
        "# Checks if there are matches and adds them in a list of matches\n",
        "def get_match(result):\n",
        "    for i in range(len(result['students']['daten'])):\n",
        "        for j in range(len(result['students']['daten'])):\n",
        "            if i!=j:\n",
        "                if str(result['students']['daten'][i]) == str(result['students']['daten'][j]):\n",
        "                    if not match_exist(matches, str(result['students']['name'][i]), str(result['students']['name'][j])):\n",
        "                        matches.append((str(result['students']['name'][i]), str(result['students']['name'][j]), str(result['students']['daten'][i])))\n",
        "\n",
        "# Makes sure that the input given is well formatted                    \n",
        "def is_date(string):\n",
        "    try: \n",
        "        parse(string, False)\n",
        "        return True\n",
        "    except ValueError:\n",
        "        return False\n"
      ],
      "outputs": [],
      "execution_count": 3,
      "metadata": {}
    },
    {
      "cell_type": "code",
      "source": [
        "daten = str(input(\"Enter your birthday date: month-day \"))\n",
        "name = str(input(\"Enter your first name: \"))\n",
        "if is_date(daten):\n",
        "    send_to_server(daten, name)\n",
        "else:\n",
        "    print(\"Error in formatting your date input. Please make sure that you are following this scheme: mm-dd\")"
      ],
      "outputs": [],
      "execution_count": null,
      "metadata": {}
    },
    {
      "cell_type": "markdown",
      "source": [
        "Il faudra attendre que tous les étudiants rentrent leurs données afin d'avoir une meilleure illustration de ce paradoxe. Cependant, vous pouvez déjà essayer d'exécuter ces deux dernières cellules de code qui vous montreront déjà quelques \"matches\". \n",
        "\n",
        "Navré pour ceux qui ne voyent pas leur nom s'afficher. Retentez votre chance demain."
      ],
      "metadata": {}
    },
    {
      "cell_type": "code",
      "source": [
        "get_match(receive_from_server())"
      ],
      "outputs": [],
      "execution_count": null,
      "metadata": {}
    },
    {
      "cell_type": "code",
      "source": [
        "for i in range (len(matches)):\n",
        "    daten = datetime.strptime(matches[i][2], '%m-%d').date()\n",
        "    print (\"There's a match between {} and {}, there are born on {}, {}\".format(matches[i][0], matches[i][1], daten.strftime(\"%B\"), daten.day))"
      ],
      "outputs": [],
      "execution_count": null,
      "metadata": {}
    },
    {
      "cell_type": "code",
      "source": [],
      "outputs": [],
      "execution_count": null,
      "metadata": {}
    }
  ],
  "metadata": {
    "kernelspec": {
      "name": "python3",
      "language": "python",
      "display_name": "Python 3"
    },
    "language_info": {
      "name": "python",
      "version": "3.7.3",
      "mimetype": "text/x-python",
      "codemirror_mode": {
        "name": "ipython",
        "version": 3
      },
      "pygments_lexer": "ipython3",
      "nbconvert_exporter": "python",
      "file_extension": ".py"
    },
    "kernel_info": {
      "name": "python3"
    },
    "nteract": {
      "version": "0.15.0"
    }
  },
  "nbformat": 4,
  "nbformat_minor": 2
}
