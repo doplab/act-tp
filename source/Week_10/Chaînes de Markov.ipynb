{
 "cells": [
  {
   "cell_type": "markdown",
   "metadata": {
    "nbgrader": {
     "grade": false,
     "grade_id": "cell-4f67ce37c7731e8b",
     "locked": true,
     "schema_version": 3,
     "solution": false,
     "task": false
    }
   },
   "source": [
    "# Chaînes de Markov"
   ]
  },
  {
   "cell_type": "markdown",
   "metadata": {
    "nbgrader": {
     "grade": false,
     "grade_id": "cell-90ec764d9a6d708b",
     "locked": true,
     "schema_version": 3,
     "solution": false,
     "task": false
    }
   },
   "source": [
    "## Exercice\n",
    "\n",
    "Dans l'exercice suivant, nous avons analysé le texte intégral de `Candide, ou l'Optimisme` de *Voltaire* (l'un des meilleurs auteurs de tous les temps.)\n",
    "\n",
    "Nous avons créé un dictionnaire qui se comporte comme un chaîne de Markov, où chaque mot peut être suivi d'un autre mot avec un probabilité `p`.\n",
    "\n",
    "Pour savoir quels mots suivent quel autre mot avec une certaine probabilité, vous pouvez utiliser `data[mot]` et voir quels mots le suivent.\n",
    "\n",
    "Par exemple `print(data[\"leibnitz\"])` affiche `{'navait': 0.5, 'ne': 0.5}`\n",
    "\n",
    "Créez un chaîne de Markov au papier en partant du mot `candide` et qui crée une phrase de `105` mots."
   ]
  },
  {
   "cell_type": "code",
   "execution_count": 26,
   "metadata": {
    "nbgrader": {
     "grade": false,
     "grade_id": "cell-1b67157b00e3ca66",
     "locked": true,
     "schema_version": 3,
     "solution": false,
     "task": false
    }
   },
   "outputs": [],
   "source": [
    "from functools import reduce\n",
    "\n",
    "class Candide:\n",
    "    _data = None\n",
    "    \n",
    "    @staticmethod\n",
    "    def data():\n",
    "        if Candide._data is None:\n",
    "            Candide.load_text()\n",
    "        return Candide._data\n",
    "    \n",
    "    @staticmethod\n",
    "    def clean_word(word):\n",
    "        return ''.join(l for l in word.lower().strip() if l.isalnum())\n",
    "    \n",
    "    @staticmethod\n",
    "    def load_text():\n",
    "        with open(\"candide.txt\", \"r\") as file:\n",
    "            candide = file.read().split()\n",
    "            data = {}\n",
    "            for i in range(len(candide) - 1):\n",
    "                word = Candide.clean_word(candide[i])\n",
    "                next_word = Candide.clean_word(candide[i+1])\n",
    "                if word in data:\n",
    "                    if next_word in data[word]:\n",
    "                        data[word][next_word] += 1\n",
    "                    else:\n",
    "                        data[word][next_word] = 1\n",
    "                else:\n",
    "                    data[word] = {next_word: 1}\n",
    "            Candide._data = Candide.compute_stats(data)\n",
    "            \n",
    "    @staticmethod\n",
    "    def compute_stats(_data):\n",
    "        for i in _data.keys():\n",
    "            _sum = reduce(lambda accumulator, j: accumulator + _data[i][j], _data[i].keys(), 0)\n",
    "            for j in _data[i]:\n",
    "                _data[i][j] /= _sum\n",
    "        return _data"
   ]
  },
  {
   "cell_type": "code",
   "execution_count": 30,
   "metadata": {},
   "outputs": [
    {
     "data": {
      "text/plain": [
       "'leibnitz navait pas de la vieille je ne pouvait être autrement car il y a été pendu par le plus de la vieille je ne pouvait être autrement car il y a été pendu par le plus de la vieille je ne pouvait être autrement car il y a été pendu par le plus de la vieille je ne pouvait être autrement car il y a été pendu par le plus de la vieille je ne pouvait être autrement car il y a été pendu par le plus de la vieille je ne pouvait être autrement car il y a été pendu par le plus de'"
      ]
     },
     "execution_count": 30,
     "metadata": {},
     "output_type": "execute_result"
    }
   ],
   "source": [
    "data = Candide.data()\n",
    "\n",
    "def most_likely(word_data):\n",
    "    _max = 0\n",
    "    best = None\n",
    "    for next_word in word_data.keys():\n",
    "        if word_data[next_word] > _max:\n",
    "            best = next_word\n",
    "            _max = word_data[next_word]\n",
    "    return best\n",
    "\n",
    "def create_sentence(first_word, data, depth):\n",
    "    current_word = first_word\n",
    "    sentence = first_word\n",
    "    for i in range(depth):\n",
    "        current_word = most_likely(data[current_word])\n",
    "        sentence = sentence + \" \" + current_word\n",
    "    return sentence\n",
    "\n",
    "create_sentence(\"leibnitz\", data, 105)"
   ]
  },
  {
   "cell_type": "markdown",
   "metadata": {
    "nbgrader": {
     "grade": false,
     "grade_id": "cell-a643fe1213b4122c",
     "locked": true,
     "schema_version": 3,
     "solution": false,
     "task": false
    }
   },
   "source": [
    "## Exercice\n",
    "\n",
    "Comme vous le voyez, votre phrase est redondante car certains mots sont très fréquents (comme le mot `et`) et ils créent donc une boucle infinie.\n",
    "\n",
    "Pour empêcher ceci, faites en sorte que les mots soient choisis aléatoirement tout en respectant la probabilité qu'ils soit choisis. Vous pouvez utiliser une `table de probabilités`"
   ]
  },
  {
   "cell_type": "code",
   "execution_count": 71,
   "metadata": {},
   "outputs": [
    {
     "data": {
      "text/plain": [
       "'leibnitz navait été sans rémission mais il loua une extrême qui était infectée elle fut refait eh bien peur de sucre qui joue tirer chez toutes en loua de mathématiques et fut net et arrivèrent à linquisiteur il voulut savoir lequel il est nécessairement pour nous attrape le devait bien que lon est mis le veuille disait cacambo je croissais en bataille au lit me gardent et soudain elle fit demander au théâtre en fuyant sa jardinière et contre basanés blancs mulâtres et jétais dans la trouvera dans la capitale de la théologie oui dit candide qui pesait environ trois chevaux'"
      ]
     },
     "execution_count": 71,
     "metadata": {},
     "output_type": "execute_result"
    }
   ],
   "source": [
    "from random import randint\n",
    "from math import ceil\n",
    "\n",
    "data = Candide.data()\n",
    "\n",
    "def chose_randomly(word_data, sentence):\n",
    "    proba_table = []\n",
    "    _sum = 0\n",
    "    for word in word_data.keys():\n",
    "        hundred = ceil(word_data[word] * 100)\n",
    "        _sum = _sum + hundred\n",
    "        proba_table.append((word, _sum))\n",
    "    rand = randint(0, _sum)\n",
    "    for i in proba_table:\n",
    "        if i[1] >= rand:\n",
    "            return i[0]\n",
    "\n",
    "def create_sentence(first_word, data, depth):\n",
    "    current_word = first_word\n",
    "    sentence = first_word\n",
    "    for i in range(depth):\n",
    "        current_word = chose_randomly(data[current_word], sentence)\n",
    "        sentence = sentence + \" \" + current_word\n",
    "    return sentence\n",
    "\n",
    "create_sentence(\"leibnitz\", data, 100)"
   ]
  },
  {
   "cell_type": "markdown",
   "metadata": {
    "nbgrader": {
     "grade": false,
     "grade_id": "cell-914a50b90c48a7ca",
     "locked": true,
     "schema_version": 3,
     "solution": false,
     "task": false
    }
   },
   "source": [
    "## Exercice\n",
    "\n",
    "Votre bon ami `Vladimir` vous propose d'investir `$10000` dans son business de \"plantes médicinales\".\n",
    "\n",
    "`Vladimir` est un revendeur très réputé dans votre quartier, cependant vous savez qu'il peut arriver que ses plantes ne soient pas toujours légales et du coup que vous risquez de vous faire arrêter en vous associant à lui.\n",
    "\n",
    "Vous estimez néanmoins qu'il peut être intéressant d'investir dans ce projet, cependant vous ne voulez pas prendre trop de risques. C'est pourquoi, vous investissez la somme `i`, tel que:\n",
    "\n",
    "$$ i < 10000 $$\n",
    "\n",
    "Soit `π`, un nombre qui correspond au pourcentage de votre investissement par rapport à `10000`, tel que:\n",
    "\n",
    "$$ \\pi = \\frac{\\mathrm{i} }{\\mathrm{10000} } $$\n",
    "\n",
    "Vous savez que tous les jours, votre investissement vous rapportera \n",
    "$$  r(l) = l^2  $$ \n",
    "\n",
    "\n",
    "Néanmoins, plus votre investissement est élevé, plus vos collègues vont se méfier de vos rendements, c'est pourquoi, tous les jours vous avez la probabilité `σ(l)` de vous faire arrêter:\n",
    "\n",
    "$$  \\sigma(\\pi) = \\frac{\\mathrm{1} }{\\mathrm{1} + e^{\\frac{\\mathrm{-\\pi}}{\\mathrm{5}}} } - \\frac{\\mathrm{1} }{\\mathrm{2} }  $$ \n",
    "\n",
    "## Créez un chaîne de Markov Monté Carlo qui détermine combien d'argent vous aurez après `T` périodes et quelle est la probabilité que vous vous fassiez arrêter durant ces `T` périodes."
   ]
  },
  {
   "cell_type": "code",
   "execution_count": null,
   "metadata": {},
   "outputs": [],
   "source": [
    "from math import exp\n",
    "\n",
    "def probability_prison(pi):\n",
    "    return 1/(1+exp(-pi/5)) - 1/2\n",
    "\n",
    "def markov_chain(i, pi, T):\n",
    "    # Votre code ici\n",
    "    \n",
    "i = # VOTRE INVESTISSEMENT ICI\n",
    "T = # VOTRE NOMBRE DE PERIODES\n",
    "pi = i / 10000\n",
    "\n",
    "markov_chain(i, pi, T)"
   ]
  },
  {
   "cell_type": "markdown",
   "metadata": {
    "nbgrader": {
     "grade": false,
     "grade_id": "cell-3534a87e70d0fa32",
     "locked": true,
     "schema_version": 3,
     "solution": false,
     "task": false
    }
   },
   "source": [
    "## Exercice\n",
    "\n",
    "L'ETF `SPDR S&P 500 Trust ETF ($SPY)` qui est un `Fond Négocié en Bourse` répliquant approximativement le marché américain est échangé au cours de `$309.10` (le 14/11/19.) \n",
    "\n",
    "Vous pensez que les rendements quotidiens de cet ETF sont de `0.05%` avec une volatilité de `0.01`.\n",
    "\n",
    "Vous pensez également que les rendements quotidiens du S&P500 suivent une distribution normale.\n",
    "\n",
    "Utilisez une simulation de `Monté Carlo` avec des chaînes de Markov pour estimer le prix de l'ETF dans trois semaines."
   ]
  },
  {
   "cell_type": "code",
   "execution_count": null,
   "metadata": {},
   "outputs": [],
   "source": []
  }
 ],
 "metadata": {
  "celltoolbar": "Create Assignment",
  "kernelspec": {
   "display_name": "Python 3",
   "language": "python",
   "name": "python3"
  },
  "language_info": {
   "codemirror_mode": {
    "name": "ipython",
    "version": 3
   },
   "file_extension": ".py",
   "mimetype": "text/x-python",
   "name": "python",
   "nbconvert_exporter": "python",
   "pygments_lexer": "ipython3",
   "version": "3.7.3"
  }
 },
 "nbformat": 4,
 "nbformat_minor": 2
}
