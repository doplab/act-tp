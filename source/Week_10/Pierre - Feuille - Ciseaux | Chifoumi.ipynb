{
 "cells": [
  {
   "cell_type": "markdown",
   "metadata": {
    "nbgrader": {
     "grade": false,
     "grade_id": "cell-0fcf6d61d3ce237e",
     "locked": true,
     "schema_version": 3,
     "solution": false,
     "task": false
    }
   },
   "source": [
    "# Pierre - Feuille - Ciseaux | Chifoumi\n",
    "\n",
    "Dans ce notebook, on vous demande de créer un jeu de Pierre - Feuille - Ciseaux ou Chifoumi où l’utilisateur pourra jouer face à l’ordinateur. \n",
    "\n",
    "Les règles :\n",
    "* Pierre vs papier -> papier gagne\n",
    "* Pierre vs ciseaux -> pierre gagne \n",
    "* Papier vs ciseaux -> ciseaux gagne\n",
    "\n",
    "\n",
    "Dans une boucle, générez aléatoirement une action pour l’ordinateur, demandez à l’utilisateur son choix et comparez pour déterminer le vainqueur. Entre chaque manche, affichez le gagnant et le score.\n"
   ]
  },
  {
   "cell_type": "code",
   "execution_count": null,
   "metadata": {},
   "outputs": [],
   "source": []
  }
 ],
 "metadata": {
  "celltoolbar": "Create Assignment",
  "kernelspec": {
   "display_name": "Python 3",
   "language": "python",
   "name": "python3"
  },
  "language_info": {
   "codemirror_mode": {
    "name": "ipython",
    "version": 3
   },
   "file_extension": ".py",
   "mimetype": "text/x-python",
   "name": "python",
   "nbconvert_exporter": "python",
   "pygments_lexer": "ipython3",
   "version": "3.7.5"
  }
 },
 "nbformat": 4,
 "nbformat_minor": 2
}
