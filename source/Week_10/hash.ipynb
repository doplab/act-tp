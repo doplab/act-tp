{
 "cells": [
  {
   "cell_type": "markdown",
   "metadata": {},
   "source": [
    "## Fingerprinting\n",
    "\n",
    "Les Hash functions transforment de manière déterministique un input de taille arbitraire en un output de taille fixe appelé hash. \n",
    "\n",
    "Les propriétés principales des hash functions sont:\n",
    "- Le message caché derrière le hash est difficile à trouver.\n",
    "- Il est difficile de trouver deux messages différents qui ont le même hash.\n",
    "\n",
    "Il existe différentes hash functions comme MD5 ou SHA-256. \n",
    "\n",
    "Créé par la NSA, le Secured Hash Algorithms 256 est un algorithme très utilisé par les institutions financières et gouvernements pour encrypter des données. \n",
    "\n",
    "#### Exercice\n",
    "Complètez les deux codes ci-dessous pour obtenir les hashs d'un même input string.  "
   ]
  },
  {
   "cell_type": "code",
   "execution_count": 12,
   "metadata": {
    "inputHidden": false,
    "outputHidden": false
   },
   "outputs": [
    {
     "name": "stdout",
     "output_type": "stream",
     "text": [
      "86e1117cfc74095559a9618a4bf1a5c5390b2b62c0de4bcf5b62f27b36aa43d3\n"
     ]
    }
   ],
   "source": [
    "from hashlib import *\n",
    "# Encryption with sha256\n",
    "M1 = \"Today is a fun day!\" # votre code ici\n",
    "M1_hash = sha256(M1.encode('utf8'))\n",
    "M1_hex = M1_hash.hexdigest()\n",
    "print(M1_hex)"
   ]
  },
  {
   "cell_type": "code",
   "execution_count": 14,
   "metadata": {
    "inputHidden": false,
    "outputHidden": false
   },
   "outputs": [
    {
     "name": "stdout",
     "output_type": "stream",
     "text": [
      "4301ddf1e357f7f5249adb71ee04da11\n"
     ]
    }
   ],
   "source": [
    "from hashlib import *\n",
    "# Encryption with md5\n",
    "M1 = \"Today is a fun day!\" # votre code ici\n",
    "M1_hash = md5(M1.encode('utf8'))\n",
    "M1_hex = M1_hash.hexdigest()\n",
    "print(M1_hex)"
   ]
  },
  {
   "cell_type": "code",
   "execution_count": null,
   "metadata": {
    "inputHidden": false,
    "outputHidden": false
   },
   "outputs": [],
   "source": []
  }
 ],
 "metadata": {
  "kernel_info": {
   "name": "python3"
  },
  "kernelspec": {
   "display_name": "Python 3",
   "language": "python",
   "name": "python3"
  },
  "language_info": {
   "codemirror_mode": {
    "name": "ipython",
    "version": 3
   },
   "file_extension": ".py",
   "mimetype": "text/x-python",
   "name": "python",
   "nbconvert_exporter": "python",
   "pygments_lexer": "ipython3",
   "version": "3.7.5"
  },
  "nteract": {
   "version": "0.15.0"
  }
 },
 "nbformat": 4,
 "nbformat_minor": 1
}
