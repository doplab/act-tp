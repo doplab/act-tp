{
 "cells": [
  {
   "cell_type": "markdown",
   "metadata": {},
   "source": [
    "## Randomized algorithms\n",
    "Un algorithme randomisé prend par exemple des valeurs aléatoires comme inputs dans le but d'améliorer sa performance.\n",
    "\n",
    "Il existe deux principaux types d'algorithmes randomisés: Las Vegas & Monte Carlo.\n",
    "\n",
    "### Las Vegas Algorithm\n",
    "Il s'agit d'un algorithme utilisant une valeur aléatoire comme input pour toujours trouver une réponse **correcte**. Le temps d'exécution est cependant **très variable car non-déterministique**. Le nombre d'itérations varie.\n",
    "\n",
    "### Monte Carlo Algorithm\n",
    "Il s'agit d'un algorithme ayant une chance de produire une réponse **incorrecte**. Le temps d'exécution est cependant **fixe**. \n"
   ]
  },
  {
   "cell_type": "markdown",
   "metadata": {},
   "source": [
    "#### Exercise\n",
    "\n",
    "Etant donné une liste `L` de n éléments contenant la valeur `z`, trouvez l'index de `z`. Utilisez l'algorithme Las Vegas. \n",
    "\n",
    "Autrement dit, à la place de faire une recherche linéaire ou binaire, faites en sorte que l'algorithme cherche `z` de façon aléatoire. \n",
    "\n",
    "Le résultat doit retourner dans un tuple l'index de `z` et le nombre d'itérations effectuées.\n",
    "Example: (5,4)"
   ]
  },
  {
   "cell_type": "code",
   "execution_count": null,
   "metadata": {
    "inputHidden": false,
    "outputHidden": false
   },
   "outputs": [],
   "source": [
    "from random import randrange\n",
    "def lasvegas_search(L,n):\n",
    "    # votre code ici\n",
    "    \n",
    "\n",
    "L = [\"a\", \"g\", \"t\", \"r\", \"o\", \"z\", \"u\", \"p\"]\n",
    "n = len (L)\n",
    "lasvegas_search(L,n)"
   ]
  },
  {
   "cell_type": "markdown",
   "metadata": {},
   "source": [
    "#### Exercise\n",
    "\n",
    "Etant donné une liste `L` de n éléments contenant la valeur `z`, trouvez l'index de `z`. Utilisez l'algorithme Monte Carlo. \n",
    "\n",
    "Le résultat doit retourner dans un tuple la valeur de `tag`, l'index de `z` et le nombre d'itérations effectuées.\n",
    "Example: (True, 2, 6)"
   ]
  },
  {
   "cell_type": "code",
   "execution_count": null,
   "metadata": {
    "inputHidden": false,
    "outputHidden": false
   },
   "outputs": [],
   "source": [
    "from random import randrange\n",
    "def montecarlo_search(L,n,x):\n",
    "    i = 0\n",
    "    tag = False\n",
    "    # votre code ici\n",
    "   \n",
    "\n",
    "L = [\"a\", \"g\", \"t\", \"r\", \"o\", \"z\", \"u\", \"p\"]\n",
    "n = len (L)\n",
    "x = 5 #number of maximum iterations\n",
    "montecarlo_search(L,n,x)\n",
    "      "
   ]
  }
 ],
 "metadata": {
  "kernel_info": {
   "name": "python3"
  },
  "kernelspec": {
   "display_name": "Python 3",
   "language": "python",
   "name": "python3"
  },
  "language_info": {
   "codemirror_mode": {
    "name": "ipython",
    "version": 3
   },
   "file_extension": ".py",
   "mimetype": "text/x-python",
   "name": "python",
   "nbconvert_exporter": "python",
   "pygments_lexer": "ipython3",
   "version": "3.7.3"
  },
  "nteract": {
   "version": "0.15.0"
  }
 },
 "nbformat": 4,
 "nbformat_minor": 1
}
