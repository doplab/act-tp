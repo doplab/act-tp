{
 "cells": [
  {
   "cell_type": "markdown",
   "metadata": {},
   "source": [
    "## Exercise de base\n",
    "\n",
    "-Déclarez une classe publique `JavaAppbasics`\n",
    "\n",
    "-Déclarez une méthode publique statique `main`\n",
    "\n",
    "-Affichez:\n",
    "\n",
    "    `Hello! \n",
    "     My name is  Webskater! What is yours?`\n",
    "     \n",
    "-Demandez à l'utilisateur d'introduire son prénom\n",
    "\n",
    "-Affichez:\n",
    "\n",
    "    `Nice to meet you, prenom \n",
    "     Goodbye ...`"
   ]
  },
  {
   "cell_type": "code",
   "execution_count": null,
   "metadata": {},
   "outputs": [],
   "source": [
    "//package javaappbasics;\n",
    "\n",
    "import java.util.Scanner;"
   ]
  }
 ],
 "metadata": {
  "kernelspec": {
   "display_name": "Python 3",
   "language": "python",
   "name": "python3"
  },
  "language_info": {
   "codemirror_mode": {
    "name": "ipython",
    "version": 3
   },
   "file_extension": ".py",
   "mimetype": "text/x-python",
   "name": "python",
   "nbconvert_exporter": "python",
   "pygments_lexer": "ipython3",
   "version": "3.7.5"
  },
  "toc": {
   "base_numbering": 1,
   "nav_menu": {},
   "number_sections": false,
   "sideBar": false,
   "skip_h1_title": false,
   "title_cell": "Table of Contents",
   "title_sidebar": "Contents",
   "toc_cell": false,
   "toc_position": {},
   "toc_section_display": false,
   "toc_window_display": false
  }
 },
 "nbformat": 4,
 "nbformat_minor": 2
}
