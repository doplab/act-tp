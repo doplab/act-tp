{
 "cells": [
  {
   "cell_type": "markdown",
   "metadata": {},
   "source": [
    "# Classe et Set\n",
    "\n",
    "Dans cet exercice nous allons travailler sur l’intégration des sets en python et de leur utilisation avec des objets que nous déclarons.\n",
    "\n",
    "En mathématique un set (ou ensemble) est une collection d’objets distincts clairement définis.  \n",
    "\n",
    "En python, il existe deux classes pour créer des sets; l’une instancie un set muable et l’autre un set immuable, respectivement `set()` et `frozenset()`. \n",
    "\n",
    "Pour assurer qu’un élément est unique dans un set, python va utiliser le hash de ce dernier à l’aide de la fonction `hash()`. Les listes, dictionnaires et les sets ne sont pas hashable en python, il est donc impossible de les contenir dans un set. Il est possible que deux éléments differents aient le même hash, ceci s’appelle une collision. Pour s’assurer que deux éléments sont identiques quand ils ont le même hash, leurs valeurs sont comparées. Il est primordale que les objets dans un set soient immuables car si le hash d'un élément change, sa présence dans le set pourait être remise en question et python ne sera plus en mesure de le retrouver. \n",
    "\n",
    "Ce qui nous intéresse maintenant est de rendre une classe que l’on définie compatible avec les sets. Par défaut python utilisera comme input du hash d’un objet son adresse mémoire, ce qui veut dire que les hashs de deux instances ne seront jamais égaux même si les instances sont égales de par leurs attributs. \n",
    "\n",
    "Pour rendre cela possible, nous pouvons redéfinir les méthodes `__hash__(self)`et `__eq__(self)`. Attention il est obligatoire d’utiliser des attributs immuables. L’une des façons de faire cela est d’utiliser des attributs privés sans définir de methode setter pour les modifier. \n"
   ]
  },
  {
   "cell_type": "markdown",
   "metadata": {},
   "source": [
    "## En pratique:\n",
    "\n",
    "Ci-dessous une classe `Person` avec deux instances ayant la même valeur pour chaque attribut. Retournez leur hash respectif avec la methode `__hash__()` et testez si les objets sont égaux. Ensuite inserez-les dans un set. Que remarquez-vous lorsque vous imprimez le set ?"
   ]
  },
  {
   "cell_type": "code",
   "execution_count": null,
   "metadata": {},
   "outputs": [],
   "source": [
    "class Person():\n",
    "    def __init__(self,name,surname):\n",
    "        self.__name = name #on utilise __ devant self.__name pour le l'attribut name soit privé\n",
    "        self.__surname = surname\n",
    "    \n",
    "    def __repr__(self):\n",
    "        return str(self.__name + \" \" + self.__surname)\n",
    "\n",
    "        \n",
    "p1 = Person(\"Mathieu\", \"Leroy\")\n",
    "p2 = Person(\"Mathieu\", \"Leroy\")\n",
    "\n",
    "p1_hash = #votre code ici\n",
    "p2_hash = #votre code ici\n",
    "\n",
    "print(p1_hash, p2_hash, p1_hash == p2_hash)\n",
    "\n",
    "set1 = #votre code ici \n",
    "\n",
    "print(set1)\n"
   ]
  },
  {
   "cell_type": "markdown",
   "metadata": {},
   "source": [
    "#### Maintenant vous allez redefinir les methodes `__hash__()` et `__eq__()`dans la classe `Person()`ci-dessous et repetez les étapes ci-dessus:"
   ]
  },
  {
   "cell_type": "code",
   "execution_count": null,
   "metadata": {},
   "outputs": [],
   "source": [
    "class Person():\n",
    "    def __init__(self,name,surname):\n",
    "        self.__name = name #on utilise __ dans self.__name pour le l'attribut name soit privé\n",
    "        self.__surname = surname\n",
    "        \n",
    "    def __repr__(self):\n",
    "        return str(self.__name + \" \" + self.__surname)\n",
    "        \n",
    "    def __eq__(self,other):\n",
    "        #votre code ici\n",
    "    \n",
    "    def __hash(self):\n",
    "        #votre code ici\n",
    "    \n",
    "\n",
    "p3 = Person(\"Mathieu\", \"Leroy\")\n",
    "p4 = Person(\"Mathieu\", \"Leroy\")\n",
    "\n",
    "p3_hash = #votre code ici\n",
    "p4_hash = #votre code ici\n",
    "\n",
    "print(p3_hash, p4_hash, p3_hash == p4_hash)\n",
    "\n",
    "set2 = #votre code ici\n",
    "print(set2)       \n"
   ]
  }
 ],
 "metadata": {
  "kernelspec": {
   "display_name": "Python 3",
   "language": "python",
   "name": "python3"
  },
  "language_info": {
   "codemirror_mode": {
    "name": "ipython",
    "version": 3
   },
   "file_extension": ".py",
   "mimetype": "text/x-python",
   "name": "python",
   "nbconvert_exporter": "python",
   "pygments_lexer": "ipython3",
   "version": "3.7.3"
  }
 },
 "nbformat": 4,
 "nbformat_minor": 2
}
