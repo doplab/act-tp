{
 "cells": [
  {
   "cell_type": "markdown",
   "metadata": {},
   "source": [
    "# Interfaces\n",
    "\n",
    "## Concept\n",
    "\n",
    "Le concept d'interface est l'un des plus importants en programmation orientée objets.\n",
    "\n",
    "Les interfaces sont des concepts d'abstraction très puissants qui consistent à cacher la complexité d'une technologie derrière un ensemble d'outils faciles d'utilisation pour le client. Ce qui veut dire que vous n'avez pas besoin de comprendre comment la technologie que vous utilisez fonctionne pour pouvoir vous en servir.\n",
    "\n",
    "Par exemple, lorsque vous utilisez une machine à café, vous n'avez pas besoin de savoir ce qu'il se passe à l'intérieur pour pouvoir vous faire un café. Il vous suffit de connaître l'interface (boutons, réservoir d'eau, entrée pour la capsule, etc.)\n",
    "\n",
    "De la même façon, en programmation, lorsque vous utilisez la méthode `append` de la classe `list`, vous n'avez aucune idée ce qu'il se passe derrière, mais vous savez ce que le résultat sera.\n",
    "\n",
    "## Ségrégation d'interfaces\n",
    "### Un client ne devrait jamais être dépendant des méthodes dont il n'a pas besoin\n",
    "\n",
    "En programmation, il vous arrivera souvent de créer des classes avec des fonctionnements très compliqués, et vous ne voudrez pas que le programmeur qui se sert de votre classe ait à relire toutes vos lignes de code, mais plutôt qu'il ait un moyen très simple de réutiliser ce que vous avez fait. C'est pourquoi, vous mettrez à sa disposition un interface qui cachera la complexité et n'exposera votre collègue qu'à votre abstraction.\n",
    "\n",
    "**Par exemple**, vous pourriez programmer un jeu vidéo dans lequel vous mettriez une classe `Explosif`. Mettons que cette classe ait une méthode `exploser`. Si vous faites un bon travail avec votre interface, votre collègue pourra reprendre votre classe et faire simplement:\n",
    "\n",
    "    explosif = Explosif(x, y, z, intensité)\n",
    "    explosif.exploser()\n",
    "    \n",
    "Mais si votre interface n'est pas bien construit, votre collègue pourrait avoir potentiellement beaucoup de lignes de code à écrire et donc augmenter la complexité du programme pour rien, par exemple:\n",
    "\n",
    "    explosif = Explosif(x, y, z, intensité, sprite, renderer, Game.instance(), polygons, ...)\n",
    "    explosif.pre_render(Game.renderer())\n",
    "    explosif.compute_collisions(Game.objects())\n",
    "    explosif.render(Game.renderer())\n",
    "    radius = explosif.compute_radius()\n",
    "    players_in_radius = explosif.exploser(radius, Game.players())\n",
    "    for player in players_in_radius:\n",
    "        player.reduce_hp(explosif.intensité*(1-player.armor))\n",
    "        if player.hp <= 0:\n",
    "            player.die(Game.instance(), Game.renderer())\n",
    "        \n",
    "Dans cet exemple grotesque, vous voyez que vous auriez pu cacher toute la complexité et sauver beaucoup de temps à votre collègue en mettant toute la complexité dans la fonction `exploser`. Ainsi il n'aurait pas été contraint de devoir comprendre tout ce qu'il se passe.\n",
    "\n",
    "*Veuillez noter que le collègue en question peut être vous-même dans quelques semaines lorsque vous reviendrez sur votre code.*\n",
    "\n",
    "\n",
    "## Contrat\n",
    "\n",
    "Une autre façon de voir les interfaces est de les considérer comme des contrats. Ces contrats stipulent que vous vous engagez à implémenter une certaine quantité de méthodes pour votre classe. Ces méthodes pourront donc être réutilisées ailleurs dans le code car vous aurez garanti qu'elles sont implémentées.\n",
    "\n",
    "Par exemple, tous les `boutons` sur lesquels vous cliquez ont en commun le fait que vous pouvez cliquer dessus, ce qui entraînera un certain événement. L'interface que l'hypothétique classe `Bouton` s'engage à implémenter serait l'interface `Clickable` qui garantit l'implémentation de la méthode `click`.\n",
    "\n",
    "On pourrait donc avoir deux boutons qui ont un rôle totalement différent mais qui partageraient le même interface `Clickable`. On pourrait ensuite imaginer un système dans votre navigateur qui attend qu'un bouton soit cliqué, et qui appelle la méthode correspondante.\n",
    "\n",
    "    class Clickable:\n",
    "        def click(self):\n",
    "            pass\n",
    "            \n",
    "    class ChangeColorButton(Clickable):\n",
    "        # BOUTON qui change la couleur de la page\n",
    "        def click(self):\n",
    "            window.change_color(\"red\")\n",
    "\n",
    "    class PrinterButton(Clickable):\n",
    "        # BOUTON qui affiche bonjour\n",
    "        def click(self):\n",
    "            print(\"Bonjour\")\n",
    "            \n",
    "    change_color = ChangeColorButton()\n",
    "    printer = PrinterButton()\n",
    "     \n",
    "    boutons = [change_color, printer]\n",
    "    for i in boutons:\n",
    "        i.click() \n",
    "        # Mes boutons ne sont pas de la même classe mais ils implémentent le même interface donc je peux appeler leurs méthodes click même si elles ne font pas la même chose\n",
    "\n",
    "## Vous avez déjà utilisé des interfaces\n",
    "\n",
    "Comme vous l'avez vu la semaine dernière, la fonction `print` appelle en fait la méthode `__str__` de la classe que vous avez passée en argument. Ce qui veut dire que pour pouvoir utiliser la fonction `print`, il faut que vous ayez implémenté son interface."
   ]
  },
  {
   "cell_type": "markdown",
   "metadata": {},
   "source": [
    "# Exercice\n",
    "\n",
    "Soit l'interface `Button` et la class `BlueButton`, construisez les class `RedButton`, `GreenButton` et `YellowButton` qui implémentent l'interface `Button`."
   ]
  },
  {
   "cell_type": "code",
   "execution_count": 17,
   "metadata": {},
   "outputs": [
    {
     "data": {
      "text/html": [
       "<button style=\"background:blue; color:white; width: 100px; text-align:center; border-radius:10px; border:none; height: 30px;\" onclick=\"document.querySelector('#notebook').style.background='blue'\">blue</button>"
      ],
      "text/plain": [
       "<IPython.core.display.HTML object>"
      ]
     },
     "metadata": {},
     "output_type": "display_data"
    },
    {
     "data": {
      "text/html": [
       "<button style=\"background:url(https://media2.giphy.com/media/sIIhZliB2McAo/source.gif); color:white; width: 100px; text-align:center; border-radius:10px; border:none; height: 30px;\" onclick=\"document.querySelector('#notebook').style.background='url(https://media2.giphy.com/media/sIIhZliB2McAo/source.gif)'\">Nyan Cat</button>"
      ],
      "text/plain": [
       "<IPython.core.display.HTML object>"
      ]
     },
     "metadata": {},
     "output_type": "display_data"
    }
   ],
   "source": [
    "from IPython.display import display, HTML, Javascript\n",
    "\n",
    "class Button:\n",
    "    global_id = 0\n",
    "    instances = []\n",
    "    \n",
    "    def __init__(self, text):\n",
    "        self.text = text\n",
    "        self._id = Button.global_id\n",
    "        Button.global_id += 1\n",
    "        Button.instances.append(self)\n",
    "        self.render()\n",
    "        \n",
    "    def render(self):\n",
    "        display(HTML('<button style=\"background:%s; color:white; width: 100px; text-align:center; border-radius:10px; border:none; height: 30px;\" onclick=\"document.querySelector(\\'#notebook\\').style.background=\\'%s\\'\">%s</button>' % (self.click(), self.click(), self.text)))\n",
    "\n",
    "    def click(self):\n",
    "        raise Exception(\"La méthode click n'est pas implémentée\")\n",
    "        \n",
    "class BlueButton(Button):\n",
    "    def click(self):\n",
    "        return \"blue\"\n",
    "    \n",
    "class NyanCatButton(Button):\n",
    "    def click(self):\n",
    "        return \"url(https://media2.giphy.com/media/sIIhZliB2McAo/source.gif)\"\n",
    "        \n",
    "blue = BlueButton(\"blue\")\n",
    "nyancat = NyanCatButton(\"Nyan Cat\")"
   ]
  },
  {
   "cell_type": "code",
   "execution_count": null,
   "metadata": {},
   "outputs": [],
   "source": []
  }
 ],
 "metadata": {
  "kernelspec": {
   "display_name": "Python 3",
   "language": "python",
   "name": "python3"
  },
  "language_info": {
   "codemirror_mode": {
    "name": "ipython",
    "version": 3
   },
   "file_extension": ".py",
   "mimetype": "text/x-python",
   "name": "python",
   "nbconvert_exporter": "python",
   "pygments_lexer": "ipython3",
   "version": "3.7.3"
  }
 },
 "nbformat": 4,
 "nbformat_minor": 2
}
