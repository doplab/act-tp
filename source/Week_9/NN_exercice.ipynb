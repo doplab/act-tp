{
 "cells": [
  {
   "cell_type": "markdown",
   "metadata": {},
   "source": [
    "## Nearest neighbor search\n",
    "On l'appele **Recherche des plus proches voisins** en français.\n",
    "\n",
    "La recherche des plus proches voisins, ou des k plus proches voisins, est un problème algorithmique classique. De façon informelle le problème consiste, étant donné un point à trouver dans un ensemble d'autres points, quels sont les k plus proches.\n",
    "\n",
    "Cliquez [ici] pour plus d'informations.\n",
    "\n",
    "[ici]: https://fr.wikipedia.org/wiki/Recherche_des_plus_proches_voisins"
   ]
  },
  {
   "cell_type": "markdown",
   "metadata": {},
   "source": [
    "Calculer la distance entre deux points en utilisant la formule de distance euclidienne. Voici la formule :\n",
    "\n",
    "point1 = (x1, y1)    \n",
    "point2 = (x2, y2)\n",
    "\n",
    "distance = Racine Carrée de ( ( x1 - x2 )^2 + ( y1 - y2 )^2 ) \n",
    "\n",
    "\n",
    "Vous pouvez utiliser **math.sqrt(...)** pour calculer la racine carrée d'un nombre."
   ]
  },
  {
   "cell_type": "code",
   "execution_count": 62,
   "metadata": {},
   "outputs": [],
   "source": [
    "import math  \n",
    "\n",
    "def calculate_distance(point1, point2):\n",
    "    # votre code ici\n",
    "    "
   ]
  },
  {
   "cell_type": "markdown",
   "metadata": {},
   "source": [
    "On vous donne une liste de points et un point pour trouver son voisin le plus proche.    \n",
    "Suivez les étapes suivantes pour implémenter l'algorithme du voisin le plus proche.\n",
    "\n",
    "1. Déplacez tous les points.\n",
    "2. Pour chaque point, calculez la distance entre le nœud actuel et le nœud donné.\n",
    "3. Retournez le nœud le plus proche et sa distance au nœud donné."
   ]
  },
  {
   "cell_type": "code",
   "execution_count": 63,
   "metadata": {},
   "outputs": [],
   "source": [
    "def nearest_neighbor(thePoint, pointList):\n",
    "    #votre code ici\n",
    "    "
   ]
  },
  {
   "cell_type": "code",
   "execution_count": 64,
   "metadata": {},
   "outputs": [
    {
     "name": "stdout",
     "output_type": "stream",
     "text": [
      "Point: [2, 3] Distance: 1.4142135623730951\n"
     ]
    }
   ],
   "source": [
    "pointList = [[2,3],[5,6],[1,4],[2,4],[3,5]]\n",
    "point = [1,2]\n",
    "result = nearestNeighbor(point, pointList)\n",
    "print(\"Point: {0} Distance: {1}\".format(result[0], result[1]))"
   ]
  },
  {
   "cell_type": "code",
   "execution_count": null,
   "metadata": {},
   "outputs": [],
   "source": []
  }
 ],
 "metadata": {
  "kernelspec": {
   "display_name": "Python 3",
   "language": "python",
   "name": "python3"
  },
  "language_info": {
   "codemirror_mode": {
    "name": "ipython",
    "version": 3
   },
   "file_extension": ".py",
   "mimetype": "text/x-python",
   "name": "python",
   "nbconvert_exporter": "python",
   "pygments_lexer": "ipython3",
<<<<<<< HEAD
   "version": "3.7.3"
=======
   "version": "3.7.5"
>>>>>>> 2a17406bdd82f9904802cf959bed484f75cf9027
  }
 },
 "nbformat": 4,
 "nbformat_minor": 2
}
