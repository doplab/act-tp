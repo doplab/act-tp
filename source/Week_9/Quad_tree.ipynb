{
 "cells": [
  {
   "cell_type": "markdown",
   "metadata": {},
   "source": [
    "## Spatial tree structures \n",
    "Il existe trois différentes structures de données sous forme d'arbres: \n",
    "- Quad-tree\n",
    "- Kd-tree\n",
    "- R-tree\n",
    "\n",
    "Les trois sont utilisées comme méthodes d'exploration spatiale pour indexer des informations multidimensionnelles.\n",
    "\n",
    "## Quad-tree\n",
    "**Rappel:**\n",
    "- Un arbre récursif où tous les noeuds internes ont 4 enfants.\n",
    "\n",
    "- Chaque noeud interne est une cellule qui peut être divisée en 4 sous-cellules de même taille.\n",
    "\n",
    "- Les \"leaf\" (noeuds) contiennent chacun un objet. \n",
    "\n",
    "**Démarche pour faire un quad-tree à la main:**\n",
    "- Diviser l'espace 2d en 4 sous-espaces.\n",
    "- Créer un sous-sous-espace si un sous-espace contient plusieurs objets jusqu'à ce que chaque petit espace ne contienne qu'un objet.\n",
    "\n",
    "Ainsi, le quad-tree n'est pas forcément équilibré, car certains sous-espaces ne doivent pas être encore plus divisés.\n",
    "\n",
    "**Utilisation des quad-trees:**\n",
    "- Compresser des images, où chaque noeud contient la couleur moyenne de ses enfants.\n",
    "- Trouver un noeud dans un espace 2D.\n",
    "- Trouver le noeud le plus proche de certaines coordonnées xy.\n",
    "\n",
    "Les niveaux de l'arbre nous permettent de naviguer entre différents niveaux de détails.\n",
    "\n",
    "Le quad-tree est un peu comme l'équivalent 2D de la recherche binaire utilisée sur une liste 1D. "
   ]
  },
  {
   "cell_type": "markdown",
   "metadata": {},
   "source": [
    "### Exercise\n",
    "\n",
    "Dessinez sur une feuille de papier un quadtree contenant les points rouges du plan donné ci-dessous.\n",
    "\n",
    "Combien de niveaux contient le quad-tree?"
   ]
  },
  {
   "cell_type": "markdown",
   "metadata": {},
   "source": [
    "<img src=\"https://github.com/doplab/act-tp/blob/master/images/quad_tree.png?raw=true\" />"
   ]
  },
  {
   "cell_type": "markdown",
   "metadata": {},
   "source": [
    "### Exercise\n",
    "\n",
    "<img src=\"https://github.com/doplab/act-tp/blob/master/images/bonhomme.png?raw=true\" />\n",
    "\n",
    "Imaginez que vous êtes un agent secret et que vous écoutez les transmissions radios de vos ennemis. Repèrez de quelles couleurs sont masqués vos ennemis grâce aux indices suivants:\n",
    "- Position 334 \n",
    "- Position 4314 \n",
    "- Position 22 \n",
    "- Position 133 \n",
    "- Position 42 \n"
   ]
  },
  {
   "cell_type": "code",
   "execution_count": null,
   "metadata": {},
   "outputs": [],
   "source": []
  }
 ],
 "metadata": {
  "kernel_info": {
   "name": "python3"
  },
  "kernelspec": {
   "display_name": "Python 3",
   "language": "python",
   "name": "python3"
  },
  "language_info": {
   "codemirror_mode": {
    "name": "ipython",
    "version": 3
   },
   "file_extension": ".py",
   "mimetype": "text/x-python",
   "name": "python",
   "nbconvert_exporter": "python",
   "pygments_lexer": "ipython3",
   "version": "3.7.2"
  },
  "nteract": {
   "version": "0.15.0"
  }
 },
 "nbformat": 4,
 "nbformat_minor": 1
}
