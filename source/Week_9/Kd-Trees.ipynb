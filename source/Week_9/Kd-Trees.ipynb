{
 "cells": [
  {
   "cell_type": "markdown",
   "metadata": {
    "nbgrader": {
     "grade": false,
     "grade_id": "cell-d978fb7220288349",
     "locked": true,
     "schema_version": 3,
     "solution": false,
     "task": false
    }
   },
   "source": [
    "# Kd-trees\n",
    "\n",
    "## Exercice papier\n",
    "\n",
    "Insérez les données suivantes dans un Kd-tree où k = 2 avec une représentation sous forme d’arbre et une sous forme d’un plan 2d (x,y)  : \n",
    "\n",
    "(51,75),(70,70),(25,40),(35,90),(60,80),(10,30),(1,10),(55,1),(50,50)\n",
    "\n",
    "À l’aide de votre arbre, trouvez les deux points qui ont les valeurs minimales pour x et y\n"
   ]
  }
 ],
 "metadata": {
  "celltoolbar": "Create Assignment",
  "kernelspec": {
   "display_name": "Python 3",
   "language": "python",
   "name": "python3"
  },
  "language_info": {
   "codemirror_mode": {
    "name": "ipython",
    "version": 3
   },
   "file_extension": ".py",
   "mimetype": "text/x-python",
   "name": "python",
   "nbconvert_exporter": "python",
   "pygments_lexer": "ipython3",
   "version": "3.7.5"
  }
 },
 "nbformat": 4,
 "nbformat_minor": 2
}
