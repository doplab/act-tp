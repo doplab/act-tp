{
 "cells": [
  {
   "cell_type": "markdown",
   "metadata": {
    "colab_type": "text",
    "id": "jxZOuPVbYPKd",
    "nbgrader": {
     "grade": false,
     "grade_id": "cell-1fe68564e01bae54",
     "locked": true,
     "schema_version": 3,
     "solution": false,
     "task": false
    }
   },
   "source": [
    "# Introduction à Python\n",
    "\n",
    "### A. Fonction input\n",
    "\n",
    "_Demande input d'utilisateur_\n",
    "\n",
    "Completez le code afin que le contenu de input_string soit l'output."
   ]
  },
  {
   "cell_type": "code",
   "execution_count": 0,
   "metadata": {
    "colab": {},
    "colab_type": "code",
    "id": "GO2iHte9bXXj"
   },
   "outputs": [],
   "source": [
    "input_string = input(\"Quel est votre prénom? \")\n",
    "print(\"Bonjour, \", input_string)"
   ]
  },
  {
   "cell_type": "markdown",
   "metadata": {
    "nbgrader": {
     "grade": false,
     "grade_id": "cell-b969855d100980e9",
     "locked": true,
     "schema_version": 3,
     "solution": false,
     "task": false
    }
   },
   "source": [
    "### Exercice:\n",
    "Modifiez le code ci dessus pour également demander le nom de famille puis affichez `Bonjour, {prénom} {nom}`"
   ]
  },
  {
   "cell_type": "markdown",
   "metadata": {
    "colab_type": "text",
    "id": "FG9GThsCdbMm",
    "nbgrader": {
     "grade": false,
     "grade_id": "cell-14d1cd343ea73bec",
     "locked": true,
     "schema_version": 3,
     "solution": false,
     "task": false
    }
   },
   "source": [
    "### B. Variables\n",
    "\n",
    "_Définition de variable, type de variable, conversion de type, opérateurs arithmétiques, opérateurs booléens et opérateurs de comparaison._\n",
    "\n",
    "Introduissez une variable de type string nom_chien, une variable de type integer age_chien.\n",
    "\n",
    "Affichez \"Mon chien nommé (nom_chien) et agé de (age_chien) ans.\" en utilisant la fonction format().\n",
    "\n",
    "Affichez \"Mon chien nommé (nom_chien) et agé de (age_chien) ans.\" en utilisant le symbole %."
   ]
  },
  {
   "cell_type": "code",
   "execution_count": null,
   "metadata": {
    "nbgrader": {
     "grade": false,
     "grade_id": "cell-4af466fc52de64bc",
     "locked": true,
     "schema_version": 3,
     "solution": false,
     "task": false
    }
   },
   "outputs": [],
   "source": [
    "nom_chien = \"Lola\"\n",
    "age_chien = 3\n",
    "\n",
    "print(\"Mon chien nommé {0} et agé de {1} ans.\".format(nom_chien,age_chien))\n",
    "print(\"Mon chien nommé %s et agé de %d ans.\" % (nom_chien,age_chien))"
   ]
  },
  {
   "cell_type": "markdown",
   "metadata": {
    "nbgrader": {
     "grade": false,
     "grade_id": "cell-9d3a33bdbe89f90a",
     "locked": true,
     "schema_version": 3,
     "solution": false,
     "task": false
    }
   },
   "source": [
    "### Exercice:\n",
    "Changez le code ci dessus pour demander à l'utilisateur d'entrer le nom de son chien"
   ]
  },
  {
   "cell_type": "code",
   "execution_count": 0,
   "metadata": {
    "colab": {},
    "colab_type": "code",
    "id": "9eReTJtIi00n"
   },
   "outputs": [],
   "source": [
    "nom_chien = \"Lola\"\n",
    "age_chien = 3\n",
    "\n",
    "print(type(nom_chien))\n",
    "print(type(age_chien))"
   ]
  },
  {
   "cell_type": "markdown",
   "metadata": {
    "colab_type": "text",
    "id": "l96YBu0sjTAL",
    "nbgrader": {
     "grade": false,
     "grade_id": "cell-27abe2f12d5fa6ee",
     "locked": true,
     "schema_version": 3,
     "solution": false,
     "task": false
    }
   },
   "source": [
    "### Exercice:\n",
    "\n",
    "Modifiez la valeur de la variable `age_chien` afin que le chiffre soit un float (nombre à virgule).\n",
    "\n",
    "Assurez vous que la variable `age_chien` soit un float en affichant le type de la variable. \n",
    "\n",
    "Affichez la valeur de la variable `age_chien` en float et en integer.\n",
    "\n",
    "*Vous pouvez vérifier le type de chaque variable dans la cellule ci dessus*"
   ]
  },
  {
   "cell_type": "markdown",
   "metadata": {
    "colab_type": "text",
    "id": "ZuEvj2ffk4pm",
    "nbgrader": {
     "grade": false,
     "grade_id": "cell-bc65bbe4212f1225",
     "locked": true,
     "schema_version": 3,
     "solution": false,
     "task": false
    }
   },
   "source": [
    "### Exercice:\n",
    "\n",
    "Créez une variable `poids_chien`, `resultat`, `remainder`.\n",
    "\n",
    "Divisez la valeur de la variable `poids_chien` par deux et enregistrez le résultat dans la variable `resultat`.\n",
    "\n",
    "Trouvez le reste de la division grâce à la fonction modulo `%` et enregistrez le résultat dans la variable `remainder`."
   ]
  },
  {
   "cell_type": "code",
   "execution_count": 2,
   "metadata": {
    "colab": {},
    "colab_type": "code",
    "id": "nhMdMzUBmpGk"
   },
   "outputs": [
    {
     "name": "stdout",
     "output_type": "stream",
     "text": [
      "Résultat: \n",
      "\u001b[32m\"Bonne réponse!\"\u001b[0m\n",
      "Remainder\n",
      "\u001b[31m\"Mauvaise réponse, réessayez\"\u001b[0m\n"
     ]
    }
   ],
   "source": [
    "from assertion import assert_division\n",
    "\n",
    "# VOTRE CODE ICI\n",
    "poids_chien = \n",
    "poids_ideal = \n",
    "resultat = \n",
    "remainder = \n",
    "# FIN DE VOTRE CODE\n",
    "\n",
    "assert_division(poids_chien, resultat, remainder)"
   ]
  },
  {
   "cell_type": "markdown",
   "metadata": {
    "colab_type": "text",
    "id": "A83_JRAQoDRM",
    "nbgrader": {
     "grade": false,
     "grade_id": "cell-63742057484f8427",
     "locked": true,
     "schema_version": 3,
     "solution": false,
     "task": false
    }
   },
   "source": [
    "Diminuez la valeur de la variable `poids_ideal` de `2`. \n",
    "\n",
    "Diminuez la valeur de la variable `poids_chien` de `1` ."
   ]
  },
  {
   "cell_type": "code",
   "execution_count": 13,
   "metadata": {
    "colab": {},
    "colab_type": "code",
    "id": "4CQOz81IoxEk"
   },
   "outputs": [
    {
     "name": "stdout",
     "output_type": "stream",
     "text": [
      "\u001b[32m\"Bonne réponse!\"\u001b[0m\n"
     ]
    }
   ],
   "source": [
    "from assertion import State, assert_sub\n",
    "prev = State(\"sub\", poids_chien=poids_chien, poids_ideal=poids_ideal)\n",
    "\n",
    "# VOTRE CODE ICI\n",
    "poids_ideal -=\n",
    "poids_chien -=\n",
    "# FIN DE VOTRE CODE\n",
    "\n",
    "assert_sub(prev, State(poids_chien=poids_chien, poids_ideal=poids_ideal))"
   ]
  },
  {
   "cell_type": "markdown",
   "metadata": {
    "colab_type": "text",
    "id": "N907Ur0jpR-2",
    "nbgrader": {
     "grade": false,
     "grade_id": "cell-cd93a679a385c211",
     "locked": true,
     "schema_version": 3,
     "solution": false,
     "task": false
    }
   },
   "source": [
    "### Exercice:\n",
    "\n",
    "Vérifiez si la valeur de la variable `poids_chien` est égale à celle de la variable `poids_ideal` en utilisant un opérateur qui donne une réponse booléenne `True` ou `False`. Stockez la réponse booléenne dans la variable `egalite_poids`. \n",
    "\n",
    "Affichez la valeur de la variable `egalite_poids`."
   ]
  },
  {
   "cell_type": "code",
   "execution_count": 3,
   "metadata": {
    "colab": {},
    "colab_type": "code",
    "id": "hBU6YQDHpx0o"
   },
   "outputs": [
    {
     "name": "stdout",
     "output_type": "stream",
     "text": [
      "\u001b[32m\"Bonne réponse!\"\u001b[0m\n"
     ]
    }
   ],
   "source": [
    "from assertion import assert_equal\n",
    "\n",
    "\n",
    "# VOTRE CODE ICI\n",
    "egalite_poids =\n",
    "# FIN DE VOTRE CODE\n",
    "\n",
    "assert_equal(poids_chien, poids_ideal, egalite_poids)"
   ]
  },
  {
   "cell_type": "markdown",
   "metadata": {
    "colab_type": "text",
    "id": "4xOClItTqp-O",
    "nbgrader": {
     "grade": false,
     "grade_id": "cell-401a0b5b8da510c6",
     "locked": true,
     "schema_version": 3,
     "solution": false,
     "task": false
    }
   },
   "source": [
    "### Exercice:\n",
    "\n",
    "Vérifiez que la valeur de la variable `poids_chien` est plus petite ou égale que celle de la variable `poids_ideal`. Stockez la réponse booléenne dans la variable `comparaison_poids`.\n",
    "\n",
    "Affichez la valeur de la variable `comparaison_poids`.\n",
    "\n",
    "Vérifiez que la valeur de la variable `poids_ideal` est plus grande que celle de la variable `poids_chien` en une seule ligne grâce à la fonction `print`."
   ]
  },
  {
   "cell_type": "code",
   "execution_count": 0,
   "metadata": {
    "colab": {},
    "colab_type": "code",
    "id": "Sc0nBnLurSko"
   },
   "outputs": [],
   "source": [
    "from assertion import assert_comparison\n",
    "\n",
    "\n",
    "# VOTRE CODE ICI\n",
    "comparison_poids =\n",
    "# FIN DE VOTRE CODE\n",
    "\n",
    "assert_comparison(poids_chien, poids_ideal, comparison_poids)"
   ]
  },
  {
   "cell_type": "markdown",
   "metadata": {
    "colab_type": "text",
    "id": "pngh69pPrqeg",
    "nbgrader": {
     "grade": false,
     "grade_id": "cell-3cf89cf22bc69ffa",
     "locked": true,
     "schema_version": 3,
     "solution": false,
     "task": false
    }
   },
   "source": [
    "### C. Strings\n",
    "\n",
    "_Index, slicing, in, length_\n",
    "\n",
    "Définissez une nouvelle variable du nom `python3` de type `string` contenant `\"Hard but cool!\"` ou un autre texte de votre choix (d'au moins 13 charactères).\n",
    "\n",
    "Definissez la valeur de la variable `premiere_lettre` comme le premier charactère de `python3` en utilisant l'indexation.\n",
    "\n",
    "Definissez la valeur de la variable `derniere_lettre` comme le dernier charactère de `python3` en utilisant l'indexation.\n",
    "\n",
    "Affichez la valeur de `premiere_lettre` et `derniere_lettre` sur deux lignes disctintes."
   ]
  },
  {
   "cell_type": "code",
   "execution_count": 2,
   "metadata": {
    "colab": {},
    "colab_type": "code",
    "id": "RvLGlHyPxPho"
   },
   "outputs": [
    {
     "name": "stdout",
     "output_type": "stream",
     "text": [
      "python3\n",
      "\u001b[32m\"Bonne réponse!\"\u001b[0m\n",
      "Première lettre\n",
      "\u001b[32m\"Bonne réponse!\"\u001b[0m\n",
      "Dernière lettre\n",
      "\u001b[32m\"Bonne réponse!\"\u001b[0m\n"
     ]
    }
   ],
   "source": [
    "from assertion import assert_strings\n",
    "\n",
    "# VOTRE CODE ICI\n",
    "python3 =\n",
    "premiere_lettre =\n",
    "derniere_lettre =\n",
    "# FIN DE VOTRE CODE\n",
    "\n",
    "assert_strings(python3, premiere_lettre, derniere_lettre)"
   ]
  },
  {
   "cell_type": "markdown",
   "metadata": {
    "colab_type": "text",
    "id": "VYkjUcAT0eMH",
    "nbgrader": {
     "grade": false,
     "grade_id": "cell-5f65465142df9d69",
     "locked": true,
     "schema_version": 3,
     "solution": false,
     "task": false
    }
   },
   "source": [
    "### Exercice:\n",
    "\n",
    "Définissez une variable `quatre` qui reprend les `4` premiers charactères de `python3` en utilisant le slicing `str[ind1:ind2]`. \n",
    "\n",
    "Définissez une variable `neuf_treize` qui reprend les charactères `9 à 13` de `python3` en utilisant le slicing `str[ind1:ind2]`.\n",
    "\n",
    "Définissez une variable `cinq_huit` qui reprend le \"but\" de `python3` en utilisant le slicing `str[ind1:ind2]`.\n",
    "\n",
    "Affichez les valeurs de `quatre`, `neuf_treize` et `cinq_huit` sur une seule ligne. "
   ]
  },
  {
   "cell_type": "code",
   "execution_count": 4,
   "metadata": {
    "colab": {},
    "colab_type": "code",
    "id": "lcTE86Zl2FGn"
   },
   "outputs": [
    {
     "name": "stdout",
     "output_type": "stream",
     "text": [
      "Quatre premiers charactères\n",
      "\u001b[31m\"Mauvaise réponse, réessayez\"\u001b[0m\n",
      "Charatères 9 à 13\n",
      "\u001b[32m\"Bonne réponse!\"\u001b[0m\n",
      "Charactères 5 à 8\n",
      "\u001b[32m\"Bonne réponse!\"\u001b[0m\n"
     ]
    }
   ],
   "source": [
    "from assertion import assert_slicing\n",
    "\n",
    "# VOTRE CODE ICI\n",
    "quatre =\n",
    "neuf_treize =\n",
    "cinq_huit =\n",
    "# FIN DE VOTRE CODE\n",
    "\n",
    "assert_slicing(python3, quatre,neuf_treize,cinq_huit)"
   ]
  },
  {
   "cell_type": "markdown",
   "metadata": {
    "colab_type": "text",
    "id": "EY1NVENZ2_kx",
    "nbgrader": {
     "grade": false,
     "grade_id": "cell-c14557b594d21ed8",
     "locked": true,
     "schema_version": 3,
     "solution": false,
     "task": false
    }
   },
   "source": [
    "Vérifiez et affichez que le mot \"joke\" se trouve dans `python3` grâce à l'opérateur `in`.  \n",
    "\n",
    "Vérifiez et affichez que le mot \"but\" se trouve dans `python3` grâce à l'opérateur `in`. "
   ]
  },
  {
   "cell_type": "code",
   "execution_count": 0,
   "metadata": {
    "colab": {},
    "colab_type": "code",
    "id": "cJkJtKuG3Xp0"
   },
   "outputs": [],
   "source": [
    "print(\"joke\" in python3)\n",
    "print(\"but\" in python3)"
   ]
  },
  {
   "cell_type": "markdown",
   "metadata": {
    "colab_type": "text",
    "id": "QMpaHnQZ4Xn6",
    "nbgrader": {
     "grade": false,
     "grade_id": "cell-d87749b2c29ce107",
     "locked": true,
     "schema_version": 3,
     "solution": false,
     "task": false
    }
   },
   "source": [
    "### Exercice:\n",
    "\n",
    "Définissez `first_half` comme étant la première moitié de charactères stocké dans python3 en utilisant la fonction `len()`.\n",
    "\n",
    "Affichez `first_half`."
   ]
  },
  {
   "cell_type": "code",
   "execution_count": 7,
   "metadata": {
    "colab": {},
    "colab_type": "code",
    "id": "9kwnr7Ov41Lo"
   },
   "outputs": [
    {
     "name": "stdout",
     "output_type": "stream",
     "text": [
      "Hard\n",
      "\u001b[31m\"Mauvaise réponse, réessayez\"\u001b[0m\n"
     ]
    }
   ],
   "source": [
    "from assertion import assert_half\n",
    "\n",
    "# VOTRE CODE ICI\n",
    "first_half =\n",
    "# FIN DE VOTRE CODE\n",
    "\n",
    "print(first_half)\n",
    "\n",
    "assert_half(python3, first_half)"
   ]
  },
  {
   "cell_type": "markdown",
   "metadata": {
    "colab_type": "text",
    "id": "0CCR_tFg5ZRx",
    "nbgrader": {
     "grade": false,
     "grade_id": "cell-f933c0b7359fecf2",
     "locked": true,
     "schema_version": 3,
     "solution": false,
     "task": false
    }
   },
   "source": [
    "### Exercice:\n",
    "\n",
    "Définissez et affichez `dont_worry` comme \"Don't worry, you're gonna become a king!\"\n",
    "\n",
    "Affichez \"It's just like Rock'n'Roll!\" sans créer de nouvelle variable.\n",
    "\n",
    "Affichez `dont_worry` en majuscule et minuscule sur deux lignes."
   ]
  },
  {
   "cell_type": "code",
   "execution_count": 9,
   "metadata": {
    "colab": {},
    "colab_type": "code",
    "id": "BbWdkoIg6ttE"
   },
   "outputs": [
    {
     "name": "stdout",
     "output_type": "stream",
     "text": [
      "Don't worry\n",
      "\u001b[32m\"Bonne réponse!\"\u001b[0m\n",
      "Lower\n",
      "\u001b[31m\"Mauvaise réponse, réessayez\"\u001b[0m\n",
      "Upper\n",
      "\u001b[32m\"Bonne réponse!\"\u001b[0m\n"
     ]
    }
   ],
   "source": [
    "from assertion import assert_dont_worry\n",
    "\n",
    "# VOTRE CODE ICI\n",
    "dont_worry = \n",
    "upper = \n",
    "lower =\n",
    "# FIN DE VOTRE CODE\n",
    "\n",
    "assert_dont_worry(dont_worry, upper, lower)"
   ]
  },
  {
   "cell_type": "markdown",
   "metadata": {
    "colab_type": "text",
    "id": "xJBnj4KMai7s",
    "nbgrader": {
     "grade": false,
     "grade_id": "cell-09c73fe82b786478",
     "locked": true,
     "schema_version": 3,
     "solution": false,
     "task": false
    }
   },
   "source": [
    "### D. Conditions\n",
    "_Opérateurs booléens, If, else_\n",
    "\n",
    "Définissez une variable string `name`, une variable integer `age`, une variable integer `brothers` et une variable `sisters`.\n",
    "\n",
    "Vérifiez et affichez que `name` est égal à la valeur de `name` OU que `age` est égal à la valeur de `age` en une seule ligne. Faites la même chose avec AND NOT.\n",
    "\n",
    "Vérifiez et affichez que `name` est égal à \"Miro\" OU PAS que `age` est supérieur à 5 en une seule ligne.\n",
    "\n",
    "Affichez l'ordre de priorité des opérateurs booléens.\n",
    "\n",
    "Affichez \"La condition est vraie, donc le code peut être exécuter!\" si `age` est supérieur à 5 ET longueur de `name` inférieur à 10. Utilisez if et l'indentation.\n",
    "\n",
    "\n",
    "Affichez \"I'm not alone\" si `brothers` OU `sisters` supérieur à 1. Affichez \"We have boys at home\" si `brothers` supérieur à 1 ET `sisters` égal à 0. Affichez \"We have girls at home\" si `brothers` égal à 0 ET `sisters` supérieur à 1. Sinon affichez \"I have a little goat and a skateboard\".\n"
   ]
  },
  {
   "cell_type": "code",
   "execution_count": 10,
   "metadata": {
    "colab": {},
    "colab_type": "code",
    "id": "_QgNEirUb8U_"
   },
   "outputs": [
    {
     "name": "stdout",
     "output_type": "stream",
     "text": [
      "True\n",
      "False\n",
      "False\n",
      "Not, And, Or\n",
      "La condition est vraie, donc le code peut être exécuter!\n",
      "I'm not alone\n"
     ]
    }
   ],
   "source": [
    "name=\"Paulina\"\n",
    "age=9\n",
    "brothers=2\n",
    "sisters=0\n",
    "print(name==\"Paulina\" or age==9)\n",
    "print(name==\"Paulina\" and not age==9)\n",
    "print(name==\"Miro\" or not age>5)\n",
    "print(\"Not, And, Or\")\n",
    "if age>5 and len(name)<10:\n",
    "  print(\"La condition est vraie, donc le code peut être exécuter!\")\n",
    "  \n",
    "if brothers>1 or sisters>1:\n",
    "  print(\"I'm not alone\")\n",
    "elif brothers>1 and sisters==0:\n",
    "  print(\"We have boys at home\")\n",
    "elif brothers==0 and sisters>1:\n",
    "  print(\"We have girls at home\")\n",
    "else:\n",
    "  print(\"I have a little goat and a skateboard\")"
   ]
  },
  {
   "cell_type": "markdown",
   "metadata": {
    "colab_type": "text",
    "id": "vZe3C4qJhHph",
    "nbgrader": {
     "grade": false,
     "grade_id": "cell-cccdaf1bd8394946",
     "locked": true,
     "schema_version": 3,
     "solution": false,
     "task": false
    }
   },
   "source": [
    "### F. Fonctions\n",
    "_Définition, appel, return, paramètre par défaut_\n",
    "\n",
    "Définissez une fonction nommée `vin` qui affiche \"Neuchâtel?\" une fois que la fonction est appelée. \n",
    "\n",
    "Appelez la fonction `vin`.\n",
    "\n",
    "Pour chaque `i` de rang 3, appelez la fonction `vin`. "
   ]
  },
  {
   "cell_type": "code",
   "execution_count": 0,
   "metadata": {
    "colab": {},
    "colab_type": "code",
    "id": "ITnnTTWMC-2_"
   },
   "outputs": [],
   "source": [
    "def vin():\n",
    "  print(\"Neuchâtel?\")\n",
    "vin()\n",
    "for i in range(3):\n",
    "  vin()"
   ]
  },
  {
   "cell_type": "markdown",
   "metadata": {
    "colab_type": "text",
    "id": "rNjNvxFrFjKH",
    "nbgrader": {
     "grade": false,
     "grade_id": "cell-e4aa7e6eadc01147",
     "locked": true,
     "schema_version": 3,
     "solution": false,
     "task": false
    }
   },
   "source": [
    "Définissez une fonction `multip` ayant deux paramètres `a` et `b`. La fonction retourne le résultat de la mutiplication `a*b`. \n",
    "\n",
    "Créez un variable `result` qui appelle la fonction `multip` de `3` et `7`. \n",
    "\n",
    "Affichez `result`. "
   ]
  },
  {
   "cell_type": "code",
   "execution_count": 0,
   "metadata": {
    "colab": {},
    "colab_type": "code",
    "id": "yFjq9SYzGYlA"
   },
   "outputs": [],
   "source": [
    "def multip(a,b):\n",
    "    return a*b\n",
    "result=multip(3,7)\n",
    "print(result)"
   ]
  }
 ],
 "metadata": {
  "celltoolbar": "Create Assignment",
  "colab": {
   "collapsed_sections": [],
   "name": "Algo-Week 3.ipynb",
   "provenance": []
  },
  "kernelspec": {
   "display_name": "Python 3",
   "language": "python",
   "name": "python3"
  },
  "language_info": {
   "codemirror_mode": {
    "name": "ipython",
    "version": 3
   },
   "file_extension": ".py",
   "mimetype": "text/x-python",
   "name": "python",
   "nbconvert_exporter": "python",
   "pygments_lexer": "ipython3",
   "version": "3.7.3"
  }
 },
 "nbformat": 4,
 "nbformat_minor": 1
}
