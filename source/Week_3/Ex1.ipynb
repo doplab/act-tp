{
 "cells": [
  {
   "cell_type": "markdown",
   "metadata": {},
   "source": [
    "# Types Scala\n",
    "\n",
    "Contrairement à `Python`, `Scala` est un langage à typage statique. C'est-à-dire que le type d'une variable est donné à son initialisation. \n",
    "\n",
    "Définissez une variable `note` égale à 4 qui est un integer.\n",
    "\n",
    "Définissez une variable `note_maximale` à 5.5 qui est un float.\n",
    "\n",
    "Définissez une variable `note_souhaite` à 5.25 à laquelle sera automatiquement assignée un type.\n",
    "\n",
    "Affichez le type de la variable `note_souhaite`. \n",
    "\n",
    "Modifiez la variable `note_souhaite` en integer.\n",
    "\n",
    "Essayez de modifier la `note` à ce qu'elle soit égale à la 'note_maximale'. "
   ]
  },
  {
   "cell_type": "code",
   "execution_count": null,
   "metadata": {},
   "outputs": [],
   "source": [
    "var note: Int = 4\n",
    "println(note)\n",
    "var note_maximale: Float = 5.5f\n",
    "println(note_maximale)\n",
    "var note_souhaite = 5.25\n",
    "println(note_souhaite.getClass)\n",
    "println(note_souhaite)\n",
    "note_souhaite = note_souhaite.toInt\n",
    "println(note_souhaite)"
   ]
  },
  {
   "cell_type": "code",
   "execution_count": null,
   "metadata": {},
   "outputs": [],
   "source": [
    "note= note_maximale // ne marche pas"
   ]
  }
 ],
 "metadata": {
  "kernelspec": {
   "display_name": "Scala",
   "language": "scala",
   "name": "scala"
  },
  "language_info": {
   "codemirror_mode": "text/x-scala",
   "file_extension": ".scala",
   "mimetype": "",
   "name": "Scala",
   "nbconverter_exporter": "",
   "version": "2.11.12"
  }
 },
 "nbformat": 4,
 "nbformat_minor": 2
}
