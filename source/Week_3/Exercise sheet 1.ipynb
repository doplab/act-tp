{
 "cells": [
  {
   "cell_type": "markdown",
   "metadata": {},
   "source": [
    "## Exercise 1: Warm up"
   ]
  },
  {
   "cell_type": "markdown",
   "metadata": {},
   "source": [
    "1) Write a program which return true if the parameters is a multiply of 5 or 7.\n",
    "\n",
    "2) Write a program which return the sum of the n first numbers (n is a parameter of the function)\n",
    "\n",
    "3) Take a list, say for example this one: a = [1, 1, 2, 3, 5, 8, 13, 21, 34, 55, 89] , and write a program that prints out all the elements of the list that are less than 5.\n",
    "\n",
    "4) Write a program thatgenerates Fibonnaci numbers.\n"
   ]
  },
  {
   "cell_type": "code",
   "execution_count": null,
   "metadata": {},
   "outputs": [],
   "source": [
    "def multiply(x):\n",
    "    if x %5 == 0 or x %7 == 0:\n",
    "        return True\n",
    "    else:\n",
    "        return False\n",
    "\n",
    "print(multiply(35))\n",
    "print(multiply(12))"
   ]
  },
  {
   "cell_type": "code",
   "execution_count": null,
   "metadata": {},
   "outputs": [],
   "source": [
    "def sum_n(n):\n",
    "    res = 0\n",
    "    for i in range(n+1):\n",
    "        res += i\n",
    "    return res\n",
    "\n",
    "print(sum_n(5))\n",
    "print(sum_n(100))"
   ]
  },
  {
   "cell_type": "code",
   "execution_count": null,
   "metadata": {},
   "outputs": [],
   "source": [
    "def nbr_under_five(l):\n",
    "    for elem in l:\n",
    "        if elem < 5:\n",
    "            print(elem)\n",
    "    return\n",
    "nbr_under_five([1, 1, 2, 3, 5, 8, 13, 21, 34, 55, 89])"
   ]
  },
  {
   "cell_type": "code",
   "execution_count": null,
   "metadata": {},
   "outputs": [],
   "source": [
    "def fibonnaci(n):\n",
    "    if (n <= 0) : \n",
    "        return 0\n",
    "   \n",
    "    fibo = [0] * (n+1) \n",
    "    fibo[1] = 1\n",
    "   \n",
    "    # Initialize result \n",
    "    sm = fibo[0] + fibo[1] \n",
    "   \n",
    "    # Add remaining terms \n",
    "    for i in range(2,n+1) : \n",
    "        fibo[i] = fibo[i-1] + fibo[i-2] \n",
    "        sm = sm + fibo[i] \n",
    "          \n",
    "    return sm \n",
    "fibonnaci(5)"
   ]
  },
  {
   "cell_type": "markdown",
   "metadata": {},
   "source": [
    "## Exercise 2: Rock-Paper-Scissors Game"
   ]
  },
  {
   "cell_type": "markdown",
   "metadata": {},
   "source": [
    "Make a two-player Rock-Paper-Scissors game. (Hint: Ask for player plays (using input), compare them, print out a message of congratulations to the winner, and ask if the players want to start a new game)"
   ]
  },
  {
   "cell_type": "code",
   "execution_count": null,
   "metadata": {
    "scrolled": true
   },
   "outputs": [],
   "source": [
    "import sys\n",
    "\n",
    "user1 = input(\"What's your name?\")\n",
    "user2 = input(\"And your name?\")\n",
    "user1_answer = input(\"%s, do yo want to choose rock, paper or scissors?\" % user1)\n",
    "user2_answer = input(\"%s, do you want to choose rock, paper or scissors?\" % user2)\n",
    "\n",
    "def compare(u1, u2):\n",
    "    if u1 == u2:\n",
    "        return(\"It's a tie!\")\n",
    "    elif u1 == 'rock':\n",
    "        if u2 == 'scissors':\n",
    "            return(\"Rock wins!\")\n",
    "        else:\n",
    "            return(\"Paper wins!\")\n",
    "    elif u1 == 'scissors':\n",
    "        if u2 == 'paper':\n",
    "            return(\"Scissors win!\")\n",
    "        else:\n",
    "            return(\"Rock wins!\")\n",
    "    elif u1 == 'paper':\n",
    "        if u2 == 'rock':\n",
    "            return(\"Paper wins!\")\n",
    "        else:\n",
    "            return(\"Scissors win!\")\n",
    "    else:\n",
    "        return(\"Invalid input! You have not entered rock, paper or scissors, try again.\")\n",
    "        sys.exit()\n",
    "\n",
    "print(compare(user1_answer, user2_answer))"
   ]
  },
  {
   "cell_type": "markdown",
   "metadata": {},
   "source": [
    "## Exercise 3: Base representation"
   ]
  },
  {
   "cell_type": "markdown",
   "metadata": {},
   "source": [
    "1) Write a programme that convert a décimal representation number to its binary form. The program should represent the number over 8 bits binary string. Check your result with the in-build function: bin(n).replace(\"0b\", \"\").\n",
    "\n",
    "2) Write the reverse program which convert a binary number into its decimal form. Hint: use the function pow(.), your parameters coulb be an integer of a string.\n",
    "\n",
    "3) Bonus: You can do the same with the hexadecimal base (https://fr.wikipedia.org/wiki/Syst%C3%A8me_hexad%C3%A9cimal )\n"
   ]
  },
  {
   "cell_type": "code",
   "execution_count": null,
   "metadata": {},
   "outputs": [],
   "source": [
    "#Recuisive way\n",
    "def dec_to_bin(num): \n",
    "      \n",
    "    if num > 1: \n",
    "        dec_to_bin(num // 2) \n",
    "    print(num % 2, end = '') "
   ]
  },
  {
   "cell_type": "markdown",
   "metadata": {},
   "source": [
    "2)"
   ]
  },
  {
   "cell_type": "code",
   "execution_count": null,
   "metadata": {},
   "outputs": [],
   "source": [
    "def bin_to_dec(binary): \n",
    "      \n",
    "    binary1 = binary \n",
    "    decimal, i, n = 0, 0, 0\n",
    "    while(binary != 0): \n",
    "        dec = binary % 10\n",
    "        decimal = decimal + dec * pow(2, i) \n",
    "        binary = binary//10\n",
    "        i += 1\n",
    "    print(decimal)   "
   ]
  },
  {
   "cell_type": "markdown",
   "metadata": {},
   "source": [
    "## Exercise 4"
   ]
  },
  {
   "cell_type": "code",
   "execution_count": null,
   "metadata": {},
   "outputs": [],
   "source": []
  }
 ],
 "metadata": {
  "kernelspec": {
   "display_name": "Python 3",
   "language": "python",
   "name": "python3"
  },
  "language_info": {
   "codemirror_mode": {
    "name": "ipython",
    "version": 3
   },
   "file_extension": ".py",
   "mimetype": "text/x-python",
   "name": "python",
   "nbconvert_exporter": "python",
   "pygments_lexer": "ipython3",
   "version": "3.7.2"
  }
 },
 "nbformat": 4,
 "nbformat_minor": 2
}
