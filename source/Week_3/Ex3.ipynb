{
 "cells": [
  {
   "cell_type": "markdown",
   "metadata": {
    "nbgrader": {
     "grade": false,
     "grade_id": "cell-0dcd390790ff8d65",
     "locked": true,
     "schema_version": 3,
     "solution": false,
     "task": false
    }
   },
   "source": [
    "# Compréhension de Python\n",
    "\n",
    "Dans les prochains exercices, il vous sera demandé de comprendre le code qui vous sera montré, ainsi que d'anticiper ce qu'il va afficher\n",
    "\n",
    "### /!\\ Ces questions sont tirées d'anciens examens!"
   ]
  },
  {
   "cell_type": "markdown",
   "metadata": {
    "nbgrader": {
     "grade": false,
     "grade_id": "cell-b0484074a57dd8da",
     "locked": true,
     "schema_version": 3,
     "solution": false,
     "task": false
    }
   },
   "source": [
    "## 1) Anticipez quel texte va être affiché dans la console"
   ]
  },
  {
   "cell_type": "code",
   "execution_count": 2,
   "metadata": {},
   "outputs": [
    {
     "name": "stdout",
     "output_type": "stream",
     "text": [
      "output3\n"
     ]
    }
   ],
   "source": [
    "x = True\n",
    "y = False\n",
    "z = False\n",
    "\n",
    "if y or (x and z):\n",
    "    print(\"output1\")\n",
    "if not x or (y and z):\n",
    "    print(\"output2\")\n",
    "if (x or z) or (y and z):\n",
    "    print(\"output3\")\n",
    "if (y != z):\n",
    "    print(\"output4\")"
   ]
  },
  {
   "cell_type": "markdown",
   "metadata": {
    "nbgrader": {
     "grade": false,
     "grade_id": "cell-5c6fc5bb8795c297",
     "locked": true,
     "schema_version": 3,
     "solution": false,
     "task": false
    }
   },
   "source": [
    "## 2) Anticipez quel texte va être affiché dans la console"
   ]
  },
  {
   "cell_type": "code",
   "execution_count": 3,
   "metadata": {},
   "outputs": [
    {
     "name": "stdout",
     "output_type": "stream",
     "text": [
      "Vous avez l'age requis \n"
     ]
    }
   ],
   "source": [
    "age = 20\n",
    "output = \"\"\n",
    "\n",
    "if age < 18:\n",
    "    output += \"Vous n'avez pas l'age requis \"\n",
    "elif age >= 18:\n",
    "    output += \"Vous avez l'age requis \"\n",
    "elif age < 25:\n",
    "    output += \"Vous avez un rabais \"\n",
    "print(output)"
   ]
  },
  {
   "cell_type": "markdown",
   "metadata": {
    "nbgrader": {
     "grade": false,
     "grade_id": "cell-d4f9c06458302f55",
     "locked": true,
     "schema_version": 3,
     "solution": false,
     "task": false
    }
   },
   "source": [
    "## 3) Modifiez la case précédente pour demander l'âge de l'utilisateur"
   ]
  },
  {
   "cell_type": "markdown",
   "metadata": {
    "nbgrader": {
     "grade": false,
     "grade_id": "cell-c9640276a3ddda22",
     "locked": true,
     "schema_version": 3,
     "solution": false,
     "task": false
    }
   },
   "source": [
    "## 4) Anticipez quel texte va être affiché dans la console"
   ]
  },
  {
   "cell_type": "code",
   "execution_count": 4,
   "metadata": {},
   "outputs": [
    {
     "name": "stdout",
     "output_type": "stream",
     "text": [
      "<class 'int'>\n"
     ]
    }
   ],
   "source": [
    "num_int = 456\n",
    "num_string = \"456\"\n",
    "total_num = num_int + int(num_string)\n",
    "print(type(total_num))"
   ]
  },
  {
   "cell_type": "markdown",
   "metadata": {
    "nbgrader": {
     "grade": false,
     "grade_id": "cell-55fdf9e4f397dee5",
     "locked": true,
     "schema_version": 3,
     "solution": false,
     "task": false
    }
   },
   "source": [
    "## 5) Deviner un nombre aléatoire\n",
    "\n",
    "Dans la case suivante, nous vous donnons un nombre aléatoire entre `0` et `30` dans la variable `number`, écrivez un programme qui demande à l'utilisateur de deviner le nombre, l'utilisateur a `5` chances pour le trouver, s'il se trompe, donnez-lui un indice (le nombre qu'il a écrit est-il plus grand ou plus petit que celui qu'il cherche?)"
   ]
  },
  {
   "cell_type": "code",
   "execution_count": 6,
   "metadata": {},
   "outputs": [
    {
     "name": "stdout",
     "output_type": "stream",
     "text": [
      "14\n"
     ]
    }
   ],
   "source": [
    "from random import randint\n",
    "\n",
    "number = randint(0, 30)\n",
    "\n",
    "# VOTRE CODE ICI\n",
    "print(number)"
   ]
  }
 ],
 "metadata": {
  "celltoolbar": "Create Assignment",
  "kernelspec": {
   "display_name": "Python 3",
   "language": "python",
   "name": "python3"
  },
  "language_info": {
   "codemirror_mode": {
    "name": "ipython",
    "version": 3
   },
   "file_extension": ".py",
   "mimetype": "text/x-python",
   "name": "python",
   "nbconvert_exporter": "python",
   "pygments_lexer": "ipython3",
   "version": "3.7.3"
  }
 },
 "nbformat": 4,
 "nbformat_minor": 2
}
