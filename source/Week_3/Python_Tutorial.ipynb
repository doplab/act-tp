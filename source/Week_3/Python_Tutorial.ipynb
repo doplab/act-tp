{
 "cells": [
  {
   "cell_type": "markdown",
   "metadata": {
    "colab_type": "text",
    "id": "jxZOuPVbYPKd",
    "nbgrader": {
     "grade": false,
     "grade_id": "cell-1fe68564e01bae54",
     "locked": true,
     "schema_version": 3,
     "solution": false,
     "task": false
    }
   },
   "source": [
    "# Introduction à Python\n",
    "\n",
    "### A. Fonction input\n",
    "\n",
    "_Demande input d'utilisateur_\n",
    "\n",
    "Completez le code afin que le contenu de input_string soit l'output."
   ]
  },
  {
   "cell_type": "code",
   "execution_count": 0,
   "metadata": {
    "colab": {},
    "colab_type": "code",
    "id": "GO2iHte9bXXj"
   },
   "outputs": [],
   "source": [
    "input_string = input()\n",
    "print(\"Bonjour chers compatriotes!\")\n",
    "print(input_string) "
   ]
  },
  {
   "cell_type": "markdown",
   "metadata": {
    "colab_type": "text",
    "id": "FG9GThsCdbMm",
    "nbgrader": {
     "grade": false,
     "grade_id": "cell-14d1cd343ea73bec",
     "locked": true,
     "schema_version": 3,
     "solution": false,
     "task": false
    }
   },
   "source": [
    "### B. Variables\n",
    "\n",
    "_Définition de variable, type de variable, conversion de type, opérateurs arithmétiques, opérateurs booléens et opérateurs de comparaison._\n",
    "\n",
    "Introduissez une variable de type string nom_chien, une variable de type integer age_chien.\n",
    "\n",
    "Affichez \"Mon chien nommé (nom_chien) et agé de (age_chien) ans.\" en utilisant la fonction format().\n",
    "\n",
    "Affichez \"Mon chien nommé (nom_chien) et agé de (age_chien) ans.\" en utilisant le symbole %."
   ]
  },
  {
   "cell_type": "code",
   "execution_count": 0,
   "metadata": {
    "colab": {},
    "colab_type": "code",
    "id": "qfZS9w37eB1z"
   },
   "outputs": [],
   "source": [
    "nom_chien = \"Lola\"\n",
    "age_chien = 3\n",
    "print(\"Mon chien nommé {0} et agé de {1} ans.\".format(nom_chien,age_chien))\n",
    "print(\"Mon chien nommé %s et agé de %d ans.\" % (nom_chien,age_chien))"
   ]
  },
  {
   "cell_type": "markdown",
   "metadata": {
    "colab_type": "text",
    "id": "Z8zuy-31ipvY",
    "nbgrader": {
     "grade": false,
     "grade_id": "cell-c8edea00a51ba4b8",
     "locked": true,
     "schema_version": 3,
     "solution": false,
     "task": false
    }
   },
   "source": [
    "Affichez le type de la variable `nom_chien` et `age_chien`."
   ]
  },
  {
   "cell_type": "code",
   "execution_count": 0,
   "metadata": {
    "colab": {},
    "colab_type": "code",
    "id": "9eReTJtIi00n"
   },
   "outputs": [],
   "source": [
    "print(type(nom_chien))\n",
    "print(type(age_chien))"
   ]
  },
  {
   "cell_type": "markdown",
   "metadata": {
    "colab_type": "text",
    "id": "l96YBu0sjTAL",
    "nbgrader": {
     "grade": false,
     "grade_id": "cell-27abe2f12d5fa6ee",
     "locked": true,
     "schema_version": 3,
     "solution": false,
     "task": false
    }
   },
   "source": [
    "Modifiez la valeur de la variable `age_chien` afin que le chiffre soit un float (nombre à virgule).\n",
    "\n",
    "Assurez vous que la variable `age_chien` soit un float en affichant le type de la variable. \n",
    "\n",
    "Affichez la valeur de la variable `age_chien` en float et en integer.\n"
   ]
  },
  {
   "cell_type": "code",
   "execution_count": 0,
   "metadata": {
    "colab": {},
    "colab_type": "code",
    "id": "6iXJ_HwpkaP9"
   },
   "outputs": [],
   "source": [
    "age_chien = 3.7\n",
    "print(type(age_chien))\n",
    "print(age_chien)\n",
    "print(int(age_chien))"
   ]
  },
  {
   "cell_type": "markdown",
   "metadata": {
    "colab_type": "text",
    "id": "ZuEvj2ffk4pm",
    "nbgrader": {
     "grade": false,
     "grade_id": "cell-bc65bbe4212f1225",
     "locked": true,
     "schema_version": 3,
     "solution": false,
     "task": false
    }
   },
   "source": [
    "Créez une variable `poids_chien`, `poids_ideal`, `resultat`, `remainder`.\n",
    "\n",
    "Divisez la valeur de la variable `poids_chien` par deux et enregistrez le résultat dans la variable `resultat`.\n",
    "\n",
    "Trouvez le reste de la division grâce à la fonction modulo `%` et enregistrez le résultat dans la variable `remainder`.\n",
    "\n",
    "Affichez `\"résultat=(resultat)\"` en utilisant une concaténation soit un `+`.\n",
    "\n",
    "Affichez `\"reste=(remainder)\"` en utilisant une virgule.\n",
    "\n"
   ]
  },
  {
   "cell_type": "code",
   "execution_count": 0,
   "metadata": {
    "colab": {},
    "colab_type": "code",
    "id": "nhMdMzUBmpGk"
   },
   "outputs": [],
   "source": [
    "poids_chien = 9\n",
    "poids_ideal = 15\n",
    "resultat = poids_chien/2\n",
    "remainder = poids_chien%2\n",
    "print(\"résultat=\"+str(resultat))\n",
    "print(\"reste=\",remainder)"
   ]
  },
  {
   "cell_type": "markdown",
   "metadata": {
    "colab_type": "text",
    "id": "A83_JRAQoDRM",
    "nbgrader": {
     "grade": false,
     "grade_id": "cell-63742057484f8427",
     "locked": true,
     "schema_version": 3,
     "solution": false,
     "task": false
    }
   },
   "source": [
    "Diminuez la valeur de la variable `poids_ideal` de `2`. \n",
    "\n",
    "Diminuez la valeur de la variable `poids_chien` de `1` d'une autre manière.\n",
    "\n",
    "Affichez la valeur de la variable `poids_ideal` et `poids_chien` sur une seule ligne."
   ]
  },
  {
   "cell_type": "code",
   "execution_count": 0,
   "metadata": {
    "colab": {},
    "colab_type": "code",
    "id": "4CQOz81IoxEk"
   },
   "outputs": [],
   "source": [
    "poids_ideal -= 2\n",
    "poids_chien = poids_chien - 1\n",
    "print(poids_ideal, poids_chien)"
   ]
  },
  {
   "cell_type": "markdown",
   "metadata": {
    "colab_type": "text",
    "id": "N907Ur0jpR-2",
    "nbgrader": {
     "grade": false,
     "grade_id": "cell-cd93a679a385c211",
     "locked": true,
     "schema_version": 3,
     "solution": false,
     "task": false
    }
   },
   "source": [
    "Vérifiez si la valeur de la variable `poids_chien` est égale à celle de la variable `poids_ideal` en utilisant un opérateur qui donne une réponse booléenne `True` ou `False`. Stockez la réponse booléenne dans la variable `egalite_poids`. \n",
    "\n",
    "Affichez la valeur de la variable `egalite_poids`."
   ]
  },
  {
   "cell_type": "code",
   "execution_count": 0,
   "metadata": {
    "colab": {},
    "colab_type": "code",
    "id": "hBU6YQDHpx0o"
   },
   "outputs": [],
   "source": [
    "egalite_poids = poids_ideal == poids_chien\n",
    "print(egalite_poids)"
   ]
  },
  {
   "cell_type": "markdown",
   "metadata": {
    "colab_type": "text",
    "id": "4xOClItTqp-O",
    "nbgrader": {
     "grade": false,
     "grade_id": "cell-401a0b5b8da510c6",
     "locked": true,
     "schema_version": 3,
     "solution": false,
     "task": false
    }
   },
   "source": [
    "Vérifiez que la valeur de la variable `poids_chien` est plus petite ou égale que celle de la variable `poids_ideal`. Stockez la réponse booléenne dans la variable `comparaison_poids`.\n",
    "\n",
    "Affichez la valeur de la variable `comparaison_poids`.\n",
    "\n",
    "Vérifiez que la valeur de la variable `poids_ideal` est plus grande que celle de la variable `poids_chien` en une seule ligne grâce à la fonction `print`."
   ]
  },
  {
   "cell_type": "code",
   "execution_count": 0,
   "metadata": {
    "colab": {},
    "colab_type": "code",
    "id": "Sc0nBnLurSko"
   },
   "outputs": [],
   "source": [
    "comparaison_poids = poids_chien <= poids_ideal\n",
    "print(comparaison_poids)\n",
    "print(poids_ideal>poids_chien)"
   ]
  },
  {
   "cell_type": "markdown",
   "metadata": {
    "colab_type": "text",
    "id": "pngh69pPrqeg",
    "nbgrader": {
     "grade": false,
     "grade_id": "cell-3cf89cf22bc69ffa",
     "locked": true,
     "schema_version": 3,
     "solution": false,
     "task": false
    }
   },
   "source": [
    "### C. Strings\n",
    "\n",
    "_Index, slicing, in, length_\n",
    "\n",
    "Définissez la valeur de la nouvelle variable `python3` de type `string` comme \"Hard but cool!\".\n",
    "\n",
    "Definissez la valeur de la variable `lettre_h` comme le premier charactère de `python3` en utilisant l'indexation.\n",
    "\n",
    "Definissez la valeur de la variable `signe_ex` comme le dernier charactère de `python3` en utilisant l'indexation.\n",
    "\n",
    "Affichez la valeur de `lettre_h` et `signe_x` sur deux lignes disctintes.\n",
    "\n",
    "Affichez \"A simple lie\" en utilisant la concaténation et l'indéxation. La lettre \"l\" de \"lie\" doit venir de python3.  "
   ]
  },
  {
   "cell_type": "code",
   "execution_count": 0,
   "metadata": {
    "colab": {},
    "colab_type": "code",
    "id": "RvLGlHyPxPho"
   },
   "outputs": [],
   "source": [
    "python3 = \"Hard but cool!\"\n",
    "lettre_h= python3[0]\n",
    "signe_ex= python3[-1]\n",
    "print(lettre_h)\n",
    "print(signe_ex)\n",
    "print(\"A simple \" + python3[-2] + \"ie\")"
   ]
  },
  {
   "cell_type": "markdown",
   "metadata": {
    "colab_type": "text",
    "id": "VYkjUcAT0eMH",
    "nbgrader": {
     "grade": false,
     "grade_id": "cell-5f65465142df9d69",
     "locked": true,
     "schema_version": 3,
     "solution": false,
     "task": false
    }
   },
   "source": [
    "Définissez une variable `hard` qui reprend le \"Hard\" de `python3` en utilisant le slicing `str[ind1:ind2]`. \n",
    "\n",
    "Définissez une variable `cool` qui reprend le \"cool\" de `python3` en utilisant le slicing `str[ind1:ind2]`.\n",
    "\n",
    "Définissez une variable `but` qui reprend le \"but\" de `python3` en utilisant le slicing `str[ind1:ind2]`.\n",
    "\n",
    "Affichez les valeurs de `hard`, `cool` et `but` sur une seule ligne. "
   ]
  },
  {
   "cell_type": "code",
   "execution_count": 0,
   "metadata": {
    "colab": {},
    "colab_type": "code",
    "id": "lcTE86Zl2FGn"
   },
   "outputs": [],
   "source": [
    "hard = python3[:4]\n",
    "cool = python3[9:13]\n",
    "but = python3[5:8]\n",
    "print(hard,cool,but)"
   ]
  },
  {
   "cell_type": "markdown",
   "metadata": {
    "colab_type": "text",
    "id": "EY1NVENZ2_kx",
    "nbgrader": {
     "grade": false,
     "grade_id": "cell-c14557b594d21ed8",
     "locked": true,
     "schema_version": 3,
     "solution": false,
     "task": false
    }
   },
   "source": [
    "Vérifiez et affichez que le mot \"joke\" se trouve dans `python3` grâce à l'opérateur `in`.  \n",
    "\n",
    "Vérifiez et affichez que le mot \"but\" se trouve dans `python3` grâce à l'opérateur `in`. "
   ]
  },
  {
   "cell_type": "code",
   "execution_count": 0,
   "metadata": {
    "colab": {},
    "colab_type": "code",
    "id": "cJkJtKuG3Xp0"
   },
   "outputs": [],
   "source": [
    "print(\"joke\" in python3)\n",
    "print(\"but\" in python3)"
   ]
  },
  {
   "cell_type": "markdown",
   "metadata": {
    "colab_type": "text",
    "id": "QMpaHnQZ4Xn6",
    "nbgrader": {
     "grade": false,
     "grade_id": "cell-d87749b2c29ce107",
     "locked": true,
     "schema_version": 3,
     "solution": false,
     "task": false
    }
   },
   "source": [
    "Définissez `first_half` comme étant la première moitié de charactères stocké dans python3 en utilisant la fonction `len()`.\n",
    "\n",
    "Affichez `first_half`."
   ]
  },
  {
   "cell_type": "code",
   "execution_count": 0,
   "metadata": {
    "colab": {},
    "colab_type": "code",
    "id": "9kwnr7Ov41Lo"
   },
   "outputs": [],
   "source": [
    "first_half = python3[:int(len(python3)/2)]\n",
    "print(first_half)"
   ]
  },
  {
   "cell_type": "markdown",
   "metadata": {
    "colab_type": "text",
    "id": "0CCR_tFg5ZRx",
    "nbgrader": {
     "grade": false,
     "grade_id": "cell-f933c0b7359fecf2",
     "locked": true,
     "schema_version": 3,
     "solution": false,
     "task": false
    }
   },
   "source": [
    "Définissez et affichez `dont_worry` comme \"Don't worry, you're gonna become a king!\"\n",
    "\n",
    "Affichez \"It's just like Rock'n'Roll!\" sans créer de nouvelle variable.\n",
    "\n",
    "Affichez `dont_worry` en majuscule et minuscule sur deux lignes."
   ]
  },
  {
   "cell_type": "code",
   "execution_count": 0,
   "metadata": {
    "colab": {},
    "colab_type": "code",
    "id": "BbWdkoIg6ttE"
   },
   "outputs": [],
   "source": [
    "dont_worry = \"Don't worry, you're gonna become a king!\"\n",
    "print(dont_worry)\n",
    "print(\"It\\'s just like Rock\\'n\\'Roll!\")\n",
    "print(dont_worry.lower())\n",
    "print(dont_worry.upper())"
   ]
  },
  {
   "cell_type": "markdown",
   "metadata": {
    "colab_type": "text",
    "id": "_dIc7DRX8yuh",
    "nbgrader": {
     "grade": false,
     "grade_id": "cell-24b00c4a57a265e8",
     "locked": true,
     "schema_version": 3,
     "solution": false,
     "task": false
    }
   },
   "source": [
    "### D. Structure de données\n",
    "\n",
    "_Liste, Tuple, Array_\n",
    "\n",
    "Créez et affichez une liste `my_list` contenant 5 chiffres.\n",
    "\n",
    "Affichez uniquement les 3 premiers chiffres de `my_list`. "
   ]
  },
  {
   "cell_type": "code",
   "execution_count": 0,
   "metadata": {
    "colab": {},
    "colab_type": "code",
    "id": "yTKxIpp492Aw"
   },
   "outputs": [],
   "source": [
    "my_list = [1,3,5,7,11]\n",
    "print(my_list)\n",
    "print(my_list[0:3])"
   ]
  },
  {
   "cell_type": "markdown",
   "metadata": {
    "colab_type": "text",
    "id": "__YC3Lfk-e0N",
    "nbgrader": {
     "grade": false,
     "grade_id": "cell-956dcd65f7bb9c80",
     "locked": true,
     "schema_version": 3,
     "solution": false,
     "task": false
    }
   },
   "source": [
    "Créez et affichez une list `your_list` contenant 5 ingrédients de cuisine. \n",
    "\n",
    "Ajoutez et affichez 2 ingrédients de cuisine à `your_list`.\n",
    "\n",
    "Ajoutez et affichez 1 ingrédient de cuisine à `your_list` en utilisant la fonction `append()`.\n",
    "\n",
    "Affichez l'ingrédient qui se trouve à la position 3 de la liste `your_list`.\n",
    "\n",
    "Supprimez et affichez le dernier élément de `your_list` en utilisant la fonction `pop()`.\n",
    "\n",
    "Remplacez et affichez les deux premiers éléments de `your_list` par \"fruits\".\n",
    "\n",
    "Supprimez et affichez les deux premiers éléments de `your_list`.\n",
    "\n",
    "Supprimez et affichez toute la liste `your_list`. \n",
    "\n",
    "Vérifiez que la liste est vide grâce à la fonction `len()`."
   ]
  },
  {
   "cell_type": "code",
   "execution_count": 0,
   "metadata": {
    "colab": {},
    "colab_type": "code",
    "id": "AgC8PoGp_fYj"
   },
   "outputs": [],
   "source": [
    "your_list = [\"pain\",\"lait\",\"farine\",\"sucre\",\"oeufs\"]\n",
    "print(your_list)\n",
    "your_list += [\"poivrons\",\"courgettes\"]\n",
    "print(your_list)\n",
    "your_list.append(\"chocolat\")\n",
    "print(your_list)\n",
    "print(your_list[3])\n",
    "your_list.pop()\n",
    "print(your_list)\n",
    "your_list[0:2] = [\"fruits\"]\n",
    "print(your_list)\n",
    "your_list[0:2] = []\n",
    "print(your_list)\n",
    "your_list[:] = []\n",
    "print(your_list)\n",
    "print(len(your_list))\n"
   ]
  },
  {
   "cell_type": "markdown",
   "metadata": {
    "colab_type": "text",
    "id": "GCaT9uNFCrGz",
    "nbgrader": {
     "grade": false,
     "grade_id": "cell-75d55a83db44dc64",
     "locked": true,
     "schema_version": 3,
     "solution": false,
     "task": false
    }
   },
   "source": [
    "Créez et affichez un tuple `your_tuple` contenant 5 ingrédients de cuisine.\n",
    "\n",
    "Affichez la longueur de `your_tuple` avec la fonction `len()`."
   ]
  },
  {
   "cell_type": "code",
   "execution_count": 0,
   "metadata": {
    "colab": {},
    "colab_type": "code",
    "id": "HScybkzyDIQ4"
   },
   "outputs": [],
   "source": [
    "your_tuple = (\"pain\",\"lait\",\"farine\",\"sucre\",\"oeufs\")\n",
    "print(your_tuple)\n",
    "print(len(your_tuple))"
   ]
  },
  {
   "cell_type": "markdown",
   "metadata": {
    "colab_type": "text",
    "id": "tx30yEtqEETK",
    "nbgrader": {
     "grade": false,
     "grade_id": "cell-0a643634bca49211",
     "locked": true,
     "schema_version": 3,
     "solution": false,
     "task": false
    }
   },
   "source": [
    "Créez et affichez un array `mes_courses` ayant comme clés vos 5 ingrédients et comme valeurs les quantités respectives à acheter. \n",
    "\n",
    "Ajoutez et affichez une nouvelle paire clé-valeur à `mes_courses`.\n",
    "\n",
    "Supprimez et affichez la première paire clé-valeur.\n",
    "\n",
    "Affichez toutes les clés de `mes_courses`.\n",
    "\n",
    "Affichez toutes les valeurs de `mes_courses`.\n",
    "\n",
    "Vérifiez si un ingrédient est dans `mes_courses` en une seule ligne. Trouvez deux possibilités qui vous donnent une réponse booléenne."
   ]
  },
  {
   "cell_type": "code",
   "execution_count": 0,
   "metadata": {
    "colab": {},
    "colab_type": "code",
    "id": "H0rn8rXIEmtl"
   },
   "outputs": [],
   "source": [
    "mes_courses = {\"pain\":1,\"lait\":3,\"farine\":2,\"sucre\":1,\"oeufs\":6}\n",
    "print(mes_courses)\n",
    "mes_courses[\"chocolat\"] = 3\n",
    "print(mes_courses)\n",
    "del mes_courses[\"pain\"]\n",
    "print(mes_courses)\n",
    "print(mes_courses.keys())\n",
    "print(mes_courses.values())\n",
    "print(\"lait\"in mes_courses)\n",
    "print(\"lait\"in mes_courses.keys())"
   ]
  },
  {
   "cell_type": "markdown",
   "metadata": {
    "colab_type": "text",
    "id": "xJBnj4KMai7s",
    "nbgrader": {
     "grade": false,
     "grade_id": "cell-09c73fe82b786478",
     "locked": true,
     "schema_version": 3,
     "solution": false,
     "task": false
    }
   },
   "source": [
    "### E. Conditions\n",
    "_Opérateurs booléens, If, else_\n",
    "\n",
    "Définissez une variable string `name`, une variable integer `age`, une variable integer `brothers` et une variable `sisters`.\n",
    "\n",
    "Vérifiez et affichez que `name` est égal à la valeur de `name` OU que `age` est égal à la valeur de `age` en une seule ligne. Faites la même chose avec AND NOT.\n",
    "\n",
    "Vérifiez et affichez que `name` est égal à \"Miro\" OU PAS que `age` est supérieur à 5 en une seule ligne.\n",
    "\n",
    "Affichez l'ordre de priorité des opérateurs booléens.\n",
    "\n",
    "Affichez \"La condition est vraie, donc le code peut être exécuter!\" si `age` est supérieur à 5 ET longueur de `name` inférieur à 10. Utilisez if et l'indentation.\n",
    "\n",
    "\n",
    "Affichez \"I'm not alone\" si `brothers` OU `sisters` supérieur à 1. Affichez \"We have boys at home\" si `brothers` supérieur à 1 ET `sisters` égal à 0. Affichez \"We have girls at home\" si `brothers` égal à 0 ET `sisters` supérieur à 1. Sinon affichez \"I have a little goat and a skateboard\".\n"
   ]
  },
  {
   "cell_type": "code",
   "execution_count": 0,
   "metadata": {
    "colab": {},
    "colab_type": "code",
    "id": "_QgNEirUb8U_"
   },
   "outputs": [],
   "source": [
    "name=\"Paulina\"\n",
    "age=9\n",
    "brothers=2\n",
    "sisters=0\n",
    "print(name==\"Paulina\" or age==9)\n",
    "print(name==\"Paulina\" and not age==9)\n",
    "print(name==\"Miro\" or not age>5)\n",
    "print(\"Not, And, Or\")\n",
    "if age>5 and len(name)<10:\n",
    "  print(\"La condition est vraie, donc le code peut être exécuter!\")\n",
    "  \n",
    "if brothers>1 or sisters>1:\n",
    "  print(\"I'm not alone\")\n",
    "elif brothers>1 and sisters==0:\n",
    "  print(\"We have boys at home\")\n",
    "elif brothers==0 and sisters>1:\n",
    "  print(\"We have girls at home\")\n",
    "else:\n",
    "  print(\"I have a little goat and a skateboard\")"
   ]
  },
  {
   "cell_type": "markdown",
   "metadata": {
    "colab_type": "text",
    "id": "bagDBwPxg6nG",
    "nbgrader": {
     "grade": false,
     "grade_id": "cell-33a788dedd723e93",
     "locked": true,
     "schema_version": 3,
     "solution": false,
     "task": false
    }
   },
   "source": [
    "### F. Loops\n",
    "_For, while, break, continue_\n",
    "\n",
    "Créez une liste `alpha` de 5 lettres.\n",
    "\n",
    "Définissez une variable de type string `beta` contenant \"Version grecque\".\n",
    "\n",
    "Pour chaque élément `i` de `alpha`, affichez l'élément `i`. \n",
    "\n",
    "Utilisez la fonction `range()` afin d'afficher les chiffres de `0` à `4` y compris par ligne.\n",
    "\n",
    "Utilisez une boucle for pour affichez ligne par ligne les charactères de `beta`. \n",
    "\n",
    "Définissez une variable `length` à 0. Utilisez une boucle `for` afin d'incrémenter 1 à length à chaque itération. \n",
    "\n",
    "Vérifiez et affichez que la fonction `len()` de beta est égale à `length`. Une réponse booléenne est attendue. \n",
    "\n",
    "Pour chaque élément `i` de rang 5, affichez `i` sauf si `i` est égal à 3. Utilisez le keyword `continue`. \n"
   ]
  },
  {
   "cell_type": "code",
   "execution_count": 0,
   "metadata": {
    "colab": {},
    "colab_type": "code",
    "id": "WEgvidc5hhhY"
   },
   "outputs": [],
   "source": [
    "alpha = [\"a\",\"b\",\"c\",\"d\",\"e\"]\n",
    "beta = \"Version grecque\"\n",
    "for i in alpha:\n",
    "  print(i)\n",
    "for i in range(5):\n",
    "  print(i)\n",
    "for character in beta:\n",
    "  print(character)\n",
    "length=0\n",
    "for ch in beta:\n",
    "  length+=1\n",
    "print (len(beta)==length)\n",
    "for i in range(5):\n",
    "  if i==3:\n",
    "    continue\n",
    "  print (i)"
   ]
  },
  {
   "cell_type": "markdown",
   "metadata": {
    "colab_type": "text",
    "id": "KYmo8_lK4raB",
    "nbgrader": {
     "grade": false,
     "grade_id": "cell-7f384bd3cba7a207",
     "locked": true,
     "schema_version": 3,
     "solution": false,
     "task": false
    }
   },
   "source": [
    "Définissez la variable `qty_beer` à 1.\n",
    "\n",
    "Tant que `qty_beer` est inférieur à 5, affichez \"I can have one more\". Sinon affichez \"I have to go back home\". Utilisez la fonction `while` et n'oubliez pas d'incrémenter `qty_beer` de 1 à chaque itération pour ne pas avoir une boucle infinie.  \n",
    "\n",
    "Redéfinissez `qty_beer` à 1. \n",
    "\n",
    "Tant que la condition est vraie, affichez \"Je suis un champion\" et incrémenter `qty_beer` de 1. Si `qty_beer` plus grand ou égal à 5, sortez de la boucle. Utilisez le keyword break. \n"
   ]
  },
  {
   "cell_type": "code",
   "execution_count": 0,
   "metadata": {
    "colab": {},
    "colab_type": "code",
    "id": "PTxx0Ycv-EKC"
   },
   "outputs": [],
   "source": [
    "qty_beer=1\n",
    "while qty_beer<5:\n",
    "  print(\"I can have one more\")\n",
    "  qty_beer+=1\n",
    "else: \n",
    "  print(\"I have to go back home\")\n",
    "qty_beer=1\n",
    "while True:\n",
    "  print(\"Je suis un champion\")\n",
    "  qty_beer+=1\n",
    "  if qty_beer>=5:\n",
    "    break"
   ]
  },
  {
   "cell_type": "markdown",
   "metadata": {
    "colab_type": "text",
    "id": "vZe3C4qJhHph",
    "nbgrader": {
     "grade": false,
     "grade_id": "cell-cccdaf1bd8394946",
     "locked": true,
     "schema_version": 3,
     "solution": false,
     "task": false
    }
   },
   "source": [
    "### G. Fonctions\n",
    "_Définition, appel, return, paramètre par défaut_\n",
    "\n",
    "Définissez une fonction nommée `vin` qui affiche \"Neuchâtel?\" une fois que la fonction est appelée. \n",
    "\n",
    "Appelez la fonction `vin`.\n",
    "\n",
    "Pour chaque `i` de rang 3, appelez la fonction `vin`. "
   ]
  },
  {
   "cell_type": "code",
   "execution_count": 0,
   "metadata": {
    "colab": {},
    "colab_type": "code",
    "id": "ITnnTTWMC-2_"
   },
   "outputs": [],
   "source": [
    "def vin():\n",
    "  print(\"Neuchâtel?\")\n",
    "vin()\n",
    "for i in range(3):\n",
    "  vin()"
   ]
  },
  {
   "cell_type": "markdown",
   "metadata": {
    "colab_type": "text",
    "id": "rNjNvxFrFjKH",
    "nbgrader": {
     "grade": false,
     "grade_id": "cell-e4aa7e6eadc01147",
     "locked": true,
     "schema_version": 3,
     "solution": false,
     "task": false
    }
   },
   "source": [
    "Définissez une fonction `multip` ayant deux paramètres `a` et `b`. La fonction retourne le résultat de la mutiplication `a*b`. \n",
    "\n",
    "Créez un variable `result` qui appelle la fonction `multip` de `3` et `7`. \n",
    "\n",
    "Affichez `result`. "
   ]
  },
  {
   "cell_type": "code",
   "execution_count": 0,
   "metadata": {
    "colab": {},
    "colab_type": "code",
    "id": "yFjq9SYzGYlA"
   },
   "outputs": [],
   "source": [
    "def multip(a,b):\n",
    "  return a*b\n",
    "result=multip(3,7)\n",
    "print(result)"
   ]
  }
 ],
 "metadata": {
  "celltoolbar": "Create Assignment",
  "colab": {
   "collapsed_sections": [],
   "name": "Algo-Week 3.ipynb",
   "provenance": []
  },
  "kernelspec": {
   "display_name": "Python 3",
   "language": "python",
   "name": "python3"
  },
  "language_info": {
   "codemirror_mode": {
    "name": "ipython",
    "version": 3
   },
   "file_extension": ".py",
   "mimetype": "text/x-python",
   "name": "python",
   "nbconvert_exporter": "python",
   "pygments_lexer": "ipython3",
   "version": "3.7.3"
  }
 },
 "nbformat": 4,
 "nbformat_minor": 1
}
