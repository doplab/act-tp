{
 "cells": [
  {
   "cell_type": "markdown",
   "metadata": {
    "nbgrader": {
     "grade": false,
     "grade_id": "cell-b576f4b28141c4a5",
     "locked": true,
     "schema_version": 3,
     "solution": false,
     "task": false
    }
   },
   "source": [
    "# Exercice 3:\n",
    "\n",
    "## Arbres\n",
    "\n",
    "Un `arbre` est un graphe dans lequel les relations ne peuvent aller que dans un sens (parent - enfant.) La semaine dernière, nous avons vu les arbres binaires, cette semaine nous allons voir les arbres à un sens plus large.\n",
    "\n",
    "<img src=\"https://github.com/doplab/act-tp/blob/master/images/Tree-2-650x300.png?raw=true\" />\n",
    "\n",
    "## Utilité\n",
    "\n",
    "Les arbres ont beaucoup d'utilités: \n",
    "- Ils permettent de maintenir des hiérarchies (la structure des dossiers/fichiers dans votre ordinateur est un arbre.)\n",
    "- Ils permettent de créer des arbres de décision qui permettent d'évaluer un choix et quels conséquences celui-ci va engendrer.\n",
    "- Les interfaces utilisateurs sont pour la plupart basés sur des arbres.\n",
    "- etc.\n",
    "\n",
    "## Créer un arbre\n",
    "\n",
    "Pour créer un arbre, utilisez le constructeur `Arbre()`, pour récupérer la `racine` de l'arbre, utilisez `arbre.root`. Pour ajouter un enfant à un noeud, utilisez `node.add_child(child)`, et pour créer un nouveau noeud, utilisez le constructeur `Node(value)`.\n",
    "    \n",
    "    arbre = Arbre()\n",
    "    racine = arbre.root\n",
    "    child = Node(\"first child\")\n",
    "    racine.add_child(child)"
   ]
  },
  {
   "cell_type": "code",
   "execution_count": 2,
   "metadata": {},
   "outputs": [
    {
     "name": "stdout",
     "output_type": "stream",
     "text": [
      "{value: root, children: [{value: first child, children: []}]}\n"
     ]
    }
   ],
   "source": [
    "from Arbre import Arbre, Node\n",
    "\n",
    "arbre = Arbre()\n",
    "racine = arbre.root\n",
    "child = Node(\"first child\")\n",
    "racine.add_child(child)\n",
    "print(racine)"
   ]
  },
  {
   "cell_type": "markdown",
   "metadata": {
    "nbgrader": {
     "grade": false,
     "grade_id": "cell-715ebe7535bff859",
     "locked": true,
     "schema_version": 3,
     "solution": false,
     "task": false
    }
   },
   "source": [
    "## Exercice:\n",
    "\n",
    "En statistiques, on crée souvent des arbres de probabilité pour déterminer la probabilité qu'un évènement arrive `N` fois d'affilée.\n",
    "\n",
    "<img src=\"https://github.com/doplab/act-tp/blob/master/images/20_TreeDiagram.jpg?raw=true\" />\n",
    "\n",
    "### Recréez l'arbre de ce diagramme en implémentant votre propre algorithme avec une profondeur de 10 éléments (`\"pile\"` et `\"face\"` en minuscules)"
   ]
  },
  {
   "cell_type": "code",
   "execution_count": 1,
   "metadata": {},
   "outputs": [],
   "source": [
    "from Arbre import Node\n",
    "\n",
    "def add_children(node, max_depth, depth = 0):\n",
    "    # VOTRE CODE ICI\n"
   ]
  },
  {
   "cell_type": "code",
   "execution_count": 2,
   "metadata": {
    "nbgrader": {
     "grade": false,
     "grade_id": "cell-6b1f78f3f4bea3af",
     "locked": true,
     "schema_version": 3,
     "solution": false,
     "task": false
    }
   },
   "outputs": [
    {
     "name": "stdout",
     "output_type": "stream",
     "text": [
      "\u001b[32m\"Bonne réponse!\"\u001b[0m\n"
     ]
    }
   ],
   "source": [
    "from assertion import assert_arbre_prob\n",
    "from Arbre import Arbre\n",
    "\n",
    "arbre_prob = Arbre()\n",
    "root = arbre_prob.root\n",
    "\n",
    "add_children(root, 10)\n",
    "\n",
    "assert_arbre_prob(arbre_prob)"
   ]
  },
  {
   "cell_type": "markdown",
   "metadata": {
    "nbgrader": {
     "grade": false,
     "grade_id": "cell-74012a686c849c82",
     "locked": true,
     "schema_version": 3,
     "solution": false,
     "task": false
    }
   },
   "source": [
    "## Exercice:\n",
    "\n",
    "Ecrivez un algorithme qui trouve si une valeur est dans un arbre et retournez le `noeud` qui lui correspond.\n",
    "\n",
    "**Indice:** Utilisez l'algorithme `depth-first search` vu en classe."
   ]
  },
  {
   "cell_type": "code",
   "execution_count": 1,
   "metadata": {},
   "outputs": [],
   "source": [
    "def df_search(node, value):\n",
    "    # VOTRE CODE ICI"
   ]
  },
  {
   "cell_type": "code",
   "execution_count": 4,
   "metadata": {
    "nbgrader": {
     "grade": false,
     "grade_id": "cell-e3a3ec24814f09bb",
     "locked": true,
     "schema_version": 3,
     "solution": false,
     "task": false
    }
   },
   "outputs": [
    {
     "name": "stdout",
     "output_type": "stream",
     "text": [
      "{value: Laura, children: [{value: Josephine, children: []}]}\n",
      "None\n"
     ]
    }
   ],
   "source": [
    "from Arbre import Arbre, Node\n",
    "\n",
    "arbre = Arbre(\"Jean\")\n",
    "jean = arbre.root\n",
    "\n",
    "marc = Node(\"Marc\")\n",
    "erica = Node(\"Erica\")\n",
    "denise = Node(\"Denise\")\n",
    "henry = Node(\"Henry\") #\n",
    "melanie = Node(\"Melanie\")\n",
    "leo = Node(\"Leo\")\n",
    "stephane = Node(\"Stephane\")\n",
    "laura = Node(\"Laura\")\n",
    "josephine = Node(\"Josephine\")\n",
    "\n",
    "laura.add_child(josephine)\n",
    "stephane.add_child(laura)\n",
    "melanie.add_child(stephane)\n",
    "melanie.add_child(leo)\n",
    "jean.add_child(marc)\n",
    "jean.add_child(erica)\n",
    "erica.add_child(denise)\n",
    "jean.add_child(henry)\n",
    "marc.add_child(melanie)\n",
    "\n",
    "print(\"Recherche de Laura:\")\n",
    "print(df_search(arbre.root, \"Laura\"))\n",
    "print(\"Recherche de Benoit\")\n",
    "print(df_search(arbre.root, \"Benoit\"))"
   ]
  },
  {
   "cell_type": "markdown",
   "metadata": {
    "nbgrader": {
     "grade": false,
     "grade_id": "cell-75dd6447fe158841",
     "locked": true,
     "schema_version": 3,
     "solution": false,
     "task": false
    }
   },
   "source": [
    "## Exercice\n",
    "\n",
    "Écrivez une fonction qui trouve la probabilité d'effectuer une série donnée en utilisant votre arbre (`(\"pile\", \"pile\", \"face\", \"pile\")` par exemple.)"
   ]
  },
  {
   "cell_type": "code",
   "execution_count": 3,
   "metadata": {},
   "outputs": [
    {
     "ename": "SyntaxError",
     "evalue": "unexpected EOF while parsing (<ipython-input-3-b7f531abd9b1>, line 2)",
     "output_type": "error",
     "traceback": [
      "\u001b[0;36m  File \u001b[0;32m\"<ipython-input-3-b7f531abd9b1>\"\u001b[0;36m, line \u001b[0;32m2\u001b[0m\n\u001b[0;31m    # VOTRE CODE ICI\u001b[0m\n\u001b[0m                    ^\u001b[0m\n\u001b[0;31mSyntaxError\u001b[0m\u001b[0;31m:\u001b[0m unexpected EOF while parsing\n"
     ]
    }
   ],
   "source": [
    "def probability(series):\n",
    "    # VOTRE CODE ICI"
   ]
  },
  {
   "cell_type": "code",
   "execution_count": null,
   "metadata": {
    "nbgrader": {
     "grade": false,
     "grade_id": "cell-5c9845eb1c5aefe4",
     "locked": true,
     "schema_version": 3,
     "solution": false,
     "task": false
    }
   },
   "outputs": [],
   "source": [
    "series = (\n",
    "    (\"pile\", \"pile\", \"face\", \"pile\"),\n",
    "    (\"face\", \"face\", \"face\", \"face\", \"face\", \"face\"),\n",
    "    (\"pile\", \"pile\", \"face\", \"face\")\n",
    ")\n",
    "\n",
    "for t in series:\n",
    "    print(probability(t))"
   ]
  }
 ],
 "metadata": {
  "celltoolbar": "Create Assignment",
  "kernelspec": {
   "display_name": "Python 3",
   "language": "python",
   "name": "python3"
  },
  "language_info": {
   "codemirror_mode": {
    "name": "ipython",
    "version": 3
   },
   "file_extension": ".py",
   "mimetype": "text/x-python",
   "name": "python",
   "nbconvert_exporter": "python",
   "pygments_lexer": "ipython3",
   "version": "3.7.3"
  }
 },
 "nbformat": 4,
 "nbformat_minor": 2
}
