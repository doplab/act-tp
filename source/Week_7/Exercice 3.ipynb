{
 "cells": [
  {
   "cell_type": "markdown",
   "metadata": {
    "colab_type": "text",
    "id": "ORTtDqKdtxkH",
    "nbgrader": {
     "grade": false,
     "grade_id": "cell-42b427e29c42b994",
     "locked": true,
     "schema_version": 3,
     "solution": false,
     "task": false
    }
   },
   "source": [
    "## Exercice 3 : Minimum Spanning Tree\n",
    "\n",
    "Ici, nous utilisons le concept de graphe pour **trouver un chemin qui parcourt tous les noeuds au moindre coût**. \n",
    "\n",
    "En effet, les liens peuvent avoir des poids qui sont souvent associés à des coûts. \n",
    "\n",
    "Le contexte du problème suivant est similaire au **\"traveling salesman problem\"**. Le but est de trouver quel est le meilleur itinéraire de voyage pour parcourir quelques villes en Alaska en pensant aux miles.\n",
    "\n",
    "\n",
    "\n",
    "\n"
   ]
  },
  {
   "cell_type": "markdown",
   "metadata": {
    "colab_type": "text",
    "id": "hvwWIqdAHMJ7",
    "nbgrader": {
     "grade": false,
     "grade_id": "cell-a35ac7aad4282008",
     "locked": true,
     "schema_version": 3,
     "solution": false,
     "task": false
    }
   },
   "source": [
    "#### _Partie A_\n",
    "\n",
    "Voici, un code pour créer un graphe avec le package NetworkX. Veuillez le parcourir et comprendre un peu la logique derrière. "
   ]
  },
  {
   "cell_type": "code",
   "execution_count": 4,
   "metadata": {
    "colab": {
     "base_uri": "https://localhost:8080/",
     "height": 248
    },
    "colab_type": "code",
    "id": "KtIlUIH7jDuA",
    "nbgrader": {
     "grade": false,
     "grade_id": "cell-fc658f6e2431f865",
     "locked": true,
     "schema_version": 3,
     "solution": false,
     "task": false
    },
    "outputId": "fc136dd0-b2cb-42b2-a7bf-1ef1dc59f1f4"
   },
   "outputs": [
    {
     "data": {
      "image/png": "[encoded data removed]",
      "text/plain": [
       "<Figure size 432x288 with 1 Axes>"
      ]
     },
     "metadata": {
      "needs_background": "light"
     },
     "output_type": "display_data"
    }
   ],
   "source": [
    "## Source: http://avinashu.com/tutorial/pythontutorialnew/NetworkXBasics.html\n",
    "\n",
    "# Importer le package necessaire\n",
    "import matplotlib.pyplot as plt\n",
    "import networkx as nx\n",
    "\n",
    "# Initialiser un graphe non dirigé\n",
    "G = nx.Graph()\n",
    "\n",
    "# Ajouter des noeuds au graphe à partir d'une liste\n",
    "list_nodes = ['Talkeenta', 'Skagway','Sitka' , 'Homer', 'Gustavus', 'Girdwood']\n",
    "G.add_nodes_from(list_nodes)\n",
    "\n",
    "# Ajouter les coordonnées de chaque noeud\n",
    "G.nodes['Talkeenta']['pos'] = (0,0)\n",
    "G.nodes['Skagway']['pos'] = (2,2)\n",
    "G.nodes['Sitka']['pos'] = (2,-2)\n",
    "G.nodes['Homer']['pos'] = (5,2)\n",
    "G.nodes['Gustavus']['pos'] = (5,-2)\n",
    "G.nodes['Girdwood']['pos'] = (7,0)\n",
    "\n",
    "# Stocker les coordonnées dans un dictionnaire\n",
    "node_pos=nx.get_node_attributes(G,'pos')\n",
    "\n",
    "# Ajouter les liens entre les noeuds et leur poids respectif\n",
    "G.add_edge('Talkeenta', 'Skagway', weight = 850)\n",
    "G.add_edge('Skagway', 'Sitka', weight = 1000)\n",
    "G.add_edge('Skagway', 'Homer', weight = 1300)\n",
    "G.add_edge('Skagway', 'Gustavus', weight = 500)\n",
    "G.add_edge('Homer', 'Girdwood', weight = 190)\n",
    "G.add_edge('Homer', 'Talkeenta', weight = 330)\n",
    "G.add_edge('Gustavus', 'Girdwood', weight = 1500)\n",
    "G.add_edge('Sitka', 'Talkeenta', weight = 400)\n",
    "G.add_edge('Sitka', 'Homer', weight = 700)\n",
    "G.add_edge('Sitka', 'Gustavus', weight = 800)\n",
    "G.add_edge('Talkeenta', 'Girdwood', weight = 850)\n",
    "\n",
    "# Stocker les poids dans un dictionnaire\n",
    "arc_weight=nx.get_edge_attributes(G,'weight')\n",
    "\n",
    "# Dessiner les noeuds\n",
    "nx.draw_networkx(G, node_pos)\n",
    "\n",
    "# Dessiner les labels des noeuds\n",
    "nx.draw_networkx_labels(G, node_pos)\n",
    "\n",
    "# Dessiner les liens\n",
    "nx.draw_networkx_edges(G, node_pos)\n",
    "\n",
    "# Dessiner les labels des liens\n",
    "nx.draw_networkx_edge_labels(G, node_pos, edge_labels=arc_weight)\n",
    "\n",
    "# enlever les axes\n",
    "plt.axis('off')\n",
    "\n",
    "# Montrer le graphe\n",
    "plt.show()"
   ]
  },
  {
   "cell_type": "markdown",
   "metadata": {
    "colab_type": "text",
    "id": "Ff09qJ8MxwA1",
    "nbgrader": {
     "grade": false,
     "grade_id": "cell-045915a44208b235",
     "locked": true,
     "schema_version": 3,
     "solution": false,
     "task": false
    }
   },
   "source": [
    "#### _Partie B_\n",
    "\n",
    "Veuillez trouver le chemin le moins coûteux pour parcourir toutes ces villes. Il est préférable de le faire sur papier.\n",
    "\n",
    "Rentrez le nom des villes dans l'ordre de visite dans la liste `t` en commençant par Girdwood."
   ]
  },
  {
   "cell_type": "code",
   "execution_count": null,
   "metadata": {
    "colab": {},
    "colab_type": "code",
    "id": "LrAs7FmXSZpG"
   },
   "outputs": [],
   "source": [
    "# t=[] "
   ]
  },
  {
   "cell_type": "markdown",
   "metadata": {
    "colab_type": "text",
    "id": "dbQLa0k1yINX",
    "nbgrader": {
     "grade": false,
     "grade_id": "cell-27c03935c5cd2c50",
     "locked": true,
     "schema_version": 3,
     "solution": false,
     "task": false
    }
   },
   "source": [
    "#### _Partie C_\n",
    "\n",
    "Voici, un petit code pour générer la solution en vitesse. Veuillez le parcourir et comprendre un peu la logique derrière. \n",
    "\n"
   ]
  },
  {
   "cell_type": "code",
   "execution_count": 2,
   "metadata": {
    "colab": {
     "base_uri": "https://localhost:8080/",
     "height": 334
    },
    "colab_type": "code",
    "id": "xXYskViZlais",
    "nbgrader": {
     "grade": false,
     "grade_id": "cell-286e249c2c427f6e",
     "locked": true,
     "schema_version": 3,
     "solution": false,
     "task": false
    },
    "outputId": "821d4698-69e3-4b77-86f7-cfc95aa39728"
   },
   "outputs": [
    {
     "name": "stdout",
     "output_type": "stream",
     "text": [
      "[('Talkeenta', 'Homer'), ('Talkeenta', 'Sitka'), ('Skagway', 'Gustavus'), ('Sitka', 'Gustavus'), ('Homer', 'Girdwood')]\n"
     ]
    }
   ],
   "source": [
    "# Utiliser le NetworkX package pour determiner le Minimum Spanning Tree\n",
    "T = nx.minimum_spanning_tree(G)\n",
    "\n",
    "# Afficher les liens optimaux\n",
    "print(T.edges())"
   ]
  },
  {
   "cell_type": "code",
   "execution_count": 3,
   "metadata": {
    "colab": {
     "base_uri": "https://localhost:8080/",
     "height": 248
    },
    "colab_type": "code",
    "id": "s73Qgt-zmHcr",
    "nbgrader": {
     "grade": false,
     "grade_id": "cell-9bd5520971d666fb",
     "locked": true,
     "schema_version": 3,
     "solution": false,
     "task": false
    },
    "outputId": "b1d76fa0-e568-4925-9d0f-66b9b77a536f"
   },
   "outputs": [
    {
     "data": {
      "image/png": "[encoded data removed]",
      "text/plain": [
       "<Figure size 432x288 with 1 Axes>"
      ]
     },
     "metadata": {
      "needs_background": "light"
     },
     "output_type": "display_data"
    }
   ],
   "source": [
    "# Stocker les liens optimaux \n",
    "red_edges = T.edges()\n",
    "\n",
    "# Si le lien est optimal, le mettre en rouge, sinon noir\n",
    "edge_col = ['black' if not edge in red_edges else 'red' for edge in G.edges()]\n",
    "\n",
    "# Dessiner les noeuds\n",
    "nx.draw_networkx(G, node_pos)\n",
    "\n",
    "# Dessiner les labels des noeuds\n",
    "nx.draw_networkx_labels(G, node_pos)\n",
    "\n",
    "# Dessiner les liens\n",
    "nx.draw_networkx_edges(G, node_pos,edge_color= edge_col)\n",
    "\n",
    "# Dessiner les labels des liens\n",
    "nx.draw_networkx_edge_labels(G, node_pos,edge_color= edge_col, edge_labels=arc_weight)\n",
    "\n",
    "# Enlever les axes\n",
    "plt.axis('off')\n",
    "\n",
    "# Montrer le graphe\n",
    "plt.show()\n"
   ]
  },
  {
   "cell_type": "markdown",
   "metadata": {
    "colab_type": "text",
    "id": "z7L7YEfl-Gk-",
    "nbgrader": {
     "grade": false,
     "grade_id": "cell-1ef259df487a7d7b",
     "locked": true,
     "schema_version": 3,
     "solution": false,
     "task": false
    }
   },
   "source": [
    "## Exercise: Kruskal's algorithm\n",
    "\n",
    "Un minimum spanning tree possède (V-1) liens sachant que V est le nombre de noeuds du graphe initial connecté et non dirigé. \n",
    "\n",
    "Pour trouver le MST, il faut considérer la somme des poids des liens afin de trouver le spanning tree qui possède la somme minimale.\n",
    "\n",
    "L'algorithme Kruskal fonctionne dans cet ordre:\n",
    "\n",
    "- Il trie d'abord tous les liens par ordre croissant de leur poids.\n",
    "\n",
    "- Il prend le lien le plus légèr et regarde si un **cycle** n'a pas déjà été crée. Si non, il considère ce lien. \n",
    "\n",
    "- Il répète le dernier point jusqu'à ce que son spanning tree a (V-1) liens. "
   ]
  },
  {
   "cell_type": "markdown",
   "metadata": {
    "colab_type": "text",
    "id": "M_1IKFc3I0Md",
    "nbgrader": {
     "grade": false,
     "grade_id": "cell-786c41727c1a28c2",
     "locked": true,
     "schema_version": 3,
     "solution": false,
     "task": false
    }
   },
   "source": [
    "#### _Partie A_\n",
    "\n",
    "Considèrez le graphe suivant: \n",
    "\n",
    "![A](images/A.png)"
   ]
  },
  {
   "cell_type": "markdown",
   "metadata": {
    "colab_type": "text",
    "id": "fU2eO_DXQqDB",
    "nbgrader": {
     "grade": false,
     "grade_id": "cell-79f40290bdbcb482",
     "locked": true,
     "schema_version": 3,
     "solution": false,
     "task": false
    }
   },
   "source": [
    "- Combien de liens y a-t-il dans son MST? \n",
    "\n",
    "- Quel est le poids du MST? \n",
    "\n",
    "- Combien de fois l'algorithme de Kruksal doit vérifier s'il n'y a pas de cycle pour trouver le MST?"
   ]
  },
  {
   "cell_type": "code",
   "execution_count": null,
   "metadata": {
    "colab": {},
    "colab_type": "code",
    "id": "uUvLlp6uIzet"
   },
   "outputs": [],
   "source": [
    "# liens =\n",
    "# poids =\n",
    "# steps ="
   ]
  },
  {
   "cell_type": "markdown",
   "metadata": {
    "colab_type": "text",
    "id": "0fUiSg8kH6JM",
    "nbgrader": {
     "grade": false,
     "grade_id": "cell-fda4049faee76430",
     "locked": true,
     "schema_version": 3,
     "solution": false,
     "task": false
    }
   },
   "source": [
    "#### _Partie B_\n",
    "\n",
    "Sachant que vous n'avez pas encore vu les classes en python, le code suivant est juste à regarder par plaisir. "
   ]
  },
  {
   "cell_type": "code",
   "execution_count": 5,
   "metadata": {
    "colab": {},
    "colab_type": "code",
    "id": "Fc429NOH_ePg",
    "nbgrader": {
     "grade": false,
     "grade_id": "cell-e2ed92a7f1226c8c",
     "locked": true,
     "schema_version": 3,
     "solution": false,
     "task": false
    }
   },
   "outputs": [],
   "source": [
    "# Source: https://www.geeksforgeeks.org/kruskals-minimum-spanning-tree-algorithm-greedy-algo-2/\n",
    "from collections import defaultdict \n",
    "  \n",
    "# Class to represent a graph\n",
    "class Graph: \n",
    "  \n",
    "    def __init__(self,vertices): \n",
    "        self.V = vertices #No. of vertices \n",
    "        self.graph = [] # default dictionary  \n",
    "                                # to store graph \n",
    "          \n",
    "   \n",
    "    # function to add an edge to graph \n",
    "    def addEdge(self,u,v,w): \n",
    "        self.graph.append([u,v,w]) \n",
    "  \n",
    "    # A utility function to find set of an element i \n",
    "    # (uses path compression technique) \n",
    "    def find(self, parent, i): \n",
    "        if parent[i] == i: \n",
    "            return i \n",
    "        return self.find(parent, parent[i]) \n",
    "  \n",
    "    # A function that does union of two sets of x and y \n",
    "    # (uses union by rank) \n",
    "    def union(self, parent, rank, x, y): \n",
    "        xroot = self.find(parent, x) \n",
    "        yroot = self.find(parent, y) \n",
    "  \n",
    "        # Attach smaller rank tree under root of  \n",
    "        # high rank tree (Union by Rank) \n",
    "        if rank[xroot] < rank[yroot]: \n",
    "            parent[xroot] = yroot \n",
    "        elif rank[xroot] > rank[yroot]: \n",
    "            parent[yroot] = xroot \n",
    "  \n",
    "        # If ranks are same, then make one as root  \n",
    "        # and increment its rank by one \n",
    "        else : \n",
    "            parent[yroot] = xroot \n",
    "            rank[xroot] += 1\n",
    "  \n",
    "    # The main function to construct MST using Kruskal's  \n",
    "        # algorithm \n",
    "    def KruskalMST(self): \n",
    "  \n",
    "        result =[] #This will store the resultant MST \n",
    "  \n",
    "        i = 0 # An index variable, used for sorted edges \n",
    "        e = 0 # An index variable, used for result[] \n",
    "  \n",
    "            # Step 1:  Sort all the edges in non-decreasing  \n",
    "                # order of their \n",
    "                # weight.  If we are not allowed to change the  \n",
    "                # given graph, we can create a copy of graph \n",
    "        self.graph =  sorted(self.graph,key=lambda item: item[2]) \n",
    "  \n",
    "        parent = [] ; rank = [] \n",
    "  \n",
    "        # Create V subsets with single elements \n",
    "        for node in range(self.V): \n",
    "            parent.append(node) \n",
    "            rank.append(0) \n",
    "      \n",
    "        # Number of edges to be taken is equal to V-1 \n",
    "        while e < self.V -1 : \n",
    "  \n",
    "            # Step 2: Pick the smallest edge and increment  \n",
    "                    # the index for next iteration \n",
    "            u,v,w =  self.graph[i] \n",
    "            i = i + 1\n",
    "            x = self.find(parent, u) \n",
    "            y = self.find(parent ,v) \n",
    "  \n",
    "            # If including this edge does't cause cycle,  \n",
    "                        # include it in result and increment the index \n",
    "                        # of result for next edge \n",
    "            if x != y: \n",
    "                e = e + 1     \n",
    "                result.append([u,v,w]) \n",
    "                self.union(parent, rank, x, y)             \n",
    "            # Else discard the edge \n",
    "  \n",
    "        # print the contents of result[] to display the built MST \n",
    "        print (\"Following are the edges in the constructed MST\")\n",
    "        for u,v,weight  in result: \n",
    "            #print str(u) + \" -- \" + str(v) + \" == \" + str(weight) \n",
    "            print (\"%d -- %d == %d\" % (u,v,weight)) \n",
    "  \n",
    " "
   ]
  },
  {
   "cell_type": "code",
   "execution_count": 6,
   "metadata": {
    "colab": {
     "base_uri": "https://localhost:8080/",
     "height": 85
    },
    "colab_type": "code",
    "id": "0g-_MKKNHnlg",
    "nbgrader": {
     "grade": false,
     "grade_id": "cell-bec3058c38f22581",
     "locked": true,
     "schema_version": 3,
     "solution": false,
     "task": false
    },
    "outputId": "3bcafe3b-575d-4c69-e1a5-b7b4d5831274"
   },
   "outputs": [
    {
     "name": "stdout",
     "output_type": "stream",
     "text": [
      "Following are the edges in the constructed MST\n",
      "2 -- 3 == 4\n",
      "0 -- 3 == 5\n",
      "0 -- 1 == 10\n"
     ]
    }
   ],
   "source": [
    "# Driver code \n",
    "g = Graph(4) \n",
    "g.addEdge(0, 1, 10) \n",
    "g.addEdge(0, 2, 6) \n",
    "g.addEdge(0, 3, 5) \n",
    "g.addEdge(1, 3, 15) \n",
    "g.addEdge(2, 3, 4) \n",
    "  \n",
    "g.KruskalMST()"
   ]
  },
  {
   "cell_type": "markdown",
   "metadata": {
    "colab_type": "text",
    "id": "8PJV-JkIaKlY",
    "nbgrader": {
     "grade": false,
     "grade_id": "cell-e36e2747f4d36090",
     "locked": true,
     "schema_version": 3,
     "solution": false,
     "task": false
    }
   },
   "source": [
    "## Exercise: Social network analysis\n",
    "\n",
    "Une application intéssante des graphes est le « social network analysis ». Imaginez que vous possédiez la liste de vos amis, ainsi que les amis de vos amis (ces derniers ne sont pas forcément dans vos amis) sous forme de graphe. \n",
    "\n",
    "Ce graphe doit permettre de:\n",
    "1. Trouver parmis vos amis facebook ceux qui possèdent le plus d’amis\n",
    "2. Découvrir que certains de vos amis se connaissent\n",
    "3. Lister vos amis directes qui pourraient vous présenter une personne qui n’est pas\n",
    "dans votre liste d’amis\n",
    "4. Trouvez une personne qui n’a pas d’ami.\n",
    "\n",
    "#### _Partie A_\n",
    "\n",
    "Sur papier, comment modéliseriez vous le problème en utilisant un graphe?\n",
    "\n",
    "- A quoi correspondent les arêtes (edges) et nœuds (vertices) ?\n",
    "- Faut-il utiliser un graphe dirigé ?\n",
    "- Décrivez, en terme de nœuds et d’arrêtes comment trouver les 4 éléments ci-dessus."
   ]
  },
  {
   "cell_type": "code",
   "execution_count": null,
   "metadata": {
    "colab": {},
    "colab_type": "code",
    "id": "YJSbdK27cAi1"
   },
   "outputs": [],
   "source": [
    "# edge = ?\n",
    "# vertice = ?\n",
    "# dirige = ?\n",
    "# 1 = ?\n",
    "# 2 = ?\n",
    "# 3 = ?\n",
    "# 4 = ?"
   ]
  },
  {
   "cell_type": "markdown",
   "metadata": {
    "colab_type": "text",
    "id": "oKD6wrY3b_Xh",
    "nbgrader": {
     "grade": false,
     "grade_id": "cell-a5592a9813df48b6",
     "locked": true,
     "schema_version": 3,
     "solution": false,
     "task": false
    }
   },
   "source": [
    "#### _Partie B_\n",
    "\n",
    "En considérant les deux graphes ci-dessous (Facebook & Whatsapp), pouvez vous redécouvrir à qui correspondent les personnes de Facebook sur Whatsapp? "
   ]
  },
  {
   "cell_type": "code",
   "execution_count": 7,
   "metadata": {
    "colab": {
     "base_uri": "https://localhost:8080/",
     "height": 319
    },
    "colab_type": "code",
    "id": "1OlzkE3Gfcsb",
    "nbgrader": {
     "grade": false,
     "grade_id": "cell-97235a6338f90e6d",
     "locked": true,
     "schema_version": 3,
     "solution": false,
     "task": false
    },
    "outputId": "22675d21-8bd1-407e-86bd-013639d644b4"
   },
   "outputs": [
    {
     "data": {
      "image/png": "[encoded data removed]",
      "text/plain": [
       "<Figure size 432x288 with 1 Axes>"
      ]
     },
     "metadata": {},
     "output_type": "display_data"
    }
   ],
   "source": [
    "# FACEBOOK\n",
    "# Importer le package necessaire\n",
    "import matplotlib.pyplot as plt\n",
    "import networkx as nx\n",
    "\n",
    "# Initialiser un graphe non dirigé\n",
    "G = nx.Graph()\n",
    "\n",
    "# Ajouter des noeuds au graphe à partir d'une liste\n",
    "list_nodes = ['A', 'B','C' , 'D', 'E', 'F']\n",
    "G.add_nodes_from(list_nodes)\n",
    "\n",
    "# Ajouter les liens entre les noeuds et leur poids respectif\n",
    "G.add_edge('A', 'C')\n",
    "G.add_edge('C', 'E')\n",
    "G.add_edge('A', 'B')\n",
    "G.add_edge('B', 'D')\n",
    "G.add_edge('B', 'F')\n",
    "G.add_edge('C', 'B')\n",
    "\n",
    "# Montrer le graphe\n",
    "nx.draw(G,with_labels = True)\n",
    "plt.show()"
   ]
  },
  {
   "cell_type": "code",
   "execution_count": 8,
   "metadata": {
    "colab": {
     "base_uri": "https://localhost:8080/",
     "height": 319
    },
    "colab_type": "code",
    "id": "4kiloJDGgUis",
    "nbgrader": {
     "grade": false,
     "grade_id": "cell-ee851f820954331d",
     "locked": true,
     "schema_version": 3,
     "solution": false,
     "task": false
    },
    "outputId": "faae790f-c005-4719-bc11-2f318208a032"
   },
   "outputs": [
    {
     "data": {
      "image/png": "[encoded data removed]",
      "text/plain": [
       "<Figure size 432x288 with 1 Axes>"
      ]
     },
     "metadata": {},
     "output_type": "display_data"
    }
   ],
   "source": [
    "# WHATSAPP\n",
    "# Importer le package necessaire\n",
    "import matplotlib.pyplot as plt\n",
    "import networkx as nx\n",
    "\n",
    "# Initialiser un graphe non dirigé\n",
    "G = nx.Graph()\n",
    "\n",
    "# Ajouter des noeuds au graphe à partir d'une liste\n",
    "list_nodes = ['1','2','3' , '4', '5', '6']\n",
    "G.add_nodes_from(list_nodes)\n",
    "\n",
    "# Ajouter les liens entre les noeuds et leur poids respectif\n",
    "G.add_edge('1', '3')\n",
    "G.add_edge('3', '5')\n",
    "G.add_edge('1', '2')\n",
    "G.add_edge('2', '4')\n",
    "G.add_edge('2', '6')\n",
    "G.add_edge('3', '2')\n",
    "\n",
    "# Montrer le graphe\n",
    "nx.draw(G,with_labels = True, node_color='g' )\n",
    "plt.show()"
   ]
  },
  {
   "cell_type": "code",
   "execution_count": null,
   "metadata": {},
   "outputs": [],
   "source": []
  }
 ],
 "metadata": {
  "celltoolbar": "Create Assignment",
  "colab": {
   "collapsed_sections": [],
   "name": "Week7-MST.ipynb",
   "provenance": []
  },
  "kernel_info": {
   "name": "python3"
  },
  "kernelspec": {
   "display_name": "Python 3",
   "language": "python",
   "name": "python3"
  },
  "language_info": {
   "codemirror_mode": {
    "name": "ipython",
    "version": 3
   },
   "file_extension": ".py",
   "mimetype": "text/x-python",
   "name": "python",
   "nbconvert_exporter": "python",
   "pygments_lexer": "ipython3",
   "version": "3.7.3"
  },
  "nteract": {
   "version": "0.15.0"
  }
 },
 "nbformat": 4,
 "nbformat_minor": 1
}
