{
 "cells": [
  {
   "cell_type": "markdown",
   "metadata": {
    "colab_type": "text",
    "id": "S16P31TRhU7a"
   },
   "source": [
    "## Useful videos on trees\n",
    "\n",
    "#### Trees as a data structure**\n",
    "\n",
    "[Hackerrank video on trees](https://www.youtube.com/watch?v=oSWTXtMglKE)\n",
    "\n",
    "#### Binary search tree**\n",
    "\n",
    "[Hackerrank video on BST](https://www.youtube.com/watch?v=wFPtblejROo)\n",
    "\n",
    "Points clés de get.height():\n",
    "\n",
    "- Si l'arbre est vide, sa taille est de -1.\n",
    "\n",
    "- Si l'arbre a uniquement un \"root node\", alors sa taille est de 0. \n",
    "\n",
    "- Sinon, il faut trouver le chemin le plus long \"to the leaf\" et compter le nombre de liens. \n",
    "\n"
   ]
  },
  {
   "cell_type": "markdown",
   "metadata": {
    "colab_type": "text",
    "id": "y4Ie9jJQyJ8u"
   },
   "source": [
    "## Useful videos on MST\n",
    "\n",
    "#### Disjoint set as data structure**\n",
    "\n",
    "[Union-Find video](https://www.youtube.com/watch?v=ibjEGG7ylHk)\n",
    "\n",
    "#### MST with union and find**\n",
    "\n",
    "[Kruskal's algorithm](https://www.youtube.com/watch?v=JZBQLXgSGfs)"
   ]
  }
 ],
 "metadata": {
  "colab": {
   "collapsed_sections": [],
   "name": "Week7-videos",
   "provenance": []
  },
  "kernel_info": {
   "name": "python3"
  },
  "kernelspec": {
   "display_name": "Python 3",
   "language": "python",
   "name": "python3"
  },
  "language_info": {
   "codemirror_mode": {
    "name": "ipython",
    "version": 3
   },
   "file_extension": ".py",
   "mimetype": "text/x-python",
   "name": "python",
   "nbconvert_exporter": "python",
   "pygments_lexer": "ipython3",
   "version": "3.7.3"
  },
  "nteract": {
   "version": "0.15.0"
  }
 },
 "nbformat": 4,
 "nbformat_minor": 1
}
