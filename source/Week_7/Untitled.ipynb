{
 "cells": [
  {
   "cell_type": "markdown",
   "metadata": {},
   "source": [
    "# Exercice 1\n",
    "\n",
    "## Graphes\n",
    "\n",
    "Un graphe est une data structure dans laquelle les éléments sont reliés les uns aux autres de manière arbitraire.\n",
    "\n",
    "Les éléments du graphes sont les `noeuds` et les `arrêtes`, les `noeuds` contiennent les valeurs et sont reliés les uns aux autres par les `arrêtes` (notez que les arrêtes elles-mêmes peuvent contenir des informations.)\n",
    "\n"
   ]
  }
 ],
 "metadata": {
  "kernelspec": {
   "display_name": "Python 3",
   "language": "python",
   "name": "python3"
  },
  "language_info": {
   "codemirror_mode": {
    "name": "ipython",
    "version": 3
   },
   "file_extension": ".py",
   "mimetype": "text/x-python",
   "name": "python",
   "nbconvert_exporter": "python",
   "pygments_lexer": "ipython3",
   "version": "3.7.3"
  }
 },
 "nbformat": 4,
 "nbformat_minor": 2
}
