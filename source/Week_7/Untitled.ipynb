{
  "cells": [
    {
      "cell_type": "markdown",
      "source": [
        "# Exercice 1\n",
        "\n",
        "## Graphes\n",
        "\n",
        "Un graphe est une data structure dans laquelle les éléments sont reliés les uns aux autres de manière arbitraire.\n",
        "\n",
        "Les éléments du graphes sont les `noeuds` et les `arrêtes`, les `noeuds` contiennent les valeurs et sont reliés les uns aux autres par les `arrêtes` (notez que les arrêtes elles-mêmes peuvent contenir des informations.)\n",
        "\n"
      ],
      "metadata": {}
    }
  ],
  "metadata": {
    "kernelspec": {
      "name": "python3",
      "language": "python",
      "display_name": "Python 3"
    },
    "language_info": {
      "name": "python",
      "version": "3.7.3",
      "mimetype": "text/x-python",
      "codemirror_mode": {
        "name": "ipython",
        "version": 3
      },
      "pygments_lexer": "ipython3",
      "nbconvert_exporter": "python",
      "file_extension": ".py"
    },
    "kernel_info": {
      "name": "python3"
    },
    "nteract": {
      "version": "0.15.0"
    }
  },
  "nbformat": 4,
  "nbformat_minor": 2
}