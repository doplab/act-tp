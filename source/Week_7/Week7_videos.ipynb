{
  "cells": [
    {
      "cell_type": "markdown",
      "source": [
        "## Useful videos on trees\n",
        "\n",
        "####**Trees as a data structure**\n",
        "\n",
        "[Hackerrank video on trees](https://www.youtube.com/watch?v=oSWTXtMglKE)\n",
        "\n",
        "####**Binary search tree**\n",
        "\n",
        "[Hackerrank video on BST](https://www.youtube.com/watch?v=wFPtblejROo)\n",
        "\n",
        "Points clés de get.height():\n",
        "\n",
        "- Si l'arbre est vide, sa taille est de -1.\n",
        "\n",
        "- Si l'arbre a uniquement un \"root node\", alors sa taille est de 0. \n",
        "\n",
        "- Sinon, il faut trouver le chemin le plus long \"to the leaf\" et compter le nombre de liens. \n",
        "\n"
      ],
      "metadata": {
        "id": "S16P31TRhU7a",
        "colab_type": "text"
      }
    },
    {
      "cell_type": "markdown",
      "source": [
        "## Useful videos on MST\n",
        "\n",
        "####**Disjoint set as data structure**\n",
        "\n",
        "[Union-Find video](https://www.youtube.com/watch?v=ibjEGG7ylHk)\n",
        "\n",
        "####**MST with union and find**\n",
        "\n",
        "[Kruskal's algorithm](https://www.youtube.com/watch?v=JZBQLXgSGfs)"
      ],
      "metadata": {
        "id": "y4Ie9jJQyJ8u",
        "colab_type": "text"
      }
    }
  ],
  "metadata": {
    "colab": {
      "name": "Week7-videos",
      "provenance": [],
      "collapsed_sections": []
    },
    "kernelspec": {
      "name": "python3",
      "language": "python",
      "display_name": "Python 3"
    },
    "kernel_info": {
      "name": "python3"
    },
    "language_info": {
      "name": "python",
      "version": "3.7.3",
      "mimetype": "text/x-python",
      "codemirror_mode": {
        "name": "ipython",
        "version": 3
      },
      "pygments_lexer": "ipython3",
      "nbconvert_exporter": "python",
      "file_extension": ".py"
    },
    "nteract": {
      "version": "0.15.0"
    }
  },
  "nbformat": 4,
  "nbformat_minor": 0
}