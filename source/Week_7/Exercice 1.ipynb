{
 "cells": [
  {
   "cell_type": "markdown",
   "metadata": {},
   "source": [
    "# Exercice 1: Matrices\n",
    "\n",
    "### Matrices\n",
    "\n",
    "Une matrice est une liste en 2D. Chaque élément de la liste est une autre liste.\n",
    "\n",
    "Une liste est représentée par[1,2,3,4,5].\n",
    "\n",
    "Une matrice 2D est représentée par [[1,2,3,4,4,5],[6,7,8,9,0],[2,4,6,8,0] ] ]."
   ]
  },
  {
   "cell_type": "markdown",
   "metadata": {},
   "source": [
    "##### Exercice 1\n",
    "Écrire une fonction qui imprime la matrice donnée. \n",
    "Au lieu de **print( _votre code ici_ )**, utilisez **print( _votre code ici_ , end='\\t')** pour imprimer les tabulations.\n",
    "\n",
    "Le résultat devrait être le suivant:\n",
    "\n",
    "a&nbsp;&nbsp;&nbsp;&nbsp;b&nbsp;&nbsp;&nbsp;&nbsp;c&nbsp;&nbsp;&nbsp;&nbsp;d    \n",
    "e&nbsp;&nbsp;&nbsp;&nbsp;f&nbsp;&nbsp;&nbsp;&nbsp;&nbsp;g&nbsp;&nbsp;&nbsp;&nbsp;h    \n",
    "i&nbsp;&nbsp;&nbsp;&nbsp;&nbsp;j&nbsp;&nbsp;&nbsp;&nbsp;&nbsp;&nbsp;k&nbsp;&nbsp;&nbsp;&nbsp;l    "
   ]
  },
  {
   "cell_type": "code",
   "execution_count": 12,
   "metadata": {},
   "outputs": [],
   "source": [
    "def print_matrix(m):\n",
    "    # votre code ici\n",
    "    "
   ]
  },
  {
   "cell_type": "code",
   "execution_count": 13,
   "metadata": {},
   "outputs": [
    {
     "name": "stdout",
     "output_type": "stream",
     "text": [
      "a\tb\tc\td\t\n",
      "e\tf\tg\th\t\n",
      "i\tj\tk\tl\t\n"
     ]
    }
   ],
   "source": [
    "matrix = [['a','b','c','d'],['e','f','g','h'],['i','j','k','l']]\n",
    "print_matrix(matrix)"
   ]
  },
  {
   "cell_type": "markdown",
   "metadata": {},
   "source": [
    "##### Exercice 2\n",
    "Ecrire une fonction qui imprime la table de multiplication. \n",
    "Au lieu de **print( _votre code ici_ )**, utilisez **print( _votre code ici_ , end='\\t')** pour imprimer les tabulations.\n",
    "\n",
    "Le résultat devrait être le suivant:\n",
    "\n",
    "1&emsp;&emsp;2&emsp;&emsp;&nbsp;&nbsp;&nbsp;3&emsp;&emsp;&nbsp;&nbsp;4&emsp;&emsp;&nbsp;&nbsp;5&emsp;&emsp;&nbsp;&nbsp;6&emsp;&emsp;&nbsp;&nbsp;7&emsp;&emsp;&nbsp;&nbsp;8&emsp;&emsp;&nbsp;&nbsp;9&emsp;&emsp;&nbsp;&nbsp;10\t\n",
    "2&emsp;&emsp;4&emsp;&emsp;&nbsp;&nbsp;&nbsp;6&emsp;&emsp;&nbsp;&nbsp;8&emsp;&emsp;&nbsp;10&emsp;&emsp;12&emsp;&emsp;14&emsp;&emsp;16&emsp;&emsp;18&emsp;&emsp;&nbsp;20\t\n",
    "3&emsp;&emsp;6&emsp;&emsp;&nbsp;&nbsp;&nbsp;9&emsp;&emsp;&nbsp;12&emsp;&emsp;15&emsp;&emsp;18&emsp;&emsp;21&emsp;&emsp;24&emsp;&emsp;27&emsp;&emsp;&nbsp;30\t\n",
    "4&emsp;&emsp;8&emsp;&emsp;&nbsp;&nbsp;12&emsp;&emsp;16&emsp;&emsp;20&emsp;&emsp;24&emsp;&emsp;28&emsp;&emsp;32&emsp;&emsp;36&emsp;&emsp;&nbsp;40\t\n",
    "5&emsp;&emsp;10&emsp;&emsp;15&emsp;&emsp;20&emsp;&emsp;25&emsp;&emsp;30&emsp;&emsp;35&emsp;&emsp;40&emsp;&emsp;45&emsp;&emsp;&nbsp;50\t\n",
    "6&emsp;&emsp;12&emsp;&emsp;18&emsp;&emsp;24&emsp;&emsp;30&emsp;&emsp;36&emsp;&emsp;42&emsp;&emsp;48&emsp;&emsp;54&emsp;&emsp;&nbsp;60\t\n",
    "7&emsp;&emsp;14&emsp;&emsp;21&emsp;&emsp;28&emsp;&emsp;35&emsp;&emsp;42&emsp;&emsp;49&emsp;&emsp;56&emsp;&emsp;63&emsp;&emsp;&nbsp;70\t\n",
    "8&emsp;&emsp;16&emsp;&emsp;24&emsp;&emsp;32&emsp;&emsp;40&emsp;&emsp;48&emsp;&emsp;56&emsp;&emsp;64&emsp;&emsp;72&emsp;&emsp;&nbsp;80\t\n",
    "9&emsp;&emsp;18&emsp;&emsp;27&emsp;&emsp;36&emsp;&emsp;45&emsp;&emsp;54&emsp;&emsp;63&emsp;&emsp;72&emsp;&emsp;81&emsp;&emsp;&nbsp;90\t\n",
    "10&emsp;&nbsp;&nbsp;20&emsp;&emsp;30&emsp;&emsp;40&emsp;&emsp;50&emsp;&emsp;60&emsp;&emsp;70&emsp;&emsp;80&emsp;&emsp;90&emsp;&emsp;100\t"
   ]
  },
  {
   "cell_type": "code",
   "execution_count": 14,
   "metadata": {},
   "outputs": [
    {
     "name": "stdout",
     "output_type": "stream",
     "text": [
      "1\t2\t3\t4\t5\t6\t7\t8\t9\t10\t\n",
      "2\t4\t6\t8\t10\t12\t14\t16\t18\t20\t\n",
      "3\t6\t9\t12\t15\t18\t21\t24\t27\t30\t\n",
      "4\t8\t12\t16\t20\t24\t28\t32\t36\t40\t\n",
      "5\t10\t15\t20\t25\t30\t35\t40\t45\t50\t\n",
      "6\t12\t18\t24\t30\t36\t42\t48\t54\t60\t\n",
      "7\t14\t21\t28\t35\t42\t49\t56\t63\t70\t\n",
      "8\t16\t24\t32\t40\t48\t56\t64\t72\t80\t\n",
      "9\t18\t27\t36\t45\t54\t63\t72\t81\t90\t\n",
      "10\t20\t30\t40\t50\t60\t70\t80\t90\t100\t\n"
     ]
    }
   ],
   "source": [
    "# votre code ici\n"
   ]
  },
  {
   "cell_type": "markdown",
   "metadata": {},
   "source": [
    "##### Exercice 3\n",
    "\n",
    "Écrire un programme qui ajoute deux matrices.\n",
    "\n",
    "Le résultat devrait être le suivant:\n",
    "\n",
    "1&nbsp;&nbsp;4&nbsp;&nbsp;5&nbsp;&nbsp;&nbsp;&nbsp;&nbsp;6&nbsp;&nbsp;8&nbsp;&nbsp;2&nbsp;&nbsp;&nbsp;&nbsp;&nbsp;&nbsp;7&nbsp;&nbsp;&nbsp;12&nbsp;&nbsp;7    \n",
    "8&nbsp;&nbsp;4&nbsp;&nbsp;2&nbsp;+&nbsp;&nbsp;7&nbsp;&nbsp;2&nbsp;&nbsp;8&nbsp;=&nbsp;&nbsp;15&nbsp;&nbsp;&nbsp;6&nbsp;&nbsp;10    \n",
    "5&nbsp;&nbsp;3&nbsp;&nbsp;7&nbsp;&nbsp;&nbsp;&nbsp;&nbsp;1&nbsp;&nbsp;4&nbsp;&nbsp;6&nbsp;&nbsp;&nbsp;&nbsp;&nbsp;&nbsp;6&nbsp;&nbsp;&nbsp;&nbsp;7&nbsp;&nbsp;13    "
   ]
  },
  {
   "cell_type": "code",
   "execution_count": 15,
   "metadata": {},
   "outputs": [],
   "source": [
    "matrix1 = [[1,4,5],[8,4,2],[5,3,7]]\n",
    "matrix2 = [[6,8,2],[7,2,8],[1,4,6]]"
   ]
  },
  {
   "cell_type": "code",
   "execution_count": 16,
   "metadata": {},
   "outputs": [],
   "source": [
    "result = []\n",
    "# votre code ici\n"
   ]
  },
  {
   "cell_type": "code",
   "execution_count": 17,
   "metadata": {},
   "outputs": [
    {
     "name": "stdout",
     "output_type": "stream",
     "text": [
      "7\t12\t7\t\n",
      "15\t6\t10\t\n",
      "6\t7\t13\t\n"
     ]
    }
   ],
   "source": [
    "print_matrix(result)"
   ]
  },
  {
   "cell_type": "markdown",
   "metadata": {},
   "source": [
    "##### Exercice 4\n",
    "\n",
    "Écrire un programme de code qui calcule la moyenne de chaque ligne.\n",
    "\n",
    "Le résultat devrait être le suivant:\n",
    "\n",
    "4.5    \n",
    "5.0    \n",
    "5.25    \n",
    "6.5"
   ]
  },
  {
   "cell_type": "code",
   "execution_count": 21,
   "metadata": {},
   "outputs": [],
   "source": [
    "grades_list = [[3,4,5,2,4],[4,3,4,6,3],[5,4,4,3,5],[6,4,5,5,6]]"
   ]
  },
  {
   "cell_type": "code",
   "execution_count": 22,
   "metadata": {},
   "outputs": [
    {
     "name": "stdout",
     "output_type": "stream",
     "text": [
      "4.5\n",
      "5.0\n",
      "5.25\n",
      "6.5\n"
     ]
    }
   ],
   "source": [
    "# votre code ici\n"
   ]
  },
  {
   "cell_type": "markdown",
   "metadata": {},
   "source": [
    "##### Exercice 5\n",
    "\n",
    "Écrire un programme de code qui multiplie deux matrices.\n",
    "\n",
    "Voici comment multiplier deux matrices :\n",
    "\n",
    "A&nbsp;&nbsp;&nbsp;&nbsp;B&nbsp;&nbsp;&nbsp;&nbsp;&nbsp;&nbsp;&nbsp;&nbsp;&nbsp;&nbsp;&nbsp;&nbsp;E&nbsp;&nbsp;&nbsp;&nbsp;F&nbsp;&nbsp;&nbsp;&nbsp;&nbsp;&nbsp;&nbsp;&nbsp;&nbsp;&nbsp;A x E + B x G&nbsp;&nbsp;&nbsp;&nbsp;&nbsp;&nbsp;A x F + B x H    \n",
    "&nbsp;&nbsp;&nbsp;&nbsp;&nbsp;&nbsp;&nbsp;&nbsp;&nbsp;&nbsp;&nbsp;&nbsp;x&nbsp;&nbsp;&nbsp;&nbsp;&nbsp;&nbsp;&nbsp;&nbsp;&nbsp;&nbsp;&nbsp;&nbsp;&nbsp;&nbsp;&nbsp;&nbsp;=    \n",
    "C&nbsp;&nbsp;&nbsp;&nbsp;D&nbsp;&nbsp;&nbsp;&nbsp;&nbsp;&nbsp;&nbsp;&nbsp;&nbsp;&nbsp;&nbsp;G&nbsp;&nbsp;&nbsp;&nbsp;H&nbsp;&nbsp;&nbsp;&nbsp;&nbsp;&nbsp;&nbsp;&nbsp;&nbsp;C x E + D x G&nbsp;&nbsp;&nbsp;&nbsp;&nbsp;C x F + D x H    \n",
    "\n",
    "Le résultat devrait être le suivant:\n",
    "\n",
    "1&nbsp;&nbsp;4&nbsp;&nbsp;5&nbsp;&nbsp;&nbsp;&nbsp;&nbsp;&nbsp;6&nbsp;&nbsp;8&nbsp;&nbsp;2&nbsp;&nbsp;&nbsp;&nbsp;&nbsp;39&nbsp;&nbsp;36&nbsp;&nbsp;64    \n",
    "8&nbsp;&nbsp;4&nbsp;&nbsp;2&nbsp;&nbsp;x&nbsp;&nbsp;7&nbsp;&nbsp;2&nbsp;&nbsp;8&nbsp;=&nbsp;&nbsp;78&nbsp;&nbsp;80&nbsp;&nbsp;60    \n",
    "5&nbsp;&nbsp;3&nbsp;&nbsp;7&nbsp;&nbsp;&nbsp;&nbsp;&nbsp;&nbsp;1&nbsp;&nbsp;4&nbsp;&nbsp;6&nbsp;&nbsp;&nbsp;&nbsp;&nbsp;58&nbsp;&nbsp;74&nbsp;&nbsp;76"
   ]
  },
  {
   "cell_type": "code",
   "execution_count": 35,
   "metadata": {},
   "outputs": [],
   "source": [
    "matrix1 = [[1,4,5],[8,4,2],[5,3,7]]\n",
    "matrix2 = [[6,8,2],[7,2,8],[1,4,6]]\n",
    "result = []"
   ]
  },
  {
   "cell_type": "code",
   "execution_count": 33,
   "metadata": {},
   "outputs": [],
   "source": [
    "# votre code ici\n"
   ]
  },
  {
   "cell_type": "code",
   "execution_count": 34,
   "metadata": {},
   "outputs": [
    {
     "name": "stdout",
     "output_type": "stream",
     "text": [
      "39\t36\t64\t\n",
      "78\t80\t60\t\n",
      "58\t74\t76\t\n"
     ]
    }
   ],
   "source": [
    "print_matrix(result)"
   ]
  },
  {
   "cell_type": "code",
   "execution_count": null,
   "metadata": {},
   "outputs": [],
   "source": []
  }
 ],
 "metadata": {
  "kernelspec": {
   "display_name": "Python 3",
   "language": "python",
   "name": "python3"
  },
  "language_info": {
   "codemirror_mode": {
    "name": "ipython",
    "version": 3
   },
   "file_extension": ".py",
   "mimetype": "text/x-python",
   "name": "python",
   "nbconvert_exporter": "python",
   "pygments_lexer": "ipython3",
   "version": "3.7.3"
  }
 },
 "nbformat": 4,
 "nbformat_minor": 2
}
