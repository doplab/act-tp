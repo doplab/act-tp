{
 "cells": [
  {
   "cell_type": "markdown",
   "metadata": {
    "nbgrader": {
     "grade": false,
     "grade_id": "cell-1f0e774940b3f247",
     "locked": true,
     "schema_version": 3,
     "solution": false,
     "task": false
    }
   },
   "source": [
    "# Exercice 1\n",
    "\n",
    "## Graphes\n",
    "\n",
    "Un `graphe` est une data structure dans laquelle les éléments sont reliés les uns aux autres de manière arbitraire.\n",
    "\n",
    "Les éléments du `graphe` sont les `noeuds` et les `arrêtes`, les `noeuds` contiennent les valeurs et sont reliés les uns aux autres par les `arrêtes` (notez que les arrêtes elles-mêmes peuvent contenir des informations.)\n",
    "\n",
    "## Utilité:\n",
    "\n",
    "Les `graphes` sont très utilisés en sciences forensiques car ils permettent de facilement faire le rapprochement entre différents individus ou différents évènements. Ils peuvent être utilisés pour identifier les réseaux de criminels, identifier des fraudes sur des systèmes complexes, et même résoudre des cas de meurtres non résolus en les reliant à des tueurs en séries.\n",
    "\n",
    "De plus les `graphes` sont à la base de l'`intelligence artificielle` puisque les `réseaux de neurons`, qui émulent la façon dont fonctionnent les cerveaux sont en fait des `graphes`.\n",
    "\n",
    "## Illustration:\n",
    "\n",
    "### Noeuds:\n",
    "\n",
    "<img src=\"https://github.com/doplab/act-tp/blob/master/images/Screenshot%20from%202019-10-23%2020-04-31.png?raw=true\" />\n",
    "\n",
    "### Arrêtes:\n",
    "\n",
    "<img src=\"https://github.com/doplab/act-tp/blob/master/images/Screenshot%20from%202019-10-23%2020-04-54.png?raw=true\" />\n",
    "\n",
    "### Graphe complet: \n",
    "\n",
    "<img src=\"https://github.com/doplab/act-tp/blob/master/images/Screenshot%20from%202019-10-23%2020-01-34.png?raw=true\" />\n",
    "\n",
    "## Graphes orientés:\n",
    "\n",
    "Certains graphes peuvent avoir des `orientations`, c'est-à-dire que leurs `arrêtes` ne peuvent aller que dans un sens, c'est le cas pour les graphes relationnels. On note alors les directions par des flêches. Par exemple un graphe dans lequel on souhaiterait représenter une famille où Jean est le père et Sylvie la fille, leur relation serait la suivante: `(Jean)-[Père]->(Sylvie)`\n",
    "\n",
    "Dans l'image suivante nous avons un graphe relationnel où les différentes entités peuvent travailler ou aimer d'autres entités:\n",
    "\n",
    "<img src=\"https://github.com/doplab/act-tp/blob/master/images/cypher_graph_v2.jpg?raw=true\" />"
   ]
  },
  {
   "cell_type": "markdown",
   "metadata": {
    "nbgrader": {
     "grade": false,
     "grade_id": "cell-144476860ec6fcb6",
     "locked": true,
     "schema_version": 3,
     "solution": false,
     "task": false
    }
   },
   "source": [
    "## Cartes\n",
    "\n",
    "Une carte reliant différentes villes peut être exprimée sous forme de graphe. Par exemple, le graphe suivant montre les différentes distances entre Lyon, Cologne, Berlin, Hamburg et Paris\n",
    "\n",
    "<img src=\"https://github.com/doplab/act-tp/blob/master/images/cities_graph.png?raw=true\" />\n",
    "\n",
    "Nous aurions aussi pu représenter ce graphe avec une matrice 5*5: \n",
    "\n",
    "$$ M = \\begin{pmatrix} 0 & 0 & 0 & 0 & 0 \\\\ 700 & 0 & 0 & 0 & 550 \\\\ 1300 & 500 & 0 & 0 & 900 \\\\ 1100 & 850 & 400 & 0 & 1000 \\\\ 0 & 0 & 0 & 0 & 0  \\end{pmatrix}$$\n",
    "\n",
    "Où chaque élément $$M_{i,j} = distance(i,j)$$\n",
    "\n",
    "Si une distance est marquée comme 0, il n'y a pas de chemin possible entre les deux villes\n",
    "\n",
    "Tel que: \n",
    "\n",
    "    Lyon = 1\n",
    "    Cologne = 2\n",
    "    Hamburg = 3\n",
    "    Berlin = 4\n",
    "    Paris = 5"
   ]
  },
  {
   "cell_type": "markdown",
   "metadata": {
    "nbgrader": {
     "grade": false,
     "grade_id": "cell-0d201804d83d9b84",
     "locked": true,
     "schema_version": 3,
     "solution": false,
     "task": false
    }
   },
   "source": [
    "## Créer un graphe de distances:\n",
    "\n",
    "Pour créer un graphe, il suffit d'appeler le constructeur `Graph(matrix)` et de lui donner une matrice de distances en argument\n",
    "\n",
    "### Exemple:\n",
    "    graphe = Graph([[1, 2],[3, 4]])\n",
    "    \n",
    "Par défaut les éléments du `graphe` ont comme valeur les lettres en majuscule dans l'ordre (l'élément 1 vaut `\"A\"`, l'élément 2 vaut `\"B\"`, etc.)"
   ]
  },
  {
   "cell_type": "markdown",
   "metadata": {
    "nbgrader": {
     "grade": false,
     "grade_id": "cell-84139d20ebb46175",
     "locked": true,
     "schema_version": 3,
     "solution": false,
     "task": false
    }
   },
   "source": [
    "## Exercice:\n",
    "\n",
    "Créez un graphe qui réplique le graphe de villes précédent"
   ]
  },
  {
   "cell_type": "code",
   "execution_count": 3,
   "metadata": {},
   "outputs": [],
   "source": [
    "from Graph import Graph\n",
    "\n",
    "graphe = # Vore code ici"
   ]
  },
  {
   "cell_type": "code",
   "execution_count": 4,
   "metadata": {
    "nbgrader": {
     "grade": false,
     "grade_id": "cell-629ead9a2779b3d8",
     "locked": true,
     "schema_version": 3,
     "solution": false,
     "task": false
    }
   },
   "outputs": [
    {
     "name": "stdout",
     "output_type": "stream",
     "text": [
      "\u001b[31m\"Mauvaise réponse, réessayez\"\u001b[0m\n"
     ]
    }
   ],
   "source": [
    "from assertion import graph_eq\n",
    "graph_eq(graphe)"
   ]
  },
  {
   "cell_type": "markdown",
   "metadata": {
    "nbgrader": {
     "grade": false,
     "grade_id": "cell-51ef42409ed47d91",
     "locked": true,
     "schema_version": 3,
     "solution": false,
     "task": false
    }
   },
   "source": [
    "## Récupérer une node dans un graphe:\n",
    "\n",
    "Pour récupérer un noeud dans un graphe, utilisez la fonction `get_node(str)` qui prend en argument la valeur de l'arrête à chercher dans le graphe.\n",
    "\n",
    "Par exemple, pour récupérer la valeur `A` dans `graphe`, utilisez `graphe.get_node(\"A\")`\n",
    "\n",
    "Chaque `Node` contient une liste d'arrêtes que vous pouvez récupérer avec `node.relationships`. Et chaque `arrête` contient l'élément d'origine `relationship._from` et l'élément vers laquelle elle pointe `relationship.to`.\n",
    "\n",
    "Donc pour récupérer une node, et afficher la valeur de la première node à laquelle elle est ratachée, faites:\n",
    "\n",
    "    node = graphe.get_node(\"B\")\n",
    "    relationships = node.relationships\n",
    "    first_rel = relationships[0]\n",
    "    first_neighbour = firs_rel.to\n",
    "    print(first_neighbour.value)\n",
    "    \n",
    "    \n",
    "Pour accéder à la distance entre deux nodes grâce à une `arrête`, faites `relationship.value` et pour voir le nom d'un `noeud`, faites `node.value`."
   ]
  },
  {
   "cell_type": "markdown",
   "metadata": {
    "nbgrader": {
     "grade": false,
     "grade_id": "cell-86f00f2f70b7c268",
     "locked": true,
     "schema_version": 3,
     "solution": false,
     "task": false
    }
   },
   "source": [
    "## Exercice:\n",
    "\n",
    "Toujours avec votre graphe précédent, récupérez la `Node` `\"D\"` et affichez la valeur de toutes les nodes à laquelle elle est connectée, ainsi que la distance.\n",
    "\n",
    "L'output devrait être\n",
    "\n",
    "    A 1100\n",
    "    B 850\n",
    "    C 400\n",
    "    E 1000\n"
   ]
  },
  {
   "cell_type": "code",
   "execution_count": 5,
   "metadata": {},
   "outputs": [],
   "source": [
    "# Votre code ici"
   ]
  },
  {
   "cell_type": "markdown",
   "metadata": {
    "nbgrader": {
     "grade": false,
     "grade_id": "cell-ec8328fe501306e6",
     "locked": true,
     "schema_version": 3,
     "solution": false,
     "task": false
    }
   },
   "source": [
    "## Exercice\n",
    "\n",
    "Implémentez l'algorithme de `Djikstra` pour trouver le chemin le plus proche entre deux `noeuds`. Votre fonction devrait retourner un tuple contenant en première position `0`, la distance et en seconde position `1`, le chemin parcouru."
   ]
  },
  {
   "cell_type": "code",
   "execution_count": 1,
   "metadata": {},
   "outputs": [],
   "source": [
    "from math import inf\n",
    "\n",
    "def djikstra(origin, destination, visited = None):\n",
    "    if visited is None:\n",
    "        visited = set()\n",
    "    # VOTRE CODE ICI"
   ]
  },
  {
   "cell_type": "code",
   "execution_count": 2,
   "metadata": {
    "nbgrader": {
     "grade": false,
     "grade_id": "cell-d29b6125ea3febc1",
     "locked": true,
     "schema_version": 3,
     "solution": false,
     "task": false
    }
   },
   "outputs": [
    {
     "name": "stdout",
     "output_type": "stream",
     "text": [
      "Data:\n",
      "\t [0, 3, 0, 5, 10, 9, 2, 40]\n",
      "\t [1, 0, 10, 3, 2, 1, 29, 2]\n",
      "\t [0, 0, 0, 0, 5, 3, 98, 2]\n",
      "\t [0, 0, 0, 0, 0, 11, 85, 10]\n",
      "\t [2, 3, 0, 22, 0, 0, 3, 3]\n",
      "\t [6, 0, 0, 8, 0, 0, 2, 10]\n",
      "\t [10, 21, 0, 3, 4, 11, 0, 8]\n",
      "\t [8, 10, 3, 1, 55, 3, 11, 0]\n",
      "\n",
      "\n",
      "Origine: A, Destination: C\n",
      "\u001b[31m\"Mauvaise réponse, recu:None attendu: (13, 'ABC')\"\u001b[0m\n",
      "Origine: A, Destination: E\n",
      "\u001b[31m\"Mauvaise réponse, recu:None attendu: (5, 'ABE')\"\u001b[0m\n",
      "Origine: A, Destination: F\n",
      "\u001b[31m\"Mauvaise réponse, recu:None attendu: (4, 'ABF')\"\u001b[0m\n",
      "Origine: A, Destination: B\n",
      "\u001b[31m\"Mauvaise réponse, recu:None attendu: (3, 'AB')\"\u001b[0m\n",
      "Origine: C, Destination: C\n",
      "\u001b[31m\"Mauvaise réponse, recu:None attendu: (0, 'C')\"\u001b[0m\n",
      "Origine: C, Destination: E\n",
      "\u001b[31m\"Mauvaise réponse, recu:None attendu: (5, 'CE')\"\u001b[0m\n",
      "Origine: C, Destination: F\n",
      "\u001b[31m\"Mauvaise réponse, recu:None attendu: (3, 'CF')\"\u001b[0m\n",
      "Origine: C, Destination: B\n",
      "\u001b[31m\"Mauvaise réponse, recu:None attendu: (8, 'CEB')\"\u001b[0m\n",
      "Origine: D, Destination: C\n",
      "\u001b[31m\"Mauvaise réponse, recu:None attendu: (30, 'DFABC')\"\u001b[0m\n",
      "Origine: D, Destination: E\n",
      "\u001b[31m\"Mauvaise réponse, recu:None attendu: (22, 'DFABE')\"\u001b[0m\n",
      "Origine: D, Destination: F\n",
      "\u001b[31m\"Mauvaise réponse, recu:None attendu: (11, 'DF')\"\u001b[0m\n",
      "Origine: D, Destination: B\n",
      "\u001b[31m\"Mauvaise réponse, recu:None attendu: (20, 'DFAB')\"\u001b[0m\n",
      "Origine: G, Destination: C\n",
      "\u001b[31m\"Mauvaise réponse, recu:None attendu: (23, 'GABC')\"\u001b[0m\n",
      "Origine: G, Destination: E\n",
      "\u001b[31m\"Mauvaise réponse, recu:None attendu: (4, 'GE')\"\u001b[0m\n",
      "Origine: G, Destination: F\n",
      "\u001b[31m\"Mauvaise réponse, recu:None attendu: (11, 'GF')\"\u001b[0m\n",
      "Origine: G, Destination: B\n",
      "\u001b[31m\"Mauvaise réponse, recu:None attendu: (13, 'GAB')\"\u001b[0m\n"
     ]
    }
   ],
   "source": [
    "from Graph import Graph\n",
    "from assertion import assert_djikstra\n",
    "\n",
    "vertices = [\n",
    "    [0, 3, 0, 5, 10, 9, 2, 40],\n",
    "    [1, 0, 10, 3, 2, 1, 29, 2],\n",
    "    [0, 0, 0, 0, 5, 3, 98, 2],\n",
    "    [0, 0, 0, 0, 0, 11, 85, 10],\n",
    "    [2, 3, 0, 22, 0, 0, 3, 3],\n",
    "    [6, 0, 0, 8, 0, 0, 2, 10],\n",
    "    [10, 21, 0, 3, 4, 11, 0, 8],\n",
    "    [8, 10, 3, 1, 55, 3, 11, 0]\n",
    "]\n",
    "\n",
    "origins = (\"A\", \"C\", \"D\", \"G\")\n",
    "destinations = (\"C\", \"E\", \"F\", \"B\")\n",
    "\n",
    "assert_djikstra(djikstra, vertices, origins, destinations)"
   ]
  }
 ],
 "metadata": {
  "celltoolbar": "Create Assignment",
  "kernelspec": {
   "display_name": "Python 3",
   "language": "python",
   "name": "python3"
  },
  "language_info": {
   "codemirror_mode": {
    "name": "ipython",
    "version": 3
   },
   "file_extension": ".py",
   "mimetype": "text/x-python",
   "name": "python",
   "nbconvert_exporter": "python",
   "pygments_lexer": "ipython3",
   "version": "3.7.3"
  }
 },
 "nbformat": 4,
 "nbformat_minor": 2
}
