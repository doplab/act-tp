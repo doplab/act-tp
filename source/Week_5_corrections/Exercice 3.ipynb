{
  "cells": [
    {
      "cell_type": "markdown",
      "source": [
        "# Algorithmique et Pensée Computationnelle"
      ],
      "metadata": {}
    },
    {
      "cell_type": "markdown",
      "source": [
        "# ACT Week 5\n",
        "\n",
        "## Exercise 3 : Calculez les complexités"
      ],
      "metadata": {
        "deletable": false,
        "editable": false,
        "nbgrader": {
          "cell_type": "markdown",
          "checksum": "38913d0540f488f214d88eed3f39aade",
          "grade": false,
          "grade_id": "cell-c3e2cf0eac290eef",
          "locked": true,
          "schema_version": 3,
          "solution": false,
          "task": false
        }
      }
    },
    {
      "cell_type": "markdown",
      "source": [
        "Pour chaque algorithmes ci-dessous, indiquez en une phrase, ce que font ces algorithmes et calculez leur complexité temporelle avec la notation O( )."
      ],
      "metadata": {
        "deletable": false,
        "editable": false,
        "nbgrader": {
          "cell_type": "markdown",
          "checksum": "34fc118007c6ab18332160d0bbee01cc",
          "grade": false,
          "grade_id": "cell-3fd1f787dea98823",
          "locked": true,
          "schema_version": 3,
          "solution": false,
          "task": false
        }
      }
    },
    {
      "cell_type": "code",
      "source": [
        "#Entrée: list de nombre entiers et M un nombre entier\n",
        "def algo1(L, M):\n",
        "    i = 1\n",
        "    while i < len(L) and L[i] <= M:\n",
        "        i += 1\n",
        "    s = i-1\n",
        "    return s\n",
        "    "
      ],
      "outputs": [],
      "execution_count": null,
      "metadata": {
        "deletable": false,
        "editable": false,
        "nbgrader": {
          "cell_type": "code",
          "checksum": "54840715708f3eaac2c9506dbbcdffb9",
          "grade": false,
          "grade_id": "cell-2f8ac6fc364c622c",
          "locked": true,
          "schema_version": 3,
          "solution": false,
          "task": false
        }
      }
    },
    {
      "cell_type": "markdown",
      "source": [
        "**Solution:** écris ta solution ici\n",
        "\n",
        "La complexite temporelle est O(n): dans le pire des cas (à savoir quand tous les nombres de la liste L sont plus petits ou ́egaux à M), la boucle “tant que” est executee n fois, car le nombre i est incrementé de 1 a chaque passage de la boucle.\n",
        "\n",
        "len() -> O(1)\n",
        "K/2 -> O(logN)\n",
        "\n",
        "When complexity time linear, it means that the fct goes through all the elements of the list\n"
      ],
      "metadata": {}
    },
    {
      "cell_type": "code",
      "source": [
        "#Entrée: n un nombre entier\n",
        "def algo2(n):\n",
        "    s = 0\n",
        "    for i in range(2*n):\n",
        "        s += i\n",
        "    return s"
      ],
      "outputs": [],
      "execution_count": null,
      "metadata": {
        "deletable": false,
        "editable": false,
        "nbgrader": {
          "cell_type": "code",
          "checksum": "d8861c2e1f3dab9277c9187b31538e06",
          "grade": false,
          "grade_id": "cell-4d0cea6d479e1e63",
          "locked": true,
          "schema_version": 3,
          "solution": false,
          "task": false
        }
      }
    },
    {
      "cell_type": "markdown",
      "source": [
        "**Solution:** écris ta solution ici\n",
        "\n",
        "La complexite temporelle est  ́egalement O(n):  de l’ordre de 2n opérations sont effectuees, mais le facteur 2 ne nous importe pas ici.\n"
      ],
      "metadata": {}
    },
    {
      "cell_type": "code",
      "source": [
        "#Entrée: L and M are two list de nombre entiers\n",
        "def algo3(L, M):\n",
        "    n = len(L)\n",
        "    m = len(M)\n",
        "    for i in range(n):\n",
        "        L[i] = L[i]%2\n",
        "    for j in range(m):\n",
        "        M[j] = \n",
        "            "
      ],
      "outputs": [],
      "execution_count": null,
      "metadata": {
        "deletable": false,
        "editable": false,
        "nbgrader": {
          "cell_type": "code",
          "checksum": "dc19522d716c93232b414f7c73c79879",
          "grade": false,
          "grade_id": "cell-c3957b4b989dcfa3",
          "locked": true,
          "schema_version": 3,
          "solution": false,
          "task": false
        }
      }
    },
    {
      "cell_type": "markdown",
      "source": [
        "**Solution:** écris ta solution ici\n",
        "\n",
        "La complexité temporelle est ici de O(n) + 0(m) = O(max{n, m})\n",
        "\n",
        "def\n",
        "    for\n",
        "    for\n",
        "i=0->\n",
        "i=1->\n",
        "j=0->\n",
        "j=1->\n",
        "\n",
        "-> O(n+n)"
      ],
      "metadata": {}
    },
    {
      "cell_type": "code",
      "source": [
        "# Entrée: une matrice M carré (même nombre de lignes et de colonnes)\n",
        "def algo4(M):\n",
        "    for i in range(len(M)):\n",
        "        for j in range(len(M)):\n",
        "            if M[i][j] < 0:\n",
        "                M[i][j] = 0\n",
        "    return M"
      ],
      "outputs": [],
      "execution_count": null,
      "metadata": {
        "deletable": false,
        "editable": false,
        "nbgrader": {
          "cell_type": "code",
          "checksum": "dcf67b37cee91dbb2588c9444d4c5992",
          "grade": false,
          "grade_id": "cell-f42bc1ceed73af7e",
          "locked": true,
          "schema_version": 3,
          "solution": false,
          "task": false
        }
      }
    },
    {
      "cell_type": "markdown",
      "source": [
        "**Solution:** écris ta solution ici\n",
        "\n",
        "La compléxity temporelle est de 0(n<sup>2</sup>)\n",
        "\n",
        "def\n",
        "    for\n",
        "        for\n",
        "\n",
        "i=0, j=0\n",
        "     j=1\n",
        "i=1, j=0\n",
        "     j=1\n",
        "\n",
        "-> O(n* n)\n"
      ],
      "metadata": {}
    }
  ],
  "metadata": {
    "kernelspec": {
      "name": "python3",
      "language": "python",
      "display_name": "Python 3"
    },
    "language_info": {
      "name": "python",
      "version": "3.7.3",
      "mimetype": "text/x-python",
      "codemirror_mode": {
        "name": "ipython",
        "version": 3
      },
      "pygments_lexer": "ipython3",
      "nbconvert_exporter": "python",
      "file_extension": ".py"
    },
    "toc": {
      "toc_position": {},
      "skip_h1_title": false,
      "number_sections": false,
      "title_cell": "Table of Contents",
      "toc_window_display": false,
      "base_numbering": 1,
      "toc_section_display": false,
      "title_sidebar": "Contents",
      "toc_cell": false,
      "nav_menu": {},
      "sideBar": false
    },
    "kernel_info": {
      "name": "python3"
    },
    "nteract": {
      "version": "0.15.0"
    }
  },
  "nbformat": 4,
  "nbformat_minor": 2
}