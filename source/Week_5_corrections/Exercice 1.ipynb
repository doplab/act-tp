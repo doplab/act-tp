{
  "cells": [
    {
      "cell_type": "markdown",
      "source": [
        "# Algorithmique et Pensée Computationnelle"
      ],
      "metadata": {}
    },
    {
      "cell_type": "markdown",
      "source": [
        "# ACT Week 5 (Python)\n",
        "## Exercice 1"
      ],
      "metadata": {
        "deletable": false,
        "editable": false,
        "nbgrader": {
          "cell_type": "markdown",
          "checksum": "e6d1b34b66f2fe4d33d781f566f0142f",
          "grade": false,
          "grade_id": "cell-2963dfdee671eb8c",
          "locked": true,
          "schema_version": 3,
          "solution": false,
          "task": false
        }
      }
    },
    {
      "cell_type": "markdown",
      "source": [
        "## Fonctions"
      ],
      "metadata": {
        "deletable": false,
        "editable": false,
        "nbgrader": {
          "cell_type": "markdown",
          "checksum": "ce1f5a0086a6245989596ed936727d93",
          "grade": false,
          "grade_id": "cell-048c9d9dbca0a40c",
          "locked": true,
          "schema_version": 3,
          "solution": false,
          "task": false
        }
      }
    },
    {
      "cell_type": "markdown",
      "source": [
        "### Rôle\n",
        "\n",
        "Jusqu'à maintenant, nous avons vu les `variables`, `les structures de données` et les `boucles`. Aujourd'hui nous allons nous intéresser aux `fonctions`.  \n",
        "\n",
        "Les `fonctions` permettent d'enregistrer du code dans une variable afin de réutiliser celui-ci à plusieurs endroits, et ainsi éviter de devoir le réécrire.  \n",
        "\n",
        "Les `fonctions` en `Python` fonctionnent comme des fonctions mathématiques, c'est-à-dire qu'on les définit une fois et qu'on peut les réutiliser autant de fois que l'on veut. La différence avec les fonctions mathématiques, c'est qu'on peut se servir de nos fonctions pour d'autres choses que des calculs (en maths, on ne verra jamais la fonction `lancer_un_missile(cible)`, par exemple.)\n",
        "\n",
        "### Syntaxe  \n",
        "\n",
        "Pour définir une fonction, on utilise le mot `def` suivi du nom de notre `fonction`, puis des parenthèses `()`. Ces parenthèses peuvent contenir ou nom des noms d'`arguments`, mais nous reviendrons dessus plus tard. Pour appeler une fonction, il suffit d'écrire son `nom` suivi de parenthèses `()`.\n",
        "\n",
        "Dans l'exemple suivant, nous déclarons une fonction du nom `print_hello` qui a pour unique utilité de `print` le mot `\"Hello\"`. Puis nous appelons cette fonction\n",
        "\n",
        "    def print_hello():\n",
        "        print(\"Hello\")\n",
        "        \n",
        "    print_hello()"
      ],
      "metadata": {
        "deletable": false,
        "editable": false,
        "nbgrader": {
          "cell_type": "markdown",
          "checksum": "a7d343158ad65a618ceebc8b4651a22d",
          "grade": false,
          "grade_id": "cell-739fd62b24f32233",
          "locked": true,
          "schema_version": 3,
          "solution": false,
          "task": false
        }
      }
    },
    {
      "cell_type": "code",
      "source": [
        "def print_hello():\n",
        "    print(\"Hello\")\n",
        "\n",
        "print_hello()"
      ],
      "outputs": [
        {
          "output_type": "stream",
          "name": "stdout",
          "text": [
            "Hello\n"
          ]
        }
      ],
      "execution_count": 2,
      "metadata": {
        "deletable": false,
        "editable": false,
        "nbgrader": {
          "cell_type": "code",
          "checksum": "75401df7864b3392199b3a571094cd2d",
          "grade": false,
          "grade_id": "cell-fb3a7840bcf8e9d7",
          "locked": true,
          "schema_version": 3,
          "solution": false,
          "task": false
        }
      }
    },
    {
      "cell_type": "markdown",
      "source": [
        "### Exercice\n",
        "\n",
        "Créez une `fonction` du nom de votre choix qui affiche votre prénom et appelez cette fonction"
      ],
      "metadata": {
        "deletable": false,
        "editable": false,
        "nbgrader": {
          "cell_type": "markdown",
          "checksum": "f923e1ffad133b6b61419900034e81ad",
          "grade": false,
          "grade_id": "cell-18e168b46d762e85",
          "locked": true,
          "schema_version": 3,
          "solution": false,
          "task": false
        }
      }
    },
    {
      "cell_type": "code",
      "source": [
        "# VOTRE CODE ICI\n",
        "def print_nom():\n",
        "    print(\"Tanja\")\n",
        "\n",
        "print_nom()"
      ],
      "outputs": [
        {
          "output_type": "stream",
          "name": "stdout",
          "text": [
            "Tanja\n"
          ]
        }
      ],
      "execution_count": 1,
      "metadata": {}
    },
    {
      "cell_type": "markdown",
      "source": [
        "### Arguments\n",
        "\n",
        "Comme dit précédemment, une fonction peut avoir un ou plusieurs `arguments`. Comme en maths, les arguments sont des valeurs que l'on passe à notre `fonction` et c'est avec ces valeurs que la fonction va effectuer ses opérations.\n",
        "\n",
        "Par exemple en maths, lorsqu'on écrit `f(x) = x+2`, l'argument de la fonction `f` est `x`, je peux maintenant simplement écrire `f(2)`, ce qui signifie **remplacer x par 2 dans la fonction f**.\n",
        "\n",
        "En `python`, les arguments fonctionnent de la même façon. Dans l'exemple suivant, nous créons une `fonction` du nom `print_name` qui prend un `argument` que nous appelons `name`. Nous nous servons de cet argument pour faire `print(\"Mon nom est\", name)`. Nous appelons ensuite cette fonction avec un argument.  \n",
        "\n",
        "    def print_name(name):\n",
        "        print(\"Mon nom est\", name)\n",
        "        \n",
        "    print_name(\"Linus\")"
      ],
      "metadata": {
        "deletable": false,
        "editable": false,
        "nbgrader": {
          "cell_type": "markdown",
          "checksum": "b59a5d4e6a0c9881ebc4f604c894bf5f",
          "grade": false,
          "grade_id": "cell-f5c3ec9c016edff7",
          "locked": true,
          "schema_version": 3,
          "solution": false,
          "task": false
        }
      }
    },
    {
      "cell_type": "code",
      "source": [
        "def print_name(name):\n",
        "    print(\"Mon nom est\", name)\n",
        "\n",
        "print_name(\"Linus\")"
      ],
      "outputs": [],
      "execution_count": null,
      "metadata": {
        "deletable": false,
        "editable": false,
        "nbgrader": {
          "cell_type": "code",
          "checksum": "94206e5970323dc4450bb1929a3ffdda",
          "grade": false,
          "grade_id": "cell-9f3557deeeb4c142",
          "locked": true,
          "schema_version": 3,
          "solution": false,
          "task": false
        }
      }
    },
    {
      "cell_type": "markdown",
      "source": [
        "### Exercice\n",
        "\n",
        "Créez une fonction du nom de votre choix qui prend un `argument` `x` et qui `print` `x+1`"
      ],
      "metadata": {
        "deletable": false,
        "editable": false,
        "nbgrader": {
          "cell_type": "markdown",
          "checksum": "bf85da9106009678678910668eb539e4",
          "grade": false,
          "grade_id": "cell-3dfe52ce4c12de26",
          "locked": true,
          "schema_version": 3,
          "solution": false,
          "task": false
        }
      }
    },
    {
      "cell_type": "code",
      "source": [
        "# VOTRE CODE ICI\n",
        "def fan(x):\n",
        "    print(x+1)\n",
        "fan(2)"
      ],
      "outputs": [
        {
          "output_type": "stream",
          "name": "stdout",
          "text": [
            "3\n"
          ]
        }
      ],
      "execution_count": 6,
      "metadata": {}
    },
    {
      "cell_type": "markdown",
      "source": [
        "### Return\n",
        "\n",
        "Il est très commun que nous voulions enregistrer le résultat d'une fonction dans une variable. Par exemple, en maths, si nous avons une fonction `f(x) = x + 15`, nous pouvons faire `y = f(10)` et nous savons donc que `y` vaut `25`. En python, si nous écrivons: \n",
        "\n",
        "    def f(x):\n",
        "        x + 15\n",
        "        \n",
        "    y = f(10)\n",
        "    print(y)\n",
        "    \n",
        "Le `print(y)` va afficher `None`, car le résultat de `f(10)` ne vaut rien.\n",
        "\n",
        "Pour résoudre ce problème, nous avons le mot-clef `return`, celui-ci permet de retourner une valeur de la fonction pour permettre d'enregistrer le résultat dans une variable. Pour reprendre l'exemple précédent: \n",
        "\n",
        "    def f(x):\n",
        "        return x + 15\n",
        "        \n",
        "    y = f(10)\n",
        "    print(y)\n",
        "    \n",
        "Cette fois ci `y` vaut bien `25`, car nous avons fait `return x + 15`"
      ],
      "metadata": {
        "deletable": false,
        "editable": false,
        "nbgrader": {
          "cell_type": "markdown",
          "checksum": "3882a8f9b605a44c5383da14d9e48b57",
          "grade": false,
          "grade_id": "cell-ae6a0dae21b1fffd",
          "locked": true,
          "schema_version": 3,
          "solution": false,
          "task": false
        }
      }
    },
    {
      "cell_type": "code",
      "source": [
        "# SANS RETURN\n",
        "print(\"SANS RETURN\")\n",
        "\n",
        "def f(x):\n",
        "    x + 15\n",
        "\n",
        "y = f(10)\n",
        "print(y)\n",
        "\n",
        "print(\"\\n--------------------\\n\")\n",
        "\n",
        "\n",
        "# AVEC RETURN\n",
        "print(\"AVEC RETURN\")\n",
        "\n",
        "def f(x):\n",
        "    return x + 15\n",
        "\n",
        "y = f(10)\n",
        "print(y)"
      ],
      "outputs": [
        {
          "output_type": "stream",
          "name": "stdout",
          "text": [
            "SANS RETURN\n",
            "None\n",
            "\n",
            "--------------------\n",
            "\n",
            "AVEC RETURN\n",
            "25\n"
          ]
        }
      ],
      "execution_count": 7,
      "metadata": {
        "deletable": false,
        "editable": false,
        "nbgrader": {
          "cell_type": "code",
          "checksum": "ff0d1a35085712c433fcedd75f8340b0",
          "grade": false,
          "grade_id": "cell-0175985f3de2eb19",
          "locked": true,
          "schema_version": 3,
          "solution": false,
          "task": false
        }
      }
    },
    {
      "cell_type": "markdown",
      "source": [
        "### Exercice  \n",
        "\n",
        "Ecrivez une fonction de nom `f` qui prend un argument `x` et qui retourne `x * 10 + 2`, appelez cette fonction et enregistrer le résultat de celle-ci dans une variable `y`, `print` `y`."
      ],
      "metadata": {
        "deletable": false,
        "editable": false,
        "nbgrader": {
          "cell_type": "markdown",
          "checksum": "86016e48052f755bfa6e205070085353",
          "grade": false,
          "grade_id": "cell-5dd966da4f4a92a5",
          "locked": true,
          "schema_version": 3,
          "solution": false,
          "task": false
        }
      }
    },
    {
      "cell_type": "code",
      "source": [
        "# VOTRE CODE ICI\n",
        "def f(x):\n",
        "    return (x*10)+2\n",
        "y=f(2)\n",
        "print(y)"
      ],
      "outputs": [
        {
          "output_type": "stream",
          "name": "stdout",
          "text": [
            "22\n"
          ]
        }
      ],
      "execution_count": 8,
      "metadata": {}
    },
    {
      "cell_type": "markdown",
      "source": [
        "### Arguments par défaut\n",
        "\n",
        "Une `fonction` peut avoir des arguments par défaut, c'est-à-dire des arguments optionnels qui prennent soit une valeur par défaut, soit une valeur donnée par l'utilisateur. Par exemple, la fonction suivante a un argument par défaut de nom `name`, qui vaut `\"Bjarne\"` par défaut.\n",
        "\n",
        "    def print_name(name = \"Bjarne\"):\n",
        "        print(\"Mon nom est\", name)\n",
        "        \n",
        "    print_name(\"Ken\")\n",
        "    print_name()\n",
        "\n",
        "La première fois, nous appelons la fonction avec `\"Ken\"` comme argument, nous affichons donc `Mon nom est Ken`, la deuxième fois nous ne donnons par d'argument, l'argument par défaut est donc utilisé et nous affichons `Mon nom est Bjarne`."
      ],
      "metadata": {
        "deletable": false,
        "editable": false,
        "nbgrader": {
          "cell_type": "markdown",
          "checksum": "a8c77b3b2835ac347ea5c4549d068f28",
          "grade": false,
          "grade_id": "cell-7e36eb4398839562",
          "locked": true,
          "schema_version": 3,
          "solution": false,
          "task": false
        }
      }
    },
    {
      "cell_type": "code",
      "source": [
        "def print_name(name = \"Bjarne\"):\n",
        "    print(\"Mon nom est\", name)\n",
        "\n",
        "print_name(\"Ken\")\n",
        "print_name()"
      ],
      "outputs": [
        {
          "output_type": "stream",
          "name": "stdout",
          "text": [
            "Mon nom est Ken\n",
            "Mon nom est Bjarne\n"
          ]
        }
      ],
      "execution_count": 13,
      "metadata": {
        "deletable": false,
        "editable": false,
        "nbgrader": {
          "cell_type": "code",
          "checksum": "149d500df32a88d7fce0afe4546c296f",
          "grade": false,
          "grade_id": "cell-bcd04ab476839e18",
          "locked": true,
          "schema_version": 3,
          "solution": false,
          "task": false
        }
      }
    },
    {
      "cell_type": "markdown",
      "source": [
        "### Exercice  \n",
        "\n",
        "Ecrivez une fonction `f` qui prend un argument `x` avec une valeur par défaut `0` et qui retourne `x` au carré. Appelez cette fonction avec un argument puis sans."
      ],
      "metadata": {
        "deletable": false,
        "editable": false,
        "nbgrader": {
          "cell_type": "markdown",
          "checksum": "11281dc8762dc8b5810d1d2df139cfa6",
          "grade": false,
          "grade_id": "cell-dc3c19d124f4983f",
          "locked": true,
          "schema_version": 3,
          "solution": false,
          "task": false
        }
      }
    },
    {
      "cell_type": "code",
      "source": [
        "# VOTRE CODE ICI"
      ],
      "outputs": [],
      "execution_count": null,
      "metadata": {
        "deletable": false,
        "editable": false,
        "nbgrader": {
          "cell_type": "code",
          "checksum": "d3227a23ec7fc2369ca5db1c7f0a9976",
          "grade": false,
          "grade_id": "cell-f0d3ecee6b06405b",
          "locked": true,
          "schema_version": 3,
          "solution": false,
          "task": false
        }
      }
    },
    {
      "cell_type": "code",
      "source": [
        "def f(x=0):\n",
        "    return x*x\n",
        "f()\n",
        "f(2)"
      ],
      "outputs": [
        {
          "output_type": "execute_result",
          "execution_count": 19,
          "data": {
            "text/plain": [
              "4"
            ]
          },
          "metadata": {}
        }
      ],
      "execution_count": 19,
      "metadata": {}
    },
    {
      "cell_type": "markdown",
      "source": [
        "### `*args`\n",
        "\n",
        "Il peut arriver que nous ne sachions pas à l'avance combien d'arguments nous allons avoir, heureusement nous avons les `*args` et `**kwargs` dont nous pouvons nous servir pour permettre à l'utilisateur d'utiliser un nombre indéterminé d'arguments.  \n",
        "\n",
        "Par exemple, nous pourrions vouloir une fonction `somme` qui prend un nombre non déterminé d'arguments et qui retourne leur somme, pour ce faire, nous utiliserions les `*args`. Les `*args` permettent de faire en sorte que tous les arguments avec lesquels la fonction est appelée soient mis dans un `tuple` de nom `args` (on aurait pu appeler `args` d'une autre manière du moment qu'il y a une `*` devant le nom).\n",
        "\n",
        "    def somme(*args):\n",
        "        print(args)\n",
        "        total = 0\n",
        "        for i in args:\n",
        "            total = total + i\n",
        "        return total\n",
        "        \n",
        "    t = somme(3, 4, 1, 10)\n",
        "    print(t)"
      ],
      "metadata": {
        "deletable": false,
        "editable": false,
        "nbgrader": {
          "cell_type": "markdown",
          "checksum": "6dd93a645ad411b0f53448acb9db15f0",
          "grade": false,
          "grade_id": "cell-e5feb2a694fd99e0",
          "locked": true,
          "schema_version": 3,
          "solution": false,
          "task": false
        }
      }
    },
    {
      "cell_type": "code",
      "source": [
        "def somme(*args):\n",
        "    print(args)\n",
        "    total = 0\n",
        "    for i in args:\n",
        "        total = total + i\n",
        "    return total\n",
        "\n",
        "t = somme(3, 4, 1, 10)\n",
        "print(t)"
      ],
      "outputs": [
        {
          "output_type": "stream",
          "name": "stdout",
          "text": [
            "(3, 4, 1, 10)\n",
            "18\n"
          ]
        }
      ],
      "execution_count": 20,
      "metadata": {
        "deletable": false,
        "editable": false,
        "nbgrader": {
          "cell_type": "code",
          "checksum": "fd1ac586d535ded27b765488a47713ea",
          "grade": false,
          "grade_id": "cell-59965b474b8e5d4a",
          "locked": true,
          "schema_version": 3,
          "solution": false,
          "task": false
        }
      }
    },
    {
      "cell_type": "markdown",
      "source": [
        "### Exercice  \n",
        "\n",
        "Ecrivez une fonction de nom `max` qui peut recevoir un nombre indéterminé d'arguments, retournez l'élément le plus grand passé en argument."
      ],
      "metadata": {
        "deletable": false,
        "editable": false,
        "nbgrader": {
          "cell_type": "markdown",
          "checksum": "6a1b670f15bf9b0c9440efd512614184",
          "grade": false,
          "grade_id": "cell-b92946d6c23b98ea",
          "locked": true,
          "schema_version": 3,
          "solution": false,
          "task": false
        }
      }
    },
    {
      "cell_type": "code",
      "source": [
        "### VOTRE CODE ICI\n",
        "def max(*args):\n",
        "    maxi= 0\n",
        "    for i in args:\n",
        "        if i>maxi:\n",
        "            maxi=i\n",
        "        else:\n",
        "            continue\n",
        "    return maxi\n",
        "max(3,5,6,3,5,9)\n"
      ],
      "outputs": [
        {
          "output_type": "execute_result",
          "execution_count": 24,
          "data": {
            "text/plain": [
              "9"
            ]
          },
          "metadata": {}
        }
      ],
      "execution_count": 24,
      "metadata": {}
    },
    {
      "cell_type": "markdown",
      "source": [
        "### `**kwargs`\n",
        "\n",
        "De la même manière que les `*args` enregistrent un nombre indéterminé d'arguments dans un `tuple`, les `**kwargs` enregistrent un nombre indéterminé d'arguments dans un `dictionnaire`. L'intérêt c'est que nous pouvons nommer nos arguments dynamiquements, exemple:  \n",
        "\n",
        "    def print_names(**kwargs):\n",
        "        print(kwargs)\n",
        "        for key in kwargs:\n",
        "            print(key, \"est\", kwargs[key])\n",
        "            \n",
        "    print_names(Sandrine = \"docteur\", Marc = \"programmeur\", Josephine = \"avocate\")"
      ],
      "metadata": {
        "deletable": false,
        "editable": false,
        "nbgrader": {
          "cell_type": "markdown",
          "checksum": "9bc8a00131962945709e1f90e952cd74",
          "grade": false,
          "grade_id": "cell-d08699d3ea8ecf7a",
          "locked": true,
          "schema_version": 3,
          "solution": false,
          "task": false
        }
      }
    },
    {
      "cell_type": "code",
      "source": [
        "def print_names(**kwargs):\n",
        "    print(kwargs)\n",
        "    for key in kwargs:\n",
        "        print(key, \"est\", kwargs[key])\n",
        "\n",
        "print_names(Sandrine = \"docteur\", Marc = \"programmeur\", Josephine = \"avocate\")"
      ],
      "outputs": [
        {
          "output_type": "stream",
          "name": "stdout",
          "text": [
            "{'Sandrine': 'docteur', 'Marc': 'programmeur', 'Josephine': 'avocate'}\n",
            "Sandrine est docteur\n",
            "Marc est programmeur\n",
            "Josephine est avocate\n"
          ]
        }
      ],
      "execution_count": 25,
      "metadata": {
        "deletable": false,
        "editable": false,
        "nbgrader": {
          "cell_type": "code",
          "checksum": "b7b16e82963880da774c5a7489cda40d",
          "grade": false,
          "grade_id": "cell-78a611d91c4c939b",
          "locked": true,
          "schema_version": 3,
          "solution": false,
          "task": false
        }
      }
    },
    {
      "cell_type": "markdown",
      "source": [
        "### Exercice\n",
        "\n",
        "Ecrivez une `fonction` qui reçoit des `**kwargs` de type `nom = profession`. Affichez uniquement les noms dont la profession est `\"programmeur\"`."
      ],
      "metadata": {
        "deletable": false,
        "editable": false,
        "nbgrader": {
          "cell_type": "markdown",
          "checksum": "c0b8d8f6b8256faf45b4657b9ec3d2f9",
          "grade": false,
          "grade_id": "cell-b39bfcde0542f833",
          "locked": true,
          "schema_version": 3,
          "solution": false,
          "task": false
        }
      }
    },
    {
      "cell_type": "code",
      "source": [
        "### VOTRE CODE ICI\n",
        "def hasard(**kwargs):\n",
        "    print(kwargs)\n",
        "    for key in kwargs:\n",
        "        if kwargs[key]==\"programmeur\":\n",
        "            print (key)\n",
        "hasard(Sandrine = \"docteur\", Marc = \"programmeur\", Josephine = \"avocate\")"
      ],
      "outputs": [
        {
          "output_type": "stream",
          "name": "stdout",
          "text": [
            "{'Sandrine': 'docteur', 'Marc': 'programmeur', 'Josephine': 'avocate'}\n",
            "Marc\n"
          ]
        }
      ],
      "execution_count": 26,
      "metadata": {}
    },
    {
      "cell_type": "code",
      "source": [],
      "outputs": [],
      "execution_count": null,
      "metadata": {}
    }
  ],
  "metadata": {
    "kernelspec": {
      "name": "python3",
      "language": "python",
      "display_name": "Python 3"
    },
    "language_info": {
      "name": "python",
      "version": "3.7.3",
      "mimetype": "text/x-python",
      "codemirror_mode": {
        "name": "ipython",
        "version": 3
      },
      "pygments_lexer": "ipython3",
      "nbconvert_exporter": "python",
      "file_extension": ".py"
    },
    "pycharm": {
      "stem_cell": {
        "cell_type": "raw",
        "metadata": {
          "collapsed": false
        },
        "source": []
      }
    },
    "toc": {
      "toc_position": {},
      "skip_h1_title": false,
      "number_sections": false,
      "title_cell": "Table of Contents",
      "toc_window_display": false,
      "base_numbering": 1,
      "toc_section_display": false,
      "title_sidebar": "Contents",
      "toc_cell": false,
      "nav_menu": {},
      "sideBar": false
    },
    "kernel_info": {
      "name": "python3"
    },
    "nteract": {
      "version": "0.15.0"
    }
  },
  "nbformat": 4,
  "nbformat_minor": 2
}