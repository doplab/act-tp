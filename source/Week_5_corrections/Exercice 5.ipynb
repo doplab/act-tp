{
  "cells": [
    {
      "cell_type": "markdown",
      "source": [
        "# Algorithmique et Pensée Computationnelle"
      ],
      "metadata": {}
    },
    {
      "cell_type": "markdown",
      "source": [
        "# ACT Week 5\n",
        "\n",
        "## Exercise 5 : Fibonacci\n",
        "\n",
        "Voici le code python de l'algorithme de Fibonacci vu en cours. Il calcule le n<sup>ème</sup> nombre de Fibonnacci.\n",
        "\n",
        "1) Calculez la complexité de cet algorithme: trouvez la borne temporelle maximale de l'exécution de cet algorithme avec la notation O( ) ."
      ],
      "metadata": {
        "deletable": false,
        "editable": false,
        "nbgrader": {
          "cell_type": "markdown",
          "checksum": "90b29a66bb616a3ffd5b2a39ce7d7cf3",
          "grade": false,
          "grade_id": "cell-06b900553d76d667",
          "locked": true,
          "schema_version": 3,
          "solution": false,
          "task": false
        }
      }
    },
    {
      "cell_type": "code",
      "source": [
        "def fibonacci(n):\n",
        "    if n == 0 or n == 1:\n",
        "        return n\n",
        "    else:\n",
        "        return fibonacci(n-1) + fibonacci(n-2)\n",
        "    "
      ],
      "outputs": [],
      "execution_count": 2,
      "metadata": {
        "deletable": false,
        "editable": false,
        "nbgrader": {
          "cell_type": "code",
          "checksum": "28c4412372cdd7c6dfdfa96179944cc5",
          "grade": false,
          "grade_id": "cell-8d6e496dbe97afee",
          "locked": true,
          "schema_version": 3,
          "solution": false,
          "task": false
        }
      }
    },
    {
      "cell_type": "code",
      "source": [
        "def fibonacci(n):\n",
        "    if n == 0 or n == 1:\n",
        "        return n\n",
        "    else:\n",
        "        return fibonacci(n-1) + fibonacci(n-2)\n",
        "fibonacci(10)"
      ],
      "outputs": [
        {
          "output_type": "execute_result",
          "execution_count": 3,
          "data": {
            "text/plain": [
              "55"
            ]
          },
          "metadata": {}
        }
      ],
      "execution_count": 3,
      "metadata": {}
    },
    {
      "cell_type": "markdown",
      "source": [
        "**Solution:** écris ta solution ici\n",
        "\n",
        "O(2^n)\n",
        "\n"
      ],
      "metadata": {}
    },
    {
      "cell_type": "markdown",
      "source": [
        "2) Essayez de calculer le 10<sup>ème</sup> puis le 40<sup>ème</sup> (cette dernière peut prendre du temps). La commande %%time au début de la cellule permet d'obtenir le temps d'éxécution de la cellule."
      ],
      "metadata": {
        "deletable": false,
        "editable": false,
        "nbgrader": {
          "cell_type": "markdown",
          "checksum": "87cecc6e25e238bebc87f92daf69af56",
          "grade": false,
          "grade_id": "cell-d54e6fa00da923be",
          "locked": true,
          "schema_version": 3,
          "solution": false,
          "task": false
        }
      }
    },
    {
      "cell_type": "code",
      "source": [
        "%%time \n",
        "print(fibonacci(10))"
      ],
      "outputs": [
        {
          "output_type": "stream",
          "name": "stdout",
          "text": [
            "55\n",
            "CPU times: user 153 µs, sys: 3 µs, total: 156 µs\n",
            "Wall time: 163 µs\n"
          ]
        }
      ],
      "execution_count": 12,
      "metadata": {}
    },
    {
      "cell_type": "code",
      "source": [
        "%%time \n",
        "print(fibonacci(20))"
      ],
      "outputs": [
        {
          "output_type": "stream",
          "name": "stdout",
          "text": [
            "6765\n",
            "CPU times: user 3.68 ms, sys: 3.94 ms, total: 7.62 ms\n",
            "Wall time: 7.07 ms\n"
          ]
        }
      ],
      "execution_count": 18,
      "metadata": {}
    },
    {
      "cell_type": "markdown",
      "source": [
        "3) Comme vous pouvez le voir le temps de calcul est très long lorsque n est grand. Maintenant il est temps d'optimiser l'algorithme vu en cours pour qu'il soit efficace. Celui que nous allons faire ne sera plus récursif mais sera tout simplment un algorithme itératif. Le problème de l'algorithme vu en cours et que dans les différents appels récursifs beaucoup de valeurs sont calculées plusieurs fois ce qui rend l'algorithme très **glouton**.\n",
        "\n",
        "Indice: pour écrire votre algorithme, il est conseillé d'utiliser des variables supplémentaires."
      ],
      "metadata": {
        "deletable": false,
        "editable": false,
        "nbgrader": {
          "cell_type": "markdown",
          "checksum": "cb119e0060aca87c13cd66cf05717260",
          "grade": false,
          "grade_id": "cell-09e333dc9e6f946a",
          "locked": true,
          "schema_version": 3,
          "solution": false,
          "task": false
        }
      }
    },
    {
      "cell_type": "code",
      "source": [
        "def fibonacci_fast(n):\n",
        "    result=[]\n",
        "    a = 0\n",
        "    b = 1\n",
        "    while a < n:\n",
        "        result.append(a)\n",
        "        tmp = b\n",
        "        b = a + b # a=old, b=new\n",
        "        a = tmp\n",
        "    \n",
        "    return result \n",
        "print(fibonacci_fast(10))"
      ],
      "outputs": [
        {
          "output_type": "stream",
          "name": "stdout",
          "text": [
            "[0, 1, 1, 2, 3, 5, 8]\n"
          ]
        }
      ],
      "execution_count": 4,
      "metadata": {}
    },
    {
      "cell_type": "code",
      "source": [
        "def fibonacci_fast(n):\n",
        "    x = 0\n",
        "    y = 1\n",
        "    for i in range(2, n+1):\n",
        "        tmp =  x + y #tmp = old et new variables\n",
        "        x = y #old = new\n",
        "        y= tmp #new =tmp\n",
        "    \n",
        "    return tmp\n",
        "        "
      ],
      "outputs": [],
      "execution_count": 13,
      "metadata": {}
    },
    {
      "cell_type": "markdown",
      "source": [
        "4) Essayez de calculer le 10<sup>ème</sup> puis le 40<sup>ème</sup>. Comparez les résultats avec ceux obtenus précédemment."
      ],
      "metadata": {
        "deletable": false,
        "editable": false,
        "nbgrader": {
          "cell_type": "markdown",
          "checksum": "f5a8e3f406114928743d2580882b895d",
          "grade": false,
          "grade_id": "cell-cf57d8d67d2eb363",
          "locked": true,
          "schema_version": 3,
          "solution": false,
          "task": false
        }
      }
    },
    {
      "cell_type": "code",
      "source": [
        "%%time \n",
        "print(fibonacci_fast(10))"
      ],
      "outputs": [
        {
          "output_type": "stream",
          "name": "stdout",
          "text": [
            "55\n",
            "CPU times: user 100 µs, sys: 2 µs, total: 102 µs\n",
            "Wall time: 108 µs\n"
          ]
        }
      ],
      "execution_count": 14,
      "metadata": {}
    },
    {
      "cell_type": "code",
      "source": [
        "%%time \n",
        "print(fibonacci_fast(20))"
      ],
      "outputs": [
        {
          "output_type": "stream",
          "name": "stdout",
          "text": [
            "6765\n",
            "CPU times: user 111 µs, sys: 0 ns, total: 111 µs\n",
            "Wall time: 117 µs\n"
          ]
        }
      ],
      "execution_count": 19,
      "metadata": {}
    },
    {
      "cell_type": "markdown",
      "source": [
        "**Note: Ce que vous venez d'apprendre est le compromis temps-memoire très commun en programmation souvent il est possible d'utiliser de la mémoire supplémentaire pour réduire le temps de calcul !!! THIS IS AMAAAAAZZZZIINNNNG!!!**"
      ],
      "metadata": {
        "deletable": false,
        "editable": false,
        "nbgrader": {
          "cell_type": "markdown",
          "checksum": "d55033143d14489a62129698fb2e3390",
          "grade": false,
          "grade_id": "cell-df13a62e1bb5ea05",
          "locked": true,
          "schema_version": 3,
          "solution": false,
          "task": false
        }
      }
    }
  ],
  "metadata": {
    "kernelspec": {
      "name": "python3",
      "language": "python",
      "display_name": "Python 3"
    },
    "language_info": {
      "name": "python",
      "version": "3.7.3",
      "mimetype": "text/x-python",
      "codemirror_mode": {
        "name": "ipython",
        "version": 3
      },
      "pygments_lexer": "ipython3",
      "nbconvert_exporter": "python",
      "file_extension": ".py"
    },
    "toc": {
      "toc_position": {},
      "skip_h1_title": false,
      "number_sections": false,
      "title_cell": "Table of Contents",
      "toc_window_display": false,
      "base_numbering": 1,
      "toc_section_display": false,
      "title_sidebar": "Contents",
      "toc_cell": false,
      "nav_menu": {},
      "sideBar": false
    },
    "kernel_info": {
      "name": "python3"
    },
    "nteract": {
      "version": "0.15.0"
    }
  },
  "nbformat": 4,
  "nbformat_minor": 2
}