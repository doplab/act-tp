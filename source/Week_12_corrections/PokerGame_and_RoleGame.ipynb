{
 "cells": [
  {
   "cell_type": "markdown",
   "metadata": {},
   "source": [
    "## Exercise 1: Poker Game"
   ]
  },
  {
   "cell_type": "markdown",
   "metadata": {},
   "source": [
    "\n",
    "\n",
    "Cette semaine nous allons commencé un exercise consistant à implémenter un jeu de poker. Celui-ci se poursuivra dans les prochaines semaines. Tout d’abord nous allons construire deux classes de bases.\n",
    "\n",
    "La classe Carte (« Card ») qui réprésente une carte. Elle possède deux attributs :\n",
    "\n",
    "    value (int) : la valeur de la carte (ex : as, 10 etc.)\n",
    "\n",
    "    suit (int) : la couleur (ou enseigne pour les puristes) de la carte.\n",
    "\n",
    "    • Implémenter le constructeur de la classe « Card » qui prend en argument une « value » et une « suit »\n",
    "    • Implémenter une méthode «getInfo» qui affiche dans la console la valeur et la couleur de la carte\n",
    "\n",
    "Nous choisissons ici de représenter les couleurs comme des entier de 0 à 3 àla place de String. Ceci nous permettra de manipuler plus facilemet le jeu de carte par la suite.\n"
   ]
  },
  {
   "cell_type": "code",
   "execution_count": 4,
   "metadata": {},
   "outputs": [
    {
     "data": {
      "text/plain": [
       "com.twosigma.beaker.javash.bkr92b7b1f1.Card"
      ]
     },
     "execution_count": 4,
     "metadata": {},
     "output_type": "execute_result"
    }
   ],
   "source": [
    "public class Card {\n",
    "\n",
    "\n",
    "}"
   ]
  },
  {
   "cell_type": "markdown",
   "metadata": {},
   "source": [
    "\n",
    "\n",
    "La classe joueur (« Player ») qui représente un joueur de la partie. Elle possède plusieurs attributs :\n",
    "\n",
    "    hand (Card[]) : un tableau de carte de taille maximal 2\n",
    "    balance (int) : la balance total du joureur \n",
    "    stake (int) : la mise du joueur :\n",
    "    rôle (String) : désigne si le joueur est le dealer possède la petite ou la grande blind.\n",
    "\n",
    "    isMyTurn (boolean) : valant true si c’est au tour du joueur\n",
    "\n",
    "    • Implémenter le constructeur de la classe «Player» qui prend en argument deux cartes, les ajoute à sa main, une balance initiale, une mise initiale de 0, et un rôle.\n",
    "    • Implémenter une fonction « bet » qui propose une mise sur la table mais ne retourne rien (utiliser le mot void). Définir la nouvelle mise du joueur.\n",
    "    • Implémenter la méthode « showHand » qui montre les cartes sur la table\n",
    "    • Implémenter une methode « win » qui prend en argument la somme des gains sur la table que le joueur vient de gagner, ajouter là à sa balance.\n",
    "\n",
    "Les deux dernières méthodes s’appliquent seulement si c’est au tour du joueur.\n"
   ]
  },
  {
   "cell_type": "code",
   "execution_count": 5,
   "metadata": {},
   "outputs": [
    {
     "data": {
      "text/plain": [
       "com.twosigma.beaker.javash.bkr92b7b1f1.Player"
      ]
     },
     "execution_count": 5,
     "metadata": {},
     "output_type": "execute_result"
    }
   ],
   "source": [
    "\n",
    "public class Player {\n",
    "\n",
    "  \n",
    "}"
   ]
  },
  {
   "cell_type": "markdown",
   "metadata": {},
   "source": [
    "\n",
    "## Exercise 2: Role Play\n",
    "\n",
    "Cette semaine nous allons commencer un exercise consistant à implémenter un jeu de rôle avec des personnages. Celui-ci se poursuivra dans les prochaines semaines.\n",
    "\n",
    "Tout d’abord nous allons commencer par implémenter les classes de bases de nos personnages. Les différents personnages possibles dans notre jeu sont : le Guerrier (« Warrior » ), le Paladin (« Paladin »), le magicien (« Magician »), le chasseur (« Hunter ») et le voleur (« Robber »). Cette semaine vous avez appris le concepte d’héritage, dans notre situation celui-ci s’avère très utile car ces différentes classes de personnages posssèdent certains attributs ou actions similaires.\n",
    "\n",
    "Ainsi il semble intéressant de construire une première classe Personnage (« Character ») Un personnage est un objet qui possède plusieurs arguments :\n",
    "\n",
    "    name (String) : le nom du personnage\n",
    "    level (int) : le niveau du personnage\n",
    "    pv (int) : les points de vie du personnage\n",
    "    vitality (int) : la vitaité du personnage\n",
    "    strength (int) : la force du personnage\n",
    "    dexterity (int) : la dextérité du personnage\n",
    "    agility (int) : l’agilité du personnage\n",
    "    endurance (int) : l’endurance du personnage\n",
    "    intelligence (int) : l’intelligence du personnage\n",
    "\n",
    "• Ces attributs vont nous permmettre de complexifier les différentes actions du jeu. Pour initialiser notre objet, il est important de définir son constructeur. Implémenter le constructeur de la classe « Character » qui prend tout ces attributs en argument.\n",
    "\n",
    "• Java utilise le principe d’encapsulation qui permet de controler l’accessibilité des méthodes, des attributs et des classes. Ainsi les attributs de vos classes doivent être déclarés « private » pour éviter que n’importe qui puisse avoir accès ou modifier ces attributs. Cependant il est essentiel de pouvoir avoir accès à ces valeurs ou de devoir les modifier. Dans la classe « Character » implémenter les getteurs et les setteurs de ces attributs.\n",
    "\n",
    "  Ex : public String getName(){\n",
    "    return name //ou this.name\n",
    "           }\n",
    "\n",
    "• Enfin il peut être intéressant d’afficher les caractéristiques de votre personnage. Implémenter une méthode « getInfo » dans la classe « Character » qui affiche dans la console.\n",
    "\n"
   ]
  },
  {
   "cell_type": "code",
   "execution_count": 6,
   "metadata": {},
   "outputs": [
    {
     "data": {
      "text/plain": [
       "com.twosigma.beaker.javash.bkr92b7b1f1.Character"
      ]
     },
     "execution_count": 6,
     "metadata": {},
     "output_type": "execute_result"
    }
   ],
   "source": [
    "public class Character {\n",
    "\n",
    "   \n",
    "}\n"
   ]
  },
  {
   "cell_type": "markdown",
   "metadata": {},
   "source": [
    "Maintenant implémenter les classes Warrior, Paladin, Magician et Hunter qui héritent de Personnage en écrivant tout d’abord leur constructeur respectif. Pour chacun des personnages, implémenter une méthode « basicAttack » qui prend un autre personnage en argument et ne retourne rien. Celle-ci crée une attaque de votre choix en fonction des caractéristiques des personnages (ex : l’attaque du guerrier dépendra de sa force, l’attaque du chasseur de son endurance etc..) \n",
    "Indication : utiliser le setteur pour réduire les pv de l’autre personnage."
   ]
  },
  {
   "cell_type": "code",
   "execution_count": 7,
   "metadata": {},
   "outputs": [
    {
     "data": {
      "text/plain": [
       "com.twosigma.beaker.javash.bkr92b7b1f1.Warrior"
      ]
     },
     "execution_count": 7,
     "metadata": {},
     "output_type": "execute_result"
    }
   ],
   "source": [
    "public class Warrior extends Character {\n",
    "\n",
    "\n",
    "}"
   ]
  },
  {
   "cell_type": "code",
   "execution_count": 8,
   "metadata": {},
   "outputs": [
    {
     "data": {
      "text/plain": [
       "com.twosigma.beaker.javash.bkr92b7b1f1.Magician"
      ]
     },
     "execution_count": 8,
     "metadata": {},
     "output_type": "execute_result"
    }
   ],
   "source": [
    "public class Magician extends Character {\n",
    "\n",
    "}\n"
   ]
  },
  {
   "cell_type": "code",
   "execution_count": 9,
   "metadata": {},
   "outputs": [
    {
     "data": {
      "text/plain": [
       "com.twosigma.beaker.javash.bkr92b7b1f1.Paladin"
      ]
     },
     "execution_count": 9,
     "metadata": {},
     "output_type": "execute_result"
    }
   ],
   "source": [
    "public class Paladin extends Character {\n",
    "\n",
    "\n",
    "}\n"
   ]
  },
  {
   "cell_type": "code",
   "execution_count": 10,
   "metadata": {},
   "outputs": [
    {
     "data": {
      "text/plain": [
       "com.twosigma.beaker.javash.bkr92b7b1f1.Hunter"
      ]
     },
     "execution_count": 10,
     "metadata": {},
     "output_type": "execute_result"
    }
   ],
   "source": [
    "public class Hunter extends Character {\n",
    "\n",
    "\n",
    "\n",
    "}"
   ]
  },
  {
   "cell_type": "code",
   "execution_count": null,
   "metadata": {},
   "outputs": [],
   "source": []
  }
 ],
 "metadata": {
  "kernelspec": {
   "display_name": "Java",
   "language": "java",
   "name": "java"
  },
  "language_info": {
   "codemirror_mode": "text/x-java",
   "file_extension": ".java",
   "mimetype": "",
   "name": "Java",
   "nbconverter_exporter": "",
   "version": "1.8.0_222"
  }
 },
 "nbformat": 4,
 "nbformat_minor": 2
}
