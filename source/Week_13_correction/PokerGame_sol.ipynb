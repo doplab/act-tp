{
 "cells": [
  {
   "cell_type": "markdown",
   "metadata": {},
   "source": [
    "## Exercise 1: Poker Game"
   ]
  },
  {
   "cell_type": "markdown",
   "metadata": {},
   "source": [
    "\n",
    "\n",
    "Cette semaine nous allons commencé un exercise consistant à implémenter un jeu de poker. Celui-ci se poursuivra dans les prochaines semaines. Tout d’abord nous allons construire deux classes de bases.\n",
    "\n",
    "La classe Carte (« Card ») qui réprésente une carte. Elle possède deux attributs :\n",
    "\n",
    "    value (int) : la valeur de la carte (ex : as, 10 etc.)\n",
    "\n",
    "    suit (int) : la couleur (ou enseigne pour les puristes) de la carte.\n",
    "\n",
    "    • Implémenter le constructeur de la classe « Card » qui prend en argument une « value » et une « suit »\n",
    "    • Implémenter une méthode «getInfo» qui affiche dans la console la valeur et la couleur de la carte\n",
    "\n",
    "Nous choisissons ici de représenter les couleurs comme des entier de 0 à 3 àla place de String. Ceci nous permettra de manipuler plus facilemet le jeu de carte par la suite.\n"
   ]
  },
  {
   "cell_type": "code",
   "execution_count": 3,
   "metadata": {},
   "outputs": [
    {
     "data": {
      "text/plain": [
       "com.twosigma.beaker.javash.bkr4f32305e.Card"
      ]
     },
     "execution_count": 3,
     "metadata": {},
     "output_type": "execute_result"
    }
   ],
   "source": [
    "public class Card {\n",
    "\n",
    "    private int value;\n",
    "    private int form;\n",
    "\n",
    "    public static final int HEART = 0;\n",
    "    public static final int DIAMOND = 1;\n",
    "    public static final int SPADE = 2;\n",
    "    public static final int CLUB = 3;\n",
    "\n",
    "\n",
    "    public Card(int value, int form){\n",
    "        this.value = value;\n",
    "        this.form = form;\n",
    "    }\n",
    "\n",
    "    public void getInfo(){\n",
    "        System.out.println(\"Carte: \" + getValue() + \" de \" + getForm());\n",
    "    }\n",
    "\n",
    "    public String getValue() {\n",
    "        String res = \"\";\n",
    "        switch (value) {\n",
    "            case 11:\n",
    "                res = \"Valet\";\n",
    "                break;\n",
    "            case 12:\n",
    "                res = \"Dame\";\n",
    "                break;\n",
    "            case 13:\n",
    "                res = \"King\";\n",
    "                break;\n",
    "            default:\n",
    "                res = Integer.toString(value);\n",
    "                break;\n",
    "\n",
    "        }\n",
    "        return res;\n",
    "    }\n",
    "\n",
    "    public String getForm() {\n",
    "        String res = \"\";\n",
    "        switch (form) {\n",
    "            case 0:\n",
    "                res = \"Coeur\";\n",
    "                break;\n",
    "            case 1:\n",
    "                res = \"Carreau\";\n",
    "                break;\n",
    "            case 2:\n",
    "                res = \"Pic\";\n",
    "                break;\n",
    "            default:\n",
    "                res = \"Trèfle\";\n",
    "                break;\n",
    "\n",
    "        }\n",
    "        return res;\n",
    "    }\n",
    "}"
   ]
  },
  {
   "cell_type": "markdown",
   "metadata": {},
   "source": [
    "\n",
    "\n",
    "La classe joueur (« Player ») qui représente un joueur de la partie. Elle possède plusieurs attributs :\n",
    "\n",
    "    hand (Card[]) : un tableau de carte de taille maximal 2\n",
    "    balance (int) : la balance total du joureur \n",
    "    stake (int) : la mise du joueur :\n",
    "    rôle (String) : désigne si le joueur est le dealer possède la petite ou la grande blind.\n",
    "\n",
    "    isMyTurn (boolean) : valant true si c’est au tour du joueur\n",
    "\n",
    "    • Implémenter le constructeur de la classe «Player» qui prend en argument deux cartes, les ajoute à sa main, une balance initiale, une mise initiale de 0, et un rôle.\n",
    "    • Implémenter une fonction « bet » qui propose une mise sur la table mais ne retourne rien (utiliser le mot void). Définir la nouvelle mise du joueur.\n",
    "    • Implémenter la méthode « showHand » qui montre les cartes sur la table\n",
    "    • Implémenter une methode « win » qui prend en argument la somme des gains sur la table que le joueur vient de gagner, ajouter là à sa balance.\n",
    "\n",
    "Les deux dernières méthodes s’appliquent seulement si c’est au tour du joueur.\n"
   ]
  },
  {
   "cell_type": "code",
   "execution_count": 4,
   "metadata": {},
   "outputs": [
    {
     "data": {
      "text/plain": [
       "com.twosigma.beaker.javash.bkr4f32305e.Player"
      ]
     },
     "execution_count": 4,
     "metadata": {},
     "output_type": "execute_result"
    }
   ],
   "source": [
    "import java.util.ArrayList;\n",
    "\n",
    "public class Player {\n",
    "\n",
    "    private Card[] hand;\n",
    "    private int balance;\n",
    "    private boolean isMyTurn;\n",
    "    private String name;\n",
    "\n",
    "\n",
    "    public Player(Card c1, Card c2, int initialeBalance, String name){\n",
    "        hand = new Card[2];\n",
    "        hand[0] = c1;\n",
    "        hand[1] = c2;\n",
    "        isMyTurn = false;\n",
    "        balance = initialeBalance;\n",
    "        this.name = name;\n",
    "    }\n",
    "\n",
    "\n",
    "    public void showHand(){\n",
    "        for (int i = 0; i < hand.length; i++){\n",
    "            hand[i].getInfo();\n",
    "        }\n",
    "    }\n",
    "\n",
    "    public void miser(int value ){\n",
    "        if (balance-value > 0){\n",
    "            balance -= value;\n",
    "            System.out.println(\"Le joueur \" + name + \" vient de miser: \" + Integer.toString(value));\n",
    "            System.out.println(\"La nouvelle Balance: \"+  Integer.toString(balance));\n",
    "\n",
    "        } else {\n",
    "            System.out.println(\"Pas assez d'argent!\");\n",
    "        }\n",
    "    }\n",
    "\n",
    "    public void win(int value){\n",
    "        if (isMyTurn) {\n",
    "            this.balance += value;\n",
    "\n",
    "        }\n",
    "    }\n",
    "\n",
    "}"
   ]
  }
 ],
 "metadata": {
  "kernelspec": {
   "display_name": "Java",
   "language": "java",
   "name": "java"
  },
  "language_info": {
   "codemirror_mode": "text/x-java",
   "file_extension": ".java",
   "mimetype": "",
   "name": "Java",
   "nbconverter_exporter": "",
   "version": "1.8.0_222"
  }
 },
 "nbformat": 4,
 "nbformat_minor": 2
}
