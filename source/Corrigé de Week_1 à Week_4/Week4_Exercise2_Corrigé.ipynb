{
  "cells": [
    {
      "cell_type": "markdown",
      "source": [
        "# Algorithmique et Pensée Computationnelle"
      ],
      "metadata": {}
    },
    {
      "cell_type": "markdown",
      "source": [
        "# ACT / Week 4 (Python)\n",
        "## Exercice 2"
      ],
      "metadata": {
        "deletable": false,
        "editable": false,
        "nbgrader": {
          "cell_type": "markdown",
          "checksum": "9387b7346464b8e0b8a0a2794c0a2c84",
          "grade": false,
          "grade_id": "cell-51ba6414384e9f42",
          "locked": true,
          "schema_version": 3,
          "solution": false,
          "task": false
        }
      }
    },
    {
      "cell_type": "markdown",
      "source": [
        "## Boucles\n",
        "\n",
        "### Rôle\n",
        "\n",
        "Dans l'exercice 1, nous avons vu les structures de données `tuple`, `liste` et `dictionnaire`. Ces structures de données permettent de grouper différents éléments les uns avec les autres. Ces structures sont très pratiques car grâce à elles, nous n'avons besoin que d'une seule variable pour accèder à une grande quantité de donnée.  \n",
        "\n",
        "Cependant, comme nous l'avons vu, l'accès à un élément d'une liste se fait de cette manière:\n",
        "\n",
        "    ma_liste = [1, 2, 3]\n",
        "    mon_element = ma_liste[2]\n",
        "    # mon_element = 3\n",
        "    \n",
        "Intuitivement, pour `print()` tous les éléments de `ma_liste` ligne par ligne, il faudrait faire ceci:\n",
        "\n",
        "    print(ma_liste[0])\n",
        "    print(ma_liste[1])\n",
        "    print(ma_liste[2])\n",
        "    \n",
        "Ce procédé est long, ennuyant et peut entraîner des erreurs de la part du programmeur. De plus, il suppose que l'on connait la taille de la liste à l'avance, ce qui est rarement le cas. Et si je voulais ajouter un élément à cette liste avec la `méthode` `append()`, mon code ne marcherait plus car le nouvel élément ne serait plus pris en compte. \n",
        "\n",
        "Heureusement, nous avons ce que l'on appelle des `boucles`. Celles-ci nous permettent d'écrire du code une seule fois et de l'exécuter plein de fois d'affilée jusqu'à ce qu'une condition soit atteinte. C'est très pratique pour les `listes`, `tuples`, etc. puisque nous pouvons écrire du code une fois et l'appliquer à tous les éléments d'une liste.\n",
        "\n",
        "### Il y a deux types de `boucles`, les boucles `for` et les boucles `while`."
      ],
      "metadata": {
        "deletable": false,
        "editable": false,
        "nbgrader": {
          "cell_type": "markdown",
          "checksum": "b8fa94fefd0aef2b7a72c79df70ed397",
          "grade": false,
          "grade_id": "cell-a370859d6a9d2558",
          "locked": true,
          "schema_version": 3,
          "solution": false,
          "task": false
        }
      }
    },
    {
      "cell_type": "markdown",
      "source": [
        "## Boucles `for`  \n",
        "\n",
        "Les boucles `for` en python permettent de passer sur tous les éléments d'une liste pour leur appliquer du code de votre conception. La syntax est la suivante:  \n",
        "\n",
        "On écrit `for` suivi d'un nom de variable de votre choix, suivi du mot-clef `in` et enfin le nom de la `liste` sur laquelle vous voulez appliquer la `boucle`. La variable prendra la valeur de chaque élément dans la liste, un par un. L'exemple précédent pourrait être réécrit de cette manière avec une boucle:  \n",
        "\n",
        "    for i in ma_liste:\n",
        "        print(i)\n"
      ],
      "metadata": {
        "deletable": false,
        "editable": false,
        "nbgrader": {
          "cell_type": "markdown",
          "checksum": "547dfe2223a321ba293d0f5d68351d66",
          "grade": false,
          "grade_id": "cell-d8f4c721cd60eb83",
          "locked": true,
          "schema_version": 3,
          "solution": false,
          "task": false
        }
      }
    },
    {
      "cell_type": "code",
      "source": [
        "ma_liste = [1, 2, 3]\n",
        "print(ma_liste)\n",
        "\n",
        "for i in ma_liste:\n",
        "    print(i)"
      ],
      "outputs": [
        {
          "output_type": "stream",
          "name": "stdout",
          "text": [
            "[1, 2, 3]\n",
            "1\n",
            "2\n",
            "3\n"
          ]
        }
      ],
      "execution_count": 1,
      "metadata": {
        "deletable": false,
        "editable": false,
        "nbgrader": {
          "cell_type": "code",
          "checksum": "69f2fdab215364e795a8a0f792eca4ac",
          "grade": false,
          "grade_id": "cell-851a3c7937b92fce",
          "locked": true,
          "schema_version": 3,
          "solution": false,
          "task": false
        }
      }
    },
    {
      "cell_type": "markdown",
      "source": [
        "### La fonction `range()`  \n",
        "\n",
        "Il existe aussi une fonction très pratique à utiliser avec les boucles `for`, c'est la fonction `range()`.  \n",
        "Cette fonction permet de créer une liste de nombres de `0` à la valeur passée en argument (`n`). Lorsqu'elle est combinée à une boucle `for`, on peut itérer sur une liste de nombres de `0` à `n-1`.\n",
        "\n",
        "Par exemple:  \n",
        "\n",
        "    for i in range(4):\n",
        "        print(i)\n",
        "    # 0\n",
        "    # 1\n",
        "    # 2\n",
        "    # 3"
      ],
      "metadata": {
        "deletable": false,
        "editable": false,
        "nbgrader": {
          "cell_type": "markdown",
          "checksum": "020f5c61fc76c5d39cbcaa911c0169d2",
          "grade": false,
          "grade_id": "cell-1883cc4a6c986942",
          "locked": true,
          "schema_version": 3,
          "solution": false,
          "task": false
        }
      }
    },
    {
      "cell_type": "code",
      "source": [
        "for i in range(4):\n",
        "    print(i)"
      ],
      "outputs": [
        {
          "output_type": "stream",
          "name": "stdout",
          "text": [
            "0\n",
            "1\n",
            "2\n",
            "3\n"
          ]
        }
      ],
      "execution_count": 2,
      "metadata": {
        "deletable": false,
        "editable": false,
        "nbgrader": {
          "cell_type": "code",
          "checksum": "83ca30bfa4243f0ebe19d0ee4da8281b",
          "grade": false,
          "grade_id": "cell-479624abb5a07f54",
          "locked": true,
          "schema_version": 3,
          "solution": false,
          "task": false
        }
      }
    },
    {
      "cell_type": "markdown",
      "source": [
        "### `range()` + `len()`\n",
        "\n",
        "La vraie force de `range()` est lorsqu'elle est combinée avec la fonction `len()`.  \n",
        "Pour rappel, `len()` nous donne la taille d'une `liste`/`tuple`/`dictionnaire`/`string`, etc. Donc combinée avec `range()`, nous pouvons obtenir tous les `indexes` d'une liste, ce qui nous permet de modifier les éléments de celle-ci.\n",
        "\n",
        "Par exemple, pour rajouter `+1` à chaque élément dans une `liste` de `int`, je ferais comme ceci:  \n",
        "\n",
        "    ma_liste = [1, 2, 3]\n",
        "    \n",
        "    for i in range(len(ma_liste)):\n",
        "        ma_liste[i] = ma_liste[i] + 1\n",
        "        \n",
        "On ne peut pas modifier une liste avec une simple boucle `for i in` car la variable `i` est une copie et pas l'élément lui-même."
      ],
      "metadata": {
        "deletable": false,
        "editable": false,
        "nbgrader": {
          "cell_type": "markdown",
          "checksum": "c8f5c172c9737ba47120150a1153336c",
          "grade": false,
          "grade_id": "cell-f546c03338a0d3b4",
          "locked": true,
          "schema_version": 3,
          "solution": false,
          "task": false
        }
      }
    },
    {
      "cell_type": "code",
      "source": [
        "print(\"Avec range + len\")\n",
        "\n",
        "ma_liste = [1, 2, 3]\n",
        "print(ma_liste)\n",
        "\n",
        "for i in range(len(ma_liste)):\n",
        "    ma_liste[i] = ma_liste[i] + 1\n",
        "print(ma_liste)\n",
        "\n",
        "\n",
        "\n",
        "print(\"------------\")\n",
        "print(\"Avec for i in ma_liste\")\n",
        "\n",
        "ma_liste = [1, 2, 3]\n",
        "print(ma_liste)\n",
        "\n",
        "for i in ma_liste:\n",
        "    i = i + 1\n",
        "print(ma_liste)"
      ],
      "outputs": [
        {
          "output_type": "stream",
          "name": "stdout",
          "text": [
            "Avec range + len\n",
            "[1, 2, 3]\n",
            "[2, 3, 4]\n",
            "------------\n",
            "Avec for i in ma_liste\n",
            "[1, 2, 3]\n",
            "[1, 2, 3]\n"
          ]
        }
      ],
      "execution_count": 3,
      "metadata": {
        "deletable": false,
        "editable": false,
        "nbgrader": {
          "cell_type": "code",
          "checksum": "033a5b3088a74756b3349ab0ec7e3338",
          "grade": false,
          "grade_id": "cell-0af7a27613f9fb88",
          "locked": true,
          "schema_version": 3,
          "solution": false,
          "task": false
        }
      }
    },
    {
      "cell_type": "markdown",
      "source": [
        "### Dans la cellule suivante, écrivez deux boucles qui affichent tous les mots de la liste `countries` ligne par ligne, d'abord avec une boucle `for ... in` puis avec un boucle `for ... in + range + len`"
      ],
      "metadata": {
        "deletable": false,
        "editable": false,
        "nbgrader": {
          "cell_type": "markdown",
          "checksum": "76ea3a6b3f6167c6ece86052c236045c",
          "grade": false,
          "grade_id": "cell-9d1fb1e2b053e258",
          "locked": true,
          "schema_version": 3,
          "solution": false,
          "task": false
        }
      }
    },
    {
      "cell_type": "code",
      "source": [
        "countries = [\"Switzerland\", \"Germany\", \"France\", \"Italy\", \"Spain\", \"Netherlands\", \"Norway\", \"Austria\", \"USA\", \"UK\"]\n",
        "for i in countries: #Switzerland à UK \n",
        "    print(i)\n",
        "    \n",
        "for i in range(len(countries)): #  0 à n\n",
        "    print(countries[i])\n",
        "\n",
        "\n",
        "\n",
        "\n"
      ],
      "outputs": [
        {
          "output_type": "stream",
          "name": "stdout",
          "text": [
            "Switzerland\n",
            "Germany\n",
            "France\n",
            "Italy\n",
            "Spain\n",
            "Netherlands\n",
            "Norway\n",
            "Austria\n",
            "USA\n",
            "UK\n",
            "Switzerland\n",
            "Germany\n",
            "France\n",
            "Italy\n",
            "Spain\n",
            "Netherlands\n",
            "Norway\n",
            "Austria\n",
            "USA\n",
            "UK\n",
            "Norway\n"
          ]
        }
      ],
      "execution_count": 9,
      "metadata": {}
    },
    {
      "cell_type": "markdown",
      "source": [
        "### Dans la cellule suivante, il y a une très grande liste de `int`, écrivez une boucle qui mutliplie chaque élément par `2`"
      ],
      "metadata": {
        "deletable": false,
        "editable": false,
        "nbgrader": {
          "cell_type": "markdown",
          "checksum": "75b9ad161adbfe119d042298f3db692b",
          "grade": false,
          "grade_id": "cell-bd08e84b2f1f3f0c",
          "locked": true,
          "schema_version": 3,
          "solution": false,
          "task": false
        }
      }
    },
    {
      "cell_type": "code",
      "source": [
        "from assertion import save_liste, liste_times_two\n",
        "\n",
        "liste = [3, 2, 5, 10, 2, 3, 12, 100, 56, 23, 80, 73, 23, 22, 19, 55, 78 ,20, 30, 39, 31, 60, 152, 1212, 14324]\n",
        "save_liste(liste)\n",
        "\n",
        "# VOTRE CODE ICI\n",
        "for i in range(len(liste)):\n",
        "    liste[i]= liste[i]*2\n",
        "# FIN DE VOTRE CODE\n",
        "\n",
        "liste_times_two(liste)"
      ],
      "outputs": [
        {
          "output_type": "stream",
          "name": "stdout",
          "text": [
            "\u001b[32m\"Bonne réponse!\"\u001b[0m\n"
          ]
        }
      ],
      "execution_count": 10,
      "metadata": {}
    },
    {
      "cell_type": "markdown",
      "source": [
        "## Boucles `while`  \n",
        "\n",
        "Les boucles `while` sont des boucles qui s'exécutent plein de fois d'affilée jusqu'à ce qu'une `condition` soit accomplie (une `booléenne` `True` ou `False`). La syntax est la suivante:  \n",
        "\n",
        "On écrit d'abord `while`, suivi de la `condition` à atteindre. Par exemple pour afficher tous les nombre de 0 à 10:  \n",
        "\n",
        "    i = 0\n",
        "    while i < 10:\n",
        "        print(i)\n",
        "        i = i + 1"
      ],
      "metadata": {
        "deletable": false,
        "editable": false,
        "nbgrader": {
          "cell_type": "markdown",
          "checksum": "ac4ed9e7eb77566a3e7f69a0421c2702",
          "grade": false,
          "grade_id": "cell-89f8e9a00bfb5eed",
          "locked": true,
          "schema_version": 3,
          "solution": false,
          "task": false
        }
      }
    },
    {
      "cell_type": "code",
      "source": [
        "i = 0\n",
        "while i < 10:\n",
        "    print(i)\n",
        "    i = i + 1"
      ],
      "outputs": [
        {
          "output_type": "stream",
          "name": "stdout",
          "text": [
            "0\n",
            "1\n",
            "2\n",
            "3\n",
            "4\n",
            "5\n",
            "6\n",
            "7\n",
            "8\n",
            "9\n"
          ]
        }
      ],
      "execution_count": 11,
      "metadata": {
        "deletable": false,
        "editable": false,
        "nbgrader": {
          "cell_type": "code",
          "checksum": "5aebb02797b5bba1d1bdcd0a351cc67a",
          "grade": false,
          "grade_id": "cell-4c27cd36cdf74ee3",
          "locked": true,
          "schema_version": 3,
          "solution": false,
          "task": false
        }
      }
    },
    {
      "cell_type": "markdown",
      "source": [
        "### /!\\ Attention, les boucles `while` sont plus dangereuses que les boucles `for`\n",
        "\n",
        "Si vous avez fait une erreur dans votre code, il se peut que la boucle n'arrive jamais à sa condition et qu'elle ne se termine donc jamais. Ceci peut entraîner un `crash` de votre programme, voire même de votre ordinateur.\n",
        "\n",
        "#### Exemple à ne pas reproduire:\n",
        "\n",
        "    while True:\n",
        "        print(\"Boucle infinie\")"
      ],
      "metadata": {
        "deletable": false,
        "editable": false,
        "nbgrader": {
          "cell_type": "markdown",
          "checksum": "e5d59d24799aa23b91dde8a09b8bd0cf",
          "grade": false,
          "grade_id": "cell-edf2573f66d09aa2",
          "locked": true,
          "schema_version": 3,
          "solution": false,
          "task": false
        }
      }
    },
    {
      "cell_type": "markdown",
      "source": [
        "### Comme dans l'exercice précédent, écrivez une boucle `while` qui multiplie chaque nombre d'une `liste` par `2` "
      ],
      "metadata": {
        "deletable": false,
        "editable": false,
        "nbgrader": {
          "cell_type": "markdown",
          "checksum": "432f1d45d43986947714738382c4f8ce",
          "grade": false,
          "grade_id": "cell-0a3e6d3a14d21166",
          "locked": true,
          "schema_version": 3,
          "solution": false,
          "task": false
        }
      }
    },
    {
      "cell_type": "code",
      "source": [
        "from assertion import save_liste, liste_times_two\n",
        "\n",
        "liste = [3, 2, 5, 10, 2, 3, 12, 100, 56, 23, 80, 73, 23, 22, 19, 55, 78 ,20, 30, 39, 31, 60, 152, 1212, 14324]\n",
        "save_liste(liste)\n",
        "\n",
        "# VOTRE CODE ICI\n",
        "i=0\n",
        "while i <= len(liste)-1:\n",
        "    liste[i]=liste[i]*2\n",
        "    i=i+1\n",
        "    \n",
        "print(liste)\n",
        "    \n",
        "# FIN DE VOTRE CODE\n",
        "\n",
        "liste_times_two(liste)"
      ],
      "outputs": [
        {
          "output_type": "stream",
          "name": "stdout",
          "text": [
            "[6, 4, 10, 20, 4, 6, 24, 200, 112, 46, 160, 146, 46, 44, 38, 110, 156, 40, 60, 78, 62, 120, 304, 2424, 28648]\n",
            "\u001b[32m\"Bonne réponse!\"\u001b[0m\n"
          ]
        }
      ],
      "execution_count": 17,
      "metadata": {}
    },
    {
      "cell_type": "code",
      "source": [],
      "outputs": [],
      "execution_count": null,
      "metadata": {}
    }
  ],
  "metadata": {
    "kernelspec": {
      "name": "python3",
      "language": "python",
      "display_name": "Python 3"
    },
    "language_info": {
      "name": "python",
      "version": "3.7.3",
      "mimetype": "text/x-python",
      "codemirror_mode": {
        "name": "ipython",
        "version": 3
      },
      "pygments_lexer": "ipython3",
      "nbconvert_exporter": "python",
      "file_extension": ".py"
    },
    "toc": {
      "toc_position": {},
      "skip_h1_title": false,
      "number_sections": false,
      "title_cell": "Table of Contents",
      "toc_window_display": false,
      "base_numbering": 1,
      "toc_section_display": false,
      "title_sidebar": "Contents",
      "toc_cell": false,
      "nav_menu": {},
      "sideBar": false
    },
    "kernel_info": {
      "name": "python3"
    },
    "nteract": {
      "version": "0.15.0"
    }
  },
  "nbformat": 4,
  "nbformat_minor": 2
}