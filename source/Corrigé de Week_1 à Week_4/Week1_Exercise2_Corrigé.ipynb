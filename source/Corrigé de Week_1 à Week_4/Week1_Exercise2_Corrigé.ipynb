{
  "cells": [
    {
      "cell_type": "code",
      "source": [],
      "outputs": [],
      "execution_count": null,
      "metadata": {}
    },
    {
      "cell_type": "markdown",
      "source": [
        "# Exercice 2 - Conversions 10 -> [3, 16]  \n",
        "\n",
        "Dans cet exercice, vous devrez convertir des nombres en base 10 vers d'autres bases entre 3 et 16"
      ],
      "metadata": {
        "deletable": false,
        "editable": false,
        "nbgrader": {
          "cell_type": "markdown",
          "checksum": "22521ab00633aeac6cd50f4ab87e5cb9",
          "grade": false,
          "grade_id": "ex-2",
          "locked": true,
          "schema_version": 3,
          "solution": false,
          "task": false
        }
      }
    },
    {
      "cell_type": "markdown",
      "source": [
        "### Exercice 2 - a  \n",
        "\n",
        "Convertissez le nombre 40 (base 10) en base 8"
      ],
      "metadata": {
        "deletable": false,
        "editable": false,
        "nbgrader": {
          "cell_type": "markdown",
          "checksum": "50f171ba2e53997f988c1fa312a2d513",
          "grade": false,
          "grade_id": "2-a",
          "locked": true,
          "schema_version": 3,
          "solution": false,
          "task": false
        }
      }
    },
    {
      "cell_type": "code",
      "source": [
        "from Assertion import check_2_a\n",
        "\n",
        "# -----------------\n",
        "# VOTRE RÉPONSE ICI\n",
        "réponse = \"50\"\n",
        "# -----------------\n",
        "\n",
        "check_2_a(réponse)"
      ],
      "outputs": [
        {
          "output_type": "stream",
          "name": "stdout",
          "text": [
            "\u001b[32m\"Bonne réponse!\"\u001b[0m\n"
          ]
        }
      ],
      "execution_count": 1,
      "metadata": {}
    },
    {
      "cell_type": "markdown",
      "source": [
        "### Exercice 2 - b  \n",
        "\n",
        "Convertissez le nombre 52 (base 10) en base 3"
      ],
      "metadata": {
        "deletable": false,
        "editable": false,
        "nbgrader": {
          "cell_type": "markdown",
          "checksum": "20f7cf42ca7b174eb84c72da8c0ddce8",
          "grade": false,
          "grade_id": "2-b",
          "locked": true,
          "schema_version": 3,
          "solution": false,
          "task": false
        }
      }
    },
    {
      "cell_type": "code",
      "source": [
        "from Assertion import check_2_b\n",
        "\n",
        "# -----------------\n",
        "# VOTRE RÉPONSE ICI\n",
        "réponse = \"1221\"\n",
        "# -----------------\n",
        "\n",
        "check_2_b(réponse)"
      ],
      "outputs": [
        {
          "output_type": "stream",
          "name": "stdout",
          "text": [
            "\u001b[32m\"Bonne réponse!\"\u001b[0m\n"
          ]
        }
      ],
      "execution_count": 2,
      "metadata": {}
    },
    {
      "cell_type": "markdown",
      "source": [
        "### Exercice 2 - c  \n",
        "\n",
        "Convertissez le nombre 254 (base 10) en base 16. \n",
        "\n",
        "#### N.b Les chiffres au dessus de 10 dans les bases supérieurs sont exprimés en lettres majuscules, e.g 30 -> 1E"
      ],
      "metadata": {
        "deletable": false,
        "editable": false,
        "nbgrader": {
          "cell_type": "markdown",
          "checksum": "f52d78dc48e2d578afd2b4c5210701b4",
          "grade": false,
          "grade_id": "2-c",
          "locked": true,
          "schema_version": 3,
          "solution": false,
          "task": false
        }
      }
    },
    {
      "cell_type": "code",
      "source": [
        "from Assertion import check_2_c\n",
        "\n",
        "# -----------------\n",
        "# VOTRE RÉPONSE ICI\n",
        "réponse = \"FE\"\n",
        "# -----------------\n",
        "\n",
        "check_2_c(réponse)"
      ],
      "outputs": [
        {
          "output_type": "stream",
          "name": "stdout",
          "text": [
            "\u001b[32m\"Bonne réponse!\"\u001b[0m\n"
          ]
        }
      ],
      "execution_count": 3,
      "metadata": {}
    },
    {
      "cell_type": "code",
      "source": [],
      "outputs": [],
      "execution_count": null,
      "metadata": {}
    }
  ],
  "metadata": {
    "kernelspec": {
      "name": "python3",
      "language": "python",
      "display_name": "Python 3"
    },
    "language_info": {
      "name": "python",
      "version": "3.7.3",
      "mimetype": "text/x-python",
      "codemirror_mode": {
        "name": "ipython",
        "version": 3
      },
      "pygments_lexer": "ipython3",
      "nbconvert_exporter": "python",
      "file_extension": ".py"
    },
    "toc": {
      "toc_position": {},
      "skip_h1_title": false,
      "number_sections": false,
      "title_cell": "Table of Contents",
      "toc_window_display": false,
      "base_numbering": 1,
      "toc_section_display": false,
      "title_sidebar": "Contents",
      "toc_cell": false,
      "nav_menu": {},
      "sideBar": false
    },
    "kernel_info": {
      "name": "python3"
    },
    "nteract": {
      "version": "0.15.0"
    }
  },
  "nbformat": 4,
  "nbformat_minor": 2
}