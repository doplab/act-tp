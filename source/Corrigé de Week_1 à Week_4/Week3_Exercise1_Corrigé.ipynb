{
  "cells": [
    {
      "cell_type": "markdown",
      "source": [
        "# Algorithmique et Pensée Computationnelle"
      ],
      "metadata": {}
    },
    {
      "cell_type": "markdown",
      "source": [
        "# Types Scala\n",
        "\n",
        "Contrairement à `Python`, `Scala` est un langage à typage statique. C'est-à-dire que le type d'une variable est donné à son initialisation. \n",
        "\n",
        "Définissez une variable `note` égale à 4 qui est un integer.\n",
        "\n",
        "Définissez une variable `note_maximale` à 5.5 qui est un float.\n",
        "\n",
        "Définissez une variable `note_souhaite` à 5.25 à laquelle sera automatiquement assignée un type.\n",
        "\n",
        "Affichez le type de la variable `note_souhaite`. \n",
        "\n",
        "Modifiez la variable `note_souhaite` en integer.\n",
        "\n",
        "Essayez de modifier la `note` à ce qu'elle soit égale à la 'note_maximale'. "
      ],
      "metadata": {}
    },
    {
      "cell_type": "code",
      "source": [
        "var note: Int = 4\n",
        "// Afficher note\n",
        "println(note)\n",
        "\n",
        "var note_maximale: Float = 5.5f\n",
        "// Afficher note_maximale et son type\n",
        "println(note_maximale)\n",
        "println(\"Type de note_maximale: \")\n",
        "println(note_maximale.getClass)\n",
        "\n",
        "var note_souhaite = 5.25\n",
        "// Afficher note_souhaite et son type\n",
        "println(note_souhaite)\n",
        "println(\"Type de note_souhaite: \")\n",
        "println(note_souhaite.getClass)\n",
        "\n",
        "note_souhaite = note_souhaite.toInt\n",
        "println(note_souhaite)"
      ],
      "outputs": [
        {
          "output_type": "stream",
          "name": "stdout",
          "text": [
            "4\n",
            "5.5\n",
            "Type de note_maximale: \n",
            "float\n",
            "5.25\n",
            "Type de note_souhaite: \n",
            "double\n",
            "5.0\n"
          ]
        },
        {
          "output_type": "execute_result",
          "execution_count": 2,
          "data": {
            "text/plain": [
              "null"
            ]
          },
          "metadata": {}
        }
      ],
      "execution_count": 2,
      "metadata": {}
    },
    {
      "cell_type": "code",
      "source": [
        "note= note_maximale // ne marche pas"
      ],
      "outputs": [
        {
          "output_type": "error",
          "ename": "<console>",
          "evalue": "93",
          "traceback": [
            "\u001b[1;31m<console>:93: error: type mismatch;\u001b[0;0m",
            "\u001b[1;31m found   : Float\u001b[0;0m",
            "\u001b[1;31m required: Int\u001b[0;0m",
            "\u001b[1;31m       note= note_maximale // ne marche pas\u001b[0;0m",
            "\u001b[1;31m             ^\u001b[0;0m"
          ]
        }
      ],
      "execution_count": 3,
      "metadata": {}
    },
    {
      "cell_type": "code",
      "source": [],
      "outputs": [],
      "execution_count": null,
      "metadata": {}
    },
    {
      "cell_type": "code",
      "source": [],
      "outputs": [],
      "execution_count": null,
      "metadata": {}
    }
  ],
  "metadata": {
    "kernelspec": {
      "display_name": "Scala",
      "language": "scala",
      "name": "scala"
    },
    "language_info": {
      "codemirror_mode": "text/x-scala",
      "file_extension": ".scala",
      "mimetype": "",
      "name": "Scala",
      "nbconverter_exporter": "",
      "version": "2.11.12"
    },
    "toc": {
      "toc_position": {},
      "skip_h1_title": false,
      "number_sections": false,
      "title_cell": "Table of Contents",
      "toc_window_display": false,
      "base_numbering": 1,
      "toc_section_display": false,
      "title_sidebar": "Contents",
      "toc_cell": false,
      "nav_menu": {},
      "sideBar": false
    },
    "nteract": {
      "version": "0.15.0"
    }
  },
  "nbformat": 4,
  "nbformat_minor": 2
}