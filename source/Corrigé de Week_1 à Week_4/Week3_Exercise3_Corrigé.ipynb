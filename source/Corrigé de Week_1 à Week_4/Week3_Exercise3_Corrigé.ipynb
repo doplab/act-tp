{
  "cells": [
    {
      "cell_type": "markdown",
      "source": [
        "# Algorithmique et Pensée Computationnelle"
      ],
      "metadata": {}
    },
    {
      "cell_type": "markdown",
      "source": [
        "# Compréhension de Python\n",
        "\n",
        "Dans les prochains exercices, il vous sera demandé de comprendre le code qui vous sera montré, ainsi que d'anticiper ce qu'il va afficher\n",
        "\n",
        "### /!\\ Ces questions sont tirées d'anciens examens!"
      ],
      "metadata": {
        "deletable": false,
        "editable": false,
        "nbgrader": {
          "cell_type": "markdown",
          "checksum": "2520f2f6f071be87aa4e05057cafdfd8",
          "grade": false,
          "grade_id": "cell-0dcd390790ff8d65",
          "locked": true,
          "schema_version": 3,
          "solution": false,
          "task": false
        }
      }
    },
    {
      "cell_type": "markdown",
      "source": [
        "## 1) Anticipez quel texte va être affiché dans la console"
      ],
      "metadata": {
        "deletable": false,
        "editable": false,
        "nbgrader": {
          "cell_type": "markdown",
          "checksum": "18a706f39a71687024b8da4d3a54f573",
          "grade": false,
          "grade_id": "cell-b0484074a57dd8da",
          "locked": true,
          "schema_version": 3,
          "solution": false,
          "task": false
        }
      }
    },
    {
      "cell_type": "code",
      "source": [
        "x = True\n",
        "y = False\n",
        "z = False\n",
        "\n",
        "if y or (x and z):\n",
        "    print(\"output1\")\n",
        "if not x or (y and z):\n",
        "    print(\"output2\")\n",
        "if (x or z) or (y and z):\n",
        "    print(\"output3\")\n",
        "if (y != z):\n",
        "    print(\"output4\")"
      ],
      "outputs": [
        {
          "output_type": "stream",
          "name": "stdout",
          "text": [
            "output3\n"
          ]
        }
      ],
      "execution_count": 1,
      "metadata": {}
    },
    {
      "cell_type": "markdown",
      "source": [
        "## 2) Anticipez quel texte va être affiché dans la console"
      ],
      "metadata": {
        "deletable": false,
        "editable": false,
        "nbgrader": {
          "cell_type": "markdown",
          "checksum": "58f07066f1870c71638bcadc95906dff",
          "grade": false,
          "grade_id": "cell-5c6fc5bb8795c297",
          "locked": true,
          "schema_version": 3,
          "solution": false,
          "task": false
        }
      }
    },
    {
      "cell_type": "code",
      "source": [
        "age = 20\n",
        "output = \"\"\n",
        "\n",
        "if age < 18:\n",
        "    output += \"Vous n'avez pas l'age requis \"\n",
        "elif age >= 18:\n",
        "    output += \"Vous avez l'age requis \"\n",
        "elif age < 25:\n",
        "    output += \"Vous avez un rabais \"\n",
        "print(output)"
      ],
      "outputs": [
        {
          "output_type": "stream",
          "name": "stdout",
          "text": [
            "Vous avez l'age requis \n"
          ]
        }
      ],
      "execution_count": 2,
      "metadata": {}
    },
    {
      "cell_type": "markdown",
      "source": [
        "## 3) Modifiez la case précédente pour demander l'âge de l'utilisateur"
      ],
      "metadata": {
        "deletable": false,
        "editable": false,
        "nbgrader": {
          "cell_type": "markdown",
          "checksum": "95d954f92caf9a4b3b30f9eeb3ddcd3d",
          "grade": false,
          "grade_id": "cell-d4f9c06458302f55",
          "locked": true,
          "schema_version": 3,
          "solution": false,
          "task": false
        }
      }
    },
    {
      "cell_type": "code",
      "source": [
        "age = int(input(\"Quel est votre âge? \"))\n",
        "output = \"\"\n",
        "\n",
        "if age < 18:\n",
        "    output += \"Vous n'avez pas l'age requis \"\n",
        "elif age >= 18:\n",
        "    output += \"Vous avez l'age requis \"\n",
        "elif age < 25:\n",
        "    output += \"Vous avez un rabais \"\n",
        "print(output)"
      ],
      "outputs": [
        {
          "output_type": "stream",
          "name": "stdout",
          "text": [
            "Quel est votre âge? 23\n",
            "Vous avez l'age requis \n"
          ]
        }
      ],
      "execution_count": 5,
      "metadata": {}
    },
    {
      "cell_type": "markdown",
      "source": [
        "## 4) Anticipez quel texte va être affiché dans la console"
      ],
      "metadata": {
        "deletable": false,
        "editable": false,
        "nbgrader": {
          "cell_type": "markdown",
          "checksum": "6efa012544d718b76b97e357187d4441",
          "grade": false,
          "grade_id": "cell-c9640276a3ddda22",
          "locked": true,
          "schema_version": 3,
          "solution": false,
          "task": false
        }
      }
    },
    {
      "cell_type": "code",
      "source": [
        "num_int = 456\n",
        "num_string = \"456\"\n",
        "total_num = num_int + int(num_string)\n",
        "print(type(total_num))"
      ],
      "outputs": [
        {
          "output_type": "stream",
          "name": "stdout",
          "text": [
            "<class 'int'>\n"
          ]
        }
      ],
      "execution_count": 6,
      "metadata": {}
    },
    {
      "cell_type": "markdown",
      "source": [
        "## 5) Deviner un nombre aléatoire\n",
        "\n",
        "Dans la case suivante, nous vous donnons un nombre aléatoire entre `0` et `30` dans la variable `number`, écrivez un programme qui demande à l'utilisateur de deviner le nombre, l'utilisateur a `5` chances pour le trouver, s'il se trompe, donnez-lui un indice (le nombre qu'il a écrit est-il plus grand ou plus petit que celui qu'il cherche?)"
      ],
      "metadata": {
        "deletable": false,
        "editable": false,
        "nbgrader": {
          "cell_type": "markdown",
          "checksum": "d788bb587ea5d469756f3d7f5b761f94",
          "grade": false,
          "grade_id": "cell-55fdf9e4f397dee5",
          "locked": true,
          "schema_version": 3,
          "solution": false,
          "task": false
        }
      }
    },
    {
      "cell_type": "code",
      "source": [
        "from random import randint\n",
        "number = randint(0, 30)\n",
        "\n",
        "x = int(input(\"Choississez un nombre: \"))\n",
        "if x == number:\n",
        "    print(\"Yeeah!\")\n",
        "elif x < number: \n",
        "    print(\"Trop bas!\")\n",
        "else:\n",
        "    print(\"Trop haut!\")\n",
        "    \n",
        "x = int(input(\"Choississez un nombre: \"))\n",
        "if x == number:\n",
        "    print(\"Yeeah!\")\n",
        "elif x < number: \n",
        "    print(\"Trop bas!\")\n",
        "else:\n",
        "    print(\"Trop haut!\")\n",
        "    \n",
        "x = int(input(\"Choississez un nombre: \"))\n",
        "if x == number:\n",
        "    print(\"Yeeah!\")\n",
        "elif x < number: \n",
        "    print(\"Trop bas!\")\n",
        "else:\n",
        "    print(\"Trop haut!\")\n",
        "    \n",
        "x = int(input(\"Choississez un nombre: \"))\n",
        "if x == number:\n",
        "    print(\"Yeeah!\")\n",
        "elif x < number: \n",
        "    print(\"Trop bas!\")\n",
        "else:\n",
        "    print(\"Trop haut!\")\n",
        "    \n",
        "x = int(input(\"Choississez un nombre: \"))\n",
        "if x == number:\n",
        "    print(\"Yeeah!\")\n",
        "elif x < number: \n",
        "    print(\"Trop bas!\")\n",
        "else:\n",
        "    print(\"Trop haut!\")\n",
        "\n",
        "# VOTRE CODE ICI\n",
        "print(number)"
      ],
      "outputs": [
        {
          "output_type": "stream",
          "name": "stdout",
          "text": [
            "Choississez un nombre: 15\n",
            "Trop haut!\n",
            "Choississez un nombre: 10\n",
            "Trop haut!\n",
            "Choississez un nombre: 5\n",
            "Trop haut!\n",
            "Choississez un nombre: 3\n",
            "Trop bas!\n",
            "Choississez un nombre: 4\n",
            "Yeeah!\n",
            "4\n"
          ]
        }
      ],
      "execution_count": 18,
      "metadata": {}
    },
    {
      "cell_type": "code",
      "source": [
        "#Autre manière de faire:\n",
        "from random import randint\n",
        "number = randint(0, 30)\n",
        "\n",
        "x = int(input(\"Choississez un nombre: \"))\n",
        "for i in range(5):\n",
        "    if x==number:\n",
        "        print(\"Yeah!\")\n",
        "        break\n",
        "    elif x<number:\n",
        "        print(\"Trop petit!\")\n",
        "    else:\n",
        "        print(\"Trop grand!\")\n",
        "    x = int(input(\"Choississez un nombre: \"))\n",
        "        \n"
      ],
      "outputs": [
        {
          "output_type": "stream",
          "name": "stdout",
          "text": [
            "Choississez un nombre: 15\n",
            "Trop grand!\n",
            "Choississez un nombre: 10\n",
            "Trop grand!\n",
            "Choississez un nombre: 5\n",
            "Trop grand!\n",
            "Choississez un nombre: 3\n",
            "Yeah!\n"
          ]
        }
      ],
      "execution_count": 1,
      "metadata": {}
    },
    {
      "cell_type": "code",
      "source": [],
      "outputs": [],
      "execution_count": null,
      "metadata": {}
    }
  ],
  "metadata": {
    "kernelspec": {
      "name": "python3",
      "language": "python",
      "display_name": "Python 3"
    },
    "language_info": {
      "name": "python",
      "version": "3.7.3",
      "mimetype": "text/x-python",
      "codemirror_mode": {
        "name": "ipython",
        "version": 3
      },
      "pygments_lexer": "ipython3",
      "nbconvert_exporter": "python",
      "file_extension": ".py"
    },
    "toc": {
      "toc_position": {},
      "skip_h1_title": false,
      "number_sections": false,
      "title_cell": "Table of Contents",
      "toc_window_display": false,
      "base_numbering": 1,
      "toc_section_display": false,
      "title_sidebar": "Contents",
      "toc_cell": false,
      "nav_menu": {},
      "sideBar": false
    },
    "kernel_info": {
      "name": "python3"
    },
    "nteract": {
      "version": "0.15.0"
    }
  },
  "nbformat": 4,
  "nbformat_minor": 2
}