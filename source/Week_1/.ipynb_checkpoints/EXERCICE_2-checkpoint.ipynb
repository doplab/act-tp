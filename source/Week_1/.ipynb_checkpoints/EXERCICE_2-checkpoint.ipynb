{
 "cells": [
  {
   "cell_type": "markdown",
   "metadata": {
    "nbgrader": {
     "grade": false,
     "grade_id": "ex-2",
     "locked": true,
     "schema_version": 3,
     "solution": false,
     "task": false
    }
   },
   "source": [
    "# Exercice 2 - Conversions 10 -> [3, 16]  \n",
    "\n",
    "Dans cet exercice, vous devrez convertir des nombres en base `10` vers d'autres bases entre `3` et `16`.  \n",
    "\n",
    "Dans le cas des bases supérieures à 10, il se peut que vous deviez utiliser des lettres **MAJUSCULES** pour exprimer un *chiffre* supérieur à 9. Par exemple, en base `16`, le nombre `30` s'exprime `1E`, car il vaut `1*16^1 + 14*16^0`, nous n'avons pas de chiffre au delà du chiffre `9`, donc nous ajoutons les lettres de l'alphabet jusqu'à arriver à 14."
   ]
  },
  {
   "cell_type": "markdown",
   "metadata": {
    "nbgrader": {
     "grade": false,
     "grade_id": "2-a",
     "locked": true,
     "schema_version": 3,
     "solution": false,
     "task": false
    }
   },
   "source": [
    "### Exercice 2 - a  \n",
    "\n",
    "Convertissez le nombre 40 (base 10) en base 8"
   ]
  },
  {
   "cell_type": "code",
   "execution_count": null,
   "metadata": {},
   "outputs": [],
   "source": [
    "from Assertion import check_2_a\n",
    "\n",
    "# -----------------\n",
    "# VOTRE RÉPONSE ICI\n",
    "réponse = \"\"\n",
    "# -----------------\n",
    "\n",
    "check_2_a(réponse)"
   ]
  },
  {
   "cell_type": "markdown",
   "metadata": {
    "nbgrader": {
     "grade": false,
     "grade_id": "2-b",
     "locked": true,
     "schema_version": 3,
     "solution": false,
     "task": false
    }
   },
   "source": [
    "### Exercice 2 - b  \n",
    "\n",
    "Convertissez le nombre 52 (base 10) en base 3"
   ]
  },
  {
   "cell_type": "code",
   "execution_count": null,
   "metadata": {},
   "outputs": [],
   "source": [
    "from Assertion import check_2_b\n",
    "\n",
    "# -----------------\n",
    "# VOTRE RÉPONSE ICI\n",
    "réponse = \"\"\n",
    "# -----------------\n",
    "\n",
    "check_2_b(réponse)"
   ]
  },
  {
   "cell_type": "markdown",
   "metadata": {
    "nbgrader": {
     "grade": false,
     "grade_id": "2-c",
     "locked": true,
     "schema_version": 3,
     "solution": false,
     "task": false
    }
   },
   "source": [
    "### Exercice 2 - c  \n",
    "\n",
    "Convertissez le nombre 254 (base 10) en base 16. \n",
    "\n",
    "#### N.b Les chiffres au dessus de 10 dans les bases supérieurs sont exprimés en lettres majuscules, e.g 30 -> 1E"
   ]
  },
  {
   "cell_type": "code",
   "execution_count": null,
   "metadata": {},
   "outputs": [],
   "source": [
    "from Assertion import check_2_c\n",
    "\n",
    "# -----------------\n",
    "# VOTRE RÉPONSE ICI\n",
    "réponse = \"\"\n",
    "# -----------------\n",
    "\n",
    "check_2_c(réponse)"
   ]
  }
 ],
 "metadata": {
  "celltoolbar": "Create Assignment",
  "kernelspec": {
   "display_name": "Python 3",
   "language": "python",
   "name": "python3"
  },
  "language_info": {
   "codemirror_mode": {
    "name": "ipython",
    "version": 3
   },
   "file_extension": ".py",
   "mimetype": "text/x-python",
   "name": "python",
   "nbconvert_exporter": "python",
   "pygments_lexer": "ipython3",
   "version": "3.7.3"
  }
 },
 "nbformat": 4,
 "nbformat_minor": 2
}
