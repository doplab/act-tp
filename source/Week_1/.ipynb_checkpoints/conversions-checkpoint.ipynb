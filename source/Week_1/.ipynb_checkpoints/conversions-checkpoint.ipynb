{
 "cells": [
  {
   "cell_type": "markdown",
   "metadata": {},
   "source": [
    "# Conversion de nombres\n",
    "\n",
    "Le cours de cette semaine porte sur les conversions de bases arithmétiques. Dans ce Notebook, vous avez la possibilité de convertir un nombre de n'importe quelle base dans une autre base.\n",
    "\n",
    "Pour convertir un nombre, créez un `NumberConverter`en faisant:  \n",
    "\n",
    "    number = NumberConverter(100, 10)\n",
    "\n",
    "    \n",
    "Le premier argument est le nombre à convertir (100) ici et le deuxième est la base de ce nombre (décimale ici.)\n",
    "\n",
    "Pour convertir ce nombre, utilisez la fonction `convert` qui prend la nouvelle base en argument:\n",
    "    \n",
    "    number.convert(2)\n",
    "\n",
    "### Dans la case suivante, vous avez un exemple de la conversion du nombre 100 en base 10 vers la base 2."
   ]
  },
  {
   "cell_type": "code",
   "execution_count": null,
   "metadata": {},
   "outputs": [],
   "source": [
    "from binary_conversion import NumberConverter\n",
    "number = NumberConverter(100, 10)\n",
    "number.convert(2)"
   ]
  }
 ],
 "metadata": {
  "kernelspec": {
   "display_name": "Python 3",
   "language": "python",
   "name": "python3"
  },
  "language_info": {
   "codemirror_mode": {
    "name": "ipython",
    "version": 3
   },
   "file_extension": ".py",
   "mimetype": "text/x-python",
   "name": "python",
   "nbconvert_exporter": "python",
   "pygments_lexer": "ipython3",
   "version": "3.7.3"
  }
 },
 "nbformat": 4,
 "nbformat_minor": 2
}
