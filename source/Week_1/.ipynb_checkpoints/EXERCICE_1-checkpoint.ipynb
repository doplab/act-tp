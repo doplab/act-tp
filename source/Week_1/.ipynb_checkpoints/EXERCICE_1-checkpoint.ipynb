{
 "cells": [
  {
   "cell_type": "markdown",
   "metadata": {
    "nbgrader": {
     "grade": false,
     "grade_id": "ex-1",
     "locked": true,
     "schema_version": 3,
     "solution": false,
     "task": false
    }
   },
   "source": [
    "# Exercice 1 - Conversions 10 -> 2  \n",
    "\n",
    "Dans cet exercice, vous devrez convertir des nombres en base 10 vers la base 2. Pour vérifier votre réponse, entrez votre réponse entre les `\" \"` de chaque question et cliquez sur `run` en haut de l'écran."
   ]
  },
  {
   "cell_type": "markdown",
   "metadata": {
    "nbgrader": {
     "grade": false,
     "grade_id": "1-a",
     "locked": true,
     "schema_version": 3,
     "solution": false,
     "task": false
    }
   },
   "source": [
    "### Exercice 1 - a  \n",
    "Convertissez le nombre 10 (base 10) en base 2"
   ]
  },
  {
   "cell_type": "code",
   "execution_count": null,
   "metadata": {},
   "outputs": [],
   "source": [
    "from Assertion import check_1_a\n",
    "\n",
    "# -----------------\n",
    "# VOTRE RÉPONSE ICI\n",
    "réponse = \"\"\n",
    "# -----------------\n",
    "\n",
    "check_1_a(réponse)"
   ]
  },
  {
   "cell_type": "markdown",
   "metadata": {
    "nbgrader": {
     "grade": false,
     "grade_id": "1-b",
     "locked": true,
     "schema_version": 3,
     "solution": false,
     "task": false
    }
   },
   "source": [
    "### Exercice 1 - b  \n",
    "\n",
    "Convertissez le nombre 45 (base 10) en base 2"
   ]
  },
  {
   "cell_type": "code",
   "execution_count": null,
   "metadata": {},
   "outputs": [],
   "source": [
    "from Assertion import check_1_b\n",
    "\n",
    "# -----------------\n",
    "# VOTRE RÉPONSE ICI\n",
    "réponse = \"\"\n",
    "# -----------------\n",
    "\n",
    "check_1_b(réponse)"
   ]
  },
  {
   "cell_type": "markdown",
   "metadata": {
    "nbgrader": {
     "grade": false,
     "grade_id": "1-c",
     "locked": true,
     "schema_version": 3,
     "solution": false,
     "task": false
    }
   },
   "source": [
    "### Exercice 1 - c  \n",
    "\n",
    "Convertissez le nombre 173 (base 10) en base 2"
   ]
  },
  {
   "cell_type": "code",
   "execution_count": null,
   "metadata": {},
   "outputs": [],
   "source": [
    "from Assertion import check_1_c\n",
    "\n",
    "# -----------------\n",
    "# VOTRE RÉPONSE ICI\n",
    "réponse = \"\"\n",
    "# -----------------\n",
    "\n",
    "check_1_c(réponse)"
   ]
  }
 ],
 "metadata": {
  "celltoolbar": "Create Assignment",
  "kernelspec": {
   "display_name": "Python 3",
   "language": "python",
   "name": "python3"
  },
  "language_info": {
   "codemirror_mode": {
    "name": "ipython",
    "version": 3
   },
   "file_extension": ".py",
   "mimetype": "text/x-python",
   "name": "python",
   "nbconvert_exporter": "python",
   "pygments_lexer": "ipython3",
   "version": "3.7.3"
  }
 },
 "nbformat": 4,
 "nbformat_minor": 2
}
