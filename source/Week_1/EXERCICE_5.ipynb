{
 "cells": [
  {
   "cell_type": "markdown",
   "metadata": {
    "slideshow": {
     "slide_type": "slide"
    }
   },
   "source": [
    "# Architecture de von Neumann\n",
    "\n",
    "L'architecture de von Neumann est l'architecture sur laquelle la grande majorité des ordinateurs sont construits.\n",
    "\n",
    "## Composants  \n",
    "\n",
    "#### L'architecture de von Neumann énumère les composants suivants:  \n",
    "\n",
    "- ***La mémoire***\n",
    "- ***L'unité arithmétique et logique***\n",
    "- L'unité de contrôle\n",
    "- Les dispositifs d'entrée et de sortie (input/output)\n",
    "\n",
    "\n",
    "![Schématisation de l'architecture de von Neumann](https://upload.wikimedia.org/wikipedia/commons/0/01/Von_Neumann_architecture_fr.svg)\n",
    "\n",
    "#### Les componsants qui nous intéressent ici sont la mémoire et l'unité arithmétique et logique\n",
    "\n",
    "### Mémoire\n",
    "\n",
    "La mémoire contient les données ainsi que les instructions à exécuter sur ces données pendant le déroulement du programme. La mémoire ne fait aucun calcul, elle ne \"travaille\" pas, elle ne sert qu'à entreposer de l'information qui peut être modifiée dynamiquement.\n",
    "\n",
    "### Unité arithmétique et logique\n",
    "\n",
    "Le rôle de l'unité logique est d'effectuer les calculs, les comparaisons, et toutes autres opérations de base d'un programme. Cette unité possède sa propre mémoire ultra-rapide appelée `registre`.\n",
    "\n",
    "## Fonctionnement\n",
    "\n",
    "Tous les programmes, du plus simple \"Hello World\" à des applications massives comme Google font tous exactement la même chose: ils reçoivent des données, ils les modifient ou non et ils les ressortent.  \n",
    "\n",
    "Au niveau du processeur, les données sont stoquées dans la mémoire, elles sont ensuite chargées dans l'unité de logique, dans laquelle elles sont traîtées, puis elles sont remises en mémoire avec leur nouvelle valeur.\n",
    "\n",
    "#### Ce modèle de fonctionnement est divisé en quatre étapes: \n",
    "\n",
    "- Fetch\n",
    "- Decode\n",
    "- Execute\n",
    "- Store\n",
    "\n",
    "![FDS](https://github.com/sakex/act-tp/blob/master/images/architecture1.jpg?raw=true)"
   ]
  },
  {
   "cell_type": "code",
   "execution_count": null,
   "metadata": {},
   "outputs": [],
   "source": []
  }
 ],
 "metadata": {
  "celltoolbar": "Slideshow",
  "kernelspec": {
   "display_name": "Python 3",
   "language": "python",
   "name": "python3"
  },
  "language_info": {
   "codemirror_mode": {
    "name": "ipython",
    "version": 3
   },
   "file_extension": ".py",
   "mimetype": "text/x-python",
   "name": "python",
   "nbconvert_exporter": "python",
   "pygments_lexer": "ipython3",
   "version": "3.7.3"
  }
 },
 "nbformat": 4,
 "nbformat_minor": 2
}
