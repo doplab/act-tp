{
 "cells": [
  {
   "cell_type": "markdown",
   "metadata": {
    "nbgrader": {
     "grade": false,
     "grade_id": "ex-1",
     "locked": true,
     "schema_version": 3,
     "solution": false,
     "task": false
    }
   },
   "source": [
    "# Exercice 1 - Conversions 10 -> 2  \n",
    "\n",
    "Dans cet exercice, vous devrez convertir des nombres en base 10 vers la base 2. Pour vérifier votre réponse, entrez votre réponse entre les `\" \"` de chaque question et cliquez sur `run` en haut de l'écran."
   ]
  },
  {
   "cell_type": "markdown",
   "metadata": {
    "nbgrader": {
     "grade": false,
     "grade_id": "1-a",
     "locked": true,
     "schema_version": 3,
     "solution": false,
     "task": false
    }
   },
   "source": [
    "### Exercice 1 - a  \n",
    "Convertissez le nombre 10 (base 10) en base 2"
   ]
  },
  {
   "cell_type": "code",
   "execution_count": null,
   "metadata": {},
   "outputs": [],
   "source": [
    "from Assertion import check_1_a\n",
    "\n",
    "# -----------------\n",
    "# VOTRE RÉPONSE ICI\n",
    "réponse = \"\"\n",
    "# -----------------\n",
    "\n",
    "check_1_a(réponse)"
   ]
  },
  {
   "cell_type": "markdown",
   "metadata": {
    "nbgrader": {
     "grade": false,
     "grade_id": "1-b",
     "locked": true,
     "schema_version": 3,
     "solution": false,
     "task": false
    }
   },
   "source": [
    "### Exercice 1 - b  \n",
    "\n",
    "Convertissez le nombre 45 (base 10) en base 2"
   ]
  },
  {
   "cell_type": "code",
   "execution_count": null,
   "metadata": {},
   "outputs": [],
   "source": [
    "from Assertion import check_1_b\n",
    "\n",
    "# -----------------\n",
    "# VOTRE RÉPONSE ICI\n",
    "réponse = \"\"\n",
    "# -----------------\n",
    "\n",
    "check_1_b(réponse)"
   ]
  },
  {
   "cell_type": "markdown",
   "metadata": {
    "nbgrader": {
     "grade": false,
     "grade_id": "1-c",
     "locked": true,
     "schema_version": 3,
     "solution": false,
     "task": false
    }
   },
   "source": [
    "### Exercice 1 - c  \n",
    "\n",
    "Convertissez le nombre 173 (base 10) en base 2"
   ]
  },
  {
   "cell_type": "code",
   "execution_count": 2,
   "metadata": {},
   "outputs": [
    {
     "ename": "SyntaxError",
     "evalue": "EOL while scanning string literal (Assertion.py, line 11)",
     "output_type": "error",
     "traceback": [
      "Traceback \u001b[0;36m(most recent call last)\u001b[0m:\n",
      "  File \u001b[1;32m\"/opt/conda/lib/python3.7/site-packages/IPython/core/interactiveshell.py\"\u001b[0m, line \u001b[1;32m3296\u001b[0m, in \u001b[1;35mrun_code\u001b[0m\n    exec(code_obj, self.user_global_ns, self.user_ns)\n",
      "\u001b[0;36m  File \u001b[0;32m\"<ipython-input-2-954b2c5225c5>\"\u001b[0;36m, line \u001b[0;32m1\u001b[0;36m, in \u001b[0;35m<module>\u001b[0;36m\u001b[0m\n\u001b[0;31m    from Assertion import check_1_c\u001b[0m\n",
      "\u001b[0;36m  File \u001b[0;32m\"/home/jovyan/source/Week_1/Assertion.py\"\u001b[0;36m, line \u001b[0;32m11\u001b[0m\n\u001b[0;31m    if _input == \"correct:\u001b[0m\n\u001b[0m                          ^\u001b[0m\n\u001b[0;31mSyntaxError\u001b[0m\u001b[0;31m:\u001b[0m EOL while scanning string literal\n"
     ]
    }
   ],
   "source": [
    "from Assertion import check_1_c\n",
    "\n",
    "# -----------------\n",
    "# VOTRE RÉPONSE ICI\n",
    "réponse = \"\"\n",
    "# -----------------\n",
    "\n",
    "check_1_c(réponse)"
   ]
  }
 ],
 "metadata": {
  "celltoolbar": "Create Assignment",
  "kernelspec": {
   "display_name": "Python 3",
   "language": "python",
   "name": "python3"
  },
  "language_info": {
   "codemirror_mode": {
    "name": "ipython",
    "version": 3
   },
   "file_extension": ".py",
   "mimetype": "text/x-python",
   "name": "python",
   "nbconvert_exporter": "python",
   "pygments_lexer": "ipython3",
   "version": "3.7.1"
  }
 },
 "nbformat": 4,
 "nbformat_minor": 2
}
