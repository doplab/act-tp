{
 "cells": [
  {
   "cell_type": "markdown",
   "metadata": {},
   "source": [
    "### Binary Search [1]\n",
    "On l'appelle **recherche dichotomique** en français.\n",
    "\n",
    "C'est un algorithme de recherche pour trouver la position d'un élément dans une liste triée. \n",
    "L'algorithme est le suivant :\n",
    "1. Trouver la position la plus centrale de la liste\n",
    "2. Comparer la valeur de cette case à l'élément recherché\n",
    "3. Si la valeur est égale à l'élément, alors retourner la position\n",
    "4. Sinon reprendre la procédure dans la moitié de la liste pertinente.\n",
    "\n",
    "[1] https://fr.wikipedia.org/wiki/Recherche_dichotomique"
   ]
  },
  {
   "cell_type": "markdown",
   "metadata": {},
   "source": [
    "Complétez la fonction **binary_search** (en utilisant la boucle **while**)"
   ]
  },
  {
   "cell_type": "code",
   "execution_count": null,
   "metadata": {},
   "outputs": [],
   "source": [
    "def binary_search(A, key):\n",
    "    # VOTRE CODE ICI\n",
    "    \n",
    "    \n",
    "    "
   ]
  },
  {
   "cell_type": "code",
   "execution_count": null,
   "metadata": {},
   "outputs": [],
   "source": [
    "A = [1, 2, 3, 4, 5, 6, 7, 8, 9, 10, 11, 12, 13, 14, 15]\n",
    "print(binary_search(A, 8))     # doit retourner True\n",
    "print(binary_search(A, 0))     # doit retourner False"
   ]
  },
  {
   "cell_type": "markdown",
   "metadata": {},
   "source": [
    "Complétez la fonction récursive **binary_search_recursive**. Cette fois, il faut que vous passez les paramètres **low** et **high**."
   ]
  },
  {
   "cell_type": "code",
   "execution_count": null,
   "metadata": {},
   "outputs": [],
   "source": [
    "def binary_search_recursive(A, low, high, key):\n",
    "    # VOTRE CODE ICI\n",
    "    \n",
    "    \n",
    "    "
   ]
  },
  {
   "cell_type": "code",
   "execution_count": null,
   "metadata": {},
   "outputs": [],
   "source": [
    "A = [1, 2, 3, 4, 5, 6, 7, 8, 9, 10, 11, 12, 13, 14, 15]\n",
    "low = 0\n",
    "high = len(A)-1\n",
    "print(binary_search_recursive(A, low, high, 8))     # doit retourner True\n",
    "print(binary_search_recursive(A, low, high, 0))     # doit retourner False"
   ]
  },
  {
   "cell_type": "markdown",
   "metadata": {},
   "source": [
    "#### Supplémentaire\n",
    "On a ajouté la variable **c** dans le code. Ainsi, on peut voir combien d'étapes il faut pour trouver un élément."
   ]
  },
  {
   "cell_type": "code",
   "execution_count": null,
   "metadata": {},
   "outputs": [],
   "source": [
    "def binary_search_complexity(A, key):\n",
    "    # VOTRE CODE ICI\n",
    "    \n",
    "    \n",
    "    "
   ]
  },
  {
   "cell_type": "code",
   "execution_count": null,
   "metadata": {},
   "outputs": [],
   "source": [
    "A = [1, 2, 3, 4, 5, 6, 7, 8, 9, 10, 11, 12, 13, 14, 15]\n",
    "print(binary_search_complexity(A, 8))\n",
    "print(binary_search_complexity(A, 7))"
   ]
  }
 ],
 "metadata": {
  "kernelspec": {
   "display_name": "Python 3",
   "language": "python",
   "name": "python3"
  },
  "language_info": {
   "codemirror_mode": {
    "name": "ipython",
    "version": 3
   },
   "file_extension": ".py",
   "mimetype": "text/x-python",
   "name": "python",
   "nbconvert_exporter": "python",
   "pygments_lexer": "ipython3",
   "version": "3.6.7"
  }
 },
 "nbformat": 4,
 "nbformat_minor": 2
}
