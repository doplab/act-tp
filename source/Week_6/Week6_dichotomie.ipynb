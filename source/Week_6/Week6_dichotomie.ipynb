{
 "cells": [
  {
   "cell_type": "markdown",
   "metadata": {},
   "source": [
    "## Dichotomie"
   ]
  },
  {
   "cell_type": "markdown",
   "metadata": {},
   "source": [
    "La recherche par dichotomie vue en cours consiste à parcourir la collection en réduisant par moitié l'espace de recherche et ainsi optimizer le temps de calcul."
   ]
  },
  {
   "cell_type": "markdown",
   "metadata": {},
   "source": [
    "1) Ecrire une fonction qui prend en entrée une liste trié et un nombre entier. La fonction doit retourner True si le nombre appartient à la liste ainsi que son index (renvoyer un tupple). Test ton programme avec la liste : [12, 30, 67, 89, 120, 290, 378], avec n=378 et n=345\n"
   ]
  },
  {
   "cell_type": "code",
   "execution_count": null,
   "metadata": {},
   "outputs": [],
   "source": [
    "def bin_search(L, elem):\n",
    "    \"\"\"Ecrire ton code ici\"\"\"\n",
    "    return"
   ]
  },
  {
   "cell_type": "code",
   "execution_count": null,
   "metadata": {},
   "outputs": [],
   "source": [
    "liste = [12, 30, 67, 89, 120, 290, 378]\n",
    "n = 378\n",
    "print(\"{} => {}\".format(n, bin_search(liste, n)))\n",
    "n = 385\n",
    "print(\"{} => {}\".format(n, bin_search(liste, n)))"
   ]
  },
  {
   "cell_type": "markdown",
   "metadata": {},
   "source": [
    "2) Ecrire l'algorithm de binary search de manière recursive. Votre fonction prendra en paramètre: une liste L, un element n, et deux arguments qui consistent aux indices start, end de votre espace de recherche."
   ]
  },
  {
   "cell_type": "code",
   "execution_count": null,
   "metadata": {},
   "outputs": [],
   "source": [
    "def bin_search_rec(L, n, start=0, end=None):\n",
    "    \"\"\"Ecrire ton code ici\"\"\"\n",
    "    return"
   ]
  },
  {
   "cell_type": "code",
   "execution_count": null,
   "metadata": {},
   "outputs": [],
   "source": [
    "liste = [12, 30, 67, 89, 120, 290, 378]\n",
    "n = 378\n",
    "print(\"{} => {}\".format(n, bin_search_rec(liste, n)))\n",
    "n = 345\n",
    "print(\"{} => {}\".format(n, bin_search_rec(liste, n)))"
   ]
  },
  {
   "cell_type": "markdown",
   "metadata": {},
   "source": [
    "2) En utilisant la fonction ci-dessous, écrire une fonction qui effectue un binary search pour un liste 2D (deux dimensions/matrice). Les nombre dans le tableau sont rangés dans l'ordre croissant. Essaie les différents cas pour vérifier ton code."
   ]
  },
  {
   "cell_type": "code",
   "execution_count": null,
   "metadata": {},
   "outputs": [],
   "source": [
    "def bin_search_left(L, n):\n",
    "    start, end = 0, len(L)\n",
    "\n",
    "    while start <= end:\n",
    "        mid = int((start + end)/ 2)\n",
    "        mid_val = L[mid]\n",
    "\n",
    "        if n > mid_val:\n",
    "            start = mid + 1\n",
    "        else:\n",
    "            end = mid -1\n",
    "    return start\n"
   ]
  },
  {
   "cell_type": "code",
   "execution_count": null,
   "metadata": {},
   "outputs": [],
   "source": [
    "def bin_search_2d(M, n):\n",
    "    \"\"\"Ecrire ton code ici\"\"\"\n",
    "    return\n",
    "    "
   ]
  },
  {
   "cell_type": "code",
   "execution_count": null,
   "metadata": {},
   "outputs": [],
   "source": [
    "n = 77\n",
    "M = [[1, 4, 5, 6], [7, 10, 13, 18], [21, 32, 54, 65]]\n",
    "print(M)\n",
    "print(\"{} => {}\".format(n, bin_search_2d(M, n)))"
   ]
  },
  {
   "cell_type": "code",
   "execution_count": null,
   "metadata": {},
   "outputs": [],
   "source": []
  }
 ],
 "metadata": {
  "kernelspec": {
   "display_name": "Python 3",
   "language": "python",
   "name": "python3"
  },
  "language_info": {
   "codemirror_mode": {
    "name": "ipython",
    "version": 3
   },
   "file_extension": ".py",
   "mimetype": "text/x-python",
   "name": "python",
   "nbconvert_exporter": "python",
   "pygments_lexer": "ipython3",
   "version": "3.7.2"
  }
 },
 "nbformat": 4,
 "nbformat_minor": 2
}
