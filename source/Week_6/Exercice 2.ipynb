{
 "cells": [
  {
   "cell_type": "markdown",
   "metadata": {
    "colab_type": "text",
    "id": "WnylxGt04Qc-",
    "nbgrader": {
     "grade": false,
     "grade_id": "cell-82ddef937adea130",
     "locked": true,
     "schema_version": 3,
     "solution": false,
     "task": false
    }
   },
   "source": [
    "## Exercice 2: Recherche binaire\n",
    "\n",
    "Le but de la recherche binaire est de trouver l'élément x plus rapidement.\n",
    "Pour cela, une **liste triée** d'éléments est nécessaire. \n",
    "\n",
    "La complexité de l'algorithme de recherche binaire est de O(log n) mais il ne faut pas oublier qu'obtenir une liste triée coûte aussi. \n",
    "\n",
    "L'algorithme de recherche binaire divise l'intervalle de recherche par deux à chaque coup jusqu'à ce qu'il trouve l'élément x ou que l'intervalle soit vide. \n",
    "\n",
    "Ainsi, si x est plus petit que l'élément du milieu de l'intervalle, l'algorithme se concentre sur la gauche pour créer son prochain intervalle de recherche sinon sur la droite.\n",
    "\n",
    "### Partie A:\n",
    "\n",
    "A partir de la liste d'éléments **triée** ci-dessous, écrivez premièrement une fonction **récursive** puis une fonction **itérative** qui cherche x dans la liste. La fonction doit retourner l'index de l'élément correspondant de la liste si x est dans la liste et \"-1\" dans le cas contraire. Ici, x = 5.\n"
   ]
  },
  {
   "cell_type": "code",
   "execution_count": 42,
   "metadata": {
    "colab": {
     "base_uri": "https://localhost:8080/",
     "height": 51
    },
    "colab_type": "code",
    "id": "8sLxBYjt4VAk",
    "outputId": "d161f216-c087-4a1e-d4f8-0d391ad5dd80"
   },
   "outputs": [
    {
     "name": "stdout",
     "output_type": "stream",
     "text": [
      "X in list at index:  3\n"
     ]
    },
    {
     "data": {
      "text/plain": [
       "3"
      ]
     },
     "execution_count": 42,
     "metadata": {
      "tags": []
     },
     "output_type": "execute_result"
    }
   ],
   "source": [
    "# Version récursive\n",
    "def rec_bin_search(list,s,r,x):\n",
    " #complètez ici        "
   ]
  },
  {
   "cell_type": "code",
   "execution_count": null,
   "metadata": {
    "nbgrader": {
     "grade": false,
     "grade_id": "cell-d1585316575c1db4",
     "locked": true,
     "schema_version": 3,
     "solution": false,
     "task": false
    }
   },
   "outputs": [],
   "source": [
    "liste=[1,3,4,5,7,8,9,15]\n",
    "s = 0\n",
    "r = len(liste)\n",
    "x = 5\n",
    "rec_bin_search(liste,s, r, x)"
   ]
  },
  {
   "cell_type": "code",
   "execution_count": 43,
   "metadata": {
    "colab": {
     "base_uri": "https://localhost:8080/",
     "height": 85
    },
    "colab_type": "code",
    "id": "GzVj0DIFdhSw",
    "nbgrader": {
     "grade": false,
     "grade_id": "cell-fe3fe6d60361b353",
     "locked": true,
     "schema_version": 3,
     "solution": false,
     "task": false
    },
    "outputId": "aafcbf56-ecaf-460d-832d-d3cb86e9d266",
    "scrolled": true
   },
   "outputs": [
    {
     "name": "stdout",
     "output_type": "stream",
     "text": [
      "X in list at index:  3\n",
      "3\n",
      "CPU times: user 885 µs, sys: 1 ms, total: 1.89 ms\n",
      "Wall time: 1.42 ms\n"
     ]
    }
   ],
   "source": [
    "%%time\n",
    "print(rec_bin_search(liste,s, r, x))"
   ]
  },
  {
   "cell_type": "code",
   "execution_count": 44,
   "metadata": {
    "colab": {
     "base_uri": "https://localhost:8080/",
     "height": 51
    },
    "colab_type": "code",
    "id": "wJfYd6Zo4YjE",
    "outputId": "87e9ee73-b517-4b4d-eb4b-8a2a24cef627"
   },
   "outputs": [
    {
     "name": "stdout",
     "output_type": "stream",
     "text": [
      "X presents in list at index:  4\n"
     ]
    },
    {
     "data": {
      "text/plain": [
       "4"
      ]
     },
     "execution_count": 44,
     "metadata": {
      "tags": []
     },
     "output_type": "execute_result"
    }
   ],
   "source": [
    "# Version itérative\n",
    "def it_bin_search(list,s,r,x):\n",
    "  #complètez ici"
   ]
  },
  {
   "cell_type": "code",
   "execution_count": null,
   "metadata": {
    "nbgrader": {
     "grade": false,
     "grade_id": "cell-3f2c97a75ac85442",
     "locked": true,
     "schema_version": 3,
     "solution": false,
     "task": false
    }
   },
   "outputs": [],
   "source": [
    "liste = [1,3,4,5,7,8,9,15]\n",
    "s = 0\n",
    "r = len(liste)-1\n",
    "x = 7\n",
    "it_bin_search(liste,s, r, x)"
   ]
  },
  {
   "cell_type": "code",
   "execution_count": 45,
   "metadata": {
    "colab": {
     "base_uri": "https://localhost:8080/",
     "height": 85
    },
    "colab_type": "code",
    "id": "XGLIycRXdo11",
    "nbgrader": {
     "grade": false,
     "grade_id": "cell-1969da06824059e4",
     "locked": true,
     "schema_version": 3,
     "solution": false,
     "task": false
    },
    "outputId": "f5b07472-8320-4355-f3d5-6d7863686f7f"
   },
   "outputs": [
    {
     "name": "stdout",
     "output_type": "stream",
     "text": [
      "X presents in list at index:  4\n",
      "4\n",
      "CPU times: user 702 µs, sys: 999 µs, total: 1.7 ms\n",
      "Wall time: 1.72 ms\n"
     ]
    }
   ],
   "source": [
    "%%time\n",
    "print(it_bin_search(liste,s, r, x))"
   ]
  },
  {
   "cell_type": "markdown",
   "metadata": {
    "colab_type": "text",
    "id": "aXfApykD-4-E",
    "nbgrader": {
     "grade": false,
     "grade_id": "cell-5945d05256974d86",
     "locked": true,
     "schema_version": 3,
     "solution": false,
     "task": false
    }
   },
   "source": [
    "*La recherche binaire regarde les comparaisons d'ordre, alors que la recherche séquentielle regarde les comparaisons d'égalité pour trouver x.*"
   ]
  },
  {
   "cell_type": "markdown",
   "metadata": {
    "colab_type": "text",
    "id": "kMo0tnuQUD2O",
    "nbgrader": {
     "grade": false,
     "grade_id": "cell-c120cb7b580de920",
     "locked": true,
     "schema_version": 3,
     "solution": false,
     "task": false
    }
   },
   "source": [
    "### Partie B: \n",
    "\n",
    "Considérez une liste d’entiers non trié `L` ainsi qu’un entier `e`. Ecrivez un programme qui retourne l'élément de la liste L le plus proche de `e` en utilisant une recherche binaire.\n",
    "\n",
    "On vous donne une liste d’entiers non trié L ainsi qu’un entier e. Ecrivez un programme retournant la valeur dans L la plus proche de e en utilisant une recherche binaire (binary search). \n",
    "\n",
    "Résultat attendu : 56"
   ]
  },
  {
   "cell_type": "code",
   "execution_count": 46,
   "metadata": {
    "colab": {
     "base_uri": "https://localhost:8080/",
     "height": 34
    },
    "colab_type": "code",
    "id": "cGV85FTBUkvL",
    "outputId": "f02d0d95-51d1-492e-b3f2-b2706fed5e5d"
   },
   "outputs": [
    {
     "data": {
      "text/plain": [
       "56"
      ]
     },
     "execution_count": 46,
     "metadata": {
      "tags": []
     },
     "output_type": "execute_result"
    }
   ],
   "source": [
    "def find_closest_bin(liste,n):\n",
    "    #complètez ici"
   ]
  },
  {
   "cell_type": "code",
   "execution_count": null,
   "metadata": {
    "nbgrader": {
     "grade": false,
     "grade_id": "cell-0976feaa26d83d4f",
     "locked": true,
     "schema_version": 3,
     "solution": false,
     "task": false
    }
   },
   "outputs": [],
   "source": [
    "L = [1, 2, 5, 8, 12, 16, 24, 56, 58, 63]  \n",
    "e = 41\n",
    "find_closest_bin(L,e)"
   ]
  },
  {
   "cell_type": "code",
   "execution_count": 47,
   "metadata": {
    "colab": {
     "base_uri": "https://localhost:8080/",
     "height": 68
    },
    "colab_type": "code",
    "id": "GdmYqQGydu28",
    "nbgrader": {
     "grade": false,
     "grade_id": "cell-b84a3558ffa43589",
     "locked": true,
     "schema_version": 3,
     "solution": false,
     "task": false
    },
    "outputId": "ad48b735-2279-4378-eb67-3e379e1a9543"
   },
   "outputs": [
    {
     "name": "stdout",
     "output_type": "stream",
     "text": [
      "56\n",
      "CPU times: user 68 µs, sys: 0 ns, total: 68 µs\n",
      "Wall time: 72.2 µs\n"
     ]
    }
   ],
   "source": [
    "%%time\n",
    "print(find_closest_bin(L,e))"
   ]
  },
  {
   "cell_type": "markdown",
   "metadata": {
    "colab_type": "text",
    "id": "XLBGPMQBbekj",
    "nbgrader": {
     "grade": false,
     "grade_id": "cell-6c0d2f6ce67118c2",
     "locked": true,
     "schema_version": 3,
     "solution": false,
     "task": false
    }
   },
   "source": [
    "### Partie C:\n",
    "\n",
    "Considérez une liste d’entiers triés `L` ainsi qu’un entier `e`. Ecrivez un programme qui retourne l'index de l'élément `e` de la liste L en utilisant une recherche binaire. Si `e` n’est pas dans `L`, retournez -1.\n",
    "\n",
    "Exemple:\n",
    "\n",
    "    L = [1231321,3213125,3284016,4729273,5492710] \n",
    "\n",
    "    e = 3284016\n",
    "\n",
    "Résultat attendu: 2"
   ]
  },
  {
   "cell_type": "code",
   "execution_count": 48,
   "metadata": {
    "colab": {
     "base_uri": "https://localhost:8080/",
     "height": 34
    },
    "colab_type": "code",
    "id": "asYyaA9PbqC8",
    "outputId": "05184f99-2cd5-4186-b62e-dfb95943c1ff"
   },
   "outputs": [
    {
     "data": {
      "text/plain": [
       "2"
      ]
     },
     "execution_count": 48,
     "metadata": {
      "tags": []
     },
     "output_type": "execute_result"
    }
   ],
   "source": [
    "def binary_search(L,e):\n",
    "    first = 0\n",
    "    last = len(L)-1\n",
    "  #complètez ici"
   ]
  },
  {
   "cell_type": "code",
   "execution_count": null,
   "metadata": {
    "nbgrader": {
     "grade": false,
     "grade_id": "cell-53b89c4ac5b402d3",
     "locked": true,
     "schema_version": 3,
     "solution": false,
     "task": false
    }
   },
   "outputs": [],
   "source": [
    "L = [1231321,3213125,3284016,4729273,5492710]\n",
    "e = 3284016\n",
    "binary_search(L,e)"
   ]
  },
  {
   "cell_type": "code",
   "execution_count": 49,
   "metadata": {
    "colab": {
     "base_uri": "https://localhost:8080/",
     "height": 68
    },
    "colab_type": "code",
    "id": "bSujjXJbdz-k",
    "nbgrader": {
     "grade": false,
     "grade_id": "cell-d61f1a6fcb8fc386",
     "locked": true,
     "schema_version": 3,
     "solution": false,
     "task": false
    },
    "outputId": "eef40cdb-3309-44ea-a004-5529bf00dd9d"
   },
   "outputs": [
    {
     "name": "stdout",
     "output_type": "stream",
     "text": [
      "2\n",
      "CPU times: user 174 µs, sys: 998 µs, total: 1.17 ms\n",
      "Wall time: 1.52 ms\n"
     ]
    }
   ],
   "source": [
    "%%time\n",
    "print(binary_search(L,e))"
   ]
  },
  {
   "cell_type": "markdown",
   "metadata": {
    "colab_type": "text",
    "id": "IloMwjmnXFRv",
    "nbgrader": {
     "grade": false,
     "grade_id": "cell-3cf69811ce43aa3b",
     "locked": true,
     "schema_version": 3,
     "solution": false,
     "task": false
    }
   },
   "source": [
    "## Exercice: Matrice\n",
    "\n",
    "Considérez une matrix ordrée `m` et un élément `l`. \n",
    "\n",
    "Une matrix ordrée répond aux critères suivants :\n",
    "\n",
    "• m[i][j]<=m[i+1][j] (une ligne va du plus petit au plus grand)\n",
    "\n",
    "• m[i][j]<=m[i][j+1] (une colonne va du plus petit au plus grand)\n",
    "\n",
    "Ecrivez un algorithme qui retourne la position de l’élément `l` dans `m`. Si `l` n’est pas présent dans `m` alors il faut retourner (-1, -1)\n",
    "\n",
    "**Exemple 1:** si m=[[1,2,3,4],[4,5,7,8],[5,6,8,10],[6,7,9,11]] et que l=7. Nous souhaitons avoir la réponse (1,2) OU (3,1) (l’une des deux, pas besoin de retourner les deux résultats). \n",
    "\n",
    "**Exemple 2:** si m=[[1,2],[3,4]] et que l=7. Nous souhaitons avoir la réponse (-1,-1) car 7 n’est pas dans la matrix m."
   ]
  },
  {
   "cell_type": "code",
   "execution_count": 1,
   "metadata": {
    "colab": {
     "base_uri": "https://localhost:8080/",
     "height": 34
    },
    "colab_type": "code",
    "id": "kDEmjcCUYfUv",
    "outputId": "d7cb2db1-103b-4098-b8e6-eccab7edc2c3"
   },
   "outputs": [
    {
     "ename": "SyntaxError",
     "evalue": "unexpected EOF while parsing (<ipython-input-1-b4c0118f29b9>, line 2)",
     "output_type": "error",
     "traceback": [
      "\u001b[0;36m  File \u001b[0;32m\"<ipython-input-1-b4c0118f29b9>\"\u001b[0;36m, line \u001b[0;32m2\u001b[0m\n\u001b[0;31m    #complètez ici\u001b[0m\n\u001b[0m                  ^\u001b[0m\n\u001b[0;31mSyntaxError\u001b[0m\u001b[0;31m:\u001b[0m unexpected EOF while parsing\n"
     ]
    }
   ],
   "source": [
    "def search_in_matrix(m,l):\n",
    " #complètez ici"
   ]
  },
  {
   "cell_type": "code",
   "execution_count": null,
   "metadata": {
    "nbgrader": {
     "grade": false,
     "grade_id": "cell-5599d329c5ee8ece",
     "locked": true,
     "schema_version": 3,
     "solution": false,
     "task": false
    }
   },
   "outputs": [],
   "source": [
    "m=[[1,2,3,4],[4,5,7,8],[5,6,8,10],[6,7,9,11]]\n",
    "l=7\n",
    "search_in_matrix(m,l)"
   ]
  }
 ],
 "metadata": {
  "celltoolbar": "Create Assignment",
  "colab": {
   "collapsed_sections": [],
   "name": "Week6exos.ipynb",
   "provenance": []
  },
  "kernel_info": {
   "name": "python3"
  },
  "kernelspec": {
   "display_name": "Python 3",
   "language": "python",
   "name": "python3"
  },
  "language_info": {
   "codemirror_mode": {
    "name": "ipython",
    "version": 3
   },
   "file_extension": ".py",
   "mimetype": "text/x-python",
   "name": "python",
   "nbconvert_exporter": "python",
   "pygments_lexer": "ipython3",
   "version": "3.7.3"
  },
  "nteract": {
   "version": "0.15.0"
  }
 },
 "nbformat": 4,
 "nbformat_minor": 1
}
