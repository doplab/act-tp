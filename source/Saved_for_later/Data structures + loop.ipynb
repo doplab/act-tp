{
 "cells": [
  {
   "cell_type": "markdown",
   "metadata": {},
   "source": [
    "### D. Structure de données\n",
    "\n",
    "_Liste, Tuple, Array_\n",
    "\n",
    "Créez et affichez une liste `my_list` contenant 5 chiffres.\n",
    "\n",
    "Affichez uniquement les 3 premiers chiffres de `my_list`. "
   ]
  },
  {
   "cell_type": "code",
   "execution_count": 1,
   "metadata": {},
   "outputs": [
    {
     "name": "stdout",
     "output_type": "stream",
     "text": [
      "[1, 3, 5, 7, 11]\n",
      "[1, 3, 5]\n"
     ]
    }
   ],
   "source": [
    "my_list = [1,3,5,7,11]\n",
    "print(my_list)\n",
    "print(my_list[0:3])"
   ]
  },
  {
   "cell_type": "markdown",
   "metadata": {},
   "source": [
    "Créez et affichez une list `your_list` contenant 5 ingrédients de cuisine. \n",
    "\n",
    "Ajoutez et affichez 2 ingrédients de cuisine à `your_list`.\n",
    "\n",
    "Ajoutez et affichez 1 ingrédient de cuisine à `your_list` en utilisant la fonction `append()`.\n",
    "\n",
    "Affichez l'ingrédient qui se trouve à la position 3 de la liste `your_list`.\n",
    "\n",
    "Supprimez et affichez le dernier élément de `your_list` en utilisant la fonction `pop()`.\n",
    "\n",
    "Remplacez et affichez les deux premiers éléments de `your_list` par \"fruits\".\n",
    "\n",
    "Supprimez et affichez les deux premiers éléments de `your_list`.\n",
    "\n",
    "Supprimez et affichez toute la liste `your_list`. \n",
    "\n",
    "Vérifiez que la liste est vide grâce à la fonction `len()`."
   ]
  },
  {
   "cell_type": "code",
   "execution_count": 2,
   "metadata": {},
   "outputs": [
    {
     "name": "stdout",
     "output_type": "stream",
     "text": [
      "['pain', 'lait', 'farine', 'sucre', 'oeufs']\n",
      "['pain', 'lait', 'farine', 'sucre', 'oeufs', 'poivrons', 'courgettes']\n",
      "['pain', 'lait', 'farine', 'sucre', 'oeufs', 'poivrons', 'courgettes', 'chocolat']\n",
      "sucre\n",
      "['pain', 'lait', 'farine', 'sucre', 'oeufs', 'poivrons', 'courgettes']\n",
      "['fruits', 'farine', 'sucre', 'oeufs', 'poivrons', 'courgettes']\n",
      "['sucre', 'oeufs', 'poivrons', 'courgettes']\n",
      "[]\n",
      "0\n"
     ]
    }
   ],
   "source": [
    "your_list = [\"pain\",\"lait\",\"farine\",\"sucre\",\"oeufs\"]\n",
    "print(your_list)\n",
    "your_list += [\"poivrons\",\"courgettes\"]\n",
    "print(your_list)\n",
    "your_list.append(\"chocolat\")\n",
    "print(your_list)\n",
    "print(your_list[3])\n",
    "your_list.pop()\n",
    "print(your_list)\n",
    "your_list[0:2] = [\"fruits\"]\n",
    "print(your_list)\n",
    "your_list[0:2] = []\n",
    "print(your_list)\n",
    "your_list[:] = []\n",
    "print(your_list)\n",
    "print(len(your_list))"
   ]
  },
  {
   "cell_type": "markdown",
   "metadata": {},
   "source": [
    "Créez et affichez un tuple `your_tuple` contenant 5 ingrédients de cuisine.\n",
    "\n",
    "Affichez la longueur de `your_tuple` avec la fonction `len()`."
   ]
  },
  {
   "cell_type": "code",
   "execution_count": 3,
   "metadata": {},
   "outputs": [
    {
     "name": "stdout",
     "output_type": "stream",
     "text": [
      "('pain', 'lait', 'farine', 'sucre', 'oeufs')\n",
      "5\n"
     ]
    }
   ],
   "source": [
    "your_tuple = (\"pain\",\"lait\",\"farine\",\"sucre\",\"oeufs\")\n",
    "print(your_tuple)\n",
    "print(len(your_tuple))"
   ]
  },
  {
   "cell_type": "markdown",
   "metadata": {},
   "source": [
    "Créez et affichez un array `mes_courses` ayant comme clés vos 5 ingrédients et comme valeurs les quantités respectives à acheter. \n",
    "\n",
    "Ajoutez et affichez une nouvelle paire clé-valeur à `mes_courses`.\n",
    "\n",
    "Supprimez et affichez la première paire clé-valeur.\n",
    "\n",
    "Affichez toutes les clés de `mes_courses`.\n",
    "\n",
    "Affichez toutes les valeurs de `mes_courses`.\n",
    "\n",
    "Vérifiez si un ingrédient est dans `mes_courses` en une seule ligne. Trouvez deux possibilités qui vous donnent une réponse booléenne."
   ]
  },
  {
   "cell_type": "code",
   "execution_count": 4,
   "metadata": {},
   "outputs": [
    {
     "name": "stdout",
     "output_type": "stream",
     "text": [
      "{'pain': 1, 'lait': 3, 'farine': 2, 'sucre': 1, 'oeufs': 6}\n",
      "{'pain': 1, 'lait': 3, 'farine': 2, 'sucre': 1, 'oeufs': 6, 'chocolat': 3}\n",
      "{'lait': 3, 'farine': 2, 'sucre': 1, 'oeufs': 6, 'chocolat': 3}\n",
      "dict_keys(['lait', 'farine', 'sucre', 'oeufs', 'chocolat'])\n",
      "dict_values([3, 2, 1, 6, 3])\n",
      "True\n",
      "True\n"
     ]
    }
   ],
   "source": [
    "mes_courses = {\"pain\":1,\"lait\":3,\"farine\":2,\"sucre\":1,\"oeufs\":6}\n",
    "print(mes_courses)\n",
    "mes_courses[\"chocolat\"] = 3\n",
    "print(mes_courses)\n",
    "del mes_courses[\"pain\"]\n",
    "print(mes_courses)\n",
    "print(mes_courses.keys())\n",
    "print(mes_courses.values())\n",
    "print(\"lait\"in mes_courses)\n",
    "print(\"lait\"in mes_courses.keys())"
   ]
  },
  {
   "cell_type": "markdown",
   "metadata": {},
   "source": [
    "### F. Loops\n",
    "_For, while, break, continue_\n",
    "\n",
    "Créez une liste `alpha` de 5 lettres.\n",
    "\n",
    "Définissez une variable de type string `beta` contenant \"Version grecque\".\n",
    "\n",
    "Pour chaque élément `i` de `alpha`, affichez l'élément `i`. \n",
    "\n",
    "Utilisez la fonction `range()` afin d'afficher les chiffres de `0` à `4` y compris par ligne.\n",
    "\n",
    "Utilisez une boucle for pour affichez ligne par ligne les charactères de `beta`. \n",
    "\n",
    "Définissez une variable `length` à 0. Utilisez une boucle `for` afin d'incrémenter 1 à length à chaque itération. \n",
    "\n",
    "Vérifiez et affichez que la fonction `len()` de beta est égale à `length`. Une réponse booléenne est attendue. \n",
    "\n",
    "Pour chaque élément `i` de rang 5, affichez `i` sauf si `i` est égal à 3. Utilisez le keyword `continue`. "
   ]
  },
  {
   "cell_type": "code",
   "execution_count": 5,
   "metadata": {},
   "outputs": [
    {
     "name": "stdout",
     "output_type": "stream",
     "text": [
      "a\n",
      "b\n",
      "c\n",
      "d\n",
      "e\n",
      "0\n",
      "1\n",
      "2\n",
      "3\n",
      "4\n",
      "V\n",
      "e\n",
      "r\n",
      "s\n",
      "i\n",
      "o\n",
      "n\n",
      " \n",
      "g\n",
      "r\n",
      "e\n",
      "c\n",
      "q\n",
      "u\n",
      "e\n",
      "True\n",
      "0\n",
      "1\n",
      "2\n",
      "4\n"
     ]
    }
   ],
   "source": [
    "alpha = [\"a\",\"b\",\"c\",\"d\",\"e\"]\n",
    "beta = \"Version grecque\"\n",
    "for i in alpha:\n",
    "  print(i)\n",
    "for i in range(5):\n",
    "  print(i)\n",
    "for character in beta:\n",
    "  print(character)\n",
    "length=0\n",
    "for ch in beta:\n",
    "  length+=1\n",
    "print (len(beta)==length)\n",
    "for i in range(5):\n",
    "  if i==3:\n",
    "    continue\n",
    "  print (i)"
   ]
  },
  {
   "cell_type": "markdown",
   "metadata": {},
   "source": [
    "Définissez la variable `qty_beer` à 1.\n",
    "\n",
    "Tant que `qty_beer` est inférieur à 5, affichez \"I can have one more\". Sinon affichez \"I have to go back home\". Utilisez la fonction `while` et n'oubliez pas d'incrémenter `qty_beer` de 1 à chaque itération pour ne pas avoir une boucle infinie.  \n",
    "\n",
    "Redéfinissez `qty_beer` à 1. \n",
    "\n",
    "Tant que la condition est vraie, affichez \"Je suis un champion\" et incrémenter `qty_beer` de 1. Si `qty_beer` plus grand ou égal à 5, sortez de la boucle. Utilisez le keyword break. "
   ]
  },
  {
   "cell_type": "code",
   "execution_count": 6,
   "metadata": {},
   "outputs": [
    {
     "name": "stdout",
     "output_type": "stream",
     "text": [
      "I can have one more\n",
      "I can have one more\n",
      "I can have one more\n",
      "I can have one more\n",
      "I have to go back home\n",
      "Je suis un champion\n",
      "Je suis un champion\n",
      "Je suis un champion\n",
      "Je suis un champion\n"
     ]
    }
   ],
   "source": [
    "qty_beer=1\n",
    "while qty_beer<5:\n",
    "  print(\"I can have one more\")\n",
    "  qty_beer+=1\n",
    "else: \n",
    "  print(\"I have to go back home\")\n",
    "qty_beer=1\n",
    "while True:\n",
    "  print(\"Je suis un champion\")\n",
    "  qty_beer+=1\n",
    "  if qty_beer>=5:\n",
    "    break"
   ]
  },
  {
   "cell_type": "code",
   "execution_count": null,
   "metadata": {},
   "outputs": [],
   "source": []
  }
 ],
 "metadata": {
  "kernelspec": {
   "display_name": "Python 3",
   "language": "python",
   "name": "python3"
  },
  "language_info": {
   "codemirror_mode": {
    "name": "ipython",
    "version": 3
   },
   "file_extension": ".py",
   "mimetype": "text/x-python",
   "name": "python",
   "nbconvert_exporter": "python",
   "pygments_lexer": "ipython3",
   "version": "3.7.2"
  }
 },
 "nbformat": 4,
 "nbformat_minor": 2
}
