{
  "cells": [
    {
      "cell_type": "markdown",
      "source": [
        "# Algorithmique et Pensée Computationnelle"
      ],
      "metadata": {}
    },
    {
      "cell_type": "markdown",
      "source": [
        "# Introduction à Python\n",
        "\n",
        "### A. Fonction input\n",
        "\n",
        "_Demande input d'utilisateur_\n",
        "\n",
        "Completez le code afin que le contenu de input_string soit l'output."
      ],
      "metadata": {
        "colab_type": "text",
        "deletable": false,
        "editable": false,
        "id": "jxZOuPVbYPKd",
        "nbgrader": {
          "cell_type": "markdown",
          "checksum": "5701a604715198fd40a390fc08577ce3",
          "grade": false,
          "grade_id": "cell-1fe68564e01bae54",
          "locked": true,
          "schema_version": 3,
          "solution": false,
          "task": false
        }
      }
    },
    {
      "cell_type": "code",
      "source": [
        "input_string = input(\"Quel est votre prénom? \")\n",
        "print(\"Bonjour, \", input_string)"
      ],
      "outputs": [
        {
          "output_type": "stream",
          "name": "stdout",
          "text": [
            "Quel est votre prénom? Tanja\n",
            "Bonjour,  Tanja\n"
          ]
        }
      ],
      "execution_count": 7,
      "metadata": {
        "colab": {},
        "colab_type": "code",
        "id": "GO2iHte9bXXj"
      }
    },
    {
      "cell_type": "markdown",
      "source": [
        "### Exercice:\n",
        "Modifiez le code ci dessus pour également demander le nom de famille puis affichez `Bonjour, {prénom} {nom}`"
      ],
      "metadata": {
        "deletable": false,
        "editable": false,
        "nbgrader": {
          "cell_type": "markdown",
          "checksum": "d43f12763561d7dd84063e4529ebbe0c",
          "grade": false,
          "grade_id": "cell-b969855d100980e9",
          "locked": true,
          "schema_version": 3,
          "solution": false,
          "task": false
        }
      }
    },
    {
      "cell_type": "code",
      "source": [
        "input_string = input(\"Quel est votre prénom? \")\n",
        "nom = input(\"Quel est votre nom? \")\n",
        "print(\"Bonjour, \", input_string, nom)"
      ],
      "outputs": [
        {
          "output_type": "stream",
          "name": "stdout",
          "text": [
            "Quel est votre prénom? Tanja\n",
            "Quel est votre nom? Markotic\n",
            "Bonjour,  Tanja Markotic\n"
          ]
        }
      ],
      "execution_count": 6,
      "metadata": {}
    },
    {
      "cell_type": "markdown",
      "source": [
        "### B. Variables\n",
        "\n",
        "_Définition de variable, type de variable, conversion de type, opérateurs arithmétiques, opérateurs booléens et opérateurs de comparaison._\n",
        "\n",
        "Introduissez une variable de type string nom_chien, une variable de type integer age_chien.\n",
        "\n",
        "Affichez \"Mon chien nommé (nom_chien) et agé de (age_chien) ans.\" en utilisant la fonction format().\n",
        "\n",
        "Affichez \"Mon chien nommé (nom_chien) et agé de (age_chien) ans.\" en utilisant le symbole %."
      ],
      "metadata": {
        "colab_type": "text",
        "deletable": false,
        "editable": false,
        "id": "FG9GThsCdbMm",
        "nbgrader": {
          "cell_type": "markdown",
          "checksum": "8668c1683615bb898cc9b7873b60a607",
          "grade": false,
          "grade_id": "cell-14d1cd343ea73bec",
          "locked": true,
          "schema_version": 3,
          "solution": false,
          "task": false
        }
      }
    },
    {
      "cell_type": "code",
      "source": [
        "nom_chien = \"Lola\"\n",
        "age_chien = 3\n",
        "\n",
        "print(\"Mon chien nommé {0} et agé de {1} ans.\".format(nom_chien,age_chien))\n",
        "print(\"Mon chien nommé %s et agé de %d ans.\" % (nom_chien,age_chien))"
      ],
      "outputs": [
        {
          "output_type": "stream",
          "name": "stdout",
          "text": [
            "Mon chien nommé Lola et agé de 3 ans.\n",
            "Mon chien nommé Lola et agé de 3 ans.\n"
          ]
        }
      ],
      "execution_count": 4,
      "metadata": {
        "deletable": false,
        "editable": false,
        "nbgrader": {
          "cell_type": "code",
          "checksum": "ebb92feec56355c7dd8b55198b73de3d",
          "grade": false,
          "grade_id": "cell-4af466fc52de64bc",
          "locked": true,
          "schema_version": 3,
          "solution": false,
          "task": false
        }
      }
    },
    {
      "cell_type": "markdown",
      "source": [
        "### Exercice:\n",
        "Changez le code ci dessus pour demander à l'utilisateur d'entrer le nom de son chien"
      ],
      "metadata": {
        "deletable": false,
        "editable": false,
        "nbgrader": {
          "cell_type": "markdown",
          "checksum": "bef14aedbd8076e2a693b8add95ab6c3",
          "grade": false,
          "grade_id": "cell-9d3a33bdbe89f90a",
          "locked": true,
          "schema_version": 3,
          "solution": false,
          "task": false
        }
      }
    },
    {
      "cell_type": "code",
      "source": [
        "nom_chien = input(\"Quel est le nom de votre chien? \")\n",
        "age_chien = 3\n",
        "\n",
        "print(type(nom_chien))\n",
        "print(type(age_chien))"
      ],
      "outputs": [
        {
          "output_type": "stream",
          "name": "stdout",
          "text": [
            "Quel est le nom de votre chien? Boxy\n",
            "<class 'str'>\n",
            "<class 'int'>\n"
          ]
        }
      ],
      "execution_count": 5,
      "metadata": {
        "colab": {},
        "colab_type": "code",
        "id": "9eReTJtIi00n"
      }
    },
    {
      "cell_type": "markdown",
      "source": [
        "### Exercice:\n",
        "\n",
        "Modifiez la valeur de la variable `age_chien` afin que le chiffre soit un float (nombre à virgule).\n",
        "\n",
        "Assurez vous que la variable `age_chien` soit un float en affichant le type de la variable. \n",
        "\n",
        "Affichez la valeur de la variable `age_chien` en float et en integer.\n",
        "\n",
        "*Vous pouvez vérifier le type de chaque variable dans la cellule ci dessus*"
      ],
      "metadata": {
        "colab_type": "text",
        "deletable": false,
        "editable": false,
        "id": "l96YBu0sjTAL",
        "nbgrader": {
          "cell_type": "markdown",
          "checksum": "725238b535e85194163b22632494be7a",
          "grade": false,
          "grade_id": "cell-27abe2f12d5fa6ee",
          "locked": true,
          "schema_version": 3,
          "solution": false,
          "task": false
        }
      }
    },
    {
      "cell_type": "code",
      "source": [
        "age_chien = 3.75\n",
        "print(type(age_chien))\n",
        "print(float(age_chien))\n",
        "print(int(age_chien))"
      ],
      "outputs": [
        {
          "output_type": "stream",
          "name": "stdout",
          "text": [
            "<class 'float'>\n",
            "3.75\n",
            "3\n"
          ]
        }
      ],
      "execution_count": 8,
      "metadata": {}
    },
    {
      "cell_type": "markdown",
      "source": [
        "### Exercice:\n",
        "\n",
        "Créez une variable `poids_chien`, `resultat`, `remainder`.\n",
        "\n",
        "Divisez la valeur de la variable `poids_chien` par deux et enregistrez le résultat dans la variable `resultat`.\n",
        "\n",
        "Trouvez le reste de la division grâce à la fonction modulo `%` et enregistrez le résultat dans la variable `remainder`."
      ],
      "metadata": {
        "colab_type": "text",
        "deletable": false,
        "editable": false,
        "id": "ZuEvj2ffk4pm",
        "nbgrader": {
          "cell_type": "markdown",
          "checksum": "7ec10dc84f9ff170c7aee44dad682938",
          "grade": false,
          "grade_id": "cell-bc65bbe4212f1225",
          "locked": true,
          "schema_version": 3,
          "solution": false,
          "task": false
        }
      }
    },
    {
      "cell_type": "code",
      "source": [
        "from assertion import assert_division\n",
        "\n",
        "# VOTRE CODE ICI\n",
        "poids_chien = 11\n",
        "poids_ideal=5\n",
        "resultat = poids_chien/2\n",
        "remainder = poids_chien%2\n",
        "# FIN DE VOTRE CODE\n",
        "\n",
        "assert_division(poids_chien, resultat, remainder)"
      ],
      "outputs": [
        {
          "output_type": "stream",
          "name": "stdout",
          "text": [
            "Résultat: \n",
            "\u001b[32m\"Bonne réponse!\"\u001b[0m\n",
            "Remainder\n",
            "\u001b[32m\"Bonne réponse!\"\u001b[0m\n"
          ]
        }
      ],
      "execution_count": 10,
      "metadata": {
        "colab": {},
        "colab_type": "code",
        "id": "nhMdMzUBmpGk"
      }
    },
    {
      "cell_type": "markdown",
      "source": [
        "Diminuez la valeur de la variable `poids_ideal` de `2`. \n",
        "\n",
        "Diminuez la valeur de la variable `poids_chien` de `1` ."
      ],
      "metadata": {
        "colab_type": "text",
        "deletable": false,
        "editable": false,
        "id": "A83_JRAQoDRM",
        "nbgrader": {
          "cell_type": "markdown",
          "checksum": "6fc769fd3d2d69a9ea129ee1be224d14",
          "grade": false,
          "grade_id": "cell-63742057484f8427",
          "locked": true,
          "schema_version": 3,
          "solution": false,
          "task": false
        }
      }
    },
    {
      "cell_type": "code",
      "source": [
        "from assertion import State, assert_sub\n",
        "prev = State(\"sub\", poids_chien=poids_chien, poids_ideal=poids_ideal)\n",
        "\n",
        "# VOTRE CODE ICI\n",
        "poids_ideal -=2\n",
        "poids_chien -=1\n",
        "# FIN DE VOTRE CODE\n",
        "\n",
        "assert_sub(prev, State(poids_chien=poids_chien, poids_ideal=poids_ideal))"
      ],
      "outputs": [
        {
          "output_type": "stream",
          "name": "stdout",
          "text": [
            "\u001b[32m\"Bonne réponse!\"\u001b[0m\n"
          ]
        }
      ],
      "execution_count": 11,
      "metadata": {
        "colab": {},
        "colab_type": "code",
        "id": "4CQOz81IoxEk"
      }
    },
    {
      "cell_type": "markdown",
      "source": [
        "### Exercice:\n",
        "\n",
        "Vérifiez si la valeur de la variable `poids_chien` est égale à celle de la variable `poids_ideal` en utilisant un opérateur qui donne une réponse booléenne `True` ou `False`. Stockez la réponse booléenne dans la variable `egalite_poids`. \n",
        "\n",
        "Affichez la valeur de la variable `egalite_poids`."
      ],
      "metadata": {
        "colab_type": "text",
        "deletable": false,
        "editable": false,
        "id": "N907Ur0jpR-2",
        "nbgrader": {
          "cell_type": "markdown",
          "checksum": "8f0a369a17dcb5a1b15b12a4faf4e7cf",
          "grade": false,
          "grade_id": "cell-cd93a679a385c211",
          "locked": true,
          "schema_version": 3,
          "solution": false,
          "task": false
        }
      }
    },
    {
      "cell_type": "code",
      "source": [
        "from assertion import assert_equal\n",
        "\n",
        "\n",
        "# VOTRE CODE ICI\n",
        "egalite_poids = poids_chien==poids_ideal\n",
        "print(egalite_poids)\n",
        "# FIN DE VOTRE CODE\n",
        "\n",
        "assert_equal(poids_chien, poids_ideal, egalite_poids)"
      ],
      "outputs": [
        {
          "output_type": "stream",
          "name": "stdout",
          "text": [
            "False\n",
            "\u001b[32m\"Bonne réponse!\"\u001b[0m\n"
          ]
        }
      ],
      "execution_count": 12,
      "metadata": {
        "colab": {},
        "colab_type": "code",
        "id": "hBU6YQDHpx0o"
      }
    },
    {
      "cell_type": "markdown",
      "source": [
        "### Exercice:\n",
        "\n",
        "Vérifiez que la valeur de la variable `poids_chien` est plus petite ou égale que celle de la variable `poids_ideal`. Stockez la réponse booléenne dans la variable `comparaison_poids`.\n",
        "\n",
        "Affichez la valeur de la variable `comparaison_poids`.\n",
        "\n",
        "Vérifiez que la valeur de la variable `poids_ideal` est plus grande que celle de la variable `poids_chien` en une seule ligne grâce à la fonction `print`."
      ],
      "metadata": {
        "colab_type": "text",
        "deletable": false,
        "editable": false,
        "id": "4xOClItTqp-O",
        "nbgrader": {
          "cell_type": "markdown",
          "checksum": "0b5b8d790dc23b7ed9286b99b350433c",
          "grade": false,
          "grade_id": "cell-401a0b5b8da510c6",
          "locked": true,
          "schema_version": 3,
          "solution": false,
          "task": false
        }
      }
    },
    {
      "cell_type": "code",
      "source": [
        "from assertion import assert_comparison\n",
        "\n",
        "\n",
        "# VOTRE CODE ICI\n",
        "comparaison_poids = poids_chien <= poids_ideal\n",
        "print(comparaison_poids)\n",
        "print(poids_ideal>poids_chien)\n",
        "# FIN DE VOTRE CODE\n",
        "\n",
        "assert_comparison(poids_chien, poids_ideal, comparison_poids)"
      ],
      "outputs": [
        {
          "output_type": "stream",
          "name": "stdout",
          "text": [
            "False\n",
            "False\n",
            "\u001b[32m\"Bonne réponse!\"\u001b[0m\n"
          ]
        }
      ],
      "execution_count": 15,
      "metadata": {
        "colab": {},
        "colab_type": "code",
        "id": "Sc0nBnLurSko"
      }
    },
    {
      "cell_type": "markdown",
      "source": [
        "### C. Strings\n",
        "\n",
        "_Index, slicing, in, length_\n",
        "\n",
        "Définissez une nouvelle variable du nom `python3` de type `string` contenant `\"Hard but cool!\"` ou un autre texte de votre choix (d'au moins 13 charactères).\n",
        "\n",
        "Definissez la valeur de la variable `premiere_lettre` comme le premier charactère de `python3` en utilisant l'indexation.\n",
        "\n",
        "Definissez la valeur de la variable `derniere_lettre` comme le dernier charactère de `python3` en utilisant l'indexation.\n",
        "\n",
        "Affichez la valeur de `premiere_lettre` et `derniere_lettre` sur deux lignes disctintes."
      ],
      "metadata": {
        "colab_type": "text",
        "deletable": false,
        "editable": false,
        "id": "pngh69pPrqeg",
        "nbgrader": {
          "cell_type": "markdown",
          "checksum": "3e5c9c4eee97cc4ad1d52db10957e2e7",
          "grade": false,
          "grade_id": "cell-3cf89cf22bc69ffa",
          "locked": true,
          "schema_version": 3,
          "solution": false,
          "task": false
        }
      }
    },
    {
      "cell_type": "code",
      "source": [
        "from assertion import assert_strings\n",
        "\n",
        "# VOTRE CODE ICI\n",
        "python3 = \"Hard but cool!\"\n",
        "premiere_lettre = python3[0]\n",
        "derniere_lettre = python3[-1]\n",
        "print(premiere_lettre)\n",
        "print(derniere_lettre)\n",
        "# FIN DE VOTRE CODE\n",
        "\n",
        "assert_strings(python3, premiere_lettre, derniere_lettre)"
      ],
      "outputs": [
        {
          "output_type": "stream",
          "name": "stdout",
          "text": [
            "H\n",
            "!\n",
            "python3\n",
            "\u001b[32m\"Bonne réponse!\"\u001b[0m\n",
            "Première lettre\n",
            "\u001b[32m\"Bonne réponse!\"\u001b[0m\n",
            "Dernière lettre\n",
            "\u001b[32m\"Bonne réponse!\"\u001b[0m\n"
          ]
        }
      ],
      "execution_count": 18,
      "metadata": {
        "colab": {},
        "colab_type": "code",
        "id": "RvLGlHyPxPho"
      }
    },
    {
      "cell_type": "markdown",
      "source": [
        "### Exercice:\n",
        "\n",
        "Définissez une variable `quatre` qui reprend les `4` premiers charactères de `python3` en utilisant le slicing `str[ind1:ind2]`. \n",
        "\n",
        "Définissez une variable `neuf_treize` qui reprend les charactères `9 à 13` de `python3` en utilisant le slicing `str[ind1:ind2]`.\n",
        "\n",
        "Définissez une variable `cinq_huit` qui reprend le \"but\" de `python3` en utilisant le slicing `str[ind1:ind2]`.\n",
        "\n",
        "Affichez les valeurs de `quatre`, `neuf_treize` et `cinq_huit` sur une seule ligne. "
      ],
      "metadata": {
        "colab_type": "text",
        "deletable": false,
        "editable": false,
        "id": "VYkjUcAT0eMH",
        "nbgrader": {
          "cell_type": "markdown",
          "checksum": "9bab556d76a759a7be0ed9e71e2ffca8",
          "grade": false,
          "grade_id": "cell-5f65465142df9d69",
          "locked": true,
          "schema_version": 3,
          "solution": false,
          "task": false
        }
      }
    },
    {
      "cell_type": "code",
      "source": [
        "from assertion import assert_slicing\n",
        "\n",
        "# VOTRE CODE ICI\n",
        "quatre = python3[0:4]\n",
        "neuf_treize = python3[9:13]\n",
        "cinq_huit = python3[5:8]\n",
        "print(quatre, neuf_treize, cinq_huit)\n",
        "# FIN DE VOTRE CODE\n",
        "\n",
        "assert_slicing(python3, quatre,neuf_treize,cinq_huit)"
      ],
      "outputs": [
        {
          "output_type": "stream",
          "name": "stdout",
          "text": [
            "Hard cool but\n",
            "Quatre premiers charactères\n",
            "\u001b[32m\"Bonne réponse!\"\u001b[0m\n",
            "Charatères 9 à 13\n",
            "\u001b[32m\"Bonne réponse!\"\u001b[0m\n",
            "Charactères 5 à 8\n",
            "\u001b[32m\"Bonne réponse!\"\u001b[0m\n"
          ]
        }
      ],
      "execution_count": 19,
      "metadata": {
        "colab": {},
        "colab_type": "code",
        "id": "lcTE86Zl2FGn"
      }
    },
    {
      "cell_type": "markdown",
      "source": [
        "Vérifiez et affichez que le mot \"joke\" se trouve dans `python3` grâce à l'opérateur `in`.  \n",
        "\n",
        "Vérifiez et affichez que le mot \"but\" se trouve dans `python3` grâce à l'opérateur `in`. "
      ],
      "metadata": {
        "colab_type": "text",
        "deletable": false,
        "editable": false,
        "id": "EY1NVENZ2_kx",
        "nbgrader": {
          "cell_type": "markdown",
          "checksum": "68ae0c38bd19a41940e1914c63eb050d",
          "grade": false,
          "grade_id": "cell-c14557b594d21ed8",
          "locked": true,
          "schema_version": 3,
          "solution": false,
          "task": false
        }
      }
    },
    {
      "cell_type": "code",
      "source": [
        "print(\"joke\" in python3)\n",
        "print(\"but\" in python3)"
      ],
      "outputs": [
        {
          "output_type": "stream",
          "name": "stdout",
          "text": [
            "False\n",
            "True\n"
          ]
        }
      ],
      "execution_count": 20,
      "metadata": {
        "colab": {},
        "colab_type": "code",
        "id": "cJkJtKuG3Xp0"
      }
    },
    {
      "cell_type": "markdown",
      "source": [
        "### Exercice:\n",
        "\n",
        "Définissez `first_half` comme étant la première moitié de charactères stocké dans python3 en utilisant la fonction `len()`.\n",
        "\n",
        "Affichez `first_half`."
      ],
      "metadata": {
        "colab_type": "text",
        "deletable": false,
        "editable": false,
        "id": "QMpaHnQZ4Xn6",
        "nbgrader": {
          "cell_type": "markdown",
          "checksum": "7b260dceb31e09fd28bc7622c9c048a7",
          "grade": false,
          "grade_id": "cell-d87749b2c29ce107",
          "locked": true,
          "schema_version": 3,
          "solution": false,
          "task": false
        }
      }
    },
    {
      "cell_type": "code",
      "source": [
        "from assertion import assert_half\n",
        "\n",
        "# VOTRE CODE ICI\n",
        "first_half = python3[0:int(len(python3)/2)]\n",
        "# FIN DE VOTRE CODE\n",
        "\n",
        "print(first_half)\n",
        "\n",
        "assert_half(python3, first_half)"
      ],
      "outputs": [
        {
          "output_type": "stream",
          "name": "stdout",
          "text": [
            "Hard bu\n",
            "\u001b[32m\"Bonne réponse!\"\u001b[0m\n"
          ]
        }
      ],
      "execution_count": 22,
      "metadata": {
        "colab": {},
        "colab_type": "code",
        "id": "9kwnr7Ov41Lo"
      }
    },
    {
      "cell_type": "markdown",
      "source": [
        "### Exercice:\n",
        "\n",
        "Définissez et affichez `dont_worry` comme \"Don't worry, you're gonna become a king!\"\n",
        "\n",
        "Affichez \"It's just like Rock'n'Roll!\" sans créer de nouvelle variable.\n",
        "\n",
        "Affichez `dont_worry` en majuscule et minuscule sur deux lignes."
      ],
      "metadata": {
        "colab_type": "text",
        "deletable": false,
        "editable": false,
        "id": "0CCR_tFg5ZRx",
        "nbgrader": {
          "cell_type": "markdown",
          "checksum": "ad8a39ecb76c0fdab8168f6045ec8a2e",
          "grade": false,
          "grade_id": "cell-f933c0b7359fecf2",
          "locked": true,
          "schema_version": 3,
          "solution": false,
          "task": false
        }
      }
    },
    {
      "cell_type": "code",
      "source": [
        "from assertion import assert_dont_worry\n",
        "\n",
        "# VOTRE CODE ICI\n",
        "dont_worry = \"Don't worry, you're gonna become a king!\"\n",
        "print( \"It's just like Rock'n'Roll!\")\n",
        "upper = dont_worry.upper()\n",
        "lower = dont_worry.lower()\n",
        "# FIN DE VOTRE CODE\n",
        "\n",
        "assert_dont_worry(dont_worry, upper, lower)"
      ],
      "outputs": [
        {
          "output_type": "stream",
          "name": "stdout",
          "text": [
            "It's just like Rock'n'Roll!\n",
            "Don't worry\n",
            "\u001b[32m\"Bonne réponse!\"\u001b[0m\n",
            "Lower\n",
            "\u001b[32m\"Bonne réponse!\"\u001b[0m\n",
            "Upper\n",
            "\u001b[32m\"Bonne réponse!\"\u001b[0m\n"
          ]
        }
      ],
      "execution_count": 23,
      "metadata": {
        "colab": {},
        "colab_type": "code",
        "id": "BbWdkoIg6ttE"
      }
    },
    {
      "cell_type": "markdown",
      "source": [
        "### D. Conditions\n",
        "_Opérateurs booléens, If, else_\n",
        "\n",
        "Définissez une variable string `name`, une variable integer `age`, une variable integer `brothers` et une variable `sisters`.\n",
        "\n",
        "Vérifiez et affichez que `name` est égal à la valeur de `name` OU que `age` est égal à la valeur de `age` en une seule ligne. Faites la même chose avec AND NOT.\n",
        "\n",
        "Vérifiez et affichez que `name` est égal à \"Miro\" OU PAS que `age` est supérieur à 5 en une seule ligne.\n",
        "\n",
        "Affichez l'ordre de priorité des opérateurs booléens.\n",
        "\n",
        "Affichez \"La condition est vraie, donc le code peut être exécuter!\" si `age` est supérieur à 5 ET longueur de `name` inférieur à 10. Utilisez if et l'indentation.\n",
        "\n",
        "\n",
        "Affichez \"I'm not alone\" si `brothers` OU `sisters` supérieur à 1. Affichez \"We have boys at home\" si `brothers` supérieur à 1 ET `sisters` égal à 0. Affichez \"We have girls at home\" si `brothers` égal à 0 ET `sisters` supérieur à 1. Sinon affichez \"I have a little goat and a skateboard\".\n"
      ],
      "metadata": {
        "colab_type": "text",
        "deletable": false,
        "editable": false,
        "id": "xJBnj4KMai7s",
        "nbgrader": {
          "cell_type": "markdown",
          "checksum": "68c3aca63d6a1448b3080d1db8e83cfa",
          "grade": false,
          "grade_id": "cell-09c73fe82b786478",
          "locked": true,
          "schema_version": 3,
          "solution": false,
          "task": false
        }
      }
    },
    {
      "cell_type": "code",
      "source": [
        "name=\"Paulina\"\n",
        "age=9\n",
        "brothers=2\n",
        "sisters=0\n",
        "print(name==\"Paulina\" or age==9)\n",
        "print(name==\"Paulina\" and not age==9)\n",
        "print(name==\"Miro\" or not age>5)\n",
        "print(\"Not, And, Or\")\n",
        "if age>5 and len(name)<10:\n",
        "  print(\"La condition est vraie, donc le code peut être exécuter!\")\n",
        "  \n",
        "if brothers>1 or sisters>1:\n",
        "  print(\"I'm not alone\")\n",
        "elif brothers>1 and sisters==0:\n",
        "  print(\"We have boys at home\")\n",
        "elif brothers==0 and sisters>1:\n",
        "  print(\"We have girls at home\")\n",
        "else:\n",
        "  print(\"I have a little goat and a skateboard\")"
      ],
      "outputs": [
        {
          "output_type": "stream",
          "name": "stdout",
          "text": [
            "True\n",
            "False\n",
            "False\n",
            "Not, And, Or\n",
            "La condition est vraie, donc le code peut être exécuter!\n",
            "I'm not alone\n"
          ]
        }
      ],
      "execution_count": 24,
      "metadata": {
        "colab": {},
        "colab_type": "code",
        "id": "_QgNEirUb8U_"
      }
    },
    {
      "cell_type": "markdown",
      "source": [
        "### F. Fonctions\n",
        "_Définition, appel, return, paramètre par défaut_\n",
        "\n",
        "Définissez une fonction nommée `vin` qui affiche \"Neuchâtel?\" une fois que la fonction est appelée. \n",
        "\n",
        "Appelez la fonction `vin`.\n",
        "\n",
        "Pour chaque `i` de rang 3, appelez la fonction `vin`. "
      ],
      "metadata": {
        "colab_type": "text",
        "deletable": false,
        "editable": false,
        "id": "vZe3C4qJhHph",
        "nbgrader": {
          "cell_type": "markdown",
          "checksum": "c2fb1fc77ffd65fbecbc67c93c6fd188",
          "grade": false,
          "grade_id": "cell-cccdaf1bd8394946",
          "locked": true,
          "schema_version": 3,
          "solution": false,
          "task": false
        }
      }
    },
    {
      "cell_type": "code",
      "source": [
        "def vin():\n",
        "  print(\"Neuchâtel?\")\n",
        "vin()\n",
        "for i in range(3):\n",
        "  vin()"
      ],
      "outputs": [
        {
          "output_type": "stream",
          "name": "stdout",
          "text": [
            "Neuchâtel?\n",
            "Neuchâtel?\n",
            "Neuchâtel?\n",
            "Neuchâtel?\n"
          ]
        }
      ],
      "execution_count": 25,
      "metadata": {
        "colab": {},
        "colab_type": "code",
        "id": "ITnnTTWMC-2_"
      }
    },
    {
      "cell_type": "markdown",
      "source": [
        "Définissez une fonction `multip` ayant deux paramètres `a` et `b`. La fonction retourne le résultat de la mutiplication `a*b`. \n",
        "\n",
        "Créez un variable `result` qui appelle la fonction `multip` de `3` et `7`. \n",
        "\n",
        "Affichez `result`. "
      ],
      "metadata": {
        "colab_type": "text",
        "deletable": false,
        "editable": false,
        "id": "rNjNvxFrFjKH",
        "nbgrader": {
          "cell_type": "markdown",
          "checksum": "99bad4dd40827a6d76aa1f223ae78cf8",
          "grade": false,
          "grade_id": "cell-e4aa7e6eadc01147",
          "locked": true,
          "schema_version": 3,
          "solution": false,
          "task": false
        }
      }
    },
    {
      "cell_type": "code",
      "source": [
        "def multip(a,b):\n",
        "    return a*b\n",
        "result=multip(3,7)\n",
        "print(result)"
      ],
      "outputs": [
        {
          "output_type": "stream",
          "name": "stdout",
          "text": [
            "21\n"
          ]
        }
      ],
      "execution_count": 26,
      "metadata": {
        "colab": {},
        "colab_type": "code",
        "id": "yFjq9SYzGYlA"
      }
    },
    {
      "cell_type": "code",
      "source": [],
      "outputs": [],
      "execution_count": null,
      "metadata": {}
    }
  ],
  "metadata": {
    "colab": {
      "collapsed_sections": [],
      "name": "Algo-Week 3.ipynb",
      "provenance": []
    },
    "kernelspec": {
      "name": "python3",
      "language": "python",
      "display_name": "Python 3"
    },
    "language_info": {
      "name": "python",
      "version": "3.7.3",
      "mimetype": "text/x-python",
      "codemirror_mode": {
        "name": "ipython",
        "version": 3
      },
      "pygments_lexer": "ipython3",
      "nbconvert_exporter": "python",
      "file_extension": ".py"
    },
    "toc": {
      "toc_position": {},
      "skip_h1_title": false,
      "number_sections": false,
      "title_cell": "Table of Contents",
      "toc_window_display": false,
      "base_numbering": 1,
      "toc_section_display": false,
      "title_sidebar": "Contents",
      "toc_cell": false,
      "nav_menu": {},
      "sideBar": false
    },
    "kernel_info": {
      "name": "python3"
    },
    "nteract": {
      "version": "0.15.0"
    }
  },
  "nbformat": 4,
  "nbformat_minor": 1
}