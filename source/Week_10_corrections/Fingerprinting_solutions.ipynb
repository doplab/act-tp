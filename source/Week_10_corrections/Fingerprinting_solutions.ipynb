{
 "cells": [
  {
   "cell_type": "markdown",
   "metadata": {},
   "source": [
    "### Fingerprinting    \n",
    "\n",
    "L'algorithme Fingerprinting est une procédure qui met en correspondance un élément de données arbitrairement volumineux avec une chaîne de bits beaucoup plus courte. Tout comme une empreinte digitale, il identifie de façon unique les données originales.    \n",
    "\n",
    "https://en.wikipedia.org/wiki/Fingerprint_(computing)"
   ]
  },
  {
   "cell_type": "markdown",
   "metadata": {},
   "source": [
    "Un nombre premier est un entier naturel qui admet exactement deux diviseurs distincts entiers et positifs. Ces deux diviseurs sont 1 et le nombre considéré, puisque tout nombre a pour diviseurs 1 et lui-même, les nombres premiers étant ceux qui n’en possèdent aucun autre.    \n",
    "\n",
    "Ecrire une fonction qui vérifie si un nombre est premier ou non.    "
   ]
  },
  {
   "cell_type": "code",
   "execution_count": 21,
   "metadata": {},
   "outputs": [],
   "source": [
    "def is_a_prime_number(num):\n",
    "    # votre code ici\n",
    "    if num <= 1:\n",
    "        return False\n",
    "    else:\n",
    "        for i in range(2,num):\n",
    "            if (num % i) == 0:\n",
    "                return False\n",
    "        return True"
   ]
  },
  {
   "cell_type": "markdown",
   "metadata": {},
   "source": [
    "L'algorithme Fingerprinting est le suivant:    \n",
    "\n",
    "a. Si **p** est un nombre premier, calculez la valeur de hachage de la chaîne à l'aide de la fonction __hash(...)__, puis calculez le modulo du résultat du hachage.    \n",
    "b. Sinon, imprimez un message qui dit que le nombre n'est pas un nombre premier.    "
   ]
  },
  {
   "cell_type": "code",
   "execution_count": 22,
   "metadata": {},
   "outputs": [],
   "source": [
    "def fingerprinting(p, message):\n",
    "    # votre code ici\n",
    "    if is_a_prime_number(p):\n",
    "        result = hash(message) % p\n",
    "        return result\n",
    "    else:\n",
    "        print(str(p) + \" is not a prime number!\")"
   ]
  },
  {
   "cell_type": "code",
   "execution_count": 23,
   "metadata": {},
   "outputs": [
    {
     "name": "stdout",
     "output_type": "stream",
     "text": [
      "Hash result is 10\n"
     ]
    }
   ],
   "source": [
    "message_to_hash = \"Hello, world!\"\n",
    "p = 11\n",
    "\n",
    "print(\"Hash result is \" + str(fingerprinting(p, message_to_hash)))"
   ]
  },
  {
   "cell_type": "code",
   "execution_count": 24,
   "metadata": {},
   "outputs": [],
   "source": [
    "your_details = [19, hash(\"mypassword\")]"
   ]
  },
  {
   "cell_type": "markdown",
   "metadata": {},
   "source": [
    "L'algorithme Fingerprinting est une bonne pratique pour stocker les mots de passe dans une base de données. Chaque fois qu'un utilisateur veut se connecter, l'algorithme effectue les calculs et compare les résultats.\n",
    "\n",
    "Par exemple, si votre mot de passe est **mypassword**, alors votre mot de passe sera enregistré comme __295848469771299555281__.    \n",
    "\n",
    "Ecrire une fonction, **login**, qui retourne vrai (true) si l'utilisateur saisit son mot de passe avec succès."
   ]
  },
  {
   "cell_type": "code",
   "execution_count": 25,
   "metadata": {},
   "outputs": [],
   "source": [
    "def login(password, your_details):\n",
    "    # votre code ici\n",
    "    return your_details[1] % your_details[0] == fingerprinting(your_details[0], password)"
   ]
  },
  {
   "cell_type": "markdown",
   "metadata": {},
   "source": [
    "Ecrire un bout de code qui prend un mot de passe de l'utilisateur et l'imprime si la connexion est réussie."
   ]
  },
  {
   "cell_type": "code",
   "execution_count": 26,
   "metadata": {},
   "outputs": [
    {
     "name": "stdout",
     "output_type": "stream",
     "text": [
      "Enter your passwordmypassword\n",
      "Login successful or not? True\n"
     ]
    }
   ],
   "source": [
    "# votre code ici\n",
    "password = input(\"Enter your password\")\n",
    "print(\"Login successful or not? \" + str(login(password, your_details)))"
   ]
  },
  {
   "cell_type": "code",
   "execution_count": null,
   "metadata": {},
   "outputs": [],
   "source": []
  }
 ],
 "metadata": {
  "kernelspec": {
   "display_name": "Python 3",
   "language": "python",
   "name": "python3"
  },
  "language_info": {
   "codemirror_mode": {
    "name": "ipython",
    "version": 3
   },
   "file_extension": ".py",
   "mimetype": "text/x-python",
   "name": "python",
   "nbconvert_exporter": "python",
   "pygments_lexer": "ipython3",
   "version": "3.6.7"
  }
 },
 "nbformat": 4,
 "nbformat_minor": 2
}
