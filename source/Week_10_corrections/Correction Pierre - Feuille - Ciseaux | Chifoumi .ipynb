{
 "cells": [
  {
   "cell_type": "markdown",
   "metadata": {
    "nbgrader": {
     "grade": false,
     "grade_id": "cell-0fcf6d61d3ce237e",
     "locked": true,
     "schema_version": 3,
     "solution": false,
     "task": false
    }
   },
   "source": [
    "# Pierre - Feuille - Ciseaux | Chifoumi\n",
    "\n",
    "Dans ce notebook, on vous demande de créer un jeu de Pierre - Feuille - Ciseaux ou Chifoumi où l’utilisateur pourra jouer face à l’ordinateur. \n",
    "\n",
    "Les règles :\n",
    "* Pierre vs papier -> papier gagne\n",
    "* Pierre vs ciseaux -> pierre gagne \n",
    "* Papier vs ciseaux -> ciseaux gagne\n",
    "\n",
    "\n",
    "Dans une boucle, générez aléatoirement une action pour l’ordinateur, demandez à l’utilisateur son choix et comparez pour déterminer le vainqueur. Entre chaque manche, affichez le gagnant et le score.\n"
   ]
  },
  {
   "cell_type": "code",
   "execution_count": null,
   "metadata": {},
   "outputs": [],
   "source": [
    "import random as rnd\n",
    "\n",
    "#create a list of play options\n",
    "play = [\"Rock\", \"Paper\", \"Scissors\"]\n",
    "#init scoreboard\n",
    "computer_score = 0\n",
    "player_score = 0\n",
    "\n",
    "while True:\n",
    "    #assign a random play to the computer\n",
    "    computer = rnd.choice(play)\n",
    "    player = input(\"Rock, Paper, Scissors? Enter Exit to end the game\\n\")\n",
    "    if player == computer:\n",
    "        print(\"Tie! \\n\")\n",
    "    elif player == \"Rock\":\n",
    "        if computer == \"Paper\":\n",
    "            print(\"You lose!\", computer, \"covers\", player,\"\\n\")\n",
    "            computer_score += 1\n",
    "        else:\n",
    "            print(\"You win!\", player, \"smashes\", computer,\"\\n\")\n",
    "            player_score += 1\n",
    "    elif player == \"Paper\":\n",
    "        if computer == \"Scissors\":\n",
    "            print(\"You lose!\", computer, \"cut\", player,\"\\n\")\n",
    "            computer_score += 1\n",
    "        else:\n",
    "            print(\"You win!\", player, \"covers\", computer,\"\\n\")\n",
    "            player_score += 1\n",
    "    elif player == \"Scissors\":\n",
    "        if computer == \"Rock\":\n",
    "            print(\"You lose...\", computer, \"smashes\", player,\"\\n\")\n",
    "            computer_score += 1\n",
    "        else:\n",
    "            print(\"You win!\", player, \"cut\", computer,\"\\n\")\n",
    "            player_score += 1\n",
    "    elif player == \"Exit\": \n",
    "        break \n",
    "    else:\n",
    "        print(\"That's not a valid play. Check your spelling!\")\n",
    "    print(\"The score is: Computer {} -- {} Player\".format(computer_score,player_score))\n",
    "    \n",
    "\"\"\"\n",
    "Code written by Dototot adapt by M.L for HEC ACT under CC BY-NC-SA 4.0\n",
    "https://thehelloworldprogram.com/python/python-game-rock-paper-scissors/\n",
    "\"\"\""
   ]
  }
 ],
 "metadata": {
  "celltoolbar": "Create Assignment",
  "kernelspec": {
   "display_name": "Python 3",
   "language": "python",
   "name": "python3"
  },
  "language_info": {
   "codemirror_mode": {
    "name": "ipython",
    "version": 3
   },
   "file_extension": ".py",
   "mimetype": "text/x-python",
   "name": "python",
   "nbconvert_exporter": "python",
   "pygments_lexer": "ipython3",
   "version": "3.7.3"
  }
 },
 "nbformat": 4,
 "nbformat_minor": 2
}
