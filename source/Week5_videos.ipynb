{
  "cells": [
    {
      "cell_type": "markdown",
      "source": [
        "##Some helpful videos\n",
        "\n",
        "###Sorting problems\n",
        "\n",
        "Below is the link to the \"Sorting\" playlist of **Michael Sambol** on Youtube to understand the difference between the sorting methods. \n",
        "\n",
        "[Sorting playlist](https://www.youtube.com/playlist?list=PL9xmBV_5YoZOZSbGAXAPIq1BeUf4j20pl)\n",
        "\n",
        "###Complexity\n",
        "\n",
        "[![Complexity](http://i3.ytimg.com/vi/__vX2sjlpXU/hqdefault.jpg)](https://www.youtube.com/watch?v=__vX2sjlpXU&list=PL9xmBV_5YoZMxejjIyFHWa-4nKg6sdoIv)\n",
        "\n",
        "\n",
        "\n"
      ],
      "metadata": {
        "id": "sJJ4vdDmjzKI",
        "colab_type": "text"
      }
    }
  ],
  "metadata": {
    "colab": {
      "name": "Videos.ipynb",
      "provenance": [],
      "collapsed_sections": []
    },
    "kernelspec": {
      "name": "python3",
      "language": "python",
      "display_name": "Python 3"
    },
    "kernel_info": {
      "name": "python3"
    },
    "language_info": {
      "name": "python",
      "version": "3.7.3",
      "mimetype": "text/x-python",
      "codemirror_mode": {
        "name": "ipython",
        "version": 3
      },
      "pygments_lexer": "ipython3",
      "nbconvert_exporter": "python",
      "file_extension": ".py"
    },
    "nteract": {
      "version": "0.15.0"
    }
  },
  "nbformat": 4,
  "nbformat_minor": 0
}