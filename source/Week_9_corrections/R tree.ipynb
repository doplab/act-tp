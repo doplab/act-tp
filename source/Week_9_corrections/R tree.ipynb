{
 "cells": [
  {
   "cell_type": "markdown",
   "metadata": {
    "nbgrader": {
     "grade": false,
     "grade_id": "cell-a1dbe83ee8256d0a",
     "locked": true,
     "schema_version": 3,
     "solution": false,
     "task": false
    }
   },
   "source": [
    "# R-Tree\n",
    "\n",
    "Un R-tree est un arbre qui représente une surface et dont chaque branche coupe cette surface en une sous-surface. De cette manière, chaque branche garantit que tous ses enfants seront compris dans la sous-surface correspondant à cette branche.\n",
    "\n",
    "La donnée est finale est enregistrée dans les feuilles de l'arbre\n",
    "\n",
    "*Dans le diagramme suivant, on peut voir comment les branches se reflètent sur la surface:\n",
    "\n",
    "<img src=\"https://github.com/doplab/act-tp/blob/master/images/week9/tree.png?raw=true\" />\n",
    "\n",
    "<img src=\"https://github.com/doplab/act-tp/blob/master/images/week9/surface.png?raw=true\" />\n"
   ]
  },
  {
   "cell_type": "markdown",
   "metadata": {
    "nbgrader": {
     "grade": false,
     "grade_id": "cell-e9e818a7600745ff",
     "locked": true,
     "schema_version": 3,
     "solution": false,
     "task": false
    }
   },
   "source": [
    "## Exercice \n",
    "\n",
    "Dans cet exercice, nous utilisons des dictionnaires pour créer des R-tree.\n",
    "\n",
    "La surface totale est de `400x400`, chaque sous-surface est donnée par un `point (x, y)` qui correspond à l'angle supérieur droit de la surface, `width` correspond à la longueur de la surface et `height` à sa hauteur. Les enfants de chaque branche sont enregistrées dans `children`. Si la valeur de `children` est laissée à `None`, cet élément est une feuille."
   ]
  },
  {
   "cell_type": "code",
   "execution_count": 3,
   "metadata": {},
   "outputs": [],
   "source": [
    "point = \"point\"\n",
    "width = \"width\"\n",
    "height = \"height\"\n",
    "children = \"children\"\n",
    "\n",
    "r_tree = [\n",
    "    {\n",
    "        point: (0, 0),\n",
    "        width: 400,\n",
    "        height: 400,\n",
    "        children: [\n",
    "                {\n",
    "                    point: (0, 0),\n",
    "                    width: 200,\n",
    "                    height: 400,\n",
    "                    children: [\n",
    "                        {\n",
    "                            point: (0, 0),\n",
    "                            width: 200,\n",
    "                            height: 200,\n",
    "                            children: [\n",
    "                                {\n",
    "                                    point: (20, 40),\n",
    "                                    width: 20,\n",
    "                                    height: 40,\n",
    "                                    children: None\n",
    "                                },\n",
    "                                {\n",
    "                                    point: (100, 10),\n",
    "                                    width: 45,\n",
    "                                    height: 100,\n",
    "                                    children: None\n",
    "                                },\n",
    "                                {\n",
    "                                    point: (120, 140),\n",
    "                                    width: 60,\n",
    "                                    height: 10,\n",
    "                                    children: None\n",
    "                                },\n",
    "                            ]\n",
    "                        },\n",
    "                        {\n",
    "                            point: (0, 200),\n",
    "                            width: 200,\n",
    "                            height: 200,\n",
    "                            children: None\n",
    "                        }\n",
    "                    ]\n",
    "                },\n",
    "                {\n",
    "                    point: (200, 0),\n",
    "                    width: 200,\n",
    "                    height: 400,\n",
    "                    children: [\n",
    "                        {\n",
    "                            point: (220, 40),\n",
    "                            width: 20,\n",
    "                            height: 40,\n",
    "                            children: None\n",
    "                        },\n",
    "                        {\n",
    "                            point: (300, 10),\n",
    "                            width: 45,\n",
    "                            height: 100,\n",
    "                            children: None\n",
    "                        },\n",
    "                        {\n",
    "                            point: (320, 140),\n",
    "                            width: 60,\n",
    "                            height: 10,\n",
    "                            children: None\n",
    "                        }\n",
    "                    ]\n",
    "                },            \n",
    "        ]\n",
    "    }\n",
    "]"
   ]
  },
  {
   "cell_type": "markdown",
   "metadata": {
    "nbgrader": {
     "grade": false,
     "grade_id": "cell-d21e52306a2e7cfe",
     "locked": true,
     "schema_version": 3,
     "solution": false,
     "task": false
    }
   },
   "source": [
    "## Exercice 1\n",
    "\n",
    "Dessinez cet arbre au papier, ainsi que la surface et les sous-surfaces."
   ]
  },
  {
   "cell_type": "markdown",
   "metadata": {},
   "source": [
    "## Il y avait une erreur dans l'énoncé, le `point` signifie l'angle en haut à `GAUCHE`\n",
    "\n",
    "<img src=\"https://raw.githubusercontent.com/doplab/act-tp/master/images/week9/melike_r_tree_thank_you.jpeg\" />"
   ]
  },
  {
   "cell_type": "markdown",
   "metadata": {
    "nbgrader": {
     "grade": false,
     "grade_id": "cell-fa1055f755ef2eec",
     "locked": true,
     "schema_version": 3,
     "solution": false,
     "task": false
    }
   },
   "source": [
    "## Exercice 2\n",
    "\n",
    "Ecrivez un algorithme qui trouve toutes les feuilles comprises dans une sous-surface"
   ]
  },
  {
   "cell_type": "code",
   "execution_count": 15,
   "metadata": {},
   "outputs": [
    {
     "data": {
      "text/plain": [
       "[{'point': (100, 10), 'width': 45, 'height': 100, 'children': None},\n",
       " {'point': (120, 140), 'width': 60, 'height': 10, 'children': None},\n",
       " {'point': (220, 40), 'width': 20, 'height': 40, 'children': None}]"
      ]
     },
     "execution_count": 15,
     "metadata": {},
     "output_type": "execute_result"
    }
   ],
   "source": [
    "def overlap(point1, point2):\n",
    "    x1, y1 = point1[point]\n",
    "    x2, y2 = point2[point]\n",
    "    width1, height1 = (point1[width], point1[height])\n",
    "    width2, height2 = (point2[width], point2[height])\n",
    "    # On vérifie si les deux surfaces ont au moins un point en commun sur l'axe des X\n",
    "    if x1 > x2 + width2 or x2 > x1 + width1:\n",
    "        return False\n",
    "    # La même avec y, s'ils ont un point en commun à la fois en x et en y, ils se touchent\n",
    "    return not (y1 + height1 < y2 or y2 + height2 < y1)\n",
    "\n",
    "def in_interval(node, surface):\n",
    "    if not overlap(node, surface):\n",
    "        return []\n",
    "    if node[children]:\n",
    "        elements = []\n",
    "        for i in node[children]:\n",
    "            elements += in_interval(i, surface)\n",
    "        return elements\n",
    "    return [node]\n",
    "    \n",
    "in_interval(r_tree[0], {point: (50, 30), width: 200, height: 150})"
   ]
  },
  {
   "cell_type": "code",
   "execution_count": null,
   "metadata": {},
   "outputs": [],
   "source": []
  }
 ],
 "metadata": {
  "celltoolbar": "Create Assignment",
  "kernelspec": {
   "display_name": "Python 3",
   "language": "python",
   "name": "python3"
  },
  "language_info": {
   "codemirror_mode": {
    "name": "ipython",
    "version": 3
   },
   "file_extension": ".py",
   "mimetype": "text/x-python",
   "name": "python",
   "nbconvert_exporter": "python",
   "pygments_lexer": "ipython3",
   "version": "3.7.3"
  }
 },
 "nbformat": 4,
 "nbformat_minor": 2
}
