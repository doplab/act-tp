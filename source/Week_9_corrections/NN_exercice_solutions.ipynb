{
  "cells": [
    {
      "cell_type": "markdown",
      "source": [
        "## Nearest neighbor search\n",
        "On l'appele **Recherche des plus proches voisins** en français.\n",
        "\n",
        "La recherche des plus proches voisins, ou des k plus proches voisins, est un problème algorithmique classique. De façon informelle le problème consiste, étant donné un point à trouver dans un ensemble d'autres points, quels sont les k plus proches.\n",
        "\n",
        "Cliquez [ici] pour plus d'informations.\n",
        "\n",
        "[ici]: https://fr.wikipedia.org/wiki/Recherche_des_plus_proches_voisins"
      ],
      "metadata": {}
    },
    {
      "cell_type": "markdown",
      "source": [
        "Calculer la distance entre deux points en utilisant la formule de distance euclidienne. Voici la formule :\n",
        "\n",
        "point1 = (x1, y1)    \n",
        "point2 = (x2, y2)\n",
        "\n",
        "distance = Racine Carrée de ( ( x1 - x2 )^2 + ( y1 - y2 )^2 ) \n",
        "\n",
        "\n",
        "Vous pouvez utiliser **math.sqrt(...)** pour calculer la racine carrée d'un nombre."
      ],
      "metadata": {}
    },
    {
      "cell_type": "code",
      "source": [
        "import math  \n",
        "\n",
        "def calculate_distance(point1, point2):\n",
        "    # votre code ici\n",
        "    return math.sqrt((point1[0] - point2[0])**2 + (point1[1] - point2[1])**2)"
      ],
      "outputs": [],
      "execution_count": 62,
      "metadata": {}
    },
    {
      "cell_type": "markdown",
      "source": [
        "On vous donne une liste de points et un point pour trouver son voisin le plus proche.    \n",
        "Suivez les étapes suivantes pour implémenter l'algorithme du voisin le plus proche.\n",
        "\n",
        "1. Déplacez tous les points.\n",
        "2. Pour chaque point, calculez la distance entre le nœud actuel et le nœud donné.\n",
        "3. Retournez le nœud le plus proche et sa distance au nœud donné."
      ],
      "metadata": {}
    },
    {
      "cell_type": "code",
      "source": [
        "def nearest_neighbor(thePoint, pointList):\n",
        "    #votre code ici\n",
        "    closest_point = None\n",
        "    min_value = 999999\n",
        "    for p in pointList:\n",
        "        distance = calculate_distance(p, thePoint)\n",
        "        if distance < min_value:\n",
        "            min_value = distance\n",
        "            closest_point = p\n",
        "    return (closest_point, min_value)"
      ],
      "outputs": [],
      "execution_count": 63,
      "metadata": {}
    },
    {
      "cell_type": "code",
      "source": [
        "pointList = [[2,3],[5,6],[1,4],[2,4],[3,5]]\n",
        "point = [1,2]\n",
        "result = nearestNeighbor(point, pointList)\n",
        "print(\"Point: {0} Distance: {1}\".format(result[0], result[1]))"
      ],
      "outputs": [
        {
          "output_type": "stream",
          "name": "stdout",
          "text": [
            "Point: [2, 3] Distance: 1.4142135623730951\n"
          ]
        }
      ],
      "execution_count": 64,
      "metadata": {}
    },
    {
      "cell_type": "code",
      "source": [],
      "outputs": [],
      "execution_count": null,
      "metadata": {}
    }
  ],
  "metadata": {
    "kernelspec": {
      "name": "python3",
      "language": "python",
      "display_name": "Python 3"
    },
    "language_info": {
      "name": "python",
      "version": "3.7.3",
      "mimetype": "text/x-python",
      "codemirror_mode": {
        "name": "ipython",
        "version": 3
      },
      "pygments_lexer": "ipython3",
      "nbconvert_exporter": "python",
      "file_extension": ".py"
    },
    "kernel_info": {
      "name": "python3"
    },
    "nteract": {
      "version": "0.15.0"
    }
  },
  "nbformat": 4,
  "nbformat_minor": 2
}