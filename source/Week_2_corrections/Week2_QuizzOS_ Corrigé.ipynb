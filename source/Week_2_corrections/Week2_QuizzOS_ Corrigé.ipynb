{
  "cells": [
    {
      "cell_type": "markdown",
      "source": [
        "# Algorithmique et Pensée Computationnelle"
      ],
      "metadata": {}
    },
    {
      "cell_type": "markdown",
      "source": [
        "# Quizz - Operating Systems\n",
        "\n",
        "## Exécutez la prochaine case pour afficher le quizz!"
      ],
      "metadata": {
        "deletable": false,
        "editable": false,
        "nbgrader": {
          "cell_type": "markdown",
          "checksum": "c422c2da3abdccfdb63b6e01e3bd367d",
          "grade": false,
          "grade_id": "cell-37b38efbbe263ee9",
          "locked": true,
          "schema_version": 3,
          "solution": false,
          "task": false
        }
      }
    },
    {
      "cell_type": "code",
      "source": [
        "# EXECUTEZ CETTE CASE POUR AFFICHER LE QUIZZ\n",
        "\n",
        "from IPython.core.display import display, HTML\n",
        "with open('quizz', 'r') as file:\n",
        "    data = file.read().replace('\\n', '')\n",
        "    display(HTML(data))"
      ],
      "outputs": [
        {
          "output_type": "display_data",
          "data": {
            "text/html": [
              "<style>.output {    display: inline-block;    min-height: 800px; }    .question {    padding: 30px;    transition: 1s;    border: 1px solid lightgrey;}.question button {    margin: auto;    margin-left: calc(50% - 60px);    margin-top: 15px;    margin-bottom: 30px;    width: 120px;    height: 50px;    background-color: white;    transition: 1s;    border-radius: 10px;    border: 1px solid black;    font-size: 20px;}.question button:hover {    background-color:rgb(20, 20, 200);    color: white;}    .question li {    font-size: 16px;}</style><script type=\"application/javascript\">    var answers = {        1: \"B\",        2: \"A\",        3: \"C\",        5: \"ABC\",        6: \"AB\",        7: \"BC\",        8: \"B\",        9: \"B\",        10: \"ABC\",        11: \"AC\",        12: \"ABC\",        13: \"C\"    };        var correct_answer = function(question) {        const list = document.querySelectorAll(`#q${question} ul li input`);        const input = Array.prototype.reduce.call(list, (accumulator, current) => {            return `${accumulator}${current.checked ? current.value:''}`;        }, '');        document.querySelector(`#q${question}`).style.backgroundColor = input === answers[question] ? \"rgba(0, 200, 0, .5)\":\"rgba(255, 0, 0, .7)\";    }</script><div class=\"question\" id=\"q1\">    <h2>Un Système d’exploitation [Operating System] est:</h2>    <ul>        <li>Du matériel physique <input type=\"checkbox\" value=\"A\"></li>        <li>Un logiciel système <input type=\"checkbox\" value=\"B\"></li>        <li>Une application <input type=\"checkbox\" value=\"C\"></li>    </ul>    <button onclick=\"correct_answer(1)\">Valider</button></div>                               <div class=\"question\" id=\"q2\">    <h2>Un Système d’exploitation [Operating System] est:</h2>    <ul>        <li>Un intermédiaire entre l'utilisateur et l'ordinateur <input type=\"checkbox\" value=\"A\"></li>        <li>Le nom d'un processeur <input type=\"checkbox\" value=\"B\"></li>        <li>Le terminal de l'ordinateur <input type=\"checkbox\" value=\"C\"></li>    </ul>    <button onclick=\"correct_answer(2)\">Valider</button></div>                               <div class=\"question\" id=\"q3\">    <h2>Linux est:</h2>    <ul>        <li>Un OS de Microsoft <input type=\"checkbox\" value=\"A\"></li>        <li>Un OS d'Apple <input type=\"checkbox\" value=\"B\"></li>        <li>Un OS open source <input type=\"checkbox\" value=\"C\"></li>    </ul>    <button onclick=\"correct_answer(3)\">Valider</button></div>                                                                                       <div class=\"question\" id=\"q5\">    <h2>Le rôle principal d'un OS:</h2>    <ul>        <li>Offrir un environement pour permettre à l'ordinateur d'exécuter ses programmes <input type=\"checkbox\" value=\"A\"></li>        <li>Allouer les resources de l'ordinateur au fur et à mesure <input type=\"checkbox\" value=\"B\"></li>        <li>Gèrer les opérations d'input et d'output <input type=\"checkbox\" value=\"C\"></li>    </ul>    <button onclick=\"correct_answer(5)\">Valider</button></div>                                                                                             <div class=\"question\" id=\"q6\">    <h2>Les activités majeures de l'OS concernant la gestion de la mémoire:</h2>    <ul>        <li>Suivre quelles parties de la mémoire sont utilisées <input type=\"checkbox\" value=\"A\"></li>        <li>Allouer et libérer la mémoire <input type=\"checkbox\" value=\"B\"></li>        <li>Faire de la place pour les résultats des nouvelles instructions <input type=\"checkbox\" value=\"C\"></li>    </ul>    <button onclick=\"correct_answer(6)\">Valider</button></div>                                                                                             <div class=\"question\" id=\"q7\">    <h2>Un interpréteur:</h2>    <ul>        <li>Génère du code machine à partir de code source<input type=\"checkbox\" value=\"A\"></li>        <li>Analyse tout le code source pendant l'exécution<input type=\"checkbox\" value=\"B\"></li>        <li>Marche comme un traducteur <input type=\"checkbox\" value=\"C\"></li>    </ul>    <button onclick=\"correct_answer(7)\">Valider</button></div>                                                                                             <div class=\"question\" id=\"q8\">    <h2>Un interpréteur est:</h2>    <ul>        <li>Un programme qui automatise la traduction de code d'assembleur vers du code machine<input type=\"checkbox\" value=\"A\"></li>        <li>Un programme qui exécute du code source comme si c'était du code machine <input type=\"checkbox\" value=\"B\"></li>        <li>Un programme qui traduit un langage de bas niveau vers le haut niveau<input type=\"checkbox\" value=\"C\"></li>    </ul>    <button onclick=\"correct_answer(8)\">Valider</button></div>                                                                                             <div class=\"question\" id=\"q9\">    <h2>Un compilateur:</h2>    <ul>        <li>Convertit ligne par ligne pendant l'exécution <input type=\"checkbox\" value=\"A\"></li>        <li>Convertit tout le programme en langage machine avant l'exécution <input type=\"checkbox\" value=\"B\"></li>        <li>Est un langage de programmation <input type=\"checkbox\" value=\"C\"></li>    </ul>    <button onclick=\"correct_answer(9)\">Valider</button></div>                                                                                             <div class=\"question\" id=\"q10\">    <h2>Un compilateur traduit du code source vers:</h2>    <ul>        <li>Du code machine <input type=\"checkbox\" value=\"A\"></li>        <li>Du code exécutable <input type=\"checkbox\" value=\"B\"></li>        <li>Un autre langage source <input type=\"checkbox\" value=\"C\"></li>    </ul>    <button onclick=\"correct_answer(10)\">Valider</button></div>                                                                                             <div class=\"question\" id=\"q11\">    <h2>Un compilateur indique:</h2>    <ul>        <li>Les erreurs de syntaxe <input type=\"checkbox\" value=\"A\"></li>        <li>Les erreurs de logique <input type=\"checkbox\" value=\"B\"></li>        <li>Des messages contenant des informations complémentaires <input type=\"checkbox\" value=\"C\"></li>    </ul>    <button onclick=\"correct_answer(11)\">Valider</button></div>                                                                                             <div class=\"question\" id=\"q12\">    <h2>Avec Python, on peut créer:</h2>    <ul>        <li>Des jeux vidéos <input type=\"checkbox\" value=\"A\"></li>        <li>Des robots <input type=\"checkbox\" value=\"B\"></li>        <li>De l'intelligence artificielle <input type=\"checkbox\" value=\"C\"></li>    </ul>    <button onclick=\"correct_answer(12)\">Valider</button></div>                                                                                             <div class=\"question\" id=\"q13\">    <h2>L'extension des fichiers python est:</h2>    <ul>        <li>.python <input type=\"checkbox\" value=\"A\"></li>        <li>.xlsx <input type=\"checkbox\" value=\"B\"></li>        <li>.py<input type=\"checkbox\" value=\"C\"></li>    </ul>    <button onclick=\"correct_answer(13)\">Valider</button></div>"
            ],
            "text/plain": [
              "<IPython.core.display.HTML object>"
            ]
          },
          "metadata": {}
        }
      ],
      "execution_count": 1,
      "metadata": {
        "deletable": false,
        "editable": false,
        "nbgrader": {
          "cell_type": "code",
          "checksum": "a34f53535132b1ec9b14c1c0b7cbb572",
          "grade": false,
          "grade_id": "cell-4ef770ecdb11c8c4",
          "locked": true,
          "schema_version": 3,
          "solution": false,
          "task": false
        }
      }
    },
    {
      "cell_type": "markdown",
      "source": [
        "Réponses:\n",
        "- Un Système d’exploitation [Operating System] est: B\n",
        "- Un Système d’exploitation [Operating System] est: A\n",
        "- Linux est: C\n",
        "- Le rôle principal d'un OS: A B C\n",
        "- Les activités majeures de l'OS concernant la gestion de la mémoire: A B\n",
        "- Un interpréteur: A C\n",
        "- Un interpréteur est: B\n",
        "- Un compilateur: B\n",
        "- Un compilateur traduit du code source vers: A B\n",
        "- Un compilateur indique: A\n",
        "- Avec Python, on peut créer: A B C\n",
        "- L'extension des fichiers python est: C\n"
      ],
      "metadata": {}
    },
    {
      "cell_type": "code",
      "source": [],
      "outputs": [],
      "execution_count": null,
      "metadata": {}
    }
  ],
  "metadata": {
    "kernelspec": {
      "name": "python3",
      "language": "python",
      "display_name": "Python 3"
    },
    "language_info": {
      "name": "python",
      "version": "3.7.3",
      "mimetype": "text/x-python",
      "codemirror_mode": {
        "name": "ipython",
        "version": 3
      },
      "pygments_lexer": "ipython3",
      "nbconvert_exporter": "python",
      "file_extension": ".py"
    },
    "toc": {
      "toc_position": {},
      "skip_h1_title": false,
      "number_sections": false,
      "title_cell": "Table of Contents",
      "toc_window_display": false,
      "base_numbering": 1,
      "toc_section_display": false,
      "title_sidebar": "Contents",
      "toc_cell": false,
      "nav_menu": {},
      "sideBar": false
    },
    "kernel_info": {
      "name": "python3"
    },
    "nteract": {
      "version": "0.15.0"
    }
  },
  "nbformat": 4,
  "nbformat_minor": 2
}