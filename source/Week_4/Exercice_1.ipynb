{
 "cells": [
  {
   "cell_type": "markdown",
   "metadata": {
    "nbgrader": {
     "grade": false,
     "grade_id": "cell-51ba6414384e9f42",
     "locked": true,
     "schema_version": 3,
     "solution": false,
     "task": false
    }
   },
   "source": [
    "# ACT Week 4\n",
    "## Exercice 1"
   ]
  },
  {
   "cell_type": "markdown",
   "metadata": {
    "nbgrader": {
     "grade": false,
     "grade_id": "cell-ecdf23f84164ebe4",
     "locked": true,
     "schema_version": 3,
     "solution": false,
     "task": false
    }
   },
   "source": [
    "### Structures de données"
   ]
  },
  {
   "cell_type": "markdown",
   "metadata": {
    "nbgrader": {
     "grade": false,
     "grade_id": "cell-a370859d6a9d2558",
     "locked": true,
     "schema_version": 3,
     "solution": false,
     "task": false
    }
   },
   "source": [
    "## Tuples\n",
    "\n",
    "### Rôle\n",
    "\n",
    "Les `tuples` sont des `listes` `immutables` (dont les élèments ne peuvent pas être modifiés.)  \n",
    "Les `tuples` sont utiles pour grouper plusieurs valeurs ou objets entre eux et les réutiliser collectivement plus tard.\n",
    "\n",
    "### Création\n",
    "\n",
    "Pour créer (instantier) un `tuple`, on définit ses valeurs entre parenthèses, par exemple:\n",
    "\n",
    "    mon_tuple = (1, 2, 3, 4)\n",
    "    \n",
    "### Accéder à un élément\n",
    "\n",
    "Pour accéder à un élément dans un `tuple`, il suffit d'écrire le nom de celui-ci suivi de crochets contenant la position de l'élément que nous voulons. En programmation informatique, nous commençons à compter à partir de `0`, le premier élément est donc l'élément 0.  \n",
    "Pour accéder au deuxième élément de mon tuple, je fais donc:  \n",
    "\n",
    "    deuxieme_element = mon_tuple[1]\n",
    "    print(deuxieme_element)\n",
    "    # 2\n",
    "    \n",
    "### Taille\n",
    "\n",
    "Pour afficher la taille d'un `tuple`, utilisez la fonction `len()`: \n",
    "\n",
    "    taille = len(mon_tuple)\n",
    "    print(taille)\n",
    "    # 4\n",
    "    \n",
    "### Vérifier si un élément fait partie de la liste\n",
    "\n",
    "Pour vérifier si un élément est dans un `tuple`, utilisez l'opérateur `in`: \n",
    "\n",
    "    membre = 10 in mon_tuple\n",
    "    print(membre)\n",
    "    # False"
   ]
  },
  {
   "cell_type": "code",
   "execution_count": 4,
   "metadata": {
    "nbgrader": {
     "grade": false,
     "grade_id": "cell-e1468f6dfa87b698",
     "locked": true,
     "schema_version": 3,
     "solution": false,
     "task": false
    }
   },
   "outputs": [
    {
     "name": "stdout",
     "output_type": "stream",
     "text": [
      "(1, 2, 3, 4)\n",
      "2\n",
      "4\n",
      "False\n"
     ]
    }
   ],
   "source": [
    "# EXEMPLE\n",
    "\n",
    "mon_tuple = (1, 2, 3, 4)\n",
    "print(mon_tuple)\n",
    "\n",
    "deuxieme_element = mon_tuple[1]\n",
    "print(deuxieme_element)\n",
    "\n",
    "taille = len(mon_tuple)\n",
    "print(taille)\n",
    "\n",
    "membre = 10 in mon_tuple\n",
    "print(membre)"
   ]
  },
  {
   "cell_type": "markdown",
   "metadata": {
    "nbgrader": {
     "grade": false,
     "grade_id": "cell-e934cafdde7af8b1",
     "locked": true,
     "schema_version": 3,
     "solution": false,
     "task": false
    }
   },
   "source": [
    "###### Tuples\n",
    "* _Créez_ `un tuple` Qui contient votre nom et votre âge.\n",
    "\n",
    "* _Print_ les informations dans le `tuple`."
   ]
  },
  {
   "cell_type": "code",
   "execution_count": 1,
   "metadata": {},
   "outputs": [],
   "source": [
    "mon_tuple = \n",
    "print(\"My name is {0} and I am {1} years old.\".format(mon_tuple[0], mon_tuple[1]))"
   ]
  },
  {
   "cell_type": "markdown",
   "metadata": {
    "nbgrader": {
     "grade": false,
     "grade_id": "cell-227e1f6618f5780a",
     "locked": true,
     "schema_version": 3,
     "solution": false,
     "task": false
    }
   },
   "source": [
    "## Listes\n",
    "\n",
    "### Rôle\n",
    "\n",
    "Les `listes` fonctionnent comment des `tuples` à la différence qu'ils ne sont pas `immutables`, donc nous pouvons modifier leur contenu ou retirer et rajouter dynamiquement des élèments.\n",
    "\n",
    "### Création\n",
    "\n",
    "Pour créer (instantier) une `liste`, on définit ses valeurs entre crochets (parenthèses carrées), par exemple:\n",
    "\n",
    "    ma_liste = [1, 2, 3, 4]\n",
    "    \n",
    "### Modification\n",
    "\n",
    "Pour modifier un élément, nous pouvons modifier sa valeur en utilisant son indexe comme ceci:  \n",
    "\n",
    "    ma_liste[2] = 0\n",
    "    print(ma_liste)\n",
    "    # [1, 2, 0, 4]\n",
    "    \n",
    "### Ajouter un élément\n",
    "\n",
    "Pour ajouter un élément dans une `liste`, on utilise la `méthode` `append()`:  \n",
    "\n",
    "    ma_liste.push(10)\n",
    "    print(ma_liste)\n",
    "    # [1, 2, 0, 4, 10]"
   ]
  },
  {
   "cell_type": "code",
   "execution_count": 2,
   "metadata": {
    "nbgrader": {
     "grade": false,
     "grade_id": "cell-6a8d3d675802f97c",
     "locked": true,
     "schema_version": 3,
     "solution": false,
     "task": false
    }
   },
   "outputs": [
    {
     "name": "stdout",
     "output_type": "stream",
     "text": [
      "[1, 2, 3, 4]\n",
      "[1, 2, 0, 4]\n",
      "[1, 2, 0, 4, 10]\n"
     ]
    }
   ],
   "source": [
    "ma_liste = [1, 2, 3, 4]\n",
    "print(ma_liste)\n",
    "\n",
    "ma_liste[2] = 0\n",
    "print(ma_liste)\n",
    "\n",
    "ma_liste.append(10)\n",
    "print(ma_liste)"
   ]
  },
  {
   "cell_type": "markdown",
   "metadata": {
    "nbgrader": {
     "grade": false,
     "grade_id": "cell-065867852642e39f",
     "locked": true,
     "schema_version": 3,
     "solution": false,
     "task": false
    }
   },
   "source": [
    "###### Lists\n",
    "* `Créez` une `liste` qui contient des noms de villes.\n",
    "\n",
    "* `Print` la deuxième ville de votre liste.\n",
    "\n",
    "* `Ajoutez` la ville `Hong Kong` à la liste avec la `méthode` `append()`"
   ]
  },
  {
   "cell_type": "code",
   "execution_count": 2,
   "metadata": {},
   "outputs": [],
   "source": [
    "cities = \n",
    "print(cities[1])"
   ]
  },
  {
   "cell_type": "markdown",
   "metadata": {
    "nbgrader": {
     "grade": false,
     "grade_id": "cell-0ca1b7aca6399b56",
     "locked": true,
     "schema_version": 3,
     "solution": false,
     "task": false
    }
   },
   "source": [
    "## Dans la cellule suivante, nous avons créé une liste de pays, exécutez (run) cette cellule pour pouvoir utiliser la liste `pays` dans les exercices suivants."
   ]
  },
  {
   "cell_type": "code",
   "execution_count": 1,
   "metadata": {
    "nbgrader": {
     "grade": false,
     "grade_id": "cell-b713aaa0545e1e95",
     "locked": true,
     "schema_version": 3,
     "solution": false,
     "task": false
    }
   },
   "outputs": [],
   "source": [
    "pays = [\"Switzerland\", \"Germany\", \"France\", \"Italy\", \"Spain\", \"Netherlands\", \"Norway\", \"Austria\", \"USA\", \"UK\"]"
   ]
  },
  {
   "cell_type": "markdown",
   "metadata": {
    "nbgrader": {
     "grade": false,
     "grade_id": "cell-23bebd4b3a2b3700",
     "locked": true,
     "schema_version": 3,
     "solution": false,
     "task": false
    }
   },
   "source": [
    "### Combien y a-t-il de pays?"
   ]
  },
  {
   "cell_type": "code",
   "execution_count": 7,
   "metadata": {},
   "outputs": [
    {
     "name": "stdout",
     "output_type": "stream",
     "text": [
      "\u001b[31m\"Mauvaise réponse, réessayez\"\u001b[0m\n"
     ]
    }
   ],
   "source": [
    "from assertion import nb_pays\n",
    "\n",
    "# VOTRE REPONSE ICI\n",
    "nombre_pays =\n",
    "# FIN DE VOTRE REPONSE\n",
    "\n",
    "nb_pays(pays, nombre_pays)"
   ]
  },
  {
   "cell_type": "markdown",
   "metadata": {
    "nbgrader": {
     "grade": false,
     "grade_id": "cell-78d01469d75ed6d7",
     "locked": true,
     "schema_version": 3,
     "solution": false,
     "task": false
    }
   },
   "source": [
    "### Ajoutez la Grèce à la liste"
   ]
  },
  {
   "cell_type": "code",
   "execution_count": 3,
   "metadata": {},
   "outputs": [
    {
     "name": "stdout",
     "output_type": "stream",
     "text": [
      "\u001b[32m\"Bonne réponse!\"\u001b[0m\n"
     ]
    }
   ],
   "source": [
    "from assertion import add_greece\n",
    "\n",
    "# VOTRE REPONSE ICI\n",
    "# FIN DE VOTRE REPONSE\n",
    "\n",
    "add_greece(pays)"
   ]
  },
  {
   "cell_type": "markdown",
   "metadata": {
    "nbgrader": {
     "grade": false,
     "grade_id": "cell-e77ea25dbfa91d6b",
     "locked": true,
     "schema_version": 3,
     "solution": false,
     "task": false
    }
   },
   "source": [
    "### Vérifiez si la Grèce est dans la liste "
   ]
  },
  {
   "cell_type": "code",
   "execution_count": 5,
   "metadata": {},
   "outputs": [
    {
     "name": "stdout",
     "output_type": "stream",
     "text": [
      "\u001b[31m\"Mauvaise réponse, réessayez\"\u001b[0m\n"
     ]
    }
   ],
   "source": [
    "from assertion import est_membre\n",
    "\n",
    "# VOTRE REPONSE ICI\n",
    "# FIN DE VOTRE REPONSE\n",
    "\n",
    "est_membre(pays, membre)"
   ]
  },
  {
   "cell_type": "markdown",
   "metadata": {
    "nbgrader": {
     "grade": false,
     "grade_id": "cell-dec168a6921931a2",
     "locked": true,
     "schema_version": 3,
     "solution": false,
     "task": false
    }
   },
   "source": [
    "### Changez la valeur du 5ème pays vers \"Canada\""
   ]
  },
  {
   "cell_type": "code",
   "execution_count": 4,
   "metadata": {},
   "outputs": [
    {
     "name": "stdout",
     "output_type": "stream",
     "text": [
      "\u001b[32m\"Bonne réponse!\"\u001b[0m\n"
     ]
    }
   ],
   "source": [
    "from assertion import Canada\n",
    "\n",
    "# VOTRE REPONSE ICI\n",
    "# FIN DE VOTRE REPONSE\n",
    "\n",
    "Canada(pays)"
   ]
  },
  {
   "cell_type": "markdown",
   "metadata": {
    "nbgrader": {
     "grade": false,
     "grade_id": "cell-22e47e2a188bbf77",
     "locked": true,
     "schema_version": 3,
     "solution": false,
     "task": false
    }
   },
   "source": [
    "##  Dictionnaires\n",
    "\n",
    "\n",
    "### Rôle\n",
    "\n",
    "Les `dictionnaires` sont des listes associatives, c'est-à-dire des listes qui relient une valeur à une autre. Dans un dictionnaire en papier, les mots sont reliés à leur définition. Dans les `dictionnaires` Python, nous pouvons relier n'importe quelle valeur à n'importe quelle autre valeur (même à elle-même.)  \n",
    "\n",
    "Dans un `dictionnaire` Python, on parle d'une relation `clef`, `valeur`. La `clef` étant le moyen de *\"retrouver\"* notre `valeur` dans notre `dictionnaire`. Par exemple, dans un dictionnaire en papier, nous pouvons retrouver une définition en cherchant le mot qui lui correspond, alternativement, nous pouvons retrouver le contenu d'une page d'un livre en utilisant le numéro de celle-ci, dans ce cas le numéro est la `clef` et le texte de la page, la `valeur`.\n",
    "\n",
    "### Création\n",
    "\n",
    "Pour créer (instantier) un `dictionnaire`, on écrit entre des accolades (`{}`) les `clefs`, suivies d'un `:` et de leur `valeur`, par exemple:\n",
    "\n",
    "    elon_musk = {\n",
    "                     \"prénom\": \"Elon\",\n",
    "                     \"nom\": \"Musk\",\n",
    "                     \"age\": 48,\n",
    "                     \"talents\": [\"programmation\", \"entrepreunariat\", \"aéronautique\"]\n",
    "                 }\n",
    "    \n",
    "### Accéder à un élément\n",
    "\n",
    "Pour accéder à un élément dans un `dictionnaire`, il suffit d'écrire le nom de celui-ci suivi de crochets contenant la `clef` de l'élément que nous voulons. \n",
    "Pour accéder à l'âge d'Elon Musk dans mon `dictionnaire`, je fais donc:  \n",
    "\n",
    "    age_elon = elon_musk[\"age\"]\n",
    "    print(age_elon)\n",
    "    # 48\n",
    "    \n",
    "    \n",
    "### Ajouter un élément\n",
    "\n",
    "Pour ajouter un élément dans un `dictionnaire`, il suffit de faire comme si nous souhaitions accèder à cet élément (la `clef` entre crochets `[]`), et d'y assigner une valeur.\n",
    "\n",
    "    elon_musk[\"richesse\"] = 20000000000\n",
    "    print(elon_musk[\"richesse\"])\n",
    "    # 20000000000"
   ]
  },
  {
   "cell_type": "code",
   "execution_count": 7,
   "metadata": {
    "nbgrader": {
     "grade": false,
     "grade_id": "cell-0ac7b62201e8fd82",
     "locked": true,
     "schema_version": 3,
     "solution": false,
     "task": false
    }
   },
   "outputs": [
    {
     "name": "stdout",
     "output_type": "stream",
     "text": [
      "{'prénom': 'Elon', 'nom': 'Musk', 'age': 48, 'talents': ['programmation', 'entrepreunariat', 'aéronautique']}\n",
      "48\n",
      "20000000000\n"
     ]
    }
   ],
   "source": [
    "elon_musk = {\n",
    "                 \"prénom\": \"Elon\",\n",
    "                 \"nom\": \"Musk\",\n",
    "                 \"age\": 48,\n",
    "                 \"talents\": [\"programmation\", \"entrepreunariat\", \"aéronautique\"]\n",
    "             }\n",
    "print(elon_musk)\n",
    "\n",
    "age_elon = elon_musk[\"age\"]\n",
    "print(age_elon)\n",
    "\n",
    "elon_musk[\"richesse\"] = 20000000000\n",
    "print(elon_musk[\"richesse\"])"
   ]
  },
  {
   "cell_type": "markdown",
   "metadata": {
    "nbgrader": {
     "grade": false,
     "grade_id": "cell-4256679366ef2309",
     "locked": true,
     "schema_version": 3,
     "solution": false,
     "task": false
    }
   },
   "source": [
    "## Dans la cellule suivante, nous avons créé un `dictionnaire` qui contient des mots français et les traduit vers l'anglais, exécutez (run) cette cellule pour pouvoir utiliser le `dictionnaire` `pays` dans les exercices suivants."
   ]
  },
  {
   "cell_type": "code",
   "execution_count": 1,
   "metadata": {
    "nbgrader": {
     "grade": false,
     "grade_id": "cell-f010f0e83ebe8b12",
     "locked": true,
     "schema_version": 3,
     "solution": false,
     "task": false
    }
   },
   "outputs": [],
   "source": [
    "fr_eng = {\n",
    "    \"chat\": \"cat\", \n",
    "    \"chien\": \"dog\", \n",
    "    \"oiseau\": \"bir\", \n",
    "    \"poule\": \"chicken\", \n",
    "    \"papillon\": \"butterfly\", \n",
    "    \"souris\": \"mouse\", \n",
    "    \"ours\": \"bear\", \n",
    "    \"mouton\": \"sheep\", \n",
    "    \"couchon\": \"pig\", \n",
    "    \"cheval\": \"horse\"\n",
    "}"
   ]
  },
  {
   "cell_type": "markdown",
   "metadata": {
    "nbgrader": {
     "grade": false,
     "grade_id": "cell-90f4b50a248eb3d1",
     "locked": true,
     "schema_version": 3,
     "solution": false,
     "task": false
    }
   },
   "source": [
    "### Combien y a-t-il de mots dans le `dictionnaire`?"
   ]
  },
  {
   "cell_type": "code",
   "execution_count": 12,
   "metadata": {},
   "outputs": [
    {
     "name": "stdout",
     "output_type": "stream",
     "text": [
      "\u001b[31m\"Mauvaise réponse, réessayez\"\u001b[0m\n"
     ]
    }
   ],
   "source": [
    "from assertion import nb_pays\n",
    "\n",
    "# VOTRE REPONSE ICI\n",
    "nombre_mots =\n",
    "# FIN DE VOTRE REPONSE\n",
    "\n",
    "nb_pays(fr_eng, nombre_mots)"
   ]
  },
  {
   "cell_type": "markdown",
   "metadata": {
    "nbgrader": {
     "grade": false,
     "grade_id": "cell-a6506b44f1e78cb5",
     "locked": true,
     "schema_version": 3,
     "solution": false,
     "task": false
    }
   },
   "source": [
    "### Comment le mot \"papillon\" est-il traduit en anglais selon le dictionnaire?"
   ]
  },
  {
   "cell_type": "code",
   "execution_count": 4,
   "metadata": {},
   "outputs": [
    {
     "ename": "SyntaxError",
     "evalue": "invalid syntax (<ipython-input-4-89fb900f54e9>, line 4)",
     "output_type": "error",
     "traceback": [
      "\u001b[0;36m  File \u001b[0;32m\"<ipython-input-4-89fb900f54e9>\"\u001b[0;36m, line \u001b[0;32m4\u001b[0m\n\u001b[0;31m    papillon_traduction =\u001b[0m\n\u001b[0m                         ^\u001b[0m\n\u001b[0;31mSyntaxError\u001b[0m\u001b[0;31m:\u001b[0m invalid syntax\n"
     ]
    }
   ],
   "source": [
    "from assertion import papillon\n",
    "\n",
    "# VOTRE REPONSE ICI\n",
    "papillon_traduction =\n",
    "# FIN DE VOTRE REPONSE\n",
    "\n",
    "papillon(fr_eng, papillon_traduction)"
   ]
  },
  {
   "cell_type": "markdown",
   "metadata": {
    "nbgrader": {
     "grade": false,
     "grade_id": "cell-b4240ca4f700bf79",
     "locked": true,
     "schema_version": 3,
     "solution": false,
     "task": false
    }
   },
   "source": [
    "### Ajoutez la traduction pour le mot \"vache\" -> \"cow\" dans le dictionnaire"
   ]
  },
  {
   "cell_type": "code",
   "execution_count": 4,
   "metadata": {},
   "outputs": [
    {
     "name": "stdout",
     "output_type": "stream",
     "text": [
      "\u001b[32m\"Bonne réponse!\"\u001b[0m\n"
     ]
    }
   ],
   "source": [
    "from assertion import add_cow\n",
    "\n",
    "# VOTRE REPONSE ICI\n",
    "# FIN DE VOTRE REPONSE\n",
    "\n",
    "add_cow(fr_eng)"
   ]
  },
  {
   "cell_type": "markdown",
   "metadata": {
    "nbgrader": {
     "grade": false,
     "grade_id": "cell-646f6a8667e6ab78",
     "locked": true,
     "schema_version": 3,
     "solution": false,
     "task": false
    }
   },
   "source": [
    "### \"oiseau\" se traduit par \"bird\", mais il a mal été écrit dans le dictionnaire, pouvez-vous corriger cette erreur?"
   ]
  },
  {
   "cell_type": "code",
   "execution_count": 3,
   "metadata": {},
   "outputs": [
    {
     "name": "stdout",
     "output_type": "stream",
     "text": [
      "\u001b[32m\"Bonne réponse!\"\u001b[0m\n"
     ]
    }
   ],
   "source": [
    "from assertion import correct\n",
    "\n",
    "# VOTRE REPONSE ICI\n",
    "# FIN DE VOTRE REPONSE\n",
    "\n",
    "correct(fr_eng)"
   ]
  }
 ],
 "metadata": {
  "celltoolbar": "Create Assignment",
  "kernelspec": {
   "display_name": "Python 3",
   "language": "python",
   "name": "python3"
  },
  "language_info": {
   "codemirror_mode": {
    "name": "ipython",
    "version": 3
   },
   "file_extension": ".py",
   "mimetype": "text/x-python",
   "name": "python",
   "nbconvert_exporter": "python",
   "pygments_lexer": "ipython3",
   "version": "3.7.3"
  }
 },
 "nbformat": 4,
 "nbformat_minor": 2
}
