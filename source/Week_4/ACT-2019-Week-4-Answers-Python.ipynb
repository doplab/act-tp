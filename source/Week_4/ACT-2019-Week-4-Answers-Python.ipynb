{
 "cells": [
  {
   "cell_type": "markdown",
   "metadata": {},
   "source": [
    "# ACT-2019 Exercises / Week 4"
   ]
  },
  {
   "cell_type": "markdown",
   "metadata": {},
   "source": [
    "### Data Structures"
   ]
  },
  {
   "cell_type": "markdown",
   "metadata": {},
   "source": [
    "###### Tuples\n",
    "* _Create_ **a tuple** which contains your name and your age.\n",
    "\n",
    "* _Print_ the information in **the tuple**."
   ]
  },
  {
   "cell_type": "code",
   "execution_count": 17,
   "metadata": {},
   "outputs": [
    {
     "name": "stdout",
     "output_type": "stream",
     "text": [
      "My name is Melike and I am 25 years old.\n"
     ]
    }
   ],
   "source": [
    "aTuple = (\"Melike\", 25)\n",
    "print(\"My name is {0} and I am {1} years old.\".format(aTuple[0], aTuple[1]))"
   ]
  },
  {
   "cell_type": "markdown",
   "metadata": {},
   "source": [
    "###### Lists\n",
    "* _Create_ **a list** which contains some cities.\n",
    "\n",
    "* _Print_ **the second city** in your list."
   ]
  },
  {
   "cell_type": "code",
   "execution_count": 18,
   "metadata": {},
   "outputs": [
    {
     "name": "stdout",
     "output_type": "stream",
     "text": [
      "Geneva\n"
     ]
    }
   ],
   "source": [
    "cities = [\"Lausanne\", \"Geneva\", \"Bern\", \"Zürich\"]\n",
    "print(cities[1])"
   ]
  },
  {
   "cell_type": "markdown",
   "metadata": {},
   "source": [
    "There is a list of countries already defined and initialized for you. Use the list **countries** for the following tasks.\n",
    "\n",
    "* How many countries are there? _Print_ the number of the countries.\n",
    "\n",
    "* _Add_ a country which is not in the list.\n",
    "\n",
    "* _Remove_ **the last country** from the list. \n",
    "\n",
    "* Can you verify if **Greece** is in the list?\n",
    "\n",
    "* _Print_ the names of the **2nd, 3rd and 4th** countries.\n",
    "\n",
    "* _Change_ the name of the **5th country** to **Canada** and _verify_ it."
   ]
  },
  {
   "cell_type": "code",
   "execution_count": 1,
   "metadata": {},
   "outputs": [],
   "source": [
    "countries = [\"Switzerland\", \"Germany\", \"France\", \"Italy\", \"Spain\", \"Netherlands\", \"Norway\", \"Austria\", \"USA\", \"UK\"]"
   ]
  },
  {
   "cell_type": "code",
   "execution_count": 2,
   "metadata": {},
   "outputs": [
    {
     "name": "stdout",
     "output_type": "stream",
     "text": [
      "There are 10 countries in the list.\n",
      "False\n",
      "['Germany', 'France', 'Italy']\n",
      "['Switzerland', 'Germany', 'France', 'Italy', 'Canada', 'Netherlands', 'Norway', 'Austria', 'USA', 'UK']\n"
     ]
    }
   ],
   "source": [
    "numberOfCountries = len(countries)\n",
    "print(\"There are {0} countries in the list.\".format(numberOfCountries))\n",
    "countries += [\"Russia\"]\n",
    "del countries[len(countries)-1]\n",
    "print(\"Greece\" in countries)\n",
    "print(countries[1:4])\n",
    "countries[4] = \"Canada\"\n",
    "print(countries)"
   ]
  },
  {
   "cell_type": "markdown",
   "metadata": {},
   "source": [
    "######  Dictionaries / Maps"
   ]
  },
  {
   "cell_type": "markdown",
   "metadata": {},
   "source": [
    "There is a dictionary already defined and initialized for you. Use the dictionary **fr_eng** for the following tasks.\n",
    "\n",
    "* How many words are there? _Print_ the number of word pairs in **fr_eng**.\n",
    "\n",
    "* What does **papillon** mean in English? _Print_ its meaning.\n",
    "\n",
    "* _Add_ a word pair which is not in the list. (for instance, vache: cow)\n",
    "\n",
    "* **oiseau** means **bird**, but it spelled wrong. Can you correct it? \n",
    "\n",
    "* Do we have the meaning of **serpant** in our French-English dictionary?"
   ]
  },
  {
   "cell_type": "code",
   "execution_count": 3,
   "metadata": {},
   "outputs": [],
   "source": [
    "fr_eng = {\n",
    "    \"chat\": \"cat\", \n",
    "    \"chien\": \"dog\", \n",
    "    \"oiseau\": \"bir\", \n",
    "    \"poule\": \"chicken\", \n",
    "    \"papillon\": \"butterfly\", \n",
    "    \"souris\": \"mouse\", \n",
    "    \"ours\": \"bear\", \n",
    "    \"mouton\": \"sheep\", \n",
    "    \"couchon\": \"pig\", \n",
    "    \"cheval\": \"horse\"\n",
    "}"
   ]
  },
  {
   "cell_type": "code",
   "execution_count": 4,
   "metadata": {},
   "outputs": [
    {
     "name": "stdout",
     "output_type": "stream",
     "text": [
      "French-English dictionary has 10 word pairs.\n",
      "butterfly\n",
      "False\n"
     ]
    }
   ],
   "source": [
    "numberOfPairs = len(fr_eng)\n",
    "print(\"French-English dictionary has {0} word pairs.\".format(numberOfPairs))\n",
    "print(fr_eng[\"papillon\"])\n",
    "fr_eng[\"vache\"] = \"cow\"\n",
    "fr_eng[\"oiseau\"] = \"bird\"\n",
    "print(\"serpant\" in fr_eng)"
   ]
  },
  {
   "cell_type": "markdown",
   "metadata": {},
   "source": [
    "### Loops"
   ]
  },
  {
   "cell_type": "markdown",
   "metadata": {},
   "source": [
    "###### For Loop"
   ]
  },
  {
   "cell_type": "markdown",
   "metadata": {},
   "source": [
    "_Print_ the countries using _for loop_."
   ]
  },
  {
   "cell_type": "code",
   "execution_count": 7,
   "metadata": {},
   "outputs": [
    {
     "name": "stdout",
     "output_type": "stream",
     "text": [
      "Switzerland\n",
      "Germany\n",
      "France\n",
      "Italy\n",
      "Spain\n",
      "Netherlands\n",
      "Norway\n",
      "Austria\n",
      "USA\n",
      "UK\n"
     ]
    }
   ],
   "source": [
    "countries = [\"Switzerland\", \"Germany\", \"France\", \"Italy\", \"Spain\", \"Netherlands\", \"Norway\", \"Austria\", \"USA\", \"UK\"]\n",
    "for aCountry in countries:\n",
    "    print(aCountry)"
   ]
  },
  {
   "cell_type": "markdown",
   "metadata": {},
   "source": [
    "_Ask_ user to enter their **3 favorite colors**."
   ]
  },
  {
   "cell_type": "code",
   "execution_count": 8,
   "metadata": {},
   "outputs": [
    {
     "name": "stdout",
     "output_type": "stream",
     "text": [
      "Color #1: f\n",
      "Color #2: f\n",
      "Color #3: f\n",
      "My first favorite color is f.\n",
      "My second favorite color is f.\n",
      "My third favorite color is f\n"
     ]
    }
   ],
   "source": [
    "colors = []\n",
    "for i in range(0,3):\n",
    "    colors += [input(\"Color #\" + str(i+1) + \": \")]\n",
    "    \n",
    "print((\"My first favorite color is {0}.\\n\" + \n",
    "       \"My second favorite color is {1}.\\n\" +\n",
    "       \"My third favorite color is {2}\"\n",
    "      ).format(colors[0], colors[1], colors[2]))"
   ]
  },
  {
   "cell_type": "markdown",
   "metadata": {},
   "source": [
    "###### While Loop"
   ]
  },
  {
   "cell_type": "markdown",
   "metadata": {},
   "source": [
    "_Calculate_ **the factorial of 4** using **while loop**. \n",
    "\n",
    "Hint: Factorial represented as **4!** in mathematics and it's calculated as **1 x 2 x 3 x 4 = 24**"
   ]
  },
  {
   "cell_type": "code",
   "execution_count": 9,
   "metadata": {},
   "outputs": [
    {
     "name": "stdout",
     "output_type": "stream",
     "text": [
      "4! equals to 24\n"
     ]
    }
   ],
   "source": [
    "result = 1\n",
    "count = 1\n",
    "while (count < 5):\n",
    "    result *= count\n",
    "    count += 1\n",
    "\n",
    "print(\"4! equals to \" + str(result))"
   ]
  },
  {
   "cell_type": "markdown",
   "metadata": {},
   "source": [
    "### Functions"
   ]
  },
  {
   "cell_type": "markdown",
   "metadata": {},
   "source": [
    "_Write_ a function which _takes_ the radius and _prints_ the area of a circle.\n",
    "\n",
    "Hint: Area = $\\Pi$ x $r^2$ , where _r_ is the radius of the circle. (_assume_ $\\Pi$ = 3.14)"
   ]
  },
  {
   "cell_type": "code",
   "execution_count": 10,
   "metadata": {},
   "outputs": [],
   "source": [
    "def areaOfACircle(radius):\n",
    "    print(3.14 * radius * radius)"
   ]
  },
  {
   "cell_type": "markdown",
   "metadata": {},
   "source": [
    "###### Returning a value"
   ]
  },
  {
   "cell_type": "markdown",
   "metadata": {},
   "source": [
    "_Write_ a function which _returns_ the meaning of a word in **fr_eng**. You should _pass_ the word as a parameter."
   ]
  },
  {
   "cell_type": "code",
   "execution_count": 11,
   "metadata": {},
   "outputs": [],
   "source": [
    "def foundAWord(word):\n",
    "    return fr_eng[word]"
   ]
  },
  {
   "cell_type": "markdown",
   "metadata": {},
   "source": [
    "###### Calling a function"
   ]
  },
  {
   "cell_type": "markdown",
   "metadata": {},
   "source": [
    "_Call_ the function that you wrote above and _calculate_ the area of a circle."
   ]
  },
  {
   "cell_type": "code",
   "execution_count": 12,
   "metadata": {},
   "outputs": [
    {
     "name": "stdout",
     "output_type": "stream",
     "text": [
      "50.24\n"
     ]
    }
   ],
   "source": [
    "areaOfACircle(4)"
   ]
  },
  {
   "cell_type": "markdown",
   "metadata": {},
   "source": [
    "_Print_ the meaning of **chat** in English."
   ]
  },
  {
   "cell_type": "code",
   "execution_count": 19,
   "metadata": {},
   "outputs": [
    {
     "name": "stdout",
     "output_type": "stream",
     "text": [
      "Chat means cat in English\n"
     ]
    }
   ],
   "source": [
    "print(\"Chat means {0} in English\".format(foundAWord(\"chat\")))"
   ]
  },
  {
   "cell_type": "markdown",
   "metadata": {},
   "source": [
    "###### Using a recursive function"
   ]
  },
  {
   "cell_type": "markdown",
   "metadata": {},
   "source": [
    "_Write_ a recursive function which _adds_ the numbers in the range of **[1, n]**."
   ]
  },
  {
   "cell_type": "code",
   "execution_count": 20,
   "metadata": {},
   "outputs": [],
   "source": [
    "def addNumbers(n):\n",
    "    if (n == 1):\n",
    "        return 1\n",
    "    else:\n",
    "        return n + addNumbers(n-1)"
   ]
  },
  {
   "cell_type": "markdown",
   "metadata": {},
   "source": [
    "_Call_ your function and _print_ the sum of numbers in the range of [1, 8]."
   ]
  },
  {
   "cell_type": "code",
   "execution_count": 21,
   "metadata": {},
   "outputs": [
    {
     "name": "stdout",
     "output_type": "stream",
     "text": [
      "36\n"
     ]
    }
   ],
   "source": [
    "print(addNumbers(8))"
   ]
  },
  {
   "cell_type": "markdown",
   "metadata": {},
   "source": [
    "### Literals\n",
    "Can you guess what will be the output?"
   ]
  },
  {
   "cell_type": "code",
   "execution_count": 22,
   "metadata": {},
   "outputs": [
    {
     "name": "stdout",
     "output_type": "stream",
     "text": [
      "<class 'str'> <class 'str'> <class 'int'> <class 'float'> <class 'bool'> <class 'tuple'> <class 'list'> <class 'dict'>\n"
     ]
    }
   ],
   "source": [
    "print(\n",
    "    type(\"Hello\"), \n",
    "    type('Hi'), \n",
    "    type(2019), \n",
    "    type(2.71), \n",
    "    type(False), \n",
    "    type((\"Hello, world\", 123)), \n",
    "    type([\"A\", \"B\"]),\n",
    "    type({\"ID\": 12, \"Name\": \"Jean\"})\n",
    ")"
   ]
  },
  {
   "cell_type": "code",
   "execution_count": null,
   "metadata": {},
   "outputs": [],
   "source": []
  }
 ],
 "metadata": {
  "kernelspec": {
   "display_name": "Python 3",
   "language": "python",
   "name": "python3"
  },
  "language_info": {
   "codemirror_mode": {
    "name": "ipython",
    "version": 3
   },
   "file_extension": ".py",
   "mimetype": "text/x-python",
   "name": "python",
   "nbconvert_exporter": "python",
   "pygments_lexer": "ipython3",
   "version": "3.6.7"
  }
 },
 "nbformat": 4,
 "nbformat_minor": 2
}
