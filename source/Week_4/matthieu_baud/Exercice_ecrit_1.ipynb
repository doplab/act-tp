{
 "cells": [
  {
   "cell_type": "markdown",
   "metadata": {},
   "source": [
    "## Exercise 1: Comprendre les algorithms"
   ]
  },
  {
   "cell_type": "markdown",
   "metadata": {},
   "source": [
    "En prenant en compte les deux algorithms suivants: "
   ]
  },
  {
   "cell_type": "code",
   "execution_count": null,
   "metadata": {},
   "outputs": [],
   "source": [
    "def algo1(L, n):\n",
    "    res = True\n",
    "    for i in range(2, n):\n",
    "        if L[i-1] > L[i]:\n",
    "            res = False\n",
    "    return res"
   ]
  },
  {
   "cell_type": "code",
   "execution_count": null,
   "metadata": {},
   "outputs": [],
   "source": [
    "import math\n",
    "\n",
    "def algo2(L, n):\n",
    "    \n",
    "    if n == 1:\n",
    "        return 0\n",
    "    d = math.abs(L[2] - L[1])\n",
    "    for i in range(3, n):\n",
    "        next_d = math.abs(L[i] - L[i-1])\n",
    "        if next_d > d:\n",
    "            d = next_d"
   ]
  },
  {
   "cell_type": "markdown",
   "metadata": {},
   "source": [
    "1) Quel est la sortie de chacun de ces algorithmes si les donnees en entree valent L= (7,14,22,13,17) et n = 5 ? \n",
    "\n",
    "2) De manière générale quel est la srtie de ces deux algorithms ?"
   ]
  },
  {
   "cell_type": "markdown",
   "metadata": {},
   "source": [
    "## Exercise 2: Corriger des algorithms"
   ]
  },
  {
   "cell_type": "markdown",
   "metadata": {},
   "source": [
    "On demande à deux étudiants d'écrire un algorithm qui : calcule la somme des n premiers  nombres  entiers  faisant  partie  de  la  liste  des  multiples  de  5  ou  de  celle  des  multiples  de  3  (ou non-exclusif). Voici les algorithms écrits par Bob et Sarah:\n"
   ]
  },
  {
   "cell_type": "code",
   "execution_count": null,
   "metadata": {},
   "outputs": [],
   "source": [
    "def bob_algo(n):\n",
    "    s = 0\n",
    "    j = 1\n",
    "    for i in range(n):\n",
    "        while j%5 != 0 and j%3 != 0:\n",
    "            #Rappel j+= 1 est equivalent à j = j + 1\n",
    "            j += 1\n",
    "        s += j\n",
    "    return s"
   ]
  },
  {
   "cell_type": "code",
   "execution_count": null,
   "metadata": {},
   "outputs": [],
   "source": [
    "def sarah_algo(n):\n",
    "    s = 0\n",
    "    i = 1\n",
    "    j = 1\n",
    "    \n",
    "    while i <= n:\n",
    "        j += 1\n",
    "        \n",
    "        if j%5 == 0:\n",
    "            s += j\n",
    "            i += 1\n",
    "        if j%3 == 0:\n",
    "            s += j\n",
    "            i += 1\n",
    "    return s"
   ]
  },
  {
   "cell_type": "markdown",
   "metadata": {},
   "source": [
    "1) Chacun des deux algorithms ont un problèmes, trouvez lesquelles et donner un example dans lequel ils ne fonctionnent pas. \n",
    "\n",
    "2) Corriger ces deux algorithms pour qu'ils fonctionnent."
   ]
  },
  {
   "cell_type": "markdown",
   "metadata": {},
   "source": [
    "## Exercise 3: Ecrire un algorithme"
   ]
  },
  {
   "cell_type": "markdown",
   "metadata": {},
   "source": [
    "Ecrire un algorithm qui prend en entrée une liste L de nombres entiers, de taille n et x un nombre entier positif; et qui retourne True s'il existe i et j appartenant à [1, n] tels que |L(i) - L(j)| > x et False dans le cas contaire."
   ]
  },
  {
   "cell_type": "markdown",
   "metadata": {},
   "source": [
    "## Exercise 4: Ecrire une version récursive"
   ]
  },
  {
   "cell_type": "markdown",
   "metadata": {},
   "source": [
    "Voici un algorithme qui calcule la suite de Syracuse (https://fr.wikipedia.org/wiki/Conjecture_de_Syracuse)"
   ]
  },
  {
   "cell_type": "code",
   "execution_count": null,
   "metadata": {},
   "outputs": [],
   "source": [
    "def syracuse(x):\n",
    "    L = [x]\n",
    "    while x != 1:\n",
    "        if x%2 == 0:\n",
    "            x /= 2\n",
    "        else:\n",
    "            x = 3*x + 1\n",
    "        L.append(x)\n",
    "    return L\n"
   ]
  },
  {
   "cell_type": "markdown",
   "metadata": {},
   "source": [
    "Ecriver une version récursive de cette algorithm."
   ]
  },
  {
   "cell_type": "markdown",
   "metadata": {},
   "source": [
    "## Exercise 5: Que fait cette algorithme ?"
   ]
  },
  {
   "cell_type": "markdown",
   "metadata": {},
   "source": [
    "Condidère l'algorithme suivant qui prend en entrée une liste L de taille n et un nombre entier x:\n"
   ]
  },
  {
   "cell_type": "code",
   "execution_count": null,
   "metadata": {},
   "outputs": [],
   "source": [
    "import math\n",
    "\n",
    "def bizarre(L, n, x):\n",
    "    a = 1\n",
    "    b = n\n",
    "    while b >= a\n",
    "        j = math.ceil((a + b)/2)\n",
    "        if  x == L[j]:\n",
    "            return True\n",
    "        else:\n",
    "            if L[j] < x:\n",
    "                a = j + 1\n",
    "            else:\n",
    "                b = j - 1\n",
    "    return False"
   ]
  },
  {
   "cell_type": "markdown",
   "metadata": {},
   "source": [
    "1) Si L= (2,2,2,2,2,2,2,2), n = 8 et x = 1, quelle est la sortie de l’algorithme et combien de fois la boucle While est-elle executée ?\n",
    "\n",
    "2) En générale quelle est la sortie de cette algorithme ?"
   ]
  },
  {
   "cell_type": "code",
   "execution_count": null,
   "metadata": {},
   "outputs": [],
   "source": []
  }
 ],
 "metadata": {
  "kernelspec": {
   "display_name": "Python 3",
   "language": "python",
   "name": "python3"
  },
  "language_info": {
   "codemirror_mode": {
    "name": "ipython",
    "version": 3
   },
   "file_extension": ".py",
   "mimetype": "text/x-python",
   "name": "python",
   "nbconvert_exporter": "python",
   "pygments_lexer": "ipython3",
   "version": "3.7.3"
  }
 },
 "nbformat": 4,
 "nbformat_minor": 2
}
