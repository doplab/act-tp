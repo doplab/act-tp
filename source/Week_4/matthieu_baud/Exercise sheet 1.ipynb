{
 "cells": [
  {
   "cell_type": "markdown",
   "metadata": {},
   "source": [
    "## Exercise 1: Warm up"
   ]
  },
  {
   "cell_type": "markdown",
   "metadata": {},
   "source": [
    "1) Write a program which return true if the parameters is a multiply of 5 or 7.\n",
    "\n",
    "2) Write a program which return the sum of the n first numbers (n is a parameter of the function)\n",
    "\n",
    "3) Take a list, say for example this one: a = [1, 1, 2, 3, 5, 8, 13, 21, 34, 55, 89] , and write a program that prints out all the elements of the list that are less than 5.\n",
    "\n",
    "4) Write a program thatgenerates Fibonnaci numbers.\n",
    "\n",
    "5) Write a program which concatenate N string contains in a list, ex: [\"Salut\", \"Ciao\", \"Hello\"]\n",
    "\n",
    "6) Write a program to check if a string is numeric.\n",
    "\n",
    "7) Write a program to calculate the difference between the squared sum of first n natural numbers and the sum of squared first n natural numbers.\n"
   ]
  },
  {
   "cell_type": "code",
   "execution_count": null,
   "metadata": {},
   "outputs": [],
   "source": [
    "def multiply(x):\n",
    "    if x %5 == 0 or x %7 == 0:\n",
    "        return True\n",
    "    else:\n",
    "        return False\n",
    "\n",
    "print(multiply(35))\n",
    "print(multiply(12))"
   ]
  },
  {
   "cell_type": "code",
   "execution_count": null,
   "metadata": {},
   "outputs": [],
   "source": [
    "def sum_n(n):\n",
    "    res = 0\n",
    "    for i in range(n+1):\n",
    "        res += i\n",
    "    return res\n",
    "\n",
    "print(sum_n(5))\n",
    "print(sum_n(100))"
   ]
  },
  {
   "cell_type": "code",
   "execution_count": null,
   "metadata": {},
   "outputs": [],
   "source": [
    "def nbr_under_five(l):\n",
    "    for elem in l:\n",
    "        if elem < 5:\n",
    "            print(elem)\n",
    "    return\n",
    "nbr_under_five([1, 1, 2, 3, 5, 8, 13, 21, 34, 55, 89])"
   ]
  },
  {
   "cell_type": "code",
   "execution_count": null,
   "metadata": {},
   "outputs": [],
   "source": [
    "def fibonnaci(n):\n",
    "    if (n <= 0) : \n",
    "        return 0\n",
    "   \n",
    "    fibo = [0] * (n+1) \n",
    "    fibo[1] = 1\n",
    "   \n",
    "    # Initialize result \n",
    "    sm = fibo[0] + fibo[1] \n",
    "   \n",
    "    # Add remaining terms \n",
    "    for i in range(2,n+1) : \n",
    "        fibo[i] = fibo[i-1] + fibo[i-2] \n",
    "        sm = sm + fibo[i] \n",
    "          \n",
    "    return sm \n",
    "fibonnaci(5)"
   ]
  },
  {
   "cell_type": "code",
   "execution_count": null,
   "metadata": {},
   "outputs": [],
   "source": [
    "def concatenate_string(l):\n",
    "    return '-'.join(l)"
   ]
  },
  {
   "cell_type": "code",
   "execution_count": null,
   "metadata": {},
   "outputs": [],
   "source": [
    "def add_numbers(a, b):\n",
    "    if not (isinstance(a, int) and isinstance(b, int)):\n",
    "         raise TypeError(\"Inputs must be integers\")\n",
    "    return a + b"
   ]
  },
  {
   "cell_type": "code",
   "execution_count": null,
   "metadata": {},
   "outputs": [],
   "source": [
    "def sum_diff(n):\n",
    "    sum_of_squares = 0\n",
    "    square_of_sum = 0\n",
    "    for num in range(1, n+1):\n",
    "        sum_of_squares += num * num\n",
    "        square_of_sum += num\n",
    "\n",
    "    square_of_sum = square_of_sum ** 2\n",
    "\n",
    "    return square_of_sum - sum_of_squares\n",
    "\n",
    "\n",
    "print(sum_diff(12))\n"
   ]
  },
  {
   "cell_type": "markdown",
   "metadata": {},
   "source": [
    "## Exercise 2: Rock-Paper-Scissors Game"
   ]
  },
  {
   "cell_type": "markdown",
   "metadata": {},
   "source": [
    "Make a two-player Rock-Paper-Scissors game. (Hint: Ask for player plays (using input), compare them, print out a message of congratulations to the winner, and ask if the players want to start a new game)"
   ]
  },
  {
   "cell_type": "code",
   "execution_count": null,
   "metadata": {
    "scrolled": true
   },
   "outputs": [],
   "source": [
    "import sys\n",
    "\n",
    "user1 = input(\"What's your name?\")\n",
    "user2 = input(\"And your name?\")\n",
    "user1_answer = input(\"%s, do yo want to choose rock, paper or scissors?\" % user1)\n",
    "user2_answer = input(\"%s, do you want to choose rock, paper or scissors?\" % user2)\n",
    "\n",
    "def compare(u1, u2):\n",
    "    if u1 == u2:\n",
    "        return(\"It's a tie!\")\n",
    "    elif u1 == 'rock':\n",
    "        if u2 == 'scissors':\n",
    "            return(\"Rock wins!\")\n",
    "        else:\n",
    "            return(\"Paper wins!\")\n",
    "    elif u1 == 'scissors':\n",
    "        if u2 == 'paper':\n",
    "            return(\"Scissors win!\")\n",
    "        else:\n",
    "            return(\"Rock wins!\")\n",
    "    elif u1 == 'paper':\n",
    "        if u2 == 'rock':\n",
    "            return(\"Paper wins!\")\n",
    "        else:\n",
    "            return(\"Scissors win!\")\n",
    "    else:\n",
    "        return(\"Invalid input! You have not entered rock, paper or scissors, try again.\")\n",
    "        sys.exit()\n",
    "\n",
    "print(compare(user1_answer, user2_answer))"
   ]
  },
  {
   "cell_type": "markdown",
   "metadata": {},
   "source": [
    "## Exercise 3: Base representation"
   ]
  },
  {
   "cell_type": "markdown",
   "metadata": {},
   "source": [
    "1) Write a programme that convert a décimal representation positive number to its binary form. The program should represent the number over 8 bits binary string. Check your result with the in-build function: bin(n).replace(\"0b\", \"\").\n",
    "\n",
    "2) Write the reverse program which convert a binary number into its decimal form. Hint: use the function pow(.), your parameters coulb be an integer of a string.\n",
    "\n",
    "4) Bonus: enhance your algorithm to represent also negatives numbers.\n",
    "\n",
    "3) Bonus: You can do the same with the hexadecimal base (https://fr.wikipedia.org/wiki/Syst%C3%A8me_hexad%C3%A9cimal )\n",
    "\n"
   ]
  },
  {
   "cell_type": "markdown",
   "metadata": {},
   "source": [
    "1)"
   ]
  },
  {
   "cell_type": "code",
   "execution_count": 2,
   "metadata": {},
   "outputs": [
    {
     "name": "stdout",
     "output_type": "stream",
     "text": [
      "0"
     ]
    }
   ],
   "source": [
    "def dec_to_bin(num):   \n",
    "    if num > 1: \n",
    "        dec_to_bin(num // 2) \n",
    "    print(num % 2, end = '') \n",
    "dec_to_bin(-10)"
   ]
  },
  {
   "cell_type": "markdown",
   "metadata": {},
   "source": [
    "2)"
   ]
  },
  {
   "cell_type": "code",
   "execution_count": null,
   "metadata": {},
   "outputs": [],
   "source": [
    "def bin_to_dec(binary): \n",
    "      \n",
    "    binary1 = binary \n",
    "    decimal, i, n = 0, 0, 0\n",
    "    while(binary != 0): \n",
    "        dec = binary % 10\n",
    "        decimal = decimal + dec * pow(2, i) \n",
    "        binary = binary//10\n",
    "        i += 1\n",
    "    print(decimal)   "
   ]
  },
  {
   "cell_type": "markdown",
   "metadata": {},
   "source": [
    "4)"
   ]
  },
  {
   "cell_type": "code",
   "execution_count": 9,
   "metadata": {},
   "outputs": [
    {
     "data": {
      "text/plain": [
       "'64'"
      ]
     },
     "execution_count": 9,
     "metadata": {},
     "output_type": "execute_result"
    }
   ],
   "source": [
    "h=[str(i) for i in range(10)]+[\"A\",\"B\",\"C\",\"D\",\"E\",\"F\"]\n",
    "def dec_to_hex(x):\n",
    "    res = \"\"\n",
    "    while x:\n",
    "        res += h[x%16]\n",
    "        x//=16\n",
    "    return res[::-1]\n",
    "\n",
    "dec_to_hex(100)"
   ]
  },
  {
   "cell_type": "code",
   "execution_count": null,
   "metadata": {},
   "outputs": [],
   "source": []
  },
  {
   "cell_type": "markdown",
   "metadata": {},
   "source": [
    "## Exercise 4: Range over an interval"
   ]
  },
  {
   "cell_type": "markdown",
   "metadata": {},
   "source": [
    "Create a program which print all element between a positive interval. \n",
    "You programms have 3 arguments : start, end and step. This algorithm is communly use in python thanks to the function range(.). \n",
    "You will use it a lot during the next session.\n",
    "    "
   ]
  },
  {
   "cell_type": "code",
   "execution_count": 16,
   "metadata": {},
   "outputs": [
    {
     "name": "stdout",
     "output_type": "stream",
     "text": [
      "1\n",
      "1.5\n",
      "2.0\n",
      "2.5\n",
      "3.0\n",
      "3.5\n",
      "4.0\n",
      "4.5\n"
     ]
    }
   ],
   "source": [
    "def range_pos(start, stop=None, step=None):\n",
    "    \n",
    "    if stop == None:\n",
    "        stop = start + 0.0\n",
    "        start = 0.0\n",
    "    if step == None:\n",
    "        step = 1.0\n",
    "    while start < stop:\n",
    "        print(start)\n",
    "        start += step\n",
    "range_pos(1, 5, 0.5)"
   ]
  },
  {
   "cell_type": "markdown",
   "metadata": {},
   "source": [
    "## Exercise 5: Geometry exercise"
   ]
  },
  {
   "cell_type": "markdown",
   "metadata": {},
   "source": [
    "1) Write a program to convert degree to radian. You can use the pi value of the math library.\n",
    "\n",
    "2) Write a program to find the next previous palindrome of a specified number.\n",
    "\n"
   ]
  },
  {
   "cell_type": "code",
   "execution_count": 23,
   "metadata": {},
   "outputs": [
    {
     "name": "stdout",
     "output_type": "stream",
     "text": [
      "7.853981633974483\n"
     ]
    }
   ],
   "source": [
    "import math\n",
    "def deg_to_grad(degree):\n",
    "    radian = degree*(math.pi/180) \n",
    "    print(radian)\n",
    "    return\n",
    "\n",
    "deg_to_grad(450)"
   ]
  },
  {
   "cell_type": "code",
   "execution_count": 24,
   "metadata": {},
   "outputs": [
    {
     "name": "stdout",
     "output_type": "stream",
     "text": [
      "88\n"
     ]
    }
   ],
   "source": [
    "def prev_palin(n):\n",
    "    \n",
    "    for i in range(n-1,0,-1):\n",
    "        if str(i) == str(i)[::-1]:\n",
    "            return i\n",
    "print(prev_palin(99));"
   ]
  },
  {
   "cell_type": "markdown",
   "metadata": {},
   "source": [
    "## Exercise 6: Moyennes"
   ]
  },
  {
   "cell_type": "markdown",
   "metadata": {},
   "source": [
    "a) Ecrivez un algorithme qui calcule la moyenne arithmetique d’une liste L de n nombres reels:\n",
    "    m<sub>A</sub> = { L(1) + L(2) + ... + L(n) } / n\n",
    "    \n",
    "b) Ecrivez maintenant un algorithme qui utilise l’algorithme precèdent comme sous-algorithme pour calculer la moyenne geométrique d’une liste L de n nombres reels positifs:\n",
    "    m<sub>G</sub> = { L(1) . L(2) .... L(n) }<sup>1/n</sup>\n",
    "\n",
    "*Indication: Calculer log<sub>2</sub>(m<sub>G</sub>) en utilisant le fait que log<sub>2</sub>(a·b) = log<sub>2</sub>(a) + log<sub>2</sub>(b) et log<sub>2</sub>(ab) = b log<sub>2</sub>(a)*\n",
    "\n",
    "c) Ecrivez un algorithme qui calcule le produit des deux plus grands nombres d’une liste L de n nombres reels positifs (par exemple, si L= (3,6,18,12,7) et n= 5, alors la sortie doit ˆetre 12×18 = 216)."
   ]
  },
  {
   "cell_type": "code",
   "execution_count": null,
   "metadata": {},
   "outputs": [],
   "source": []
  }
 ],
 "metadata": {
  "kernelspec": {
   "display_name": "Python 3",
   "language": "python",
   "name": "python3"
  },
  "language_info": {
   "codemirror_mode": {
    "name": "ipython",
    "version": 3
   },
   "file_extension": ".py",
   "mimetype": "text/x-python",
   "name": "python",
   "nbconvert_exporter": "python",
   "pygments_lexer": "ipython3",
   "version": "3.7.2"
  }
 },
 "nbformat": 4,
 "nbformat_minor": 2
}
