{
 "cells": [
  {
   "cell_type": "markdown",
   "metadata": {},
   "source": [
    "# Algorithmes et Pensée Computationnelle\n",
    "## Exercices  –  Semaine 2\n",
    "\n",
    "\n",
    "Pour réaliser cet exercice, vous allez devoir interagir avec système de fichiers (file system) de Jupyter Hub au travers d’un terminal. Nous vous conseillons de garder ce notebook d’instruction ouvert dans un onglet afin de suivre les étapes de l’exercice.\n",
    "\n",
    "### Ouverture d’un terminal dans Jupyter.\n",
    "\n",
    "Rendez-vous dans l’onglet « Files » de votre Jupyter Hub. \n",
    "En haut à droite cliquez sur New puis Terminal  –  Notez que le dossier dans lequel vous vous trouvez n’a pas d’importance.\n",
    "\n",
    "\n",
    "![alt text](https://github.com/doplab/act-tp/tree/master/images/week2/week2_1 \"Lancement d’un nouveau Terminal\")\n",
    "Figure 1 : Lancement d’un nouveau Terminal\n",
    "\n",
    "Le terminal s’ouvre dans un nouvel onglet de votre navigateur. \n",
    "\n",
    "Le terminal exécute un « shell » qui sert d’interface entre le système d’exploitation (Operating System – OS) et l’utilisateur. Dans le cas présent, le langage du Shell est le « BASH » (Bourne-Again Shell). Il s’agit d’un langage interprété en mode interactif depuis le terminal ; néanmoins il est également possible d’écrire des scripts en BASH pour les exécuter ultérieurement. En BASH vous pouvez aussi bien communiquer avec votre OS, naviguer dans le système de fichiers (file system), lire des fichiers, lancer des programmes ou encore effectuer des opérations arithmétiques. Nous verrons ultérieurement qu’il est possible d’exécuter d’autre programme que le Shell dans le terminal, comme par exemple un interpréteur python. \n",
    "\n",
    "### Quelques commandes de base\n",
    "\n",
    "* **echo** : la commande echo retourne dans le terminal une chaine de caractère qui lui est passé en argument. Essayez en tapant « echo Hello Word ! » par exemple. \n",
    "\n",
    "* **pwd** : la commande pwd (pour print working directory) retourne le chemin (path) depuis la racine du système de fichiers menant jusqu’au dossier dans lequel vous vous trouvez et à partir duquel la prochaine commande BASH sera exécutée. \n",
    "\n",
    "* **ls** :  la commande ls retourne la liste des fichiers et dossiers présent dans votre répertoire actuel. \n",
    "\n",
    "* **cd** : la commande cd vous permets de changer de répertoire (directory).\n",
    "\n",
    "#### Nous allons maintenant naviguer dans le système de fichers afin de nous rendre dans le répertoire Week_2. \n",
    "\n",
    "+ Tapez la commande « pwd » afind de vérifier où vous vous trouvez. \n",
    "+ Tapez la commande « cd » afin de revenir dans votre répertoire home si c’est pas déjà le cas.\n",
    "+ Tapez la commande « ls » : en principe, il devrait y avoir un répertoire « AlgoComp ». \n",
    "+ Tapez la commande « cd AlgoComp/ » pour changer de répertoire. \n",
    "+ Tapez la commande « pwd » qui vous confirmera que vous vous trouvez bien dans le répertoire /home/jovyan/AlgoComp.\n",
    "+ Tapez la commande « ls » qui vous montrera les fichiers et dossiers dans le répertoire « /home/jovyan/AlgoComp ». \n",
    "\n",
    "+ Rendez-vous maintenant dans le répertoire Week_2 avec la commande « cd ».\n",
    "\n",
    "_Notez qu’il aurait aussi été possible de faire directement « cd AlgoComp/Week_2/ » _depuis votre répertoire home._\n",
    "\n",
    "_Pour remonter d’un niveau dans le files system utilisez « cd .. » « cd ../.. » pour deux niveaux et « cd » pour revenir dans le home directory._\n",
    "\n",
    "### Lancement de python en mode interactif dans le terminal\n",
    "\n",
    "Pour lancer python dans le terminal exécutez la commande  « python ». Votre terminal exécute  maintenant un interpréteur python et non plus un Shell. Testez en écrivant « print(\"Hello Wolrd!\") » dans le terminal. Amusez-vous à jouer avec la console en effectuant des opérations arithmétique de base. Pour quitter l’interpréteur python et revenir sur le Shell faites « ctrl + d »\n",
    "\n",
    "### Ecriture d’un programme avec Nano en terminal + Exec dans le shell\n",
    "\n",
    "#todo\n",
    "\n",
    "### Compilation et lancement d’un programme Java\n",
    "\n",
    "#todo \n"
   ]
  },
  {
   "cell_type": "code",
   "execution_count": null,
   "metadata": {},
   "outputs": [],
   "source": []
  }
 ],
 "metadata": {
  "kernelspec": {
   "display_name": "Python 3",
   "language": "python",
   "name": "python3"
  },
  "language_info": {
   "codemirror_mode": {
    "name": "ipython",
    "version": 3
   },
   "file_extension": ".py",
   "mimetype": "text/x-python",
   "name": "python",
   "nbconvert_exporter": "python",
   "pygments_lexer": "ipython3",
   "version": "3.7.3"
  }
 },
 "nbformat": 4,
 "nbformat_minor": 2
}
