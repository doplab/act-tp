{
 "cells": [
  {
   "cell_type": "markdown",
   "metadata": {
    "nbgrader": {
     "grade": false,
     "grade_id": "cell-90e4ec62a54adf9e",
     "locked": true,
     "schema_version": 3,
     "solution": false,
     "task": false
    }
   },
   "source": [
    "# Premiers pas en Python\n",
    "### print(\"Hello World\")  \n",
    "\n",
    "Le premier programme d'un nouveau programmeur Python consiste traditionnellement à afficher un simple texte. Pour ce faire, il suffit d'appeler la fonction `print` et de lui donner en argument du texte, écrit entre des quotes `\" \"`.  \n",
    "  \n",
    "  \n",
    "*Essayez d'exécuter la cellule suivante pour voir ce qu'il se passe. Vous pouvez aussi remplacer le texte pour expérimenter.*"
   ]
  },
  {
   "cell_type": "code",
   "execution_count": 1,
   "metadata": {},
   "outputs": [
    {
     "name": "stdout",
     "output_type": "stream",
     "text": [
      "Hello World\n"
     ]
    }
   ],
   "source": [
    "print(\"Hello World\")"
   ]
  },
  {
   "cell_type": "markdown",
   "metadata": {
    "nbgrader": {
     "grade": false,
     "grade_id": "cell-d0840082847d5631",
     "locked": true,
     "schema_version": 3,
     "solution": false,
     "task": false
    }
   },
   "source": [
    "### A propos des fonctions  \n",
    "\n",
    "Pour appeler une fonction, il faut écrire le nom de celle-ci et écrire des parenthèses `()` à la suite pour l'exécuter. Si cette fonction prend des arguments, écrivez ceux-ci dans les parenthèses. Dans notre exemple, la fonction s'appelle `print`. L'argument de notre fonction est le texte que nous souhaitons afficher `Hello World`. Nous l'appelons donc en faisant `print(\"Hello World\")`."
   ]
  },
  {
   "cell_type": "markdown",
   "metadata": {
    "nbgrader": {
     "grade": false,
     "grade_id": "cell-b5b7677f2d3c41ff",
     "locked": true,
     "schema_version": 3,
     "solution": false,
     "task": false
    }
   },
   "source": [
    "# Variables  \n",
    "\n",
    "En programmation, il est très fréquent de vouloir enregistrer une valeur pour pouvoir la réutiliser plus tard. C'est la raison pour laquelle nous avons des `variables`.  \n",
    "  \n",
    "Une variable contient deux *parties*, un `nom` et une `valeur`.  \n",
    "\n",
    "Déclarer une variable en python est très simple, il suffit d'écrire le `nom` de votre varialbe, suivi d'un égal `=` et de la `valeur` que vous voulez donner à cette variable.  \n",
    "\n",
    "*Dans l'exemple suivant nous déclarons une variable du nom `hello` et nous lui donnons la valeur `\"world\"`, essayez de modifier la valeur de la variable `hello` pour voir ce qu'il se passe.*"
   ]
  },
  {
   "cell_type": "code",
   "execution_count": 3,
   "metadata": {},
   "outputs": [
    {
     "name": "stdout",
     "output_type": "stream",
     "text": [
      "world\n"
     ]
    }
   ],
   "source": [
    "# Déclarer la variable\n",
    "\n",
    "hello = \"world\"\n",
    "\n",
    "# Appeler print avec la variable comme argument\n",
    "\n",
    "print(hello)"
   ]
  },
  {
   "cell_type": "code",
   "execution_count": null,
   "metadata": {},
   "outputs": [],
   "source": []
  }
 ],
 "metadata": {
  "celltoolbar": "Create Assignment",
  "kernelspec": {
   "display_name": "Python 3",
   "language": "python",
   "name": "python3"
  },
  "language_info": {
   "codemirror_mode": {
    "name": "ipython",
    "version": 3
   },
   "file_extension": ".py",
   "mimetype": "text/x-python",
   "name": "python",
   "nbconvert_exporter": "python",
   "pygments_lexer": "ipython3",
   "version": "3.7.3"
  }
 },
 "nbformat": 4,
 "nbformat_minor": 2
}
