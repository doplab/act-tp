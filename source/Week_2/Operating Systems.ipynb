{
 "cells": [
  {
   "cell_type": "markdown",
   "metadata": {
    "nbgrader": {
     "grade": false,
     "grade_id": "cell-7607bceb16518689",
     "locked": true,
     "schema_version": 3,
     "solution": false,
     "task": false
    }
   },
   "source": [
    "# Systèmes d'Exploitation\n",
    "\n",
    "\n",
    "## Logiciels système:  \n",
    "\n",
    "Logiciels intermédiaires avec lesquels les utilisateurs n'intéragissent pas directement mais qui restent nécessaires au bon fonctionnement de la machine (Windows, Linux, librairies, interprètes, etc.)\n",
    "\n",
    "## Applications: \n",
    "\n",
    "Logiciels que l'utilisateur final utilise (Word, Chrome, jeux vidéos, etc.)\n",
    "\n"
   ]
  },
  {
   "cell_type": "markdown",
   "metadata": {
    "nbgrader": {
     "grade": false,
     "grade_id": "cell-e1e3b25783285dc5",
     "locked": true,
     "schema_version": 3,
     "solution": false,
     "task": false
    }
   },
   "source": [
    "# Systèmes d'Exploitation (Operating Systems)\n",
    "\n",
    "L'OS est le logiciel le plus important de l'ordinateur car il est responsable de tous les autres programmes et de leurs priorités d'exécution, il organise aussi les interactions et l'orchestration des différents composants physiques de la machine.\n",
    "\n",
    "L'OS contrôle l'accès au `matériel` physique et gère les `processeurs`, la `mémoire`, le `storage`, la `sécurité` et les `périphériques externes`. Par exemple, l'OS identifie quel utilisateur est connecté (au moment d'entrer le mot de passe à l'allumage), il reconnaît quelles touches du clavier et de la souris sont pressées, il affiche les images à l'écran et il sauvegarde les fichiers dans les `disques durs` internes ou externes.\n",
    "\n",
    "La plupart du temps, de nombreuses applications sont exécutées au même moment sur le même ordinateur. Elles ont besoin d'utiliser les mêmes composants de l'ordinateur (`CPU`, `RAM`, `Storage`). Cependant, ces différents composants ne peuvent faire qu'une seule chose à la fois (même si ils les font très rapidement), c'est la raison pour laquelle l'OS orchestre chaque tâche de manière à ce que l'utilisateur ait l'impression que tout se déroule en même temps. "
   ]
  },
  {
   "cell_type": "markdown",
   "metadata": {
    "nbgrader": {
     "grade": false,
     "grade_id": "cell-24c0d07a4f61d3db",
     "locked": true,
     "schema_version": 3,
     "solution": false,
     "task": false
    }
   },
   "source": [
    "# Interprètes et compilateurs  \n",
    "\n",
    "Les ordinateurs ne *\"comprennent\"* pas les langages de programmation, il faut passer par un programme qui va convertir le code écrit par un humain en instructions que l'ordinateur comprend (à base de 0 et de 1).  \n",
    "\n",
    "Les interprètes et les compilateurs servent à faire ce travail de traduction, ils transforment donc les langages de programmation qui sont faits pour être compris et écrits par des humains, vers des instructions compréhensibles pour des ordinateurs.\n",
    "\n",
    "La façon dont les interprètes et les compilateurs opèrent est différente et les deux approches apportent leur propre lot de bénéfices et d'inconvénients:  \n",
    "\n",
    "<table style=\"width:90%;margin:auto;margin-top:30px;font-size:18px;text-align:left;\">\n",
    "    <tr>\n",
    "        <th>Les COMPILATEURS traduisent à l'avance</th>\n",
    "        <th>Les INTERPRÈTES traduisent au fur et à mesure</th>\n",
    "    </tr>\n",
    "    <tr>\n",
    "        <td>Programmes générés à l'avance (besoin d'anticiper tous les cas de figure)</td>\n",
    "        <td>Programmes générés au fur et à mesure</td>\n",
    "    </tr>\n",
    "    <tr>\n",
    "        <td>Le programme est intégralement traduit à l'avance</td>\n",
    "        <td>Les instructions sont traduites à la volée une par une</td>\n",
    "    </tr>\n",
    "    <tr>\n",
    "        <td>Le compilateur trouve les erreurs à la compilation</td>\n",
    "        <td>L'interprète relève les erreurs pendant l'exécution du programme</td>\n",
    "    </tr>\n",
    "    <tr>\n",
    "        <td>Plus rapide</td>\n",
    "        <td>Plus lent</td>\n",
    "    </tr>\n",
    "    <tr>\n",
    "        <td>Code machine généré et optimisé à l'avance</td>\n",
    "        <td>Code machine généré à la volée et optimisé à chaque exécution</td>\n",
    "    </tr>\n",
    "    <tr>\n",
    "        <td>Ex: C, C++, Java, Scala, Rust, etc.</td>\n",
    "        <td>Ex: Bash, Python, Javascript, etc.</td>\n",
    "    </tr>\n",
    "</table>"
   ]
  },
  {
   "cell_type": "markdown",
   "metadata": {
    "nbgrader": {
     "grade": false,
     "grade_id": "cell-fa93df0ca3e3bd5e",
     "locked": true,
     "schema_version": 3,
     "solution": false,
     "task": false
    }
   },
   "source": [
    "# Librairies\n",
    "\n",
    "Une librairie est un ensemble de fonctions qui ont pour but d'être utilisées par d'autres programmes, mais une librairie seule ne suffit pas pour faire un programme. Par exemple, que ce soit `Google Chrome`, `Word`, ou `Instagram`, presque tous les programmes ont besoin d'utiliser des listes d'objets. Au lieu de réécrire l'ensemble des fonctions qui permettent de créer des listes et d'interragir avec, ces différents programmes utilisent tous une librairie écrite par un tiers. \n",
    "\n",
    "*Par exemple, Google Chrome utilise la librairie `std::vector` qui sert à faire des listes plus de 20'000 fois:* [Voir le code de Google Chrome](https://github.com/chromium/chromium/search?l=C%2B%2B&q=std%3A%3Avector)\n",
    "\n",
    "En `Python`, de nombreuses librairies sont disponibles d'emblée (`list`, `set`, `dict`, `str`, etc.) et de nombreuses autres peuvent être utilisées en utilisant la mot-clef `import`.\n",
    "\n",
    "Dans l'exemple suivant, nous importons la librairie `math` qui propose de nombreuses fonctions mathématiques et nous essayons la fonction factorielle pour calculer `5!` ."
   ]
  },
  {
   "cell_type": "code",
   "execution_count": 1,
   "metadata": {},
   "outputs": [
    {
     "name": "stdout",
     "output_type": "stream",
     "text": [
      "120\n"
     ]
    }
   ],
   "source": [
    "import math\n",
    "\n",
    "fact = math.factorial(5)\n",
    "print(fact)"
   ]
  }
 ],
 "metadata": {
  "celltoolbar": "Create Assignment",
  "kernelspec": {
   "display_name": "Python 3",
   "language": "python",
   "name": "python3"
  },
  "language_info": {
   "codemirror_mode": {
    "name": "ipython",
    "version": 3
   },
   "file_extension": ".py",
   "mimetype": "text/x-python",
   "name": "python",
   "nbconvert_exporter": "python",
   "pygments_lexer": "ipython3",
   "version": "3.7.1"
  }
 },
 "nbformat": 4,
 "nbformat_minor": 2
}
