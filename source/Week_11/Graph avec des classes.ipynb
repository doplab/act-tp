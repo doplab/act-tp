{
 "cells": [
  {
   "cell_type": "markdown",
   "metadata": {},
   "source": [
    "# Créer des graphes avec des classes\n",
    "\n",
    "Les semaines précédentes, vous avez vu comment conceptualiser des graphes avec des dictionnaires et des listes. Cette fois nous allons travailler avec des classes pour représenter des graphes orientés."
   ]
  },
  {
   "cell_type": "markdown",
   "metadata": {},
   "source": [
    "## Exercice 1\n",
    "\n",
    "Pour conceptualiser notre graphes nous allons utliser deux classes diffenrentes, les sommets seront des chaines de caratères, indivuelement `vertex`;\n",
    "+ une classe `Edge` pour definir les arretes.\n",
    "Chaque instance aura comme attribut un sommet de départ `from_vertex`, un sommet d'arrivée `to_vertex` et un poids `weight`. La classe aura comme unique methode `__repr__`pour retourner l'objet sous la forme d'un dictionaire.\n",
    "+ une classe `Graph`pour definir un graphe.\n",
    "Chaque instance aura comme attribut un set `edges` contenant les arêtes (qui seront des objets) et un set `vertices` contenant les sommets. astuce: pour initialiser un set vide utilisez `set()`\n",
    "\n",
    "\n",
    "La classe `Graph` aura comme méthodes:\n",
    "+ `add_vertex` pour créer un sommet\n",
    "+ `edge_exist` pour vérifier si une arête existe, elle retourne `weight` si oui, `False` sinon. \n",
    "+ `update_weight` pour mettre le poids à jour d'une connexion existante, et appeler la méthode `new_edge` sinon.\n",
    "+ `new_edge` pour créer une instance de `Edge`et l'ajouter au set `edges` si la connexion n'existe pas déjà, si elle existe avec un autre poids mettre à jour le poids, si elle existe de façon identique alors retournez le dans la console avec `print(...)`. Astuce: Ici il peut être judicieux de créer une méthode privée `__generate_edge` et de l'appeler puisque avant de créer une connexion il faut s'assurer que les sommets existes et les créer sinon. \n",
    "+ `del_edge` pour supprimer un `edge`\n",
    "+ `__repr__` pour retourner l'objet sous forme de dictionnaire. \n",
    "\n",
    "\n",
    "NB: Dans cette structure il est possible de definir une classe pour sommets également pour avoir plus d'information sur chaque sommet"
   ]
  },
  {
   "cell_type": "code",
   "execution_count": null,
   "metadata": {},
   "outputs": [],
   "source": [
    "\n",
    "class Edge:\n",
    "    def __init__(self, from_vertex, to_vertex, weight):\n",
    "        # votre code ici\n",
    "\n",
    "    def __repr__(self):\n",
    "        # votre code ici\n",
    "\n",
    "    \n",
    "class Graph:\n",
    "    def __init__(self):\n",
    "        # votre code ici\n",
    "\n",
    "    def add_vertex(self, name):\n",
    "        # votre code ici\n",
    "\n",
    "    def edge_exist(self, from_vertex, to_vertex):\n",
    "        # votre code ici\n",
    "\n",
    "    def update_weight(self, from_vertex, to_vertex, new_weight):\n",
    "        # votre code ici\n",
    "\n",
    "    def new_edge(self, from_vertex, to_vertex, weight):\n",
    "        # votre code ici\n",
    "        \n",
    "    def __generate_edge(self, from_vertex, to_vertex, weight):\n",
    "        # votre code ici\n",
    "        \n",
    "    def del_edge(self, from_vertex, to_vertex):\n",
    "        # votre code ici\n",
    "\n",
    "    def __repr__(self):\n",
    "        # votre code ici\n"
   ]
  },
  {
   "cell_type": "code",
   "execution_count": null,
   "metadata": {},
   "outputs": [],
   "source": [
    "graph = Graph()                                                \n",
    "graph.add_vertex(\"Lausanne\")                                   \n",
    "graph.add_vertex(\"Geneve\")                                     \n",
    "graph.new_edge(\"Geneve\", \"Lausanne\", 35)                       \n",
    "graph.new_edge(\"Lausanne\", \"Berne\", 100)                       \n",
    "graph.new_edge(\"Lausanne\", \"Berne\", 110)                       \n",
    "graph.update_weight(\"Geneve\", \"Berne\", 120)                    \n",
    "print(graph.vertices, graph.edges)                             \n",
    "graph.del_edge(\"Geneve\", \"Berne\")                              \n",
    "                                                               \n",
    "print(graph.vertices, graph.edges)                             \n",
    "print(graph)                                                   \n",
    "                                                               "
   ]
  }
 ],
 "metadata": {
  "kernelspec": {
   "display_name": "Python 3",
   "language": "python",
   "name": "python3"
  },
  "language_info": {
   "codemirror_mode": {
    "name": "ipython",
    "version": 3
   },
   "file_extension": ".py",
   "mimetype": "text/x-python",
   "name": "python",
   "nbconvert_exporter": "python",
   "pygments_lexer": "ipython3",
   "version": "3.7.3"
  }
 },
 "nbformat": 4,
 "nbformat_minor": 2
}
