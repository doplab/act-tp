{
  "cells": [
    {
      "cell_type": "markdown",
      "source": [
        "# Exercise 1\n",
        "\n",
        "#### Partie A \n",
        "\n",
        "Définissez une nouvelle classe en utilisant les informations données ci-dessous. \n",
        "\n",
        "Classe: \n",
        "- Dog\n",
        "\n",
        "Attributs: \n",
        "- name   \n",
        "- tricks\n",
        "\n",
        "Méthodes: \n",
        "- add_trick \n",
        "- bark\n",
        "\n",
        "Instances: \n",
        "- Lola\n",
        "- Boby\n",
        "\n",
        "States: \n",
        "- (name: Lola, tricks: 'rollover', 'playdead')\n",
        "- (name: Boby, tricks: [])\n"
      ],
      "metadata": {}
    },
    {
      "cell_type": "code",
      "source": [
        "# Partie A\n",
        "# Votre code ici de a à z\n"
      ],
      "outputs": [],
      "execution_count": 1,
      "metadata": {
        "collapsed": false,
        "inputHidden": false,
        "outputHidden": false
      }
    },
    {
      "cell_type": "markdown",
      "source": [
        "#### Partie B\n",
        "\n",
        "Modifiez votre code afin que la `race` et l' `age` du chien deviennent des attributs fixés lors de l'instanciation de la classe. Ajoutez également un attribut `mood` qui, lors de l'instanciation du chien, a une valeur de 5. Ainsi, vous devriez avoir les modifications ci-dessous.\n",
        "\n",
        "Attributs: \n",
        "- name (string)  \n",
        "- race (string)\n",
        "- age (integer)\n",
        "- mood (integer)\n",
        "- tricks (list)\n"
      ],
      "metadata": {}
    },
    {
      "cell_type": "code",
      "source": [
        "# Partie B\n",
        "# Pensez à faire un copier-coller de votre partie précédente\n",
        "# Votre code ici\n"
      ],
      "outputs": [],
      "execution_count": 35,
      "metadata": {
        "collapsed": false,
        "inputHidden": false,
        "outputHidden": false
      }
    },
    {
      "cell_type": "markdown",
      "source": [
        "#### Partie C\n",
        "\n",
        "Créez une méthode `eat` qui incrémente l'humeur de 3 et une méthode `leash` qui diminue l'humeur de 1. L'humeur du chien doit être un entier entre 0 (grincheux) et 10 (heureux).\n",
        "\n",
        "Définissez également une méthode d'instance `description` qui renvoie le nom et l'âge du chien.\n",
        "\n",
        "Ex: Lola is 3 yo. "
      ],
      "metadata": {}
    },
    {
      "cell_type": "code",
      "source": [
        "# Partie C\n",
        "# Pensez à faire un copier-coller de votre partie précédente\n",
        "# Votre code ici\n"
      ],
      "outputs": [],
      "execution_count": 36,
      "metadata": {
        "collapsed": false,
        "inputHidden": false,
        "outputHidden": false
      }
    },
    {
      "cell_type": "markdown",
      "source": [
        "#### Partie D\n",
        "\n",
        "Créez un nouvel objet de la classe `Dog` appelé Tobi et stocké dans une variable `tobi` en définissant les valeurs des attributs `race` et `age`. Puis, utilisez la fonction `leash` et vérifiez son `mood`. "
      ],
      "metadata": {}
    },
    {
      "cell_type": "code",
      "source": [
        "\n",
        "# Votre code ici\n"
      ],
      "outputs": [],
      "execution_count": 2,
      "metadata": {
        "collapsed": false,
        "inputHidden": false,
        "outputHidden": false
      }
    },
    {
      "cell_type": "markdown",
      "source": [
        "Faites aboyer `tobi` avec `bark`."
      ],
      "metadata": {}
    },
    {
      "cell_type": "code",
      "source": [
        "\n",
        "# Votre code ici\n"
      ],
      "outputs": [],
      "execution_count": 3,
      "metadata": {
        "collapsed": false,
        "inputHidden": false,
        "outputHidden": false
      }
    },
    {
      "cell_type": "markdown",
      "source": [
        "Utilisez la méthode `description` pour `tobi`. "
      ],
      "metadata": {}
    },
    {
      "cell_type": "code",
      "source": [
        "# Votre code ici\n"
      ],
      "outputs": [],
      "execution_count": 4,
      "metadata": {
        "collapsed": false,
        "inputHidden": false,
        "outputHidden": false
      }
    },
    {
      "cell_type": "markdown",
      "source": [
        "Utilisez `.__dict__` pour voir tous les détails de `tobi`, `lola`, `boby`. "
      ],
      "metadata": {}
    },
    {
      "cell_type": "code",
      "source": [
        "\n",
        "# Votre code ici\n"
      ],
      "outputs": [],
      "execution_count": 5,
      "metadata": {
        "collapsed": false,
        "inputHidden": false,
        "outputHidden": false
      }
    },
    {
      "cell_type": "markdown",
      "source": [
        "Veuillez noter que ci-dessus les attributs `race` et `age` ne sont pas présents pour `lola` et `boby`."
      ],
      "metadata": {}
    },
    {
      "cell_type": "markdown",
      "source": [
        "#### Partie E\n",
        "\n",
        "En utilisant la classe `Dog`, instanciez trois nouveaux chiens, chacun avec un âge différent.\n"
      ],
      "metadata": {}
    },
    {
      "cell_type": "code",
      "source": [
        "# Votre code ici\n"
      ],
      "outputs": [],
      "execution_count": 41,
      "metadata": {
        "collapsed": false,
        "inputHidden": false,
        "outputHidden": false
      }
    },
    {
      "cell_type": "markdown",
      "source": [
        "Ecrivez une fonction appelée `get_oldest_age()`, qui renvoie le plus grand âge en prenant un nombre quelconque d’âges (*args)."
      ],
      "metadata": {}
    },
    {
      "cell_type": "code",
      "source": [
        "# Votre code ici\n"
      ],
      "outputs": [],
      "execution_count": 44,
      "metadata": {
        "collapsed": false,
        "inputHidden": false,
        "outputHidden": false
      }
    },
    {
      "cell_type": "markdown",
      "source": [
        "Utilisez vos trois instances de chiens précédemment créées pour indiquer l’âge du chien le plus âgé comme suit: The oldest dog is 8 yo."
      ],
      "metadata": {}
    },
    {
      "cell_type": "code",
      "source": [
        "# Votre code ici\n"
      ],
      "outputs": [],
      "execution_count": 6,
      "metadata": {
        "collapsed": false,
        "inputHidden": false,
        "outputHidden": false
      }
    }
  ],
  "metadata": {
    "kernel_info": {
      "name": "python3"
    },
    "language_info": {
      "name": "python",
      "version": "3.7.3",
      "mimetype": "text/x-python",
      "codemirror_mode": {
        "name": "ipython",
        "version": 3
      },
      "pygments_lexer": "ipython3",
      "nbconvert_exporter": "python",
      "file_extension": ".py"
    },
    "kernelspec": {
      "name": "python3",
      "language": "python",
      "display_name": "Python 3"
    },
    "nteract": {
      "version": "0.15.0"
    }
  },
  "nbformat": 4,
  "nbformat_minor": 0
}