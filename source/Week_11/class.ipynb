{
 "cells": [
  {
   "cell_type": "markdown",
   "metadata": {
    "nbgrader": {
     "grade": false,
     "grade_id": "cell-bc1813d4debae229",
     "locked": true,
     "schema_version": 3,
     "solution": false,
     "task": false
    }
   },
   "source": [
    "# Exercice:\n",
    "\n",
    "Soit la fonction `factory` dans la case suivante qui retourne un dictionnaire en fonction des arguments que vous lui donnez. Créez une classe avec exactement les mêmes attributs et reproduisez les fonctionnalités de `factory` dans le constructeur."
   ]
  },
  {
   "cell_type": "code",
   "execution_count": 6,
   "metadata": {},
   "outputs": [
    {
     "name": "stdout",
     "output_type": "stream",
     "text": [
      "73\n"
     ]
    }
   ],
   "source": [
    "def factory(nom, age, taille):\n",
    "    _dict = {\n",
    "        \"nom\": nom,\n",
    "        \"age\": age,\n",
    "        \"taille\": taille,\n",
    "        \"print_age\": lambda: print(_dict[\"age\"])\n",
    "    }\n",
    "    return _dict\n",
    "    \n",
    "x = factory(\"Henry\", 73, 190)\n",
    "\n",
    "x[\"print_age\"]() # Vraiment pas pratique"
   ]
  },
  {
   "cell_type": "code",
   "execution_count": null,
   "metadata": {},
   "outputs": [],
   "source": [
    "# VOTRE REPONSE ICI"
   ]
  },
  {
   "cell_type": "markdown",
   "metadata": {},
   "source": [
    "# Exercice:\n",
    "\n"
   ]
  }
 ],
 "metadata": {
  "celltoolbar": "Create Assignment",
  "kernelspec": {
   "display_name": "Python 3",
   "language": "python",
   "name": "python3"
  },
  "language_info": {
   "codemirror_mode": {
    "name": "ipython",
    "version": 3
   },
   "file_extension": ".py",
   "mimetype": "text/x-python",
   "name": "python",
   "nbconvert_exporter": "python",
   "pygments_lexer": "ipython3",
   "version": "3.7.3"
  }
 },
 "nbformat": 4,
 "nbformat_minor": 2
}
