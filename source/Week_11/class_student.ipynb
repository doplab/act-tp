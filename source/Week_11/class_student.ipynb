{
  "cells": [
    {
      "cell_type": "markdown",
      "source": [
        "# Exercise 2\n",
        "\n",
        "Construisez une classe `Student` qui gère les informations suivantes pour un étudiant: `name`, `year` et `grades`.\n",
        "\n",
        "- Définissez un constructeur qui initie un nouveau `Student` avec `name` et `year`.\n",
        "\n",
        "- Écrivez deux méthodes disctinctes (`get_name`, `get_year`) pour obtenir le `name` et la `year`  d'un `Student`.\n",
        "\n",
        "- Écrivez une méthode `add_grade` pour ajouter une nouvelle note.\n",
        "\n",
        "- Implémentez une méthode `final_grade` qui retourne la note moyenne.\n",
        "\n",
        "- Ajoutez une méthode `evaluate_year` qui fait passer l'étudiant (c’est-à-dire que l'étudiant passe à l’année suivante et commence avec de nouvelles notes) si la note moyenne est supérieure à 4.\n",
        "\n",
        "- Ajoutez une méthode `__str__`qui retourne le `name`, la `year` et la `final_grade` si possible. \n",
        "\n"
      ],
      "metadata": {}
    },
    {
      "cell_type": "code",
      "source": [
        "# Votre code ici\n"
      ],
      "outputs": [],
      "execution_count": 1,
      "metadata": {
        "collapsed": false,
        "outputHidden": false,
        "inputHidden": false
      }
    },
    {
      "cell_type": "markdown",
      "source": [
        "Tester votre code en faisant les étapes suivantes: \n",
        "\n",
        "- Créez 3 nouvelles instances de la classe `Student`. \n",
        "\n",
        "- Utilisez `add_grade` sur chacune d'entre-elles au moins 2 fois.\n",
        "\n",
        "- Utilisez `evaluate_year` sur chacune d'entre-elles.\n",
        "\n",
        "- Utilisez `__str__` sur chacune d'entre-elles.\n",
        "\n",
        "- Utilisez `__dict__` sur chacune d'entre-elles."
      ],
      "metadata": {}
    },
    {
      "cell_type": "code",
      "source": [
        "# Instanciation\n",
        "# Votre code ici\n"
      ],
      "outputs": [],
      "execution_count": 16,
      "metadata": {
        "collapsed": false,
        "outputHidden": false,
        "inputHidden": false
      }
    },
    {
      "cell_type": "code",
      "source": [
        "# add_grade\n",
        "# Votre code ici\n"
      ],
      "outputs": [],
      "execution_count": 17,
      "metadata": {
        "collapsed": false,
        "outputHidden": false,
        "inputHidden": false
      }
    },
    {
      "cell_type": "code",
      "source": [
        "# evaluate_year\n",
        "# Votre code ici\n"
      ],
      "outputs": [],
      "execution_count": 18,
      "metadata": {
        "collapsed": false,
        "outputHidden": false,
        "inputHidden": false
      }
    },
    {
      "cell_type": "code",
      "source": [
        "# __str__\n",
        "# Votre code ici\n"
      ],
      "outputs": [],
      "execution_count": 2,
      "metadata": {
        "collapsed": false,
        "outputHidden": false,
        "inputHidden": false
      }
    },
    {
      "cell_type": "code",
      "source": [
        "# __dict__\n",
        "# Votre code ici\n",
        "\n",
        "\n"
      ],
      "outputs": [],
      "execution_count": 3,
      "metadata": {
        "collapsed": false,
        "outputHidden": false,
        "inputHidden": false
      }
    }
  ],
  "metadata": {
    "kernel_info": {
      "name": "python3"
    },
    "language_info": {
      "name": "python",
      "version": "3.7.3",
      "mimetype": "text/x-python",
      "codemirror_mode": {
        "name": "ipython",
        "version": 3
      },
      "pygments_lexer": "ipython3",
      "nbconvert_exporter": "python",
      "file_extension": ".py"
    },
    "kernelspec": {
      "name": "python3",
      "language": "python",
      "display_name": "Python 3"
    },
    "nteract": {
      "version": "0.15.0"
    }
  },
  "nbformat": 4,
  "nbformat_minor": 0
}