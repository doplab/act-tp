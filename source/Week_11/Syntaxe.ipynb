{
 "cells": [
  {
   "cell_type": "markdown",
   "metadata": {
    "nbgrader": {
     "grade": false,
     "grade_id": "cell-9ca68b742fbaf287",
     "locked": true,
     "schema_version": 3,
     "solution": false,
     "task": false
    }
   },
   "source": [
    "# Classes\n",
    "\n",
    "## Introduction\n",
    "\n",
    "Vous avez déjà travaillé avec des classes sans vous en rendre compte. Par exemple, les `listes`, `dictionnaires`, etc sont des classes. Une classe est en fait un moyen d'`encapsuler` de la donnée dans des `objets`. Le but des classes est de définir un ensemble d'attributs et de comportements que vous pouvez réutiliser à de nombreux endroits dans votre programme.\n",
    "\n",
    "### Encapsulation\n",
    "\n",
    "Admettons que vous ayez une base de donnée contenant les notes de tous vos camarades ainsi que leur prénom. Il est très important que la donnée des notes soit cohérente. Par exemple, vous n'aimeriez pas inverser vos notes avec votre ami Mathieu qui ne vient jamais en cours et qui ne passe pas l'année.\n",
    "\n",
    "D'où l'intérêt de l'encapsulation. C'est un principe qui dit que la donnée doit être ségréguée et appartenir uniquement aux unités logiques qui en ont besoin.\n",
    "\n",
    "### Réusabilité\n",
    "\n",
    "Lorsque vous utilisez la méthode `append` de la classe `list`, vous n'avez pas besoin de réécrire la fonction à chaque fois. En effet, lorsqu'une classe est définie, tous ses membres ont accès à toutes ses méthodes.\n",
    "\n",
    "## Créer une classe\n",
    "\n",
    "Pour créer une classe, utilisez le mot-clef `class` suivi du nom que vous voulez lui donner:\n",
    "\n",
    "    class Eleve:\n",
    "        pass\n",
    "      \n",
    "        \n",
    "## Membres\n",
    "\n",
    "Il y a deux façons de déclarer les membres d'une classe en python. Soit en les écrivant directement dans le corps de la classe, soit dans le **constructeur**. Nous reviendrons sur le constructeur plus tard.  \n",
    "\n",
    "Dans le corps de la classe: \n",
    "\n",
    "    class Eleve:\n",
    "        nom = \"\"\n",
    "        age = None\n",
    "        notes = {}\n",
    "        \n",
    "## Instancier\n",
    "\n",
    "Pour instancier la classe `Eleve`, il suffit de faire:  \n",
    "\n",
    "    jean = Eleve()\n",
    "    \n",
    "Vous avez ensuite un objet de type `Eleve` dans la variable `jean`. Vous pouvez donc faire:  \n",
    "\n",
    "    jean.nom = \"Jean\"\n",
    "    jean.age = 18\n",
    "    jean.notes = {\n",
    "            \"physique\": 5,\n",
    "            \"maths\": 5.5,\n",
    "            \"algo\": 6\n",
    "        }\n",
    "\n",
    "\n",
    "### Méthodes\n",
    "\n",
    "Les classes peuvent avoir des fonctions partagées par toutes les instances, ces fonctions sont appelées `méthodes`. Ont définit une `méthode` dans le corps d'une classe, de la même façon qu'on définit une fonction, à la seule différence que le premier argument de la `méthode` s'appellera `self` et qu'il sera utilisé pour accéder aux `membres`/`méthodes` de la classe.\n",
    "\n",
    "Pour reprendre la classe `Eleve`:\n",
    "\n",
    "    class Eleve:\n",
    "        nom = \"\"\n",
    "        age = None\n",
    "        notes = {}\n",
    "\n",
    "        def promu(self):\n",
    "            return sum(self.notes.values())/len(self.notes.values()) >= 4\n",
    "\n",
    "        def presentation(self):\n",
    "            passe = \"passe\" if self.promu() else \"ne passe pas\"\n",
    "            print(\"Bonjour, je m'appelle %s, j'ai %d ans et je %s l'année\" % (self.nom, self.age, passe))\n",
    "\n",
    "    jean = Eleve()\n",
    "\n",
    "    jean.nom = \"Jean\"\n",
    "    jean.age = 18\n",
    "    jean.age = 18\n",
    "    jean.notes = {\n",
    "            \"physique\": 5,\n",
    "            \"maths\": 5.5,\n",
    "            \"algo\": 6\n",
    "    }\n",
    "\n",
    "    jean.presentation()\n",
    "    \n",
    "    # OUTPUT: Bonjour, je m'appelle Jean, j'ai 18 ans et je passe l'année\n",
    "\n",
    "L'intérêt des classes, c'est que je peux très rapidement créer une nouvelle instance de la classe `Eleve` et je sais qu'elle fonctionnera de la même façon.\n",
    "\n",
    "    mathieu = Eleve()\n",
    "    mathieu.nom = \"Mathieu\"\n",
    "    mathieu.age = 22\n",
    "    mathieu.notes = {\n",
    "        \"algo\": 2,\n",
    "        \"chinois\": 2,\n",
    "        \"théologie appliquée\": 5\n",
    "    }\n",
    "    \n",
    "    mathieu.presentation()\n",
    "    # OUTPUT: Bonjour, je m'appelle Mathieu, j'ai 22 ans et je ne passe pas l'année\n",
    "\n",
    "### Constructeur\n",
    "\n",
    "Vous pouvez ajouter une fonction `__init__(self)` à votre classe. Cette fonction sera appelée à chaque fois que vous créerez une nouvelle instance de cette classe. *Veuillez noter que la fonction `__init__` est optionelle et que vous ne devriez la déclarer que si vous en avez besoin.*\n",
    "\n",
    "C'est très pratique pour pouvoir définir des `membres` à la création de l'objet. Comme ceci:  \n",
    "\n",
    "    class Eleve:\n",
    "        def __init__(self, nom, age, notes):\n",
    "            self.nom = nom\n",
    "            self.age = age\n",
    "            self.notes = notes\n",
    "            \n",
    "        def promu(self):\n",
    "            return sum(self.notes.values())/len(self.notes.values()) >= 4\n",
    "\n",
    "        def presentation(self):\n",
    "            passe = \"passe\" if self.promu() else \"ne passe pas\"\n",
    "            print(\"Bonjour, je m'appelle %s, j'ai %d ans et je %s l'année\" % (self.nom, self.age, passe))\n",
    "            \n",
    "            \n",
    "      jean = Eleve(\"Jean\", 18, {\"physique\": 5, \"maths\": 5.5, \"algo\": 6})\n",
    "      jean.presentation()"
   ]
  },
  {
   "cell_type": "code",
   "execution_count": 2,
   "metadata": {},
   "outputs": [
    {
     "name": "stdout",
     "output_type": "stream",
     "text": [
      "Jean\n"
     ]
    }
   ],
   "source": [
    "class Eleve:\n",
    "    nom = \"\"\n",
    "    age = None\n",
    "    notes = {}\n",
    "    \n",
    "jean = Eleve()\n",
    "\n",
    "jean.nom = \"Jean\"\n",
    "jean.age = 18\n",
    "jean.notes = {\n",
    "        \"physique\": 5,\n",
    "        \"maths\": 5.5,\n",
    "        \"algo\": 6\n",
    "    }\n",
    "\n",
    "print(jean.nom)"
   ]
  },
  {
   "cell_type": "code",
   "execution_count": 9,
   "metadata": {},
   "outputs": [
    {
     "name": "stdout",
     "output_type": "stream",
     "text": [
      "Bonjour, je m'appelle Jean, j'ai 18 ans et je passe l'année\n",
      "Bonjour, je m'appelle Mathieu, j'ai 22 ans et je ne passe pas l'année\n"
     ]
    }
   ],
   "source": [
    "class Eleve:\n",
    "    nom = \"\"\n",
    "    age = None\n",
    "    notes = {}\n",
    "    \n",
    "    def promu(self):\n",
    "        return sum(self.notes.values())/len(self.notes.values()) >= 4\n",
    "\n",
    "    def presentation(self):\n",
    "        passe = \"passe\" if self.promu() else \"ne passe pas\"\n",
    "        print(\"Bonjour, je m'appelle %s, j'ai %d ans et je %s l'année\" % (self.nom, self.age, passe))\n",
    "\n",
    "jean = Eleve()\n",
    "              \n",
    "jean.nom = \"Jean\"\n",
    "jean.age = 18\n",
    "jean.notes = {\n",
    "    \"physique\": 5,\n",
    "    \"maths\": 5.5,\n",
    "    \"algo\": 6\n",
    "}\n",
    "\n",
    "jean.presentation()\n",
    "\n",
    "mathieu = Eleve()\n",
    "mathieu.nom = \"Mathieu\"\n",
    "mathieu.age = 22\n",
    "mathieu.notes = {\n",
    "    \"algo\": 2,\n",
    "    \"chinois\": 2,\n",
    "    \"théologie appliquée\": 5\n",
    "}\n",
    "\n",
    "mathieu.presentation()"
   ]
  },
  {
   "cell_type": "code",
   "execution_count": 10,
   "metadata": {},
   "outputs": [
    {
     "name": "stdout",
     "output_type": "stream",
     "text": [
      "Bonjour, je m'appelle Jean, j'ai 18 ans et je passe l'année\n"
     ]
    }
   ],
   "source": [
    "class Eleve:\n",
    "    def __init__(self, nom, age, notes):\n",
    "        self.nom = nom\n",
    "        self.age = age\n",
    "        self.notes = notes\n",
    "\n",
    "    def promu(self):\n",
    "        return sum(self.notes.values())/len(self.notes.values()) >= 4\n",
    "\n",
    "    def presentation(self):\n",
    "        passe = \"passe\" if self.promu() else \"ne passe pas\"\n",
    "        print(\"Bonjour, je m'appelle %s, j'ai %d ans et je %s l'année\" % (self.nom, self.age, passe))\n",
    "\n",
    "\n",
    "jean = Eleve(\"Jean\", 18, {\"physique\": 5, \"maths\": 5.5, \"algo\": 6})\n",
    "jean.presentation()"
   ]
  },
  {
   "cell_type": "markdown",
   "metadata": {
    "nbgrader": {
     "grade": false,
     "grade_id": "cell-bc1813d4debae229",
     "locked": true,
     "schema_version": 3,
     "solution": false,
     "task": false
    }
   },
   "source": [
    "# Exercice:\n",
    "\n",
    "Soit la fonction `factory` dans la case suivante qui retourne un dictionnaire en fonction des arguments que vous lui donnez. Créez une classe avec exactement les mêmes membres et les mêmes méthodes que `factory`."
   ]
  },
  {
   "cell_type": "code",
   "execution_count": 6,
   "metadata": {},
   "outputs": [
    {
     "name": "stdout",
     "output_type": "stream",
     "text": [
      "73\n"
     ]
    }
   ],
   "source": [
    "def factory(nom, age, taille):\n",
    "    _dict = {\n",
    "        \"nom\": nom,\n",
    "        \"age\": age,\n",
    "        \"taille\": taille,\n",
    "        \"print_age\": lambda: print(_dict[\"age\"])\n",
    "    }\n",
    "    return _dict\n",
    "    \n",
    "x = factory(\"Henry\", 73, 190)\n",
    "\n",
    "x[\"print_age\"]() # Vraiment pas pratique"
   ]
  },
  {
   "cell_type": "code",
   "execution_count": null,
   "metadata": {},
   "outputs": [],
   "source": [
    "# VOTRE REPONSE ICI"
   ]
  },
  {
   "cell_type": "markdown",
   "metadata": {},
   "source": [
    "# Exercice:\n",
    "\n",
    "Créez une classe `Point` qui possède `2` membres `x` et `y`. Implémentez une fonction distance qui calcule la distance entre deux points"
   ]
  },
  {
   "cell_type": "code",
   "execution_count": null,
   "metadata": {},
   "outputs": [],
   "source": [
    "# VOTRE REPONSE ICI"
   ]
  },
  {
   "cell_type": "markdown",
   "metadata": {},
   "source": [
    "## Surcharger les opérateurs\n",
    "\n",
    "La toute première fonction dont vous vous êtes servis sans vous en rendre compte est l'opérateur `+`. En fait, tous les opérateurs en Python sont des fonctions.\n",
    "\n",
    "Par exemple, au lieu d'écrire\n",
    "\n",
    "    a = 1 + 2\n",
    "    \n",
    "On pourrait très bien écrire\n",
    "\n",
    "    a = int.__add__(1, 2)\n",
    "\n",
    "Ce ne serait pas très joli et on perdrait en lisibilité.\n",
    "\n",
    "Vous avez donc la possibilité de modifier les opérateurs de vos classes avec vos propres fonctions.\n",
    "\n",
    "Par exemple, je peux créer une classe vecteur de taille `n` et surcharger l'opérateur `+` de façon à ce qu'il me retourne un nouveau vecteur dont la valeur de chaque élément à l'indexe est la somme de mes deux premiers vecteurs à l'indexe `i`. Pour ce faire, je dois déclarer une fonction `__add__(self, other)`. Je peux aussi surcharger l'opérateur `*` et calculer le produit matriciel de Hadamard avec la méthode `__mul__(self, other)`. Quand j'utiliserai l'opérateur `+` ou `*`, python appellera ma fonction `__add__` ou `__mul__` avec l'objet de gauche comme `self` et l'objet de droite comme `other`.\n",
    "\n",
    "On peut également surcharger la méthode `__str__(self)` qui retourne une `string` et est utilisée par la fonction `print`."
   ]
  },
  {
   "cell_type": "code",
   "execution_count": 18,
   "metadata": {
    "nbgrader": {
     "grade": false,
     "grade_id": "cell-383187e060d9ab05",
     "locked": true,
     "schema_version": 3,
     "solution": false,
     "task": false
    }
   },
   "outputs": [
    {
     "name": "stdout",
     "output_type": "stream",
     "text": [
      "3\n",
      "3\n"
     ]
    }
   ],
   "source": [
    "print(1 + 2)\n",
    "print(int.__add__(1, 2))"
   ]
  },
  {
   "cell_type": "code",
   "execution_count": 17,
   "metadata": {},
   "outputs": [
    {
     "name": "stdout",
     "output_type": "stream",
     "text": [
      "+: (11, 13, 15)\n",
      "* (10, 22, 36)\n"
     ]
    }
   ],
   "source": [
    "class Vecteur:\n",
    "    def __init__(self, *args):\n",
    "        self._value = args\n",
    "        \n",
    "    def __add__(self, other):\n",
    "        if len(self._value) != len(other._value):\n",
    "            raise ValueError(\"Les vecteurs n'ont pas la même taille.\")\n",
    "        return Vecteur(*[a+b for a, b in zip(self._value, other._value)])\n",
    "    \n",
    "    def __mul__(self, other):\n",
    "        if len(self._value) != len(other._value):\n",
    "            raise ValueError(\"Les vecteurs n'ont pas la même taille.\")\n",
    "        return Vecteur(*[a*b for a, b in zip(self._value, other._value)])\n",
    "    \n",
    "    def __str__(self):\n",
    "        return str(self._value)\n",
    "    \n",
    "premier = Vecteur(1, 2, 3)\n",
    "second = Vecteur(10, 11, 12)\n",
    "\n",
    "print(\"+:\", premier + second)\n",
    "print(\"*:\", premier * second)"
   ]
  },
  {
   "cell_type": "markdown",
   "metadata": {},
   "source": [
    "# Exercice \n",
    "\n",
    "Créez une classe `Complex` qui définit les nombres complexes, avec deux membres (la partie réelle et la partie imaginaire.) Surchargez les opérateurs `+`, `-`, `*` et `str`."
   ]
  },
  {
   "cell_type": "code",
   "execution_count": null,
   "metadata": {},
   "outputs": [],
   "source": [
    "# VOTRE REPONSE ICI"
   ]
  }
 ],
 "metadata": {
  "celltoolbar": "Create Assignment",
  "kernelspec": {
   "display_name": "Python 3",
   "language": "python",
   "name": "python3"
  },
  "language_info": {
   "codemirror_mode": {
    "name": "ipython",
    "version": 3
   },
   "file_extension": ".py",
   "mimetype": "text/x-python",
   "name": "python",
   "nbconvert_exporter": "python",
   "pygments_lexer": "ipython3",
   "version": "3.7.3"
  }
 },
 "nbformat": 4,
 "nbformat_minor": 2
}
