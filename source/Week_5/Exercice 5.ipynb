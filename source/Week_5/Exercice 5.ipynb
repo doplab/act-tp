{
 "cells": [
  {
   "cell_type": "markdown",
   "metadata": {},
   "source": [
    "## Exercise 1: Fibonacci"
   ]
  },
  {
   "cell_type": "markdown",
   "metadata": {},
   "source": [
    "Voici le code python de l'algorithm de fibonacci vu en cours. Il calcule le n<sup>ème</sup> nombre de fibonnacci.\n",
    "\n",
    "1) Calculer la complexité de cette algorithm, c'est à dire trouver la borne temporel maximal de l'exécution de cette algorithm avec la notation O( ) ."
   ]
  },
  {
   "cell_type": "code",
   "execution_count": 16,
   "metadata": {},
   "outputs": [],
   "source": [
    "def fibonacci(n):\n",
    "    if n == 0 or n == 1:\n",
    "        return n\n",
    "    else:\n",
    "        return fibonacci(n-1) + fibonacci(n-2)\n",
    "    "
   ]
  },
  {
   "cell_type": "markdown",
   "metadata": {},
   "source": [
    "2) Essayez de calculer le 10<sup>ème</sup> puis le 40<sup>ème</sup> (cette dernière peut prendre du temps). La commande %%time au début de la cellule permet d'obtenir le temps d'éxécution de la cellule."
   ]
  },
  {
   "cell_type": "code",
   "execution_count": null,
   "metadata": {},
   "outputs": [],
   "source": []
  },
  {
   "cell_type": "code",
   "execution_count": null,
   "metadata": {},
   "outputs": [],
   "source": []
  },
  {
   "cell_type": "markdown",
   "metadata": {},
   "source": [
    "3) Comme vous pouvez le voir le temps de calcule est très long lorsque n est grand. Maintenant il est temps d'optimiser l'algorithme vu en cours pour qu'il soit efficace. Celui que nous allons faire ne sera plus récursive mais sera tout simplment un algorithm itératif. Le problème de l'algorithme vu en cours et que dans les différents appels récursifs beaucoup de valeurs sont calculer plusieurs fois ce qui rend l'algorithme très **glouton**.\n",
    "\n",
    "Indice: pour écrire votre algorithme, il est conseillé d'utiliser des variables supplémentaires."
   ]
  },
  {
   "cell_type": "code",
   "execution_count": null,
   "metadata": {},
   "outputs": [],
   "source": []
  },
  {
   "cell_type": "markdown",
   "metadata": {},
   "source": [
    "4) Essayez de calculer le 10<sup>ème</sup> puis le 40<sup>ème</sup>. Comparer les résultats avec ceux btenus précédemment."
   ]
  },
  {
   "cell_type": "code",
   "execution_count": null,
   "metadata": {},
   "outputs": [],
   "source": []
  },
  {
   "cell_type": "code",
   "execution_count": null,
   "metadata": {},
   "outputs": [],
   "source": []
  },
  {
   "cell_type": "markdown",
   "metadata": {},
   "source": [
    "**Note: Ce que vous venez d'apprendre est le compromis temps-memoire très commun en programmation souvent il est possible d'utiliser de la mémoire supplémentaire pour réduire le temps de calcule !!! THIS IS AMAAAAAZZZZIINNNNG!!!**"
   ]
  }
 ],
 "metadata": {
  "kernelspec": {
   "display_name": "Python 3",
   "language": "python",
   "name": "python3"
  },
  "language_info": {
   "codemirror_mode": {
    "name": "ipython",
    "version": 3
   },
   "file_extension": ".py",
   "mimetype": "text/x-python",
   "name": "python",
   "nbconvert_exporter": "python",
   "pygments_lexer": "ipython3",
   "version": "3.7.3"
  }
 },
 "nbformat": 4,
 "nbformat_minor": 2
}
