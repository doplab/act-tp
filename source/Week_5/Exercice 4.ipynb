{
 "cells": [
  {
   "cell_type": "markdown",
   "metadata": {
    "nbgrader": {
     "grade": false,
     "grade_id": "cell-f81f4091c4b75f86",
     "locked": true,
     "schema_version": 3,
     "solution": false,
     "task": false
    }
   },
   "source": [
    "# ACT Week 5 \n",
    "\n",
    "## Exercise 4\n",
    "\n",
    "##  Problème 1 : Exprimer des dates\n",
    "\n",
    "Ecrivez un programme python pour aider le videur du XIIIème siècle à calculer l'age des étudiants voulant entrer dans le bar. Le programme doit contrôler si un étudiant peut rentrer ou pas (minimum 18 ans) selon sa date de naissance. Le programme doit faire la conversion requise pour que les inputs de l'utilisateur soient perçus comme des nombres entiers. Assumez que toutes les années ont 365 jours. Le programme doit affiché à la fin \"Old enough\" ou \"too young\". Les inputs suivant seraient demandés à l'utilisateurs:\n",
    "\n",
    "`Enter the student birthday:`\n",
    "`Year:`\n",
    "`Month:`\n",
    "`Day:`"
   ]
  },
  {
   "cell_type": "code",
   "execution_count": null,
   "metadata": {},
   "outputs": [],
   "source": [
    "from datetime import date #import datetime aussi possible\n",
    "#ajouter un print ici, puis complètez le code ci-dessous\n",
    "year =\n",
    "month =\n",
    "day =\n",
    "today = date.today() #par défaut sous format \"année-mois-jours\"\n",
    "birthday = date(year, month, day)\n",
    "age =\n",
    "if \n",
    "else:"
   ]
  },
  {
   "cell_type": "markdown",
   "metadata": {},
   "source": [
    "Veuillez porter attention à la manière dans le package `datetime` est importé pour pouvoir utiliser la méthode `today()` et `date`. Il est également intéressant de voir qu'on peut convertir `age` en jours pour résoudre le problème. "
   ]
  },
  {
   "cell_type": "markdown",
   "metadata": {
    "nbgrader": {
     "grade": false,
     "grade_id": "cell-24742672b8591cb7",
     "locked": true,
     "schema_version": 3,
     "solution": false,
     "task": false
    }
   },
   "source": [
    "## Problème 2 : Discriminant \n",
    "\n",
    "Ecrivez un programme python pour trouver les racines d'une équation de 2ème degré (aX^2 + bX + c) en utilisant le discriminant. \n",
    "\n",
    "Le discriminant (∆ = b^2 − 4ac) dérivé des coefficients determine le type de racines: \n",
    "- Si le discriminant est égal à 0, l'équation a une racine (x = -b/2a)\n",
    "- Si le discriminant est suppérieur à 0, l'équation a deux racines (x = (-b ± √∆)/2a)\n",
    "- Si le discriminant est inférieur à 0, l'équation n'a aucune racines.\n",
    "\n",
    "Pensez à importer le module `math` pour utiliser le `math.sqrt()`: \n",
    "\n",
    "> `from math import sqrt` est plus ou moins équivalant à `ìmport math` sauf que l'appel de la méthode se fait autrement. Dans le premier cas, vous devez appeler uniquement `sqrt()` alors que dans le deuxième cas vous devez toujours mentionner le module comme `math.sqrt()`.\n"
   ]
  },
  {
   "cell_type": "code",
   "execution_count": null,
   "metadata": {},
   "outputs": [],
   "source": [
    "#importer le module nécessaire ici, puis complètez le code ci-dessous\n",
    "a = float(input(\"Enter a: \"))\n",
    "b =\n",
    "c =\n",
    "discriminant = \n",
    "if\n",
    "\n",
    "elif\n",
    "\n",
    "else\n"
   ]
  },
  {
   "cell_type": "markdown",
   "metadata": {
    "nbgrader": {
     "grade": false,
     "grade_id": "cell-2869b71fe6895eac",
     "locked": true,
     "schema_version": 3,
     "solution": false,
     "task": false
    }
   },
   "source": [
    "## Problème 3 : Gestion stock\n",
    "\n",
    "Cet exercice, divisé en plusieurs parties, consiste à mettre en place un système qui permet à une petite boulangerie de gérer son stock.\n",
    "\n",
    "Nous avons déjà créé pour vous un système qui demande répétitivement un `sales keywords` au boulanger (afin que le boulanger puisse interagir avec les système). Ainsi, si le boulanger entre `exit`, le programme doit se terminer. Sinon, le programme doit demander un autre `sales keywords` (voir les lignes du code ci-dessous correspondantes).\n",
    "\n",
    "Nous avons également défini un dictionnaire nommé `stock` contenant le nombre de sandwichs disponibles selon leur type. \n",
    "\n",
    "#### Partie A\n",
    "\n",
    "Vous devez ajouter maintenant une fonctionnalité qui permet au boulanger de gérer son stock avec une boucle `while`. Ainsi, lorsque le boulanger entre un `sales keywords`, il y a trois cas de figure :\n",
    "\n",
    "1. Il entre le nom d’un sandwich (`saumon`, `salami` ou `fromage`) qui est en stock => le programme réduit le `stock` d’une unité\n",
    "2. Il entre le nom d’un sandwich mais il n’est plus en stock => le programme affiche « out-of-stock »\n",
    "3. Le `sales keywords` ne correspond pas au nom d’un sandwich => le programme affiche « invalid input »\n",
    "\n",
    "#### Partie B\n",
    "\n",
    "Ajoutez une fonctionnalité qui permet, lorsque le boulanger entre `stock`, d’afficher l’état du stock pour chaque sandwich.\n",
    "\n",
    "#### Partie C\n",
    "\n",
    "Ajoutez une fonctionnalité qui permet, lorsque le boulanger entre `analytics` d’afficher l’ordre dans lequel les sandwichs ont été vendus. Vous pouvez créer une liste vide `historySandwich` à laquelle chaque fois qu'un sandwich est vendu, le type du sandwich est ajouté.\n",
    "    "
   ]
  },
  {
   "cell_type": "code",
   "execution_count": null,
   "metadata": {},
   "outputs": [],
   "source": [
    "inputUser = ''\n",
    "while inputUser != 'exit':\n",
    "    inputUser = input(\"sales keywords: \")\n",
    "    \n",
    "stock = {\"salami\": 3, \"saumon\": 3, \"cheese\":3,}\n",
    "# complètez le code ici"
   ]
  },
  {
   "cell_type": "markdown",
   "metadata": {
    "nbgrader": {
     "grade": false,
     "grade_id": "cell-38b1337c84c369f2",
     "locked": true,
     "schema_version": 3,
     "solution": false,
     "task": false
    }
   },
   "source": [
    "## Problème 4 : Bubble sort\n",
    "\n",
    "Implémentez l’algorithme « Bubble sort » en vous aidant du descriptif ci-dessous: \n",
    "\n",
    "“Le principe de l'algorithme du tri à bulles est très simple à assimiler. Il est, et de loin, l'un des algorithmes de tri les plus simples qui soient.\n",
    "Pour vous expliquer le principe, je vais d'abord vous donner une courte explication écrite puis nous allons concrètement trier une liste de nombres.\n",
    "Le principe du tri à bulles est de comparer deux valeurs adjacentes et d'inverser leur position si elles sont mal placées. Alors, qu'entend-t-on par \"mal placé\" ? C'est très simple et surtout, c'est logique : si un premier nombre x est plus grand qu'un deuxième nombre y et que l'on souhaite trier l'ensemble par ordre croissant, alors x et y sont mal placés et il faut les inverser. Si, au contraire, x est plus petit que y, alors on ne fait rien et l'on compare y à z, l'élément suivant. C'est donc itératif. Et on parcourt ainsi la liste jusqu'à ce qu'on ait réalisé n-1 passages (n représentant le nombre de valeurs à trier) ou jusqu'à ce qu'il n'y ait plus rien à inverser lors du dernier passage.\n",
    "Avec de la logique, on s'aperçoit qu'au premier passage, on place le plus grand élément de la liste au bout du tableau, au bon emplacement. Pour le passage suivant, nous ne sommes donc plus obligés de faire une comparaison avec le dernière élément ; et c'est bien plus avantageux ainsi. Donc à chaque passage, le nombre de valeurs à comparer diminue de 1.”"
   ]
  },
  {
   "cell_type": "markdown",
   "metadata": {
    "nbgrader": {
     "grade": false,
     "grade_id": "cell-aaf3c6ce28f55e4d",
     "locked": true,
     "schema_version": 3,
     "solution": false,
     "task": false
    }
   },
   "source": [
    "source : https://openclassrooms.com/fr/courses/1160591-le-tri-a-bulles"
   ]
  },
  {
   "cell_type": "code",
   "execution_count": null,
   "metadata": {},
   "outputs": [],
   "source": [
    "liste = [1,7,4,-2,10,36,-6,97]\n",
    "count = 0\n",
    "while count != len(liste)-1: \n",
    "    count = 0\n",
    "    # complètez le code ici\n",
    "    \n",
    "print(liste)"
   ]
  },
  {
   "cell_type": "markdown",
   "metadata": {
    "nbgrader": {
     "grade": false,
     "grade_id": "cell-c626c07211512d93",
     "locked": true,
     "schema_version": 3,
     "solution": false,
     "task": false
    }
   },
   "source": [
    "## Problème 5 : Selection sort et recursion\n",
    "\n",
    "Implémentez l’algorithme de « selection sort » en vous aidant du descriptif ci-dessous :\n",
    "\n",
    "- Imaginez deux listes: La liste A contient des éléments entiers en désordre et la liste B est une liste vide\n",
    "- Scannez la liste A à la recherche du plus petit élément. Supprimez cet élément de la liste A et insérez le à la fin de la liste B.\n",
    "- Répétez l’étape ci-dessus jusqu’à ce que A soit vide."
   ]
  },
  {
   "cell_type": "code",
   "execution_count": null,
   "metadata": {},
   "outputs": [],
   "source": [
    "def select_sort(l,index):\n",
    "    min_liste = l[index]\n",
    "    # complèter la fonction ici\n",
    "    \n",
    "    \n",
    "l = [3,5,6,9,-35,-7, 47]\n",
    "select_sort(l,0)"
   ]
  },
  {
   "cell_type": "markdown",
   "metadata": {
    "nbgrader": {
     "grade": false,
     "grade_id": "cell-a771af8711e40983",
     "locked": true,
     "schema_version": 3,
     "solution": false,
     "task": false
    }
   },
   "source": [
    "## Problème 6 : Merge Sort\n",
    "\n",
    "(On l'appelle **Tri Fusion** en français)\n",
    "\n",
    "Implémentez l'algorithme de **merge sort**. Les pas de l'algorithme sont comme suit [1]:\n",
    "\n",
    "1. Si le tableau n'a qu'un élément, il est déjà trié.\n",
    "2. Sinon, séparer le tableau en deux parties à peu près égales.\n",
    "3. Trier récursivement les deux parties avec l'algorithme du tri fusion.\n",
    "4. Fusionner les deux tableaux triés en un seul tableau trié.\n",
    "\n",
    "[1] : https://fr.wikipedia.org/wiki/Tri_fusion"
   ]
  },
  {
   "cell_type": "code",
   "execution_count": null,
   "metadata": {},
   "outputs": [],
   "source": [
    "def merge_sort(la_liste):\n",
    "    # complèter la fonction\n",
    "    "
   ]
  },
  {
   "cell_type": "code",
   "execution_count": null,
   "metadata": {},
   "outputs": [],
   "source": [
    "print(merge_sort([38, 27, 43, 3, 9, 82, 10]))"
   ]
  }
 ],
 "metadata": {
  "celltoolbar": "Create Assignment",
  "kernelspec": {
   "display_name": "Python 3",
   "language": "python",
   "name": "python3"
  },
  "language_info": {
   "codemirror_mode": {
    "name": "ipython",
    "version": 3
   },
   "file_extension": ".py",
   "mimetype": "text/x-python",
   "name": "python",
   "nbconvert_exporter": "python",
   "pygments_lexer": "ipython3",
   "version": "3.7.3"
  }
 },
 "nbformat": 4,
 "nbformat_minor": 2
}
