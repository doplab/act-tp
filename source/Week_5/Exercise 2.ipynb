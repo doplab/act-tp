{
 "cells": [
  {
   "cell_type": "markdown",
   "metadata": {
    "nbgrader": {
     "grade": false,
     "grade_id": "cell-05dbcb84533c13bc",
     "locked": true,
     "schema_version": 3,
     "solution": false,
     "task": false
    }
   },
   "source": [
    "# ACT Week 5\n",
    "\n",
    "## Exercise 2\n",
    "\n",
    "### Partie A\n",
    "\n",
    "_Petits exercices sur les listes et dictionnaires_\n",
    "\n",
    "Afin de créer une liste `my_list` contenant 5 chiffres et afficher uniquement les 3 premiers chiffres de `my_list`, vous faites comme ci-dessous. Pour ajouter ou enlever des éléments à une liste, vous pouvez utiliser la méthode .append() ou .pop(). Un \"+=\" peut également être utilisé pour ajouter des éléments. Pour modifier les deux premiers éléments d'une liste, vous pouvez utiliser l'indexation comme ci-dessous. Pour vider une partie de la liste, il suffit de rien mettre entre les crochets. "
   ]
  },
  {
   "cell_type": "code",
   "execution_count": 3,
   "metadata": {
    "nbgrader": {
     "grade": false,
     "grade_id": "cell-d5d9f82b9b7f807e",
     "locked": true,
     "schema_version": 3,
     "solution": false,
     "task": false
    }
   },
   "outputs": [
    {
     "name": "stdout",
     "output_type": "stream",
     "text": [
      "[1, 3, 5]\n"
     ]
    }
   ],
   "source": [
    "my_list = [1,3,5,7,11]\n",
    "print(my_list[0:3])\n",
    "my_list.append(15)\n",
    "my_list.pop()\n",
    "my_list += [17,30]\n",
    "my_list[0:2] = [4]\n",
    "my_list[0:3] = []\n"
   ]
  },
  {
   "cell_type": "markdown",
   "metadata": {
    "nbgrader": {
     "grade": false,
     "grade_id": "cell-188964e9d86ade06",
     "locked": true,
     "schema_version": 3,
     "solution": false,
     "task": false
    }
   },
   "source": [
    "Après l'exécution du code ci-dessus, à quoi va ressembler `my_list`?"
   ]
  },
  {
   "cell_type": "code",
   "execution_count": 4,
   "metadata": {},
   "outputs": [
    {
     "name": "stdout",
     "output_type": "stream",
     "text": [
      "[11, 17, 30]\n"
     ]
    }
   ],
   "source": [
    "print(my_list)"
   ]
  },
  {
   "cell_type": "markdown",
   "metadata": {
    "nbgrader": {
     "grade": false,
     "grade_id": "cell-40cbd020eb9a20da",
     "locked": true,
     "schema_version": 3,
     "solution": false,
     "task": false
    }
   },
   "source": [
    "Ci-dessous, une liste `your_list` contenant 5 ingrédients de cuisine a été crée pour vous. "
   ]
  },
  {
   "cell_type": "code",
   "execution_count": null,
   "metadata": {
    "nbgrader": {
     "grade": false,
     "grade_id": "cell-b556724c3a2a0a0d",
     "locked": true,
     "schema_version": 3,
     "solution": false,
     "task": false
    }
   },
   "outputs": [],
   "source": [
    "your_list=[\"pain\",\"lait\",\"farine\",\"sucre\",\"oeufs\"]"
   ]
  },
  {
   "cell_type": "markdown",
   "metadata": {
    "nbgrader": {
     "grade": false,
     "grade_id": "cell-1b76eedb6020590c",
     "locked": true,
     "schema_version": 3,
     "solution": false,
     "task": false
    }
   },
   "source": [
    "Veuillez faire les étapes suivantes dans la cellule code ci-dessous:\n",
    "\n",
    "- Ajoutez 2 ingrédients de cuisine à `your_list` à l'aide du \"+=\". Les ingrédients sont \"poivrons\" et \"courgettes\". \n",
    "\n",
    "- Ajoutez 1 ingrédients de cuisine à `your_list` en utilisant la méthode append(). L'ingrédient est \"chocolat\". \n",
    "\n",
    "- Affichez l'ingrédient qui se trouve à la position 3 de la liste `your_list.\n",
    "\n",
    "- Supprimez le dernier élément de `your_list` en utilisant la fonction pop().\n",
    "\n",
    "- Remplacez les deux premiers éléments de `your_list` par \"fruits\".\n",
    "\n",
    "- Supprimez les deux premiers éléments de `your_list`.\n",
    "\n",
    "- Supprimez toute la liste `your_list`.\n",
    "\n",
    "- Vérifiez que la liste est vide grâce à la fonction len().\n"
   ]
  },
  {
   "cell_type": "code",
   "execution_count": null,
   "metadata": {},
   "outputs": [],
   "source": [
    "your_list=[\"pain\",\"lait\",\"farine\",\"sucre\",\"oeufs\"]"
   ]
  },
  {
   "cell_type": "markdown",
   "metadata": {
    "nbgrader": {
     "grade": false,
     "grade_id": "cell-7d5283a23a337e7f",
     "locked": true,
     "schema_version": 3,
     "solution": false,
     "task": false
    }
   },
   "source": [
    "Afin de créer un dictionnaire contenant 3 paires de clé-valeur, ajouter une quatrième paire clé-valeur et effacer une paire, vous pouvez faire comme ci-dessous. Afin d'affichez uniquement les clés ou valeurs, vous pouvez faire comme ci-dessous."
   ]
  },
  {
   "cell_type": "code",
   "execution_count": 5,
   "metadata": {
    "nbgrader": {
     "grade": false,
     "grade_id": "cell-4f6058a5ac73889c",
     "locked": true,
     "schema_version": 3,
     "solution": false,
     "task": false
    }
   },
   "outputs": [
    {
     "name": "stdout",
     "output_type": "stream",
     "text": [
      "dict_keys(['Shioban', 'Shawn', 'Steven'])\n",
      "dict_values([111, 333, 444])\n"
     ]
    }
   ],
   "source": [
    "annuaire = {\"Shioban\": 111, \"Tyson\": 222, \"Shawn\": 333 }\n",
    "annuaire[\"Steven\"] = 444\n",
    "del annuaire[\"Tyson\"]\n",
    "print(annuaire.keys())\n",
    "print(annuaire.values())"
   ]
  },
  {
   "cell_type": "markdown",
   "metadata": {
    "nbgrader": {
     "grade": false,
     "grade_id": "cell-5a43faa341c98b5d",
     "locked": true,
     "schema_version": 3,
     "solution": false,
     "task": false
    }
   },
   "source": [
    "Ci-dessous, un dictionnaire `mes_courses` ayant comme clés 5 ingrédients et comme valeurs les quantités respectives à acheter a été crée pour vous. "
   ]
  },
  {
   "cell_type": "code",
   "execution_count": null,
   "metadata": {
    "nbgrader": {
     "grade": false,
     "grade_id": "cell-f7e9cccdcb69905c",
     "locked": true,
     "schema_version": 3,
     "solution": false,
     "task": false
    }
   },
   "outputs": [],
   "source": [
    "mes_courses= {\"pain\":1,\"lait\":3,\"farine\":2,\"sucre\":1,\"oeufs\":6}"
   ]
  },
  {
   "cell_type": "markdown",
   "metadata": {
    "nbgrader": {
     "grade": false,
     "grade_id": "cell-67114e2e886c8d17",
     "locked": true,
     "schema_version": 3,
     "solution": false,
     "task": false
    }
   },
   "source": [
    "Veuillez faire les étapes suivantes dans la cellule code ci-dessous:\n",
    "\n",
    "- Ajoutez une nouvelle paire clé-valeur à `mes_courses`. La clé est \"chocolat\" alors que la valeur est 3. \n",
    "\n",
    "- Supprimez la première paire clé-valeur ayant comme clé \"pains\".\n",
    "\n",
    "- Affichez toutes les clés de `mes_courses`.\n",
    "\n",
    "- Affichez toutes les valeurs de `mes_courses`.\n",
    "\n",
    "- Vérifiez si l'ingrédient \"lait\" est dans `mes_courses` en une seule ligne avec la méthode print(). La réponse doit être True ou False.\n",
    "\n",
    "- Trouvez une façon de vérifier que l'ingrédient \"lait\" se trouve effectivement dans votre liste de clés.\n"
   ]
  },
  {
   "cell_type": "code",
   "execution_count": null,
   "metadata": {},
   "outputs": [],
   "source": [
    "mes_courses= {\"pain\":1,\"lait\":3,\"farine\":2,\"sucre\":1,\"oeufs\":6}"
   ]
  },
  {
   "cell_type": "markdown",
   "metadata": {
    "nbgrader": {
     "grade": false,
     "grade_id": "cell-eae63d6eb4e26bbd",
     "locked": true,
     "schema_version": 3,
     "solution": false,
     "task": false
    }
   },
   "source": [
    "### Partie B\n",
    "\n",
    "_Petits exercises sur les fonctions_\n",
    "\n",
    "Afin de définir une fonction, il faut utiliser le keyword `def` suivi du nom de la fonction et de ses paramètres entre paranthèses. Le keyword `return` est une instruction qui a pour but de renvoyer une information à la fin de l’exécution d'une fonction. L'appel d'une fonction peut se faire dans la déclaration d'une variable afin que le résultat soit stocker dans cette variable comme ci-dessous. "
   ]
  },
  {
   "cell_type": "code",
   "execution_count": null,
   "metadata": {
    "nbgrader": {
     "grade": false,
     "grade_id": "cell-decd990bacc2ec3b",
     "locked": true,
     "schema_version": 3,
     "solution": false,
     "task": false
    }
   },
   "outputs": [],
   "source": [
    "def multip(a,b):\n",
    "  return a*b\n",
    "result = multip(3,7)"
   ]
  },
  {
   "cell_type": "markdown",
   "metadata": {
    "nbgrader": {
     "grade": false,
     "grade_id": "cell-42076edf9da7b09c",
     "locked": true,
     "schema_version": 3,
     "solution": false,
     "task": false
    }
   },
   "source": [
    "Complètez la fonction ci-dessous afin qu'elle retourne le cube de l'argument _x_."
   ]
  },
  {
   "cell_type": "code",
   "execution_count": null,
   "metadata": {},
   "outputs": [],
   "source": [
    "def cube(x):\n",
    "    # complètez ici\n",
    "    \n",
    "cube(3)"
   ]
  },
  {
   "cell_type": "markdown",
   "metadata": {
    "nbgrader": {
     "grade": false,
     "grade_id": "cell-a880507a50e3de6d",
     "locked": true,
     "schema_version": 3,
     "solution": false,
     "task": false
    }
   },
   "source": [
    "Complètez la fonction ci-dessous afin qu'elle renvoie la somme du tuple _args_. "
   ]
  },
  {
   "cell_type": "code",
   "execution_count": null,
   "metadata": {},
   "outputs": [],
   "source": [
    "def somme(*args):\n",
    "    resultat = 0\n",
    "    # complètez ici\n",
    "    \n",
    "print(somme(23))\n",
    "print(somme(48,29,19))"
   ]
  },
  {
   "cell_type": "markdown",
   "metadata": {
    "nbgrader": {
     "grade": false,
     "grade_id": "cell-ecb271c3dd56093d",
     "locked": true,
     "schema_version": 3,
     "solution": false,
     "task": false
    }
   },
   "source": [
    "Une fonction `weirdo` qui prend _a_ comme argument a été crée pour vous. Complètez la fonction afin que:\n",
    "\n",
    "- si _a_ est impair, \"weirdo\" soit affiché. \n",
    "\n",
    "- si _a_ est pair et compris entre 10 et 20, \"weirdo\" soit affiché.\n",
    "\n",
    "- sinon, \"no weirdo\" doit être affiché. "
   ]
  },
  {
   "cell_type": "code",
   "execution_count": null,
   "metadata": {},
   "outputs": [],
   "source": [
    "X = int(input())\n",
    "def weirdo (a):\n",
    "    # complètez ici\n",
    "    \n",
    "weirdo(X)"
   ]
  },
  {
   "cell_type": "markdown",
   "metadata": {
    "nbgrader": {
     "grade": false,
     "grade_id": "cell-352144a8aca369df",
     "locked": true,
     "schema_version": 3,
     "solution": false,
     "task": false
    }
   },
   "source": [
    "Une fonction peut avoir aucun paramètre, un paramètre ou plusieurs paramètre. Il est également possible d'utiliser une variable comme argument pour appeler la fonction. Les prochains exercices illustrent ceci. \n",
    "\n",
    "Complètez la fonction ci-dessous afin qu'elle affiche les nombres de 0 à 10. "
   ]
  },
  {
   "cell_type": "code",
   "execution_count": null,
   "metadata": {},
   "outputs": [],
   "source": [
    "def counting():\n",
    "    i = 0\n",
    "    # complètez ici\n",
    "    \n",
    "counting()"
   ]
  },
  {
   "cell_type": "markdown",
   "metadata": {
    "nbgrader": {
     "grade": false,
     "grade_id": "cell-0f69b61e735f278d",
     "locked": true,
     "schema_version": 3,
     "solution": false,
     "task": false
    }
   },
   "source": [
    "Complètez la fonction ci-dessous qu'elle affiche les nombres de 0 à n. "
   ]
  },
  {
   "cell_type": "code",
   "execution_count": null,
   "metadata": {},
   "outputs": [],
   "source": [
    "def counting2(n):\n",
    "    i = 0\n",
    "    # complètez ici\n",
    "    \n",
    "counting2(n)\n",
    "z = 20"
   ]
  },
  {
   "cell_type": "markdown",
   "metadata": {
    "nbgrader": {
     "grade": false,
     "grade_id": "cell-97072844d2bb0fe2",
     "locked": true,
     "schema_version": 3,
     "solution": false,
     "task": false
    }
   },
   "source": [
    "Appelez la fonction counting en utilisant la variable `z`ci-dessus. "
   ]
  },
  {
   "cell_type": "markdown",
   "metadata": {
    "nbgrader": {
     "grade": false,
     "grade_id": "cell-d4c82faab6b61360",
     "locked": true,
     "schema_version": 3,
     "solution": false,
     "task": false
    }
   },
   "source": [
    "Complètez la fonction ci-dessous afin qu'elle affiche les nombres de `a`à `b`avec l'intervalle `c`."
   ]
  },
  {
   "cell_type": "code",
   "execution_count": null,
   "metadata": {},
   "outputs": [],
   "source": [
    "def counting3(a,b,c):\n",
    "    i = a\n",
    "    # complètez ici\n",
    "    \n",
    "counting3(5,20,3)"
   ]
  }
 ],
 "metadata": {
  "celltoolbar": "Create Assignment",
  "kernel_info": {
   "name": "python3"
  },
  "kernelspec": {
   "display_name": "Python 3",
   "language": "python",
   "name": "python3"
  },
  "language_info": {
   "codemirror_mode": {
    "name": "ipython",
    "version": 3
   },
   "file_extension": ".py",
   "mimetype": "text/x-python",
   "name": "python",
   "nbconvert_exporter": "python",
   "pygments_lexer": "ipython3",
   "version": "3.7.2"
  },
  "nteract": {
   "version": "0.15.0"
  },
  "pycharm": {
   "stem_cell": {
    "cell_type": "raw",
    "metadata": {
     "collapsed": false
    },
    "source": []
   }
  }
 },
 "nbformat": 4,
 "nbformat_minor": 2
}
