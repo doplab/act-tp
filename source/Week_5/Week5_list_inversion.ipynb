{
  "cells": [
    {
      "cell_type": "markdown",
      "source": [
        "## List inversion\n",
        "\n",
        "Complètez la fonction ci-dessous afin qu'elle retourne les éléments d'une liste dans le sens opposé. Si la liste initiale est [3,6,7], la liste finale doit être [7,6,3]. "
      ],
      "metadata": {}
    },
    {
      "cell_type": "code",
      "source": [
        "def reverse_list(initial_list):\n",
        "    #complètez la fonction ici\n",
        "    \n",
        "reverse_list([3,6,8,2,5])"
      ],
      "outputs": [],
      "execution_count": null,
      "metadata": {
        "collapsed": false,
        "outputHidden": false,
        "inputHidden": false
      }
    },
    {
      "cell_type": "code",
      "source": [
        "#Solution\n",
        "\n",
        "def reverse_list(initial_list):\n",
        "    relist=[]\n",
        "    i = len(initial_list)-1\n",
        "    while i >= 0:\n",
        "        relist.append(initial_list[i])\n",
        "        i-=1\n",
        "    return relist\n",
        "reverse_list([3,6,8,2,5])"
      ],
      "outputs": [
        {
          "output_type": "execute_result",
          "execution_count": 7,
          "data": {
            "text/plain": [
              "[5, 2, 8, 6, 3]"
            ]
          },
          "metadata": {}
        }
      ],
      "execution_count": 7,
      "metadata": {
        "collapsed": false,
        "outputHidden": false,
        "inputHidden": false
      }
    }
  ],
  "metadata": {
    "kernel_info": {
      "name": "python3"
    },
    "language_info": {
      "name": "python",
      "version": "3.7.3",
      "mimetype": "text/x-python",
      "codemirror_mode": {
        "name": "ipython",
        "version": 3
      },
      "pygments_lexer": "ipython3",
      "nbconvert_exporter": "python",
      "file_extension": ".py"
    },
    "kernelspec": {
      "name": "python3",
      "language": "python",
      "display_name": "Python 3"
    },
    "nteract": {
      "version": "0.15.0"
    }
  },
  "nbformat": 4,
  "nbformat_minor": 0
}