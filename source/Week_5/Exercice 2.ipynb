{
 "cells": [
  {
   "cell_type": "markdown",
   "metadata": {},
   "source": [
    "## Exercise 1: Calculer les complexités"
   ]
  },
  {
   "cell_type": "markdown",
   "metadata": {},
   "source": [
    "Pour chaque algorithmes ci-dessous, indiquer en une phrase, ce que font ces algorithmes et calculer leur complexité temporelle avec la notation O( )."
   ]
  },
  {
   "cell_type": "code",
   "execution_count": 1,
   "metadata": {},
   "outputs": [],
   "source": [
    "#Entrée: list de nombre entiers et M un nombre entier\n",
    "def algo1(L, M):\n",
    "    i = 1\n",
    "    while i < len(L) and L[i] <= M:\n",
    "        i += 1\n",
    "    s = i-1\n",
    "    return s\n",
    "    "
   ]
  },
  {
   "cell_type": "markdown",
   "metadata": {},
   "source": [
    "**Solution:** ecrire ta solution ici"
   ]
  },
  {
   "cell_type": "code",
   "execution_count": null,
   "metadata": {},
   "outputs": [],
   "source": [
    "#Entrée: n un nombre entier\n",
    "def algo2(n):\n",
    "    s = 0\n",
    "    for i in range(2*n):\n",
    "        s += i\n",
    "    return s"
   ]
  },
  {
   "cell_type": "markdown",
   "metadata": {},
   "source": [
    "**Solution:** ecrire ta solution ici"
   ]
  },
  {
   "cell_type": "code",
   "execution_count": null,
   "metadata": {},
   "outputs": [],
   "source": [
    "#Entrée: L and M are two list de nombre entiers\n",
    "def algo3(L, M):\n",
    "    n = len(L)\n",
    "    m = len(M)\n",
    "    for i in range(n):\n",
    "        L[i] = L[i]%2\n",
    "    for j in range(m):\n",
    "        M[j] = \n",
    "            "
   ]
  },
  {
   "cell_type": "markdown",
   "metadata": {},
   "source": [
    "**Solution:** ecrire ta solution ici"
   ]
  },
  {
   "cell_type": "code",
   "execution_count": 5,
   "metadata": {},
   "outputs": [],
   "source": [
    "# Entrée: une matrice M carré (même nombre de lignes et de colonnes)\n",
    "def algo4(M):\n",
    "    for i in range(len(M)):\n",
    "        for j in range(len(M)):\n",
    "            if M[i][j] < 0:\n",
    "                M[i][j] = 0\n",
    "    return M"
   ]
  },
  {
   "cell_type": "markdown",
   "metadata": {},
   "source": [
    "**Solution:** ecrire ta solution ici"
   ]
  },
  {
   "cell_type": "code",
   "execution_count": null,
   "metadata": {},
   "outputs": [],
   "source": []
  }
 ],
 "metadata": {
  "kernelspec": {
   "display_name": "Python 3",
   "language": "python",
   "name": "python3"
  },
  "language_info": {
   "codemirror_mode": {
    "name": "ipython",
    "version": 3
   },
   "file_extension": ".py",
   "mimetype": "text/x-python",
   "name": "python",
   "nbconvert_exporter": "python",
   "pygments_lexer": "ipython3",
   "version": "3.7.3"
  }
 },
 "nbformat": 4,
 "nbformat_minor": 2
}
