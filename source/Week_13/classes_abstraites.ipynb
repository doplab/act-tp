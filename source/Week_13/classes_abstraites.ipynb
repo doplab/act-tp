{
 "cells": [
  {
   "cell_type": "markdown",
   "metadata": {},
   "source": [
    "# Classes abstraites\n",
    "\n",
    "Avant de commencer cette séance d'exercices, assurez-vous d'avoir bien compris la notion d'héritage.\n",
    "\n",
    "Une classe abstraite est une classe qui ne peut être instanciée. Elle peut contenir une ou plusieurs méthodes abstraites.\n",
    "\n",
    "L'abstraction sert uniquement à montrer que les informations essentielles aux utilisateurs. En Java, il suffit de déclarer des classes ou interfaces abstraites pour utiliser le concept d'abstraction. Les classes abstraites ne peuvent pas créer des objets sauf si elles héritent d'autres classes.\n",
    "source: https://www.w3schools.com/java/java_abstract.asp\n",
    "\n",
    "Dans cet exercice, vous devez définir une classe abstraite `Polygone` contenant deux méthodes abstraites:\n",
    "-  calculSurface(): effectue l'opération et retourne la surface du polygone\n",
    "- display(): Pour chaque polygone définit, cette methode affichera un message contenant tous les attributs de l'objet ainsi que le résultat de la méthode `calculSurface()`. Par exemple, dans le cas d'un rectangle (qui hérite de `Polygone`), `display()` retournera le message suivant: `Notre rectangle a pour dimensions L = 60.0 et l = 25.0. Sa superficie est de 1500.0 mètres carrés`\n",
    "\n",
    "Créez des classes héritant de `Polygone` pour chaque type de figures listées dans l'image ci-dessous.\n",
    "\n",
    "<figure>\n",
    "<img src=\"https://github.com/doplab/act-tp/blob/Week14_Alpha/images/week14/polygone.jpg?raw=True\" alt=\"Abstract classes\">\n",
    "<figcaption>Classe abstraite et héritage</figcaption>\n",
    "</figure>\n"
   ]
  },
  {
   "cell_type": "code",
   "execution_count": 1,
   "metadata": {},
   "outputs": [],
   "source": [
    "// Définissez votre classe abstraite Polygone"
   ]
  },
  {
   "cell_type": "code",
   "execution_count": 2,
   "metadata": {},
   "outputs": [],
   "source": [
    "// Définissez les objets héritants de Polygone\n",
    "// Rajoutez des attributs (par exemple: Longueur et largeur pour le rectangle)\n",
    "// Créez des getters et setters pour accéder et modifier les valeurs de vos attributs"
   ]
  },
  {
   "cell_type": "code",
   "execution_count": 3,
   "metadata": {},
   "outputs": [],
   "source": [
    "// Instanciez vos objets et faire appel aux méthodes définies dans vos objets (calculSurface() et display())"
   ]
  },
  {
   "cell_type": "code",
   "execution_count": null,
   "metadata": {},
   "outputs": [],
   "source": []
  }
 ],
"metadata": {
    "kernelspec": {
      "display_name": "Java",
      "language": "java",
      "name": "java"
    },
    "language_info": {
      "codemirror_mode": "text/x-java",
      "file_extension": ".java",
      "mimetype": "",
      "name": "Java",
      "nbconverter_exporter": "",
      "version": "3.7.5"
    },
    "toc": {
      "toc_position": {},
      "skip_h1_title": false,
      "number_sections": false,
      "title_cell": "Table of Contents",
      "toc_window_display": false,
      "base_numbering": 1,
      "toc_section_display": false,
      "title_sidebar": "Contents",
      "toc_cell": false,
      "nav_menu": {},
      "sideBar": false
    },
    "nteract": {
      "version": "0.15.0"
    }
  },
  "nbformat": 4,
  "nbformat_minor": 2
}
