{
 "cells": [
  {
   "cell_type": "markdown",
   "metadata": {
    "colab_type": "text",
    "id": "pxOEgJEUPm_U"
   },
   "source": [
    "# Abstract Classes and Interfaces in Java\n",
    "\n",
    "## Abstract Classes [1]\n",
    "\n",
    "Une classe abstraite est une classe dont l'implémentation n'est pas complète. Elle est déclarée en utilisant le mot-clé **abstract**. Elle peut inclure des méthodes abstraites ou non. Les classes abstraites ne peuvent pas être instanciées, mais servent de base à des sous-classes qui en sont dérivées.   \n",
    "\n",
    "Lorsqu'une sous-classe est dérivée d'une classe abstraite, elle complète généralement l'implémentation de toutes les méthodes abstraites de la classe mère. Si ce n'est pas le cas, la sous-classe doit également être déclarée comme abstraite.    \n",
    "\n",
    "\n",
    "````\n",
    "// an abstract class declaration\n",
    "public abstract class Animal {\n",
    "    private int speed;\n",
    "    // an abstract method declaration\n",
    "    abstract void run();\n",
    "}\n",
    "\n",
    "public class Cat extends Animal {\n",
    "    // implementation of abstract method\n",
    "    void run() {\n",
    "        speed += 10;\n",
    "    }\n",
    "}\n",
    "````\n",
    "\n",
    "[1]https://docs.oracle.com/javase/tutorial/java/IandI/abstract.html"
   ]
  },
  {
   "cell_type": "markdown",
   "metadata": {
    "colab_type": "text",
    "id": "ekpExAmkPm_b"
   },
   "source": [
    "Implémentez une classe abstraite appelée ````Item````. \n",
    "\n",
    "1. Elle doit avoir 4 variables d'instance et une variable de classe, qui sont les suivantes:    \n",
    "````\n",
    "    private int id;\n",
    "    private static int count = 0;\n",
    "    private String name;\n",
    "    private double price;\n",
    "    private ArrayList<String> ingredients;\n",
    "````\n",
    "\n",
    "2. Elle doit avoir un constructeur prenant les variables ````name````,````price```` et ````ingredients```` comme paramètres. Pour définir ````id````, utilisez la ligne suivante: \n",
    "````this.id = ++count;````    \n",
    "\n",
    "3. Implémentez des méthodes d'accesseurs pour les variables ````id````, ````name````, ````price```` et ````ingredient````.    \n",
    "\n",
    "4. Implémentez les méthodes ````equals(Object o)```` et ````toString()````."
   ]
  },
  {
   "cell_type": "code",
   "execution_count": 1,
   "metadata": {
    "colab": {},
    "colab_type": "code",
    "id": "nrnMd7g0Pm_d",
    "outputId": "66f9cdc5-63bb-4abb-cf21-439b2e8be63a"
   },
   "outputs": [
    {
     "data": {
      "text/plain": [
       "null"
      ]
     },
     "execution_count": 1,
     "metadata": {},
     "output_type": "execute_result"
    }
   ],
   "source": [
    "import java.util.*;\n",
    "\n",
    "// VOTRE CODE ICI\n",
    "\n"
   ]
  },
  {
   "cell_type": "markdown",
   "metadata": {
    "colab_type": "text",
    "id": "GQfqkJVLPm_n"
   },
   "source": [
    "## Interfaces [2]\n",
    "\n",
    "Une déclaration d'interface comprend les modificateurs (public, etc.), le mot-clé **interface**, le nom de l'interface, une liste d'interfaces parentes séparées par des virgules et le corps de l'interface.        \n",
    "\n",
    "````\n",
    "public interface IMakeSound {\n",
    "    final double MY_DECIBEL_VALUE = 75;\n",
    "    void makeSound();\n",
    "}\n",
    "````\n",
    "\n",
    "Les méthodes déclarées dans une interface doivent être implémentées dans des sous-classes. Si on reprend l'exemple de la classe ````Cat````:    \n",
    "\n",
    "````\n",
    "public class Cat extends Animal implements IMakeSound {\n",
    "    // implementation of the abstract method from the class Animal \n",
    "    void run() {\n",
    "        speed += 10;\n",
    "    }\n",
    "    // implementation of the method from the IMakeSound interface\n",
    "    void makeSound() {\n",
    "        System.out.println(\"I meow at \" + MY_DECIBEL_VALUE + \" decibel.\");\n",
    "    }\n",
    "}\n",
    "````\n",
    "\n",
    "[2]https://docs.oracle.com/javase/tutorial/java/IandI/interfaceDef.html"
   ]
  },
  {
   "cell_type": "markdown",
   "metadata": {
    "colab_type": "text",
    "id": "X3xNJIPQPm_p"
   },
   "source": [
    "Implémentez une interface ````Edible```` contenant une méthode appelée ````eatMe```` qui ne retourne aucune valeur."
   ]
  },
  {
   "cell_type": "code",
   "execution_count": 2,
   "metadata": {
    "colab": {},
    "colab_type": "code",
    "id": "VfiXQq63Pm_r",
    "outputId": "832f5b25-8636-441b-a274-e6dca4006c67"
   },
   "outputs": [
    {
     "data": {
      "text/plain": [
       "null"
      ]
     },
     "execution_count": 2,
     "metadata": {},
     "output_type": "execute_result"
    }
   ],
   "source": [
    "// VOTRE CODE ICI\n",
    "\n"
   ]
  },
  {
   "cell_type": "markdown",
   "metadata": {
    "colab_type": "text",
    "id": "SNbpIvn1Pm_x"
   },
   "source": [
    "Implémentez une interface ````Drinkable```` contenant une méthode appelée ````drinkMe```` qui ne retourne aucune valeur."
   ]
  },
  {
   "cell_type": "code",
   "execution_count": 3,
   "metadata": {
    "colab": {},
    "colab_type": "code",
    "id": "I4uUqym5Pm_z",
    "outputId": "607f7aed-765f-4ba7-a4da-70a059c198dd"
   },
   "outputs": [
    {
     "data": {
      "text/plain": [
       "null"
      ]
     },
     "execution_count": 3,
     "metadata": {},
     "output_type": "execute_result"
    }
   ],
   "source": [
    "// VOTRE CODE ICI\n",
    "\n"
   ]
  },
  {
   "cell_type": "markdown",
   "metadata": {
    "colab_type": "text",
    "id": "KkrNKAFkPm_7"
   },
   "source": [
    "Implémentez une classe ````Food```` qui **extends** ````Item```` et **implements** ````Edible````. Ensuite, implémentez à la fois un constructeur pour ````Food```` ainsi que la méthode ````eatMe```` de l'interface ````Edible````.\n",
    "\n",
    "Indice : Vous pouvez simplement mettre un ````println```` dans le corps de la méthode ````eatMe()````."
   ]
  },
  {
   "cell_type": "code",
   "execution_count": 4,
   "metadata": {
    "colab": {},
    "colab_type": "code",
    "id": "cHF5bfAiPm__",
    "outputId": "08bcb748-92a3-43ae-c841-419d14797a43"
   },
   "outputs": [
    {
     "data": {
      "text/plain": [
       "null"
      ]
     },
     "execution_count": 4,
     "metadata": {},
     "output_type": "execute_result"
    }
   ],
   "source": [
    "import java.util.*;\n",
    "\n",
    "// VOTRE CODE ICI\n",
    "\n"
   ]
  },
  {
   "cell_type": "markdown",
   "metadata": {
    "colab_type": "text",
    "id": "srflmoRBPnAE"
   },
   "source": [
    "Implémentez une classe ````Drink```` qui **extends** ````Item```` et **implements** ````Drinkable````. Ensuite, implémentez à la fois un constructeur pour ````Drink```` ainsi que la méthode ````drinkMe```` de l'interface ````Drinkable````.\n",
    "\n",
    "Indice : Vous pouvez simplement mettre un ````println```` dans le corps de la méthode ````drinkMe()````."
   ]
  },
  {
   "cell_type": "code",
   "execution_count": 5,
   "metadata": {
    "colab": {},
    "colab_type": "code",
    "id": "5gDxSET8PnAH",
    "outputId": "5d72384c-223b-4ef5-f881-b61c68c834e0"
   },
   "outputs": [
    {
     "data": {
      "text/plain": [
       "null"
      ]
     },
     "execution_count": 5,
     "metadata": {},
     "output_type": "execute_result"
    }
   ],
   "source": [
    "import java.util.*;\n",
    "\n",
    "// VOTRE CODE ICI\n",
    "\n",
    "\n"
   ]
  },
  {
   "cell_type": "markdown",
   "metadata": {
    "colab_type": "text",
    "id": "lc8hlrLAPnAO"
   },
   "source": [
    "Certains aliments ne sont pas seulement ````Edible````, mais aussi ````Drinkable````, comme les soupes.    \n",
    "\n",
    "Implémentez une classe ````Soup```` qui **extends** ````Food```` et **implements** ````Drinkable````. Ensuite, implémentez à la fois un constructeur pour ````Soup```` ainsi que la méthode ````drinkMe```` de l'interface ````Drinkable````.\n",
    "\n",
    "Indice : Vous pouvez simplement mettre un ````println```` dans le corps de la méthode ````drinkMe()````."
   ]
  },
  {
   "cell_type": "code",
   "execution_count": 6,
   "metadata": {
    "colab": {},
    "colab_type": "code",
    "id": "2y0MKlHfPnAR",
    "outputId": "d4c96036-270e-4808-b5f0-1acebb0e5e83"
   },
   "outputs": [
    {
     "data": {
      "text/plain": [
       "null"
      ]
     },
     "execution_count": 6,
     "metadata": {},
     "output_type": "execute_result"
    }
   ],
   "source": [
    "import java.util.*;\n",
    "\n",
    "// VOTRE CODE ICI\n",
    "\n",
    "\n"
   ]
  },
  {
   "cell_type": "markdown",
   "metadata": {
    "colab_type": "text",
    "id": "rqqWexrWPnAW"
   },
   "source": [
    "Créez les 4 instances décrites ci-dessous; testez et observez leur fonctionnement:    \n",
    "\n",
    "1. Créez une instance ````Soup````, puis appelez les méthodes ````drinkMe()```` et ````eatMe()````.    \n",
    "   \n",
    "   Vous pouvez utiliser la ligne suivante pour initialiser votre instance :    \n",
    "   ````Soup(\"Analı kızlı soup\", 7.5, new ArrayList<String>(Arrays.asList(\"chickpeas\",\"bulgur\", \"meat\", \"tomato\" )))````    \n",
    "\n",
    "\n",
    "2. Créez une instance ````Food````, puis appelez la méthode ````eatMe()````.    \n",
    "   \n",
    "   Vous pouvez utiliser la ligne suivante pour initialiser votre instance : ````Food(\"Stuffed peppers\", 12, new ArrayList<String>(Arrays.asList(\"bell pepper\", \"rice\", \"tomato\", \"parsley\", \"onion\")))````    \n",
    "\n",
    "\n",
    "3. Créez une instance ````Drink````, puis appelez la méthode ````drinkMe()````.    \n",
    "   \n",
    "   Vous pouvez utiliser la ligne suivante pour initialiser votre instance : ````Drink(\"Ayran\", 3, new ArrayList<String>(Arrays.asList(\"yoghurt\", \"water\", \"mint\")))````    \n",
    "\n",
    "4. Créez une instance ````Food````, puis appelez la méthode ````eatMe()````.    \n",
    "   \n",
    "   Vous pouvez utiliser la ligne suivante pour initialiser votre instance : ````Food(\"Cream of mushroom soup\", 6, new ArrayList<String>(Arrays.asList(\"mushroom\", \"creme\", \"flour\")))````    \n",
    "\n",
    "   Essayez d'appeler la méthode ````drinkMe()```` sur cette instance. Est-ce que ça marche ?"
   ]
  },
  {
   "cell_type": "code",
   "execution_count": 7,
   "metadata": {
    "colab": {},
    "colab_type": "code",
    "id": "OEYCjt9oPnAY",
    "outputId": "c9def75f-429d-4c0b-eac5-7ca35a9dc358"
   },
   "outputs": [
    {
     "data": {
      "text/plain": [
       "null"
      ]
     },
     "execution_count": 7,
     "metadata": {},
     "output_type": "execute_result"
    }
   ],
   "source": [
    "import java.util.*;\n",
    "\n",
    "// VOTRE CODE ICI\n",
    "\n"
   ]
  },
  {
   "cell_type": "code",
   "execution_count": 0,
   "metadata": {
    "colab": {},
    "colab_type": "code",
    "id": "6oU-jaf9PnAd"
   },
   "outputs": [],
   "source": []
  }
 ],
 "metadata": {
  "colab": {
   "name": "w12_abstract_class_and_interface_answers.ipynb",
   "provenance": []
  },
  "kernelspec": {
   "display_name": "Java",
   "language": "java",
   "name": "java"
  },
  "language_info": {
   "codemirror_mode": "text/x-java",
   "file_extension": ".java",
   "mimetype": "",
   "name": "Java",
   "nbconverter_exporter": "",
   "version": "1.8.0_222"
  },
  "toc": {
   "base_numbering": 1,
   "nav_menu": {},
   "number_sections": false,
   "sideBar": false,
   "skip_h1_title": false,
   "title_cell": "Table of Contents",
   "title_sidebar": "Contents",
   "toc_cell": false,
   "toc_position": {},
   "toc_section_display": false,
   "toc_window_display": false
  }
 },
 "nbformat": 4,
 "nbformat_minor": 1
}
