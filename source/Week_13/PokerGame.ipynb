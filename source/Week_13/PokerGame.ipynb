{
 "cells": [
  {
   "cell_type": "markdown",
   "metadata": {},
   "source": [
    "## Exercise 1: Poker Game"
   ]
  },
  {
   "cell_type": "markdown",
   "metadata": {},
   "source": [
    "\n",
    "\n",
    "Cette semaine nous allons commencé un exercise consistant à implémenter un jeu de poker. Celui-ci se poursuivra dans les prochaines semaines. Tout d’abord nous allons construire deux classes de bases.\n",
    "\n",
    "La classe Carte (« Card ») qui réprésente une carte. Elle possède deux attributs :\n",
    "\n",
    "    rank (int) : la valeur de la carte (ex : as, 10 etc.)\n",
    "\n",
    "    suit (int) : la couleur (ou enseigne pour les puristes) de la carte.\n",
    "\n",
    "    • Implémenter le constructeur de la classe « Card » qui prend en argument une « value » et une « suit »\n",
    "    • Implémenter une méthode «getInfo» qui affiche dans la console la valeur et la couleur de la carte, vous pouvez vous aider d'une fonction privée getForm et getValue pour afficher les cas particuliers.\n",
    "\n",
    "Nous choisissons ici de représenter les couleurs comme des entier de 0 à 3 à la place de String. Ceci nous permettra de manipuler plus facilemet le jeu de carte par la suite. Pour cela, définir 4 variable static et final (ex:     public static final int HEART = 0;) pour définir les indices des enseignes.\n",
    "\n"
   ]
  },
  {
   "cell_type": "code",
   "execution_count": 1,
   "metadata": {},
   "outputs": [
    {
     "data": {
      "text/plain": [
       "com.twosigma.beaker.javash.bkr7b8b4a2e.Card"
      ]
     },
     "execution_count": 1,
     "metadata": {},
     "output_type": "execute_result"
    }
   ],
   "source": [
    "public class Card {\n",
    "\n",
    "\n",
    "\n",
    "}\n"
   ]
  },
  {
   "cell_type": "markdown",
   "metadata": {},
   "source": [
    "### La classe Player\n",
    "\n",
    "La classe joueur (« Player ») qui représente un joueur de la partie. Elle possède plusieurs attributs :\n",
    "\n",
    "    hand (Card[]) : un tableau de carte de taille maximal 2\n",
    "    balance (int) : la balance total du joureur \n",
    "    stake (int) : la mise du joueur :\n",
    "\n",
    "    isMyTurn (boolean) : valant true si c’est au tour du joueur\n",
    "\n",
    "    • Implémenter le constructeur de la classe «Player» qui prend en argument deux cartes (puis les ajoute à sa main), une balance initiale, une mise initiale de 0.\n",
    "    • Implémenter une fonction « bet » qui propose une mise sur la table mais ne retourne rien (utiliser le mot void). Définir la nouvelle mise du joueur.\n",
    "    • Implémenter la méthode « showHand » qui montre les cartes sur la table\n",
    "    • Implémenter une methode « win » qui prend en argument la somme des gains sur la table que le joueur vient de gagner, ajouter là à sa balance.\n",
    "\n",
    "Les deux dernières méthodes s’appliquent seulement si c’est au tour du joueur.\n"
   ]
  },
  {
   "cell_type": "code",
   "execution_count": 4,
   "metadata": {},
   "outputs": [
    {
     "data": {
      "text/plain": [
       "com.twosigma.beaker.javash.bkr4f32305e.Player"
      ]
     },
     "execution_count": 4,
     "metadata": {},
     "output_type": "execute_result"
    }
   ],
   "source": [
    "import java.util.ArrayList;\n",
    "\n",
    "public class Player {\n",
    "\n",
    "\n",
    "\n",
    "}"
   ]
  },
  {
   "cell_type": "markdown",
   "metadata": {},
   "source": [
    "### La classe Deck\n",
    "\n",
    "La classe Deck représente un paquet de carte, cette classe possède plusieurs attributs:\n",
    "\n",
    "    - deck (ArrayList<Card>): le jeu de carte complet\n",
    "    - NBR_CARDS (int): un attribut final et static (constante) égale à 52\n",
    "    - SHUFFLE_ITER (int): une constant qui correspond au nombre de mélange effectué de valeur 100\n",
    "    \n",
    "Dans le constructeur ne prenant aucun argument, générer le deck en créant au fur et à mesure des cartes. \n",
    "Implémenter une fonction public shuffle() qui mélange le jeu de carte et appeler là dans le constructeur après avoir construit le jeu de carte.  \n",
    "*Indication: utiliser Random r = new Random(); sa fonction nextInt() et utiliser des index et une variable Card temporaire pour pouvoir échanger les cartes de position.* \n",
    "\n",
    "Implémenter une fonction getCardFromDeck() qui retourn la carte en haut de la pil et la retire du jeu."
   ]
  },
  {
   "cell_type": "code",
   "execution_count": null,
   "metadata": {},
   "outputs": [],
   "source": [
    "import java.util.ArrayList;\n",
    "import java.util.Random;\n",
    "\n",
    "public class Deck {\n",
    "\n",
    "   \n",
    "\n",
    "}\n"
   ]
  }
 ],
 "metadata": {
  "kernelspec": {
   "display_name": "Java",
   "language": "java",
   "name": "java"
  },
  "language_info": {
   "codemirror_mode": "text/x-java",
   "file_extension": ".java",
   "mimetype": "",
   "name": "Java",
   "nbconverter_exporter": "",
   "version": "1.8.0_222"
  }
 },
 "nbformat": 4,
 "nbformat_minor": 2
}
