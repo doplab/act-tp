{
 "cells": [
  {
   "cell_type": "markdown",
   "metadata": {},
   "source": [
    "## Exercise 1: Poker Game"
   ]
  },
  {
   "cell_type": "markdown",
   "metadata": {},
   "source": [
    "\n",
    "\n",
    "Cette semaine nous allons commencé un exercise consistant à implémenter un jeu de poker. Celui-ci se poursuivra dans les prochaines semaines. Tout d’abord nous allons construire deux classes de bases.\n",
    "\n",
    "La classe Carte (« Card ») qui réprésente une carte. Elle possède deux attributs :\n",
    "\n",
    "    value (int) : la valeur de la carte (ex : as, 10 etc.)\n",
    "\n",
    "    suit (int) : la couleur (ou enseigne pour les puristes) de la carte.\n",
    "\n",
    "    • Implémenter le constructeur de la classe « Card » qui prend en argument une « value » et une « suit »\n",
    "    • Implémenter une méthode «getInfo» qui affiche dans la console la valeur et la couleur de la carte\n",
    "\n",
    "Nous choisissons ici de représenter les couleurs comme des entier de 0 à 3 àla place de String. Ceci nous permettra de manipuler plus facilemet le jeu de carte par la suite.\n"
   ]
  },
  {
   "cell_type": "code",
   "execution_count": 4,
   "metadata": {},
   "outputs": [
    {
     "data": {
      "text/plain": [
       "com.twosigma.beaker.javash.bkr92b7b1f1.Card"
      ]
     },
     "execution_count": 4,
     "metadata": {},
     "output_type": "execute_result"
    }
   ],
   "source": [
    "public class Card {\n",
    "\n",
    "\n",
    "}"
   ]
  },
  {
   "cell_type": "markdown",
   "metadata": {},
   "source": [
    "\n",
    "\n",
    "La classe joueur (« Player ») qui représente un joueur de la partie. Elle possède plusieurs attributs :\n",
    "\n",
    "    hand (Card[]) : un tableau de carte de taille maximal 2\n",
    "    balance (int) : la balance total du joureur \n",
    "    stake (int) : la mise du joueur :\n",
    "    rôle (String) : désigne si le joueur est le dealer possède la petite ou la grande blind.\n",
    "\n",
    "    isMyTurn (boolean) : valant true si c’est au tour du joueur\n",
    "\n",
    "    • Implémenter le constructeur de la classe «Player» qui prend en argument deux cartes, les ajoute à sa main, une balance initiale, une mise initiale de 0, et un rôle.\n",
    "    • Implémenter une fonction « bet » qui propose une mise sur la table mais ne retourne rien (utiliser le mot void). Définir la nouvelle mise du joueur.\n",
    "    • Implémenter la méthode « showHand » qui montre les cartes sur la table\n",
    "    • Implémenter une methode « win » qui prend en argument la somme des gains sur la table que le joueur vient de gagner, ajouter là à sa balance.\n",
    "\n",
    "Les deux dernières méthodes s’appliquent seulement si c’est au tour du joueur.\n"
   ]
  },
  {
   "cell_type": "code",
   "execution_count": 5,
   "metadata": {},
   "outputs": [
    {
     "data": {
      "text/plain": [
       "com.twosigma.beaker.javash.bkr92b7b1f1.Player"
      ]
     },
     "execution_count": 5,
     "metadata": {},
     "output_type": "execute_result"
    }
   ],
   "source": [
    "\n",
    "public class Player {\n",
    "\n",
    "  \n",
    "}"
   ]
  }
 ],
 "metadata": {
  "kernelspec": {
   "display_name": "Java",
   "language": "java",
   "name": "java"
  },
  "language_info": {
   "codemirror_mode": "text/x-java",
   "file_extension": ".java",
   "mimetype": "",
   "name": "Java",
   "nbconverter_exporter": "",
   "version": "1.8.0_222"
  }
 },
 "nbformat": 4,
 "nbformat_minor": 2
}
