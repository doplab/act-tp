{
 "cells": [
  {
   "cell_type": "markdown",
   "metadata": {},
   "source": [
    "# Exercice 1 : Python\n",
    "\n",
    "Dans la séace d'aujourd'hui, nous allons nous intéresser au **graph algorithm**. Avant de commencer, rappelons brièvement ce qu'est un **graphe** :\n",
    "\n",
    "Une **graphe** est composé de sommets reliés par des arrêtes. Ils sont très utilisé dans la pratique, que ce soit par les systèmes GPS pour vous fournir le chemin chemin le plus court jusqu'à votre destination, ou par instagram pour vous faire des suggestions d'abonnement. Plusieurs moyens peuvent être utilisé pour représenter un graphe dans un programme. La meilleur méthode de représentation dépend du type de graphe, et de l'algorithme utilisé. "
   ]
  },
  {
   "attachments": {
    "Graphe%201.PNG": {
     "image/png": "[encoded data removed]"
    }
   },
   "cell_type": "markdown",
   "metadata": {},
   "source": [
    "## a) Adjacency list and adjacency matrix\n",
    "\n",
    "Adjacency list et l'adjacency matrix sont les 2 moyens que l'on considère pour représenter une graphe. Utilisez ces 2 méthodes de représentations pour stockez le graphe ci-dessous :\n",
    "![Graphe%201.PNG](attachment:Graphe%201.PNG)\n",
    "- **Hint 1** : Pour l'adjacency list, utilisez un dictionnaire python. \n",
    "- **Hint 2** :Pour l'adjacency matrix, utiliser une liste de liste."
   ]
  },
  {
   "cell_type": "code",
   "execution_count": null,
   "metadata": {},
   "outputs": [],
   "source": [
    "adjacency_list_graph = #votre code ici\n",
    "\n",
    "adjacency_matrix_graphe = #votre code ici"
   ]
  },
  {
   "cell_type": "markdown",
   "metadata": {},
   "source": [
    "Le graphe ci-dessus est-il **directed** ou **undirected** ?"
   ]
  },
  {
   "cell_type": "markdown",
   "metadata": {},
   "source": [
    "## b) Breadth-first search\n",
    "\n",
    "Nous allons maintenant au premier algorithme portant sur les graphes. Le but du **Breadth-first search** est de trouver tout les sommets atteignables à partir d'un sommet de départ. D'abord, cherchons à comprendre le graphe de façon plus précise, cela permettra de mieux comprendre le fonctionnement de l'algorithme.\n",
    "\n",
    "Si nous partons du point B, l'ensemble des sommets atteignables est : {B,D,E,F}. Cela devrait donc être l'output de notre algorithme.\n",
    "\n",
    "Quel ensemble de sommets sont atteignables si l'on part du sommet A ? "
   ]
  },
  {
   "cell_type": "markdown",
   "metadata": {},
   "source": [
    "Nous allons maintenant implémenter l'algorithme du breadth-first search. L'algorithme fonction de la façon suivante :\n",
    "\n",
    "1) Partez du sommet initial, visitez les sommets adjascents, sauvegardez-les comme **visités**, insérez-les dans une queue (Nous allons ensuite parcourir cette queue pour découvrir le sommets atteingables à une distance plus grandes)\n",
    "\n",
    "2) Parcourez la queue. Pour chaque éléments de la queue, visitez les sommets adjascents. Si ils ne sont pas dans la liste des somments visités, ajoutez-le à cette dernière et ajoutez le à la queue. Une fois que cela est fait, suprrimez l'élément parcouru de la queue.\n",
    "\n",
    "3) Répétez l'étape 2 jusqu'à ce que la queue soit vide.\n",
    "\n",
    "- **Hint 1** : Pour cet exercice, utilisez une adjacency list\n",
    "- **Hint 2** : Pour le point 3), utilisez une boucle while avec la condition appropriée\n",
    "- **Hint 3** : Pour parcourir les sommets adjascents, utilisez une boucle for "
   ]
  },
  {
   "cell_type": "code",
   "execution_count": null,
   "metadata": {},
   "outputs": [],
   "source": [
    "def BFS(graphe,s):\n",
    "    #codez ici\n",
    "    return None"
   ]
  },
  {
   "cell_type": "markdown",
   "metadata": {},
   "source": [
    "Vérifions que notre algorithme fonctionne correctement !"
   ]
  },
  {
   "cell_type": "code",
   "execution_count": null,
   "metadata": {},
   "outputs": [],
   "source": [
    "print(BFS(adjacency_list_graph, 'B'))\n",
    "print(BFS(adjacency_list_graph, 'A'))"
   ]
  }
 ],
 "metadata": {
  "kernelspec": {
   "display_name": "Python 3",
   "language": "python",
   "name": "python3"
  },
  "language_info": {
   "codemirror_mode": {
    "name": "ipython",
    "version": 3
   },
   "file_extension": ".py",
   "mimetype": "text/x-python",
   "name": "python",
   "nbconvert_exporter": "python",
   "pygments_lexer": "ipython3",
   "version": "3.8.3"
  }
 },
 "nbformat": 4,
 "nbformat_minor": 4
}
