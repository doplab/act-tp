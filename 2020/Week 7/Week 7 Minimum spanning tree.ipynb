{
 "cells": [
  {
   "cell_type": "markdown",
   "metadata": {},
   "source": [
    "# Exercice 2 : Pyton\n",
    "\n",
    "Nous allons maintenant nous intéresser à **l'algorithme de Kruskal**. Ce dernier s'applique uniquement aux **weighted graph**. Ces derniers sont des graphes où les arrêts ont des poids, représentant par exemple une distance. L'algorithme de Kruskal a pour but de trouver un **minimum spanning tree**. Un minimum spanning tree S de G est une sous-graphe connexe de G tel que :\n",
    "- 1) V' = V, C'est à dire que tout les sommets de G sont aussi dans S\n",
    "- 2) (V',E') ne contient pas de cycle (pas de cycle dans S)\n",
    "- 3) S est le graphe satisfaisant 1) et 2) et ayant la plus petite somme des poids"
   ]
  },
  {
   "cell_type": "markdown",
   "metadata": {},
   "source": [
    "## a) Familiarisation avec la notation\n",
    "\n",
    "Pour cette exercice, nous allons utiliser une structure différente que celle dans l'exercice 1. Prenez connaissance du code ci-dessous et lisez les commentaires annoté. Vous n'avez pas besoin de la comprendre dans son intégralité. Il sera plus clair de ce à quoi sert ce genre de code lorsque vous étudierez la programmation orienté objet."
   ]
  },
  {
   "cell_type": "code",
   "execution_count": 3,
   "metadata": {},
   "outputs": [],
   "source": [
    "class Graph:\n",
    "    def __init__(self, vertices):#permet de créer un graphe lorsqu'on écrit p.ex Graph(6), il faut notamment indiquer le nb de sommet\n",
    "        self.V = vertices\n",
    "        self.graph = []\n",
    "\n",
    "    def add_edge(self, u, v, w):#ajoute une arrête entre le sommet u et v avec un poids w\n",
    "        self.graph.append([u, v, w])\n",
    "\n",
    "    def find(self, parent, i):#Correspond à la fonction Find-set(x) du cours\n",
    "        if parent[i] == i:\n",
    "            return i\n",
    "        return self.find(parent, parent[i])\n",
    "\n",
    "    def apply_union(self, parent, rank, x, y):#Correspond à la fonction Union(x,y) du cours\n",
    "        xroot = self.find(parent, x)\n",
    "        yroot = self.find(parent, y)\n",
    "        if rank[xroot] < rank[yroot]:\n",
    "            parent[xroot] = yroot\n",
    "        elif rank[xroot] > rank[yroot]:\n",
    "            parent[yroot] = xroot\n",
    "        else:\n",
    "            parent[yroot] = xroot\n",
    "            rank[xroot] += 1"
   ]
  },
  {
   "attachments": {
    "Kruskal.PNG": {
     "image/png": "[encoded data removed]"
    }
   },
   "cell_type": "markdown",
   "metadata": {},
   "source": [
    "L'algorithme de Kruskal fonctionne de la manière suivante :\n",
    "- 1) Classer les arrêtes par ordre croissant de poids\n",
    "- 2) Prendre l'arrête avec le poids le plus faible et l'ajouter à l'arbre (si 2 arrêtes ont le même poids, choisir arbitrairement une des 2).\n",
    "- 3) Vérifiez que l'arrête ajoutée ne crée pas de cycle, si c'est le cas, supprimez la.\n",
    "- 4) Répétez les étapes 2) et 3) jusqu'à ce que tout les sommets soient atteints.\n",
    "\n",
    "\n",
    "![Kruskal.PNG](attachment:Kruskal.PNG)\n",
    "\n",
    "Le bout de code suivant permet de créer le graphe :"
   ]
  },
  {
   "cell_type": "code",
   "execution_count": 4,
   "metadata": {},
   "outputs": [],
   "source": [
    "g = Graph(6)\n",
    "g.add_edge(0, 1, 4)\n",
    "g.add_edge(0, 2, 4)\n",
    "g.add_edge(1, 2, 2)\n",
    "g.add_edge(1, 0, 4)\n",
    "g.add_edge(2, 0, 4)\n",
    "g.add_edge(2, 1, 2)\n",
    "g.add_edge(2, 3, 3)\n",
    "g.add_edge(2, 5, 2)\n",
    "g.add_edge(2, 4, 4)\n",
    "g.add_edge(3, 2, 3)\n",
    "g.add_edge(3, 4, 3)\n",
    "g.add_edge(4, 2, 4)\n",
    "g.add_edge(4, 3, 3)\n",
    "g.add_edge(5, 2, 2)\n",
    "g.add_edge(5, 4, 3)"
   ]
  },
  {
   "cell_type": "markdown",
   "metadata": {},
   "source": [
    "De façon intuitive, si le graphe a V sommets, combien d'arrête le minimum spanning tree devrait-il avoir ?"
   ]
  },
  {
   "cell_type": "markdown",
   "metadata": {},
   "source": [
    "## b) Exercice papier \n",
    "\n",
    "Appliquez l'algorithme de Kruskal sur le graphe ci-dessus pour trouver le minimum spanning tree.\n",
    "Quel est le poids du minimum spanning tree ?\n",
    "- **Hint 1** : Si vous avez des difficultés à appliquer l'algorithme, vous trouverez ici une exemple pas à pas sur un graphe différent : https://fr.wikipedia.org/wiki/Algorithme_de_Kruskal#:~:text=En%20informatique%2C%20l'algorithme%20de,en%201956%20par%20Joseph%20Kruskal.\n",
    "- **Hint 2** : le poids de l'arbre est égale à la somme des poids des arrêtes qui le compose."
   ]
  },
  {
   "cell_type": "markdown",
   "metadata": {},
   "source": [
    "Voici l'algorithme de Kruskal en version python : Parcourez le code et les commentaires afin de vous assurer que vous en avez bien compris le fonctionnement."
   ]
  },
  {
   "cell_type": "code",
   "execution_count": 6,
   "metadata": {},
   "outputs": [
    {
     "name": "stdout",
     "output_type": "stream",
     "text": [
      "1 - 2: 2\n",
      "2 - 5: 2\n",
      "2 - 3: 3\n",
      "3 - 4: 3\n",
      "0 - 1: 4\n"
     ]
    },
    {
     "data": {
      "text/plain": [
       "[[1, 2, 2], [2, 5, 2], [2, 3, 3], [3, 4, 3], [0, 1, 4]]"
      ]
     },
     "execution_count": 6,
     "metadata": {},
     "output_type": "execute_result"
    }
   ],
   "source": [
    "def kruskal_algo(Graph):\n",
    "        result = []#Permettra de stocker le résultat\n",
    "        i, e = 0, 0 #Index utilisé dans l'algorithme\n",
    "        \n",
    "        Graph.graph = sorted(Graph.graph, key=lambda item: item[2]) #Trie les arrêtes par poids croissant, étape 1)\n",
    "        parent = []\n",
    "        rank = []\n",
    "        \n",
    "        \n",
    "        for node in range(Graph.V):#Cette boucle parcourt tout les sommets du graphes et crée un ensemble pour chacun d'entre eux\n",
    "            parent.append(node)\n",
    "            rank.append(0)\n",
    "          \n",
    "        #Tant que le nombre d'arrête est inférieur à V-1, notre sous-graphe n'atteint pas tout les sommets -> on continue\n",
    "        while e < Graph.V - 1:\n",
    "            \n",
    "            u, v, w = Graph.graph[i] #self.graph contient les arrêtes par ordre croissant de poids, on commence avec i = 0\n",
    "            i = i + 1               #puis à l'itération suivante on voudra avoir la 2ème arrête la plus légère, donc on \n",
    "                                    #incrémente.\n",
    "                \n",
    "            x = Graph.find(parent, u)#Ces 2 lignes des codes permettent de rechercher et de stocker à quel ensemble \n",
    "            y = Graph.find(parent, v)#appartiennent u et v.\n",
    "            \n",
    "            if x != y: #Si u et v font déjà parti du minimum spanning tree, i.e. u et v appartiennent au même ensemble\n",
    "                       #Alors on ne veut pas ajouter cette arrête au minimum spanning-tree, d'ou le x!=y\n",
    "                e = e + 1 #Si u et v sont d'ensemble différent, on a atteint un sommet de plus donc on incrémente\n",
    "                result.append([u, v, w])#On ajoute la nouvelle arrête au résultat\n",
    "                Graph.apply_union(parent, rank, x, y)#On fusionne l'ensemble auquel appartient v à celui auquel apparient u\n",
    "        for u, v, weight in result:\n",
    "            print(\"%d - %d: %d\" % (u, v, weight))#méthode permettant d'imprimer le résultat\n",
    "        \n",
    "        return result\n",
    "    \n",
    "kruskal_algo(g)"
   ]
  },
  {
   "cell_type": "markdown",
   "metadata": {},
   "source": [
    "# Exercice Papier : Social Network analysis\n",
    "\n",
    "Comme il a été expliqué dans l'introduction de l'exercice 1, les graphes peuvente être utilisé pour représenter plusieurs choses. L'une d'entre elles est la représentation de votre réseau d'ami. Imaginez que vous possédiez une liste de vos amis ainsi que des amis de vos amis (qui ne sont pas nécessairement vos amis). Cette liste peut-être représentée sous forme de graphe. Dans ce graphe :\n",
    "\n",
    "- A quoi correspondent les arrêtes et les noeuds ? Les arrêtes représentent un lien d'amitié et les noeuds représentent les personnes. \n",
    "- Faut-il utiliser un graphe dirigé ? Non, si l'on considère qu'une relation d'amitié est bilatérale. A noter que pour instagram, l'utilisation d'un graphe dirigé sera plus utile (on peut suivre quelqu'un sans que cette dernière nous suive)."
   ]
  },
  {
   "cell_type": "markdown",
   "metadata": {},
   "source": [
    "Supposez que vous disposiez du graphe des relations sociales et que vous voudriez trouver les éléments suivants :\n",
    "\n",
    "- 1) Votre ami qui a le plus d'ami\n",
    "- 2) Découvrir quels amis à vous se connaissent\n",
    "- 3) Listez vos amis qui pourraient vous présenter quelqu'un que vous ne connaissez pas (ami d'ami qui n'est pas votre ami)\n",
    "\n",
    "Décrivez brièvement quel(s) critères vous devriez utiliser pour trouver ces éléments.\n",
    "- **Hint** : Raisonnez en terme d'arrêtes, de sommets, de degrés et de cycles."
   ]
  },
  {
   "cell_type": "markdown",
   "metadata": {},
   "source": [
    "Vous voulez maintenant ajouter sur ce graphe une nouvelle personne, mais cette dernière n'est ni votre ami, ni l'ami d'un de vos amis. Quel sera son degré dans le graphe ? "
   ]
  },
  {
   "cell_type": "markdown",
   "metadata": {},
   "source": [
    "Appliquons maintenant ceci-à une graphe réel :"
   ]
  },
  {
   "cell_type": "code",
   "execution_count": 8,
   "metadata": {},
   "outputs": [
    {
     "data": {
      "image/png": "[encoded data removed]",
      "text/plain": [
       "<Figure size 432x288 with 1 Axes>"
      ]
     },
     "metadata": {},
     "output_type": "display_data"
    }
   ],
   "source": [
    "# FACEBOOK\n",
    "# Importer le package necessaire\n",
    "import matplotlib.pyplot as plt\n",
    "import networkx as nx\n",
    "\n",
    "# Initialiser un graphe non dirigé\n",
    "G = nx.Graph()\n",
    "\n",
    "# Ajouter des noeuds au graphe à partir d'une liste\n",
    "list_nodes = ['A', 'B','Vous' , 'D', 'E', 'F']\n",
    "G.add_nodes_from(list_nodes)\n",
    "\n",
    "# Ajouter les liens entre les noeuds et leur poids respectif\n",
    "G.add_edge('A', 'Vous')\n",
    "G.add_edge('Vous', 'E')\n",
    "G.add_edge('A', 'B')\n",
    "G.add_edge('B', 'D')\n",
    "G.add_edge('B', 'F')\n",
    "G.add_edge('Vous', 'B')\n",
    "\n",
    "# Montrer le graphe\n",
    "nx.draw(G,with_labels = True)\n",
    "plt.show()"
   ]
  },
  {
   "cell_type": "markdown",
   "metadata": {},
   "source": [
    "Retrouvez les éléments suivants :\n",
    "- 1) Votre ami qui a le plus d'ami\n",
    "- 2) Découvrir quels amis à vous se connaissent\n",
    "- 3) Listez vos amis qui pourraient vous présenter quelqu'un que vous ne connaissez pas"
   ]
  },
  {
   "cell_type": "markdown",
   "metadata": {},
   "source": [
    "Supposez maintenant que vous travaillez chez facebook, qui a récemment acheté Whatsapp et que vous disposiez des 2 graphes représentant respectivement Facebook et Whatsapp. Pouvez-vous déterminer à qui correspondent les gens de facebook sur whatsapp ?\n",
    "- **Hint** : Essayer d'identifier les sommets ayant des caractéristiques similaires"
   ]
  },
  {
   "cell_type": "code",
   "execution_count": 9,
   "metadata": {},
   "outputs": [
    {
     "name": "stdout",
     "output_type": "stream",
     "text": [
      "Graphe de Facebook :\n"
     ]
    },
    {
     "data": {
      "image/png": "[encoded data removed]",
      "text/plain": [
       "<Figure size 432x288 with 1 Axes>"
      ]
     },
     "metadata": {},
     "output_type": "display_data"
    }
   ],
   "source": [
    "# Initialiser un graphe non dirigé\n",
    "G = nx.Graph()\n",
    "\n",
    "# Ajouter des noeuds au graphe à partir d'une liste\n",
    "list_nodes = ['A', 'B','C' , 'D', 'E', 'F']\n",
    "G.add_nodes_from(list_nodes)\n",
    "\n",
    "# Ajouter les liens entre les noeuds et leur poids respectif\n",
    "G.add_edge('A', 'C')\n",
    "G.add_edge('C', 'E')\n",
    "G.add_edge('A', 'B')\n",
    "G.add_edge('B', 'D')\n",
    "G.add_edge('B', 'F')\n",
    "G.add_edge('C', 'B')\n",
    "\n",
    "\n",
    "# Montrer le graphe\n",
    "print('Graphe de Facebook :')\n",
    "nx.draw(G,with_labels = True)\n",
    "plt.show()"
   ]
  },
  {
   "cell_type": "code",
   "execution_count": 10,
   "metadata": {},
   "outputs": [
    {
     "name": "stdout",
     "output_type": "stream",
     "text": [
      "Graphe de Whatsapp :\n"
     ]
    },
    {
     "data": {
      "image/png": "[encoded data removed]",
      "text/plain": [
       "<Figure size 432x288 with 1 Axes>"
      ]
     },
     "metadata": {},
     "output_type": "display_data"
    }
   ],
   "source": [
    "# Initialiser un graphe non dirigé\n",
    "G = nx.Graph()\n",
    "\n",
    "# Ajouter des noeuds au graphe à partir d'une liste\n",
    "list_nodes = ['1','2','3' , '4', '5', '6']\n",
    "G.add_nodes_from(list_nodes)\n",
    "\n",
    "# Ajouter les liens entre les noeuds et leur poids respectif\n",
    "G.add_edge('1', '3')\n",
    "G.add_edge('3', '5')\n",
    "G.add_edge('1', '2')\n",
    "G.add_edge('2', '4')\n",
    "G.add_edge('2', '6')\n",
    "G.add_edge('3', '2')\n",
    "\n",
    "# Montrer le graphe\n",
    "print('Graphe de Whatsapp :')\n",
    "nx.draw(G,with_labels = True, node_color='g' )\n",
    "plt.show()"
   ]
  }
 ],
 "metadata": {
  "kernelspec": {
   "display_name": "Python 3",
   "language": "python",
   "name": "python3"
  },
  "language_info": {
   "codemirror_mode": {
    "name": "ipython",
    "version": 3
   },
   "file_extension": ".py",
   "mimetype": "text/x-python",
   "name": "python",
   "nbconvert_exporter": "python",
   "pygments_lexer": "ipython3",
   "version": "3.8.3"
  }
 },
 "nbformat": 4,
 "nbformat_minor": 4
}
