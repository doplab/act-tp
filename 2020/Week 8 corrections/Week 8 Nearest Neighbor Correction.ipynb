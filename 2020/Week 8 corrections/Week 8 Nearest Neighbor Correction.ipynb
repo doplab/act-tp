{
 "cells": [
  {
   "cell_type": "markdown",
   "metadata": {},
   "source": [
    "# Nearest Neighbor search : Python\n",
    "\n",
    "La recherche du plus proche voisin a pour objectif, étant donné un point de \"départ\" et un ensemble de point, de trouver le voisin le plus proche du point de départ. Nous allons implémenter cette algorithme et ensuite l'étendre à un algorithme des k plus proches voisins (recherche des k voisins les plus proches plutôt que du seul voisin le plus proche)."
   ]
  },
  {
   "cell_type": "markdown",
   "metadata": {},
   "source": [
    "Pour commencer, nous allons avoir besoin d'une fonction qui nous permettera de calculer la distance entre 2 points. Pour ce faire, utiliser la formule de la distance euclidienne. Elle est définie de la façon suivante : \n",
    "\n",
    "point1 = (x1,y1)\n",
    "point2 = (x2,y2)\n",
    "distance entre point 1 et point 2 = Racine carrée de (x1-x2)^2 + (y1-y2)^2\n",
    "\n",
    "Pour calculer la racine carrée, vous pouvez utiliser :\n",
    "- math.sqrt()\n",
    "- (...)^(0.5)"
   ]
  },
  {
   "cell_type": "code",
   "execution_count": 32,
   "metadata": {},
   "outputs": [],
   "source": [
    "#Time to code !\n",
    "import math #permet d'importer la library nécessaire au calcul de la racine carrée\n",
    "\n",
    "def calculate_distance(point1,point2):\n",
    "    #Implémentez la formule de la distance euclidienne entre 2 point ici\n",
    "    return math.sqrt((point1[0]-point2[0])**2+(point1[1]-point2[1])**2)"
   ]
  },
  {
   "cell_type": "markdown",
   "metadata": {},
   "source": [
    "L'algorithme du voisin le plus proche prend la forme suivante : \n",
    "1) Traversez chaque point.\n",
    "2) Pour chaque point, calculez la distance entre le point et le point de départ.\n",
    "3) Retournez les coordonnées du points le plus proche\n"
   ]
  },
  {
   "cell_type": "code",
   "execution_count": 33,
   "metadata": {},
   "outputs": [],
   "source": [
    "#A vous de jouer\n",
    "\n",
    "def nearest_neighbor(start, point_set):#start correspond au point de départ, point_set correspond à l'ensemble des points\n",
    "    for i in range(len(point_set)):#on parcourt tout les point de l'ensemble\n",
    "        \n",
    "        if i == 0:\n",
    "            min_distance = calculate_distance(start, point_set[0])\n",
    "            nearest_nei = point_set[0]\n",
    "            #La distance minimale n'étant pas définie, on doit l'initialiser à la première itération, c'est ce qu'on fait ici\n",
    "            \n",
    "        distance = calculate_distance(start, point_set[i])\n",
    "        \n",
    "        if distance < min_distance:            \n",
    "            min_distance = calculate_distance(start, point_set[i])\n",
    "            nearest_nei = point_set[i]   \n",
    "            \n",
    "        #Cette partie du code détermine si le point actuellement considéré, est plus proche du point de départ que les points \n",
    "        #parcouru jusqu'ici. Si c'est le cas, on redéfinit la distance minimale et \"enregistre\" les coordonées du point\n",
    "        \n",
    "    return nearest_nei, min_distance\n",
    "        "
   ]
  },
  {
   "cell_type": "code",
   "execution_count": 34,
   "metadata": {},
   "outputs": [
    {
     "data": {
      "text/plain": [
       "<matplotlib.collections.PathCollection at 0x1c15eb26250>"
      ]
     },
     "execution_count": 34,
     "metadata": {},
     "output_type": "execute_result"
    },
    {
     "data": {
      "image/png": "[encoded data removed]",
      "text/plain": [
       "<Figure size 432x288 with 1 Axes>"
      ]
     },
     "metadata": {
      "needs_background": "light"
     },
     "output_type": "display_data"
    }
   ],
   "source": [
    "import matplotlib.pyplot as plt\n",
    "point_set = [[2,3],[5,6],[1,4],[2,4],[3,5]]#L'ensemble de point (en bleu dans le graphe)\n",
    "start = [4,4]#Point de départ(orange dans le graphe)\n",
    "\n",
    "#Ne vous occupez pas de cette partie du code, elle permet de visualiser notre ensemble de point et le point de départ\n",
    "plt.scatter([i[0] for i in point_set], [i[1] for i in point_set])\n",
    "plt.scatter(start[0], start[1])"
   ]
  },
  {
   "cell_type": "markdown",
   "metadata": {},
   "source": [
    "Quel est le point qui semble être le nearest neighbor ?"
   ]
  },
  {
   "cell_type": "code",
   "execution_count": 35,
   "metadata": {},
   "outputs": [
    {
     "name": "stdout",
     "output_type": "stream",
     "text": [
      "Le point le plus proche est [3, 5] avec une distance de 1.4142135623730951\n"
     ]
    }
   ],
   "source": [
    "#Utilisons le code pour nous en assurer\n",
    "point, distance = nearest_neighbor(start, point_set)\n",
    "print(\"Le point le plus proche est {0} avec une distance de {1}\".format(point, distance))"
   ]
  },
  {
   "cell_type": "markdown",
   "metadata": {},
   "source": [
    "Exercice facultatif :\n",
    "Essayer d'utiliser votre algorithme du plus proche voisin, pour créer un algorithm des K plus proches voisins\n"
   ]
  },
  {
   "cell_type": "code",
   "execution_count": 36,
   "metadata": {},
   "outputs": [],
   "source": [
    "def K_nearest_neighbor(start,point_set, K):\n",
    "    temp = point_set #crée une copie de notre ensemble de point\n",
    "    print(temp)\n",
    "    k_nearest_nei = []\n",
    "    \n",
    "    for j in range(K):#A chaque itération on applique l'algorithme du nearest neighbour mais sur un ensemble de point réduit\n",
    "        point, distance = nearest_neighbor(start,temp) \n",
    "        point.append(distance)\n",
    "        k_nearest_nei.append(point)\n",
    "        temp.remove(point)#On retire de l'ensemble de point le voisin le plus proche, de cette manière, à chaque itération,\n",
    "        #le voisin le plus proche sera de plus en plus éloigné.\n",
    "    \n",
    "    return k_nearest_nei"
   ]
  },
  {
   "cell_type": "code",
   "execution_count": 37,
   "metadata": {},
   "outputs": [
    {
     "name": "stdout",
     "output_type": "stream",
     "text": [
      "[[2, 3], [5, 6], [1, 4], [2, 4], [3, 5]]\n"
     ]
    },
    {
     "data": {
      "text/plain": [
       "[[3, 5, 1.4142135623730951], [2, 4, 2.0]]"
      ]
     },
     "execution_count": 37,
     "metadata": {},
     "output_type": "execute_result"
    }
   ],
   "source": [
    "K_nearest_neighbor(start, point_set, 2)"
   ]
  }
 ],
 "metadata": {
  "kernelspec": {
   "display_name": "Python 3",
   "language": "python",
   "name": "python3"
  },
  "language_info": {
   "codemirror_mode": {
    "name": "ipython",
    "version": 3
   },
   "file_extension": ".py",
   "mimetype": "text/x-python",
   "name": "python",
   "nbconvert_exporter": "python",
   "pygments_lexer": "ipython3",
   "version": "3.8.3"
  }
 },
 "nbformat": 4,
 "nbformat_minor": 4
}
