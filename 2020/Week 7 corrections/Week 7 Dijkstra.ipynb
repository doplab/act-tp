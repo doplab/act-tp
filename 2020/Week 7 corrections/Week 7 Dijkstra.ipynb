{
 "cells": [
  {
   "cell_type": "markdown",
   "metadata": {},
   "source": [
    "# Exercice 3 : Python\n",
    "\n",
    "Nous allons nous intéresser à un algorithme permettant de calculer le chemin le plus court entre 2 sommets d'un graphe. Ce dernier est par exemple utilisé pour les systèmes GPS.\n",
    "\n",
    "Avant de commencer à programmer l'algorithme, nous allons prendre le temps de nous familiariser avec certaines méthodes dont vous aurez besoin. "
   ]
  },
  {
   "cell_type": "markdown",
   "metadata": {},
   "source": [
    "# a) Un petit échauffement\n",
    "\n",
    "Ci-dessous vous trouverez du code. A nouveau, vous n'avez pas besoin de comprendre ce qu'est une classe mais lisez les commentaires et familiarisez-vous avec ce dernier :"
   ]
  },
  {
   "cell_type": "code",
   "execution_count": null,
   "metadata": {},
   "outputs": [],
   "source": [
    "class Graph:\n",
    "    #Cette partie du code permet de créer un graphe lorsqu'on appelle Graph(), il faut spécifier une matrice d'adjascence\n",
    "    def __init__(self, connections): \n",
    "        length = len(connections)   \n",
    "        self._nodes = {}\n",
    "        for column in range(length):\n",
    "            column_length = len(connections[column])\n",
    "            if column_length is not length:\n",
    "                raise ValueError(\"Length of column %d is not the same as the total length (%d)\" % (column, length))\n",
    "            for row in range(column_length):\n",
    "                connection_value = connections[column][row]\n",
    "                if not connection_value:\n",
    "                    continue\n",
    "                value1 = chr(column + 65)\n",
    "                value2 = chr(row + 65)\n",
    "                n1 = self.add_node(value1)\n",
    "                n2 = self.add_node(value2)\n",
    "                self.connect(connection_value, n1, n2)\n",
    "                \n",
    "    #Cette fonction permet d'ajouter un sommet à notre graphe\n",
    "    def add_node(self, value):\n",
    "        if value not in self._nodes:\n",
    "            self._nodes[value] = self.Node(value)\n",
    "        return self._nodes[value]\n",
    "    \n",
    "    #Cette fonction permet de connecter 2 sommets par une arrête et de lui donner un poids\n",
    "    def connect(self, value, node1, node2):\n",
    "        relationship = self.Relationship(value, node1, node2)\n",
    "        node1.add_relationship(relationship)\n",
    "\n",
    "    #Cette fonction permet de récupérer les informations d'un sommet du graphe\n",
    "    def get_node(self, value):\n",
    "        if value in self._nodes:\n",
    "            return self._nodes[value]\n",
    "        return None\n",
    "    \n",
    "    #Les sommets du graphes sont noté par des valeurs (ici, A,B,C,...), cette fonction liste toutes\n",
    "    #les valeurs apparaissant dans le graphes\n",
    "    def get_values(self):\n",
    "        return set(self._nodes.keys())\n",
    "\n",
    "    def __eq__(self, other):\n",
    "        length = len(self._nodes)\n",
    "        if length is not len(other._nodes):\n",
    "            return False\n",
    "        for key in self._nodes:\n",
    "            corresponding = other.get_node(key)\n",
    "            if corresponding != self._nodes[key]:\n",
    "                return False\n",
    "        return True\n",
    "\n",
    "    class Node:\n",
    "        def __init__(self, value):\n",
    "            self.value = value\n",
    "            self.relationships = []\n",
    "            \n",
    "        #Un sommet contient la liste de tout les sommets auxquels il est relié.    \n",
    "        #Cette fonction permet d'ajouter un sommet à la liste.\n",
    "        def add_relationship(self, relationship): \n",
    "            self.relationships.append(relationship)\n",
    "            \n",
    "            \n",
    "        def __str__(self, visited = set(), depth=0):\n",
    "            if self.value in visited:\n",
    "                return \"{\\\"value:\\\" \" + self.value + \"}\"\n",
    "            output = \"{\\\"value\\\": %s, \\\"relationships\\\": [\" % self.value\n",
    "            for i in self.relationships:\n",
    "                output += \"\\n\" \n",
    "                for _ in range(depth):\n",
    "                    output += \"\\t\"\n",
    "                output += i.to.__str__(visited, depth+1)\n",
    "            output += \"]},\"\n",
    "            visited.add(self.value)\n",
    "            return output\n",
    "        \n",
    "        \n",
    "        #Donne tout les sommets auquels le sommet un sommet est relié\n",
    "        def get_relationships(self):\n",
    "            return set([(rel.to.value, rel.value) for rel in self.relationships])\n",
    "\n",
    "        def __eq__(self, other):\n",
    "            if self.value != other.value:\n",
    "                return False\n",
    "            if self.get_relationships() != other.get_relationships():\n",
    "                return False\n",
    "            return True\n",
    "\n",
    "    #Une relation, i.e. une arrête, part d'un endroit arrive à un endroit et à un certain poids.\n",
    "    #Permet de créer une relation.\n",
    "    class Relationship:\n",
    "        def __init__(self, value, _from, _to):\n",
    "            self.value = value\n",
    "            self._from = _from\n",
    "            self.to = _to"
   ]
  },
  {
   "attachments": {
    "Dijkstra.PNG": {
     "image/png": "[encoded data removed]"
    }
   },
   "cell_type": "markdown",
   "metadata": {},
   "source": [
    "Pour cet exercice, nous allons considérer le graphe suivant :\n",
    "\n",
    "![Dijkstra.PNG](attachment:Dijkstra.PNG)"
   ]
  },
  {
   "cell_type": "markdown",
   "metadata": {},
   "source": [
    "Premièrement, à la main, écrivez ce graphe sous la forme d'une adjascency matrix.\n",
    "- **Hint** : Dans un graphe dirigé, puisqu'on ne devrait pas pouvoir aller de B à A directement par exemple, il suffit d'assigner un poids infini à une arrête fictive entre B et A."
   ]
  },
  {
   "cell_type": "markdown",
   "metadata": {},
   "source": [
    "Maintenant que nous avons notre matrice d'adjascence, il faut la programmer. Une fois que cela est fais, appeler le **constructeur** Graph(Votre_matrice_d'ajascence) pour créer le graphe.\n",
    "\n",
    "- **Hint** : A la place d'attribuer un poids infini, attribuer juste un poids arbitrairement important, cela est suffisant pour que notre algorithme fonctionne correctement. Pour ce faire, utilisez la variable i ci-dessous."
   ]
  },
  {
   "cell_type": "code",
   "execution_count": null,
   "metadata": {},
   "outputs": [],
   "source": [
    "i = 99999 #Référez vous au hint\n",
    "\n",
    "Adjascency_matrix = None \n",
    "\n",
    "graphe = Graph(Adjascency_matrix)"
   ]
  },
  {
   "cell_type": "markdown",
   "metadata": {},
   "source": [
    "Exécutez le bout de code ci-dessous, il vous permettera de vous assurez que vous n'avez pas faire d'erreur dans la création de l'adjascency matrix."
   ]
  },
  {
   "cell_type": "code",
   "execution_count": null,
   "metadata": {},
   "outputs": [],
   "source": [
    "from Corr import is_matrix_right\n",
    "\n",
    "is_matrix_right(Adjascency_matrix)"
   ]
  },
  {
   "cell_type": "markdown",
   "metadata": {},
   "source": [
    "La première étape étant complétée, nous allons maintenant nous intéresser à comment récupérer des informations concernant notre graphe. Voici une liste non-exhaustive des opérations que l'on peut effectuer :\n",
    "\n",
    "- get_node() permet d'accéder à un noeud. Par exemple, en faisant graphe.get_node('A'), j'obtiens des informations concernant le noeud A\n",
    "- Lorsque l'on accède à un noeud par la fonction get_node(), on peut ensuite accéder à la liste de toutes les arrêtes qui s'y connecte par l'attribut relationships. On peut par la suite distinguer les arrêts partant du noeud et les arrêtes y arrivant à l'aide des attributs relationship.\\_from et relationship.to.\n",
    "\n",
    "L'exemple de code ci-dessous devrait vous aider à mieux comprendre :"
   ]
  },
  {
   "cell_type": "code",
   "execution_count": null,
   "metadata": {},
   "outputs": [],
   "source": [
    "A = graphe.get_node('A')\n",
    "Arrete_liee_noeud_A = A.relationships #Cette variable continent une liste d'arrête\n",
    "#A ce stade, vous ne savez pas encore comment \"lire\" ce que contient la variable Arrete_liee_noeud_A\n",
    "\n",
    "print(\"Le nombre d'arrête liée à A est : {}.\".format(len(Arrete_liee_noeud_A)))\n",
    "\n",
    "#Cependant, vous pouvez voir que le sommet A est bien lié à 7 autres sommets. (Pour rappel, le sommet A est virtuellement\n",
    "#lié à 7 sommets dans la matrice d'adjascence)\n",
    "\n",
    "vertice = Arrete_liee_noeud_A[1] #On sélectionne la 2ème arrête liée au sommet A (pour rappele les indice d'une liste \n",
    "#python commence à 0)\n",
    "\n",
    "#Pour déterminer d'ou vient l'arrête et ou elle se termine, utilisez .to.value et _from.value :\n",
    "print(\"L'arrête part du point : {}\".format(vertice._from.value))\n",
    "print(\"Et arrive au point : {}\".format(vertice.to.value))\n",
    "\n",
    "#Pour obtenir le poids de cette arrête, faites : vertice.value :\n",
    "print(\"Le poids de l'arrête est : {}\".format(vertice.value))"
   ]
  },
  {
   "cell_type": "markdown",
   "metadata": {},
   "source": [
    "Pour vous assurer que vous avez bien compris comment tout cela fonction, écrivez un code qui permet d'afficher tout les noeuds **partant** d'un sommet donné et d'afficher le poids de l'arrête reliant ces 2 sommets.\n",
    "\n",
    "- **Hint 1** : Vous devrez retirez les sommets reliés par une arrête avec un poids de 99999\n",
    "- **Hint 2** : Utilisez une boucle for pour parcourir les arrêtes"
   ]
  },
  {
   "cell_type": "code",
   "execution_count": null,
   "metadata": {},
   "outputs": [],
   "source": [
    "def linked(graph,N):\n",
    "    #Codez ici\n",
    "    \n",
    "    return None\n",
    "\n",
    "linked(graphe,\"D\")"
   ]
  },
  {
   "cell_type": "markdown",
   "metadata": {},
   "source": [
    "Votre output devrait être:\n",
    "- A 18\n",
    "- F 11"
   ]
  },
  {
   "cell_type": "markdown",
   "metadata": {},
   "source": [
    "# b) L'algorithme de Dijkstra\n",
    "\n",
    "**L'algorithme de Dijkstra** permet de calculer le chemin le plus court entre 2 sommets d'un graphe. L'algorithme de Dijkstra que l'on va utiliser se construit de façon récursive. On initialise l'algorithme en partant au point de départ. Puis l'on va se déplacer vers tout les sommets atteignable depuis notre point de départ et appliquer l'algorithme de dijkstra à ces voisins. Ainsi de suite jusqu'à ce que l'on atteigne le sommet de destination. Pour éviter de créer une boucle infinie à cause des cycles, nous appliquerons uniquement Dijkstra aux voisins qui n'ont pas encore été visité. \n",
    "\n",
    "\n",
    "\n",
    "- **Hint 1** : Le chemin le plus court entre le sommet A et H devrait être ABCDFGH\n",
    "- **Hint 2** : Lorsque vous appliquerez Dijkstra aux voisins d'un sommet, pour choisir le chemin optimal vous devrez additionez la distance entre le sommet de départ et le poids du chemin fourni par Dijkstra.\n",
    "- **Hint 3** : Attention, lorsque vous devez déterminer quels voisins sont atteignables, ceux dont le poids est de 99999 ne sont pas atteignables\n",
    "- **Hint 4** : L'algorithme doit retourner un tuble contenant la distance totale du trajet et le trajet."
   ]
  },
  {
   "cell_type": "code",
   "execution_count": 3,
   "metadata": {},
   "outputs": [],
   "source": [
    "from math import inf\n",
    "\n",
    "def dijkstra(origin,destination,visited = None):\n",
    "    \n",
    "        if visited is None:#A l'initialisation, l'ensemble des sommets atteints est vide\n",
    "            visited = set()\n",
    "        \n",
    "        #Codez ici\n",
    "        \n",
    "        return (distance, path)"
   ]
  },
  {
   "cell_type": "code",
   "execution_count": null,
   "metadata": {},
   "outputs": [],
   "source": [
    "dijkstra(graphe.get_node('A'), 'H'))\n",
    "#Si votre algorithme est correct, ce bout de code devrait retourner (45, 'ABCDFGH')"
   ]
  }
 ],
 "metadata": {
  "kernelspec": {
   "display_name": "Python 3",
   "language": "python",
   "name": "python3"
  },
  "language_info": {
   "codemirror_mode": {
    "name": "ipython",
    "version": 3
   },
   "file_extension": ".py",
   "mimetype": "text/x-python",
   "name": "python",
   "nbconvert_exporter": "python",
   "pygments_lexer": "ipython3",
   "version": "3.8.3"
  }
 },
 "nbformat": 4,
 "nbformat_minor": 4
}
