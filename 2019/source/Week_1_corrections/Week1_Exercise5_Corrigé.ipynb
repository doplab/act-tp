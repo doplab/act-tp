{
  "cells": [
    {
      "cell_type": "code",
      "source": [],
      "outputs": [],
      "execution_count": null,
      "metadata": {}
    },
    {
      "cell_type": "markdown",
      "source": [
        "# Exercice 5 - Van Neumann  \n",
        "\n",
        "Dans cet exercice, nous allons simuler une opération d'addition dans le `modèle de Van Neumann`, il va vous être demandé à chaque étape (`FDES`) de donner la valeur des `registres`."
      ],
      "metadata": {
        "deletable": false,
        "editable": false,
        "nbgrader": {
          "cell_type": "markdown",
          "checksum": "8b205f1133dc0a59db6f4c9a2e06c970",
          "grade": false,
          "grade_id": "cell-f5536405ff580036",
          "locked": true,
          "schema_version": 3,
          "solution": false,
          "task": false
        }
      }
    },
    {
      "cell_type": "markdown",
      "source": [
        "## Etat d'origine\n",
        "\n",
        "A l'origine, notre `Process Counter` (PC) vaut `00100000`\n",
        "\n",
        "Dans la mémoire, les instructions sont les suivantes:  \n",
        "\n",
        "| Adresse  |  Valeur  |\n",
        "|----------|:--------:|\n",
        "| 00011111 | 00100100 |\n",
        "| 00100000 | 10110110 |\n",
        "| 00100001 | 11101101 |\n",
        "\n",
        "\n",
        "Les registres sont les suivants:  \n",
        "\n",
        "| Registre |  Valeur  |\n",
        "|----------|:--------:|\n",
        "| 00       | 11100011 |\n",
        "| 01       | 01101100 |\n",
        "| 10       | 00100101 |\n",
        "| 11       | 00000000 |\n",
        "\n",
        "Les opérations disponibles pour notre `unité de contrôle` sont les suivantes: \n",
        "\n",
        "| Numéro | Valeur |\n",
        "|:------:|:------:|\n",
        "|   00   |   MOV  |\n",
        "|   01   |   XOR  |\n",
        "|   10   |   ADD  |\n",
        "|   11   |   SUB  |"
      ],
      "metadata": {
        "deletable": false,
        "editable": false,
        "nbgrader": {
          "cell_type": "markdown",
          "checksum": "0917900d6073526ebf9faf46f160798f",
          "grade": false,
          "grade_id": "cell-09f7b60adb7fd802",
          "locked": true,
          "schema_version": 3,
          "solution": false,
          "task": false
        }
      }
    },
    {
      "cell_type": "markdown",
      "source": [
        "## FETCH  \n",
        "\n",
        "Dans la case suivante, entrez la valeur du `Process Counter` et de l'`Instruction Register` à la **FIN** de l'opération `FETCH`."
      ],
      "metadata": {
        "deletable": false,
        "editable": false,
        "nbgrader": {
          "cell_type": "markdown",
          "checksum": "c1697c13157b055cfd7c9f3afdbf82e8",
          "grade": false,
          "grade_id": "cell-4346198430157cee",
          "locked": true,
          "schema_version": 3,
          "solution": false,
          "task": false
        }
      }
    },
    {
      "cell_type": "code",
      "source": [
        "from Assertion import check_5_FETCH\n",
        "\n",
        "# -----------------\n",
        "# PROCESS COUNTER:\n",
        "PROCESS_COUNTER = \"00100001\"\n",
        "# -----------------\n",
        "\n",
        "# -----------------\n",
        "# INSTRUCTION REGISTER:\n",
        "INSTRUCTION_REGISTER = \"10110110\"\n",
        "# -----------------\n",
        "\n",
        "check_5_FETCH(PROCESS_COUNTER, INSTRUCTION_REGISTER)"
      ],
      "outputs": [
        {
          "output_type": "stream",
          "name": "stdout",
          "text": [
            "PROCESS COUNTER:\n",
            "\u001b[32m\"Bonne réponse!\"\u001b[0m\n",
            "INSTRUCTION REGISTER:\n",
            "\u001b[32m\"Bonne réponse!\"\u001b[0m\n"
          ]
        }
      ],
      "execution_count": 1,
      "metadata": {}
    },
    {
      "cell_type": "markdown",
      "source": [
        "## DECODE  \n",
        "\n",
        "Dans la case suivante, entrez:\n",
        "- **La valeur** de l'opération à exécuter\n",
        "- **L'adresse** du registre dans lequel le résultat doit être enregistré\n",
        "- **La valeur** du premier nombre de l'opération\n",
        "- **La valeur** du deuxième nombre de l'opération"
      ],
      "metadata": {
        "deletable": false,
        "editable": false,
        "nbgrader": {
          "cell_type": "markdown",
          "checksum": "b0d9d40b468b0063e7df66f87ca64ff6",
          "grade": false,
          "grade_id": "cell-5027faf4fc343d19",
          "locked": true,
          "schema_version": 3,
          "solution": false,
          "task": false
        }
      }
    },
    {
      "cell_type": "code",
      "source": [
        "from Assertion import check_5_DECODE\n",
        "\n",
        "# -----------------\n",
        "# La valeur de l'opération à exécuter:\n",
        "OPERATION = \"ADD\"\n",
        "# -----------------\n",
        "\n",
        "# -----------------\n",
        "# L'adresse du registre dans lequel le résultat doit être enregistré:\n",
        "ADRESSE_RESULTAT = \"11\"\n",
        "# -----------------\n",
        "\n",
        "# -----------------\n",
        "# La valeur du premier nombre de l'opération\n",
        "PREMIER_NOMBRE = \"01101100\"\n",
        "# -----------------\n",
        "\n",
        "# -----------------\n",
        "# La valeur du deuxième nombre de l'opération\n",
        "DEUXIEME_NOMBRE = \"00100101\"\n",
        "# -----------------\n",
        "\n",
        "check_5_DECODE(OPERATION, ADRESSE_RESULTAT, PREMIER_NOMBRE, DEUXIEME_NOMBRE)"
      ],
      "outputs": [
        {
          "output_type": "stream",
          "name": "stdout",
          "text": [
            "OPERATION:\n",
            "\u001b[32m\"Bonne réponse!\"\u001b[0m\n",
            "ADRESSE DU RESULTAT:\n",
            "\u001b[32m\"Bonne réponse!\"\u001b[0m\n",
            "PREMIER NOMBRE:\n",
            "\u001b[32m\"Bonne réponse!\"\u001b[0m\n",
            "DEUXIEME NOMBRE:\n",
            "\u001b[32m\"Bonne réponse!\"\u001b[0m\n"
          ]
        }
      ],
      "execution_count": 5,
      "metadata": {}
    },
    {
      "cell_type": "markdown",
      "source": [
        "## EXECUTE\n",
        "\n",
        "Dans la case suivante, entrez le résultat de l'opération"
      ],
      "metadata": {
        "deletable": false,
        "editable": false,
        "nbgrader": {
          "cell_type": "markdown",
          "checksum": "1eda8c4cf43b8b41346ba99fca6f1db7",
          "grade": false,
          "grade_id": "cell-cf8c6bf0d1dc6c18",
          "locked": true,
          "schema_version": 3,
          "solution": false,
          "task": false
        }
      }
    },
    {
      "cell_type": "code",
      "source": [
        "from Assertion import check_5_EXECUTE\n",
        "\n",
        "# -----------------\n",
        "# La valeur de l'opération à exécuter:\n",
        "RESULTAT = \"10010001\"\n",
        "# -----------------\n",
        "\n",
        "check_5_EXECUTE(RESULTAT)"
      ],
      "outputs": [
        {
          "output_type": "stream",
          "name": "stdout",
          "text": [
            "\u001b[32m\"Bonne réponse!\"\u001b[0m\n"
          ]
        }
      ],
      "execution_count": 7,
      "metadata": {}
    },
    {
      "cell_type": "code",
      "source": [],
      "outputs": [],
      "execution_count": null,
      "metadata": {}
    }
  ],
  "metadata": {
    "kernelspec": {
      "name": "python3",
      "language": "python",
      "display_name": "Python 3"
    },
    "language_info": {
      "name": "python",
      "version": "3.7.3",
      "mimetype": "text/x-python",
      "codemirror_mode": {
        "name": "ipython",
        "version": 3
      },
      "pygments_lexer": "ipython3",
      "nbconvert_exporter": "python",
      "file_extension": ".py"
    },
    "toc": {
      "toc_position": {},
      "skip_h1_title": false,
      "number_sections": false,
      "title_cell": "Table of Contents",
      "toc_window_display": false,
      "base_numbering": 1,
      "toc_section_display": false,
      "title_sidebar": "Contents",
      "toc_cell": false,
      "nav_menu": {},
      "sideBar": false
    },
    "kernel_info": {
      "name": "python3"
    },
    "nteract": {
      "version": "0.15.0"
    }
  },
  "nbformat": 4,
  "nbformat_minor": 2
}