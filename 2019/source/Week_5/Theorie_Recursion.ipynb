{
 "cells": [
  {
   "cell_type": "markdown",
   "metadata": {},
   "source": [
    "# Recursion\n",
    "\n",
    "## Avant goût\n",
    "\n",
    "Le but principal de la récursion est de résoudre un gros problème en le divisant en plusieurs petites parties à résoudre.\n",
    "\n",
    "Pour vous donnez une idée de ce qu'est la récursion, pensez au travail du facteur. Chaque matin, il doit délivrer le courrier à plusieurs maisons. Il a certainement une liste de toutes les maisons du quartier par où il doit passer dans l'ordre. Par conséquent, il se rend devant une maison, pose le courier puis va à la prochaine maison figurant sur sa liste. Ce problème est itératif car nous pouvons l'exprimer avec la boucle for: Pour chaque maison de sa liste, le facteur déposse le courrier. "
   ]
  },
  {
   "cell_type": "code",
   "execution_count": null,
   "metadata": {
    "inputHidden": false,
    "outputHidden": false
   },
   "outputs": [],
   "source": [
    "maisons = [\"A\", \"B\", \"C\", \"D\"]\n",
    "\n",
    "def delivrer_courrier_iteratively():\n",
    "    for maison in maisons:\n",
    "        print(\"Courrier délivré à la maison \", maison)\n",
    "        \n",
    "delivrer_courrier_iteratively()"
   ]
  },
  {
   "cell_type": "markdown",
   "metadata": {},
   "source": [
    "Maintenant, imaginons que des stagiaires viennent aider le facteur à délivrer le courrier. Par conséquent, le facteur peut diviser son travail entre ses stagiaires. Pour ce faire, il attribue tout le travail de livraisons à un seul stagiaire qui doit déléguer son travail à deux autres stagiaires. Ces deux autres stagiaires ayant deux maisons à délivrer peuvent également déléguer leur travail à deux autres nouveaux stagiaires. Ces derniers, n'ayant chacun qu'une seule maison à délivrer doivent effectuer cette tâche chacun de leur côté. Ainsi, le facteur à reçu l'aide de 7 stagiaires: 3 délégateurs et 4 travailleurs. \n",
    "\n",
    "Vous pensez certainement que cette manière de réfléchir est bizarre car vous auriez directement pensez que chaque stagiaire devra délivrer le courrier à une des 4 maisons de la liste. Cependant, ne connaisant pas le nombre de stagiaire travailleurs nécessaires, il est plus simple de commencer par un délégateur et continuez à ajouter des délégateurs jusqu'à ce qu'il ne reste plus que la tâche à faire. \n",
    "\n",
    "L'algorithme récursif suivant donne le même résultat que la fonction `delivrer_courrier_iteratively` mais un poil plus vite. En effet, le courrier est livré plus vite à chaque maison. "
   ]
  },
  {
   "cell_type": "code",
   "execution_count": null,
   "metadata": {
    "inputHidden": false,
    "outputHidden": false
   },
   "outputs": [],
   "source": [
    "maisons = [\"A\", \"B\", \"C\", \"D\"]\n",
    "\n",
    "# Each function call represents an elf doing his work \n",
    "def delivrer_courrier_recursively(maisons):\n",
    "    # Stagiaire travailleur livrant\n",
    "    if len(maisons) == 1:\n",
    "        maison = maisons[0]\n",
    "        print(\"Courrier livré à la maison\", maison)\n",
    "\n",
    "    # Stagiaire délégateur divisant sa tâche en deux\n",
    "    else:\n",
    "        mid = len(maisons) // 2\n",
    "        first_half = maisons[:mid]\n",
    "        second_half = maisons[mid:]\n",
    "\n",
    "        # Stagiaire délégateur délégant ses deux parties de tâche à deux autres stagiaires\n",
    "        delivrer_courrier_recursively(first_half)\n",
    "        delivrer_courrier_recursively(second_half)\n",
    "delivrer_courrier_recursively(maisons)"
   ]
  },
  {
   "cell_type": "markdown",
   "metadata": {},
   "source": [
    "Source: https://realpython.com/python-thinking-recursively/"
   ]
  },
  {
   "cell_type": "markdown",
   "metadata": {},
   "source": [
    "## Exemple formel\n",
    "\n",
    "Une fonction récursive est une fonction qui dans sa définition se rappelle. En d'autres termes, c'est une fonction qui continue de s'appeler et d'exécuter quelque chose jusqu'à ce qu'une condition soit vraie pour retourner le résultat final. Une fonction récursive a deux parties: \"base case\" and \"recursive case\". \n",
    "\n",
    "Prenons l'exemple basique de la factorielle. En mathématique, nous pouvons calculer \"n!\" de cette manière: \n",
    "\n",
    "n! = n x (n−1) x (n−2) x (n−3) ⋅⋅⋅⋅ x 3 x 2 x 1\n",
    "\n",
    "Ce qui en soit peut s'écrire aussi: \n",
    "\n",
    "n! = n x (n−1)!\n",
    "\n",
    "Dans ce cas, 1 est notre base case car une fois que nous atteignant 1 nous savons que nous avant fini la décomposition de la factorielle. \n",
    "\n",
    "En python, nous pouvons écrire la fonction récursive qui calcule la factorielle comme ci-dessous. \n",
    "\n"
   ]
  },
  {
   "cell_type": "code",
   "execution_count": null,
   "metadata": {
    "inputHidden": false,
    "outputHidden": false
   },
   "outputs": [],
   "source": [
    "def factorial_recursive(n):\n",
    "    # Base case: 1! = 1\n",
    "    if n == 1:\n",
    "        return 1\n",
    "\n",
    "    # Recursive case: n! = n * (n-1)!\n",
    "    else:\n",
    "        return n * factorial_recursive(n-1)\n",
    "    \n",
    "factorial_recursive(5)"
   ]
  },
  {
   "cell_type": "markdown",
   "metadata": {},
   "source": [
    "Ici, la récursion s'effectue en deux temps. D'abord, nous appellons la fonction `factorial_recursive` n fois avec comme argument n-1 à chaque appel. Puis une fois que le base case est atteint, nous faisons le calcul simple final. "
   ]
  },
  {
   "cell_type": "markdown",
   "metadata": {},
   "source": [
    "Source: https://realpython.com/python-thinking-recursively/"
   ]
  },
  {
   "cell_type": "markdown",
   "metadata": {},
   "source": [
    "## Différence entre Boucle et Récursion\n",
    "\n",
    "Une boucle for sert principalement à itérer des séquences de données pour les analyser ou manipuler. Par séquence, on entend un string, une liste, un tuple, un dictionnaire ou autre. En d'autres termes, une boucle passe d'une donnée à l'autre et effectue une opération sur chaque donnée. Ainsi, la boucle for se termine à la fin de la séquence. \n",
    "\n",
    "Imaginons, une fonction qui additionne tous les chiffres plus petit que \"n\" et qui nous donne le total."
   ]
  },
  {
   "cell_type": "code",
   "execution_count": null,
   "metadata": {
    "inputHidden": false,
    "outputHidden": false
   },
   "outputs": [],
   "source": [
    "def getTotal(n):\n",
    "    total = 0\n",
    "    for number in list(range(n+1)):\n",
    "        print(number)\n",
    "        total = total + number\n",
    "    return total \n",
    "\n",
    "getTotal(5)"
   ]
  },
  {
   "cell_type": "markdown",
   "metadata": {},
   "source": [
    "Cette fonction peut être appelée autant de fois que voulu avec n'importe quel chiffre n grâce à `getTotal(n)`."
   ]
  },
  {
   "cell_type": "markdown",
   "metadata": {},
   "source": [
    "Maintenant, une fonction récursive peut faire la même chose mais de manière plus efficace pour les plus grandes données. La principale différence entre une boucle et une fonction récursive est la façon disctinte dont elles se terminent. Une boucle s'arrête généralement à la fin d'une séquence alors qu'une fonction récursive s'arrête dès que la \"base condition\" est vraie. \n",
    "\n",
    "Le but est que la fonction récursive se rappelle à chaque fois avec de nouveaux arguments ou qu'elle retourne une valeur finale. \n",
    "\n",
    "Nous pouvons réecrire la fonction itérative `getTotal()` en fonction récursive comme ci-dessous:"
   ]
  },
  {
   "cell_type": "code",
   "execution_count": null,
   "metadata": {
    "inputHidden": false,
    "outputHidden": false
   },
   "outputs": [],
   "source": [
    "\n",
    "def getTotal(n, total):\n",
    "    print(n)\n",
    "    if n == 0:  # base condition, si vrai alors retourne total, puis fini.\n",
    "        return total\n",
    "    else:\n",
    "        return getTotal(n-1, (total+(n))) # chiffre à additioner -1, n à ajouter à total\n",
    "    \n",
    "print (getTotal(5, 0))"
   ]
  },
  {
   "cell_type": "markdown",
   "metadata": {},
   "source": [
    "Source: https://hackernoon.com/recursion-vs-looping-in-python-9261442f70a5"
   ]
  },
  {
   "cell_type": "markdown",
   "metadata": {},
   "source": [
    "LA MEILLEURE MANIèRE DE COMPRENDRE LA RéCURSION EST DE FAIRE LES ALGORITHMES CI-DESSUS SUR PAPIER. \n",
    "\n",
    "Il faut comprendre quelles valeurs prennent chaque variable à chaque boucle ou récursion. "
   ]
  }
 ],
 "metadata": {
  "kernel_info": {
   "name": "python3"
  },
  "kernelspec": {
   "display_name": "Python 3",
   "language": "python",
   "name": "python3"
  },
  "language_info": {
   "codemirror_mode": {
    "name": "ipython",
    "version": 3
   },
   "file_extension": ".py",
   "mimetype": "text/x-python",
   "name": "python",
   "nbconvert_exporter": "python",
   "pygments_lexer": "ipython3",
   "version": "3.7.2"
  },
  "nteract": {
   "version": "0.15.0"
  }
 },
 "nbformat": 4,
 "nbformat_minor": 1
}
