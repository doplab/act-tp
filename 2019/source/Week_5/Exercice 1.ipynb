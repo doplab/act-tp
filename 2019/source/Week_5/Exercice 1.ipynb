{
 "cells": [
  {
   "cell_type": "markdown",
   "metadata": {
    "nbgrader": {
     "grade": false,
     "grade_id": "cell-2963dfdee671eb8c",
     "locked": true,
     "schema_version": 3,
     "solution": false,
     "task": false
    }
   },
   "source": [
    "# ACT Week 5 (Python)\n",
    "## Exercice 1"
   ]
  },
  {
   "cell_type": "markdown",
   "metadata": {
    "nbgrader": {
     "grade": false,
     "grade_id": "cell-048c9d9dbca0a40c",
     "locked": true,
     "schema_version": 3,
     "solution": false,
     "task": false
    }
   },
   "source": [
    "## Fonctions"
   ]
  },
  {
   "cell_type": "markdown",
   "metadata": {
    "nbgrader": {
     "grade": false,
     "grade_id": "cell-739fd62b24f32233",
     "locked": true,
     "schema_version": 3,
     "solution": false,
     "task": false
    }
   },
   "source": [
    "### Rôle\n",
    "\n",
    "Jusqu'à maintenant, nous avons vu les `variables`, `les structures de données` et les `boucles`. Aujourd'hui nous allons nous intéresser aux `fonctions`.  \n",
    "\n",
    "Les `fonctions` permettent d'enregistrer du code dans une variable afin de réutiliser celui-ci à plusieurs endroits, et ainsi éviter de devoir le réécrire.  \n",
    "\n",
    "Les `fonctions` en `Python` fonctionnent comme des fonctions mathématiques, c'est-à-dire qu'on les définit une fois et qu'on peut les réutiliser autant de fois que l'on veut. La différence avec les fonctions mathématiques, c'est qu'on peut se servir de nos fonctions pour d'autres choses que des calculs (en maths, on ne verra jamais la fonction `lancer_un_missile(cible)`, par exemple.)\n",
    "\n",
    "### Syntaxe  \n",
    "\n",
    "Pour définir une fonction, on utilise le mot `def` suivi du nom de notre `fonction`, puis des parenthèses `()`. Ces parenthèses peuvent contenir ou nom des noms d'`arguments`, mais nous reviendrons dessus plus tard. Pour appeler une fonction, il suffit d'écrire son `nom` suivi de parenthèses `()`.\n",
    "\n",
    "Dans l'exemple suivant, nous déclarons une fonction du nom `print_hello` qui a pour unique utilité de `print` le mot `\"Hello\"`. Puis nous appelons cette fonction\n",
    "\n",
    "    def print_hello():\n",
    "        print(\"Hello\")\n",
    "        \n",
    "    print_hello()"
   ]
  },
  {
   "cell_type": "code",
   "execution_count": 1,
   "metadata": {
    "nbgrader": {
     "grade": false,
     "grade_id": "cell-fb3a7840bcf8e9d7",
     "locked": true,
     "schema_version": 3,
     "solution": false,
     "task": false
    }
   },
   "outputs": [
    {
     "name": "stdout",
     "output_type": "stream",
     "text": [
      "Hello\n"
     ]
    }
   ],
   "source": [
    "def print_hello():\n",
    "    print(\"Hello\")\n",
    "\n",
    "print_hello()"
   ]
  },
  {
   "cell_type": "markdown",
   "metadata": {
    "nbgrader": {
     "grade": false,
     "grade_id": "cell-18e168b46d762e85",
     "locked": true,
     "schema_version": 3,
     "solution": false,
     "task": false
    }
   },
   "source": [
    "### Exercice\n",
    "\n",
    "Créez une `fonction` du nom de votre choix qui affiche votre prénom et appelez cette fonction"
   ]
  },
  {
   "cell_type": "code",
   "execution_count": 2,
   "metadata": {},
   "outputs": [],
   "source": [
    "# VOTRE CODE ICI"
   ]
  },
  {
   "cell_type": "markdown",
   "metadata": {
    "nbgrader": {
     "grade": false,
     "grade_id": "cell-f5c3ec9c016edff7",
     "locked": true,
     "schema_version": 3,
     "solution": false,
     "task": false
    }
   },
   "source": [
    "### Arguments\n",
    "\n",
    "Comme dit précédemment, une fonction peut avoir un ou plusieurs `arguments`. Comme en maths, les arguments sont des valeurs que l'on passe à notre `fonction` et c'est avec ces valeurs que la fonction va effectuer ses opérations.\n",
    "\n",
    "Par exemple en maths, lorsqu'on écrit `f(x) = x+2`, l'argument de la fonction `f` est `x`, je peux maintenant simplement écrire `f(2)`, ce qui signifie **remplacer x par 2 dans la fonction f**.\n",
    "\n",
    "En `python`, les arguments fonctionnent de la même façon. Dans l'exemple suivant, nous créons une `fonction` du nom `print_name` qui prend un `argument` que nous appelons `name`. Nous nous servons de cet argument pour faire `print(\"Mon nom est\", name)`. Nous appelons ensuite cette fonction avec un argument.  \n",
    "\n",
    "    def print_name(name):\n",
    "        print(\"Mon nom est\", name)\n",
    "        \n",
    "    print_name(\"Linus\")"
   ]
  },
  {
   "cell_type": "code",
   "execution_count": 3,
   "metadata": {
    "nbgrader": {
     "grade": false,
     "grade_id": "cell-9f3557deeeb4c142",
     "locked": true,
     "schema_version": 3,
     "solution": false,
     "task": false
    }
   },
   "outputs": [
    {
     "name": "stdout",
     "output_type": "stream",
     "text": [
      "Mon nom est Dupont\n"
     ]
    }
   ],
   "source": [
    "def print_name(name):\n",
    "    print(\"Mon nom est\", name)\n",
    "\n",
    "print_name(\"Linus\")"
   ]
  },
  {
   "cell_type": "markdown",
   "metadata": {
    "nbgrader": {
     "grade": false,
     "grade_id": "cell-3dfe52ce4c12de26",
     "locked": true,
     "schema_version": 3,
     "solution": false,
     "task": false
    }
   },
   "source": [
    "### Exercice\n",
    "\n",
    "Créez une fonction du nom de votre choix qui prend un `argument` `x` et qui `print` `x+1`"
   ]
  },
  {
   "cell_type": "code",
   "execution_count": 4,
   "metadata": {},
   "outputs": [],
   "source": [
    "# VOTRE CODE ICI"
   ]
  },
  {
   "cell_type": "markdown",
   "metadata": {
    "nbgrader": {
     "grade": false,
     "grade_id": "cell-ae6a0dae21b1fffd",
     "locked": true,
     "schema_version": 3,
     "solution": false,
     "task": false
    }
   },
   "source": [
    "### Return\n",
    "\n",
    "Il est très commun que nous voulions enregistrer le résultat d'une fonction dans une variable. Par exemple, en maths, si nous avons une fonction `f(x) = x + 15`, nous pouvons faire `y = f(10)` et nous savons donc que `y` vaut `25`. En python, si nous écrivons: \n",
    "\n",
    "    def f(x):\n",
    "        x + 15\n",
    "        \n",
    "    y = f(10)\n",
    "    print(y)\n",
    "    \n",
    "Le `print(y)` va afficher `None`, car le résultat de `f(10)` ne vaut rien.\n",
    "\n",
    "Pour résoudre ce problème, nous avons le mot-clef `return`, celui-ci permet de retourner une valeur de la fonction pour permettre d'enregistrer le résultat dans une variable. Pour reprendre l'exemple précédent: \n",
    "\n",
    "    def f(x):\n",
    "        return x + 15\n",
    "        \n",
    "    y = f(10)\n",
    "    print(y)\n",
    "    \n",
    "Cette fois ci `y` vaut bien `25`, car nous avons fait `return x + 15`"
   ]
  },
  {
   "cell_type": "code",
   "execution_count": 8,
   "metadata": {
    "nbgrader": {
     "grade": false,
     "grade_id": "cell-0175985f3de2eb19",
     "locked": true,
     "schema_version": 3,
     "solution": false,
     "task": false
    }
   },
   "outputs": [
    {
     "name": "stdout",
     "output_type": "stream",
     "text": [
      "SANS RETURN\n",
      "None\n",
      "\n",
      "--------------------\n",
      "\n",
      "AVEC RETURN\n",
      "25\n"
     ]
    }
   ],
   "source": [
    "# SANS RETURN\n",
    "print(\"SANS RETURN\")\n",
    "\n",
    "def f(x):\n",
    "    x + 15\n",
    "\n",
    "y = f(10)\n",
    "print(y)\n",
    "\n",
    "print(\"\\n--------------------\\n\")\n",
    "\n",
    "\n",
    "# AVEC RETURN\n",
    "print(\"AVEC RETURN\")\n",
    "\n",
    "def f(x):\n",
    "    return x + 15\n",
    "\n",
    "y = f(10)\n",
    "print(y)"
   ]
  },
  {
   "cell_type": "markdown",
   "metadata": {
    "nbgrader": {
     "grade": false,
     "grade_id": "cell-5dd966da4f4a92a5",
     "locked": true,
     "schema_version": 3,
     "solution": false,
     "task": false
    }
   },
   "source": [
    "### Exercice  \n",
    "\n",
    "Ecrivez une fonction de nom `f` qui prend un argument `x` et qui retourne `x * 10 + 2`, appelez cette fonction et enregistrer le résultat de celle-ci dans une variable `y`, `print` `y`."
   ]
  },
  {
   "cell_type": "code",
   "execution_count": 9,
   "metadata": {},
   "outputs": [],
   "source": [
    "# VOTRE CODE ICI"
   ]
  },
  {
   "cell_type": "markdown",
   "metadata": {
    "nbgrader": {
     "grade": false,
     "grade_id": "cell-7e36eb4398839562",
     "locked": true,
     "schema_version": 3,
     "solution": false,
     "task": false
    }
   },
   "source": [
    "### Arguments par défaut\n",
    "\n",
    "Une `fonction` peut avoir des arguments par défaut, c'est-à-dire des arguments optionnels qui prennent soit une valeur par défaut, soit une valeur donnée par l'utilisateur. Par exemple, la fonction suivante a un argument par défaut de nom `name`, qui vaut `\"Bjarne\"` par défaut.\n",
    "\n",
    "    def print_name(name = \"Bjarne\"):\n",
    "        print(\"Mon nom est\", name)\n",
    "        \n",
    "    print_name(\"Ken\")\n",
    "    print_name()\n",
    "\n",
    "La première fois, nous appelons la fonction avec `\"Ken\"` comme argument, nous affichons donc `Mon nom est Ken`, la deuxième fois nous ne donnons par d'argument, l'argument par défaut est donc utilisé et nous affichons `Mon nom est Bjarne`."
   ]
  },
  {
   "cell_type": "code",
   "execution_count": 11,
   "metadata": {
    "nbgrader": {
     "grade": false,
     "grade_id": "cell-bcd04ab476839e18",
     "locked": true,
     "schema_version": 3,
     "solution": false,
     "task": false
    }
   },
   "outputs": [
    {
     "name": "stdout",
     "output_type": "stream",
     "text": [
      "Mon nom est Ken\n",
      "Mon nom est Bjarne\n"
     ]
    }
   ],
   "source": [
    "def print_name(name = \"Bjarne\"):\n",
    "    print(\"Mon nom est\", name)\n",
    "\n",
    "print_name(\"Ken\")\n",
    "print_name()"
   ]
  },
  {
   "cell_type": "markdown",
   "metadata": {
    "nbgrader": {
     "grade": false,
     "grade_id": "cell-dc3c19d124f4983f",
     "locked": true,
     "schema_version": 3,
     "solution": false,
     "task": false
    }
   },
   "source": [
    "### Exercice  \n",
    "\n",
    "Ecrivez une fonction `f` qui prend un argument `x` avec une valeur par défaut `0` et qui retourne `x` au carré. Appelez cette fonction avec un argument puis sans."
   ]
  },
  {
   "cell_type": "code",
   "execution_count": 12,
   "metadata": {
    "nbgrader": {
     "grade": false,
     "grade_id": "cell-f0d3ecee6b06405b",
     "locked": true,
     "schema_version": 3,
     "solution": false,
     "task": false
    }
   },
   "outputs": [],
   "source": [
    "# VOTRE CODE ICI"
   ]
  },
  {
   "cell_type": "markdown",
   "metadata": {
    "nbgrader": {
     "grade": false,
     "grade_id": "cell-e5feb2a694fd99e0",
     "locked": true,
     "schema_version": 3,
     "solution": false,
     "task": false
    }
   },
   "source": [
    "### `*args`\n",
    "\n",
    "Il peut arriver que nous ne sachions pas à l'avance combien d'arguments nous allons avoir, heureusement nous avons les `*args` et `**kwargs` dont nous pouvons nous servir pour permettre à l'utilisateur d'utiliser un nombre indéterminé d'arguments.  \n",
    "\n",
    "Par exemple, nous pourrions vouloir une fonction `somme` qui prend un nombre non déterminé d'arguments et qui retourne leur somme, pour ce faire, nous utiliserions les `*args`. Les `*args` permettent de faire en sorte que tous les arguments avec lesquels la fonction est appelée soient mis dans un `tuple` de nom `args` (on aurait pu appeler `args` d'une autre manière du moment qu'il y a une `*` devant le nom).\n",
    "\n",
    "    def somme(*args):\n",
    "        print(args)\n",
    "        total = 0\n",
    "        for i in args:\n",
    "            total = total + i\n",
    "        return total\n",
    "        \n",
    "    t = somme(3, 4, 1, 10)\n",
    "    print(t)"
   ]
  },
  {
   "cell_type": "code",
   "execution_count": 13,
   "metadata": {
    "nbgrader": {
     "grade": false,
     "grade_id": "cell-59965b474b8e5d4a",
     "locked": true,
     "schema_version": 3,
     "solution": false,
     "task": false
    }
   },
   "outputs": [
    {
     "name": "stdout",
     "output_type": "stream",
     "text": [
      "(3, 4, 1, 10)\n",
      "18\n"
     ]
    }
   ],
   "source": [
    "def somme(*args):\n",
    "    print(args)\n",
    "    total = 0\n",
    "    for i in args:\n",
    "        total = total + i\n",
    "    return total\n",
    "\n",
    "t = somme(3, 4, 1, 10)\n",
    "print(t)"
   ]
  },
  {
   "cell_type": "markdown",
   "metadata": {
    "nbgrader": {
     "grade": false,
     "grade_id": "cell-b92946d6c23b98ea",
     "locked": true,
     "schema_version": 3,
     "solution": false,
     "task": false
    }
   },
   "source": [
    "### Exercice  \n",
    "\n",
    "Ecrivez une fonction de nom `max` qui peut recevoir un nombre indéterminé d'arguments, retournez l'élément le plus grand passé en argument."
   ]
  },
  {
   "cell_type": "code",
   "execution_count": 14,
   "metadata": {},
   "outputs": [],
   "source": [
    "### VOTRE CODE ICI"
   ]
  },
  {
   "cell_type": "markdown",
   "metadata": {
    "nbgrader": {
     "grade": false,
     "grade_id": "cell-d08699d3ea8ecf7a",
     "locked": true,
     "schema_version": 3,
     "solution": false,
     "task": false
    }
   },
   "source": [
    "### `**kwargs`\n",
    "\n",
    "De la même manière que les `*args` enregistrent un nombre indéterminé d'arguments dans un `tuple`, les `**kwargs` enregistrent un nombre indéterminé d'arguments dans un `dictionnaire`. L'intérêt c'est que nous pouvons nommer nos arguments dynamiquements, exemple:  \n",
    "\n",
    "    def print_names(**kwargs):\n",
    "        print(kwargs)\n",
    "        for key in kwargs:\n",
    "            print(key, \"est\", kwargs[key])\n",
    "            \n",
    "    print_names(Sandrine = \"docteur\", Marc = \"programmeur\", Josephine = \"avocate\")"
   ]
  },
  {
   "cell_type": "code",
   "execution_count": 15,
   "metadata": {
    "nbgrader": {
     "grade": false,
     "grade_id": "cell-78a611d91c4c939b",
     "locked": true,
     "schema_version": 3,
     "solution": false,
     "task": false
    }
   },
   "outputs": [
    {
     "name": "stdout",
     "output_type": "stream",
     "text": [
      "{'Sandrine': 'docteur', 'Marc': 'programmeur', 'Josephine': 'avocate'}\n",
      "Sandrine est docteur\n",
      "Marc est programmeur\n",
      "Josephine est avocate\n"
     ]
    }
   ],
   "source": [
    "def print_names(**kwargs):\n",
    "    print(kwargs)\n",
    "    for key in kwargs:\n",
    "        print(key, \"est\", kwargs[key])\n",
    "\n",
    "print_names(Sandrine = \"docteur\", Marc = \"programmeur\", Josephine = \"avocate\")"
   ]
  },
  {
   "cell_type": "markdown",
   "metadata": {
    "nbgrader": {
     "grade": false,
     "grade_id": "cell-b39bfcde0542f833",
     "locked": true,
     "schema_version": 3,
     "solution": false,
     "task": false
    }
   },
   "source": [
    "### Exercice\n",
    "\n",
    "Ecrivez une `fonction` qui reçoit des `**kwargs` de type `nom = profession`. Affichez uniquement les noms dont la profession est `\"programmeur\"`."
   ]
  },
  {
   "cell_type": "code",
   "execution_count": 16,
   "metadata": {},
   "outputs": [],
   "source": [
    "### VOTRE CODE ICI"
   ]
  }
 ],
 "metadata": {
  "celltoolbar": "Create Assignment",
  "kernelspec": {
   "display_name": "Python 3",
   "language": "python",
   "name": "python3"
  },
  "language_info": {
   "codemirror_mode": {
    "name": "ipython",
    "version": 3
   },
   "file_extension": ".py",
   "mimetype": "text/x-python",
   "name": "python",
   "nbconvert_exporter": "python",
   "pygments_lexer": "ipython3",
   "version": "3.7.2"
  },
  "pycharm": {
   "stem_cell": {
    "cell_type": "raw",
    "metadata": {
     "collapsed": false
    },
    "source": []
   }
  }
 },
 "nbformat": 4,
 "nbformat_minor": 2
}
