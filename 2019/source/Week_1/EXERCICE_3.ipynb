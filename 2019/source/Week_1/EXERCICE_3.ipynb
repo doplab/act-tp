{
 "cells": [
  {
   "cell_type": "markdown",
   "metadata": {
    "nbgrader": {
     "grade": false,
     "grade_id": "ex-3",
     "locked": true,
     "schema_version": 3,
     "solution": false,
     "task": false
    }
   },
   "source": [
    "# Exercice 3 - Conversions [3, 16] -> 10  \n",
    "\n",
    "Dans cet exercice, vous devrez convertir des nombres en base 3 à 16 vers la base 10"
   ]
  },
  {
   "cell_type": "markdown",
   "metadata": {
    "nbgrader": {
     "grade": false,
     "grade_id": "3-a",
     "locked": true,
     "schema_version": 3,
     "solution": false,
     "task": false
    }
   },
   "source": [
    "### Exercice 3 - a  \n",
    "\n",
    "Convertissez le nombre 10110 (base 2) en base 10"
   ]
  },
  {
   "cell_type": "code",
   "execution_count": null,
   "metadata": {},
   "outputs": [],
   "source": [
    "from Assertion import check_3_a\n",
    "\n",
    "# -----------------\n",
    "# VOTRE RÉPONSE ICI\n",
    "réponse = \"\"\n",
    "# -----------------\n",
    "\n",
    "check_3_a(réponse)"
   ]
  },
  {
   "cell_type": "markdown",
   "metadata": {
    "nbgrader": {
     "grade": false,
     "grade_id": "3-b",
     "locked": true,
     "schema_version": 3,
     "solution": false,
     "task": false
    }
   },
   "source": [
    "### Exercice 3 - b  \n",
    "\n",
    "Convertissez le nombre 4321 (base 5) en base 10"
   ]
  },
  {
   "cell_type": "code",
   "execution_count": null,
   "metadata": {},
   "outputs": [],
   "source": [
    "from Assertion import check_3_b\n",
    "\n",
    "# -----------------\n",
    "# VOTRE RÉPONSE ICI\n",
    "réponse = \"\"\n",
    "# -----------------\n",
    "\n",
    "check_3_b(réponse)"
   ]
  },
  {
   "cell_type": "markdown",
   "metadata": {
    "nbgrader": {
     "grade": false,
     "grade_id": "3-c",
     "locked": true,
     "schema_version": 3,
     "solution": false,
     "task": false
    }
   },
   "source": [
    "### Exercice 3 - c   \n",
    "\n",
    "Convertissez le nombre ABC (base 16) en base 10"
   ]
  },
  {
   "cell_type": "code",
   "execution_count": null,
   "metadata": {},
   "outputs": [],
   "source": [
    "from Assertion import check_3_c\n",
    "\n",
    "# -----------------\n",
    "# VOTRE RÉPONSE ICI\n",
    "réponse = \"\"\n",
    "# -----------------\n",
    "\n",
    "check_3_c(réponse)"
   ]
  }
 ],
 "metadata": {
  "celltoolbar": "Create Assignment",
  "kernelspec": {
   "display_name": "Python 3",
   "language": "python",
   "name": "python3"
  },
  "language_info": {
   "codemirror_mode": {
    "name": "ipython",
    "version": 3
   },
   "file_extension": ".py",
   "mimetype": "text/x-python",
   "name": "python",
   "nbconvert_exporter": "python",
   "pygments_lexer": "ipython3",
   "version": "3.7.3"
  }
 },
 "nbformat": 4,
 "nbformat_minor": 2
}
