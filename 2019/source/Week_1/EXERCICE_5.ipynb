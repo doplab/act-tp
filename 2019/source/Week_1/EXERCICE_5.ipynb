{
 "cells": [
  {
   "cell_type": "markdown",
   "metadata": {
    "nbgrader": {
     "grade": false,
     "grade_id": "cell-f5536405ff580036",
     "locked": true,
     "schema_version": 3,
     "solution": false,
     "task": false
    }
   },
   "source": [
    "# Exercice 5 - Von Neumann  \n",
    "\n",
    "Dans cet exercice, nous allons simuler une opération d'addition dans le `modèle de Van Neumann`, il va vous être demandé à chaque étape (`FDES`) de donner la valeur des `registres`."
   ]
  },
  {
   "cell_type": "markdown",
   "metadata": {
    "nbgrader": {
     "grade": false,
     "grade_id": "cell-09f7b60adb7fd802",
     "locked": true,
     "schema_version": 3,
     "solution": false,
     "task": false
    }
   },
   "source": [
    "## Etat d'origine\n",
    "\n",
    "A l'origine, notre `Program Counter` (PC) vaut `00100000`\n",
    "\n",
    "Dans la mémoire, les instructions sont les suivantes:  \n",
    "\n",
    "| Adresse  |  Valeur  |\n",
    "|----------|:--------:|\n",
    "| 00011111 | 00100100 |\n",
    "| 00100000 | 10110110 |\n",
    "| 00100001 | 11101101 |\n",
    "\n",
    "\n",
    "Les registres sont les suivants:  \n",
    "\n",
    "| Registre |  Valeur  |\n",
    "|----------|:--------:|\n",
    "| 00       | 11100011 |\n",
    "| 01       | 01101100 |\n",
    "| 10       | 00100101 |\n",
    "| 11       | 00000000 |\n",
    "\n",
    "Les opérations disponibles pour notre `unité de contrôle` sont les suivantes: \n",
    "\n",
    "| Numéro | Valeur |\n",
    "|:------:|:------:|\n",
    "|   00   |   MOV  |\n",
    "|   01   |   XOR  |\n",
    "|   10   |   ADD  |\n",
    "|   11   |   SUB  |"
   ]
  },
  {
   "cell_type": "markdown",
   "metadata": {
    "nbgrader": {
     "grade": false,
     "grade_id": "cell-4346198430157cee",
     "locked": true,
     "schema_version": 3,
     "solution": false,
     "task": false
    }
   },
   "source": [
    "## FETCH  \n",
    "\n",
    "Dans la case suivante, entrez la valeur du `Process Counter` et de l'`Instruction Register` à la **FIN** de l'opération `FETCH`."
   ]
  },
  {
   "cell_type": "code",
   "execution_count": null,
   "metadata": {},
   "outputs": [],
   "source": [
    "from Assertion import check_5_FETCH\n",
    "\n",
    "# -----------------\n",
    "# PROCESS COUNTER:\n",
    "PROCESS_COUNTER = \"\"\n",
    "# -----------------\n",
    "\n",
    "# -----------------\n",
    "# INSTRUCTION REGISTER:\n",
    "INSTRUCTION_REGISTER = \"\"\n",
    "# -----------------\n",
    "\n",
    "check_5_FETCH(PROCESS_COUNTER, INSTRUCTION_REGISTER)"
   ]
  },
  {
   "cell_type": "markdown",
   "metadata": {
    "nbgrader": {
     "grade": false,
     "grade_id": "cell-5027faf4fc343d19",
     "locked": true,
     "schema_version": 3,
     "solution": false,
     "task": false
    }
   },
   "source": [
    "## DECODE  \n",
    "\n",
    "Dans la case suivante, entrez:\n",
    "- **La valeur** de l'opération à exécuter\n",
    "- **L'adresse** du registre dans lequel le résultat doit être enregistré\n",
    "- **La valeur** du premier nombre de l'opération\n",
    "- **La valeur** du deuxième nombre de l'opération"
   ]
  },
  {
   "cell_type": "code",
   "execution_count": null,
   "metadata": {},
   "outputs": [],
   "source": [
    "from Assertion import check_5_DECODE\n",
    "\n",
    "# -----------------\n",
    "# La valeur de l'opération à exécuter:\n",
    "OPERATION = \"\"\n",
    "# -----------------\n",
    "\n",
    "# -----------------\n",
    "# L'adresse du registre dans lequel le résultat doit être enregistré:\n",
    "ADRESSE_RESULTAT = \"\"\n",
    "# -----------------\n",
    "\n",
    "# -----------------\n",
    "# La valeur du premier nombre de l'opération\n",
    "PREMIER_NOMBRE = \"\"\n",
    "# -----------------\n",
    "\n",
    "# -----------------\n",
    "# La valeur du deuxième nombre de l'opération\n",
    "DEUXIEME_NOMBRE = \"\"\n",
    "# -----------------\n",
    "\n",
    "check_5_DECODE(OPERATION, ADRESSE_RESULTAT, PREMIER_NOMBRE, DEUXIEME_NOMBRE)"
   ]
  },
  {
   "cell_type": "markdown",
   "metadata": {
    "nbgrader": {
     "grade": false,
     "grade_id": "cell-cf8c6bf0d1dc6c18",
     "locked": true,
     "schema_version": 3,
     "solution": false,
     "task": false
    }
   },
   "source": [
    "## EXECUTE & STORE\n",
    "\n",
    "Dans la case suivante, entrez le résultat de l'opération"
   ]
  },
  {
   "cell_type": "code",
   "execution_count": null,
   "metadata": {},
   "outputs": [],
   "source": [
    "from Assertion import check_5_EXECUTE\n",
    "\n",
    "# -----------------\n",
    "# La valeur de l'opération à exécuter:\n",
    "RESULTAT = \"\"\n",
    "# -----------------\n",
    "\n",
    "check_5_EXECUTE(RESULTAT)"
   ]
  }
 ],
 "metadata": {
  "celltoolbar": "Create Assignment",
  "kernelspec": {
   "display_name": "Python 3",
   "language": "python",
   "name": "python3"
  },
  "language_info": {
   "codemirror_mode": {
    "name": "ipython",
    "version": 3
   },
   "file_extension": ".py",
   "mimetype": "text/x-python",
   "name": "python",
   "nbconvert_exporter": "python",
   "pygments_lexer": "ipython3",
   "version": "3.7.3"
  }
 },
 "nbformat": 4,
 "nbformat_minor": 2
}
