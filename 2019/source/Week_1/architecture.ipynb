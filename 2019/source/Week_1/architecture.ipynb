{
 "cells": [
  {
   "cell_type": "markdown",
   "metadata": {
    "nbgrader": {
     "grade": false,
     "grade_id": "cell-65242b613fe5086d",
     "locked": true,
     "schema_version": 3,
     "solution": false,
     "task": false
    },
    "slideshow": {
     "slide_type": "slide"
    }
   },
   "source": [
    "# Architecture de von Neumann\n",
    "\n",
    "L'architecture de von Neumann est l'architecture sur laquelle la grande majorité des ordinateurs sont construits.\n",
    "\n",
    "## Composants  \n",
    "\n",
    "#### L'architecture de von Neumann énumère les composants suivants:  \n",
    "\n",
    "- ***La mémoire***\n",
    "- ***L'unité arithmétique et logique***\n",
    "- ***L'unité de contrôle***\n",
    "- Les dispositifs d'entrée et de sortie (input/output)\n",
    "\n",
    "<img src=\"https://github.com/sakex/act-tp/blob/master/images/architecture1.jpg?raw=true\" style=\"width:90%;margin:auto;max-width:800px;\" />\n",
    "\n",
    "#### Les componsants qui nous intéressent ici sont la mémoire, l'unité arithmétique et logique et l'unité de contrôle\n",
    "\n",
    "### Mémoire\n",
    "\n",
    "La `mémoire` contient les données ainsi que les instructions à exécuter sur ces données pendant le déroulement du programme. La `mémoire` ne fait pas les calculs, elle ne \"travaille\" pas, elle ne sert qu'à entreposer de l'information qui peut être modifiée dynamiquement.\n",
    "\n",
    "### Unité arithmétique et logique\n",
    "\n",
    "Le rôle de l'`unité arithmétique et logique` est d'effectuer les calculs, les comparaisons, et toutes autres opérations de base d'un programme.  Cette unité possède sa propre mémoire ultra-rapide appelée `registre`.\n",
    "\n",
    "### Unité de contrôle\n",
    "\n",
    "L'`unité de contrôle` \"donne des ordres\" aux autres unités et leur dit quelles instructions doivent être exécutées et dans quel ordre. Cette unité contient deux registres dont elle a besoin pour déterminer quelle action doit être exécutée:\n",
    "- Le `Program Counter` qui n'est autre que l'adresse en mémoire de l'instruction en train d'être exécutée.\n",
    "- L' `Instruction Register` qui est la *\"valeur\"* de l'action à exécuter.\n",
    "\n",
    "## Fonctionnement\n",
    "\n",
    "Tous le programmes - même les plus sophistiqués comme les serveurs de Google -  fonctionnent de la même façon. Les données sont enregistrées dans la mémoire, elles sont ensuite chargées dans l'`unité arithmétique et logique`, dans laquelle elles sont traîtées, puis elles sont remises en mémoire avec leur nouvelle valeur.\n",
    "\n",
    "#### Ce modèle de fonctionnement est divisé en quatre étapes: \n",
    "\n",
    "- Fetch\n",
    "- Decode\n",
    "- Execute\n",
    "- Store"
   ]
  },
  {
   "cell_type": "markdown",
   "metadata": {
    "nbgrader": {
     "grade": false,
     "grade_id": "cell-ec4a4196cf4a70ee",
     "locked": true,
     "schema_version": 3,
     "solution": false,
     "task": false
    },
    "slideshow": {
     "slide_type": "slide"
    }
   },
   "source": [
    "# Un programme très basique\n",
    "\n",
    "Nous allons maintenant démontrer comment une opération très simple  se déroule dans le processeur. Ici, nous allons additionner deux nombres.\n",
    "\n"
   ]
  },
  {
   "cell_type": "markdown",
   "metadata": {
    "nbgrader": {
     "grade": false,
     "grade_id": "cell-3903295e103153a3",
     "locked": true,
     "schema_version": 3,
     "solution": false,
     "task": false
    },
    "slideshow": {
     "slide_type": "slide"
    }
   },
   "source": [
    "## Fetch  \n",
    "\n",
    "La première étape de notre addition consiste à récupérer l'instruction à exécuter depuis la mémoire vers l'`unité de contrôle`.\n",
    "\n",
    "<img src=\"https://github.com/sakex/act-tp/blob/master/images/architecture4.jpg?raw=true\" style=\"width:90%;margin:auto;max-width:800px;\" />\n",
    "\n",
    "- Le `Program Counter` vaut initialement `00000010` (2) ici, il pointe donc vers l'instruction de valeur `10100001` (161).\n",
    "- On charge donc l'instruction `10100001` dans l'`Instruction Register`\n",
    "- Une fois l'instruction copiée dans l'`Instruction Register`, on incrémente (on rajoute 1) à notre `Program Counter`, ce qui signifique que la prochaine instruction sera l'instruction `00000011`\n",
    "\n",
    "<img src=\"https://github.com/sakex/act-tp/blob/master/images/architecture5.jpg?raw=true\" style=\"width:90%;margin:auto;max-width:800px;\" />"
   ]
  },
  {
   "cell_type": "markdown",
   "metadata": {
    "nbgrader": {
     "grade": false,
     "grade_id": "cell-bff5b14f3b54a3fa",
     "locked": true,
     "schema_version": 3,
     "solution": false,
     "task": false
    }
   },
   "source": [
    "## Decode  \n",
    "\n",
    "La deuxième étape consiste à décoder l'instruction. Dans l'étape précédente, nous avons chargé l'instruction `10100001` dans l'`Instruction Register`, pour pouvoir l'exécuter, il va d'abord falloir la décoder dans l'`Unité de contrôle` pour pouvoir dire quelle action exécuter à l'`unité logique`.\n",
    "\n",
    "<img src=\"https://github.com/sakex/act-tp/blob/master/images/architecture6.jpg?raw=true\" style=\"width:90%;margin:auto;max-width:800px;\" />\n",
    "\n",
    "### Division de l'instruction  \n",
    "\n",
    "***Les bits (les 0 et 1) de l'instruction sont divisés en quatre parties:***  \n",
    "`10100001` -> `10` `10` `00` `01`  \n",
    "\n",
    "#### Dans l'ordre:  \n",
    "\n",
    "- `10` correspond au ***type d'instruction***, dans notre cas `add` -> une addition. `11` pourrait par exemple être une soustraction.\n",
    "- `10` correspond au ***registre*** dans lequel le résultat de notre addition va être enregistré, le registre (2) ici.\n",
    "- `00` correspond au ***registre*** du premier nombre de l'addition (0) ici. *Notez que le registre est l'`adresse` où la variable est enregistrée mais pas sa valeur!*\n",
    "- `01` correspond au ***registre*** du deuxième nombre de l'addition (1) ici.\n",
    "\n",
    "### Comprendre l'instruction  \n",
    "\n",
    "Une fois l'instruction décodée, nous comprenons qu'il faut additionner le nombre stocké dans le registre (0) avec celui stocké dans le registre (1) et enregistrer le résultat dans le registre (2)."
   ]
  },
  {
   "cell_type": "markdown",
   "metadata": {
    "nbgrader": {
     "grade": false,
     "grade_id": "cell-886cba7ce5082699",
     "locked": true,
     "schema_version": 3,
     "solution": false,
     "task": false
    },
    "slideshow": {
     "slide_type": "slide"
    }
   },
   "source": [
    "## Execute  \n",
    "\n",
    "L'exécution consiste tout simplement à exécuter l'instruction décodée précédemment. L'`unité arithmétique et logique` additionne donc la valeur du registre (0) qui vaut `0000001` et la valeur du registre (1) qui vaut `00000001`.\n",
    "\n",
    "Le résultat de l'addition est `00000010`."
   ]
  },
  {
   "cell_type": "markdown",
   "metadata": {
    "nbgrader": {
     "grade": false,
     "grade_id": "cell-10048c8d3089e8db",
     "locked": true,
     "schema_version": 3,
     "solution": false,
     "task": false
    },
    "slideshow": {
     "slide_type": "slide"
    }
   },
   "source": [
    "## Store  \n",
    "\n",
    "Notre dernière étape consiste à prendre le résultat de notre addition (`00000010`) et à l'enregistrer dans le registre (2).\n",
    "\n",
    "<img src=\"https://github.com/sakex/act-tp/blob/master/images/architecture8.jpg?raw=true\" style=\"width:90%;margin:auto;max-width:800px;\" />"
   ]
  }
 ],
 "metadata": {
  "celltoolbar": "Slideshow",
  "kernelspec": {
   "display_name": "Python 3",
   "language": "python",
   "name": "python3"
  },
  "language_info": {
   "codemirror_mode": {
    "name": "ipython",
    "version": 3
   },
   "file_extension": ".py",
   "mimetype": "text/x-python",
   "name": "python",
   "nbconvert_exporter": "python",
   "pygments_lexer": "ipython3",
   "version": "3.7.3"
  }
 },
 "nbformat": 4,
 "nbformat_minor": 2
}
