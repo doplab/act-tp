{
 "cells": [
  {
   "cell_type": "markdown",
   "metadata": {
    "nbgrader": {
     "grade": false,
     "grade_id": "cell-ce3f6b12fba0ae97",
     "locked": true,
     "schema_version": 3,
     "solution": false,
     "task": false
    }
   },
   "source": [
    "# Expérimenter  \n",
    "\n",
    "Dans ce Notebook, vous pouvez expérimenter la conversion de nombres d'une base à l'autre ainsi que d'observer les opérations du processeur lorsqu'il exécute du code Python"
   ]
  },
  {
   "cell_type": "markdown",
   "metadata": {
    "nbgrader": {
     "grade": false,
     "grade_id": "cell-cc9c8d9344a3e67b",
     "locked": true,
     "schema_version": 3,
     "solution": false,
     "task": false
    }
   },
   "source": [
    "## Convertion de nombres  \n",
    "\n",
    "Dans la case suivante, vous avez la possibilité de convertir un nombre de n'importe quelle base dans une autre base.\n",
    "\n",
    "Pour convertir un nombre, créez un `NumberConverter`en faisant:  \n",
    "\n",
    "    number = NumberConverter(100, 10)\n",
    "\n",
    "    \n",
    "Le premier argument est le nombre à convertir (100) ici et le deuxième est la base de ce nombre (décimale ici.)\n",
    "\n",
    "Pour convertir ce nombre, utilisez la fonction `convert` qui prend la nouvelle base en argument:\n",
    "    \n",
    "    number.convert(2)\n",
    "\n",
    "*Dans la case suivante, vous avez un exemple de la conversion du nombre 100 en base 10 vers la base 2.*"
   ]
  },
  {
   "cell_type": "code",
   "execution_count": null,
   "metadata": {},
   "outputs": [],
   "source": [
    "from binary_conversion import NumberConverter\n",
    "number = NumberConverter(\"100\", 10)\n",
    "number.convert(2)"
   ]
  },
  {
   "cell_type": "markdown",
   "metadata": {
    "nbgrader": {
     "grade": false,
     "grade_id": "cell-3392b35d23ed9e7a",
     "locked": true,
     "schema_version": 3,
     "solution": false,
     "task": false
    }
   },
   "source": [
    "## Opérations du processeur  \n",
    "\n",
    "Dans la case suivante, vous avez la possibilité de découvrir quelles instructions sont vraiment appelées lorsque du python est exécuté.\n",
    "\n",
    "Pour ce faire, éditez la fonction `test` dans la case suivante."
   ]
  },
  {
   "cell_type": "code",
   "execution_count": 6,
   "metadata": {},
   "outputs": [
    {
     "name": "stdout",
     "output_type": "stream",
     "text": [
      "  4           0 LOAD_FAST                0 (a)\n",
      "              2 LOAD_FAST                1 (b)\n",
      "              4 BINARY_ADD\n",
      "              6 RETURN_VALUE\n"
     ]
    }
   ],
   "source": [
    "from dis import dis\n",
    "\n",
    "def test(a, b):\n",
    "    return a + b\n",
    "\n",
    "dis(test)"
   ]
  }
 ],
 "metadata": {
  "celltoolbar": "Create Assignment",
  "kernelspec": {
   "display_name": "Python 3",
   "language": "python",
   "name": "python3"
  },
  "language_info": {
   "codemirror_mode": {
    "name": "ipython",
    "version": 3
   },
   "file_extension": ".py",
   "mimetype": "text/x-python",
   "name": "python",
   "nbconvert_exporter": "python",
   "pygments_lexer": "ipython3",
   "version": "3.7.3"
  }
 },
 "nbformat": 4,
 "nbformat_minor": 2
}
