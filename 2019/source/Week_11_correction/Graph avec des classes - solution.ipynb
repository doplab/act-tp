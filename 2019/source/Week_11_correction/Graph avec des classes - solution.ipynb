{
 "cells": [
  {
   "cell_type": "markdown",
   "metadata": {},
   "source": [
    "# Créer des graphes avec des classes\n",
    "\n",
    "Les semaines précédentes, vous avez vu comment implémenter des graphes avec des dictionnaires et des listes. Cette fois nous allons travailler avec des classes pour représenter des graphes orientés."
   ]
  },
  {
   "cell_type": "markdown",
   "metadata": {},
   "source": [
    "## Exercice 1\n",
    "\n",
    "Pour implémenter notre graphes nous allons utiliser deux classes différentes, une pour definir les graphes et une pour definir les arêtes. Les sommets seront des chaines de caractères.\n",
    "\n",
    "\n",
    "+ La classe `Edge` pour definir les arêtes.\n",
    "Chaque instance aura comme attribut un sommet de départ `from_vertex`, un sommet d'arrivée `to_vertex` et un poids `weight`. La classe aura comme unique methode `__repr__`pour retourner l'objet sous la forme d'un dictionaire.\n",
    "+ La classe `Graph`pour definir un graphe.\n",
    "Chaque instance aura comme attribut un set `edges` contenant les arêtes (qui seront des objets) et un set `vertices` contenant les sommets. Astuce: pour initialiser un set vide utilisez `set()`\n",
    "\n",
    "\n",
    "La classe `Graph` aura comme méthodes:\n",
    "+ `add_vertex` pour créer un sommet\n",
    "+ `edge_exist` pour vérifier si une arête existe, elle retourne `weight` si oui, `False` sinon. \n",
    "+ `update_weight` pour mettre le poids à jour d'une connexion existante, et appeler la méthode `new_edge` sinon.\n",
    "+ `new_edge` pour créer une instance de `Edge`et l'ajouter au set `edges` si la connexion n'existe pas déjà, si elle existe avec un autre poids mettre à jour le poids, si elle existe de façon identique alors retournez le dans la console avec `print(...)`. Astuce: Ici il peut être judicieux de créer une méthode privée `__generate_edge` et de l'appeler puisque avant de créer une connexion il faut s'assurer que les sommets existes et les créer sinon. \n",
    "+ `del_edge` pour supprimer un `edge`\n",
    "+ `__repr__` pour retourner l'objet sous forme de dictionnaire. \n",
    "\n",
    "\n",
    "NB: Dans cette structure il est possible de definir une classe pour sommets également pour avoir plus d'information sur chaque sommet, nous verrons ça la semaine prochaine."
   ]
  },
  {
   "cell_type": "code",
   "execution_count": 1,
   "metadata": {},
   "outputs": [],
   "source": [
    "\n",
    "class Edge:\n",
    "    # votre code ici\n",
    "    def __init__(self, from_vertex, to_vertex, weight):\n",
    "        self.from_vertex = from_vertex\n",
    "        self.to_vertex = to_vertex\n",
    "        self.weight = weight\n",
    "\n",
    "    def __repr__(self):\n",
    "        return str({\"from_vertex\": self.from_vertex, \"to_vertex\": self.to_vertex, \"weight\": self.weight})\n",
    "\n",
    "    \n",
    "class Graph:\n",
    "    # votre code ici\n",
    "    def __init__(self):\n",
    "        self.edges = set()\n",
    "        self.vertices = set()\n",
    "\n",
    "    def add_vertex(self, name):\n",
    "        self.vertices.add(name)\n",
    "\n",
    "    def edge_exist(self, from_vertex, to_vertex):\n",
    "        for edge in self.edges:\n",
    "            if edge.from_vertex is from_vertex and edge.to_vertex is to_vertex:\n",
    "                return edge.weight\n",
    "        return False\n",
    "\n",
    "    def __generate_edge(self, from_vertex, to_vertex, weight):\n",
    "        if from_vertex in self.vertices and to_vertex in self.vertices:\n",
    "            new_edge = Edge(from_vertex, to_vertex, weight)\n",
    "            self.edges.add(new_edge)\n",
    "            return\n",
    "        else:\n",
    "            if to_vertex not in self.vertices:\n",
    "                self.add_vertex(to_vertex)\n",
    "            if from_vertex not in self.vertices:\n",
    "                self.add_vertex(from_vertex)\n",
    "            new_edge = Edge(from_vertex, to_vertex, weight)\n",
    "            self.edges.add(new_edge)\n",
    "\n",
    "    def update_weight(self, from_vertex, to_vertex, new_weight):\n",
    "        for edges in self.edges:\n",
    "            if edges.from_vertex is from_vertex and edges.to_vertex is to_vertex:\n",
    "                edges.weight = new_weight\n",
    "                print(\"weight has been updated\")\n",
    "                return\n",
    "        self.new_edge(from_vertex, to_vertex, new_weight)\n",
    "        print(\n",
    "            \"The vertex between {} and {} does not exist and will be created\".format(\n",
    "                from_vertex, to_vertex))\n",
    "\n",
    "    def new_edge(self, from_vertex, to_vertex, weight):\n",
    "        test_existence = self.edge_exist(from_vertex, to_vertex)\n",
    "        if test_existence:\n",
    "            if test_existence is weight:\n",
    "                print(\"Edge between {} and {} with the same weight already exist\".format(from_vertex, to_vertex))\n",
    "            else:\n",
    "                print(\"Edge between {} and {} with the same weight already exist but with a\"\n",
    "                      \"different weight and will be overwritten\".format(from_vertex, to_vertex))\n",
    "                self.update_weight(from_vertex, to_vertex, weight)\n",
    "        else:\n",
    "            self.__generate_edge(from_vertex, to_vertex, weight)\n",
    "\n",
    "    def del_edge(self, from_vertex, to_vertex):\n",
    "        for edge in self.edges:\n",
    "            if edge.from_vertex is from_vertex and edge.to_vertex is to_vertex:\n",
    "                self.edges.remove(edge)\n",
    "                print(\"Edge between {} and {} has been deleted\".format(from_vertex, to_vertex))\n",
    "                return\n",
    "\n",
    "    def __repr__(self):\n",
    "        return str({\"edges\": self.edges, \"Vertices\": self.vertices})\n"
   ]
  },
  {
   "cell_type": "code",
   "execution_count": 2,
   "metadata": {},
   "outputs": [
    {
     "name": "stdout",
     "output_type": "stream",
     "text": [
      "Edge between Lausanne and Berne with the same weight already exist but with adifferent weight and will be overwritten\n",
      "weight has been updated\n",
      "The vertex between Geneve and Berne does not exist and will be created\n",
      "{'Berne', 'Lausanne', 'Geneve'} {{'from_vertex': 'Lausanne', 'to_vertex': 'Berne', 'weight': 110}, {'from_vertex': 'Geneve', 'to_vertex': 'Lausanne', 'weight': 35}, {'from_vertex': 'Geneve', 'to_vertex': 'Berne', 'weight': 120}}\n",
      "Edge between Geneve and Berne has been deleted\n",
      "{'Berne', 'Lausanne', 'Geneve'} {{'from_vertex': 'Lausanne', 'to_vertex': 'Berne', 'weight': 110}, {'from_vertex': 'Geneve', 'to_vertex': 'Lausanne', 'weight': 35}}\n",
      "{'edges': {{'from_vertex': 'Lausanne', 'to_vertex': 'Berne', 'weight': 110}, {'from_vertex': 'Geneve', 'to_vertex': 'Lausanne', 'weight': 35}}, 'Vertices': {'Berne', 'Lausanne', 'Geneve'}}\n"
     ]
    }
   ],
   "source": [
    "graph = Graph()                                                \n",
    "graph.add_vertex(\"Lausanne\")                                   \n",
    "graph.add_vertex(\"Geneve\")                                     \n",
    "graph.new_edge(\"Geneve\", \"Lausanne\", 35)                       \n",
    "graph.new_edge(\"Lausanne\", \"Berne\", 100)                       \n",
    "graph.new_edge(\"Lausanne\", \"Berne\", 110)                       \n",
    "graph.update_weight(\"Geneve\", \"Berne\", 120)                    \n",
    "print(graph.vertices, graph.edges)                             \n",
    "graph.del_edge(\"Geneve\", \"Berne\")                              \n",
    "                                                               \n",
    "print(graph.vertices, graph.edges)                             \n",
    "print(graph)                                                   \n",
    "                                                               "
   ]
  },
  {
   "cell_type": "code",
   "execution_count": null,
   "metadata": {},
   "outputs": [],
   "source": []
  }
 ],
 "metadata": {
  "kernelspec": {
   "display_name": "Python 3",
   "language": "python",
   "name": "python3"
  },
  "language_info": {
   "codemirror_mode": {
    "name": "ipython",
    "version": 3
   },
   "file_extension": ".py",
   "mimetype": "text/x-python",
   "name": "python",
   "nbconvert_exporter": "python",
   "pygments_lexer": "ipython3",
   "version": "3.7.3"
  }
 },
 "nbformat": 4,
 "nbformat_minor": 2
}
