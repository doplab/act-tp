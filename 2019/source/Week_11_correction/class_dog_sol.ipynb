{
  "cells": [
    {
      "cell_type": "markdown",
      "source": [
        "# Exercise 1\n",
        "\n",
        "#### Partie A \n",
        "\n",
        "Définissez une nouvelle classe en utilisant les informations données ci-dessous. \n",
        "\n",
        "Classe: \n",
        "- Dog\n",
        "\n",
        "Attributs: \n",
        "- name   \n",
        "- tricks\n",
        "\n",
        "Méthodes: \n",
        "- add_trick \n",
        "- bark\n",
        "\n",
        "Instances: \n",
        "- Lola\n",
        "- Boby\n",
        "\n",
        "States: \n",
        "- (name: Lola, tricks: 'rollover', 'playdead')\n",
        "- (name: Boby, tricks: [])\n"
      ],
      "metadata": {}
    },
    {
      "cell_type": "code",
      "source": [
        "# Partie A\n",
        "# Votre code ici de a à z\n",
        "class Dog: \n",
        "    \"\"\"\n",
        "    This is a dog class \n",
        "    \"\"\"\n",
        "    def __init__(self, name): # constructeur\n",
        "        self.name = name\n",
        "        self.tricks = [] # création nouvelle liste vide pour chaque chien\n",
        "    \n",
        "    def add_trick(self, trick): # méthode\n",
        "        self.tricks.append(trick)\n",
        "        \n",
        "    def bark(self, intensity=3): # méthode avec valeur par défaut du paramètre\n",
        "        if intensity==1:\n",
        "            print('whouaf') \n",
        "        elif intensity==2:\n",
        "            print('Whouaf!') \n",
        "        else:\n",
        "            print('WHOUAF!')\n",
        "\n",
        "# Création nouveaux objets\n",
        "lola = Dog('Lola') \n",
        "boby = Dog('Boby') \n",
        "\n",
        "# Utilisation méthodes de la classe\n",
        "lola.add_trick('roll over') \n",
        "lola.add_trick('play dead') \n",
        "\n",
        "boby.bark(2)"
      ],
      "outputs": [
        {
          "output_type": "stream",
          "name": "stdout",
          "text": [
            "Whouaf!\n"
          ]
        }
      ],
      "execution_count": 34,
      "metadata": {
        "collapsed": false,
        "outputHidden": false,
        "inputHidden": false
      }
    },
    {
      "cell_type": "markdown",
      "source": [
        "#### Partie B\n",
        "\n",
        "Modifiez votre code afin que la `race` et l' `age` du chien deviennent des attributs fixés lors de l'instanciation de la classe. Ajoutez également un attribut `mood` qui lors de l'instanciation du chien a une valeur de 5. Ainsi, vous devriez avoir les modifications ci-dessous.\n",
        "\n",
        "Attributs: \n",
        "- name (string)  \n",
        "- race (string)\n",
        "- age (integer)\n",
        "- mood (integer)\n",
        "- tricks (list)\n"
      ],
      "metadata": {}
    },
    {
      "cell_type": "code",
      "source": [
        "# Partie B\n",
        "# Pensez à faire un copier-coller de votre partie précédente\n",
        "# Votre code ici\n",
        "class Dog: \n",
        "    \"\"\"\n",
        "    This is a dog class \n",
        "    \"\"\"\n",
        "    def __init__(self, name, race, age): # constructeur\n",
        "        self.name = name\n",
        "        self.race = race\n",
        "        self.age = age\n",
        "        self.mood = 5\n",
        "        self.tricks = [] # création nouvelle liste vide pour chaque chien\n",
        "    \n",
        "    def add_trick(self, trick): # méthode\n",
        "        self.tricks.append(trick)\n",
        "        \n",
        "    def bark(self, intensity=3): # méthode avec valeur par défaut du paramètre\n",
        "        if intensity==1:\n",
        "            print('whouaf') \n",
        "        elif intensity==2:\n",
        "            print('Whouaf!') \n",
        "        else:\n",
        "            print('WHOUAF!')"
      ],
      "outputs": [],
      "execution_count": 35,
      "metadata": {
        "collapsed": false,
        "outputHidden": false,
        "inputHidden": false
      }
    },
    {
      "cell_type": "markdown",
      "source": [
        "#### Partie C\n",
        "\n",
        "Créez une méthode `eat` qui incrémente l'humeur de 3 et une méthode `leash` qui diminue l'humeur de 1. L'humeur du chien doit être un entier entre 0 (grincheux) et 10 (heureux).\n",
        "\n",
        "Définissez également une méthode d'instance `description` qui renvoie le nom et l'âge du chien.\n",
        "\n",
        "Ex: Lola is 3 yo. "
      ],
      "metadata": {}
    },
    {
      "cell_type": "code",
      "source": [
        "# Partie C\n",
        "# Pensez à faire un copier-coller de votre partie précédente\n",
        "# Votre code ici\n",
        "class Dog: \n",
        "    \"\"\"\n",
        "    This is a dog class \n",
        "    \"\"\"\n",
        "    def __init__(self, name, race, age): # constructeur\n",
        "        self.name = name\n",
        "        self.race = race\n",
        "        self.age = age\n",
        "        self.mood = 5\n",
        "        self.tricks = [] # création nouvelle liste vide pour chaque chien\n",
        "    \n",
        "    def add_trick(self, trick): # méthode\n",
        "        self.tricks.append(trick)\n",
        "        \n",
        "    def bark(self, intensity=3): # méthode avec valeur par défaut du paramètre\n",
        "        if intensity==1:\n",
        "            print('whouaf') \n",
        "        elif intensity==2:\n",
        "            print('Whouaf!') \n",
        "        else:\n",
        "            print('WHOUAF!')\n",
        "            \n",
        "    def eat(self):\n",
        "        self.mood += 3 \n",
        "        self.mood = min(self.mood, 10) # mood not more than 10\n",
        "        \n",
        "    def leash (self):\n",
        "        self.mood -= 1\n",
        "        self.mood = max(self.mood, 0) # mood not less than 0\n",
        "        \n",
        "    def description(self):\n",
        "        return \"{0} is {1} yo.\".format(self.name,self.age)"
      ],
      "outputs": [],
      "execution_count": 36,
      "metadata": {
        "collapsed": false,
        "outputHidden": false,
        "inputHidden": false
      }
    },
    {
      "cell_type": "markdown",
      "source": [
        "#### Partie D\n",
        "\n",
        "Créez un nouvel objet de la classe `Dog` appelé Tobi et stocké dans une variable `tobi` en définissant les valeurs des attributs `race` et `age`. Puis, utilisez la fonction `leash` et vérifiez sa `mood`. "
      ],
      "metadata": {}
    },
    {
      "cell_type": "code",
      "source": [
        "\n",
        "# Votre code ici\n",
        "tobi = Dog(\"Tobi\", \"Australian shepherd\", 5)\n",
        "tobi.leash()\n",
        "tobi.mood"
      ],
      "outputs": [
        {
          "output_type": "execute_result",
          "execution_count": 37,
          "data": {
            "text/plain": [
              "4"
            ]
          },
          "metadata": {}
        }
      ],
      "execution_count": 37,
      "metadata": {
        "collapsed": false,
        "outputHidden": false,
        "inputHidden": false
      }
    },
    {
      "cell_type": "markdown",
      "source": [
        "Faites aboyer `tobi` avec `bark`."
      ],
      "metadata": {}
    },
    {
      "cell_type": "code",
      "source": [
        "\n",
        "# Votre code ici\n",
        "tobi.bark(3)"
      ],
      "outputs": [
        {
          "output_type": "stream",
          "name": "stdout",
          "text": [
            "WHOUAF!\n"
          ]
        }
      ],
      "execution_count": 38,
      "metadata": {
        "collapsed": false,
        "outputHidden": false,
        "inputHidden": false
      }
    },
    {
      "cell_type": "markdown",
      "source": [
        "Utilisez la méthode `description` pour `tobi`. "
      ],
      "metadata": {}
    },
    {
      "cell_type": "code",
      "source": [
        "# Votre code ici\n",
        "tobi.description()"
      ],
      "outputs": [
        {
          "output_type": "execute_result",
          "execution_count": 39,
          "data": {
            "text/plain": [
              "'Tobi is 5 yo.'"
            ]
          },
          "metadata": {}
        }
      ],
      "execution_count": 39,
      "metadata": {
        "collapsed": false,
        "outputHidden": false,
        "inputHidden": false
      }
    },
    {
      "cell_type": "markdown",
      "source": [
        "Utilisez `.__dict__` pour voir tous les détails de `tobi`, `lola`, `boby`. "
      ],
      "metadata": {}
    },
    {
      "cell_type": "code",
      "source": [
        "\n",
        "# Votre code ici\n",
        "print(tobi.__dict__, lola.__dict__, boby.__dict__)"
      ],
      "outputs": [
        {
          "output_type": "stream",
          "name": "stdout",
          "text": [
            "{'name': 'Tobi', 'race': 'Australian shepherd', 'age': 5, 'mood': 4, 'tricks': []} {'name': 'Lola', 'tricks': ['roll over', 'play dead']} {'name': 'Boby', 'tricks': []}\n"
          ]
        }
      ],
      "execution_count": 40,
      "metadata": {
        "collapsed": false,
        "outputHidden": false,
        "inputHidden": false
      }
    },
    {
      "cell_type": "markdown",
      "source": [
        "Veuillez noter que ci-dessus les attributs `race` et `age` ne sont pas présents pour `lola` et `boby`."
      ],
      "metadata": {}
    },
    {
      "cell_type": "markdown",
      "source": [
        "#### Partie E\n",
        "\n",
        "En utilisant la classe `Dog`, instanciez trois nouveaux chiens, chacun avec un âge différent.\n"
      ],
      "metadata": {}
    },
    {
      "cell_type": "code",
      "source": [
        "# Votre code ici\n",
        "bloom = Dog(\"Bloom\",\"Bulldog\", 8)\n",
        "jazz = Dog(\"Jazz\", \"Cocker\", 3)\n",
        "luigi = Dog(\"Luigi\",\"Chow Chow\", 1)"
      ],
      "outputs": [],
      "execution_count": 41,
      "metadata": {
        "collapsed": false,
        "outputHidden": false,
        "inputHidden": false
      }
    },
    {
      "cell_type": "markdown",
      "source": [
        "Ecrivez une fonction appelée `get_oldest_age()`, qui renvoie le plus grand âge en prennant un nombre quelconque d’âges (*args)."
      ],
      "metadata": {}
    },
    {
      "cell_type": "code",
      "source": [
        "# Votre code ici\n",
        "def get_oldest_age(*args):\n",
        "    return max(args)"
      ],
      "outputs": [],
      "execution_count": 44,
      "metadata": {
        "collapsed": false,
        "outputHidden": false,
        "inputHidden": false
      }
    },
    {
      "cell_type": "markdown",
      "source": [
        "Utilisez vos trois instances de chiens précédemment créées pour indiquer l’âge du chien le plus âgé comme suit: The oldest dog is 8 yo."
      ],
      "metadata": {}
    },
    {
      "cell_type": "code",
      "source": [
        "# Votre code ici\n",
        "print(\"The oldest dog is {} yo.\".format(get_oldest_age(bloom.age, jazz.age, luigi.age)))"
      ],
      "outputs": [
        {
          "output_type": "stream",
          "name": "stdout",
          "text": [
            "The oldest dog is 8 yo.\n"
          ]
        }
      ],
      "execution_count": 45,
      "metadata": {
        "collapsed": false,
        "outputHidden": false,
        "inputHidden": false
      }
    }
  ],
  "metadata": {
    "kernel_info": {
      "name": "python3"
    },
    "language_info": {
      "name": "python",
      "version": "3.7.3",
      "mimetype": "text/x-python",
      "codemirror_mode": {
        "name": "ipython",
        "version": 3
      },
      "pygments_lexer": "ipython3",
      "nbconvert_exporter": "python",
      "file_extension": ".py"
    },
    "kernelspec": {
      "name": "python3",
      "language": "python",
      "display_name": "Python 3"
    },
    "nteract": {
      "version": "0.15.0"
    }
  },
  "nbformat": 4,
  "nbformat_minor": 0
}