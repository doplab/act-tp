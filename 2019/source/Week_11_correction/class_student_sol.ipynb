{
  "cells": [
    {
      "cell_type": "markdown",
      "source": [
        "# Exercise 2\n",
        "\n",
        "Définissez une classe `Student` qui gère les informations suivantes pour un étudiant: `name`, `year` et `grades`.\n",
        "\n",
        "- Définissez un constructeur qui initialise un nouveau `Student` avec `name` et `year`.\n",
        "\n",
        "- Écrivez deux méthodes disctinctes (`get_name`, `get_year`) pour obtenir le `name` et la `year`  d'un `Student`.\n",
        "\n",
        "- Écrivez une méthode `add_grade` pour ajouter une nouvelle note.\n",
        "\n",
        "- Implémentez une méthode `final_grade` qui retourne la note moyenne.\n",
        "\n",
        "- Ajoutez une méthode `evaluate_year` qui fait passer l'étudiant (c’est-à-dire que l'étudiant passe à l’année suivante et commence avec de nouvelles notes) si la note moyenne est supérieure à 4.\n",
        "\n",
        "- Ajoutez une méthode `__str__`qui retourne une chaîne de caractères contenant le `name`, la `year` et la `final_grade` si possible. \n",
        "\n"
      ],
      "metadata": {}
    },
    {
      "cell_type": "code",
      "source": [
        "# Votre code ici\n",
        "class Student: \n",
        "    def __init__(self, name:str, year:int): #constructeur\n",
        "        self.name = name\n",
        "        self.year = year\n",
        "        self.grades = [] \n",
        "        \n",
        "    def get_name(self):\n",
        "        return self.name\n",
        "    \n",
        "    def get_year(self):\n",
        "        return self.year\n",
        "    \n",
        "    def add_grade(self, grade:int):\n",
        "        self.grades.append(grade)\n",
        "        \n",
        "    def final_grade(self):\n",
        "        if len (self.grades)>0:\n",
        "            return sum(self.grades)/len(self.grades)\n",
        "        else:\n",
        "            return 0\n",
        "        \n",
        "    def evaluate_year(self):\n",
        "        if self.final_grade() >= 4:\n",
        "            self.year += 1\n",
        "            self.grades = []\n",
        "            \n",
        "    def __str__(self):\n",
        "        return self.name + \" is in year \" + str(self.year) + (\"  with average grade \" + str(self.final_grade()) if len(self.grades) > 0 else \" \")\n",
        "            "
      ],
      "outputs": [],
      "execution_count": 15,
      "metadata": {
        "collapsed": false,
        "outputHidden": false,
        "inputHidden": false
      }
    },
    {
      "cell_type": "markdown",
      "source": [
        "Tester votre code en faisant les étapes suivantes: \n",
        "\n",
        "- Créez 3 nouvelles instances de la classe `Student`. \n",
        "\n",
        "- Utilisez `add_grade` sur chacune d'entre elles au moins 2 fois.\n",
        "\n",
        "- Utilisez `evaluate_year` sur chacune d'entre elles.\n",
        "\n",
        "- Utilisez `__str__` sur chacune d'entre elles.\n",
        "\n",
        "- Utilisez `__dict__` sur chacune d'entre elles."
      ],
      "metadata": {}
    },
    {
      "cell_type": "code",
      "source": [
        "# Instanciation\n",
        "# Votre code ici\n",
        "Tanguy = Student(\"Tanguy\", 1)\n",
        "Tarik = Student(\"Tarik\", 1)\n",
        "Xavier = Student(\"Xavier\", 1)"
      ],
      "outputs": [],
      "execution_count": 16,
      "metadata": {
        "collapsed": false,
        "outputHidden": false,
        "inputHidden": false
      }
    },
    {
      "cell_type": "code",
      "source": [
        "# add_grade\n",
        "# Votre code ici\n",
        "Tanguy.add_grade(4)\n",
        "Tarik.add_grade(4)\n",
        "Xavier.add_grade(4)\n",
        "\n",
        "Tanguy.add_grade(6)\n",
        "Tarik.add_grade(5)\n",
        "Xavier.add_grade(4)"
      ],
      "outputs": [],
      "execution_count": 17,
      "metadata": {
        "collapsed": false,
        "outputHidden": false,
        "inputHidden": false
      }
    },
    {
      "cell_type": "code",
      "source": [
        "# evaluate_year\n",
        "# Votre code ici\n",
        "Tanguy.evaluate_year()\n",
        "Tarik.evaluate_year()\n",
        "Xavier.evaluate_year()"
      ],
      "outputs": [],
      "execution_count": 18,
      "metadata": {
        "collapsed": false,
        "outputHidden": false,
        "inputHidden": false
      }
    },
    {
      "cell_type": "code",
      "source": [
        "# __str__\n",
        "# Votre code ici\n",
        "print(Tanguy.__str__(), Tarik.__str__(), Xavier.__str__())"
      ],
      "outputs": [
        {
          "output_type": "stream",
          "name": "stdout",
          "text": [
            "Tanguy is in year 2  Tarik is in year 2  Xavier is in year 2 \n"
          ]
        }
      ],
      "execution_count": 19,
      "metadata": {
        "collapsed": false,
        "outputHidden": false,
        "inputHidden": false
      }
    },
    {
      "cell_type": "code",
      "source": [
        "# __dict__\n",
        "# Votre code ici\n",
        "print(Tanguy.__dict__, Tarik.__dict__, Xavier.__dict__)\n",
        "\n"
      ],
      "outputs": [
        {
          "output_type": "stream",
          "name": "stdout",
          "text": [
            "{'name': 'Tanguy', 'year': 2, 'grades': []} {'name': 'Tarik', 'year': 2, 'grades': []} {'name': 'Xavier', 'year': 2, 'grades': []}\n"
          ]
        }
      ],
      "execution_count": 23,
      "metadata": {
        "collapsed": false,
        "outputHidden": false,
        "inputHidden": false
      }
    }
  ],
  "metadata": {
    "kernel_info": {
      "name": "python3"
    },
    "language_info": {
      "name": "python",
      "version": "3.7.3",
      "mimetype": "text/x-python",
      "codemirror_mode": {
        "name": "ipython",
        "version": 3
      },
      "pygments_lexer": "ipython3",
      "nbconvert_exporter": "python",
      "file_extension": ".py"
    },
    "kernelspec": {
      "name": "python3",
      "language": "python",
      "display_name": "Python 3"
    },
    "nteract": {
      "version": "0.15.0"
    }
  },
  "nbformat": 4,
  "nbformat_minor": 0
}