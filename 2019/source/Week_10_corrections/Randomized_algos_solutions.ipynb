{
  "cells": [
    {
      "cell_type": "markdown",
      "source": [
        "## Randomized algorithms\n",
        "Un algorithme randomisé prend par exemple des valeurs aléatoires comme inputs dans le but d'améliorer sa performance.\n",
        "\n",
        "Il existe deux principaux types d'algorithmes randomisés: Las Vegas & Monte Carlo.\n",
        "\n",
        "### Las Vegas Algorithm\n",
        "Il s'agit d'un algorithme utilisant une valeur aléatoire comme input pour toujours trouver une réponse **correcte**. Le temps d'exécution est cependant **très variable car non-déterministique**. Le nombre d'itérations varie.\n",
        "\n",
        "### Monte Carlo Algorithm\n",
        "Il s'agit d'un algorithme ayant une chance de produire une réponse **incorrecte**. Le temps d'exécution est cependant **fixe**. \n"
      ],
      "metadata": {}
    },
    {
      "cell_type": "markdown",
      "source": [
        "#### Exercise\n",
        "\n",
        "Etant donné une liste `L` de n éléments contenant la valeur `z`, trouvez l'index de `z`. Utilisez l'algorithme Las Vegas. \n",
        "\n",
        "Autrement dit, à la place de faire une recherche linéaire ou binaire, faites en sorte que l'algorithme cherche `z` de façon aléatoire. \n",
        "\n",
        "Le résultat doit retourner dans un tuple l'index de `z` et le nombre d'itérations effectuées.\n",
        "Example: (5,4)"
      ],
      "metadata": {}
    },
    {
      "cell_type": "code",
      "source": [
        "from random import randrange\n",
        "def lasvegas_search(L,n):\n",
        "    # votre code ici\n",
        "    i= 0\n",
        "    while True:\n",
        "        i += 1\n",
        "        index = randrange(n)\n",
        "        if L[index] == \"z\":\n",
        "            return index,i\n",
        "            break\n",
        "   \n",
        "\n",
        "L = [\"a\", \"g\", \"t\", \"r\", \"o\", \"z\", \"u\", \"p\"]\n",
        "n = len (L)\n",
        "lasvegas_search(L,n)"
      ],
      "outputs": [
        {
          "output_type": "execute_result",
          "execution_count": 32,
          "data": {
            "text/plain": [
              "(5, 4)"
            ]
          },
          "metadata": {}
        }
      ],
      "execution_count": 32,
      "metadata": {
        "collapsed": false,
        "outputHidden": false,
        "inputHidden": false
      }
    },
    {
      "cell_type": "markdown",
      "source": [
        "#### Exercise\n",
        "\n",
        "Etant donné une liste `L` de n éléments contenant la valeur `z`, trouvez l'index de `z`. Utilisez l'algorithme Monte Carlo. \n",
        "\n",
        "Le résultat doit retourner dans un tuple la valeur de `tag`, l'index de `z` et le nombre d'itérations effectuées.\n",
        "Example: (True, 2, 6)"
      ],
      "metadata": {}
    },
    {
      "cell_type": "code",
      "source": [
        "from random import randrange\n",
        "def montecarlo_search(L,n,x):\n",
        "    i = 0\n",
        "    tag = False\n",
        "    # votre code ici\n",
        "    while i <= x: \n",
        "        index = randrange(n)\n",
        "        i += 1\n",
        "        if L[index] == \"z\":\n",
        "            elem = index\n",
        "            tag = True\n",
        "    return tag, index, i\n",
        "\n",
        "L = [\"a\", \"g\", \"t\", \"r\", \"o\", \"z\", \"u\", \"p\"]\n",
        "n = len (L)\n",
        "x = 5 #number of maximum iterations\n",
        "montecarlo_search(L,n,x)\n",
        "      "
      ],
      "outputs": [
        {
          "output_type": "execute_result",
          "execution_count": 58,
          "data": {
            "text/plain": [
              "(True, 2, 6)"
            ]
          },
          "metadata": {}
        }
      ],
      "execution_count": 58,
      "metadata": {
        "collapsed": false,
        "outputHidden": false,
        "inputHidden": false
      }
    },
    {
      "cell_type": "markdown",
      "source": [
        "Source: https://www.youtube.com/watch?v=Nn_Eq7--Rk4"
      ],
      "metadata": {}
    }
  ],
  "metadata": {
    "kernel_info": {
      "name": "python3"
    },
    "language_info": {
      "name": "python",
      "version": "3.7.3",
      "mimetype": "text/x-python",
      "codemirror_mode": {
        "name": "ipython",
        "version": 3
      },
      "pygments_lexer": "ipython3",
      "nbconvert_exporter": "python",
      "file_extension": ".py"
    },
    "kernelspec": {
      "name": "python3",
      "language": "python",
      "display_name": "Python 3"
    },
    "nteract": {
      "version": "0.15.0"
    }
  },
  "nbformat": 4,
  "nbformat_minor": 0
}