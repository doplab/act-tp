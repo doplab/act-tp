{
 "cells": [
  {
   "cell_type": "markdown",
   "metadata": {
    "nbgrader": {
     "grade": false,
     "grade_id": "cell-0fcf6d61d3ce237e",
     "locked": true,
     "schema_version": 3,
     "solution": false,
     "task": false
    }
   },
   "source": [
    "# Pierre - Feuille - Ciseaux | Chifoumi\n",
    "\n",
    "Dans ce notebook, on vous demande de créer un jeu de Pierre - Feuille - Ciseaux ou Chifoumi où l’utilisateur pourra jouer face à l’ordinateur. \n",
    "\n",
    "Les règles :\n",
    "* Pierre vs papier -> papier gagne\n",
    "* Pierre vs ciseaux -> pierre gagne \n",
    "* Papier vs ciseaux -> ciseaux gagne\n",
    "\n",
    "\n",
    "Dans une boucle, générez aléatoirement une action pour l’ordinateur, demandez à l’utilisateur son choix et comparez pour déterminer le vainqueur. Entre chaque manche, affichez le gagnant et le score.\n"
   ]
  },
  {
   "cell_type": "code",
   "execution_count": 4,
   "metadata": {},
   "outputs": [
    {
     "name": "stdout",
     "output_type": "stream",
     "text": [
      "YOU: 0 : COMPUTER: 0\n",
      "Rock, Paper, Scissors? Enter Exit to end the game\n",
      "Paper\n",
      "\n",
      "COMPUTER PLAYS: Rock \n",
      "\n",
      "YOU WIN\n",
      "\n",
      "YOU: 1 : COMPUTER: 0\n",
      "Rock, Paper, Scissors? Enter Exit to end the game\n",
      "Rock\n",
      "\n",
      "COMPUTER PLAYS: Rock \n",
      "\n",
      "EQUALITY\n",
      "\n",
      "YOU: 1 : COMPUTER: 0\n",
      "Rock, Paper, Scissors? Enter Exit to end the game\n",
      "Exit\n"
     ]
    }
   ],
   "source": [
    "from random import choice\n",
    "\n",
    "#create a list of play options\n",
    "#init scoreboard\n",
    "computer_score = 0\n",
    "player_score = 0\n",
    "\n",
    "move_table = {\n",
    "    \"Rock\": (\"Paper\", \"Scissors\"),\n",
    "    \"Paper\": (\"Scissors\", \"Rock\"),\n",
    "    \"Scissors\": (\"Rock\", \"Paper\")\n",
    "}\n",
    "\n",
    "options = tuple(move_table.keys())\n",
    "\n",
    "while True:\n",
    "    print(\"YOU:\", player_score, \": COMPUTER:\", computer_score)\n",
    "    player = input(\"Rock, Paper, Scissors? Enter Exit to end the game\\n\")\n",
    "    if player == \"Exit\":\n",
    "        break\n",
    "    if player not in move_table: # O(1) vs `in options` O(n)\n",
    "        print(\"INVALID PLAY\")\n",
    "        continue\n",
    "    #assign a random play to the computer\n",
    "    computer = choice(options)\n",
    "    print(\"\\nCOMPUTER PLAYS:\", computer, \"\\n\")\n",
    "    if move_table[player][0] == computer:\n",
    "        print(\"COMPUTER WINS\\n\")\n",
    "        computer_score += 1\n",
    "    elif move_table[player][1] == computer:\n",
    "        print(\"YOU WIN\\n\")\n",
    "        player_score += 1\n",
    "    else:\n",
    "        print(\"EQUALITY\\n\")"
   ]
  },
  {
   "cell_type": "code",
   "execution_count": null,
   "metadata": {},
   "outputs": [],
   "source": []
  }
 ],
 "metadata": {
  "celltoolbar": "Create Assignment",
  "kernelspec": {
   "display_name": "Python 3",
   "language": "python",
   "name": "python3"
  },
  "language_info": {
   "codemirror_mode": {
    "name": "ipython",
    "version": 3
   },
   "file_extension": ".py",
   "mimetype": "text/x-python",
   "name": "python",
   "nbconvert_exporter": "python",
   "pygments_lexer": "ipython3",
   "version": "3.7.3"
  }
 },
 "nbformat": 4,
 "nbformat_minor": 2
}
