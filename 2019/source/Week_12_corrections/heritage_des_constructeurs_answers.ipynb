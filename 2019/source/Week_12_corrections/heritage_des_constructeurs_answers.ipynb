{
 "cells": [
  {
   "cell_type": "markdown",
   "metadata": {
    "colab_type": "text",
    "id": "o0KUIET3QpPu"
   },
   "source": [
    "## L'héritage des constructeurs\n",
    "\n",
    "Nous créons une instance d'une classe en appelant son constructeur.    \n",
    "AClass a = new **AClass()**;\n",
    "\n",
    "\n",
    "Si la classe a une classe parente, le constructeur de la classe appelle toujours le constructeur de la classe parente. Aussi, nous pouvons appeler le constructeur de la classe parente en utilisant __super()__.    \n",
    "(**this()** est utilisé pour appeler la classe elle-même)"
   ]
  },
  {
   "cell_type": "markdown",
   "metadata": {
    "colab_type": "text",
    "id": "PMvkK9PiQpP0"
   },
   "source": [
    "### L'implementation d'Animal et de Pet\n",
    "\n",
    "Nous avons implémenté la classe \"Animal\" et \"Pet\" pour vous. \n",
    "\n",
    "Voici une représentation en arbre des relations d'héritage.\n",
    "\n",
    "````\n",
    "             Animal\n",
    "               |\n",
    "    --------- Pet ---------\n",
    "    |        /   \\        |\n",
    "   Bird    Cat   Dog    Hamster\n",
    "````\n",
    "\n",
    "La classe \"Animal\" domine les autres.    \n",
    "\n",
    "Examinez son implémentation."
   ]
  },
  {
   "cell_type": "code",
   "execution_count": 0,
   "metadata": {
    "colab": {},
    "colab_type": "code",
    "id": "Dg4sSUBlQpP2",
    "outputId": "95f0f818-703a-47c9-9f5c-84eab90a2f96"
   },
   "outputs": [
    {
     "data": {
      "text/plain": [
       "com.twosigma.beaker.javash.bkrb994444b.Animal"
      ]
     },
     "execution_count": 88,
     "metadata": {
      "tags": []
     },
     "output_type": "execute_result"
    }
   ],
   "source": [
    "// la classe s'appelle \"Animal\" et elle est publique\n",
    "public class Animal {\n",
    "    \n",
    "    // les variables d'instance ; toutes deux sont privées et sont \n",
    "    // de type int, elles s'appellent respectivement weight et height \n",
    "    private int weight;\n",
    "    private int height;\n",
    "    \n",
    "    // le constructeur ; il est public et prend deux paramètres qui \n",
    "    // sont tous deux de type int, le constructeur définit les variables \n",
    "    // d'instance et écrit un message à l'utilisateur.\n",
    "    public Animal(int weight, int height) {\n",
    "        this.weight = weight;\n",
    "        this.height = height;\n",
    "        System.out.println(\"We're in : public Animal(int weight, int height)\");\n",
    "    }\n",
    "    \n",
    "    // un accesseur ; il s'appelle getWeight, ne prend aucun paramètre et \n",
    "    // retourne la valeur du poids\n",
    "    public int getWeight() {\n",
    "        return this.weight;\n",
    "    }\n",
    "    \n",
    "    // un accesseur ; il s'appelle getHeight, ne prend aucun paramètre et \n",
    "    // retourne la valeur du poids\n",
    "    public int getHeight() {\n",
    "        return this.height;\n",
    "    }\n",
    "    \n",
    "    // un modificateur ; il s'appelle setWeight, prend une valeur int et \n",
    "    // fixe la valeur du poids\n",
    "    public void setWeight(int weight) {\n",
    "        this.weight = weight;\n",
    "    }\n",
    "    \n",
    "    // un modificateur ; il s'appelle setWeight, prend une valeur int et \n",
    "    // fixe la valeur du poids\n",
    "    public void setHeight(int height) {\n",
    "        this.height = height;\n",
    "    }\n",
    "    \n",
    "    // implémentation de la méthode \"equals()\"\n",
    "    @Override\n",
    "    public boolean equals(Object o) {\n",
    "        if (o instanceof Animal) {\n",
    "            Animal a = (Animal) o;\n",
    "            return a.getWeight() == this.getWeight() && a.getHeight() == this.getHeight();\n",
    "        }\n",
    "        return false;\n",
    "    }\n",
    "    \n",
    "    // implémentation de la méthode \"toString()\"\n",
    "    @Override\n",
    "    public String toString() {\n",
    "        return \"Weight: \" + this.getWeight() + \" Height: \" + this.getHeight();\n",
    "    }\n",
    "}"
   ]
  },
  {
   "cell_type": "code",
   "execution_count": 0,
   "metadata": {
    "colab": {},
    "colab_type": "code",
    "id": "cb5fOZQhQpP-",
    "outputId": "9ce1ef5b-a4f5-473a-dc22-cd19ab63fd3a"
   },
   "outputs": [
    {
     "data": {
      "text/plain": [
       "com.twosigma.beaker.javash.bkrb994444b.Pet"
      ]
     },
     "execution_count": 89,
     "metadata": {
      "tags": []
     },
     "output_type": "execute_result"
    }
   ],
   "source": [
    "public class Pet extends Animal {\n",
    "    \n",
    "    private String name;\n",
    "    \n",
    "    public Pet(int weight, int height) {\n",
    "        super(weight, height);\n",
    "        System.out.println(\"We're in : public Pet(int weight, int height)\");\n",
    "    }\n",
    "    \n",
    "    public Pet(int weight, int height, String name) {\n",
    "        this(weight, height);\n",
    "        this.name = name;\n",
    "        System.out.println(\"We're in : public Pet(int weight, int height, String name)\");\n",
    "    }\n",
    "    \n",
    "    public String getName() {\n",
    "        return this.name;\n",
    "    }\n",
    "    \n",
    "    public void setName(String name) {\n",
    "        this.name = name;\n",
    "    }\n",
    "    \n",
    "    \n",
    "    // Ici nous utilisons le mot-clé \"super\" pour appeler la méthode \n",
    "    // \"equals\" de la classe Animal au lieu de l'écrire à nouveau\n",
    "    @Override\n",
    "    public boolean equals(Object o) {\n",
    "        if (o instanceof Pet) {\n",
    "            Pet p = (Pet) o;\n",
    "            return super.equals(p) && this.getName().equals(p.getName());\n",
    "        }\n",
    "        return false;\n",
    "    }\n",
    "    \n",
    "    // Ici nous utilisons le mot-clé \"super\" pour appeler la méthode \n",
    "    // \"toString\" de la classe Animal au lieu de l'écrire à nouveau.\n",
    "    @Override\n",
    "    public String toString() {\n",
    "        return super.toString() + \" Name: \" + this.getName();\n",
    "    }\n",
    "}"
   ]
  },
  {
   "cell_type": "markdown",
   "metadata": {
    "colab_type": "text",
    "id": "DXHGdRhEQpQD"
   },
   "source": [
    "###### Ici, nous créons une instance de la classe Pet. Remarquez comme elle est créée en appelant le constructeur de la classe-même ainsi que le constructeur de la classe parente."
   ]
  },
  {
   "cell_type": "code",
   "execution_count": 0,
   "metadata": {
    "colab": {},
    "colab_type": "code",
    "id": "kQH4cVnCQpQF",
    "outputId": "2a22a7b0-17b5-40c2-ee7d-fa1edbd46277"
   },
   "outputs": [
    {
     "name": "stdout",
     "output_type": "stream",
     "text": [
      "We're in : public Animal(int weight, int height)\n",
      "We're in : public Pet(int weight, int height)\n",
      "We're in : public Pet(int weight, int height, String name)\n"
     ]
    },
    {
     "data": {
      "text/plain": [
       "null"
      ]
     },
     "execution_count": 90,
     "metadata": {
      "tags": []
     },
     "output_type": "execute_result"
    }
   ],
   "source": [
    "Pet myPet = new Pet(4, 30, \"My Pet's Name\");"
   ]
  },
  {
   "cell_type": "markdown",
   "metadata": {
    "colab_type": "text",
    "id": "0P-u7va_QpQJ"
   },
   "source": [
    "### L'implementation de la classe Cat\n",
    "\n",
    "Mettez en œuvre l'un des enfants de la classe \"Pet\" (oiseau, chat, chien, hamster).\n",
    "\n",
    "La classe doit avoir:  \n",
    "1. deux variables d'instance privées appelées \"breed\" et \"favoriteToy\" (de type String)    \n",
    "2. deux constructeurs ;    \n",
    "2.1. le premier prend weight, height, name et breed comme paramètres, définit les variables et écrit un message à l'utilisateur    \n",
    "2.2. le second prend weight, height, name, breed et favoriteToy comme paramètres, définit les variables et écrit également un message à l'utilisateur    \n",
    "3. méthodes d'accesseurs et de modificateurs des variables breed et favoriteToy    \n",
    "4. remplace les méthodes equals et toString    \n"
   ]
  },
  {
   "cell_type": "code",
   "execution_count": 0,
   "metadata": {
    "colab": {},
    "colab_type": "code",
    "id": "UATthXFVQpQK",
    "outputId": "c09edb97-b6b9-4604-967e-0eb0686c1757"
   },
   "outputs": [
    {
     "data": {
      "text/plain": [
       "com.twosigma.beaker.javash.bkrb994444b.Cat"
      ]
     },
     "execution_count": 91,
     "metadata": {
      "tags": []
     },
     "output_type": "execute_result"
    }
   ],
   "source": [
    "// VOTRE CODE ICI\n",
    "public class Cat extends Pet {\n",
    "    \n",
    "    private String breed;\n",
    "    private String favoriteToy;\n",
    "    \n",
    "    public Cat(int weight, int height, String name, String breed) {\n",
    "        super(weight, height, name);\n",
    "        this.breed = breed;\n",
    "        System.out.println(\"We're in : public Cat(int weight, int height, String name, String breed)\");\n",
    "    }\n",
    "    \n",
    "    public Cat(int weight, int height, String name, String breed, String favoriteToy) {\n",
    "        this(weight, height, name, breed);\n",
    "        this.favoriteToy = favoriteToy;\n",
    "        System.out.println(\"We're in : public Cat(int weight, int height, String name, String breed, String favoriteToy\");\n",
    "    }\n",
    "    \n",
    "    public String getBreed() {\n",
    "        return this.breed;\n",
    "    }\n",
    "    \n",
    "    public String getFavoriteToy() {\n",
    "        return this.favoriteToy;\n",
    "    }\n",
    "    \n",
    "    public void setBreed(String breed) {\n",
    "        this.breed = breed;\n",
    "    }\n",
    "    \n",
    "    public void setFavoriteToy(String favoriteToy) {\n",
    "        this.favoriteToy = favoriteToy;\n",
    "    }\n",
    "    \n",
    "    @Override\n",
    "    public boolean equals(Object o) {\n",
    "        if (o instanceof Cat) {\n",
    "            Cat c = (Cat) o;\n",
    "            return super.equals(c) && this.getBreed().equals(c.getBreed()) && this.getFavoriteToy().equals(c.getFavoriteToy());\n",
    "        }\n",
    "        return false;\n",
    "    }\n",
    "    \n",
    "    @Override\n",
    "    public String toString() {\n",
    "        return super.toString() + \" Breed: \" + this.getBreed() + \" Favorite Toy: \" + this.getFavoriteToy();\n",
    "    }\n",
    "}"
   ]
  },
  {
   "cell_type": "markdown",
   "metadata": {
    "colab_type": "text",
    "id": "DNHHUyv9QpQN"
   },
   "source": [
    "##### Créez une instance de la classe Cat et observez le résultat."
   ]
  },
  {
   "cell_type": "code",
   "execution_count": 0,
   "metadata": {
    "colab": {},
    "colab_type": "code",
    "id": "t2Il0WQdQpQP",
    "outputId": "46e7cd28-f37b-48b2-bdc6-fbdbc8fadc32"
   },
   "outputs": [
    {
     "name": "stdout",
     "output_type": "stream",
     "text": [
      "We're in : public Animal(int weight, int height)\n",
      "We're in : public Pet(int weight, int height)\n",
      "We're in : public Pet(int weight, int height, String name)\n",
      "We're in : public Cat(int weight, int height, String name, String breed)\n",
      "We're in : public Cat(int weight, int height, String name, String breed, String favoriteToy\n"
     ]
    },
    {
     "data": {
      "text/plain": [
       "null"
      ]
     },
     "execution_count": 92,
     "metadata": {
      "tags": []
     },
     "output_type": "execute_result"
    }
   ],
   "source": [
    "// VOTRE CODE ICI\n",
    "Cat myCat = new Cat(3, 40, \"Pharaoh\", \"sphynx\", \"laser pointer\");"
   ]
  },
  {
   "cell_type": "code",
   "execution_count": 0,
   "metadata": {
    "colab": {},
    "colab_type": "code",
    "id": "a65IytJSQpQS"
   },
   "outputs": [],
   "source": []
  }
 ],
 "metadata": {
  "colab": {
   "name": "heritage_des_constructeurs.ipynb",
   "provenance": []
  },
  "kernelspec": {
   "display_name": "Java",
   "language": "java",
   "name": "java"
  },
  "language_info": {
   "codemirror_mode": "text/x-java",
   "file_extension": ".java",
   "mimetype": "",
   "name": "Java",
   "nbconverter_exporter": "",
   "version": "1.8.0_222"
  },
  "toc": {
   "base_numbering": 1,
   "nav_menu": {},
   "number_sections": false,
   "sideBar": false,
   "skip_h1_title": false,
   "title_cell": "Table of Contents",
   "title_sidebar": "Contents",
   "toc_cell": false,
   "toc_position": {},
   "toc_section_display": false,
   "toc_window_display": false
  }
 },
 "nbformat": 4,
 "nbformat_minor": 0
}
