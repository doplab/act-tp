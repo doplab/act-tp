{
 "cells": [
  {
   "cell_type": "markdown",
   "metadata": {},
   "source": [
    "## Answers: Minimum Spanning Tree"
   ]
  },
  {
   "cell_type": "code",
   "execution_count": null,
   "metadata": {
    "inputHidden": false,
    "outputHidden": false
   },
   "outputs": [],
   "source": [
    "# Partie B\n",
    "t = [Girdwood, Homer, Talkeenta, Sitka, Gustavus, Skagway]\n",
    "# Reponse illustrée avec code en partie C"
   ]
  },
  {
   "cell_type": "markdown",
   "metadata": {},
   "source": [
    "## Answers: Kruksal's algorithm"
   ]
  },
  {
   "cell_type": "code",
   "execution_count": null,
   "metadata": {
    "inputHidden": false,
    "outputHidden": false
   },
   "outputs": [],
   "source": [
    "# Partie A\n",
    "num_liens = 5\n",
    "liens = [('A','C'), ('A', 'F'), ('A', 'D'), ('B', 'F'), ('E','F')\n",
    "poids_MST = 20 #somme des poids des liens selectionnés\n",
    "num_steps = 9\n",
    "list_steps = [('A','D'), ('A', 'C'), ('B', 'F'), ('E', 'F'), ('C','D'), ('A', 'F'), ('A', 'B'), ('D', 'F'), ('C', 'E')\n",
    "# C-D, A-B, D-F et C-E pas pris car sinon cycle formé\n",
    "# Réponse illustrée sur image B\n"
   ]
  },
  {
   "cell_type": "markdown",
   "metadata": {},
   "source": [
    "## Answers: Social Network analysis"
   ]
  },
  {
   "cell_type": "code",
   "execution_count": null,
   "metadata": {
    "inputHidden": false,
    "outputHidden": false
   },
   "outputs": [],
   "source": [
    "# Partie A\n",
    "edge = 'lien amitié'\n",
    "vertice = 'personne'\n",
    "dirige = 'NON'\n",
    "r1 = 'Celui qui a le degrès le plus important'\n",
    "r2 = 'Lien entre ces amis'\n",
    "r3 = 'pas de lien entre ami de mon ami et moi'\n",
    "r4 = 'degrès 0'"
   ]
  },
  {
   "cell_type": "code",
   "execution_count": null,
   "metadata": {
    "inputHidden": false,
    "outputHidden": false
   },
   "outputs": [],
   "source": [
    "# Partie B\n",
    "solutions = [ '3C', '5E', '2B', '1A']"
   ]
  }
 ],
 "metadata": {
  "kernel_info": {
   "name": "python3"
  },
  "kernelspec": {
   "display_name": "Python 3",
   "language": "python",
   "name": "python3"
  },
  "language_info": {
   "codemirror_mode": {
    "name": "ipython",
    "version": 3
   },
   "file_extension": ".py",
   "mimetype": "text/x-python",
   "name": "python",
   "nbconvert_exporter": "python",
   "pygments_lexer": "ipython3",
   "version": "3.7.1"
  },
  "nteract": {
   "version": "0.15.0"
  }
 },
 "nbformat": 4,
 "nbformat_minor": 1
}
