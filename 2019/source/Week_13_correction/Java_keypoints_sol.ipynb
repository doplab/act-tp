{
  "cells": [
    {
      "cell_type": "markdown",
      "source": [
        "# Key concepts\n",
        "\n",
        "## Java Encapsulation\n",
        "\n",
        "L'encapsulation sert à cacher les détails d'implémentation. L'encapsulation sert uniquement à montrer que les informations essentielles aux utilisateurs.\n",
        "\n",
        "En Java, il est recommandé de déclarer les attributs des classes comme étant `private` et de mettre à disposition des utilisateurs des méthodes publiques d'accès afin qu'ils puissent accéder ou modifier la valeur des attributs privés.\n",
        "\n",
        "Les méthodes publiques d'accès comme `getName`et `setName` doivent être nommées avec soit `get` soit `set` suivi du nom de l'attribut avec la 1ère lettre en majuscule (Java Naming convention)[https://www.oracle.com/technetwork/java/codeconventions-135099.html]). \n",
        "\n",
        "Le mot clé `this` fait référence à l'objet en question.\n",
        "\n",
        "\n",
        "### Exercice \n",
        "\n",
        "Complètez les deux cellules de code ci-dessous en vous aidant des commentaires.\n",
        "\n"
      ],
      "metadata": {}
    },
    {
      "cell_type": "code",
      "source": [
        "// déclarez une classe publique \"Person\"\n",
        "public class Person {\n",
        "    //déclarez une variable privée \"name\" \n",
        "    private String name; \n",
        "\n",
        "  // déclarez une méthode publique \"getName\"\n",
        "    public String getName() {\n",
        "        return name;\n",
        "    }\n",
        "\n",
        "  // déclarez une méthode publique void \"setName\"\n",
        "    public void setName(String newName) {\n",
        "        this.name = newName;\n",
        "    }\n",
        "}\n",
        "\n"
      ],
      "outputs": [
        {
          "output_type": "execute_result",
          "execution_count": 1,
          "data": {
            "text/plain": [
              "com.twosigma.beaker.javash.bkr326710a7.Person"
            ]
          },
          "metadata": {}
        }
      ],
      "execution_count": 1,
      "metadata": {}
    },
    {
      "cell_type": "code",
      "source": [
        "// déclarez une classe publique \"MyClass\"\n",
        "public class MyClass {\n",
        "    //déclarez une méthode publique statique \"main\" \n",
        "   public static void main(String[] args) {\n",
        "        // créez un nouvel objet \"Person\" nommé \"myObj\"\n",
        "        Person myObj = new Person();\n",
        "        // modifiez sa valeur de \"name\" avec la méthode \"setName\"\n",
        "        myObj.setName(\"John\"); \n",
        "        // affichez sa valeur avec la méthode \"getName\"\n",
        "        System.out.println(myObj.getName());\n",
        "   }\n",
        "}\n",
        "\n",
        "// Outputs \"John\""
      ],
      "outputs": [
        {
          "output_type": "execute_result",
          "execution_count": 24,
          "data": {
            "text/plain": [
              "com.twosigma.beaker.javash.bkr326710a7.MyClass"
            ]
          },
          "metadata": {}
        }
      ],
      "execution_count": 24,
      "metadata": {}
    },
    {
      "cell_type": "code",
      "source": [
        "MyClass.main(null);"
      ],
      "outputs": [
        {
          "output_type": "stream",
          "name": "stdout",
          "text": [
            "John\n"
          ]
        },
        {
          "output_type": "execute_result",
          "execution_count": 25,
          "data": {
            "text/plain": [
              "null"
            ]
          },
          "metadata": {}
        }
      ],
      "execution_count": 25,
      "metadata": {}
    },
    {
      "cell_type": "markdown",
      "source": [
        "## Héritage en Java (sous-classe et super-classe)\n",
        "\n",
        "Comme vous le savez, il est possible que des sous-classes héritent des attributs ou méthodes des super-classes.\n",
        "En Java, il faut utiliser le mot-clé `extends`. Ainsi, l'héritage permet la réutilisation des attributs et méthodes d'une classe existante.\n",
        "\n",
        "### Exercise \n",
        "\n",
        "Complètez la cellule de code ci-dessous en vous aidant des commentaires. La classe `Car` est une sous-classe alors que la classe `Vehicle` est une super-classe. \n"
      ],
      "metadata": {}
    },
    {
      "cell_type": "code",
      "source": [
        "// déclarez une classe \"Vehicle\"\n",
        "class Vehicle {\n",
        "    //déclarez une variable protegée \"brand\" égale à \"Ford\" \n",
        "    protected String brand = \"Ford\";   \n",
        "    //déclarez une méthode publique void \"honk\"\n",
        "    public void honk() {     \n",
        "    // affichez \"Tuut, tuut!\"\n",
        "        System.out.println(\"Tuut, tuut!\");\n",
        "  }\n",
        "}\n",
        "\n",
        "// déclarez une classe \"Car\" qui hérite de la classe \"Vehicle\"\n",
        "class Car extends Vehicle {\n",
        "    //déclarez une variable privée \"modelName\" égale à \"Mustang\" \n",
        "    public String modelName = \"Mustang\";    \n",
        "    \n",
        "    //déclarez une méthode publique statique \"main\" \n",
        "    public static void main(String[] args) {\n",
        "\n",
        "        // créez un nouvel objet \"Car\" nommé \"myCar\"\n",
        "        Car myCar = new Car();\n",
        "\n",
        "        //appelez la méthode \"honk\" de la classe \"Vehicle\" sur \"myCar\"\n",
        "        myCar.honk();\n",
        "        \n",
        "        // affichez la \"brand\" et \"modelName\" de myCar\n",
        "        System.out.println(myCar.brand + \" \" + myCar.modelName);\n",
        "   }\n",
        "}"
      ],
      "outputs": [
        {
          "output_type": "execute_result",
          "execution_count": 22,
          "data": {
            "text/plain": [
              "com.twosigma.beaker.javash.bkr326710a7.Vehicle"
            ]
          },
          "metadata": {}
        }
      ],
      "execution_count": 22,
      "metadata": {}
    },
    {
      "cell_type": "code",
      "source": [
        "Car.main(null);"
      ],
      "outputs": [
        {
          "output_type": "stream",
          "name": "stdout",
          "text": [
            "Tuut, tuut!\n",
            "Ford Mustang\n"
          ]
        },
        {
          "output_type": "execute_result",
          "execution_count": 23,
          "data": {
            "text/plain": [
              "null"
            ]
          },
          "metadata": {}
        }
      ],
      "execution_count": 23,
      "metadata": {}
    },
    {
      "cell_type": "code",
      "source": [
        "//déclarez une méthode publique statique \"main\" \n",
        "class Main{\n",
        "    public static void main(String[] args) {\n",
        "\n",
        "        // créez un nouvel objet \"Car\" nommé \"myCar\"\n",
        "        Car myCar = new Car();\n",
        "\n",
        "        //appelez la méthode \"honk\" de la classe \"Vehicle\" sur \"myCar\"\n",
        "        myCar.honk();\n",
        "        \n",
        "        // affichez la \"brand\" et \"modelName\" de myCar\n",
        "        System.out.println(myCar.brand + \" \" + myCar.modelName);\n",
        "   }\n",
        "}"
      ],
      "outputs": [
        {
          "output_type": "execute_result",
          "execution_count": 19,
          "data": {
            "text/plain": [
              "com.twosigma.beaker.javash.bkr326710a7.Main"
            ]
          },
          "metadata": {}
        }
      ],
      "execution_count": 19,
      "metadata": {}
    },
    {
      "cell_type": "code",
      "source": [
        "Main.main(null);"
      ],
      "outputs": [
        {
          "output_type": "stream",
          "name": "stdout",
          "text": [
            "Tuut, tuut!\n",
            "Ford Mustang\n"
          ]
        },
        {
          "output_type": "execute_result",
          "execution_count": 20,
          "data": {
            "text/plain": [
              "null"
            ]
          },
          "metadata": {}
        }
      ],
      "execution_count": 20,
      "metadata": {}
    },
    {
      "cell_type": "markdown",
      "source": [
        "## Java Polymorphisme\n",
        "\n",
        "Le polymorphisme apparaît quand plusieurs classes sont liées par héritage.\n",
        "\n",
        "\n",
        "### Exercise \n",
        "\n",
        "Complètez la cellule de code ci-dessous en vous aidant des commentaires. Les sous-classes d'`Animal` comme `Pig, Cat, Dog ou Bird` de la super-classe `Animal` redéfinissent la méthode `animalSound`."
      ],
      "metadata": {}
    },
    {
      "cell_type": "code",
      "source": [
        "// déclarez une super-classe \"Animal\"\n",
        "class Animal {\n",
        "    //déclarez une méthode publique void \"animalSound\"\n",
        "    public void animalSound() {\n",
        "        // affichez \"The animal makes a sound\"\n",
        "        System.out.println(\"The animal makes a sound\");\n",
        "    }\n",
        "}\n",
        "// déclarez une classe \"Pig\" qui hérite de \"Animal\"\n",
        "class Pig extends Animal {\n",
        "    //déclarez une méthode publique void \"animalSound\" qui redéfinie celle de la super-classe \"Animal\"\n",
        "    public void animalSound() {\n",
        "        // affichez \"The pig says: wee wee\"\n",
        "        System.out.println(\"The pig says: wee wee\");\n",
        "    }\n",
        "}\n",
        "// déclarez une classe \"Dog\" qui hérite de \"Animal\"\n",
        "class Dog extends Animal {\n",
        "    //déclarez une méthode publique void \"animalSound\" qui redéfinie celle de la super-classe \"Animal\"\n",
        "    public void animalSound() {\n",
        "        // affichez \"The dog says: bow wow\"\n",
        "        System.out.println(\"The dog says: bow wow\");\n",
        "    }\n",
        "}\n"
      ],
      "outputs": [
        {
          "output_type": "execute_result",
          "execution_count": 26,
          "data": {
            "text/plain": [
              "com.twosigma.beaker.javash.bkr326710a7.Animal"
            ]
          },
          "metadata": {}
        }
      ],
      "execution_count": 26,
      "metadata": {}
    },
    {
      "cell_type": "code",
      "source": [
        "// déclarez une classe \"MyMainClass\"\n",
        "class MyMainClass {\n",
        "    //déclarez une méthode publique statique \"main\" \n",
        "    public static void main(String[] args) {\n",
        "        // créez un nouvel objet \"Animal\" nommé \"myAnimal\"\n",
        "        Animal myAnimal = new Animal();  \n",
        "        // créez un nouvel objet \"Pig\" nommé \"myPig\"\n",
        "        Animal myPig = new Pig(); \n",
        "        // créez un nouvel objet \"Dog\" nommé \"myDog\"\n",
        "        Animal myDog = new Dog();  \n",
        "        //appelez la méthode \"animalSound\" avec \"myAnimal\"\n",
        "        myAnimal.animalSound();\n",
        "        //appelez la méthode \"animalSound\" avec \" myPig\"\n",
        "        myPig.animalSound();\n",
        "        //appelez la méthode \"animalSound\" avec \" myDog\"\n",
        "        myDog.animalSound();\n",
        "    }\n",
        "}"
      ],
      "outputs": [
        {
          "output_type": "execute_result",
          "execution_count": 27,
          "data": {
            "text/plain": [
              "com.twosigma.beaker.javash.bkr326710a7.MyMainClass"
            ]
          },
          "metadata": {}
        }
      ],
      "execution_count": 27,
      "metadata": {}
    },
    {
      "cell_type": "code",
      "source": [
        "MyMainClass.main(null);"
      ],
      "outputs": [
        {
          "output_type": "stream",
          "name": "stdout",
          "text": [
            "The animal makes a sound\n",
            "The pig says: wee wee\n",
            "The dog says: bow wow\n"
          ]
        },
        {
          "output_type": "execute_result",
          "execution_count": 28,
          "data": {
            "text/plain": [
              "null"
            ]
          },
          "metadata": {}
        }
      ],
      "execution_count": 28,
      "metadata": {}
    },
    {
      "cell_type": "markdown",
      "source": [
        "## Java Classes et Methodes Abstraites\n",
        "\n",
        "En Java, il suffit de déclarer des classes ou interfaces abstraites pour utiliser le concept d'abstraction. Les classes abstraites ne peuvent pas créer des objets sauf si elles héritent d'autres classes.\n",
        "\n",
        "Les méthodes abstraites, ayant généralement pas de contenu car il est hérité de la sous-classe, peuvent uniquement être utilisées dans les classes abstraites."
      ],
      "metadata": {}
    },
    {
      "cell_type": "code",
      "source": [
        "// déclarez une classe abstraite \"Animal\"\n",
        "abstract class Animal {\n",
        "    //déclarez une méthode  vide publique abstraite void \"animalSound\"\n",
        "    public abstract void animalSound();\n",
        "    // //déclarez une méthode publique void \"sleep\"\n",
        "    public void sleep() {\n",
        "        // affichez \"Zzz\"\n",
        "        System.out.println(\"Zzz\");\n",
        "    }\n",
        "}\n",
        "\n",
        "// déclarez une classe \"Pig\" qui hérite de \"Animal\"\n",
        "class Pig extends Animal {\n",
        "    //déclarez une méthode publique void \"animalSound\" qui redéfinie celle de la super-classe \"Animal\"\n",
        "    public void animalSound() {\n",
        "        // affichez \"The pig says: wee wee\"\n",
        "        System.out.println(\"The pig says: wee wee\");\n",
        "    }\n",
        "}\n",
        "// déclarez une classe \"MyMainClass\"\n",
        "class MyMainClass {\n",
        "    //déclarez une méthode publique statique \"main\" \n",
        "    public static void main(String[] args) {\n",
        "        // créez un nouvel objet \"Pig\" nommé \"myPig\"\n",
        "        Pig myPig = new Pig(); \n",
        "        //appelez la méthode \"animalSound\" avec \" myPig\"\n",
        "        myPig.animalSound();\n",
        "        //appelez la méthode \"sleep\" avec \" myPig\"\n",
        "        myPig.sleep();\n",
        "   }\n",
        "}"
      ],
      "outputs": [
        {
          "output_type": "execute_result",
          "execution_count": 29,
          "data": {
            "text/plain": [
              "com.twosigma.beaker.javash.bkr326710a7.Animal"
            ]
          },
          "metadata": {}
        }
      ],
      "execution_count": 29,
      "metadata": {}
    },
    {
      "cell_type": "code",
      "source": [
        "MyMainClass.main(null);"
      ],
      "outputs": [
        {
          "output_type": "stream",
          "name": "stdout",
          "text": [
            "The pig says: wee wee\n",
            "Zzz\n"
          ]
        },
        {
          "output_type": "execute_result",
          "execution_count": 30,
          "data": {
            "text/plain": [
              "null"
            ]
          },
          "metadata": {}
        }
      ],
      "execution_count": 30,
      "metadata": {}
    },
    {
      "cell_type": "code",
      "source": [],
      "outputs": [],
      "execution_count": null,
      "metadata": {}
    }
  ],
  "metadata": {
    "kernelspec": {
      "display_name": "Java",
      "language": "java",
      "name": "java"
    },
    "language_info": {
      "codemirror_mode": "text/x-java",
      "file_extension": ".java",
      "mimetype": "",
      "name": "Java",
      "nbconverter_exporter": "",
      "version": "1.8.0_222"
    },
    "toc": {
      "toc_position": {},
      "skip_h1_title": false,
      "number_sections": false,
      "title_cell": "Table of Contents",
      "toc_window_display": false,
      "base_numbering": 1,
      "toc_section_display": false,
      "title_sidebar": "Contents",
      "toc_cell": false,
      "nav_menu": {},
      "sideBar": false
    },
    "nteract": {
      "version": "0.15.0"
    }
  },
  "nbformat": 4,
  "nbformat_minor": 2
}