{
 "cells": [
  {
   "cell_type": "markdown",
   "metadata": {
    "nbgrader": {
     "grade": false,
     "grade_id": "cell-d978fb7220288349",
     "locked": true,
     "schema_version": 3,
     "solution": false,
     "task": false
    }
   },
   "source": [
    "# Kd-trees\n",
    "\n",
    "## Exercice papier\n",
    "\n",
    "Insérez les données suivantes dans un Kd-tree où k = 2 avec une représentation sous forme d’arbre et une sous forme d’un plan 2d (x,y)  : \n",
    "\n",
    "(51,75),(70,70),(25,40),(35,90),(60,80),(10,30),(1,10),(55,1),(50,50)\n",
    "\n",
    "À l’aide de votre arbre, trouvez les deux points qui ont les valeurs minimales pour x et y\n"
   ]
  },
  {
   "cell_type": "markdown",
   "metadata": {
    "nbgrader": {
     "grade": false,
     "grade_id": "cell-67744003f87c500b",
     "locked": true,
     "schema_version": 3,
     "solution": false,
     "task": false
    }
   },
   "source": [
    "## Exercice Python\n",
    "\n",
    "Complètez la fonction ci-dessus pour ajouter un point dans un arbre, sa racine est sous la forme: \n",
    "\n",
    "root = [(tuple de valeur), enfant à gauche(node), enfant à droite(node)]\n",
    "\n",
    "NB: Les noeuds sont tous sous la forme ci-dessus ((valeur), noeud de gauche, noeud de droite).\n",
    "\n",
    "\n",
    "par exemple :\n",
    "\n",
    "root = [(51,75), None, None]"
   ]
  },
  {
   "cell_type": "code",
   "execution_count": 1,
   "metadata": {},
   "outputs": [],
   "source": [
    "def add_node(node,point,cutaxis = 0):\n",
    "    value = 0\n",
    "    left = 1\n",
    "    right = 2\n",
    "    #les variables ci-dessus représentent les positions dans la liste qui represente un noeud.\n",
    "    #votre code ici\n",
    "    "
   ]
  },
  {
   "cell_type": "code",
   "execution_count": 2,
   "metadata": {},
   "outputs": [],
   "source": [
    "root = [(51,75), None, None] \n",
    "k = 2 #le nombre de dimension \n",
    "point = (20,10) \n",
    "add_node(root,point,0)"
   ]
  }
 ],
 "metadata": {
  "celltoolbar": "Create Assignment",
  "kernelspec": {
   "display_name": "Python 3",
   "language": "python",
   "name": "python3"
  },
  "language_info": {
   "codemirror_mode": {
    "name": "ipython",
    "version": 3
   },
   "file_extension": ".py",
   "mimetype": "text/x-python",
   "name": "python",
   "nbconvert_exporter": "python",
   "pygments_lexer": "ipython3",
   "version": "3.7.3"
  }
 },
 "nbformat": 4,
 "nbformat_minor": 2
}
