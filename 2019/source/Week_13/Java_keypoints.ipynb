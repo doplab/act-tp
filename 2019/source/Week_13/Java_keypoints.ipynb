{
  "cells": [
    {
      "cell_type": "markdown",
      "source": [
        "# Key concepts\n",
        "\n",
        "## Java Encapsulation\n",
        "\n",
        "L'encapsulation sert à cacher les détails d'implémentation. L'encapsulation sert uniquement à montrer que les informations essentielles aux utilisateurs.\n",
        "\n",
        "En Java, il est recommandé de déclarer les attributs des classes comme étant `private` et de mettre à disposition des utilisateurs des méthodes publiques d'accès afin qu'ils puissent accéder ou modifier la valeur des attributs privés.\n",
        "\n",
        "Les méthodes publiques d'accès comme `getName`et `setName` doivent être nommées avec soit `get` soit `set` suivi du nom de l'attribut avec la 1ère lettre en majuscule (Java Naming convention)[https://www.oracle.com/technetwork/java/codeconventions-135099.html]). \n",
        "\n",
        "Le mot clé `this` fait référence à l'objet en question.\n",
        "\n",
        "\n",
        "### Exercice \n",
        "\n",
        "Complètez les deux cellules de code ci-dessous en vous aidant des commentaires.\n",
        "\n"
      ],
      "metadata": {}
    },
    {
      "cell_type": "code",
      "source": [
        "// déclarez une classe publique \"Person\"\n",
        "\n",
        "    //déclarez une variable privée \"name\" \n",
        "\n",
        "  // déclarez une méthode publique \"getName\"\n",
        "  \n",
        "\n",
        "  // déclarez une méthode publique void \"setName\"\n",
        "    \n",
        "\n"
      ],
      "outputs": [
        {
          "output_type": "error",
          "ename": "IndentationError",
          "evalue": "unindent does not match any outer indentation level (<tokenize>, line 5)",
          "traceback": [
            "\u001b[0;36m  File \u001b[0;32m\"<tokenize>\"\u001b[0;36m, line \u001b[0;32m5\u001b[0m\n\u001b[0;31m    // déclarez une méthode publique \"getName\"\u001b[0m\n\u001b[0m    ^\u001b[0m\n\u001b[0;31mIndentationError\u001b[0m\u001b[0;31m:\u001b[0m unindent does not match any outer indentation level\n"
          ]
        }
      ],
      "execution_count": 1,
      "metadata": {}
    },
    {
      "cell_type": "code",
      "source": [
        "// déclarez une classe publique \"MyClass\"\n",
        "\n",
        "    //déclarez une méthode publique statique \"main\" \n",
        "   \n",
        "        // créez un nouvel objet \"Person\" nommé \"myObj\"\n",
        "      \n",
        "        // modifiez sa valeur de \"name\" avec la méthode \"setName\"\n",
        "   \n",
        "        // affichez sa valeur avec la méthode \"getName\"\n",
        "       \n"
      ],
      "outputs": [],
      "execution_count": 0,
      "metadata": {}
    },
    {
      "cell_type": "markdown",
      "source": [
        "## Héritage en Java (sous-classe et super-classe)\n",
        "\n",
        "Comme vous le savez, il est possible que des sous-classes héritent des attributs ou méthodes des super-classes.\n",
        "En Java, il faut utiliser le mot-clé `extends`. Ainsi, l'héritage permet la réutilisation des attributs et méthodes d'une classe existante.\n",
        "\n",
        "### Exercise \n",
        "\n",
        "Complètez la cellule de code ci-dessous en vous aidant des commentaires. La classe `Car` est une sous-classe alors que la classe `Vehicle` est une super-classe. "
      ],
      "metadata": {}
    },
    {
      "cell_type": "code",
      "source": [
        "// déclarez une classe \"Vehicle\"\n",
        "\n",
        "    //déclarez une variable protegée \"brand\" égale à \"Ford\" \n",
        "  \n",
        "    //déclarez une méthode publique void \"honk\"\n",
        "  \n",
        "    // affichez \"Tuut, tuut!\"\n",
        "      \n",
        "\n",
        "// déclarez une classe \"Car\" qui hérite de la classe \"Vehicle\"\n",
        "\n",
        "    //déclarez une variable privée \"modelName\" égale à \"Mustang\" \n",
        "  \n",
        "    \n",
        "    //déclarez une méthode publique statique \"main\" \n",
        "  \n",
        "\n",
        "        // créez un nouvel objet \"Car\" nommé \"myCar\"\n",
        "      \n",
        "\n",
        "        //appelez la méthode \"honk\" de la classe \"Vehicle\" sur \"myCar\"\n",
        "\n",
        "        \n",
        "        // affichez la \"brand\" et \"modelName\" de myCar\n",
        "   "
      ],
      "outputs": [],
      "execution_count": 0,
      "metadata": {}
    },
    {
      "cell_type": "markdown",
      "source": [
        "## Java Polymorphisme\n",
        "\n",
        "Le polymorphisme apparaît quand plusieurs classes sont liées par héritage.\n",
        "\n",
        "\n",
        "### Exercise \n",
        "\n",
        "Complètez la cellule de code ci-dessous en vous aidant des commentaires. Les sous-classes d'`Animal` comme `Pig, Cat, Dog ou Bird` de la super-classe `Animal` redéfinissent la méthode `animalSound`."
      ],
      "metadata": {}
    },
    {
      "cell_type": "code",
      "source": [
        "// déclarez une super-classe \"Animal\"\n",
        "\n",
        "    //déclarez une méthode publique void \"animalSound\"\n",
        "\n",
        "        // affichez \"The animal makes a sound\"\n",
        "        \n",
        "// déclarez une classe \"Pig\" qui hérite de \"Animal\"\n",
        "\n",
        "    //déclarez une méthode publique void \"animalSound\" qui redéfinie celle de la super-classe \"Animal\"\n",
        "    \n",
        "        // affichez \"The pig says: wee wee\"\n",
        "        \n",
        "\n",
        "\n",
        "// déclarez une classe \"Dog\" qui hérite de \"Animal\"\n",
        "\n",
        "    //déclarez une méthode publique void \"animalSound\" qui redéfinie celle de la super-classe \"Animal\"\n",
        "   \n",
        "        // affichez \"The dog says: bow wow\"\n",
        "       \n",
        "// déclarez une classe \"MyMainClass\"\n",
        "\n",
        "    //déclarez une méthode publique statique \"main\" \n",
        "    \n",
        "        // créez un nouvel objet \"Animal\" nommé \"myAnimal\"\n",
        "         \n",
        "        // créez un nouvel objet \"Pig\" nommé \"myPig\"\n",
        "         \n",
        "        // créez un nouvel objet \"Dog\" nommé \"myDog\"\n",
        "          \n",
        "        //appelez la méthode \"animalSound\" avec \"myAnimal\"\n",
        "        \n",
        "        //appelez la méthode \"animalSound\" avec \" myPig\"\n",
        "      \n",
        "        //appelez la méthode \"animalSound\" avec \" myDog\"\n",
        "     "
      ],
      "outputs": [],
      "execution_count": 0,
      "metadata": {}
    },
    {
      "cell_type": "markdown",
      "source": [
        "## Java Classes et Methodes Abstraites\n",
        "\n",
        "En Java, il suffit de déclarer des classes ou interfaces abstraites pour utiliser le concept d'abstraction. Les classes abstraites ne peuvent pas créer des objets sauf si elles héritent d'autres classes.\n",
        "\n",
        "Les méthodes abstraites, ayant généralement pas de contenu car il est hérité de la sous-classe, peuvent uniquement être utilisées dans les classes abstraites."
      ],
      "metadata": {}
    },
    {
      "cell_type": "code",
      "source": [
        "// déclarez une classe abstraite \"Animal\"\n",
        "\n",
        "    //déclarez une méthode  vide publique abstraite void \"animalSound\"\n",
        "\n",
        "    //déclarez une méthode publique void \"sleep\"\n",
        "    \n",
        "        // affichez \"Zzz\"\n",
        "       \n",
        "\n",
        "// déclarez une classe \"Pig\" qui hérite de \"Animal\"\n",
        "\n",
        "    //déclarez une méthode publique void \"animalSound\" qui redéfinie celle de la super-classe \"Animal\"\n",
        "    \n",
        "        // affichez \"The pig says: wee wee\"\n",
        "       \n",
        "// déclarez une classe \"MyMainClass\"\n",
        "\n",
        "    //déclarez une méthode publique statique \"main\" \n",
        "   \n",
        "        // créez un nouvel objet \"Pig\" nommé \"myPig\"\n",
        "        \n",
        "        //appelez la méthode \"animalSound\" avec \" myPig\"\n",
        "        \n",
        "        //appelez la méthode \"sleep\" avec \" myPig\"\n",
        "     "
      ],
      "outputs": [],
      "execution_count": 0,
      "metadata": {}
    }
  ],
  "metadata": {
    "kernelspec": {
      "display_name": "Java",
      "language": "java",
      "name": "java"
    },
    "language_info": {
      "codemirror_mode": "text/x-java",
      "file_extension": ".java",
      "mimetype": "",
      "name": "Java",
      "nbconverter_exporter": "",
      "version": "3.7.5"
    },
    "toc": {
      "toc_position": {},
      "skip_h1_title": false,
      "number_sections": false,
      "title_cell": "Table of Contents",
      "toc_window_display": false,
      "base_numbering": 1,
      "toc_section_display": false,
      "title_sidebar": "Contents",
      "toc_cell": false,
      "nav_menu": {},
      "sideBar": false
    },
    "nteract": {
      "version": "0.15.0"
    }
  },
  "nbformat": 4,
  "nbformat_minor": 2
}