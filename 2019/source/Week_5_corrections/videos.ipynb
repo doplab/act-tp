{
 "cells": [
  {
   "cell_type": "markdown",
   "metadata": {
    "colab_type": "text",
    "id": "sJJ4vdDmjzKI"
   },
   "source": [
    "## Vidéos utiles\n",
    "\n",
    "### Algorithmes de tri\n",
    "\n",
    "En dessous se trouve un lien vers une playliste sur les algorithmes de tri de **Micheal Sambol** sur youtube pour apprendre la différence entre les méthodes de tri.\n",
    "\n",
    "[Sorting playlist](https://www.youtube.com/playlist?list=PL9xmBV_5YoZOZSbGAXAPIq1BeUf4j20pl)\n",
    "\n",
    "### Complexité\n",
    "\n",
    "[![Complexity](http://i3.ytimg.com/vi/__vX2sjlpXU/hqdefault.jpg)](https://www.youtube.com/watch?v=__vX2sjlpXU&list=PL9xmBV_5YoZMxejjIyFHWa-4nKg6sdoIv)\n"
   ]
  },
  {
   "cell_type": "code",
   "execution_count": null,
   "metadata": {},
   "outputs": [],
   "source": []
  }
 ],
 "metadata": {
  "colab": {
   "collapsed_sections": [],
   "name": "Videos.ipynb",
   "provenance": []
  },
  "kernel_info": {
   "name": "python3"
  },
  "kernelspec": {
   "display_name": "Python 3",
   "language": "python",
   "name": "python3"
  },
  "language_info": {
   "codemirror_mode": {
    "name": "ipython",
    "version": 3
   },
   "file_extension": ".py",
   "mimetype": "text/x-python",
   "name": "python",
   "nbconvert_exporter": "python",
   "pygments_lexer": "ipython3",
   "version": "3.7.3"
  },
  "nteract": {
   "version": "0.15.0"
  }
 },
 "nbformat": 4,
 "nbformat_minor": 1
}
