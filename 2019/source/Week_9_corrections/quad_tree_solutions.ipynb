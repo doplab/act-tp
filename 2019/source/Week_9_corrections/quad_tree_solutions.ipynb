{
 "cells": [
  {
   "cell_type": "markdown",
   "metadata": {},
   "source": [
    "### Week 9 - Corrections Quad-tree\n",
    "\n",
    "<img src=\"https://github.com/doplab/act-tp/blob/master/images/quad_tree_sol1.png?raw=true\\\"/>\n",
    "\n",
    "-> level 3\n",
    "\n",
    "<img src=\"https://github.com/doplab/act-tp/blob/master/images/quad_tree_sol2.png?raw=true\\\" />\n",
    "\n",
    "<img src=\"https://github.com/doplab/act-tp/blob/master/images/bonhomme_sol1.png?raw=true\\\" />\n",
    "\n",
    "<img src=\"https://github.com/doplab/act-tp/blob/master/images/bonhomme_sol2.png?raw=true\\\" />"
   ]
  },
  {
   "cell_type": "code",
   "execution_count": null,
   "metadata": {
    "inputHidden": false,
    "outputHidden": false
   },
   "outputs": [],
   "source": []
  }
 ],
 "metadata": {
  "kernel_info": {
   "name": "python3"
  },
  "kernelspec": {
   "display_name": "Python 3",
   "language": "python",
   "name": "python3"
  },
  "language_info": {
   "codemirror_mode": {
    "name": "ipython",
    "version": 3
   },
   "file_extension": ".py",
   "mimetype": "text/x-python",
   "name": "python",
   "nbconvert_exporter": "python",
   "pygments_lexer": "ipython3",
   "version": "3.7.3"
  },
  "nteract": {
   "version": "0.15.0"
  }
 },
 "nbformat": 4,
 "nbformat_minor": 1
}
