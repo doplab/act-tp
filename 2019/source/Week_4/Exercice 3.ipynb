{
 "cells": [
  {
   "cell_type": "markdown",
   "metadata": {},
   "source": [
    "# Exercice 3 - Modulo Operator (Python)\n",
    "\n",
    "# Théorie\n",
    "\n",
    "Il arrive fréquemment en algorithmique que nous nous intéressons au reste d'une division euclidienne (ou division entière). Pour cela il existe l’opérateur modulo (ou mod, avec le symbole « % ») qui a pour résultat le reste de la division. \n",
    "\n",
    "Par exemple le résultat de 5 mod 2 est 1. Le résultat de la division euclidienne correspondante, 5 divisé par 2, est 2 reste 1."
   ]
  },
  {
   "cell_type": "markdown",
   "metadata": {},
   "source": [
    "# Exercices\n",
    "\n",
    "## Calculatrice de durée \n",
    "\n",
    "Dans cet exercice nous vous demandons de créer une fonction avec comme input l'heure de départ ainsi que la durée d'un évènement. L'output de la fonction sera l'heure finale. Tous les inputs et l'output seront sous la forme d'un tuple comme cela : ( hh , mm )\n",
    "\n",
    "Astuce:\n",
    "En python pour obtenir le quotient de la division euclidienne, utilisez l’opérateur « // ». \n",
    "A.E 90 // 60 = 1 et 90 % 60 = 30"
   ]
  },
  {
   "cell_type": "code",
   "execution_count": null,
   "metadata": {},
   "outputs": [],
   "source": [
    "# Votre code ici:\n",
    "\n"
   ]
  },
  {
   "cell_type": "markdown",
   "metadata": {},
   "source": [
    "## Vérifiez si un nombre est premier\n",
    "\n",
    "Un nombre premier est un entier naturel qui a pour diviseurs 1 et lui-même. Par exemple, le nombre entier 7 est premier car 1 et 7 sont les seuls diviseurs entiers de 7.\n",
    "\n",
    "On vous demande de créer une fonction qui vérifie si un nombre est entier et de retourner un booléen, True or False. \n",
    "\n",
    "Astuces:\n",
    "Pour un nombre N il n'est pas nécessaire de tester les diviseurs au-dessus de N/2.\n",
    "Pensez à utiliser l'expression \"Break\" "
   ]
  },
  {
   "cell_type": "code",
   "execution_count": 55,
   "metadata": {},
   "outputs": [],
   "source": [
    "# Votre code ici:\n",
    "\n"
   ]
  }
 ],
 "metadata": {
  "kernelspec": {
   "display_name": "Python 3",
   "language": "python",
   "name": "python3"
  },
  "language_info": {
   "codemirror_mode": {
    "name": "ipython",
    "version": 3
   },
   "file_extension": ".py",
   "mimetype": "text/x-python",
   "name": "python",
   "nbconvert_exporter": "python",
   "pygments_lexer": "ipython3",
   "version": "3.7.3"
  }
 },
 "nbformat": 4,
 "nbformat_minor": 2
}
