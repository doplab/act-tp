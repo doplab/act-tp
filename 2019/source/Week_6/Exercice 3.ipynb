{
 "cells": [
  {
   "cell_type": "markdown",
   "metadata": {
    "nbgrader": {
     "grade": false,
     "grade_id": "cell-f52c139c568e6d36",
     "locked": true,
     "schema_version": 3,
     "solution": false,
     "task": false
    }
   },
   "source": [
    "# Exercice 3: Arbre de recherche binaire\n",
    "\n",
    "Un arbre de recherche binaire est une structure de donnée au même titre que les `listes`, `tuples`, `dictionnaires`, etc. Leur particularité est qu'au lieu d'ordonner les éléments les uns à la suite des autres, les arbres de recherche binaire enregistrent les valeurs de manière relationnelle.\n",
    "\n",
    "En effet, l'`arbre` est divisé en `branches` qui peuvent elles-même contenir deux `branches` (`enfants`) et ainsi de suite. Lorsqu'une branche n'a pas de branches subséquentes (`enfants`), on parle de `feuille`.\n",
    "\n",
    "Les `branches` peuvent donc contenir de 0 à 2 autres `branches`. On parle alors de la `branche` à `gauche` et de celle à `droite`. La `branche` de `gauche` est forcément plus petite que la `branche parente` et celle de `droite` est forcément plus grande. \n",
    "\n",
    "De cette façon, on garantit que l'arbre est toujours ordonné même en rajoutant ou en retirant des éléments\n",
    "\n",
    "<img src=\"https://upload.wikimedia.org/wikipedia/commons/thumb/d/da/Binary_search_tree.svg/200px-Binary_search_tree.svg.png\" />"
   ]
  },
  {
   "cell_type": "markdown",
   "metadata": {
    "nbgrader": {
     "grade": false,
     "grade_id": "cell-f80209f8b2e8af91",
     "locked": true,
     "schema_version": 3,
     "solution": false,
     "task": false
    }
   },
   "source": [
    "## Exercice:\n",
    "\n",
    "Dans l'exercice suivant nous vous donnons un arbre binaire avec les mêmes valeur que le schéma précédent et dont la racine est la variable `root`.\n",
    "\n",
    "Ecrivez une fonction qui retourne `True` si la valeur `valeur` est dans l'arbre et `False`, sinon. Vous pouvez utiliser la variable `value` pour afficher la valeur d'une `node` et les variables `left` et `right` sur les `nodes` pour accèder aux branches enfantes, `node.value` `node.left` et `node.right`.\n",
    "\n",
    "***Indice:*** Utilisez une fonction récursive"
   ]
  },
  {
   "cell_type": "code",
   "execution_count": 1,
   "metadata": {},
   "outputs": [],
   "source": [
    "def tree_search(node, value):\n",
    "    # Votre réponse ici"
   ]
  },
  {
   "cell_type": "code",
   "execution_count": 13,
   "metadata": {
    "nbgrader": {
     "grade": false,
     "grade_id": "cell-852f08dac2263921",
     "locked": true,
     "schema_version": 3,
     "solution": false,
     "task": false
    }
   },
   "outputs": [
    {
     "name": "stdout",
     "output_type": "stream",
     "text": [
      "Bonne réponse avec le premier arbre\n",
      "Bonne réponse avec le deuxième arbre\n"
     ]
    }
   ],
   "source": [
    "import sys\n",
    "import traceback\n",
    "from Arbre import Arbre\n",
    "\n",
    "def handle_error():\n",
    "    _, _, tb = sys.exc_info()\n",
    "    traceback.print_tb(tb) # Fixed format\n",
    "    tb_info = traceback.extract_tb(tb)\n",
    "    filename, line, func, text = tb_info[-1]\n",
    "    print('An error occurred on line {} in statement {}'.format(line, text))\n",
    "\n",
    "try:\n",
    "    tree = Arbre(8, 3, 1, 6, 4, 7, 10, 14, 13)\n",
    "    root = tree.root\n",
    "    assert tree_search(root, 10) == True # devrait trouver\n",
    "    assert tree_search(root, 14) == True # devrait trouver\n",
    "    assert tree_search(root, 4) == True # devrait trouver\n",
    "    assert tree_search(root, 7) == True # devrait trouver\n",
    "    assert tree_search(root, 18) == False # ne devrait pas trouver\n",
    "    assert tree_search(root, 21) == False # ne devrait pas trouver\n",
    "    assert tree_search(root, 23) == False # ne devrait pas trouver\n",
    "    assert tree_search(root, 180) == False # ne devrait pas trouver\n",
    "    print(\"Bonne réponse avec le premier arbre\")\n",
    "except AssertionError:\n",
    "    handle_error()\n",
    "    print(\"Mauvaise réponse\")\n",
    "    \n",
    "try:\n",
    "    tree = Arbre(1, 3, 9, 6, 14, -17, 110, 124, 13, -1, 9, 1, 40, -98, 120, 23, 33, 10, 65, 97)\n",
    "    root = tree.root\n",
    "    assert tree_search(root, -98) == True # devrait trouver\n",
    "    assert tree_search(root, 120) == True # devrait trouver\n",
    "    assert tree_search(root, 97) == True # devrait trouver\n",
    "    assert tree_search(root, 110) == True # devrait trouver\n",
    "    assert tree_search(root, 39) == False # ne devrait pas trouver\n",
    "    assert tree_search(root, 18) == False # ne devrait pas trouver\n",
    "    assert tree_search(root, 21) == False # ne devrait pas trouver\n",
    "    assert tree_search(root, 2) == False # ne devrait pas trouver\n",
    "    assert tree_search(root, 180) == False # ne devrait pas trouver\n",
    "    print(\"Bonne réponse avec le deuxième arbre\")\n",
    "except AssertionError as err:\n",
    "    handle_error()\n",
    "    print(\"Mauvaise réponse\")"
   ]
  }
 ],
 "metadata": {
  "celltoolbar": "Create Assignment",
  "kernelspec": {
   "display_name": "Python 3",
   "language": "python",
   "name": "python3"
  },
  "language_info": {
   "codemirror_mode": {
    "name": "ipython",
    "version": 3
   },
   "file_extension": ".py",
   "mimetype": "text/x-python",
   "name": "python",
   "nbconvert_exporter": "python",
   "pygments_lexer": "ipython3",
   "version": "3.7.3"
  }
 },
 "nbformat": 4,
 "nbformat_minor": 2
}
