{
 "cells": [
  {
   "cell_type": "markdown",
   "metadata": {
    "colab_type": "text",
    "id": "ls6r45_v4Abs",
    "nbgrader": {
     "grade": false,
     "grade_id": "cell-3bcbfcb4cb27a044",
     "locked": true,
     "schema_version": 3,
     "solution": false,
     "task": false
    }
   },
   "source": [
    "## Exercice 1: Recherche séquentielle\n",
    "\n",
    "Une recherche séquentielle scanne un élément après l'autre, de gauche à droite, pour trouver un élément x dans un tuple, une liste ou un dictionnaire. \n",
    "\n",
    "Le but est de comparer x à chaque élément de la liste et de retourner l'index de l'élément correspondant à x.\n",
    "\n",
    "Sa complexité dans le pire des cas est de O(n) et dans le meilleur des cas de O(1). \n",
    "\n",
    "### Partie A: \n",
    "\n",
    "A partir de la liste d'éléments ci-dessous, écrivez une fonction qui cherche x dans la liste. La fonction doit retourner l'index de l'élément correspondant de la liste si x est dans la liste et \"-1\" dans le cas contraire. Ici, x = 100. "
   ]
  },
  {
   "cell_type": "code",
   "execution_count": 33,
   "metadata": {
    "colab": {
     "base_uri": "https://localhost:8080/",
     "height": 51
    },
    "colab_type": "code",
    "id": "CKHPCuFV4JEv",
    "outputId": "cf2c9126-2b91-4578-d3e4-f0e5f7e56c9e"
   },
   "outputs": [
    {
     "name": "stdout",
     "output_type": "stream",
     "text": [
      "X present in list at index:  18\n"
     ]
    },
    {
     "data": {
      "text/plain": [
       "18"
      ]
     },
     "execution_count": 33,
     "metadata": {
      "tags": []
     },
     "output_type": "execute_result"
    }
   ],
   "source": [
    "def seq_search(list, x):\n",
    "    #complètez ici"
   ]
  },
  {
   "cell_type": "code",
   "execution_count": null,
   "metadata": {
    "nbgrader": {
     "grade": false,
     "grade_id": "cell-834b215488f24798",
     "locked": true,
     "schema_version": 3,
     "solution": false,
     "task": false
    }
   },
   "outputs": [],
   "source": [
    "liste = [3,55,6,8,3,5,56,33,6,5,3,2,99,53,532,75,21,963,100,445,56,45,12,56,24]\n",
    "x = 100\n",
    "seq_search(liste, x)"
   ]
  },
  {
   "cell_type": "code",
   "execution_count": 36,
   "metadata": {
    "colab": {
     "base_uri": "https://localhost:8080/",
     "height": 85
    },
    "colab_type": "code",
    "id": "mFkLvqb9dDS5",
    "nbgrader": {
     "grade": false,
     "grade_id": "cell-e7480961e61043e8",
     "locked": true,
     "schema_version": 3,
     "solution": false,
     "task": false
    },
    "outputId": "72d5c85f-10be-41ed-8504-29d83272d557"
   },
   "outputs": [
    {
     "name": "stdout",
     "output_type": "stream",
     "text": [
      "X present in list at index:  18\n",
      "18\n",
      "CPU times: user 159 µs, sys: 0 ns, total: 159 µs\n",
      "Wall time: 165 µs\n"
     ]
    }
   ],
   "source": [
    "%%time \n",
    "print(seq_search(liste, x))"
   ]
  },
  {
   "cell_type": "markdown",
   "metadata": {
    "colab_type": "text",
    "id": "RF8Q1z7i4Mbs",
    "nbgrader": {
     "grade": false,
     "grade_id": "cell-ecd224b4dd3278da",
     "locked": true,
     "schema_version": 3,
     "solution": false,
     "task": false
    }
   },
   "source": [
    "Dans la pratique, l'algorithme de recherche séquentielle n'est pas souvent utilisé en vue de sa complexité élevée et des alternatives de recherche plus efficaces comme la recherche binaire. "
   ]
  },
  {
   "cell_type": "markdown",
   "metadata": {
    "colab_type": "text",
    "id": "CzH56zx2R4IJ",
    "nbgrader": {
     "grade": false,
     "grade_id": "cell-678d7770a760deed",
     "locked": true,
     "schema_version": 3,
     "solution": false,
     "task": false
    }
   },
   "source": [
    "### Partie B:\n",
    "\n",
    "Considérez une liste d’entiers non triée `L` ainsi qu’un entier `e`. Ecrivez un programme qui retourne l'élément de la liste L le plus proche de `e` en utilisant une recherche séquentielle.\n",
    "\n",
    "Exemple : \n",
    "\n",
    "    L = [1, 2, 5, 8, 12, 16, 24, 56, 58, 63] \n",
    "\n",
    "    e = 41\n",
    "\n",
    "Résultat attendu : 56"
   ]
  },
  {
   "cell_type": "code",
   "execution_count": 37,
   "metadata": {
    "colab": {
     "base_uri": "https://localhost:8080/",
     "height": 34
    },
    "colab_type": "code",
    "id": "k3aVRSArS8Du",
    "outputId": "d7fbb59f-ac59-4c68-fc0f-28f7f3b8cab8"
   },
   "outputs": [
    {
     "data": {
      "text/plain": [
       "56"
      ]
     },
     "execution_count": 37,
     "metadata": {
      "tags": []
     },
     "output_type": "execute_result"
    }
   ],
   "source": [
    "def find_closest_seq(list,n): #calcul diff avec tout element et n\n",
    "    diff = None #initialisation\n",
    "    resultat = None\n",
    "    #complètez ici\n"
   ]
  },
  {
   "cell_type": "code",
   "execution_count": null,
   "metadata": {
    "nbgrader": {
     "grade": false,
     "grade_id": "cell-094a6bb1c1fff59e",
     "locked": true,
     "schema_version": 3,
     "solution": false,
     "task": false
    }
   },
   "outputs": [],
   "source": [
    "L = [1, 2, 5, 8, 12, 16, 24, 56, 58, 63] \n",
    "e = 41\n",
    "\n",
    "find_closest_seq(L,e)"
   ]
  },
  {
   "cell_type": "code",
   "execution_count": 38,
   "metadata": {
    "colab": {
     "base_uri": "https://localhost:8080/",
     "height": 68
    },
    "colab_type": "code",
    "id": "GaXBj0HxdT5U",
    "nbgrader": {
     "grade": false,
     "grade_id": "cell-25b287b962eefa6f",
     "locked": true,
     "schema_version": 3,
     "solution": false,
     "task": false
    },
    "outputId": "b39c4586-9961-47ca-ca0d-68f3e706c3f3"
   },
   "outputs": [
    {
     "name": "stdout",
     "output_type": "stream",
     "text": [
      "56\n",
      "CPU times: user 349 µs, sys: 1 ms, total: 1.35 ms\n",
      "Wall time: 1.39 ms\n"
     ]
    }
   ],
   "source": [
    "%%time \n",
    "print(find_closest_seq(L,e))"
   ]
  },
  {
   "cell_type": "markdown",
   "metadata": {
    "colab_type": "text",
    "id": "eV41YFweaA06",
    "nbgrader": {
     "grade": false,
     "grade_id": "cell-77c2903d9f8d9844",
     "locked": true,
     "schema_version": 3,
     "solution": false,
     "task": false
    }
   },
   "source": [
    "### Partie C:\n",
    "\n",
    "Considérez une liste d’entiers triés `L` ainsi qu’un entier `e`. Ecrivez un programme qui retourne l'index de l'élément `e` de la liste L en utilisant une recherche séquentielle. Si `e` n’est pas dans `L`, retournez -1.\n",
    "\n",
    "Exemple:\n",
    "\n",
    "    L = [1231321,3213125,3284016,4729273,5492710] \n",
    "\n",
    "    e = 3284016\n",
    "\n",
    "Résultat attendu: 2"
   ]
  },
  {
   "cell_type": "code",
   "execution_count": 39,
   "metadata": {
    "colab": {
     "base_uri": "https://localhost:8080/",
     "height": 34
    },
    "colab_type": "code",
    "id": "PmkWbINeazYQ",
    "outputId": "dc12452a-e857-4643-b579-5ab91fea9c35"
   },
   "outputs": [
    {
     "data": {
      "text/plain": [
       "2"
      ]
     },
     "execution_count": 39,
     "metadata": {
      "tags": []
     },
     "output_type": "execute_result"
    }
   ],
   "source": [
    "def linear_search(L,e):\n",
    "    for index, elem in enumerate(L):\n",
    "    #complètez ici      "
   ]
  },
  {
   "cell_type": "code",
   "execution_count": null,
   "metadata": {
    "nbgrader": {
     "grade": false,
     "grade_id": "cell-b3731b666ff557af",
     "locked": true,
     "schema_version": 3,
     "solution": false,
     "task": false
    }
   },
   "outputs": [],
   "source": [
    "L = [1231321,3213125,3284016,4729273,5492710]\n",
    "e = 3284016\n",
    "linear_search(L,e)"
   ]
  },
  {
   "cell_type": "code",
   "execution_count": 40,
   "metadata": {
    "colab": {
     "base_uri": "https://localhost:8080/",
     "height": 68
    },
    "colab_type": "code",
    "id": "MYUURcGldZnX",
    "nbgrader": {
     "grade": false,
     "grade_id": "cell-6ef04204f61110fe",
     "locked": true,
     "schema_version": 3,
     "solution": false,
     "task": false
    },
    "outputId": "21b50d31-83d6-46cc-c0da-a2423a3a0815"
   },
   "outputs": [
    {
     "name": "stdout",
     "output_type": "stream",
     "text": [
      "2\n",
      "CPU times: user 898 µs, sys: 1 µs, total: 899 µs\n",
      "Wall time: 635 µs\n"
     ]
    }
   ],
   "source": [
    "%%time\n",
    "print(linear_search(L,e))"
   ]
  }
 ],
 "metadata": {
  "celltoolbar": "Create Assignment",
  "colab": {
   "collapsed_sections": [],
   "name": "Week6exos.ipynb",
   "provenance": []
  },
  "kernel_info": {
   "name": "python3"
  },
  "kernelspec": {
   "display_name": "Python 3",
   "language": "python",
   "name": "python3"
  },
  "language_info": {
   "codemirror_mode": {
    "name": "ipython",
    "version": 3
   },
   "file_extension": ".py",
   "mimetype": "text/x-python",
   "name": "python",
   "nbconvert_exporter": "python",
   "pygments_lexer": "ipython3",
   "version": "3.7.3"
  },
  "nteract": {
   "version": "0.15.0"
  }
 },
 "nbformat": 4,
 "nbformat_minor": 1
}
