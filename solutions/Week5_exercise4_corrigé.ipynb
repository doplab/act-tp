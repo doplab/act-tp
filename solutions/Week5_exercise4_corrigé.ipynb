{
  "cells": [
    {
      "cell_type": "markdown",
      "source": [
        "# Algorithmique et Pensée Computationnelle"
      ],
      "metadata": {}
    },
    {
      "cell_type": "markdown",
      "source": [
        "# ACT Week 5 \n",
        "\n",
        "## Exercise 4\n",
        "\n",
        "##  Problème 1 : Exprimer des dates\n",
        "\n",
        "Ecrivez un programme python pour aider le videur du XIIIème siècle à calculer l'age des étudiants voulant entrer dans le bar. Le programme doit contrôler si un étudiant peut rentrer ou pas (minimum 18 ans) selon sa date de naissance. Le programme doit faire la conversion requise pour que les inputs de l'utilisateur soient perçus comme des nombres entiers. Assumez que toutes les années ont 365 jours. Le programme doit affiché à la fin \"Old enough\" ou \"too young\". Les inputs suivant seraient demandés à l'utilisateurs:\n",
        "\n",
        "`Enter the student birthday:`\n",
        "`Year:`\n",
        "`Month:`\n",
        "`Day:`"
      ],
      "metadata": {
        "deletable": false,
        "editable": false,
        "nbgrader": {
          "cell_type": "markdown",
          "checksum": "6254fa0c0f6d88a4f382903e6aae339e",
          "grade": false,
          "grade_id": "cell-f81f4091c4b75f86",
          "locked": true,
          "schema_version": 3,
          "solution": false,
          "task": false
        }
      }
    },
    {
      "cell_type": "code",
      "source": [
        "from datetime import date #import datetime aussi possible\n",
        "#ajouter un print ici, puis complètez le code ci-dessous\n",
        "year = int(input(\"Enter a year:\"))\n",
        "month = int(input(\"Enter a month:\"))\n",
        "day = int(input(\"Enter a day:\"))\n",
        "today = date.today() #par défaut sous format \"année-mois-jours\"\n",
        "birthday = date(year, month, day)\n",
        "age = today-birthday\n",
        "if (age.days/365)>=18: #pour age en jours\n",
        "    print(\"Old enough\")\n",
        "else:\n",
        "    print(\"too young\")"
      ],
      "outputs": [
        {
          "output_type": "stream",
          "name": "stdout",
          "text": [
            "Enter a year:1996\n",
            "Enter a month:09\n",
            "Enter a day:03\n",
            "Old enough\n"
          ]
        }
      ],
      "execution_count": 5,
      "metadata": {}
    },
    {
      "cell_type": "markdown",
      "source": [
        "Veuillez porter attention à la manière dans le package `datetime` est importé pour pouvoir utiliser la méthode `today()` et `date`. Il est également intéressant de voir qu'on peut convertir `age` en jours pour résoudre le problème. "
      ],
      "metadata": {}
    },
    {
      "cell_type": "markdown",
      "source": [
        "## Problème 2 : Discriminant \n",
        "\n",
        "Ecrivez un programme python pour trouver les racines d'une équation de 2ème degré (aX^2 + bX + c) en utilisant le discriminant. \n",
        "\n",
        "Le discriminant (∆ = b^2 − 4ac) dérivé des coefficients determine le type de racines: \n",
        "- Si le discriminant est égal à 0, l'équation a une racine (x = -b/2a)\n",
        "- Si le discriminant est supérieur à 0, l'équation a deux racines (x = (-b ± √∆)/2a)\n",
        "- Si le discriminant est inférieur à 0, l'équation n'a aucune racine.\n",
        "\n",
        "Pensez à importer le module `math` pour utiliser le `math.sqrt()`: \n",
        "\n",
        "> `from math import sqrt` est plus ou moins équivalant à `ìmport math` sauf que l'appel de la méthode se fait autrement. Dans le premier cas, vous devez appeler uniquement `sqrt()` alors que dans le deuxième cas vous devez toujours mentionner le module comme `math.sqrt()`.\n"
      ],
      "metadata": {
        "deletable": false,
        "editable": false,
        "nbgrader": {
          "cell_type": "markdown",
          "checksum": "2d1822a21447f02916cef9d4a514721e",
          "grade": false,
          "grade_id": "cell-24742672b8591cb7",
          "locked": true,
          "schema_version": 3,
          "solution": false,
          "task": false
        }
      }
    },
    {
      "cell_type": "code",
      "source": [
        "#importer le module nécessaire ici, puis complètez le code ci-dessous\n",
        "from math import sqrt #import math aussi possible\n",
        "a = float(input(\"Enter a: \"))\n",
        "b = float(input(\"Enter b: \"))\n",
        "c = float(input(\"Enter c: \"))\n",
        "discriminant = b**2-4*a*c\n",
        "if discriminant > 0:\n",
        "    num_roots = 2\n",
        "    x1 = (((-b)+sqrt(discriminant))/(2*a))\n",
        "    x2 = (((-b)-sqrt(discriminant))/(2*a))\n",
        "    print(\"2 roots: %f and %f\"%(x1, x2))\n",
        "\n",
        "elif discriminant == 0:\n",
        "    num_roots = 1\n",
        "    x = ((-b)/(2*a))\n",
        "    print(\"1 roots: %f\"%(x))\n",
        "\n",
        "else:\n",
        "    num_roots = 0\n",
        "    print(\"No roots\")\n",
        "    exit() #sort \"process finished with exit code\" mais pas obligatoire\n"
      ],
      "outputs": [
        {
          "output_type": "stream",
          "name": "stdout",
          "text": [
            "Enter a: 10\n",
            "Enter b: 20\n",
            "Enter c: 5\n",
            "2 roots: -0.292893 and -1.707107\n"
          ]
        }
      ],
      "execution_count": 6,
      "metadata": {}
    },
    {
      "cell_type": "markdown",
      "source": [
        "## Problème 3 : Gestion stock\n",
        "\n",
        "Cet exercice, divisé en plusieurs parties, consiste à mettre en place un système qui permet à une petite boulangerie de gérer son stock.\n",
        "\n",
        "Nous avons déjà créé pour vous un système qui demande répétitivement un `sales keywords` au boulanger (afin que le boulanger puisse interagir avec le système). Ainsi, si le boulanger entre `exit`, le programme doit se terminer. Sinon, le programme doit demander un autre `sales keywords` (voir les lignes du code ci-dessous correspondantes).\n",
        "\n",
        "Nous avons également défini un dictionnaire nommé `stock` contenant le nombre de sandwichs disponibles selon leur type. \n",
        "\n",
        "#### Partie A\n",
        "\n",
        "Vous devez ajouter maintenant une fonctionnalité qui permet au boulanger de gérer son stock avec une boucle `while`. Ainsi, lorsque le boulanger entre un `sales keywords`, il y a trois cas de figure :\n",
        "\n",
        "1. Il entre le nom d’un sandwich (`saumon`, `salami` ou `fromage`) qui est en stock => le programme réduit le `stock` d’une unité\n",
        "2. Il entre le nom d’un sandwich mais il n’est plus en stock => le programme affiche « out-of-stock »\n",
        "3. Le `sales keywords` ne correspond pas au nom d’un sandwich => le programme affiche « invalid input »\n",
        "\n",
        "#### Partie B\n",
        "\n",
        "Ajoutez une fonctionnalité qui permet, lorsque le boulanger entre `stock`, d’afficher l’état du stock pour chaque sandwich.\n",
        "\n",
        "#### Partie C\n",
        "\n",
        "Ajoutez une fonctionnalité qui permet, lorsque le boulanger entre `analytics` d’afficher l’ordre dans lequel les sandwichs ont été vendus. Vous pouvez créer une liste vide `historySandwich` à laquelle chaque fois qu'un sandwich est vendu, le type du sandwich est ajouté.\n",
        "    "
      ],
      "metadata": {
        "deletable": false,
        "editable": false,
        "nbgrader": {
          "cell_type": "markdown",
          "checksum": "b0ea281a6f0499bba980dbf54e46a586",
          "grade": false,
          "grade_id": "cell-2869b71fe6895eac",
          "locked": true,
          "schema_version": 3,
          "solution": false,
          "task": false
        }
      }
    },
    {
      "cell_type": "code",
      "source": [
        "inputUser = ''  \n",
        "stock = {\"salami\": 3, \"saumon\": 3, \"cheese\":3,}\n",
        "# complètez le code ici\n",
        "historySandwichsold =[]\n",
        "while inputUser != 'exit':\n",
        "    inputUser = input(\"sales keywords: \") \n",
        "    if inputUser in stock.keys():  # if s'execute une fois while s'execute tant que c'est vrai\n",
        "        if stock[inputUser]>0:\n",
        "            stock[inputUser]-=1\n",
        "            historySandwichsold.append(inputUser) #ajout dans la liste\n",
        "        else:\n",
        "            print(\"Out-of-order\")\n",
        "    elif inputUser ==\"stock\":\n",
        "        for type_sandwich in stock.keys():\n",
        "            print(\"{0}:{1}\".format(type_sandwich,stock[type_sandwich])) #sort la clé et la valeur\n",
        "    elif inputUser ==\"analytics\":\n",
        "        print(\"Today,sales order: \")\n",
        "        for sandwich_sold in historySandwichsold:\n",
        "            print(sandwich_sold) #plusieurs lignes\n",
        "    elif inputUser == \"exit\":\n",
        "        exit()\n",
        "    else:\n",
        "        print(\"invalid input\") #au moins un des cas doit correspondre au if, elif, else\n",
        "        \n",
        "        \n",
        "            \n"
      ],
      "outputs": [
        {
          "output_type": "stream",
          "name": "stdout",
          "text": [
            "sales keywords: salami\n",
            "sales keywords: exit\n"
          ]
        },
        {
          "output_type": "stream",
          "name": "stderr",
          "text": [
            "ERROR:root:Invalid alias: The name clear can't be aliased because it is another magic command.\n",
            "ERROR:root:Invalid alias: The name more can't be aliased because it is another magic command.\n",
            "ERROR:root:Invalid alias: The name less can't be aliased because it is another magic command.\n",
            "ERROR:root:Invalid alias: The name man can't be aliased because it is another magic command.\n"
          ]
        }
      ],
      "execution_count": 1,
      "metadata": {}
    },
    {
      "cell_type": "markdown",
      "source": [
        "## Problème 4 : Bubble sort\n",
        "\n",
        "Implémentez l’algorithme « Bubble sort » en vous aidant du descriptif ci-dessous: \n",
        "\n",
        "“Le principe de l'algorithme du tri à bulles est très simple à assimiler. Il est, et de loin, l'un des algorithmes de tri les plus simples qui soient.\n",
        "Pour vous expliquer le principe, je vais d'abord vous donner une courte explication écrite puis nous allons concrètement trier une liste de nombres.\n",
        "Le principe du tri à bulles est de comparer deux valeurs adjacentes et d'inverser leur position si elles sont mal placées. Alors, qu'entend-t-on par \"mal placé\" ? C'est très simple et surtout, c'est logique : si un premier nombre x est plus grand qu'un deuxième nombre y et que l'on souhaite trier l'ensemble par ordre croissant, alors x et y sont mal placés et il faut les inverser. Si, au contraire, x est plus petit que y, alors on ne fait rien et l'on compare y à z, l'élément suivant. C'est donc itératif. Et on parcourt ainsi la liste jusqu'à ce qu'on ait réalisé n-1 passages (n représentant le nombre de valeurs à trier) ou jusqu'à ce qu'il n'y ait plus rien à inverser lors du dernier passage.\n",
        "Avec de la logique, on s'aperçoit qu'au premier passage, on place le plus grand élément de la liste au bout du tableau, au bon emplacement. Pour le passage suivant, nous ne sommes donc plus obligés de faire une comparaison avec le dernière élément ; et c'est bien plus avantageux ainsi. Donc à chaque passage, le nombre de valeurs à comparer diminue de 1.”"
      ],
      "metadata": {
        "deletable": false,
        "editable": false,
        "nbgrader": {
          "cell_type": "markdown",
          "checksum": "dd1e4818a2fe4f4518e4bc6b13404f43",
          "grade": false,
          "grade_id": "cell-38b1337c84c369f2",
          "locked": true,
          "schema_version": 3,
          "solution": false,
          "task": false
        }
      }
    },
    {
      "cell_type": "markdown",
      "source": [
        "source : https://openclassrooms.com/fr/courses/1160591-le-tri-a-bulles"
      ],
      "metadata": {
        "deletable": false,
        "editable": false,
        "nbgrader": {
          "cell_type": "markdown",
          "checksum": "478b3e10859381441cc314111a4b0b63",
          "grade": false,
          "grade_id": "cell-aaf3c6ce28f55e4d",
          "locked": true,
          "schema_version": 3,
          "solution": false,
          "task": false
        }
      }
    },
    {
      "cell_type": "code",
      "source": [
        "liste = [1,7,4,-2,10,36,-6,97]\n",
        "count = 0\n",
        "while count != len(liste)-1: \n",
        "    count = 0\n",
        "    # complètez le code ici\n",
        "    for i in range (0,len(liste)-1):\n",
        "        if liste[i]>liste[i+1]:\n",
        "            (liste[i], liste[i+1]) =  (liste[i+1], liste[i])\n",
        "    for i in range (0,len(liste)-1):\n",
        "        if liste[i]<liste[i+1]:\n",
        "            count += 1 # pour savoir quand terminer, 7 comparaisons nécessaires pour avoir tout juste\n",
        "    \n",
        "print(liste)\n",
        "\n",
        "# le plus lent des algos en termes de rapidité et de nombres d'échanges ou comparaisons\n",
        "# n(n-1)/4 opérations pour n valeurs à trier\n",
        "#O(n^2) -> quadratique pour bubble sort\n",
        "# O(nlog2 (n)) pour merge sort"
      ],
      "outputs": [
        {
          "output_type": "stream",
          "name": "stdout",
          "text": [
            "[-6, -2, 1, 4, 7, 10, 36, 97]\n"
          ]
        }
      ],
      "execution_count": 4,
      "metadata": {}
    },
    {
      "cell_type": "markdown",
      "source": [
        "## Problème 5 : Selection sort et recursion\n",
        "\n",
        "Implémentez l’algorithme de « selection sort » en vous aidant du descriptif ci-dessous :\n",
        "\n",
        "- Imaginez deux listes: La liste A contient des éléments entiers en désordre et la liste B est une liste vide\n",
        "- Scannez la liste A à la recherche du plus petit élément. Supprimez cet élément de la liste A et insérez le à la fin de la liste B.\n",
        "- Répétez l’étape ci-dessus jusqu’à ce que A soit vide."
      ],
      "metadata": {
        "deletable": false,
        "editable": false,
        "nbgrader": {
          "cell_type": "markdown",
          "checksum": "d849d08037b8a47fd901941b7c1bb7b9",
          "grade": false,
          "grade_id": "cell-c626c07211512d93",
          "locked": true,
          "schema_version": 3,
          "solution": false,
          "task": false
        }
      }
    },
    {
      "cell_type": "code",
      "source": [
        "def select_sort(l,index):\n",
        "    min_liste = l[index]\n",
        "    # complèter la fonction ici\n",
        "    for i in range (index,len(l)-1):\n",
        "        if min_liste > l[i+1]:\n",
        "            min_liste = l[i+1]\n",
        "    l.remove(min_liste)\n",
        "    l.insert(0,min_liste)\n",
        "    index += 1\n",
        "    if index < len(l):\n",
        "        select_sort(l,index)\n",
        "    else:\n",
        "        print(l)\n",
        "    \n",
        "    \n",
        "l = [3,5,6,9,-35,-7, 47]\n",
        "select_sort(l,0)"
      ],
      "outputs": [
        {
          "output_type": "stream",
          "name": "stdout",
          "text": [
            "[47, 9, 6, 5, 3, -7, -35]\n"
          ]
        }
      ],
      "execution_count": 7,
      "metadata": {}
    },
    {
      "cell_type": "markdown",
      "source": [
        "## Problème 6 : Merge Sort\n",
        "\n",
        "(On l'appelle **Tri Fusion** en français)\n",
        "\n",
        "Implémentez l'algorithme de **merge sort**. Les pas de l'algorithme sont comme suit [1]:\n",
        "\n",
        "1. Si le tableau n'a qu'un élément, il est déjà trié.\n",
        "2. Sinon, séparer le tableau en deux parties à peu près égales.\n",
        "3. Trier récursivement les deux parties avec l'algorithme du tri fusion.\n",
        "4. Fusionner les deux tableaux triés en un seul tableau trié.\n",
        "\n",
        "[1] : https://fr.wikipedia.org/wiki/Tri_fusion"
      ],
      "metadata": {
        "deletable": false,
        "editable": false,
        "nbgrader": {
          "cell_type": "markdown",
          "checksum": "0bf1f6b6cbf6cb365fa0fc82962cb59b",
          "grade": false,
          "grade_id": "cell-a771af8711e40983",
          "locked": true,
          "schema_version": 3,
          "solution": false,
          "task": false
        }
      }
    },
    {
      "cell_type": "code",
      "source": [
        "def merge_sort(la_liste):\n",
        "    # complèter la fonction\n",
        "    longueur = len(la_liste)   # calculer la longueur de la liste\n",
        "    # s'il n'y a pas plus d'un élément, retourner la liste\n",
        "    if longueur == 1 or longueur == 0:\n",
        "        return la_liste\n",
        "    # sinon, diviser la liste en deux\n",
        "    elif longueur > 1:\n",
        "        index_milieu = int(longueur / 2)   # convertir la variable en nombre entier (l'index ne peut pas être un nombre à virgule)\n",
        "        partie_gauche = la_liste[0:index_milieu]   # la partie gauche va du 1er élément à celui du milieu\n",
        "        partie_droite = la_liste[index_milieu:longueur]   # la partie droite va du milieu à la fin de la liste\n",
        "        \n",
        "        partie_gauche_triee = merge_sort(partie_gauche)   # appeler la fonction merge_sort à nouveau sur la partie gauche (récursivité)\n",
        "        partie_droite_triee = merge_sort(partie_droite)   # même chose pour la partie droite\n",
        "        \n",
        "        liste_fusionnee = merge(partie_gauche_triee, partie_droite_triee)   # enfin, joindre les 2 parties\n",
        "        \n",
        "        return liste_fusionnee   # retourner le résultat\n",
        "    "
      ],
      "outputs": [],
      "execution_count": 1,
      "metadata": {}
    },
    {
      "cell_type": "code",
      "source": [
        "def merge(partie_gauche, partie_droite):\n",
        "    liste_fusionnee = []   # créer la liste qui sera retournée à la fin\n",
        "    \n",
        "    compteur_gauche = 0   # définir un compteur pour l'index de la liste de gauche\n",
        "    compteur_droite = 0   # pareil pour la liste de droite\n",
        "    \n",
        "    longueur_gauche = len(partie_gauche)   # calculer la longueur de la partie gauche\n",
        "    longueur_droite = len(partie_droite)   # pareil pour la partie droite\n",
        "    \n",
        "    # continuer jusqu'à ce que l'un des index (ou les deux) atteigne l'une des longueurs (ou les deux)\n",
        "    while compteur_gauche < longueur_gauche and compteur_droite < longueur_droite:\n",
        "        # comparer les éléments actuels, ajouter le plus petit à la liste fusionnée \n",
        "        # et augmenter le compteur de cette liste\n",
        "        if partie_gauche[compteur_gauche] < partie_droite[compteur_droite]:\n",
        "            liste_fusionnee.append(partie_gauche[compteur_gauche])\n",
        "            compteur_gauche += 1\n",
        "        else:\n",
        "            liste_fusionnee.append(partie_droite[compteur_droite])\n",
        "            compteur_droite += 1\n",
        "    \n",
        "    # s'il y a encore des éléments dans les listes, il faut les ajouter à la liste fusionnée\n",
        "    liste_fusionnee += partie_gauche[compteur_gauche:longueur_gauche]\n",
        "    liste_fusionnee += partie_droite[compteur_droite:longueur_droite]\n",
        "    \n",
        "    return liste_fusionnee   # retourner la liste fusionnée"
      ],
      "outputs": [],
      "execution_count": 3,
      "metadata": {}
    },
    {
      "cell_type": "code",
      "source": [
        "print(merge_sort([38, 27, 43, 3, 9, 82, 10]))"
      ],
      "outputs": [
        {
          "output_type": "stream",
          "name": "stdout",
          "text": [
            "[3, 9, 10, 27, 38, 43, 82]\n"
          ]
        }
      ],
      "execution_count": 4,
      "metadata": {}
    },
    {
      "cell_type": "markdown",
      "source": [
        "* Cliquez sur le lien ci-dessous pour analyser le merge sort pas à pas.\n",
        "\n",
        "https://upload.wikimedia.org/wikipedia/commons/thumb/e/e6/Merge_sort_algorithm_diagram.svg/1024px-Merge_sort_algorithm_diagram.svg.png\n",
        "\n",
        "* Cliquez sur le lien suivant pour observer la performance de merge sort sur différents types de listes. \n",
        "\n",
        "https://www.toptal.com/developers/sorting-algorithms/merge-sort"
      ],
      "metadata": {}
    },
    {
      "cell_type": "code",
      "source": [],
      "outputs": [],
      "execution_count": null,
      "metadata": {}
    }
  ],
  "metadata": {
    "kernelspec": {
      "name": "python3",
      "language": "python",
      "display_name": "Python 3"
    },
    "language_info": {
      "codemirror_mode": {
        "name": "ipython",
        "version": 3
      },
      "file_extension": ".py",
      "mimetype": "text/x-python",
      "name": "python",
      "nbconvert_exporter": "python",
      "pygments_lexer": "ipython3",
      "version": "3.7.3"
    },
    "pycharm": {
      "stem_cell": {
        "cell_type": "raw",
        "metadata": {
          "collapsed": false
        },
        "source": []
      }
    },
    "toc": {
      "toc_position": {},
      "skip_h1_title": false,
      "number_sections": false,
      "title_cell": "Table of Contents",
      "toc_window_display": false,
      "base_numbering": 1,
      "toc_section_display": false,
      "title_sidebar": "Contents",
      "toc_cell": false,
      "nav_menu": {},
      "sideBar": false
    },
    "kernel_info": {
      "name": "python3"
    },
    "nteract": {
      "version": "0.15.0"
    }
  },
  "nbformat": 4,
  "nbformat_minor": 2
}