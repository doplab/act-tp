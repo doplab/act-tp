{
  "cells": [
    {
      "cell_type": "markdown",
      "source": [
        "# Algorithmique et Pensée Computationnelle"
      ],
      "metadata": {}
    },
    {
      "cell_type": "markdown",
      "source": [
        "## Exercice 2: Recherche binaire\n",
        "\n",
        "Le but de la recherche binaire est de trouver l'élément x plus rapidement.\n",
        "Pour cela, une **liste triée** d'éléments est nécessaire. \n",
        "\n",
        "La complexité de l'algorithme de recherche binaire est de O(log n) mais il ne faut pas oublier qu'obtenir une liste triée coûte aussi. \n",
        "\n",
        "L'algorithme de recherche binaire divise l'intervalle de recherche par deux à chaque coup jusqu'à ce qu'il trouve l'élément x ou que l'intervalle soit vide. \n",
        "\n",
        "Ainsi, si x est plus petit que l'élément du milieu de l'intervalle, l'algorithme se concentre sur la gauche pour créer son prochain intervalle de recherche sinon sur la droite.\n",
        "\n",
        "### Partie A:\n",
        "\n",
        "A partir de la liste d'éléments **triée** ci-dessous, écrivez premièrement une fonction **récursive** puis une fonction **itérative** qui cherche x dans la liste. La fonction doit retourner l'index de l'élément correspondant de la liste si x est dans la liste et \"-1\" dans le cas contraire. Ici, x = 5.\n"
      ],
      "metadata": {
        "colab_type": "text",
        "deletable": false,
        "editable": false,
        "id": "WnylxGt04Qc-",
        "nbgrader": {
          "cell_type": "markdown",
          "checksum": "5d396514a2cd27e339d91f2e36c1d4ea",
          "grade": false,
          "grade_id": "cell-82ddef937adea130",
          "locked": true,
          "schema_version": 3,
          "solution": false,
          "task": false
        }
      }
    },
    {
      "cell_type": "code",
      "source": [
        "# Version récursive\n",
        "def rec_bin_search(list,s,r,x): #s comme first index and r comme last index of list\n",
        "    #complètez ici\n",
        "    mid = int((s+r)/2) #int arrondi vers le bas\n",
        "    print(mid)\n",
        "    if list[mid] < x:\n",
        "        return rec_bin_search(list, mid, r, x) \n",
        "    elif list[mid] > x:\n",
        "        return rec_bin_search(list, s, mid, x)\n",
        "    elif list[mid] == x:\n",
        "        print(\"X in list at index: \", mid)\n",
        "        return mid \n",
        "    else:\n",
        "        print (\"X not in list\")\n",
        "        \n",
        "liste=[1,3,4,5,7,8,9,15]\n",
        "s = 0\n",
        "r = len(liste) #8 --> first mid = 4 -->\"7\" in liste --> 7>5 --> new mid = (0+4)/2 = 2, etc.\n",
        "x = 5\n",
        "rec_bin_search(liste,s, r, x)"
      ],
      "outputs": [
        {
          "output_type": "stream",
          "name": "stdout",
          "text": [
            "4\n",
            "2\n",
            "3\n",
            "X in list at index:  3\n"
          ]
        },
        {
          "output_type": "execute_result",
          "execution_count": 19,
          "data": {
            "text/plain": [
              "3"
            ]
          },
          "metadata": {}
        }
      ],
      "execution_count": 19,
      "metadata": {
        "colab": {
          "base_uri": "https://localhost:8080/",
          "height": 51
        },
        "colab_type": "code",
        "id": "8sLxBYjt4VAk",
        "outputId": "d161f216-c087-4a1e-d4f8-0d391ad5dd80"
      }
    },
    {
      "cell_type": "code",
      "source": [
        "liste=[1,3,4,5,7,8,9,15]\n",
        "s = 0\n",
        "r = len(liste)\n",
        "x = 5\n",
        "rec_bin_search(liste,s, r, x)"
      ],
      "outputs": [
        {
          "output_type": "stream",
          "name": "stdout",
          "text": [
            "X in list at index:  3\n"
          ]
        },
        {
          "output_type": "execute_result",
          "execution_count": 3,
          "data": {
            "text/plain": [
              "3"
            ]
          },
          "metadata": {}
        }
      ],
      "execution_count": 3,
      "metadata": {
        "deletable": false,
        "editable": false,
        "nbgrader": {
          "cell_type": "code",
          "checksum": "c21e5645bd71f41e10f733224531d9f0",
          "grade": false,
          "grade_id": "cell-d1585316575c1db4",
          "locked": true,
          "schema_version": 3,
          "solution": false,
          "task": false
        }
      }
    },
    {
      "cell_type": "code",
      "source": [
        "%%time\n",
        "print(rec_bin_search(liste,s, r, x))"
      ],
      "outputs": [
        {
          "output_type": "stream",
          "name": "stdout",
          "text": [
            "X in list at index:  3\n",
            "3\n",
            "CPU times: user 197 µs, sys: 70 µs, total: 267 µs\n",
            "Wall time: 226 µs\n"
          ]
        }
      ],
      "execution_count": 4,
      "metadata": {
        "colab": {
          "base_uri": "https://localhost:8080/",
          "height": 85
        },
        "colab_type": "code",
        "deletable": false,
        "editable": false,
        "id": "GzVj0DIFdhSw",
        "nbgrader": {
          "cell_type": "code",
          "checksum": "d63a2e5a0266bfacf27c110a27a4ca68",
          "grade": false,
          "grade_id": "cell-fe3fe6d60361b353",
          "locked": true,
          "schema_version": 3,
          "solution": false,
          "task": false
        },
        "outputId": "aafcbf56-ecaf-460d-832d-d3cb86e9d266"
      }
    },
    {
      "cell_type": "code",
      "source": [
        "# Version itérative\n",
        "def it_bin_search(list,s,r,x):\n",
        "    #complètez ici\n",
        "    while s <= r: \n",
        "        mid = int(s + (r-s)/2) \n",
        "        print(mid)\n",
        "        if list[mid] == x:\n",
        "            print(\"X presents in list at index: \", mid)\n",
        "            return mid\n",
        "        elif list[mid] < x: \n",
        "            s = mid+1\n",
        "        else:\n",
        "            r= mid-1\n",
        "    print(\"X not present in list\")\n",
        "    return -1\n",
        "liste = [1,3,4,5,7,8,9,15]\n",
        "s = 0\n",
        "r = len(liste)\n",
        "x = 15\n",
        "it_bin_search(liste,s, r, x)"
      ],
      "outputs": [
        {
          "output_type": "stream",
          "name": "stdout",
          "text": [
            "4\n",
            "6\n",
            "7\n",
            "X presents in list at index:  7\n"
          ]
        },
        {
          "output_type": "execute_result",
          "execution_count": 4,
          "data": {
            "text/plain": [
              "7"
            ]
          },
          "metadata": {}
        }
      ],
      "execution_count": 4,
      "metadata": {
        "colab": {
          "base_uri": "https://localhost:8080/",
          "height": 51
        },
        "colab_type": "code",
        "id": "wJfYd6Zo4YjE",
        "outputId": "87e9ee73-b517-4b4d-eb4b-8a2a24cef627"
      }
    },
    {
      "cell_type": "code",
      "source": [
        "liste = [1,3,4,5,7,8,9,15]\n",
        "s = 0\n",
        "r = len(liste)-1\n",
        "x = 7\n",
        "it_bin_search(liste,s, r, x)"
      ],
      "outputs": [
        {
          "output_type": "stream",
          "name": "stdout",
          "text": [
            "X presents in list at index:  4\n"
          ]
        },
        {
          "output_type": "execute_result",
          "execution_count": 6,
          "data": {
            "text/plain": [
              "4"
            ]
          },
          "metadata": {}
        }
      ],
      "execution_count": 6,
      "metadata": {
        "deletable": false,
        "editable": false,
        "nbgrader": {
          "cell_type": "code",
          "checksum": "b9c2a3c803156b266a568e6d027bba82",
          "grade": false,
          "grade_id": "cell-3f2c97a75ac85442",
          "locked": true,
          "schema_version": 3,
          "solution": false,
          "task": false
        }
      }
    },
    {
      "cell_type": "code",
      "source": [
        "%%time\n",
        "print(it_bin_search(liste,s, r, x))"
      ],
      "outputs": [
        {
          "output_type": "stream",
          "name": "stdout",
          "text": [
            "X presents in list at index:  4\n",
            "4\n",
            "CPU times: user 423 µs, sys: 148 µs, total: 571 µs\n",
            "Wall time: 470 µs\n"
          ]
        }
      ],
      "execution_count": 7,
      "metadata": {
        "colab": {
          "base_uri": "https://localhost:8080/",
          "height": 85
        },
        "colab_type": "code",
        "deletable": false,
        "editable": false,
        "id": "XGLIycRXdo11",
        "nbgrader": {
          "cell_type": "code",
          "checksum": "3edb107efcdc7722d989f7c26a0ba001",
          "grade": false,
          "grade_id": "cell-1969da06824059e4",
          "locked": true,
          "schema_version": 3,
          "solution": false,
          "task": false
        },
        "outputId": "f5b07472-8320-4355-f3d5-6d7863686f7f"
      }
    },
    {
      "cell_type": "markdown",
      "source": [
        "*La recherche binaire regarde les comparaisons d'ordre, alors que la recherche séquentielle regarde les comparaisons d'égalité pour trouver x.*"
      ],
      "metadata": {
        "colab_type": "text",
        "deletable": false,
        "editable": false,
        "id": "aXfApykD-4-E",
        "nbgrader": {
          "cell_type": "markdown",
          "checksum": "ea8e6a6dfeb199e4358cdc04a150f3f5",
          "grade": false,
          "grade_id": "cell-5945d05256974d86",
          "locked": true,
          "schema_version": 3,
          "solution": false,
          "task": false
        }
      }
    },
    {
      "cell_type": "markdown",
      "source": [
        "### Partie B: \n",
        "\n",
        "Considérez une liste d’entiers non triés `L` ainsi qu’un entier `e`. Ecrivez un programme qui retourne l'élément de la liste L le plus proche de `e` en utilisant une recherche binaire.\n",
        "\n",
        "On vous donne une liste d’entiers non triés L ainsi qu’un entier e. Ecrivez un programme retournant la valeur dans L la plus proche de e en utilisant une recherche binaire (binary search). \n",
        "\n",
        "Résultat attendu : 56"
      ],
      "metadata": {
        "colab_type": "text",
        "deletable": false,
        "editable": false,
        "id": "kMo0tnuQUD2O",
        "nbgrader": {
          "cell_type": "markdown",
          "checksum": "2d41fb8b5aa93d5b4345aa13d2fb2c6f",
          "grade": false,
          "grade_id": "cell-c120cb7b580de920",
          "locked": true,
          "schema_version": 3,
          "solution": false,
          "task": false
        }
      }
    },
    {
      "cell_type": "code",
      "source": [
        "def find_closest_bin(liste,n):\n",
        "    #complètez ici\n",
        "    \n",
        "    min = 0\n",
        "    max = len(liste)\n",
        "    found = False\n",
        "    while min <= max and not found: # 0<10 and true puis 6<10 and true, etc.\n",
        "        mid = (max+min)//2 # mid = 5 --> 16 in list\n",
        "        print(mid)\n",
        "        if n > liste[mid]: # 41>16\n",
        "            min = mid + 1 # min = 5+1=6\n",
        "        elif n < liste[mid]:\n",
        "            max = mid -1\n",
        "        else:\n",
        "            found = True\n",
        "    if found:\n",
        "        return n\n",
        "    else:\n",
        "        return liste[mid]\n",
        "    \n",
        "L = [1, 2, 5, 8, 12, 16, 24, 56, 58, 63]  \n",
        "e = 41\n",
        "find_closest_bin(L,e)"
      ],
      "outputs": [
        {
          "output_type": "stream",
          "name": "stdout",
          "text": [
            "5\n",
            "8\n",
            "6\n",
            "7\n"
          ]
        },
        {
          "output_type": "execute_result",
          "execution_count": 12,
          "data": {
            "text/plain": [
              "56"
            ]
          },
          "metadata": {}
        }
      ],
      "execution_count": 12,
      "metadata": {
        "colab": {
          "base_uri": "https://localhost:8080/",
          "height": 34
        },
        "colab_type": "code",
        "id": "cGV85FTBUkvL",
        "outputId": "f02d0d95-51d1-492e-b3f2-b2706fed5e5d"
      }
    },
    {
      "cell_type": "code",
      "source": [
        "L = [1, 2, 5, 8, 12, 16, 24, 56, 58, 63]  \n",
        "e = 41\n",
        "find_closest_bin(L,e)"
      ],
      "outputs": [
        {
          "output_type": "stream",
          "name": "stdout",
          "text": [
            "5\n",
            "8\n",
            "6\n",
            "7\n"
          ]
        },
        {
          "output_type": "execute_result",
          "execution_count": 8,
          "data": {
            "text/plain": [
              "56"
            ]
          },
          "metadata": {}
        }
      ],
      "execution_count": 8,
      "metadata": {
        "deletable": false,
        "editable": false,
        "nbgrader": {
          "cell_type": "code",
          "checksum": "3aabae8417dec5ef1e7049fa43bb801f",
          "grade": false,
          "grade_id": "cell-0976feaa26d83d4f",
          "locked": true,
          "schema_version": 3,
          "solution": false,
          "task": false
        }
      }
    },
    {
      "cell_type": "code",
      "source": [
        "%%time\n",
        "print(find_closest_bin(L,e))"
      ],
      "outputs": [
        {
          "output_type": "stream",
          "name": "stdout",
          "text": [
            "5\n",
            "8\n",
            "6\n",
            "7\n",
            "56\n",
            "CPU times: user 331 µs, sys: 117 µs, total: 448 µs\n",
            "Wall time: 331 µs\n"
          ]
        }
      ],
      "execution_count": 20,
      "metadata": {
        "colab": {
          "base_uri": "https://localhost:8080/",
          "height": 68
        },
        "colab_type": "code",
        "deletable": false,
        "editable": false,
        "id": "GdmYqQGydu28",
        "nbgrader": {
          "cell_type": "code",
          "checksum": "cdbf72473d249262c24639ce248d245b",
          "grade": false,
          "grade_id": "cell-b84a3558ffa43589",
          "locked": true,
          "schema_version": 3,
          "solution": false,
          "task": false
        },
        "outputId": "ad48b735-2279-4378-eb67-3e379e1a9543"
      }
    },
    {
      "cell_type": "markdown",
      "source": [
        "### Partie C:\n",
        "\n",
        "Considérez une liste d’entiers triés `L` ainsi qu’un entier `e`. Ecrivez un programme qui retourne l'index de l'élément `e` de la liste L en utilisant une recherche binaire. Si `e` n’est pas dans `L`, retournez -1.\n",
        "\n",
        "Exemple:\n",
        "\n",
        "    L = [1231321,3213125,3284016,4729273,5492710] \n",
        "\n",
        "    e = 3284016\n",
        "\n",
        "Résultat attendu: 2"
      ],
      "metadata": {
        "colab_type": "text",
        "deletable": false,
        "editable": false,
        "id": "XLBGPMQBbekj",
        "nbgrader": {
          "cell_type": "markdown",
          "checksum": "6e283a22fdb92aae7ce82d0bc19efb13",
          "grade": false,
          "grade_id": "cell-6c0d2f6ce67118c2",
          "locked": true,
          "schema_version": 3,
          "solution": false,
          "task": false
        }
      }
    },
    {
      "cell_type": "code",
      "source": [
        "def binary_search(L,e):\n",
        "    first = 0\n",
        "    last = len(L)-1\n",
        "    #complètez ici\n",
        "    while first <= last:\n",
        "        mid = int((first+last)/2)\n",
        "        print(mid)\n",
        "        if L[mid] == e:\n",
        "            return mid\n",
        "        else:\n",
        "            if randoms[mid] > e:\n",
        "                last-=1\n",
        "            else:\n",
        "                first +=1\n",
        "    return False"
      ],
      "outputs": [],
      "execution_count": 24,
      "metadata": {
        "colab": {
          "base_uri": "https://localhost:8080/",
          "height": 34
        },
        "colab_type": "code",
        "id": "asYyaA9PbqC8",
        "outputId": "05184f99-2cd5-4186-b62e-dfb95943c1ff"
      }
    },
    {
      "cell_type": "code",
      "source": [
        "L = [1231321,3213125,3284016,4729273,5492710]\n",
        "e = 3284016\n",
        "binary_search(L,e)"
      ],
      "outputs": [
        {
          "output_type": "stream",
          "name": "stdout",
          "text": [
            "2\n"
          ]
        },
        {
          "output_type": "execute_result",
          "execution_count": 25,
          "data": {
            "text/plain": [
              "2"
            ]
          },
          "metadata": {}
        }
      ],
      "execution_count": 25,
      "metadata": {
        "deletable": false,
        "editable": false,
        "nbgrader": {
          "cell_type": "code",
          "checksum": "daac2769ec42dfc4e87c6c275ff05386",
          "grade": false,
          "grade_id": "cell-53b89c4ac5b402d3",
          "locked": true,
          "schema_version": 3,
          "solution": false,
          "task": false
        }
      }
    },
    {
      "cell_type": "code",
      "source": [
        "%%time\n",
        "print(binary_search(L,e))"
      ],
      "outputs": [
        {
          "output_type": "stream",
          "name": "stdout",
          "text": [
            "2\n",
            "CPU times: user 132 µs, sys: 46 µs, total: 178 µs\n",
            "Wall time: 155 µs\n"
          ]
        }
      ],
      "execution_count": 23,
      "metadata": {
        "colab": {
          "base_uri": "https://localhost:8080/",
          "height": 68
        },
        "colab_type": "code",
        "deletable": false,
        "editable": false,
        "id": "bSujjXJbdz-k",
        "nbgrader": {
          "cell_type": "code",
          "checksum": "940ea16faacc17624ab16a1c98675e53",
          "grade": false,
          "grade_id": "cell-d61f1a6fcb8fc386",
          "locked": true,
          "schema_version": 3,
          "solution": false,
          "task": false
        },
        "outputId": "eef40cdb-3309-44ea-a004-5529bf00dd9d"
      }
    },
    {
      "cell_type": "markdown",
      "source": [
        "## Exercice: Matrice\n",
        "\n",
        "Considérez une matrice ordonnée `m` et un élément `l`. \n",
        "\n",
        "Une matrice ordonnée répond aux critères suivants :\n",
        "\n",
        "• m[i][j]<=m[i+1][j] (une ligne va du plus petit au plus grand)\n",
        "\n",
        "• m[i][j]<=m[i][j+1] (une colonne va du plus petit au plus grand)\n",
        "\n",
        "Ecrivez un algorithme qui retourne la position de l’élément `l` dans `m`. Si `l` n’est pas présent dans `m` alors il faut retourner (-1, -1)\n",
        "\n",
        "**Exemple 1:** si m=[[1,2,3,4],[4,5,7,8],[5,6,8,10],[6,7,9,11]] et que l=7. Nous souhaitons avoir la réponse (1,2) OU (3,1) (l’une des deux, pas besoin de retourner les deux résultats). \n",
        "\n",
        "**Exemple 2:** si m=[[1,2],[3,4]] et que l=7. Nous souhaitons avoir la réponse (-1,-1) car 7 n’est pas dans la matrix m."
      ],
      "metadata": {
        "colab_type": "text",
        "deletable": false,
        "editable": false,
        "id": "IloMwjmnXFRv",
        "nbgrader": {
          "cell_type": "markdown",
          "checksum": "ab0869eb474ff717a712a9f1d74f2f4b",
          "grade": false,
          "grade_id": "cell-3cf69811ce43aa3b",
          "locked": true,
          "schema_version": 3,
          "solution": false,
          "task": false
        }
      }
    },
    {
      "cell_type": "code",
      "source": [
        "def search_in_matrix(m,l):\n",
        "    #complètez ici\n",
        "    for i in range(len(m)): #4\n",
        "        for j in range(len(m[i])):\n",
        "            if m[i][j] == l:\n",
        "                return (i,j)#\n",
        "    return (-1,-1)"
      ],
      "outputs": [],
      "execution_count": 26,
      "metadata": {
        "colab": {
          "base_uri": "https://localhost:8080/",
          "height": 34
        },
        "colab_type": "code",
        "id": "kDEmjcCUYfUv",
        "outputId": "d7cb2db1-103b-4098-b8e6-eccab7edc2c3"
      }
    },
    {
      "cell_type": "code",
      "source": [
        "m=[[1,2,3,4],[4,5,7,8],[5,6,8,10],[6,7,9,11]]\n",
        "l=7\n",
        "search_in_matrix(m,l)"
      ],
      "outputs": [
        {
          "output_type": "execute_result",
          "execution_count": 27,
          "data": {
            "text/plain": [
              "(1, 2)"
            ]
          },
          "metadata": {}
        }
      ],
      "execution_count": 27,
      "metadata": {
        "deletable": false,
        "editable": false,
        "nbgrader": {
          "cell_type": "code",
          "checksum": "07e0bd3e31aa813209b86db9b57e69e1",
          "grade": false,
          "grade_id": "cell-5599d329c5ee8ece",
          "locked": true,
          "schema_version": 3,
          "solution": false,
          "task": false
        }
      }
    },
    {
      "cell_type": "code",
      "source": [],
      "outputs": [],
      "execution_count": null,
      "metadata": {}
    }
  ],
  "metadata": {
    "colab": {
      "collapsed_sections": [],
      "name": "Week6exos.ipynb",
      "provenance": []
    },
    "kernel_info": {
      "name": "python3"
    },
    "kernelspec": {
      "name": "python3",
      "language": "python",
      "display_name": "Python 3"
    },
    "language_info": {
      "codemirror_mode": {
        "name": "ipython",
        "version": 3
      },
      "file_extension": ".py",
      "mimetype": "text/x-python",
      "name": "python",
      "nbconvert_exporter": "python",
      "pygments_lexer": "ipython3",
      "version": "3.7.3"
    },
    "nteract": {
      "version": "0.15.0"
    },
    "pycharm": {
      "stem_cell": {
        "cell_type": "raw",
        "metadata": {
          "collapsed": false
        },
        "source": []
      }
    },
    "toc": {
      "toc_position": {},
      "skip_h1_title": false,
      "number_sections": false,
      "title_cell": "Table of Contents",
      "toc_window_display": false,
      "base_numbering": 1,
      "toc_section_display": false,
      "title_sidebar": "Contents",
      "toc_cell": false,
      "nav_menu": {},
      "sideBar": false
    }
  },
  "nbformat": 4,
  "nbformat_minor": 1
}