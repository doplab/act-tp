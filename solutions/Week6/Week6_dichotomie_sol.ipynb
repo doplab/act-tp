{
 "cells": [
  {
   "cell_type": "markdown",
   "metadata": {},
   "source": [
    "## Dichotomie"
   ]
  },
  {
   "cell_type": "markdown",
   "metadata": {},
   "source": [
    "La recherche par dichotomie vue en cours consiste à parcourir la collection en réduisant par moitié l'espace de recherche et ainsi optimizer le temps de calcul."
   ]
  },
  {
   "cell_type": "markdown",
   "metadata": {},
   "source": [
    "1) Ecrire une fonction qui prend en entrée une liste trié et un nombre entier. La fonction doit retourner True si le nombre appartient à la liste ainsi que son index (renvoyer un tupple). Test ton programme avec la liste : [12, 30, 67, 89, 120, 290, 378], avec n=378 et n=345\n"
   ]
  },
  {
   "cell_type": "code",
   "execution_count": 1,
   "metadata": {},
   "outputs": [],
   "source": [
    "def bin_search(L, elem):\n",
    "\n",
    "    start = 0\n",
    "    end = len(L)-1\n",
    "\n",
    "    while start<=end:\n",
    "        mid = int((start+end)/2)\n",
    "\n",
    "        if L[mid] == elem:\n",
    "            return True, mid\n",
    "        else:\n",
    "            if L[mid] > elem:\n",
    "                end = mid -1\n",
    "            else:\n",
    "                start = mid + 1\n",
    "\n",
    "    return False, -1\n"
   ]
  },
  {
   "cell_type": "code",
   "execution_count": 2,
   "metadata": {},
   "outputs": [
    {
     "name": "stdout",
     "output_type": "stream",
     "text": [
      "378 => (True, 6)\n",
      "385 => (False, -1)\n"
     ]
    }
   ],
   "source": [
    "liste = [12, 30, 67, 89, 120, 290, 378]\n",
    "n = 378\n",
    "print(\"{} => {}\".format(n, bin_search(liste, n)))\n",
    "n = 385\n",
    "print(\"{} => {}\".format(n, bin_search(liste, n)))"
   ]
  },
  {
   "cell_type": "markdown",
   "metadata": {},
   "source": [
    "2) Ecrire l'algorithm de binary search de manière recursive. Votre fonction prendra en paramètre: une liste L, un element n, et deux arguments qui consistent aux indices start, end de votre espace de recherche."
   ]
  },
  {
   "cell_type": "code",
   "execution_count": 3,
   "metadata": {},
   "outputs": [],
   "source": [
    "def bin_search_rec(L, n, start=0, end=None):\n",
    "    if end is None:\n",
    "        end = len(L) - 1\n",
    "    if start > end:\n",
    "        return False, -1\n",
    "\n",
    "    mid = (start + end) // 2\n",
    "    if n == L[mid]:\n",
    "        return True, mid\n",
    "    if n < L[mid]:\n",
    "        return bin_search_rec(L, n, start, mid-1)\n",
    "    \n",
    "    return bin_search_rec(L, n, mid+1, end)"
   ]
  },
  {
   "cell_type": "code",
   "execution_count": 4,
   "metadata": {},
   "outputs": [
    {
     "name": "stdout",
     "output_type": "stream",
     "text": [
      "378 => (True, 6)\n",
      "345 => (False, -1)\n"
     ]
    }
   ],
   "source": [
    "liste = [12, 30, 67, 89, 120, 290, 378]\n",
    "n = 378\n",
    "print(\"{} => {}\".format(n, bin_search_rec(liste, n)))\n",
    "n = 345\n",
    "print(\"{} => {}\".format(n, bin_search_rec(liste, n)))"
   ]
  },
  {
   "cell_type": "markdown",
   "metadata": {},
   "source": [
    "2) En utilisant la fonction ci-dessous, écrire une fonction qui effectue un binary search pour un liste 2D (deux dimensions/matrice). Les nombre dans le tableau sont rangés dans l'ordre croissant."
   ]
  },
  {
   "cell_type": "code",
   "execution_count": 5,
   "metadata": {},
   "outputs": [],
   "source": [
    "def bin_search_left(L, n):\n",
    "    start, end = 0, len(L)\n",
    "\n",
    "    while start <= end:\n",
    "        mid = int((start + end)/ 2)\n",
    "        mid_val = L[mid]\n",
    "\n",
    "        if n > mid_val:\n",
    "            start = mid + 1\n",
    "        else:\n",
    "            end = mid -1\n",
    "    return start\n"
   ]
  },
  {
   "cell_type": "code",
   "execution_count": 6,
   "metadata": {},
   "outputs": [],
   "source": [
    "def bin_search_2d(M, n):\n",
    "    meta = [L[-1] for L in M]\n",
    "    \n",
    "    if n > meta[-1]:\n",
    "        return None\n",
    "    \n",
    "    i1 = bin_search_left(meta, n)\n",
    "\n",
    "    if i1 != len(meta):\n",
    "        L = M[i1]\n",
    "        i2 = bin_search_left(L, n)\n",
    "        if i2 != len(L) and L[i2] == n:\n",
    "            return True, i1, i2\n",
    "    "
   ]
  },
  {
   "cell_type": "code",
   "execution_count": 7,
   "metadata": {},
   "outputs": [
    {
     "name": "stdout",
     "output_type": "stream",
     "text": [
      "[[1, 4, 5, 6], [7, 10, 13, 18], [21, 32, 54, 65]]\n",
      "77 => None\n"
     ]
    }
   ],
   "source": [
    "n = 77\n",
    "M = [[1, 4, 5, 6], [7, 10, 13, 18], [21, 32, 54, 65]]\n",
    "print(M)\n",
    "print(\"{} => {}\".format(n, bin_search_2d(M, n)))"
   ]
  },
  {
   "cell_type": "code",
   "execution_count": null,
   "metadata": {},
   "outputs": [],
   "source": []
  }
 ],
 "metadata": {
  "kernelspec": {
   "display_name": "Python 3",
   "language": "python",
   "name": "python3"
  },
  "language_info": {
   "codemirror_mode": {
    "name": "ipython",
    "version": 3
   },
   "file_extension": ".py",
   "mimetype": "text/x-python",
   "name": "python",
   "nbconvert_exporter": "python",
   "pygments_lexer": "ipython3",
   "version": "3.7.2"
  }
 },
 "nbformat": 4,
 "nbformat_minor": 2
}
