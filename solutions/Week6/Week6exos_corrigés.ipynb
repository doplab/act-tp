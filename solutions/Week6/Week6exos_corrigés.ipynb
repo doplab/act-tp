{
  "cells": [
    {
      "cell_type": "markdown",
      "source": [
        "## Exercise: Sequential search\n",
        "\n",
        "Une recherche séquentielle scanne un élément après l'autre, de gauche à droite, pour trouver un élément x dans un tuple, une liste ou un dictionnaire. \n",
        "\n",
        "Le but est de comparer x à chaque élément de la liste et de retourner l'index de l'élément correspondant à x.\n",
        "\n",
        "Sa complexité dans le pire des cas est de O(n) et dans le meilleur des cas de O(1). \n",
        "\n",
        "###Partie A: \n",
        "\n",
        "A partir de la liste d'éléments ci-dessous, écrivez une fonction qui cherche x dans la liste. La fonction doit retourner l'index de l'élément correspondant de la liste si x est dans la liste et \"-1\" dans le cas contraire. Ici, x = 100. "
      ],
      "metadata": {
        "id": "ls6r45_v4Abs",
        "colab_type": "text"
      }
    },
    {
      "cell_type": "code",
      "source": [
        "def seq_search(list,x):\n",
        "  for i in range(len(list)):\n",
        "    if list[i] == x:\n",
        "      print(\"X present in list at index: \", i)\n",
        "      return i\n",
        "      break\n",
        "  else: #only used when loop not terminated by a break statement\n",
        "# if i == n-1 and list[i] != x:  #also possible\n",
        "    print(\"X not present in list\")\n",
        "    return -1\n",
        "  \n",
        "        \n",
        "liste = [3,55,6,8,3,5,56,33,6,5,3,2,99,53,532,75,21,963,100,445,56,45,12,56,24]\n",
        "x = 100\n",
        "seq_search(liste, x)\n"
      ],
      "outputs": [
        {
          "output_type": "stream",
          "name": "stdout",
          "text": [
            "X present in list at index:  18\n"
          ]
        },
        {
          "output_type": "execute_result",
          "execution_count": 33,
          "data": {
            "text/plain": [
              "18"
            ]
          },
          "metadata": {
            "tags": []
          }
        }
      ],
      "execution_count": 33,
      "metadata": {
        "id": "CKHPCuFV4JEv",
        "colab_type": "code",
        "colab": {
          "base_uri": "https://localhost:8080/",
          "height": 51
        },
        "outputId": "cf2c9126-2b91-4578-d3e4-f0e5f7e56c9e"
      }
    },
    {
      "cell_type": "code",
      "source": [
        "%%time \n",
        "print(seq_search(liste, x))"
      ],
      "outputs": [
        {
          "output_type": "stream",
          "name": "stdout",
          "text": [
            "X present in list at index:  18\n",
            "18\n",
            "CPU times: user 159 µs, sys: 0 ns, total: 159 µs\n",
            "Wall time: 165 µs\n"
          ]
        }
      ],
      "execution_count": 36,
      "metadata": {
        "id": "mFkLvqb9dDS5",
        "colab_type": "code",
        "colab": {
          "base_uri": "https://localhost:8080/",
          "height": 85
        },
        "outputId": "72d5c85f-10be-41ed-8504-29d83272d557"
      }
    },
    {
      "cell_type": "markdown",
      "source": [
        "Dans la pratique, l'algorithme de recherche séquentielle n'est pas souvent utilisé en vue de sa complexité élevée et des alternatives de recherche plus efficaces comme la recherche binaire. "
      ],
      "metadata": {
        "id": "RF8Q1z7i4Mbs",
        "colab_type": "text"
      }
    },
    {
      "cell_type": "markdown",
      "source": [
        "###Partie B:\n",
        "\n",
        "Considérez une liste d’entiers non trié `L` ainsi qu’un entier `e`. Ecrivez un programme qui retourne l'élément de la liste L le plus proche de `e` en utilisant une recherche séquentielle.\n",
        "\n",
        "Exemple : \n",
        "\n",
        "L = [1, 2, 5, 8, 12, 16, 24, 56, 58, 63] \n",
        "\n",
        "e = 41\n",
        "\n",
        "Résultat attendu : 56"
      ],
      "metadata": {
        "id": "CzH56zx2R4IJ",
        "colab_type": "text"
      }
    },
    {
      "cell_type": "code",
      "source": [
        "def find_closest_seq(list,n): #calcul diff avec tout element et n\n",
        "  diff = None #initialisation\n",
        "  resultat = None\n",
        "  for i in list:\n",
        "    if not diff or abs(i-n) < diff:\n",
        "      diff = abs(i-n)\n",
        "      resultat = i\n",
        "  return resultat\n",
        "\n",
        "L = [1, 2, 5, 8, 12, 16, 24, 56, 58, 63] \n",
        "e = 41\n",
        "\n",
        "find_closest_seq(L,e)\n",
        "\n"
      ],
      "outputs": [
        {
          "output_type": "execute_result",
          "execution_count": 37,
          "data": {
            "text/plain": [
              "56"
            ]
          },
          "metadata": {
            "tags": []
          }
        }
      ],
      "execution_count": 37,
      "metadata": {
        "id": "k3aVRSArS8Du",
        "colab_type": "code",
        "colab": {
          "base_uri": "https://localhost:8080/",
          "height": 34
        },
        "outputId": "d7fbb59f-ac59-4c68-fc0f-28f7f3b8cab8"
      }
    },
    {
      "cell_type": "code",
      "source": [
        "%%time \n",
        "print(find_closest_seq(L,e))"
      ],
      "outputs": [
        {
          "output_type": "stream",
          "name": "stdout",
          "text": [
            "56\n",
            "CPU times: user 349 µs, sys: 1 ms, total: 1.35 ms\n",
            "Wall time: 1.39 ms\n"
          ]
        }
      ],
      "execution_count": 38,
      "metadata": {
        "id": "GaXBj0HxdT5U",
        "colab_type": "code",
        "colab": {
          "base_uri": "https://localhost:8080/",
          "height": 68
        },
        "outputId": "b39c4586-9961-47ca-ca0d-68f3e706c3f3"
      }
    },
    {
      "cell_type": "markdown",
      "source": [
        "###Partie C:\n",
        "\n",
        "Considérez une liste d’entiers triés `L` ainsi qu’un entier `e`. Ecrivez un programme qui retourne l'index de l'élément `e` de la liste L en utilisant une recherche séquentielle. Si `e` n’est pas dans `L`, retournez -1.\n",
        "\n",
        "Exemple:\n",
        "\n",
        "L = [1231321,3213125,3284016,4729273,5492710] \n",
        "\n",
        "e = 3284016\n",
        "\n",
        "Résultat attendu: 2"
      ],
      "metadata": {
        "id": "eV41YFweaA06",
        "colab_type": "text"
      }
    },
    {
      "cell_type": "code",
      "source": [
        "def linear_search(L,e):\n",
        "  for index, elem in enumerate(L):\n",
        "    if elem == e:\n",
        "      return index\n",
        "  return -1\n",
        "\n",
        "L = [1231321,3213125,3284016,4729273,5492710]\n",
        "e = 3284016\n",
        "linear_search(L,e)\n",
        "\n",
        "      "
      ],
      "outputs": [
        {
          "output_type": "execute_result",
          "execution_count": 39,
          "data": {
            "text/plain": [
              "2"
            ]
          },
          "metadata": {
            "tags": []
          }
        }
      ],
      "execution_count": 39,
      "metadata": {
        "id": "PmkWbINeazYQ",
        "colab_type": "code",
        "colab": {
          "base_uri": "https://localhost:8080/",
          "height": 34
        },
        "outputId": "dc12452a-e857-4643-b579-5ab91fea9c35"
      }
    },
    {
      "cell_type": "code",
      "source": [
        "%%time\n",
        "print(linear_search(L,e))"
      ],
      "outputs": [
        {
          "output_type": "stream",
          "name": "stdout",
          "text": [
            "2\n",
            "CPU times: user 898 µs, sys: 1 µs, total: 899 µs\n",
            "Wall time: 635 µs\n"
          ]
        }
      ],
      "execution_count": 40,
      "metadata": {
        "id": "MYUURcGldZnX",
        "colab_type": "code",
        "colab": {
          "base_uri": "https://localhost:8080/",
          "height": 68
        },
        "outputId": "21b50d31-83d6-46cc-c0da-a2423a3a0815"
      }
    },
    {
      "cell_type": "markdown",
      "source": [
        "## Exercise: Binary search\n",
        "\n",
        "Le but de la recherche binaire est de trouver l'élément x plus rapidement.\n",
        "Pour cela, une **liste triée** d'éléments est nécessaire. \n",
        "\n",
        "La complexité de l'algorithme de recherche binaire est de O(log n) mais il ne faut pas oublier qu'obtenir une liste triée coûte aussi. \n",
        "\n",
        "L'algorithme de recherche binaire divise l'intervalle de recherche par deux à chaque coup jusqu'à ce qu'il trouve l'élément x ou que l'intervalle soit vide. \n",
        "\n",
        "Ainsi, si x est plus petit que l'élément du milieu de l'intervalle, l'algorithme se concentre sur la gauche pour créer son prochain intervalle de recherche sinon sur la droite.\n",
        "\n",
        "###Partie A:\n",
        "\n",
        "A partir de la liste d'éléments **triée** ci-dessous, écrivez premièrement une fonction **récursive** puis une fonction **itérative** qui cherche x dans la liste. La fonction doit retourner l'index de l'élément correspondant de la liste si x est dans la liste et \"-1\" dans le cas contraire. Ici, x = 5.\n"
      ],
      "metadata": {
        "id": "WnylxGt04Qc-",
        "colab_type": "text"
      }
    },
    {
      "cell_type": "code",
      "source": [
        "# Version récursive\n",
        "def rec_bin_search(list,s,r,x):\n",
        "  mid = int((s+r)/2)\n",
        "  if list[mid] < x:\n",
        "    return rec_bin_search(list, mid, r, x) \n",
        "  elif list[mid] > x:\n",
        "    return rec_bin_search(list, s, mid, x)\n",
        "  elif list[mid] == x:\n",
        "    print(\"X in list at index: \", mid)\n",
        "    return mid \n",
        "  else:\n",
        "    print (\"X not in list\")\n",
        "   \n",
        "    \n",
        "liste=[1,3,4,5,7,8,9,15]\n",
        "s = 0\n",
        "r = len(liste)\n",
        "x = 5\n",
        "rec_bin_search(liste,s, r, x)\n",
        "        "
      ],
      "outputs": [
        {
          "output_type": "stream",
          "name": "stdout",
          "text": [
            "X in list at index:  3\n"
          ]
        },
        {
          "output_type": "execute_result",
          "execution_count": 42,
          "data": {
            "text/plain": [
              "3"
            ]
          },
          "metadata": {
            "tags": []
          }
        }
      ],
      "execution_count": 42,
      "metadata": {
        "id": "8sLxBYjt4VAk",
        "colab_type": "code",
        "colab": {
          "base_uri": "https://localhost:8080/",
          "height": 51
        },
        "outputId": "d161f216-c087-4a1e-d4f8-0d391ad5dd80"
      }
    },
    {
      "cell_type": "code",
      "source": [
        "%%time\n",
        "print(rec_bin_search(liste,s, r, x))"
      ],
      "outputs": [
        {
          "output_type": "stream",
          "name": "stdout",
          "text": [
            "X in list at index:  3\n",
            "3\n",
            "CPU times: user 885 µs, sys: 1 ms, total: 1.89 ms\n",
            "Wall time: 1.42 ms\n"
          ]
        }
      ],
      "execution_count": 43,
      "metadata": {
        "id": "GzVj0DIFdhSw",
        "colab_type": "code",
        "colab": {
          "base_uri": "https://localhost:8080/",
          "height": 85
        },
        "outputId": "aafcbf56-ecaf-460d-832d-d3cb86e9d266"
      }
    },
    {
      "cell_type": "code",
      "source": [
        "# Version itérative\n",
        "def it_bin_search(list,s,r,x):\n",
        "  while s <= r:\n",
        "    mid = int(s + (r-s)/2)\n",
        "    if list[mid] == x:\n",
        "      print(\"X presents in list at index: \", mid)\n",
        "      return mid\n",
        "    elif list[mid] < x:\n",
        "      s = mid+1\n",
        "    else:\n",
        "      r= mid-1\n",
        "  print(\"X not present in list\")\n",
        "  return -1\n",
        "\n",
        "liste = [1,3,4,5,7,8,9,15]\n",
        "s = 0\n",
        "r = len(liste)-1\n",
        "x = 7\n",
        "it_bin_search(liste,s, r, x)"
      ],
      "outputs": [
        {
          "output_type": "stream",
          "name": "stdout",
          "text": [
            "X presents in list at index:  4\n"
          ]
        },
        {
          "output_type": "execute_result",
          "execution_count": 44,
          "data": {
            "text/plain": [
              "4"
            ]
          },
          "metadata": {
            "tags": []
          }
        }
      ],
      "execution_count": 44,
      "metadata": {
        "id": "wJfYd6Zo4YjE",
        "colab_type": "code",
        "colab": {
          "base_uri": "https://localhost:8080/",
          "height": 51
        },
        "outputId": "87e9ee73-b517-4b4d-eb4b-8a2a24cef627"
      }
    },
    {
      "cell_type": "code",
      "source": [
        "%%time\n",
        "print(it_bin_search(liste,s, r, x))"
      ],
      "outputs": [
        {
          "output_type": "stream",
          "name": "stdout",
          "text": [
            "X presents in list at index:  4\n",
            "4\n",
            "CPU times: user 702 µs, sys: 999 µs, total: 1.7 ms\n",
            "Wall time: 1.72 ms\n"
          ]
        }
      ],
      "execution_count": 45,
      "metadata": {
        "id": "XGLIycRXdo11",
        "colab_type": "code",
        "colab": {
          "base_uri": "https://localhost:8080/",
          "height": 85
        },
        "outputId": "f5b07472-8320-4355-f3d5-6d7863686f7f"
      }
    },
    {
      "cell_type": "markdown",
      "source": [
        "*La recherche binaire regarde les comparaisons d'ordre, alors que la recherche séquentielle regarde les comparaisons d'égalité pour trouver x.*"
      ],
      "metadata": {
        "id": "aXfApykD-4-E",
        "colab_type": "text"
      }
    },
    {
      "cell_type": "markdown",
      "source": [
        "###Partie B: \n",
        "\n",
        "Considérez une liste d’entiers non trié `L` ainsi qu’un entier `e`. Ecrivez un programme qui retourne l'élément de la liste L le plus proche de `e` en utilisant une recherche binaire.\n",
        "\n",
        "On vous donne une liste d’entiers non trié L ainsi qu’un entier e. Ecrivez un programme retournant la valeur dans L la plus proche de e en utilisant une recherche binaire (binary search). \n",
        "\n",
        "Résultat attendu : 56"
      ],
      "metadata": {
        "id": "kMo0tnuQUD2O",
        "colab_type": "text"
      }
    },
    {
      "cell_type": "code",
      "source": [
        "def find_closest_bin(liste,n):\n",
        "  resultat = None\n",
        "  min = 0\n",
        "  max = len(liste)\n",
        "  found = False\n",
        "  while min <= max and not found:\n",
        "    mid = (max+min)//2\n",
        "    if n > liste[mid]:\n",
        "      min = mid + 1\n",
        "    elif n < liste[mid]:\n",
        "      max = mid -1\n",
        "    else:\n",
        "      found = True\n",
        "  if found:\n",
        "    return n\n",
        "  else:\n",
        "    return liste[mid]\n",
        "  \n",
        "L = [1, 2, 5, 8, 12, 16, 24, 56, 58, 63]  \n",
        "e = 41\n",
        "find_closest_bin(L,e)"
      ],
      "outputs": [
        {
          "output_type": "execute_result",
          "execution_count": 46,
          "data": {
            "text/plain": [
              "56"
            ]
          },
          "metadata": {
            "tags": []
          }
        }
      ],
      "execution_count": 46,
      "metadata": {
        "id": "cGV85FTBUkvL",
        "colab_type": "code",
        "colab": {
          "base_uri": "https://localhost:8080/",
          "height": 34
        },
        "outputId": "f02d0d95-51d1-492e-b3f2-b2706fed5e5d"
      }
    },
    {
      "cell_type": "code",
      "source": [
        "%%time\n",
        "print(find_closest_bin(L,e))"
      ],
      "outputs": [
        {
          "output_type": "stream",
          "name": "stdout",
          "text": [
            "56\n",
            "CPU times: user 68 µs, sys: 0 ns, total: 68 µs\n",
            "Wall time: 72.2 µs\n"
          ]
        }
      ],
      "execution_count": 47,
      "metadata": {
        "id": "GdmYqQGydu28",
        "colab_type": "code",
        "colab": {
          "base_uri": "https://localhost:8080/",
          "height": 68
        },
        "outputId": "ad48b735-2279-4378-eb67-3e379e1a9543"
      }
    },
    {
      "cell_type": "markdown",
      "source": [
        "###Partie C:\n",
        "\n",
        "Considérez une liste d’entiers triés `L` ainsi qu’un entier `e`. Ecrivez un programme qui retourne l'index de l'élément `e` de la liste L en utilisant une recherche binaire. Si `e` n’est pas dans `L`, retournez -1.\n",
        "\n",
        "Exemple:\n",
        "\n",
        "L = [1231321,3213125,3284016,4729273,5492710] \n",
        "\n",
        "e = 3284016\n",
        "\n",
        "Résultat attendu: 2"
      ],
      "metadata": {
        "id": "XLBGPMQBbekj",
        "colab_type": "text"
      }
    },
    {
      "cell_type": "code",
      "source": [
        "def binary_search(L,e):\n",
        "  first = 0\n",
        "  last = len(L)-1\n",
        "  while first <= last:\n",
        "    mid = int((first+last)/2)\n",
        "    if L[mid] == e:\n",
        "      return mid\n",
        "    else:\n",
        "      if randoms[mid] > search:\n",
        "        last-=1\n",
        "      else:\n",
        "        first +=1\n",
        "  return False\n",
        "\n",
        "L = [1231321,3213125,3284016,4729273,5492710]\n",
        "e = 3284016\n",
        "binary_search(L,e)"
      ],
      "outputs": [
        {
          "output_type": "execute_result",
          "execution_count": 48,
          "data": {
            "text/plain": [
              "2"
            ]
          },
          "metadata": {
            "tags": []
          }
        }
      ],
      "execution_count": 48,
      "metadata": {
        "id": "asYyaA9PbqC8",
        "colab_type": "code",
        "colab": {
          "base_uri": "https://localhost:8080/",
          "height": 34
        },
        "outputId": "05184f99-2cd5-4186-b62e-dfb95943c1ff"
      }
    },
    {
      "cell_type": "code",
      "source": [
        "%%time\n",
        "print(binary_search(L,e))"
      ],
      "outputs": [
        {
          "output_type": "stream",
          "name": "stdout",
          "text": [
            "2\n",
            "CPU times: user 174 µs, sys: 998 µs, total: 1.17 ms\n",
            "Wall time: 1.52 ms\n"
          ]
        }
      ],
      "execution_count": 49,
      "metadata": {
        "id": "bSujjXJbdz-k",
        "colab_type": "code",
        "colab": {
          "base_uri": "https://localhost:8080/",
          "height": 68
        },
        "outputId": "eef40cdb-3309-44ea-a004-5529bf00dd9d"
      }
    },
    {
      "cell_type": "markdown",
      "source": [
        "##Exercice: Matrice\n",
        "\n",
        "Considérez une matrix ordrée `m` et un élément `l`. \n",
        "\n",
        "Une matrix ordrée répond aux critères suivants :\n",
        "\n",
        "• m[i][j]<=m[i+1][j] (une ligne va du plus petit au plus grand)\n",
        "\n",
        "• m[i][j]<=m[i][j+1] (une colonne va du plus petit au plus grand)\n",
        "\n",
        "Ecrivez un algorithme qui retourne la position de l’élément `l` dans `m`. Si `l` n’est pas présent dans `m` alors il faut retourner (-1, -1)`\n",
        "\n",
        "Exemple 1: si m=[[1,2,3,4],[4,5,7,8],[5,6,8,10],[6,7,9,11]] et que l=7. Nous souhaitons avoir la réponse (1,2) OU (3,1) (l’une des deux, pas besoin de retourner les deux résultats). \n",
        "\n",
        "Exemple 2: si m=[[1,2],[3,4]] et que l=7. Nous souhaitons avoir la réponse (-1,-1) car 7 n’est pas dans la matrix m."
      ],
      "metadata": {
        "id": "IloMwjmnXFRv",
        "colab_type": "text"
      }
    },
    {
      "cell_type": "code",
      "source": [
        "def search_in_matrix(m,l):\n",
        "  for i in range(len(m)):\n",
        "    for j in range(len(m[i])):\n",
        "      if m[i][j] == l:\n",
        "        return (i,j)#\n",
        "  return (-1,-1)\n",
        "\n",
        "m=[[1,2,3,4],[4,5,7,8],[5,6,8,10],[6,7,9,11]]\n",
        "l=7\n",
        "search_in_matrix(m,l)"
      ],
      "outputs": [
        {
          "output_type": "execute_result",
          "execution_count": 27,
          "data": {
            "text/plain": [
              "(1, 2)"
            ]
          },
          "metadata": {
            "tags": []
          }
        }
      ],
      "execution_count": 27,
      "metadata": {
        "id": "kDEmjcCUYfUv",
        "colab_type": "code",
        "colab": {
          "base_uri": "https://localhost:8080/",
          "height": 34
        },
        "outputId": "d7cb2db1-103b-4098-b8e6-eccab7edc2c3"
      }
    }
  ],
  "metadata": {
    "colab": {
      "name": "Week6exos.ipynb",
      "provenance": [],
      "collapsed_sections": []
    },
    "kernelspec": {
      "name": "python3",
      "language": "python",
      "display_name": "Python 3"
    },
    "kernel_info": {
      "name": "python3"
    },
    "language_info": {
      "name": "python",
      "version": "3.7.3",
      "mimetype": "text/x-python",
      "codemirror_mode": {
        "name": "ipython",
        "version": 3
      },
      "pygments_lexer": "ipython3",
      "nbconvert_exporter": "python",
      "file_extension": ".py"
    },
    "nteract": {
      "version": "0.15.0"
    }
  },
  "nbformat": 4,
  "nbformat_minor": 0
}