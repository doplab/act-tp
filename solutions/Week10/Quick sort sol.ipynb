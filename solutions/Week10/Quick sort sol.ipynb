{
 "cells": [
  {
   "cell_type": "markdown",
   "metadata": {},
   "source": [
    "##  Quick sort"
   ]
  },
  {
   "cell_type": "markdown",
   "metadata": {},
   "source": [
    "Quick Sot est une autre manière de trier une liste en utilisant un pivot selectionné de manière aléatoire. C'est aussi un algorithme utilisant le paradigme diviser-pour-régner comme le tri par fusion. L'avantage de quick sort est qu'il existe une version de l'algorithme probabilistique.\n",
    "Voici deux liens utiles pour comprendre son fonctionnement: https://fr.wikipedia.org/wiki/Tri_rapide, https://www.youtube.com/watch?v=xcyDSLSkb0k\n",
    "\n",
    "*\"La méthode consiste à placer un élément du tableau (appelé pivot) à sa place définitive, en permutant tous les éléments de telle sorte que tous ceux qui sont inférieurs au pivot soient à sa gauche et que tous ceux qui sont supérieurs au pivot soient à sa droite.\n",
    "Cette opération s'appelle le partitionnement. Pour chacun des sous-tableaux, on définit un nouveau pivot et on répète l'opération de partitionnement. Ce processus est répété récursivement, jusqu'à ce que l'ensemble des éléments soit trié. \"*\n",
    "\n",
    "\n",
    "1) Ecrire la fonction partition qui prend en entrée la list et les bornes de la fénêtre. Partition retourne l'index de partition. Le pseudocode est disponible sur la page wiki si besoin."
   ]
  },
  {
   "cell_type": "code",
   "execution_count": 18,
   "metadata": {},
   "outputs": [],
   "source": [
    "def partition(L, low, high):\n",
    "    i = low - 1     # index of smaller element \n",
    "    pivot = L[high]  # pivot \n",
    "    # pivot=randint(start,end)\n",
    "    \n",
    "    for j in range(low, high): \n",
    "        # If current element is smaller than or \n",
    "        # equal to pivot \n",
    "        if L[j] <= pivot: \n",
    "          \n",
    "            # increment index of smaller element \n",
    "            i = i+1 \n",
    "            L[i],L[j] = L[j],L[i] \n",
    "  \n",
    "    L[i+1], L[high] = L[high], L[i+1] \n",
    "    return i+1 \n",
    "    \n"
   ]
  },
  {
   "cell_type": "markdown",
   "metadata": {},
   "source": [
    "2) Ecrire la fonction quick sort à l'aide de la fonction partition."
   ]
  },
  {
   "cell_type": "code",
   "execution_count": 19,
   "metadata": {},
   "outputs": [],
   "source": [
    "def quick_sort(L, low, high):\n",
    "    if low < high: \n",
    "        # pi is partitioning index, arr[p] is now \n",
    "        # at right place \n",
    "        pi = partition(arr,low,high) \n",
    "\n",
    "        # Separately sort elements before \n",
    "        # partition and after partition \n",
    "        quick_sort(arr, low, pi-1) \n",
    "        quick_sort(arr, pi+1, high) \n",
    "    return arr"
   ]
  },
  {
   "cell_type": "markdown",
   "metadata": {},
   "source": [
    "3) Nous allons maintenant comparer la complexié de quick sort par rapport au tri par fusion. Est ce que le randomized Quick sort est plus efficace ? Pour répondre à cette question etudier les cas moyens de quick sort et le pire cas pour Merge Sort. Voici le code de merge sort lancer le avec differents tableaux (tié, non-trié etc...). Que constatez-vous par rapport à quick sort ?\n",
    "(l'utilisation au début de la cellule de **%time** sera utile ici)"
   ]
  },
  {
   "cell_type": "code",
   "execution_count": 20,
   "metadata": {},
   "outputs": [],
   "source": [
    "def merge_sort(arr): \n",
    "    if len(arr) >1: \n",
    "        mid = len(arr)//2 #Finding the mid of the array \n",
    "        L = arr[:mid] # Dividing the array elements  \n",
    "        R = arr[mid:] # into 2 halves \n",
    "  \n",
    "        merge_sort(L) # Sorting the first half \n",
    "        merge_sort(R) # Sorting the second half \n",
    "  \n",
    "        i = j = k = 0\n",
    "          \n",
    "        # Copy data to temp arrays L[] and R[] \n",
    "        while i < len(L) and j < len(R): \n",
    "            if L[i] < R[j]: \n",
    "                arr[k] = L[i] \n",
    "                i+=1\n",
    "            else: \n",
    "                arr[k] = R[j] \n",
    "                j+=1\n",
    "            k+=1\n",
    "          \n",
    "        # Checking if any element was left \n",
    "        while i < len(L): \n",
    "            arr[k] = L[i] \n",
    "            i+=1\n",
    "            k+=1\n",
    "          \n",
    "        while j < len(R): \n",
    "            arr[k] = R[j] \n",
    "            j+=1\n",
    "            k+=1\n",
    "    return arr"
   ]
  },
  {
   "cell_type": "code",
   "execution_count": 21,
   "metadata": {},
   "outputs": [
    {
     "name": "stdout",
     "output_type": "stream",
     "text": [
      "CPU times: user 4 µs, sys: 1 µs, total: 5 µs\n",
      "Wall time: 7.87 µs\n",
      "Pour un tableau non trié merge sort:  [5, 6, 6, 8, 17, 18, 18, 18, 18, 27, 28, 56, 78, 97, 899]\n",
      "CPU times: user 0 ns, sys: 4 µs, total: 4 µs\n",
      "Wall time: 7.15 µs\n",
      "Pour un tableau trié merge sort:  [5, 8, 10, 13, 18, 29, 39, 56, 78, 78, 89, 90, 99, 120, 149]\n"
     ]
    }
   ],
   "source": [
    "%time\n",
    "arr = [5, 8, 6, 18, 97, 56, 899, 17, 6, 18, 78, 28, 18, 27, 18]\n",
    "print(\"Pour un tableau non trié merge sort: \", merge_sort(arr))\n",
    "%time\n",
    "arr = [5,8, 10, 13, 18, 29, 39, 56, 78, 78, 89, 90, 99, 120, 149]\n",
    "print(\"Pour un tableau trié merge sort: \", merge_sort(arr))\n"
   ]
  },
  {
   "cell_type": "code",
   "execution_count": 22,
   "metadata": {
    "scrolled": true
   },
   "outputs": [
    {
     "name": "stdout",
     "output_type": "stream",
     "text": [
      "CPU times: user 4 µs, sys: 0 ns, total: 4 µs\n",
      "Wall time: 9.06 µs\n",
      "Pour un tableau non trié quick sort:  [5, 6, 6, 8, 17, 18, 18, 18, 18, 27, 28, 56, 78, 97, 899]\n",
      "CPU times: user 11 µs, sys: 1 µs, total: 12 µs\n",
      "Wall time: 16.7 µs\n",
      "Pour un tableau trié quick sort:  [5, 8, 10, 13, 18, 29, 39, 56, 78, 78, 89, 90, 99, 120, 149]\n"
     ]
    }
   ],
   "source": [
    "%time\n",
    "arr = [5, 8, 6, 18, 97, 56, 899, 17, 6, 18, 78, 28, 18, 27, 18]\n",
    "print(\"Pour un tableau non trié quick sort: \", quick_sort(arr, low=0, high=len(arr)-1))\n",
    "%time\n",
    "arr = [5,8, 10, 13, 18, 29, 39, 56, 78, 78, 89, 90, 99, 120, 149]\n",
    "print(\"Pour un tableau trié quick sort: \", quick_sort(arr, low=0, high=len(arr)-1))\n"
   ]
  },
  {
   "cell_type": "markdown",
   "metadata": {},
   "source": [
    "4) Calculer la complexité de Quick sort, dans le meilleure des cas, le pire des cas et le cas moyen.\n",
    "\n",
    "*Indication: pour calculer le meilleure et le pire des cas, réfléchisser au cas particuliers quand cela arrive. Pour le cas moyen, il y a différents manières de le résoudre soit utiliser une équation de récurrence (idéal pour les appels récursifs) soit exprimer une variable aléatoire de probabilité et calculer son espérance de la forme: $ E[X] = \\sum_{i=0}^{n-1}\\sum_{j=i+1}^{n} c_{i,j}$ où $c_{i, j} $ est une variable aléatoire binaire (prenant la valeur 0 si l'élément à la position i est comparé avec $x_j$)*"
   ]
  },
  {
   "cell_type": "markdown",
   "metadata": {},
   "source": [
    "**Meilleur cas:** le meilleur cas arrive lorsque le pivot est choisi tel que la liste est toujours divisée par deux en proportion égale. Cela signifie que chaque appel récursif traite une liste dont la taille est réduite de moitié. Par conséquent, nous ne pouvons faire que des appels imbriqués $log_2(n)$ avant d’atteindre une liste de taille 1. Cela signifie que la profondeur de l’arborescence des appels est $log_2(n)$. Mais aucun appel au même niveau de l'arborescence des appels ne traite la même partie de la liste d'origine; ainsi, chaque niveau d'appels n'a besoin que de $O(n)$ fois dans son ensemble (chaque appel a un surcoût constant, mais puisqu'il n'y a que des appels $O(n)$ à chaque niveau, il est inclus dans le facteur $O(n)$). Le résultat est que l'algorithme utilise uniquement le temps $O(n log(n))$.  \n",
    "**Pire des cas:** La partition la plus déséquilibrée se produit lorsque l’une des sous-listes renvoyées par la routine de partitionnement est de taille n-1. Cela peut se produire si le pivot est l’élément le plus petit ou le plus grand de la liste. Si cela se produit de manière répétée dans chaque partition, chaque appel récursif traite une liste de taille inférieure à la liste précédente. Par conséquent, nous pouvons faire $n - 1$ appels imbriqués avant d’atteindre une liste de taille 1. Cela signifie que l’arborescence des appels est une chaîne linéaire de $n - 1$ appels imbriqués. Le $i^{ème}$ appel fonctionne $O(n - i)$ pour créer la partition et $\\sum_{i=0}^n (n - i) = O (n^2)$, donc dans ce cas Quicksort prend $O(n^2)$.\n",
    "**Cas moyen:** Utiliser l'équation $T(n) = 0(1) + O(n) + 2T(n/2)$ ce qui conduit à une division par deux de l'espace dans la fonction quick_sort avec les appels récursifs et $0(n)$ pour la fonction partition ou $E[X] = \\sum_{i=0}^{n-1}\\sum_{j=i+1}^{n} c_{i,j} = \\sum_{i=0}^{n-1}\\sum_{j=i+1}^{n} \\frac{2}{j+1} = O(\\sum_{i=0}^{n-1}log(i)) = O(nlog(n))$"
   ]
  },
  {
   "cell_type": "code",
   "execution_count": null,
   "metadata": {},
   "outputs": [],
   "source": []
  }
 ],
 "metadata": {
  "kernelspec": {
   "display_name": "Python 3",
   "language": "python",
   "name": "python3"
  },
  "language_info": {
   "codemirror_mode": {
    "name": "ipython",
    "version": 3
   },
   "file_extension": ".py",
   "mimetype": "text/x-python",
   "name": "python",
   "nbconvert_exporter": "python",
   "pygments_lexer": "ipython3",
   "version": "3.7.2"
  }
 },
 "nbformat": 4,
 "nbformat_minor": 2
}
