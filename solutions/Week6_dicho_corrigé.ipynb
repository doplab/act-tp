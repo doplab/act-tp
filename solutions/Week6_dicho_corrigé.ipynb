{
  "cells": [
    {
      "cell_type": "markdown",
      "source": [
        "# Algorithmique et Pensée Computationnelle"
      ],
      "metadata": {}
    },
    {
      "cell_type": "markdown",
      "source": [
        "## Dichotomie"
      ],
      "metadata": {
        "deletable": false,
        "editable": false,
        "nbgrader": {
          "cell_type": "markdown",
          "checksum": "6a677a0c6e02b6ad2faa8d2cbe016978",
          "grade": false,
          "grade_id": "cell-f28dc9509cde84ee",
          "locked": true,
          "schema_version": 3,
          "solution": false,
          "task": false
        }
      }
    },
    {
      "cell_type": "markdown",
      "source": [
        "La recherche par dichotomie vue en cours consiste à parcourir la collection en réduisant par moitié l'espace de recherche et ainsi optimiser le temps de calcul."
      ],
      "metadata": {
        "deletable": false,
        "editable": false,
        "nbgrader": {
          "cell_type": "markdown",
          "checksum": "d95e9c87e7baaeb9815cb7040564103c",
          "grade": false,
          "grade_id": "cell-85c9c4a37aa1b673",
          "locked": true,
          "schema_version": 3,
          "solution": false,
          "task": false
        }
      }
    },
    {
      "cell_type": "markdown",
      "source": [
        "1) Ecrire une fonction qui prend en entrée une liste triée et un nombre entier. La fonction doit retourner `True` si le nombre appartient à la liste ainsi que son index (renvoyer un tuple). Teste ton programme avec la liste : [12, 30, 67, 89, 120, 290, 378], avec n=378 et n=345\n"
      ],
      "metadata": {
        "deletable": false,
        "editable": false,
        "nbgrader": {
          "cell_type": "markdown",
          "checksum": "15acde2b846bdb679d31410db5d68e27",
          "grade": false,
          "grade_id": "cell-4a78b00a9cf6268c",
          "locked": true,
          "schema_version": 3,
          "solution": false,
          "task": false
        }
      }
    },
    {
      "cell_type": "code",
      "source": [
        "def bin_search(L, elem):\n",
        "    \"\"\"Ecrire ton code ici\"\"\"\n",
        "    start = 0\n",
        "    end = len(L)-1\n",
        "\n",
        "    while start<=end:\n",
        "        mid = int((start+end)/2)\n",
        "\n",
        "        if L[mid] == elem:\n",
        "            return True, mid\n",
        "        else:\n",
        "            if L[mid] > elem:\n",
        "                end = mid -1\n",
        "            else:\n",
        "                start = mid + 1\n",
        "\n",
        "    return False, -1\n",
        "    "
      ],
      "outputs": [],
      "execution_count": 1,
      "metadata": {}
    },
    {
      "cell_type": "code",
      "source": [
        "liste = [12, 30, 67, 89, 120, 290, 378]\n",
        "n = 378\n",
        "print(\"{} => {}\".format(n, bin_search(liste, n)))\n",
        "n = 385\n",
        "print(\"{} => {}\".format(n, bin_search(liste, n)))"
      ],
      "outputs": [
        {
          "output_type": "stream",
          "name": "stdout",
          "text": [
            "378 => (True, 6)\n",
            "385 => (False, -1)\n"
          ]
        }
      ],
      "execution_count": 2,
      "metadata": {
        "deletable": false,
        "editable": false,
        "nbgrader": {
          "cell_type": "code",
          "checksum": "9ff307c096db5ac0cfc688c6f031a9ca",
          "grade": false,
          "grade_id": "cell-d1ccba733bbce9e2",
          "locked": true,
          "schema_version": 3,
          "solution": false,
          "task": false
        }
      }
    },
    {
      "cell_type": "markdown",
      "source": [
        "2) Ecrire l'algorithme de `binary search de manière recursive. Votre fonction prendra en paramètre: une liste L, un element n, et deux arguments qui consistent aux indices start, end de votre espace de recherche."
      ],
      "metadata": {
        "deletable": false,
        "editable": false,
        "nbgrader": {
          "cell_type": "markdown",
          "checksum": "d0ed1e194469476c53d5a8c95c8a1274",
          "grade": false,
          "grade_id": "cell-6fda5dd0d31cc97a",
          "locked": true,
          "schema_version": 3,
          "solution": false,
          "task": false
        }
      }
    },
    {
      "cell_type": "code",
      "source": [
        "def bin_search_rec(L, n, start=0, end=None):\n",
        "    \"\"\"Ecrire ton code ici\"\"\"\n",
        "    if end is None:\n",
        "        end = len(L) - 1\n",
        "    if start > end:\n",
        "        return False, -1\n",
        "\n",
        "    mid = (start + end) // 2\n",
        "    if n == L[mid]:\n",
        "        return True, mid\n",
        "    if n < L[mid]:\n",
        "        return bin_search_rec(L, n, start, mid-1)\n",
        "    \n",
        "    return bin_search_rec(L, n, mid+1, end)\n",
        "    "
      ],
      "outputs": [],
      "execution_count": 3,
      "metadata": {}
    },
    {
      "cell_type": "code",
      "source": [
        "liste = [12, 30, 67, 89, 120, 290, 378]\n",
        "n = 378\n",
        "print(\"{} => {}\".format(n, bin_search_rec(liste, n)))\n",
        "n = 345\n",
        "print(\"{} => {}\".format(n, bin_search_rec(liste, n)))"
      ],
      "outputs": [
        {
          "output_type": "stream",
          "name": "stdout",
          "text": [
            "378 => (True, 6)\n",
            "345 => (False, -1)\n"
          ]
        }
      ],
      "execution_count": 4,
      "metadata": {
        "deletable": false,
        "editable": false,
        "nbgrader": {
          "cell_type": "code",
          "checksum": "898c16eb6c5a48c2cdf0bba7233defc9",
          "grade": false,
          "grade_id": "cell-0a2e7a91926ae1df",
          "locked": true,
          "schema_version": 3,
          "solution": false,
          "task": false
        }
      }
    },
    {
      "cell_type": "markdown",
      "source": [
        "2) En utilisant la fonction ci-dessous, écrire une fonction qui effectue un `binary search` pour une liste 2D (deux dimensions/matrice). Les nombres dans le tableau sont rangés dans l'ordre croissant. Essaie les différents cas pour vérifier ton code."
      ],
      "metadata": {
        "deletable": false,
        "editable": false,
        "nbgrader": {
          "cell_type": "markdown",
          "checksum": "21114ea205fcb0ff42a252b8ea564245",
          "grade": false,
          "grade_id": "cell-796dc0b3ce9f6841",
          "locked": true,
          "schema_version": 3,
          "solution": false,
          "task": false
        }
      }
    },
    {
      "cell_type": "code",
      "source": [
        "def bin_search_left(L, n):\n",
        "    start, end = 0, len(L)\n",
        "\n",
        "    while start <= end:\n",
        "        mid = int((start + end)/ 2)\n",
        "        mid_val = L[mid]\n",
        "\n",
        "        if n > mid_val:\n",
        "            start = mid + 1\n",
        "        else:\n",
        "            end = mid -1\n",
        "    return start\n"
      ],
      "outputs": [],
      "execution_count": 5,
      "metadata": {}
    },
    {
      "cell_type": "code",
      "source": [
        "def bin_search_2d(M, n): ##???\n",
        "    \"\"\"Ecrire ton code ici\"\"\"\n",
        "    meta = [L[-1] for L in M]\n",
        "    \n",
        "    if n > meta[-1]:\n",
        "        return None\n",
        "    \n",
        "    i1 = bin_search_left(meta, n)\n",
        "\n",
        "    if i1 != len(meta):\n",
        "        L = M[i1]\n",
        "        i2 = bin_search_left(L, n)\n",
        "        if i2 != len(L) and L[i2] == n:\n",
        "            return True, i1, i2\n",
        " \n",
        "    "
      ],
      "outputs": [],
      "execution_count": 6,
      "metadata": {}
    },
    {
      "cell_type": "code",
      "source": [
        "n = 77\n",
        "M = [[1, 4, 5, 6], [7, 10, 13, 18], [21, 32, 54, 65]]\n",
        "print(M)\n",
        "print(\"{} => {}\".format(n, bin_search_2d(M, n)))"
      ],
      "outputs": [
        {
          "output_type": "stream",
          "name": "stdout",
          "text": [
            "[[1, 4, 5, 6], [7, 10, 13, 18], [21, 32, 54, 65]]\n",
            "77 => None\n"
          ]
        }
      ],
      "execution_count": 7,
      "metadata": {
        "deletable": false,
        "editable": false,
        "nbgrader": {
          "cell_type": "code",
          "checksum": "b31a52461394153197c7f99f97b810ea",
          "grade": false,
          "grade_id": "cell-774a5b9c0a9e25d8",
          "locked": true,
          "schema_version": 3,
          "solution": false,
          "task": false
        }
      }
    },
    {
      "cell_type": "code",
      "source": [],
      "outputs": [],
      "execution_count": null,
      "metadata": {}
    }
  ],
  "metadata": {
    "kernelspec": {
      "name": "python3",
      "language": "python",
      "display_name": "Python 3"
    },
    "language_info": {
      "name": "python",
      "version": "3.7.3",
      "mimetype": "text/x-python",
      "codemirror_mode": {
        "name": "ipython",
        "version": 3
      },
      "pygments_lexer": "ipython3",
      "nbconvert_exporter": "python",
      "file_extension": ".py"
    },
    "pycharm": {
      "stem_cell": {
        "cell_type": "raw",
        "metadata": {
          "collapsed": false
        },
        "source": []
      }
    },
    "toc": {
      "toc_position": {},
      "skip_h1_title": false,
      "number_sections": false,
      "title_cell": "Table of Contents",
      "toc_window_display": false,
      "base_numbering": 1,
      "toc_section_display": false,
      "title_sidebar": "Contents",
      "toc_cell": false,
      "nav_menu": {},
      "sideBar": false
    },
    "kernel_info": {
      "name": "python3"
    },
    "nteract": {
      "version": "0.15.0"
    }
  },
  "nbformat": 4,
  "nbformat_minor": 2
}