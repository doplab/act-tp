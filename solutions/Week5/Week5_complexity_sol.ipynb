{
 "cells": [
  {
   "cell_type": "markdown",
   "metadata": {},
   "source": [
    "## Exercise 1: Calculer les complexités"
   ]
  },
  {
   "cell_type": "markdown",
   "metadata": {},
   "source": [
    "Pour chaque algorithmes ci-dessous, indiquer en une phrase, ce que font ces algorithmes et calculer leur complexité temporelle avec la notation O( )."
   ]
  },
  {
   "cell_type": "code",
   "execution_count": null,
   "metadata": {},
   "outputs": [],
   "source": [
    "#Entrée: list de nombre entiers et M un nombre entier\n",
    "def algo1(L, M):\n",
    "    i = 1\n",
    "    while i < len(L) and L[i] <= M:\n",
    "        i += 1\n",
    "    s = i-1\n",
    "    return s\n",
    "    "
   ]
  },
  {
   "cell_type": "markdown",
   "metadata": {},
   "source": [
    "**Solution:**   La complexite temporelle est O(n):  dans le pire des cas (à savoir quand tous les nombres de la liste L sont plus petits ou  ́egaux à M), la boucle “tant que” est executee n fois, car le nombre i est incrementé de 1 a chaque passage de la boucle."
   ]
  },
  {
   "cell_type": "code",
   "execution_count": null,
   "metadata": {},
   "outputs": [],
   "source": [
    "#Entrée: n un nombre entier\n",
    "def algo2(n):\n",
    "    s = 0\n",
    "    for i in range(2*n):\n",
    "        s += i\n",
    "    return s"
   ]
  },
  {
   "cell_type": "markdown",
   "metadata": {},
   "source": [
    "**Solution:** La complexite temporelle est  ́egalement O(n):  de l’ordre de 2n opérations sont effectuees, mais le facteur 2 ne nous importe pas ici."
   ]
  },
  {
   "cell_type": "code",
   "execution_count": null,
   "metadata": {},
   "outputs": [],
   "source": [
    "#Entrée: L and M are two list de nombre entiers\n",
    "def algo3(L, M):\n",
    "    n = len(L)\n",
    "    m = len(M)\n",
    "    for i in range(n):\n",
    "        L[i] = L[i]%2\n",
    "    for j in range(m):\n",
    "        M[j] = 0.\n",
    "    \n",
    "    return L, M\n",
    "            "
   ]
  },
  {
   "cell_type": "markdown",
   "metadata": {},
   "source": [
    "**Solution:** La complexité temporelle est ici de O(n) + 0(m) = O(max{n, m})"
   ]
  },
  {
   "cell_type": "code",
   "execution_count": 5,
   "metadata": {},
   "outputs": [],
   "source": [
    "# Entrée: une matrice M carré (même nombre de lignes et de colonnes)\n",
    "def algo4(M):\n",
    "    for i in range(len(M)):\n",
    "        for j in range(len(M)):\n",
    "            if M[i][j] < 0:\n",
    "                M[i][j] = 0\n",
    "    return M"
   ]
  },
  {
   "cell_type": "markdown",
   "metadata": {},
   "source": [
    "**Solution:** La compléxity temporelle est de 0(n<sup>2</sup>)"
   ]
  },
  {
   "cell_type": "code",
   "execution_count": null,
   "metadata": {},
   "outputs": [],
   "source": []
  }
 ],
 "metadata": {
  "kernelspec": {
   "display_name": "Python 3",
   "language": "python",
   "name": "python3"
  },
  "language_info": {
   "codemirror_mode": {
    "name": "ipython",
    "version": 3
   },
   "file_extension": ".py",
   "mimetype": "text/x-python",
   "name": "python",
   "nbconvert_exporter": "python",
   "pygments_lexer": "ipython3",
   "version": "3.7.2"
  }
 },
 "nbformat": 4,
 "nbformat_minor": 2
}
