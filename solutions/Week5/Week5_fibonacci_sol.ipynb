{
 "cells": [
  {
   "cell_type": "markdown",
   "metadata": {},
   "source": [
    "## Exercise 1: Fibonacci"
   ]
  },
  {
   "cell_type": "markdown",
   "metadata": {},
   "source": [
    "Voici le code python de l'algorithm de fibonacci vu en cours. Il calcule le n<sup>ème</sup> nombre de fibonnacci.\n",
    "\n",
    "1) Calculer la complexité de cette algorithm, c'est à dire trouver la borne temporel maximal de l'exécution de cette algorithm avec la notation O( ) ."
   ]
  },
  {
   "cell_type": "code",
   "execution_count": 2,
   "metadata": {},
   "outputs": [],
   "source": [
    "def fibonacci(n):\n",
    "    if n == 0 or n == 1:\n",
    "        return n\n",
    "    else:\n",
    "        return fibonacci(n-1) + fibonacci(n-2)\n",
    "    "
   ]
  },
  {
   "cell_type": "markdown",
   "metadata": {},
   "source": [
    "2) Essayez de calculer le 10<sup>ème</sup> puis le 40<sup>ème</sup> (cette dernière peut prendre du temps). La commande %%time au début de la cellule permet d'obtenir le temps d'éxécution de la cellule."
   ]
  },
  {
   "cell_type": "code",
   "execution_count": 4,
   "metadata": {},
   "outputs": [
    {
     "name": "stdout",
     "output_type": "stream",
     "text": [
      "55\n",
      "CPU times: user 1.77 ms, sys: 0 ns, total: 1.77 ms\n",
      "Wall time: 5.57 ms\n"
     ]
    }
   ],
   "source": [
    "%%time\n",
    "print(fibonacci(10))"
   ]
  },
  {
   "cell_type": "code",
   "execution_count": 10,
   "metadata": {},
   "outputs": [
    {
     "name": "stdout",
     "output_type": "stream",
     "text": [
      "102334155\n",
      "CPU times: user 38.8 s, sys: 12 ms, total: 38.8 s\n",
      "Wall time: 38.8 s\n"
     ]
    }
   ],
   "source": [
    "%%time\n",
    "print(fibonacci(40))"
   ]
  },
  {
   "cell_type": "markdown",
   "metadata": {},
   "source": [
    "3) Comme vous pouvez le voir le temps de calcule est très long lorsque n est grand. Maintenant il est temps d'optimiser l'algorithme vu en cours pour qu'il soit efficace. Celui que nous allons faire ne sera plus récursive mais sera tout simplment un algorithm itératif. Le problème de l'algorithme vu en cours et que dans les différents appels récursifs beaucoup de valeurs sont calculer plusieurs fois ce qui rend l'algorithme très **glouton**.\n",
    "\n",
    "Indice: pour écrire votre algorithme, il est conseillé d'utiliser des variables supplémentaires."
   ]
  },
  {
   "cell_type": "code",
   "execution_count": 13,
   "metadata": {},
   "outputs": [],
   "source": [
    "def fibonacci_fast(n):\n",
    "    x = 0\n",
    "    y = 1\n",
    "    for i in range(2, n+1):\n",
    "        tmp =  x + y\n",
    "        x = y\n",
    "        y= tmp\n",
    "    \n",
    "    return tmp\n",
    "        "
   ]
  },
  {
   "cell_type": "markdown",
   "metadata": {},
   "source": [
    "4) Essayez de calculer le 10<sup>ème</sup> puis le 40<sup>ème</sup>. Comparer les résultats avec ceux btenus précédemment."
   ]
  },
  {
   "cell_type": "code",
   "execution_count": 14,
   "metadata": {},
   "outputs": [
    {
     "name": "stdout",
     "output_type": "stream",
     "text": [
      "55\n",
      "CPU times: user 98 µs, sys: 0 ns, total: 98 µs\n",
      "Wall time: 77 µs\n"
     ]
    }
   ],
   "source": [
    "%%time\n",
    "print(fibonacci_fast(10))"
   ]
  },
  {
   "cell_type": "code",
   "execution_count": 15,
   "metadata": {},
   "outputs": [
    {
     "name": "stdout",
     "output_type": "stream",
     "text": [
      "102334155\n",
      "CPU times: user 1.09 ms, sys: 0 ns, total: 1.09 ms\n",
      "Wall time: 5.56 ms\n"
     ]
    }
   ],
   "source": [
    "%%time\n",
    "print(fibonacci_fast(40))"
   ]
  },
  {
   "cell_type": "markdown",
   "metadata": {},
   "source": [
    "**Note: Ce que vous venez d'apprendre est le compromis temps-memoire très commun en programmation souvent il est possible d'utiliser de la mémoire supplémentaire pour réduire le temps de calcule !!! THIS IS AMAAAAAZZZZIINNNNG!!!**"
   ]
  },
  {
   "cell_type": "code",
   "execution_count": null,
   "metadata": {},
   "outputs": [],
   "source": []
  }
 ],
 "metadata": {
  "kernelspec": {
   "display_name": "Python 3",
   "language": "python",
   "name": "python3"
  },
  "language_info": {
   "codemirror_mode": {
    "name": "ipython",
    "version": 3
   },
   "file_extension": ".py",
   "mimetype": "text/x-python",
   "name": "python",
   "nbconvert_exporter": "python",
   "pygments_lexer": "ipython3",
   "version": "3.7.2"
  }
 },
 "nbformat": 4,
 "nbformat_minor": 2
}
