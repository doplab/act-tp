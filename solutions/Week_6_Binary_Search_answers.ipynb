{
 "cells": [
  {
   "cell_type": "markdown",
   "metadata": {},
   "source": [
    "### Binary Search [1]\n",
    "On l'appelle **recherche dichotomique** en français.\n",
    "\n",
    "C'est un algorithme de recherche pour trouver la position d'un élément dans une liste triée. \n",
    "L'algorithme est le suivant :\n",
    "1. Trouver la position la plus centrale de la liste\n",
    "2. Comparer la valeur de cette case à l'élément recherché\n",
    "3. Si la valeur est égale à l'élément, alors retourner la position\n",
    "4. Sinon reprendre la procédure dans la moitié de la liste pertinente.\n",
    "\n",
    "[1] https://fr.wikipedia.org/wiki/Recherche_dichotomique"
   ]
  },
  {
   "cell_type": "markdown",
   "metadata": {},
   "source": [
    "Complétez la fonction **binary_search** (en utilisant la boucle **while**)"
   ]
  },
  {
   "cell_type": "code",
   "execution_count": 7,
   "metadata": {},
   "outputs": [],
   "source": [
    "def binary_search(A, key):\n",
    "    # VOTRE CODE ICI\n",
    "    low = 0                                # l'index du plus petit élément\n",
    "    high = len(A)-1                        # l'index du plus grand élément\n",
    "    while (low <= high):                   # continuer si low est plus petit que high\n",
    "        mid = int((low + high) / 2)        # calculer l'index de l'élément du milieu\n",
    "        if A[mid] > key:                   # si key (la valeur recherchée) est plus petit que l'élément actuel\n",
    "            high = mid - 1                 # alors diminuer mid de 1 et assigner la valeur à high\n",
    "        elif A[mid] < key:                 # si key est plus grand que l'élément actuel\n",
    "            low = mid + 1                  # alors augmenter mid de 1 et assigner la valeur à low\n",
    "        else:                              # sinon \n",
    "            return True                    # retourner True; cela veut dire qu'on a trouvé key dans la liste\n",
    "    return False                           # retourner False, si key ne se trouve pas dans la liste"
   ]
  },
  {
   "cell_type": "code",
   "execution_count": 8,
   "metadata": {},
   "outputs": [
    {
     "name": "stdout",
     "output_type": "stream",
     "text": [
      "True\n",
      "False\n"
     ]
    }
   ],
   "source": [
    "A = [1, 2, 3, 4, 5, 6, 7, 8, 9, 10, 11, 12, 13, 14, 15]\n",
    "print(binary_search(A, 8))     # doit retourner True\n",
    "print(binary_search(A, 0))     # doit retourner False"
   ]
  },
  {
   "cell_type": "markdown",
   "metadata": {},
   "source": [
    "Complétez la fonction récursive **binary_search_recursive**. Cette fois, il faut que vous passez les paramètres **low** et **high**."
   ]
  },
  {
   "cell_type": "code",
   "execution_count": 9,
   "metadata": {},
   "outputs": [],
   "source": [
    "def binary_search_recursive(A, low, high, key):\n",
    "    # VOTRE CODE ICI\n",
    "    if (low <= high):\n",
    "        mid = int((low + high)/2)\n",
    "        if A[mid] > key:\n",
    "            return binary_search_recursive(A, low, mid - 1, key)\n",
    "        elif (A[mid]) < key:\n",
    "            return binary_search_recursive(A, mid + 1, high, key)\n",
    "        else:\n",
    "            return True\n",
    "    return False"
   ]
  },
  {
   "cell_type": "code",
   "execution_count": 10,
   "metadata": {},
   "outputs": [
    {
     "name": "stdout",
     "output_type": "stream",
     "text": [
      "True\n",
      "False\n"
     ]
    }
   ],
   "source": [
    "A = [1, 2, 3, 4, 5, 6, 7, 8, 9, 10, 11, 12, 13, 14, 15]\n",
    "low = 0\n",
    "high = len(A)-1\n",
    "print(binary_search_recursive(A, low, high, 8))     # doit retourner True\n",
    "print(binary_search_recursive(A, low, high, 0))     # doit retourner False"
   ]
  },
  {
   "cell_type": "markdown",
   "metadata": {},
   "source": [
    "#### Supplémentaire\n",
    "On a ajouté la variable **c** dans le code. Ainsi, on peut voir combien d'étapes il faut pour trouver un élément."
   ]
  },
  {
   "cell_type": "code",
   "execution_count": 11,
   "metadata": {},
   "outputs": [],
   "source": [
    "def binary_search_complexity(A, key):\n",
    "    # VOTRE CODE ICI\n",
    "    c = 1\n",
    "    low = 0\n",
    "    high = len(A)-1\n",
    "    while (low <= high):\n",
    "        mid = int((low + high) / 2)\n",
    "        if (A[mid] > key):\n",
    "            high = mid - 1\n",
    "            c += 1\n",
    "        elif A[mid] < key:\n",
    "            low = mid + 1\n",
    "            c += 1\n",
    "        else:\n",
    "            print(\"J'ai trouvé ce que tu cherches en {0} étape(s).\".format(c))\n",
    "            return True\n",
    "    return False"
   ]
  },
  {
   "cell_type": "code",
   "execution_count": 12,
   "metadata": {},
   "outputs": [
    {
     "name": "stdout",
     "output_type": "stream",
     "text": [
      "J'ai trouvé ce que tu cherches en 1 étape(s).\n",
      "True\n",
      "J'ai trouvé ce que tu cherches en 4 étape(s).\n",
      "True\n"
     ]
    }
   ],
   "source": [
    "A = [1, 2, 3, 4, 5, 6, 7, 8, 9, 10, 11, 12, 13, 14, 15]\n",
    "print(binary_search_complexity(A, 8))\n",
    "print(binary_search_complexity(A, 7))"
   ]
  },
  {
   "cell_type": "code",
   "execution_count": null,
   "metadata": {},
   "outputs": [],
   "source": []
  }
 ],
 "metadata": {
  "kernelspec": {
   "display_name": "Python 3",
   "language": "python",
   "name": "python3"
  },
  "language_info": {
   "codemirror_mode": {
    "name": "ipython",
    "version": 3
   },
   "file_extension": ".py",
   "mimetype": "text/x-python",
   "name": "python",
   "nbconvert_exporter": "python",
   "pygments_lexer": "ipython3",
   "version": "3.6.7"
  }
 },
 "nbformat": 4,
 "nbformat_minor": 2
}
