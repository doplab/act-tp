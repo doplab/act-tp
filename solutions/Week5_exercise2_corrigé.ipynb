{
  "cells": [
    {
      "cell_type": "markdown",
      "source": [
        "# Algorithmique et Pensée Computationnelle"
      ],
      "metadata": {}
    },
    {
      "cell_type": "markdown",
      "source": [
        "# ACT Week 5\n",
        "\n",
        "## Exercise 2\n",
        "\n",
        "### Partie A\n",
        "\n",
        "_Petits exercices sur les listes et dictionnaires_\n",
        "\n",
        "Afin de créer une liste `my_list` contenant 5 chiffres et afficher uniquement les 3 premiers chiffres de `my_list`, vous faites comme ci-dessous. Pour ajouter ou enlever des éléments à une liste, vous pouvez utiliser la méthode .append() ou .pop(). Un \"+=\" peut également être utilisé pour ajouter des éléments. Pour modifier les deux premiers éléments d'une liste, vous pouvez utiliser l'indexation comme ci-dessous. Pour vider une partie de la liste, il suffit de rien mettre entre les crochets. "
      ],
      "metadata": {
        "deletable": false,
        "editable": false,
        "nbgrader": {
          "cell_type": "markdown",
          "checksum": "f26b0783d6be0333c1cd7f033d4fa6b8",
          "grade": false,
          "grade_id": "cell-05dbcb84533c13bc",
          "locked": true,
          "schema_version": 3,
          "solution": false,
          "task": false
        }
      }
    },
    {
      "cell_type": "code",
      "source": [
        "my_list = [1,3,5,7,11]\n",
        "print(my_list[0:3])\n",
        "my_list.append(15)\n",
        "my_list.pop()\n",
        "my_list += [17,30]\n",
        "my_list[0:2] = [4]\n",
        "my_list[0:3] = []\n"
      ],
      "outputs": [
        {
          "output_type": "stream",
          "name": "stdout",
          "text": [
            "[1, 3, 5]\n"
          ]
        }
      ],
      "execution_count": 1,
      "metadata": {
        "deletable": false,
        "editable": false,
        "nbgrader": {
          "cell_type": "code",
          "checksum": "8794d1562e7a5033b65969a0bf9f8606",
          "grade": false,
          "grade_id": "cell-d5d9f82b9b7f807e",
          "locked": true,
          "schema_version": 3,
          "solution": false,
          "task": false
        }
      }
    },
    {
      "cell_type": "markdown",
      "source": [
        "Après l'exécution du code ci-dessus, à quoi va ressembler `my_list`?"
      ],
      "metadata": {
        "deletable": false,
        "editable": false,
        "nbgrader": {
          "cell_type": "markdown",
          "checksum": "3ae5abd951ad547c1833d059fa256e9a",
          "grade": false,
          "grade_id": "cell-188964e9d86ade06",
          "locked": true,
          "schema_version": 3,
          "solution": false,
          "task": false
        }
      }
    },
    {
      "cell_type": "code",
      "source": [
        "print(my_list)"
      ],
      "outputs": [
        {
          "output_type": "stream",
          "name": "stdout",
          "text": [
            "[11, 17, 30]\n"
          ]
        }
      ],
      "execution_count": 2,
      "metadata": {}
    },
    {
      "cell_type": "markdown",
      "source": [
        "Ci-dessous, une liste `your_list` contenant 5 ingrédients de cuisine a été crée pour vous. "
      ],
      "metadata": {
        "deletable": false,
        "editable": false,
        "nbgrader": {
          "cell_type": "markdown",
          "checksum": "b5570fdc14011b565755ffc8cbd72c59",
          "grade": false,
          "grade_id": "cell-40cbd020eb9a20da",
          "locked": true,
          "schema_version": 3,
          "solution": false,
          "task": false
        }
      }
    },
    {
      "cell_type": "code",
      "source": [
        "your_list=[\"pain\",\"lait\",\"farine\",\"sucre\",\"oeufs\"]"
      ],
      "outputs": [],
      "execution_count": 3,
      "metadata": {
        "deletable": false,
        "editable": false,
        "nbgrader": {
          "cell_type": "code",
          "checksum": "b5b3b118fd39a9a5d31fbeaa800f14ad",
          "grade": false,
          "grade_id": "cell-b556724c3a2a0a0d",
          "locked": true,
          "schema_version": 3,
          "solution": false,
          "task": false
        }
      }
    },
    {
      "cell_type": "markdown",
      "source": [
        "Veuillez faire les étapes suivantes dans la cellule code ci-dessous:\n",
        "\n",
        "- Ajoutez 2 ingrédients de cuisine à `your_list` à l'aide du \"+=\". Les ingrédients sont \"poivrons\" et \"courgettes\". \n",
        "\n",
        "- Ajoutez 1 ingrédients de cuisine à `your_list` en utilisant la méthode append(). L'ingrédient est \"chocolat\". \n",
        "\n",
        "- Affichez l'ingrédient qui se trouve à la position 3 de la liste `your_list.\n",
        "\n",
        "- Supprimez le dernier élément de `your_list` en utilisant la fonction pop().\n",
        "\n",
        "- Remplacez les deux premiers éléments de `your_list` par \"fruits\".\n",
        "\n",
        "- Supprimez les deux premiers éléments de `your_list`.\n",
        "\n",
        "- Supprimez toute la liste `your_list`.\n",
        "\n",
        "- Vérifiez que la liste est vide grâce à la fonction len().\n"
      ],
      "metadata": {
        "deletable": false,
        "editable": false,
        "nbgrader": {
          "cell_type": "markdown",
          "checksum": "5ad69adac347d286b69a9585f14bb109",
          "grade": false,
          "grade_id": "cell-1b76eedb6020590c",
          "locked": true,
          "schema_version": 3,
          "solution": false,
          "task": false
        }
      }
    },
    {
      "cell_type": "code",
      "source": [
        "your_list=[\"pain\",\"lait\",\"farine\",\"sucre\",\"oeufs\"]\n",
        "print(your_list)\n",
        "your_list += [\"poivrons\",\"courgettes\"]\n",
        "print(your_list)\n",
        "your_list.append(\"chocolat\")\n",
        "print(your_list)\n",
        "print(your_list[3])\n",
        "your_list.pop()\n",
        "print(your_list)\n",
        "your_list[0:2]=[\"fruits\"]\n",
        "print(your_list)\n",
        "your_list[0:2]=[]\n",
        "print(your_list)\n",
        "your_list[:]=[]\n",
        "print(your_list)\n",
        "print(len(your_list))"
      ],
      "outputs": [
        {
          "output_type": "stream",
          "name": "stdout",
          "text": [
            "['pain', 'lait', 'farine', 'sucre', 'oeufs']\n",
            "['pain', 'lait', 'farine', 'sucre', 'oeufs', 'poivrons', 'courgettes']\n",
            "['pain', 'lait', 'farine', 'sucre', 'oeufs', 'poivrons', 'courgettes', 'chocolat']\n",
            "sucre\n",
            "['pain', 'lait', 'farine', 'sucre', 'oeufs', 'poivrons', 'courgettes']\n",
            "['fruits', 'farine', 'sucre', 'oeufs', 'poivrons', 'courgettes']\n",
            "['sucre', 'oeufs', 'poivrons', 'courgettes']\n",
            "[]\n",
            "0\n"
          ]
        }
      ],
      "execution_count": 7,
      "metadata": {}
    },
    {
      "cell_type": "markdown",
      "source": [
        "Afin de créer un dictionnaire contenant 3 paires de clé-valeur, ajouter une quatrième paire clé-valeur et effacer une paire, vous pouvez faire comme ci-dessous. Afin d'affichez uniquement les clés ou valeurs, vous pouvez faire comme ci-dessous."
      ],
      "metadata": {
        "deletable": false,
        "editable": false,
        "nbgrader": {
          "cell_type": "markdown",
          "checksum": "559e8f0c0bc355385ed4c0a741113c6f",
          "grade": false,
          "grade_id": "cell-7d5283a23a337e7f",
          "locked": true,
          "schema_version": 3,
          "solution": false,
          "task": false
        }
      }
    },
    {
      "cell_type": "code",
      "source": [
        "annuaire = {\"Shioban\": 111, \"Tyson\": 222, \"Shawn\": 333 }\n",
        "annuaire[\"Steven\"] = 444\n",
        "del annuaire[\"Tyson\"]\n",
        "print(annuaire.keys())\n",
        "print(annuaire.values())"
      ],
      "outputs": [],
      "execution_count": null,
      "metadata": {
        "deletable": false,
        "editable": false,
        "nbgrader": {
          "cell_type": "code",
          "checksum": "82c001b4f0a8e30fcef71e1307b15049",
          "grade": false,
          "grade_id": "cell-4f6058a5ac73889c",
          "locked": true,
          "schema_version": 3,
          "solution": false,
          "task": false
        }
      }
    },
    {
      "cell_type": "markdown",
      "source": [
        "Ci-dessous, un dictionnaire `mes_courses` ayant comme clés 5 ingrédients et comme valeurs les quantités respectives à acheter a été crée pour vous. "
      ],
      "metadata": {
        "deletable": false,
        "editable": false,
        "nbgrader": {
          "cell_type": "markdown",
          "checksum": "5ef0c7d1c19055b0280f84b75158036b",
          "grade": false,
          "grade_id": "cell-5a43faa341c98b5d",
          "locked": true,
          "schema_version": 3,
          "solution": false,
          "task": false
        }
      }
    },
    {
      "cell_type": "code",
      "source": [
        "mes_courses= {\"pain\":1,\"lait\":3,\"farine\":2,\"sucre\":1,\"oeufs\":6}"
      ],
      "outputs": [],
      "execution_count": null,
      "metadata": {
        "deletable": false,
        "editable": false,
        "nbgrader": {
          "cell_type": "code",
          "checksum": "9d9f914aaabce29b63dea3bf8a0805b8",
          "grade": false,
          "grade_id": "cell-f7e9cccdcb69905c",
          "locked": true,
          "schema_version": 3,
          "solution": false,
          "task": false
        }
      }
    },
    {
      "cell_type": "markdown",
      "source": [
        "Veuillez faire les étapes suivantes dans la cellule code ci-dessous:\n",
        "\n",
        "- Ajoutez une nouvelle paire clé-valeur à `mes_courses`. La clé est \"chocolat\" alors que la valeur est 3. \n",
        "\n",
        "- Supprimez la première paire clé-valeur ayant comme clé \"pains\".\n",
        "\n",
        "- Affichez toutes les clés de `mes_courses`.\n",
        "\n",
        "- Affichez toutes les valeurs de `mes_courses`.\n",
        "\n",
        "- Vérifiez si l'ingrédient \"lait\" est dans `mes_courses` en une seule ligne avec la méthode print(). La réponse doit être True ou False.\n",
        "\n",
        "- Trouvez une façon de vérifier que l'ingrédient \"lait\" se trouve effectivement dans votre liste de clés.\n"
      ],
      "metadata": {
        "deletable": false,
        "editable": false,
        "nbgrader": {
          "cell_type": "markdown",
          "checksum": "b8653786ce861ad475d02bcfa985ed18",
          "grade": false,
          "grade_id": "cell-67114e2e886c8d17",
          "locked": true,
          "schema_version": 3,
          "solution": false,
          "task": false
        }
      }
    },
    {
      "cell_type": "code",
      "source": [
        "mes_courses= {\"pain\":1,\"lait\":3,\"farine\":2,\"sucre\":1,\"oeufs\":6}\n",
        "mes_courses[\"chocolat\"]=3\n",
        "del mes_courses[\"pain\"]\n",
        "print(mes_courses.keys())\n",
        "print(mes_courses.values())\n",
        "print(\"lait\"in mes_courses.keys())\n",
        "print(\"lait\"in mes_courses)\n",
        "\n",
        "\n"
      ],
      "outputs": [
        {
          "output_type": "stream",
          "name": "stdout",
          "text": [
            "dict_keys(['lait', 'farine', 'sucre', 'oeufs', 'chocolat'])\n",
            "dict_values([3, 2, 1, 6, 3])\n",
            "True\n",
            "True\n"
          ]
        }
      ],
      "execution_count": 6,
      "metadata": {}
    },
    {
      "cell_type": "markdown",
      "source": [
        "### Partie B\n",
        "\n",
        "_Petits exercises sur les fonctions_\n",
        "\n",
        "Afin de définir une fonction, il faut utiliser le keyword `def` suivi du nom de la fonction et de ses paramètres entre paranthèses. Le keyword `return` est une instruction qui a pour but de renvoyer une information à la fin de l’exécution d'une fonction. L'appel d'une fonction peut se faire dans la déclaration d'une variable afin que le résultat soit stocker dans cette variable comme ci-dessous. "
      ],
      "metadata": {
        "deletable": false,
        "editable": false,
        "nbgrader": {
          "cell_type": "markdown",
          "checksum": "ea0e90988a4e2942261110bb3fb1f597",
          "grade": false,
          "grade_id": "cell-eae63d6eb4e26bbd",
          "locked": true,
          "schema_version": 3,
          "solution": false,
          "task": false
        }
      }
    },
    {
      "cell_type": "code",
      "source": [
        "def multip(a,b):\n",
        "  return a*b\n",
        "result = multip(3,7)"
      ],
      "outputs": [],
      "execution_count": 9,
      "metadata": {
        "deletable": false,
        "editable": false,
        "nbgrader": {
          "cell_type": "code",
          "checksum": "f397bc7790e5b048a762bb11a659309d",
          "grade": false,
          "grade_id": "cell-decd990bacc2ec3b",
          "locked": true,
          "schema_version": 3,
          "solution": false,
          "task": false
        }
      }
    },
    {
      "cell_type": "markdown",
      "source": [
        "Complètez la fonction ci-dessous afin qu'elle retourne le cube de l'argument _x_."
      ],
      "metadata": {
        "deletable": false,
        "editable": false,
        "nbgrader": {
          "cell_type": "markdown",
          "checksum": "00e94eb67dd8f00edf35f0103bed2f0a",
          "grade": false,
          "grade_id": "cell-42076edf9da7b09c",
          "locked": true,
          "schema_version": 3,
          "solution": false,
          "task": false
        }
      }
    },
    {
      "cell_type": "code",
      "source": [
        "def cube(x):\n",
        "    # complètez ici\n",
        "    return x**3\n",
        "    \n",
        "cube(3)"
      ],
      "outputs": [
        {
          "output_type": "execute_result",
          "execution_count": 10,
          "data": {
            "text/plain": [
              "27"
            ]
          },
          "metadata": {}
        }
      ],
      "execution_count": 10,
      "metadata": {}
    },
    {
      "cell_type": "markdown",
      "source": [
        "Complètez la fonction ci-dessous afin qu'elle renvoie la somme du tuple _args_. "
      ],
      "metadata": {
        "deletable": false,
        "editable": false,
        "nbgrader": {
          "cell_type": "markdown",
          "checksum": "40cdd17df23f132614c47cd6dc26a263",
          "grade": false,
          "grade_id": "cell-a880507a50e3de6d",
          "locked": true,
          "schema_version": 3,
          "solution": false,
          "task": false
        }
      }
    },
    {
      "cell_type": "code",
      "source": [
        "def somme(*args):\n",
        "    resultat = 0\n",
        "    # complètez ici\n",
        "    for i in args:\n",
        "        resultat = resultat + i\n",
        "    return resultat\n",
        "    \n",
        "print(somme(23))\n",
        "print(somme(48,29,19))"
      ],
      "outputs": [
        {
          "output_type": "stream",
          "name": "stdout",
          "text": [
            "23\n",
            "96\n"
          ]
        }
      ],
      "execution_count": 11,
      "metadata": {}
    },
    {
      "cell_type": "markdown",
      "source": [
        "Une fonction `weirdo` qui prend _a_ comme argument a été crée pour vous. Complètez la fonction afin que:\n",
        "\n",
        "- si _a_ est impair, \"weirdo\" soit affiché. \n",
        "\n",
        "- si _a_ est pair et compris entre 10 et 20, \"weirdo\" soit affiché.\n",
        "\n",
        "- sinon, \"no weirdo\" doit être affiché. "
      ],
      "metadata": {
        "deletable": false,
        "editable": false,
        "nbgrader": {
          "cell_type": "markdown",
          "checksum": "0820dbb6b581bb645bf6962c1bcc2bef",
          "grade": false,
          "grade_id": "cell-ecb271c3dd56093d",
          "locked": true,
          "schema_version": 3,
          "solution": false,
          "task": false
        }
      }
    },
    {
      "cell_type": "code",
      "source": [
        "X = int(input())\n",
        "def weirdo (a):\n",
        "    # complètez ici\n",
        "    if (a%2==1) or (a%2==0) and (6<=a<=20):\n",
        "        print(\"weirdo\")\n",
        "    else:\n",
        "        print(\"no weirdo\")\n",
        "    \n",
        "weirdo(X)"
      ],
      "outputs": [
        {
          "output_type": "stream",
          "name": "stdout",
          "text": [
            "20\n",
            "weirdo\n"
          ]
        }
      ],
      "execution_count": 13,
      "metadata": {}
    },
    {
      "cell_type": "markdown",
      "source": [
        "Une fonction peut avoir aucun paramètre, un paramètre ou plusieurs paramètre. Il est également possible d'utiliser une variable comme argument pour appeler la fonction. Les prochains exercices illustrent ceci. \n",
        "\n",
        "Complètez la fonction ci-dessous afin qu'elle affiche les nombres de 0 à 10. "
      ],
      "metadata": {
        "deletable": false,
        "editable": false,
        "nbgrader": {
          "cell_type": "markdown",
          "checksum": "3e53a76c8bb7429212a164f20a7b2151",
          "grade": false,
          "grade_id": "cell-352144a8aca369df",
          "locked": true,
          "schema_version": 3,
          "solution": false,
          "task": false
        }
      }
    },
    {
      "cell_type": "code",
      "source": [
        "def counting():\n",
        "    i = 0\n",
        "    # complètez ici\n",
        "    while i<=10:\n",
        "        print(i)\n",
        "        i=i+1\n",
        "    \n",
        "counting()"
      ],
      "outputs": [
        {
          "output_type": "stream",
          "name": "stdout",
          "text": [
            "0\n",
            "1\n",
            "2\n",
            "3\n",
            "4\n",
            "5\n",
            "6\n",
            "7\n",
            "8\n",
            "9\n",
            "10\n"
          ]
        }
      ],
      "execution_count": 14,
      "metadata": {}
    },
    {
      "cell_type": "markdown",
      "source": [
        "Complètez la fonction ci-dessous qu'elle affiche les nombres de 0 à n. "
      ],
      "metadata": {
        "deletable": false,
        "editable": false,
        "nbgrader": {
          "cell_type": "markdown",
          "checksum": "ba475ae6647aae8aeb79d65066bed41e",
          "grade": false,
          "grade_id": "cell-0f69b61e735f278d",
          "locked": true,
          "schema_version": 3,
          "solution": false,
          "task": false
        }
      }
    },
    {
      "cell_type": "code",
      "source": [
        "def counting2(n):\n",
        "    i = 0\n",
        "    # complètez ici\n",
        "    while i<=n:\n",
        "        print(i)\n",
        "        i=i+1\n",
        "z = 20\n",
        "counting2(z)\n"
      ],
      "outputs": [
        {
          "output_type": "stream",
          "name": "stdout",
          "text": [
            "0\n",
            "1\n",
            "2\n",
            "3\n",
            "4\n",
            "5\n",
            "6\n",
            "7\n",
            "8\n",
            "9\n",
            "10\n",
            "11\n",
            "12\n",
            "13\n",
            "14\n",
            "15\n",
            "16\n",
            "17\n",
            "18\n",
            "19\n",
            "20\n"
          ]
        }
      ],
      "execution_count": 15,
      "metadata": {}
    },
    {
      "cell_type": "markdown",
      "source": [
        "Appelez la fonction counting en utilisant la variable `z`ci-dessus. "
      ],
      "metadata": {
        "deletable": false,
        "editable": false,
        "nbgrader": {
          "cell_type": "markdown",
          "checksum": "fca0d1b7cf4d95cf94755b5ffc27417a",
          "grade": false,
          "grade_id": "cell-97072844d2bb0fe2",
          "locked": true,
          "schema_version": 3,
          "solution": false,
          "task": false
        }
      }
    },
    {
      "cell_type": "markdown",
      "source": [
        "Complètez la fonction ci-dessous afin qu'elle affiche les nombres de `a`à `b`avec l'intervalle `c`."
      ],
      "metadata": {
        "deletable": false,
        "editable": false,
        "nbgrader": {
          "cell_type": "markdown",
          "checksum": "c221319ac88dee9880757f6da85d622a",
          "grade": false,
          "grade_id": "cell-d4c82faab6b61360",
          "locked": true,
          "schema_version": 3,
          "solution": false,
          "task": false
        }
      }
    },
    {
      "cell_type": "code",
      "source": [
        "def counting3(a,b,c):\n",
        "    i = a\n",
        "    # complètez ici\n",
        "    while i<=b:\n",
        "        print(i)\n",
        "        i=i+c\n",
        "    \n",
        "counting3(5,20,3)"
      ],
      "outputs": [
        {
          "output_type": "stream",
          "name": "stdout",
          "text": [
            "5\n",
            "8\n",
            "11\n",
            "14\n",
            "17\n",
            "20\n"
          ]
        }
      ],
      "execution_count": 17,
      "metadata": {}
    },
    {
      "cell_type": "code",
      "source": [],
      "outputs": [],
      "execution_count": null,
      "metadata": {}
    }
  ],
  "metadata": {
    "kernel_info": {
      "name": "python3"
    },
    "kernelspec": {
      "name": "python3",
      "language": "python",
      "display_name": "Python 3"
    },
    "language_info": {
      "name": "python",
      "version": "3.7.3",
      "mimetype": "text/x-python",
      "codemirror_mode": {
        "name": "ipython",
        "version": 3
      },
      "pygments_lexer": "ipython3",
      "nbconvert_exporter": "python",
      "file_extension": ".py"
    },
    "nteract": {
      "version": "0.15.0"
    },
    "pycharm": {
      "stem_cell": {
        "cell_type": "raw",
        "metadata": {
          "collapsed": false
        },
        "source": []
      }
    },
    "toc": {
      "toc_position": {},
      "skip_h1_title": false,
      "number_sections": false,
      "title_cell": "Table of Contents",
      "toc_window_display": false,
      "base_numbering": 1,
      "toc_section_display": false,
      "title_sidebar": "Contents",
      "toc_cell": false,
      "nav_menu": {},
      "sideBar": false
    }
  },
  "nbformat": 4,
  "nbformat_minor": 2
}