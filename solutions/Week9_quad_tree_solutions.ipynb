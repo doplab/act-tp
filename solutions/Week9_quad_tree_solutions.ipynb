{
  "cells": [
    {
      "cell_type": "markdown",
      "source": [
        "### Week 9 - Corrections Quad-tree\n",
        "\n",
        "<img src=\\\"https://github.com/doplab/act-tp/blob/master/images/quad_tree_sol1.png?raw=true\\\" />\n",
        "\n",
        "-> level 3\n",
        "\n",
        "<img src=\\\"https://github.com/doplab/act-tp/blob/master/images/quad_tree_sol2.png?raw=true\\\" />\n",
        "\n",
        "<img src=\\\"https://github.com/doplab/act-tp/blob/master/images/bonhomme_sol1.png?raw=true\\\" />\n",
        "\n",
        "<img src=\\\"https://github.com/doplab/act-tp/blob/master/images/bonhomme_sol2.png?raw=true\\\" />"
      ],
      "metadata": {}
    },
    {
      "cell_type": "code",
      "source": [],
      "outputs": [],
      "execution_count": null,
      "metadata": {
        "collapsed": false,
        "outputHidden": false,
        "inputHidden": false
      }
    }
  ],
  "metadata": {
    "kernel_info": {
      "name": "python3"
    },
    "language_info": {
      "name": "python",
      "version": "3.7.3",
      "mimetype": "text/x-python",
      "codemirror_mode": {
        "name": "ipython",
        "version": 3
      },
      "pygments_lexer": "ipython3",
      "nbconvert_exporter": "python",
      "file_extension": ".py"
    },
    "kernelspec": {
      "name": "python3",
      "language": "python",
      "display_name": "Python 3"
    },
    "nteract": {
      "version": "0.15.0"
    }
  },
  "nbformat": 4,
  "nbformat_minor": 0
}