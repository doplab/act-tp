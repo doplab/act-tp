{
 "cells": [
  {
   "cell_type": "markdown",
   "metadata": {},
   "source": [
    "### Merge Sort\n",
    "\n",
    "(On l'appelle **Tri Fusion** en français)\n",
    "\n",
    "Implémentez l'algorithme de **merge sort**. Les pas de l'algorithme étaient comme suit [1]:\n",
    "\n",
    "1. Si le tableau n'a qu'un élément, il est déjà trié.\n",
    "2. Sinon, séparer le tableau en deux parties à peu près égales.\n",
    "3. Trier récursivement les deux parties avec l'algorithme du tri fusion.\n",
    "4. Fusionner les deux tableaux triés en un seul tableau trié.\n",
    "\n",
    "[1] : https://fr.wikipedia.org/wiki/Tri_fusion"
   ]
  },
  {
   "cell_type": "code",
   "execution_count": 4,
   "metadata": {},
   "outputs": [],
   "source": [
    "def merge_sort(la_liste):\n",
    "    longueur = len(la_liste)   # calculer la longueur de la liste\n",
    "    # s'il n'y a pas plus d'un élément, retourner la liste\n",
    "    if longueur == 1 or longueur == 0:\n",
    "        return la_liste\n",
    "    # sinon, diviser la liste en deux\n",
    "    elif longueur > 1:\n",
    "        index_milieu = int(longueur / 2)   # convertir la variable en nombre entier (l'index ne peut pas être un nombre à virgule)\n",
    "        partie_gauche = la_liste[0:index_milieu]   # la partie gauche va du 1er élément à celui du milieu\n",
    "        partie_droite = la_liste[index_milieu:longueur]   # la partie droite va du milieu à la fin de la liste\n",
    "        \n",
    "        partie_gauche_triee = merge_sort(partie_gauche)   # appeler la fonction merge_sort à nouveau sur la partie gauche (récursivité)\n",
    "        partie_droite_triee = merge_sort(partie_droite)   # même chose pour la partie droite\n",
    "        \n",
    "        liste_fusionnee = merge(partie_gauche_triee, partie_droite_triee)   # enfin, joindre les 2 parties\n",
    "        \n",
    "        return liste_fusionnee   # retourner le résultat"
   ]
  },
  {
   "cell_type": "code",
   "execution_count": 5,
   "metadata": {},
   "outputs": [],
   "source": [
    "def merge(partie_gauche, partie_droite):\n",
    "    liste_fusionnee = []   # créer la liste qui sera retournée à la fin\n",
    "    \n",
    "    compteur_gauche = 0   # définir un compteur pour l'index de la liste de gauche\n",
    "    compteur_droite = 0   # pareil pour la liste de droite\n",
    "    \n",
    "    longueur_gauche = len(partie_gauche)   # calculer la longueur de la partie gauche\n",
    "    longueur_droite = len(partie_droite)   # pareil pour la partie droite\n",
    "    \n",
    "    # continuer jusqu'à ce que l'un des index (ou les deux) atteigne l'une des longueurs (ou les deux)\n",
    "    while compteur_gauche < longueur_gauche and compteur_droite < longueur_droite:\n",
    "        # comparer les éléments actuels, ajouter le plus petit à la liste fusionnée \n",
    "        # et augmenter le compteur de cette liste\n",
    "        if partie_gauche[compteur_gauche] < partie_droite[compteur_droite]:\n",
    "            liste_fusionnee.append(partie_gauche[compteur_gauche])\n",
    "            compteur_gauche += 1\n",
    "        else:\n",
    "            liste_fusionnee.append(partie_droite[compteur_droite])\n",
    "            compteur_droite += 1\n",
    "    \n",
    "    # s'il y a encore des éléments dans les listes, il faut les ajouter à la liste fusionnée\n",
    "    liste_fusionnee += partie_gauche[compteur_gauche:longueur_gauche]\n",
    "    liste_fusionnee += partie_droite[compteur_droite:longueur_droite]\n",
    "    \n",
    "    return liste_fusionnee   # retourner la liste fusionnée"
   ]
  },
  {
   "cell_type": "code",
   "execution_count": 6,
   "metadata": {},
   "outputs": [
    {
     "name": "stdout",
     "output_type": "stream",
     "text": [
      "[3, 9, 10, 27, 38, 43, 82]\n"
     ]
    }
   ],
   "source": [
    "print(merge_sort([38, 27, 43, 3, 9, 82, 10]))"
   ]
  },
  {
   "cell_type": "markdown",
   "metadata": {},
   "source": [
    "* Cliquez sur le lien ci-dessous pour analyser le merge sort pas à pas.\n",
    "\n",
    "https://upload.wikimedia.org/wikipedia/commons/thumb/e/e6/Merge_sort_algorithm_diagram.svg/1024px-Merge_sort_algorithm_diagram.svg.png\n",
    "\n",
    "* Cliquez sur le lien suivant pour observer la performance de merge sort sur différents types de listes. \n",
    "\n",
    "https://www.toptal.com/developers/sorting-algorithms/merge-sort"
   ]
  },
  {
   "cell_type": "code",
   "execution_count": null,
   "metadata": {},
   "outputs": [],
   "source": []
  }
 ],
 "metadata": {
  "kernelspec": {
   "display_name": "Python 3",
   "language": "python",
   "name": "python3"
  },
  "language_info": {
   "codemirror_mode": {
    "name": "ipython",
    "version": 3
   },
   "file_extension": ".py",
   "mimetype": "text/x-python",
   "name": "python",
   "nbconvert_exporter": "python",
   "pygments_lexer": "ipython3",
   "version": "3.6.7"
  }
 },
 "nbformat": 4,
 "nbformat_minor": 2
}
