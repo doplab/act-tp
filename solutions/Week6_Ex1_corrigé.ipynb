{
  "cells": [
    {
      "cell_type": "markdown",
      "source": [
        "# Algorithmique et Pensée Computationnelle"
      ],
      "metadata": {}
    },
    {
      "cell_type": "markdown",
      "source": [
        "## Exercice 1: Recherche séquentielle\n",
        "\n",
        "Une recherche séquentielle scanne un élément après l'autre, de gauche à droite, pour trouver un élément x dans un tuple, une liste ou un dictionnaire. \n",
        "\n",
        "Le but est de comparer x à chaque élément de la liste et de retourner l'index de l'élément correspondant à x.\n",
        "\n",
        "Sa complexité dans le pire des cas est de O(n) et dans le meilleur des cas de O(1). \n",
        "\n",
        "### Partie A: \n",
        "\n",
        "A partir de la liste d'éléments ci-dessous, écrivez une fonction qui cherche x dans la liste. La fonction doit retourner l'index de l'élément correspondant de la liste si x est dans la liste et \"-1\" dans le cas contraire. Ici, x = 100. "
      ],
      "metadata": {
        "colab_type": "text",
        "deletable": false,
        "editable": false,
        "id": "ls6r45_v4Abs",
        "nbgrader": {
          "cell_type": "markdown",
          "checksum": "b556b114934fbc7e45d9af7193568a76",
          "grade": false,
          "grade_id": "cell-3bcbfcb4cb27a044",
          "locked": true,
          "schema_version": 3,
          "solution": false,
          "task": false
        }
      }
    },
    {
      "cell_type": "code",
      "source": [
        "def seq_search(list, x):\n",
        "    #complètez ici\n",
        "    for i in range(len(list)): # i est considéré comme un index\n",
        "        if list[i] == x:\n",
        "            print(\"X present in list at index: \", i)\n",
        "            return i\n",
        "            break\n",
        "    else: #only used when loop not terminated by a break statement\n",
        "    #if i == len(list)-1 and list[i] != x:  #also possible\n",
        "        print(\"X not present in list\")\n",
        "        return -1"
      ],
      "outputs": [],
      "execution_count": 2,
      "metadata": {
        "colab": {
          "base_uri": "https://localhost:8080/",
          "height": 51
        },
        "colab_type": "code",
        "id": "CKHPCuFV4JEv",
        "outputId": "cf2c9126-2b91-4578-d3e4-f0e5f7e56c9e"
      }
    },
    {
      "cell_type": "code",
      "source": [
        "liste = [3,55,6,8,3,5,56,33,6,5,3,2,99,53,532,75,21,963,100,445,56,45,12,56,24]\n",
        "x = 100\n",
        "seq_search(liste, x)"
      ],
      "outputs": [
        {
          "output_type": "stream",
          "name": "stdout",
          "text": [
            "X present in list at index:  18\n"
          ]
        },
        {
          "output_type": "execute_result",
          "execution_count": 4,
          "data": {
            "text/plain": [
              "18"
            ]
          },
          "metadata": {}
        }
      ],
      "execution_count": 4,
      "metadata": {
        "deletable": false,
        "editable": false,
        "nbgrader": {
          "cell_type": "code",
          "checksum": "6cdd9f78a057b9d7b5327aef8aab7392",
          "grade": false,
          "grade_id": "cell-834b215488f24798",
          "locked": true,
          "schema_version": 3,
          "solution": false,
          "task": false
        }
      }
    },
    {
      "cell_type": "code",
      "source": [
        "%%time \n",
        "print(seq_search(liste, x))"
      ],
      "outputs": [
        {
          "output_type": "stream",
          "name": "stdout",
          "text": [
            "X present in list at index:  18\n",
            "18\n",
            "CPU times: user 189 µs, sys: 106 µs, total: 295 µs\n",
            "Wall time: 248 µs\n"
          ]
        }
      ],
      "execution_count": 5,
      "metadata": {
        "colab": {
          "base_uri": "https://localhost:8080/",
          "height": 85
        },
        "colab_type": "code",
        "deletable": false,
        "editable": false,
        "id": "mFkLvqb9dDS5",
        "nbgrader": {
          "cell_type": "code",
          "checksum": "eda583cd9f49a38973c6637b09efd0d3",
          "grade": false,
          "grade_id": "cell-e7480961e61043e8",
          "locked": true,
          "schema_version": 3,
          "solution": false,
          "task": false
        },
        "outputId": "72d5c85f-10be-41ed-8504-29d83272d557"
      }
    },
    {
      "cell_type": "markdown",
      "source": [
        "Dans la pratique, l'algorithme de recherche séquentielle n'est pas souvent utilisé en vue de sa complexité élevée et des alternatives de recherche plus efficaces comme la recherche binaire. "
      ],
      "metadata": {
        "colab_type": "text",
        "deletable": false,
        "editable": false,
        "id": "RF8Q1z7i4Mbs",
        "nbgrader": {
          "cell_type": "markdown",
          "checksum": "8de4a7ee1f4502f4a073e5193adc07ca",
          "grade": false,
          "grade_id": "cell-ecd224b4dd3278da",
          "locked": true,
          "schema_version": 3,
          "solution": false,
          "task": false
        }
      }
    },
    {
      "cell_type": "markdown",
      "source": [
        "### Partie B:\n",
        "\n",
        "Considérez une liste d’entiers non triée `L` ainsi qu’un entier `e`. Ecrivez un programme qui retourne l'élément de la liste L le plus proche de `e` en utilisant une recherche séquentielle.\n",
        "\n",
        "Exemple : \n",
        "\n",
        "    L = [1, 2, 5, 8, 12, 16, 24, 56, 58, 63] \n",
        "\n",
        "    e = 41\n",
        "\n",
        "Résultat attendu : 56"
      ],
      "metadata": {
        "colab_type": "text",
        "deletable": false,
        "editable": false,
        "id": "CzH56zx2R4IJ",
        "nbgrader": {
          "cell_type": "markdown",
          "checksum": "0ded05139cb6abc476fed8c1c3206e9c",
          "grade": false,
          "grade_id": "cell-678d7770a760deed",
          "locked": true,
          "schema_version": 3,
          "solution": false,
          "task": false
        }
      }
    },
    {
      "cell_type": "code",
      "source": [
        "def find_closest_seq(list,n): #calcul diff avec tout element et n\n",
        "    diff = None #initialisation\n",
        "    resultat = None\n",
        "    #complètez ici\n",
        "    for i in list:\n",
        "        if not diff or abs(i-n) < diff: #old diff\n",
        "            diff = abs(i-n) #new diff # \n",
        "            resultat = i\n",
        "            \n",
        "    return resultat, diff\n",
        "\n",
        "L = [563,34,53, 57,3,56] \n",
        "e = 41\n",
        "\n",
        "find_closest_seq(L,e)\n",
        "\n"
      ],
      "outputs": [
        {
          "output_type": "execute_result",
          "execution_count": 3,
          "data": {
            "text/plain": [
              "(34, 7)"
            ]
          },
          "metadata": {}
        }
      ],
      "execution_count": 3,
      "metadata": {
        "colab": {
          "base_uri": "https://localhost:8080/",
          "height": 34
        },
        "colab_type": "code",
        "id": "k3aVRSArS8Du",
        "outputId": "d7fbb59f-ac59-4c68-fc0f-28f7f3b8cab8"
      }
    },
    {
      "cell_type": "code",
      "source": [
        "L = [1, 2, 5, 8, 12, 16, 24, 56, 58, 63] \n",
        "e = 41\n",
        "\n",
        "find_closest_seq(L,e)"
      ],
      "outputs": [
        {
          "output_type": "execute_result",
          "execution_count": 2,
          "data": {
            "text/plain": [
              "(56, 15)"
            ]
          },
          "metadata": {}
        }
      ],
      "execution_count": 2,
      "metadata": {
        "deletable": false,
        "editable": false,
        "nbgrader": {
          "cell_type": "code",
          "checksum": "50f41453d8f6556fa20356165b78af9b",
          "grade": false,
          "grade_id": "cell-094a6bb1c1fff59e",
          "locked": true,
          "schema_version": 3,
          "solution": false,
          "task": false
        }
      }
    },
    {
      "cell_type": "code",
      "source": [
        "%%time \n",
        "print(find_closest_seq(L,e))"
      ],
      "outputs": [
        {
          "output_type": "stream",
          "name": "stdout",
          "text": [
            "56\n",
            "CPU times: user 76 µs, sys: 42 µs, total: 118 µs\n",
            "Wall time: 126 µs\n"
          ]
        }
      ],
      "execution_count": 8,
      "metadata": {
        "colab": {
          "base_uri": "https://localhost:8080/",
          "height": 68
        },
        "colab_type": "code",
        "deletable": false,
        "editable": false,
        "id": "GaXBj0HxdT5U",
        "nbgrader": {
          "cell_type": "code",
          "checksum": "6620f6d2277f66e2bcee1f34c1840157",
          "grade": false,
          "grade_id": "cell-25b287b962eefa6f",
          "locked": true,
          "schema_version": 3,
          "solution": false,
          "task": false
        },
        "outputId": "b39c4586-9961-47ca-ca0d-68f3e706c3f3"
      }
    },
    {
      "cell_type": "markdown",
      "source": [
        "### Partie C:\n",
        "\n",
        "Considérez une liste d’entiers triés `L` ainsi qu’un entier `e`. Ecrivez un programme qui retourne l'index de l'élément `e` de la liste L en utilisant une recherche séquentielle. Si `e` n’est pas dans `L`, retournez -1.\n",
        "\n",
        "Exemple:\n",
        "\n",
        "    L = [1231321,3213125,3284016,4729273,5492710] \n",
        "\n",
        "    e = 3284016\n",
        "\n",
        "Résultat attendu: 2"
      ],
      "metadata": {
        "colab_type": "text",
        "deletable": false,
        "editable": false,
        "id": "eV41YFweaA06",
        "nbgrader": {
          "cell_type": "markdown",
          "checksum": "e6f23a33ca39c78acaa974320274a1b7",
          "grade": false,
          "grade_id": "cell-77c2903d9f8d9844",
          "locked": true,
          "schema_version": 3,
          "solution": false,
          "task": false
        }
      }
    },
    {
      "cell_type": "code",
      "source": [
        "def linear_search(L,e):\n",
        "    for index, elem in enumerate(L):\n",
        "        #complètez ici \n",
        "        if elem == e:\n",
        "            return index\n",
        "    return -1"
      ],
      "outputs": [],
      "execution_count": 14,
      "metadata": {
        "colab": {
          "base_uri": "https://localhost:8080/",
          "height": 34
        },
        "colab_type": "code",
        "id": "PmkWbINeazYQ",
        "outputId": "dc12452a-e857-4643-b579-5ab91fea9c35"
      }
    },
    {
      "cell_type": "code",
      "source": [
        "L = [1231321,3213125,3284016,4729273,5492710]\n",
        "e = 3284016\n",
        "linear_search(L,e)"
      ],
      "outputs": [
        {
          "output_type": "execute_result",
          "execution_count": 15,
          "data": {
            "text/plain": [
              "2"
            ]
          },
          "metadata": {}
        }
      ],
      "execution_count": 15,
      "metadata": {
        "deletable": false,
        "editable": false,
        "nbgrader": {
          "cell_type": "code",
          "checksum": "be082b265cf7ea07fd00fa24324f6f5b",
          "grade": false,
          "grade_id": "cell-b3731b666ff557af",
          "locked": true,
          "schema_version": 3,
          "solution": false,
          "task": false
        }
      }
    },
    {
      "cell_type": "code",
      "source": [
        "%%time\n",
        "print(linear_search(L,e))"
      ],
      "outputs": [
        {
          "output_type": "stream",
          "name": "stdout",
          "text": [
            "2\n",
            "CPU times: user 162 µs, sys: 87 µs, total: 249 µs\n",
            "Wall time: 252 µs\n"
          ]
        }
      ],
      "execution_count": 16,
      "metadata": {
        "colab": {
          "base_uri": "https://localhost:8080/",
          "height": 68
        },
        "colab_type": "code",
        "deletable": false,
        "editable": false,
        "id": "MYUURcGldZnX",
        "nbgrader": {
          "cell_type": "code",
          "checksum": "41d6010aeb2b49327e988de0635860c9",
          "grade": false,
          "grade_id": "cell-6ef04204f61110fe",
          "locked": true,
          "schema_version": 3,
          "solution": false,
          "task": false
        },
        "outputId": "21b50d31-83d6-46cc-c0da-a2423a3a0815"
      }
    },
    {
      "cell_type": "code",
      "source": [],
      "outputs": [],
      "execution_count": null,
      "metadata": {}
    }
  ],
  "metadata": {
    "colab": {
      "collapsed_sections": [],
      "name": "Week6exos.ipynb",
      "provenance": []
    },
    "kernel_info": {
      "name": "python3"
    },
    "kernelspec": {
      "name": "python3",
      "language": "python",
      "display_name": "Python 3"
    },
    "language_info": {
      "name": "python",
      "version": "3.7.3",
      "mimetype": "text/x-python",
      "codemirror_mode": {
        "name": "ipython",
        "version": 3
      },
      "pygments_lexer": "ipython3",
      "nbconvert_exporter": "python",
      "file_extension": ".py"
    },
    "nteract": {
      "version": "0.15.0"
    },
    "toc": {
      "toc_position": {},
      "skip_h1_title": false,
      "number_sections": false,
      "title_cell": "Table of Contents",
      "toc_window_display": false,
      "base_numbering": 1,
      "toc_section_display": false,
      "title_sidebar": "Contents",
      "toc_cell": false,
      "nav_menu": {},
      "sideBar": false
    }
  },
  "nbformat": 4,
  "nbformat_minor": 1
}