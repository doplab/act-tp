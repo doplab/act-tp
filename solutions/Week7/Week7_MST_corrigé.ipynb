{
  "cells": [
    {
      "cell_type": "markdown",
      "source": [
        "## Answers: Minimum Spanning Tree"
      ],
      "metadata": {}
    },
    {
      "cell_type": "code",
      "source": [
        "# Partie B\n",
        "t = [Girdwood, Homer, Talkeenta, Sitka, Gustavus, Skagway]\n",
        "# Reponse illustrée avec code en partie C"
      ],
      "outputs": [],
      "execution_count": null,
      "metadata": {
        "collapsed": false,
        "outputHidden": false,
        "inputHidden": false
      }
    },
    {
      "cell_type": "markdown",
      "source": [
        "## Answers: Kruksal's algorithm"
      ],
      "metadata": {}
    },
    {
      "cell_type": "code",
      "source": [
        "# Partie A\n",
        "num_liens = 5\n",
        "liens = [('A','C'), ('A', 'F'), ('A', 'D'), ('B', 'F'), ('E','F')\n",
        "poids_MST = 20 #somme des poids des liens selectionnés\n",
        "num_steps = 9\n",
        "list_steps = [('A','D'), ('A', 'C'), ('B', 'F'), ('E', 'F'), ('C','D'), ('A', 'F'), ('A', 'B'), ('D', 'F'), ('C', 'E')\n",
        "# C-D, A-B, D-F et C-E pas pris car sinon cycle formé\n",
        "# Réponse illustrée sur image B\n"
      ],
      "outputs": [],
      "execution_count": null,
      "metadata": {
        "collapsed": false,
        "outputHidden": false,
        "inputHidden": false
      }
    },
    {
      "cell_type": "markdown",
      "source": [
        "## Answers: Social Network analysis"
      ],
      "metadata": {}
    },
    {
      "cell_type": "code",
      "source": [
        "# Partie A\n",
        "edge = 'lien amitié'\n",
        "vertice = 'personne'\n",
        "dirige = 'NON'\n",
        "r1 = 'Celui qui a le degrès le plus important'\n",
        "r2 = 'Lien entre ces amis'\n",
        "r3 = 'pas de lien entre ami de mon ami et moi'\n",
        "r4 = 'degrès 0'"
      ],
      "outputs": [],
      "execution_count": null,
      "metadata": {
        "collapsed": false,
        "outputHidden": false,
        "inputHidden": false
      }
    },
    {
      "cell_type": "code",
      "source": [
        "# Partie B\n",
        "solutions = [ '3C', '5E', '2B', '1A']"
      ],
      "outputs": [],
      "execution_count": null,
      "metadata": {
        "collapsed": false,
        "outputHidden": false,
        "inputHidden": false
      }
    }
  ],
  "metadata": {
    "kernel_info": {
      "name": "python3"
    },
    "language_info": {
      "name": "python",
      "version": "3.7.3",
      "mimetype": "text/x-python",
      "codemirror_mode": {
        "name": "ipython",
        "version": 3
      },
      "pygments_lexer": "ipython3",
      "nbconvert_exporter": "python",
      "file_extension": ".py"
    },
    "kernelspec": {
      "name": "python3",
      "language": "python",
      "display_name": "Python 3"
    },
    "nteract": {
      "version": "0.15.0"
    }
  },
  "nbformat": 4,
  "nbformat_minor": 0
}