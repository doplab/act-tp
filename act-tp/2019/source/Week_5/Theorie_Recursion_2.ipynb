{
 "cells": [
  {
   "cell_type": "markdown",
   "metadata": {},
   "source": [
    "#Recursion\n",
    "\n",
    "Le but principal de la récursion est de résoudre un gros problème en le divisant en plusieurs petites parties à résoudre.\n",
    "\n",
    "Pour vous donnez une idée de ce qu'est la récursion, pensez au travail du facteur. Chaque matin, il doit délivrer le courrier à plusieurs maisons. Il a certainement une liste de toutes les maisons du quartier par où il doit passer dans l'ordre. Par conséquent, il se rend devant une maison, pose le courier puis va à la prochaine maison figurant sur sa liste. Ce problème est itératif car nous pouvons l'exprimer avec la boucle for: Pour chaque maison de sa liste, le facteur déposse le courrier. \n"
   ]
  },
  {
   "cell_type": "code",
   "execution_count": 2,
   "metadata": {},
   "outputs": [
    {
     "name": "stdout",
     "output_type": "stream",
     "text": [
      "Courrier délivré à la maison  A\n",
      "Courrier délivré à la maison  B\n",
      "Courrier délivré à la maison  C\n",
      "Courrier délivré à la maison  D\n"
     ]
    }
   ],
   "source": [
    "maisons = [\"A\", \"B\", \"C\", \"D\"]\n",
    "\n",
    "def delivrer_courrier_iteratively():\n",
    "    for maison in maisons:\n",
    "        print(\"Courrier délivré à la maison \", maison)\n",
    "        \n",
    "delivrer_courrier_iteratively()"
   ]
  },
  {
   "cell_type": "markdown",
   "metadata": {},
   "source": [
    "Maintenant, imaginons que des stagiaires viennent aider le facteur à délivrer le courrier. Par conséquent, le facteur peut diviser son travail entre ses stagiaires. Pour ce faire, il attribue tout le travail de livraisons à un seul stagiaire qui doit déléguer son travail à deux autres stagiaires. Ces deux autres stagiaires ayant deux maisons à délivrer peuvent également déléguer leur travail à deux autres nouveaux stagiaires. Ces derniers, n'ayant chacun qu'une seule maison à délivrer doivent effectuer cette tâche chacun de leur côté. Ainsi, le facteur à reçu l'aide de 7 stagiaires: 3 délégateurs et 4 travailleurs. \n",
    "\n",
    "Vous pensez certainement que cette manière de réfléchir est bizarre car vous auriez directement pensez que chaque stagiaire devra délivrer le courrier à une des 4 maisons de la liste. Cependant, ne connaisant pas le nombre de stagiaire travailleurs nécessaires, il est plus simple de commencer par un délégateur et continuez à ajouter des délégateurs jusqu'à ce qu'il ne reste plus que la tâche à faire. \n",
    "\n",
    "L'algorithme récursif suivant donne le même résultat que la fonction `delivrer_courrier_iteratively` mais un poil plus vite. En effet, le courrier est livré plus vite à chaque maison. "
   ]
  },
  {
   "cell_type": "code",
   "execution_count": 3,
   "metadata": {},
   "outputs": [
    {
     "name": "stdout",
     "output_type": "stream",
     "text": [
      "Courrier livré é la maison A\n",
      "Courrier livré é la maison B\n",
      "Courrier livré é la maison C\n",
      "Courrier livré é la maison D\n"
     ]
    }
   ],
   "source": [
    "maisons = [\"A\", \"B\", \"C\", \"D\"]\n",
    "\n",
    "# Each function call represents an elf doing his work \n",
    "def delivrer_courrier_recursively(maisons):\n",
    "    # Stagiaire travailleur livrant\n",
    "    if len(maisons) == 1:\n",
    "        maison = maisons[0]\n",
    "        print(\"Courrier livré à la maison\", maison)\n",
    "\n",
    "    # Stagiaire délégateur divisant sa tâche en deux\n",
    "    else:\n",
    "        mid = len(maisons) // 2\n",
    "        first_half = maisons[:mid]\n",
    "        second_half = maisons[mid:]\n",
    "\n",
    "        # Stagiaire délégateur délégant ses deux parties de tâche à deux autres stagiaires\n",
    "        delivrer_courrier_recursively(first_half)\n",
    "        delivrer_courrier_recursively(second_half)\n",
    "delivrer_courrier_recursively(maisons)"
   ]
  },
  {
   "cell_type": "code",
   "execution_count": null,
   "metadata": {},
   "outputs": [],
   "source": []
  }
 ],
 "metadata": {
  "kernelspec": {
   "display_name": "Python 3",
   "language": "python",
   "name": "python3"
  },
  "language_info": {
   "codemirror_mode": {
    "name": "ipython",
    "version": 3
   },
   "file_extension": ".py",
   "mimetype": "text/x-python",
   "name": "python",
   "nbconvert_exporter": "python",
   "pygments_lexer": "ipython3",
   "version": "3.7.2"
  }
 },
 "nbformat": 4,
 "nbformat_minor": 2
}
