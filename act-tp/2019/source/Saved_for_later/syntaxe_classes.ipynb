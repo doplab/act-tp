{
  "cells": [
    {
      "cell_type": "markdown",
      "metadata": {},
      "source": [
        "# Un peu de syntaxe sur les classes\n",
        "\n",
        "#### Définition d'une classe\n",
        "\n",
        "Pour définir une nouvelle classe, il suffit d'utiliser le mot clé `class`.\n",
        "\n",
        "#### Définition du constructeur\n",
        "\n",
        "Un constructeur est une méthode spéciale utilisée ou appelée pour créer des instances d'une classe, soit des objets. Il crée ou instancie ainsi des attributs. La méthode constructeur est souvent appelée `__init__` et a souvent comme premier paramètre `self`. \n",
        "\n"
      ]
    },
    {
      "cell_type": "code",
      "execution_count": 1,
      "metadata": {
        "collapsed": false,
        "inputHidden": false,
        "outputHidden": false
      },
      "outputs": [],
      "source": [
        "class membresFamille: \n",
        "    def __init__(self): # constructeur\n",
        "        self.nom = \"Markotic\" # valeurs par défaut"
      ]
    },
    {
      "cell_type": "markdown",
      "metadata": {},
      "source": [
        "#### Création d'objet\n",
        "\n",
        "Pour créer un nouvel objet à partir de notre classe, il suffit d'utiliser `nomclasse()`. Ceci fait appel au constructeur de la classe ayant ici comme paramètre `self` qui fait référence à l'objet en train d'être créé. \n",
        "\n",
        "#### Utilisation des attributs\n",
        "\n",
        "Pour utiliser les attributs définis dans le constructeur sur un objet, il suffit d'utiliser `.nomattribut`. \n",
        "\n",
        "#### Changement des attributs par défaut\n",
        "\n",
        "Pour changer la valeur d'un attribut définie dans le constructeur, il suffit d'utiliser `.nomattribut = nouvellevaleur`. \n",
        "\n",
        "--> METHODE FORTEMENT DECONSEILLEE!\n",
        "\n",
        "--> Voir \"Définition d'un constructeur efficace\""
      ]
    },
    {
      "cell_type": "code",
      "execution_count": 2,
      "metadata": {
        "collapsed": false,
        "inputHidden": false,
        "outputHidden": false
      },
      "outputs": [
        {
          "data": {
            "text/plain": [
              "'Markotic'"
            ]
          },
          "execution_count": 2,
          "metadata": {},
          "output_type": "execute_result"
        }
      ],
      "source": [
        "Tanja = membresFamille()\n",
        "Tanja.nom\n"
      ]
    },
    {
      "cell_type": "code",
      "execution_count": null,
      "metadata": {
        "collapsed": false,
        "inputHidden": false,
        "outputHidden": false
      },
      "outputs": [],
      "source": [
        "Tanja.nom = \"Marcotet\""
      ]
    },
    {
      "cell_type": "markdown",
      "metadata": {},
      "source": [
        "### Définition d'un constructeur efficace\n",
        "\n",
        "Afin d'avoir un constructeur qui ne prend pas uniquement des valeurs d'attributs par défaut, il suffit de mettre les **paramètres importants** devant être utilisés pour l'instanciation d'une classe dans le constructeur. \n",
        "\n",
        "Ainsi, il sera possible de créer des nouveaux objets ayant des valeurs d'attributs propres à eux-mêmes. \n",
        "\n",
        "#### Définition de méthodes\n",
        "\n",
        "Les classes ont généralement des méthodes de base que leurs objets peuvent utiliser. "
      ]
    },
    {
      "cell_type": "code",
      "execution_count": 35,
      "metadata": {
        "collapsed": false,
        "inputHidden": false,
        "outputHidden": false
      },
      "outputs": [],
      "source": [
        "class memFam():\n",
        "    np = 0\n",
        "    def __init__(self,prenom,nom):\n",
        "        self.prenom = prenom\n",
        "        self.nom = nom\n",
        "        self.origine = \"suisse\" #paramètre pas important\n",
        "        memFam.np += 1 # nb objets créés\n",
        "    def details(self):\n",
        "        print(\"{0} {1} est d'origine {2}.\".format(self.prenom, self.nom, self.origine))\n",
        "        "
      ]
    },
    {
      "cell_type": "code",
      "execution_count": 36,
      "metadata": {
        "collapsed": false,
        "inputHidden": false,
        "outputHidden": false
      },
      "outputs": [
        {
          "data": {
            "text/plain": [
              "<__main__.memFam at 0x110b4d4a8>"
            ]
          },
          "execution_count": 36,
          "metadata": {},
          "output_type": "execute_result"
        }
      ],
      "source": [
        "Tania = memFam(\"Tania\", \"Marcotet\")\n",
        "Tania"
      ]
    },
    {
      "cell_type": "code",
      "execution_count": 37,
      "metadata": {
        "collapsed": false,
        "inputHidden": false,
        "outputHidden": false
      },
      "outputs": [
        {
          "name": "stdout",
          "output_type": "stream",
          "text": [
            "Tania Marcotet est d'origine suisse.\n",
            "None\n"
          ]
        }
      ],
      "source": [
        "print(Tania.details())"
      ]
    },
    {
      "cell_type": "code",
      "execution_count": 38,
      "metadata": {
        "collapsed": false,
        "inputHidden": false,
        "outputHidden": false
      },
      "outputs": [
        {
          "data": {
            "text/plain": [
              "1"
            ]
          },
          "execution_count": 38,
          "metadata": {},
          "output_type": "execute_result"
        }
      ],
      "source": [
        "memFam.np # connaître nbre total de personnes dans la famille"
      ]
    }
  ],
  "metadata": {
    "kernel_info": {
      "name": "python3"
    },
    "language_info": {
      "name": "python",
      "version": "3.7.3",
      "mimetype": "text/x-python",
      "codemirror_mode": {
        "name": "ipython",
        "version": 3
      },
      "pygments_lexer": "ipython3",
      "nbconvert_exporter": "python",
      "file_extension": ".py"
    },
    "kernelspec": {
      "name": "python3",
      "language": "python",
      "display_name": "Python 3"
    },
    "nteract": {
      "version": "0.15.0"
    }
  },
  "nbformat": 4,
  "nbformat_minor": 0
}