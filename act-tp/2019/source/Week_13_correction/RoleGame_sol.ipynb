{
 "cells": [
  {
   "cell_type": "markdown",
   "metadata": {},
   "source": [
    "\n",
    "## Exercise 2: Role Play\n",
    "### Les personnages\n",
    "\n",
    "Cette semaine nous allons commencer un exercise consistant à implémenter un jeu de rôle avec des personnages.\n",
    "\n",
    "Tout d’abord nous allons commencer par implémenter les classes de bases de nos personnages. Les différents personnages possibles dans notre jeu sont : le Guerrier (« Warrior » ), le Paladin (« Paladin »), le magicien (« Magician ») et le chasseur (« Hunter »). Vous avez appris le concepte d’héritage, dans notre situation celui-ci s’avère très utile car ces différentes classes de personnages posssèdent certains attributs ou actions similaires.\n",
    "\n",
    "Ainsi il semble intéressant de construire une première classe \"Character\" (Personnage). Un personnage est un objet qui possède plusieurs arguments :\n",
    "\n",
    "    name (String) : le nom du personnage\n",
    "    level (int) : le niveau du personnage\n",
    "    pv (int) : les points de vie du personnage\n",
    "    vitality (int) : la vitaité du personnage\n",
    "    strength (int) : la force du personnage\n",
    "    dexterity (int) : la dextérité du personnage\n",
    "    endurance (int) : l’endurance du personnage\n",
    "    intelligence (int) : l’intelligence du personnage\n",
    "\n",
    "• Ces attributs vont nous permmettre de complexifier les différentes actions du jeu. Pour initialiser notre objet, il est important de définir son constructeur. Implémenter le constructeur de la classe « Character » qui prend tout ces attributs en argument.\n",
    "\n",
    "• Java utilise le principe d’encapsulation qui permet de controler l’accessibilité des méthodes, des attributs et des classes. Ainsi les attributs de vos classes doivent être déclarés « private » pour éviter que n’importe qui puisse avoir accès ou modifier ces attributs. Cependant il est essentiel de pouvoir avoir accès à ces valeurs ou de devoir les modifier. Dans la classe « Character » implémenter les getteurs et les setteurs de ces attributs.\n",
    "\n",
    "  Ex : public String getName(){\n",
    "    return name //ou this.name\n",
    "           }\n",
    "\n",
    "• Enfin il peut être intéressant d’afficher les caractéristiques de votre personnage. Implémenter une méthode « getInfo » dans la classe « Character » qui affiche dans la console.\n",
    "\n"
   ]
  },
  {
   "cell_type": "code",
   "execution_count": 1,
   "metadata": {},
   "outputs": [
    {
     "data": {
      "text/plain": [
       "com.twosigma.beaker.javash.bkrf8293482.Character"
      ]
     },
     "execution_count": 1,
     "metadata": {},
     "output_type": "execute_result"
    }
   ],
   "source": [
    "import java.util.Random;\n",
    "\n",
    "public abstract class Character {\n",
    "\n",
    "    private String name;\n",
    "    private int level;\n",
    "    private int pv;\n",
    "\n",
    "    private int vitality;\n",
    "    private int strength;\n",
    "    private int dexterity;\n",
    "    private int endurance;\n",
    "    private int intelligence;\n",
    "\n",
    "    private int posX;\n",
    "    private int posY;\n",
    "\n",
    "\n",
    "    public Character(String name, int level, int pv, int vitality, int strength, int dexterity, int endurance, int intelligence, int posX, int posY){\n",
    "        this.name = name;\n",
    "        this.level = level;\n",
    "        this.pv = pv;\n",
    "\n",
    "        this.vitality = vitality;\n",
    "        this.strength = strength;\n",
    "        this.dexterity = dexterity;\n",
    "        this.endurance = endurance;\n",
    "        this.intelligence = intelligence;\n",
    "\n",
    "        this.posX = posX;\n",
    "        this.posY = posY;\n",
    "\n",
    "\n",
    "\n",
    "    }\n",
    "\n",
    "    public void getInfo() {\n",
    "        System.out.println(\"Name\" + getName());\n",
    "        System.out.println(\"Level\" + getLevel());\n",
    "        System.out.println(\"Vitality\" + getVitality());\n",
    "        System.out.println(\"Strength\" + getStrength());\n",
    "        System.out.println(\"Dexterity\" + getDexterity());\n",
    "        System.out.println(\"Endurance\" + getEndurance());\n",
    "        System.out.println(\"Intelligence\" + getIntelligence());\n",
    "\n",
    "\n",
    "\n",
    "    }\n",
    "\n",
    "\n",
    "    public void act(Character other){\n",
    "        basicAttack(other);\n",
    "    }\n",
    "\n",
    "    public boolean isInGame(){\n",
    "\n",
    "        return pv > 0;\n",
    "    }\n",
    "\n",
    "\n",
    "    public abstract void basicAttack(Character other);\n",
    "    public abstract void specialAttack(Character other);\n",
    "\n",
    "    public String getName() {\n",
    "        return name;\n",
    "    }\n",
    "\n",
    "    public int getIntelligence() {\n",
    "        return intelligence;\n",
    "    }\n",
    "\n",
    "    public int getLevel() {\n",
    "        return level;\n",
    "    }\n",
    "\n",
    "    public int getPv() {\n",
    "        return pv;\n",
    "    }\n",
    "\n",
    "    public int getVitality() {\n",
    "        return vitality;\n",
    "    }\n",
    "\n",
    "    public int getStrength() {\n",
    "        return strength;\n",
    "    }\n",
    "\n",
    "    public int getDexterity() {\n",
    "        return dexterity;\n",
    "    }\n",
    "\n",
    "    public int getEndurance() {\n",
    "        return endurance;\n",
    "    }\n",
    "\n",
    "\n",
    "    public int getPosX() {\n",
    "        return posX;\n",
    "    }\n",
    "\n",
    "    public int getPosY() {\n",
    "        return posY;\n",
    "    }\n",
    "\n",
    "    public void setPv(int pv) {\n",
    "        this.pv = pv > 0 ? pv : 0 ;\n",
    "    }\n",
    "}\n"
   ]
  },
  {
   "cell_type": "markdown",
   "metadata": {},
   "source": [
    "Maintenant implémenter les classes Warrior, Paladin, Magician et Hunter qui héritent de Personnage en écrivant tout d’abord leur constructeur respectif. Pour chacun des personnages, implémenter une méthode « basicAttack » qui prend un autre personnage en argument et ne retourne rien. Celle-ci crée une attaque de votre choix en fonction des caractéristiques des personnages (ex : l’attaque du guerrier dépendra de sa force, l’attaque du chasseur de son endurance etc..). Afficher le nom de celui que vous avez attaqué et ses points de vie restant.\n",
    "\n",
    "Cette method est commune à toutes les sous-classes, doit être déclarée abstraite dans la classe parente \"Character\". Changer la classe character pour qu'elle soit maintenant abstraite avec une méthode abstraite basicAttack():  \n",
    "Indication : utiliser le setteur pour réduire les pv de l’autre personnage."
   ]
  },
  {
   "cell_type": "code",
   "execution_count": 9,
   "metadata": {},
   "outputs": [
    {
     "data": {
      "text/plain": [
       "com.twosigma.beaker.javash.bkrf8293482.Warrior"
      ]
     },
     "execution_count": 9,
     "metadata": {},
     "output_type": "execute_result"
    }
   ],
   "source": [
    "\n",
    "public class Warrior extends Character {\n",
    "\n",
    "\n",
    "    private Axe axe;\n",
    "\n",
    "    public Warrior(String name, int level, int pv,  int vitality, int strength, int dexterity, int endurance, int intelligence, int posX, int posY, Axe axe) {\n",
    "        super(name,  level, pv, vitality,  strength,  dexterity,  endurance,  intelligence, posX, posY);\n",
    "        this.axe = axe;\n",
    "\n",
    "\n",
    "    }\n",
    "\n",
    "\n",
    "    public void basicAttack(Character other){\n",
    "        int attack = (int) (getStrength()*0.5);\n",
    "\n",
    "        other.setPv(other.getVitality()-attack);\n",
    "\n",
    "        System.out.println(this.getName() + \" attack \" + other.getName());\n",
    "        System.out.println(\"Basic attack og : \" + attack);\n",
    "        System.out.println(this.getName() + \" PV:\" + this.getPv());\n",
    "        System.out.println(other.getName() + \" PV:\" + this.getPv());\n",
    "\n",
    "    }\n",
    "\n",
    "\n",
    "    public void specialAttack(Character other) {\n",
    "        int attack = (int) (getStrength()*0.5 + 0.5*axe.specialWeaponDamage(this));\n",
    "        other.setPv(other.getVitality()-attack);\n",
    "\n",
    "        System.out.println(this.getName() + \" attack \" + other.getName());\n",
    "        System.out.println(\"Basic attack og : \" + attack);\n",
    "        System.out.println(this.getName() + \" PV:\" + this.getPv());\n",
    "        System.out.println(other.getName() + \" PV:\" + this.getPv());\n",
    "    }\n",
    "\n",
    "}\n"
   ]
  },
  {
   "cell_type": "code",
   "execution_count": 10,
   "metadata": {},
   "outputs": [
    {
     "data": {
      "text/plain": [
       "com.twosigma.beaker.javash.bkrf8293482.Magician"
      ]
     },
     "execution_count": 10,
     "metadata": {},
     "output_type": "execute_result"
    }
   ],
   "source": [
    "\n",
    "public class Magician extends Character {\n",
    "\n",
    "    private MagicStick stick;\n",
    "\n",
    "    public Magician(String name, int level, int pv, int vitality, int strength, int dexterity, int endurance, int intelligence, int posX, int posY, MagicStick stick) {\n",
    "        super(name,  level, pv, vitality,  strength,  dexterity,  endurance,  intelligence, posX, posY);\n",
    "        this.stick = stick;\n",
    "    }\n",
    "    @Override\n",
    "    public void basicAttack(Character other){\n",
    "        int attack = (int) (getIntelligence()*0.5);\n",
    "\n",
    "        other.setPv(other.getVitality()-attack);\n",
    "\n",
    "        System.out.println(this.getName() + \" attack \" + other.getName());\n",
    "        System.out.println(\"Basic attack og : \" + attack);\n",
    "        System.out.println(this.getName() + \" PV:\" + this.getPv());\n",
    "        System.out.println(other.getName() + \" PV:\" + this.getPv());\n",
    "\n",
    "    }\n",
    "\n",
    "    @Override\n",
    "    public void specialAttack(Character other) {\n",
    "        int attack = (int) (getIntelligence()*0.5 + 0.5*stick.specialWeaponDamage(this));\n",
    "        other.setPv(other.getVitality()-attack);\n",
    "\n",
    "        System.out.println(this.getName() + \" attack \" + other.getName());\n",
    "        System.out.println(\"Basic attack og : \" + attack);\n",
    "        System.out.println(this.getName() + \" PV:\" + this.getPv());\n",
    "        System.out.println(other.getName() + \" PV:\" + this.getPv());\n",
    "\n",
    "    }\n",
    "\n",
    "}\n"
   ]
  },
  {
   "cell_type": "code",
   "execution_count": 11,
   "metadata": {},
   "outputs": [
    {
     "data": {
      "text/plain": [
       "com.twosigma.beaker.javash.bkrf8293482.Paladin"
      ]
     },
     "execution_count": 11,
     "metadata": {},
     "output_type": "execute_result"
    }
   ],
   "source": [
    "\n",
    "public class Paladin extends Character {\n",
    "\n",
    "    private Sword sword;\n",
    "\n",
    "    public Paladin(String name, int level, int pv, int vitality, int strength, int dexterity, int endurance, int intelligence, int posX, int posY, Sword sword) {\n",
    "        super(name,  level, pv,  vitality,  strength,  dexterity,  endurance,  intelligence, posX, posY);\n",
    "        this.sword = sword;\n",
    "    }\n",
    "\n",
    "\n",
    "    @Override\n",
    "    public void basicAttack(Character other){\n",
    "        int attack = (int) (getEndurance()*0.7);\n",
    "\n",
    "        other.setPv(other.getVitality()-attack);\n",
    "\n",
    "        System.out.println(this.getName() + \" attack \" + other.getName());\n",
    "        System.out.println(\"Basic attack og : \" + attack);\n",
    "        System.out.println(this.getName() + \" PV:\" + this.getPv());\n",
    "        System.out.println(other.getName() + \" PV:\" + this.getPv());\n",
    "\n",
    "    }\n",
    "\n",
    "    @Override\n",
    "    public void specialAttack(Character other) {\n",
    "        int attack = (int) (getEndurance()*0.5 + 0.5*sword.specialWeaponDamage(this));\n",
    "        other.setPv(other.getVitality()-attack);\n",
    "\n",
    "        System.out.println(this.getName() + \" attack \" + other.getName());\n",
    "        System.out.println(\"Basic attack og : \" + attack);\n",
    "        System.out.println(this.getName() + \" PV:\" + this.getPv());\n",
    "        System.out.println(other.getName() + \" PV:\" + this.getPv());\n",
    "\n",
    "    }\n",
    "\n",
    "}\n"
   ]
  },
  {
   "cell_type": "code",
   "execution_count": 12,
   "metadata": {},
   "outputs": [
    {
     "data": {
      "text/plain": [
       "com.twosigma.beaker.javash.bkrf8293482.Hunter"
      ]
     },
     "execution_count": 12,
     "metadata": {},
     "output_type": "execute_result"
    }
   ],
   "source": [
    "\n",
    "\n",
    "public class Hunter extends Character {\n",
    "\n",
    "    private Bow bow;\n",
    "\n",
    "    public Hunter(String name, int level, int pv, int vitality, int strength, int dexterity, int endurance, int intelligence, int posX, int posY, Bow bow) {\n",
    "        super(name,  level, pv,  vitality,  strength,  dexterity,  endurance,  intelligence, posX, posY);\n",
    "        this.bow = bow;\n",
    "    }\n",
    "\n",
    "    @Override\n",
    "    public void basicAttack(Character other){\n",
    "        int attack = (int) (getDexterity()*0.5);\n",
    "\n",
    "        other.setPv(other.getVitality()-attack);\n",
    "\n",
    "        System.out.println(this.getName() + \" attack \" + other.getName());\n",
    "        System.out.println(\"Basic attack og : \" + attack);\n",
    "        System.out.println(this.getName() + \" PV:\" + this.getPv());\n",
    "        System.out.println(other.getName() + \" PV:\" + this.getPv());\n",
    "\n",
    "    }\n",
    "\n",
    "    @Override\n",
    "    public void specialAttack(Character other) {\n",
    "\n",
    "        int attack = (int) (getDexterity()*0.5 + 0.5*bow.specialWeaponDamage(this));\n",
    "        other.setPv(other.getVitality()-attack);\n",
    "\n",
    "        System.out.println(this.getName() + \" attack \" + other.getName());\n",
    "        System.out.println(\"Basic attack og : \" + attack);\n",
    "        System.out.println(this.getName() + \" PV:\" + this.getPv());\n",
    "        System.out.println(other.getName() + \" PV:\" + this.getPv());\n",
    "    }\n",
    "\n",
    "}\n"
   ]
  },
  {
   "cell_type": "markdown",
   "metadata": {},
   "source": [
    "### Les armes\n",
    "\n",
    "Chaque type de personnages possède également une arme. Le chasseur un arc (\"Bow\"), le magicien un baton (\"MagicStick\"), le paladin une épée (\"Sword\") et le guerrier une hache (\"Axe\"). Implémenter d'abord une classe parente \"Weapon\" ayant comme attributs:\n",
    "\n",
    "    - damage (int): le dommage causé par l'arme\n",
    "    - robustness (int): état de détèrioration de l'arme\n",
    "    - levelPower (int): niveau necessaire pour pouvoir utiliser le pouvoir de l'arme \n",
    "\n",
    "Implémenter le constructeur de Weapon et les getteurs de ces attributs.\n",
    "\n",
    "Rendre la classe Weapon abstraite et définir la méthode abstraite specialWeaponDamage(Character owner). Cette méthode donne au deteneur ce l'arme, la capacité d'utiliser son attaque speciale. Cependant le personnage ne pourra l'utiliser qu'à partir d'un certain niveau. Ajouter un attribut \"levelPower\", initilaliser le dans le constructeur.\n",
    "\n",
    "Enfin implémenter les 4 sous-classes de Weapon. Chacun d'entre elle devra implémeter la méthode specialWeaponDamage(). Cette methode verifie si le niveau du propriétaire est suffisant et que l'état de l'arme l'est aussi. Dans ce cas l'arme perd en robustesse (5: axe, 2: sword, 1: magicStick, 8: bow)"
   ]
  },
  {
   "cell_type": "code",
   "execution_count": 4,
   "metadata": {},
   "outputs": [
    {
     "data": {
      "text/plain": [
       "com.twosigma.beaker.javash.bkrf8293482.Weapon"
      ]
     },
     "execution_count": 4,
     "metadata": {},
     "output_type": "execute_result"
    }
   ],
   "source": [
    "\n",
    "public abstract class Weapon {\n",
    "\n",
    "    private int damage;\n",
    "    private int robustness;\n",
    "    private int levelPower;\n",
    "    \n",
    "    public Weapon(int damage, int robustness, int levelPower){\n",
    "        this.damage = damage;\n",
    "        this.robustness = robustness;\n",
    "        this.levelPower = levelPower;\n",
    "\n",
    "    }\n",
    "\n",
    "    public int getLevelPower() {\n",
    "        return levelPower;\n",
    "    }\n",
    "\n",
    "    public int getDamage() {\n",
    "        return damage;\n",
    "    }\n",
    "\n",
    "    public int getRobustness() {\n",
    "        return robustness;\n",
    "    }\n",
    "\n",
    "    public void reduceRobustness(int value){\n",
    "        this.robustness -= value;\n",
    "    }\n",
    "\n",
    "    public abstract int specialWeaponDamage( Character owner);\n",
    "\n",
    "\n",
    "\n",
    "}\n"
   ]
  },
  {
   "cell_type": "code",
   "execution_count": 20,
   "metadata": {},
   "outputs": [
    {
     "data": {
      "text/plain": [
       "com.twosigma.beaker.javash.bkrf8293482.Axe"
      ]
     },
     "execution_count": 20,
     "metadata": {},
     "output_type": "execute_result"
    }
   ],
   "source": [
    "public class Axe extends Weapon {\n",
    "\n",
    "    public Axe(int damage, int robustness, int levelPower){\n",
    "        super(damage, robustness, levelPower);\n",
    "\n",
    "    }\n",
    "    /**\n",
    "     * Confer a special dammage attack to the owner if it\n",
    "     * @param owner the weapon owner\n",
    "     * @return  the dammage caused\n",
    "     */\n",
    "    public int specialWeaponDamage(Character owner){\n",
    "        if (getRobustness() > 0 && (owner.getLevel() > getLevelPower())){\n",
    "            reduceRobustness(5);\n",
    "            return getDamage();\n",
    "        } else {\n",
    "            System.out.println(\"Ton hache est trop abimé ou ton niveau est trop bas\");\n",
    "            return 0;\n",
    "        }\n",
    "    }\n",
    "}\n",
    "\n",
    "\n",
    "\n",
    "\n"
   ]
  },
  {
   "cell_type": "code",
   "execution_count": 21,
   "metadata": {},
   "outputs": [
    {
     "data": {
      "text/plain": [
       "com.twosigma.beaker.javash.bkrf8293482.Bow"
      ]
     },
     "execution_count": 21,
     "metadata": {},
     "output_type": "execute_result"
    }
   ],
   "source": [
    "public class Bow extends Weapon{\n",
    "\n",
    "    public Bow(int damage, int robustness, int levelPower){\n",
    "        super(damage, robustness, levelPower);\n",
    "\n",
    "    }\n",
    "\n",
    "    /**\n",
    "     * Confer a special dammage attack to the owner\n",
    "     * @param owner the weapon owner\n",
    "     * @return the dammage caused\n",
    "     */\n",
    "    public int specialWeaponDamage(Character owner){\n",
    "        if (getRobustness() > 0 && (owner.getLevel() > getLevelPower())){\n",
    "            reduceRobustness(8);\n",
    "            return getDamage();\n",
    "        } else {\n",
    "            System.out.println(\"Ton arc est trop abimé ou ton niveau est trop bas\");\n",
    "            return 0;\n",
    "        }\n",
    "    }\n",
    "}\n"
   ]
  },
  {
   "cell_type": "code",
   "execution_count": 22,
   "metadata": {},
   "outputs": [
    {
     "data": {
      "text/plain": [
       "com.twosigma.beaker.javash.bkrf8293482.MagicStick"
      ]
     },
     "execution_count": 22,
     "metadata": {},
     "output_type": "execute_result"
    }
   ],
   "source": [
    "\n",
    "\n",
    "public class MagicStick extends Weapon{\n",
    "\n",
    "    public MagicStick(int damage, int robustness, int levelPower){\n",
    "        super(damage, robustness, levelPower);\n",
    "\n",
    "    }\n",
    "    /**\n",
    "     * Confer a special dammage attack to the owner\n",
    "     * @param owner the weapon owner\n",
    "     * @return  the dammage caused\n",
    "     */\n",
    "    public int specialWeaponDamage(Character owner){\n",
    "        if (getRobustness() > 0 && (owner.getLevel() > getLevelPower())){\n",
    "            reduceRobustness(1);\n",
    "            return getDamage();\n",
    "        } else {\n",
    "            System.out.println(\"Ton baton est trop abimé ou ton niveau est trop bas\");\n",
    "            return 0;\n",
    "        }\n",
    "    }\n",
    "}\n"
   ]
  },
  {
   "cell_type": "code",
   "execution_count": 23,
   "metadata": {},
   "outputs": [
    {
     "data": {
      "text/plain": [
       "com.twosigma.beaker.javash.bkrf8293482.Sword"
      ]
     },
     "execution_count": 23,
     "metadata": {},
     "output_type": "execute_result"
    }
   ],
   "source": [
    "public class Sword extends Weapon{\n",
    "\n",
    "    public Sword(int damage, int robustness, int levelPower){\n",
    "        super(damage, robustness, levelPower);\n",
    "\n",
    "    }\n",
    "\n",
    "    /**\n",
    "     * Confer a special dammage attack to the owner\n",
    "     * @param owner the weapon owner\n",
    "     * @return  the dammage caused\n",
    "     */\n",
    "    public int specialWeaponDamage(Character owner){\n",
    "        if (getRobustness() > 0 && (owner.getLevel() > getLevelPower())){\n",
    "            reduceRobustness(2);\n",
    "            return getDamage();\n",
    "        } else {\n",
    "            System.out.println(\"Ton épée est trop abimé ou ton niveau est trop bas\");\n",
    "            return 0;\n",
    "        }\n",
    "    }\n",
    "}\n"
   ]
  },
  {
   "cell_type": "markdown",
   "metadata": {},
   "source": [
    "### Incorporation de l'arme au personnage\n",
    "\n",
    "Ajouter un attribut dans chacunes des classes de personnages avec leur arme respectif (warrior -> axe, hunter -> bow etc...). Initialiser l'arme grace au constructeur prenant l'arme en argument. \n",
    "\n",
    "Maintenant nous pouvons implémenter une méthode abstraite de Weapon, specialWeaponAttack(Character other). Cette méthode calcule la valeur des dommages d'une attaque en fonction  de la compétence principale du personnage et de l'attaque spéciale de l'arme en fonction des sous-classes."
   ]
  },
  {
   "cell_type": "markdown",
   "metadata": {},
   "source": [
    "### Retour sur character\n",
    "\n",
    "Nous allons rajouter des fonctionnalités aux personnages:\n",
    "\n",
    "    - le personnage va aussi avoir la possibilité de bouger donc on doit lui assisgner une position sur une grille. Ajouter deux attributs posX (int) et posY() a Character, initialisee les dans le constructeur et ajouter les getteurs. Ces attributs représentent la position en abscisse et en ordonné.\n",
    "    \n",
    "    - implémenter une méthode act(), qui appelle soit la basicAttack, soit la specialAttack.\n",
    "    - une méthode isInGame() qui return True si le nombre de pv est positif."
   ]
  },
  {
   "cell_type": "markdown",
   "metadata": {},
   "source": [
    "Grace au programme suivant vous avez à disposition une liste de personnages. Tester vos fonctions grâce à cette liste."
   ]
  },
  {
   "cell_type": "code",
   "execution_count": 24,
   "metadata": {},
   "outputs": [
    {
     "data": {
      "text/plain": [
       "null"
      ]
     },
     "execution_count": 24,
     "metadata": {},
     "output_type": "execute_result"
    }
   ],
   "source": [
    "import java.util.Random;\n",
    "import java.util.ArrayList;\n",
    "\n",
    "ArrayList<Character> players = new ArrayList<>();\n",
    "for (int i = 0; i < 10; i++){\n",
    "    Random r = new Random();\n",
    "    int posX = r.nextInt(900 ) - 1;\n",
    "    int posY = r.nextInt(900 ) - 1;\n",
    "    int characterType =  r.nextInt(3);\n",
    "\n",
    "    switch (characterType){\n",
    "        //Hunter\n",
    "        case 0:\n",
    "            Bow bow = new Bow(50, 100, 1);\n",
    "            players.add( new Hunter(\"Legolas\", 1, 100, 50, 80, 50, 70, 70, posX, posY, bow));\n",
    "            break;\n",
    "        case 1:\n",
    "            MagicStick stick = new MagicStick(50, 100, 1);\n",
    "            players.add( new Magician(\"Gandalf\", 1, 100, 50, 80, 50, 70, 30, posX, posY, stick));\n",
    "            break;\n",
    "        case 2:\n",
    "            Sword sword = new Sword(50, 100, 1);\n",
    "\n",
    "            players.add(new Paladin(\"Aragorn\", 1, 100, 50, 80, 50, 70, 30, posX, posY, sword));\n",
    "            break;\n",
    "        default:\n",
    "            Axe axe = new Axe(50, 100, 1);\n",
    "\n",
    "            players.add(new Warrior(\"Gimli\", 1, 100, 50, 80, 50, 70, 30, posX, posY, axe));\n",
    "            break;\n",
    "\n",
    "    }\n",
    "}\n"
   ]
  },
  {
   "cell_type": "code",
   "execution_count": null,
   "metadata": {},
   "outputs": [],
   "source": []
  }
 ],
 "metadata": {
  "kernelspec": {
   "display_name": "Java",
   "language": "java",
   "name": "java"
  },
  "language_info": {
   "codemirror_mode": "text/x-java",
   "file_extension": ".java",
   "mimetype": "",
   "name": "Java",
   "nbconverter_exporter": "",
   "version": "1.8.0_222"
  }
 },
 "nbformat": 4,
 "nbformat_minor": 2
}
